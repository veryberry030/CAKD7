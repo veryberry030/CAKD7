{
 "cells": [
  {
   "cell_type": "markdown",
   "id": "ebfcfb16",
   "metadata": {},
   "source": [
    "12! 재귀함수"
   ]
  },
  {
   "cell_type": "code",
   "execution_count": 7,
   "id": "34a6d0d2",
   "metadata": {},
   "outputs": [],
   "source": [
    "def factorial(n):\n",
    "    if n == 1 :\n",
    "        return 1\n",
    "    return n * factorial(n-1)\n"
   ]
  },
  {
   "cell_type": "code",
   "execution_count": 8,
   "id": "c40c5a75",
   "metadata": {},
   "outputs": [
    {
     "data": {
      "text/plain": [
       "6"
      ]
     },
     "execution_count": 8,
     "metadata": {},
     "output_type": "execute_result"
    }
   ],
   "source": [
    "factorial(3)"
   ]
  },
  {
   "cell_type": "code",
   "execution_count": 9,
   "id": "da7f6f91",
   "metadata": {},
   "outputs": [],
   "source": [
    "def factorial(n):\n",
    "    if n == 1:      # n이 1일 때\n",
    "        return 1    # 1을 반환하고 재귀호출을 끝냄\n",
    "    return n * factorial(n - 1)    # n과 factorial 함수에 n - 1을 넣어서 반환된 값을 곱함"
   ]
  },
  {
   "cell_type": "code",
   "execution_count": 14,
   "id": "f6b6abc9",
   "metadata": {},
   "outputs": [],
   "source": [
    "def pibo(n):\n",
    "    if n==1 or n==2:\n",
    "        return 1\n",
    "    else:\n",
    "        return pibo(n-2) + pibo(n-1)"
   ]
  },
  {
   "cell_type": "code",
   "execution_count": 15,
   "id": "01fc1f0f",
   "metadata": {},
   "outputs": [
    {
     "data": {
      "text/plain": [
       "5"
      ]
     },
     "execution_count": 15,
     "metadata": {},
     "output_type": "execute_result"
    }
   ],
   "source": [
    "pibo(5)"
   ]
  },
  {
   "cell_type": "markdown",
   "id": "5679a88d",
   "metadata": {},
   "source": [
    "# 09-01"
   ]
  },
  {
   "cell_type": "markdown",
   "id": "475a3224",
   "metadata": {},
   "source": [
    "## Q79.\n",
    "M 이상 N 이하의 소수를 모두 출력하는 프로그램을 작성하세요.\n",
    "- 입력조건\n",
    "  - 첫째 줄에 자연수 M과 N이 빈칸을 사이에 두고 주어진다.(1<=M<=N<=1,000,000)\n",
    "  - 단 M이상 N 이하의 소수가 하나 이상 있는 입력만 주어진다.\n"
   ]
  },
  {
   "cell_type": "code",
   "execution_count": null,
   "id": "de187e1e",
   "metadata": {},
   "outputs": [],
   "source": [
    "def sosu(n):\n",
    "    if n <= 2:\n",
    "        return False\n",
    "    else :\n",
    "        for i in range(2,n):\n",
    "            if n%i == 0:\n",
    "                return False\n",
    "        return True\n",
    "    \n",
    "M,N = map(int,input('숫자 입력 > ').split())\n",
    "\n",
    "li = []\n",
    "if M>N or M<1 or N<1 or N>1000000:\n",
    "    M,N\n",
    "else:\n",
    "    for i in range(M,N):\n",
    "        if sosu(i)== True:\n",
    "            li.append(i)\n",
    "    print(li)"
   ]
  },
  {
   "cell_type": "code",
   "execution_count": null,
   "id": "44e1bb73",
   "metadata": {},
   "outputs": [],
   "source": []
  }
 ],
 "metadata": {
  "kernelspec": {
   "display_name": "Python 3 (ipykernel)",
   "language": "python",
   "name": "python3"
  },
  "language_info": {
   "codemirror_mode": {
    "name": "ipython",
    "version": 3
   },
   "file_extension": ".py",
   "mimetype": "text/x-python",
   "name": "python",
   "nbconvert_exporter": "python",
   "pygments_lexer": "ipython3",
   "version": "3.9.12"
  },
  "toc": {
   "base_numbering": 1,
   "nav_menu": {},
   "number_sections": true,
   "sideBar": true,
   "skip_h1_title": false,
   "title_cell": "Table of Contents",
   "title_sidebar": "Contents",
   "toc_cell": false,
   "toc_position": {},
   "toc_section_display": true,
   "toc_window_display": false
  }
 },
 "nbformat": 4,
 "nbformat_minor": 5
}
