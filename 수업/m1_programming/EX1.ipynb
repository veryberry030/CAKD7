{
 "cells": [
  {
   "cell_type": "markdown",
   "id": "ddcc92e2",
   "metadata": {},
   "source": [
    "#### Q. 남녀 파트너 정해주기 프로그램(zip) \n",
    "같은 수의 남녀 모임에서 파트너를 랜덤하게 정해주는 프로그램을 만들어 보세요\n",
    "\n",
    "male = ['철수','갑돌','로미오','이몽룡','온돌']\n",
    "\n",
    "female = ['미미','갑순','줄리엣','성춘향','평강']\n"
   ]
  },
  {
   "cell_type": "code",
   "execution_count": 28,
   "id": "41dd5851",
   "metadata": {},
   "outputs": [
    {
     "name": "stdout",
     "output_type": "stream",
     "text": [
      "파트너 정해드립니다\n",
      "\n",
      "['온돌'] ❤︎ ['줄리엣']\n",
      "['갑돌'] ❤︎ ['미미']\n",
      "['이몽룡'] ❤︎ ['성춘향']\n",
      "['로미오'] ❤︎ ['평강']\n",
      "['철수'] ❤︎ ['갑순']\n"
     ]
    }
   ],
   "source": [
    "import random \n",
    "import numpy as np\n",
    "\n",
    "male = ['철수','갑돌','로미오','이몽룡','온돌']\n",
    "female = ['미미','갑순','줄리엣','성춘향','평강']\n",
    "\n",
    "print(\"파트너 정해드립니다\"\"\\n\")\n",
    "\n",
    "for i in range(5):\n",
    "    a = np.random.choice(male,1)\n",
    "    b = np.random.choice(female,1)\n",
    "    print(f'{a} ❤︎ {b}')\n",
    "    \n",
    "    male.remove(a)\n",
    "    female.remove(b)\n",
    "\n",
    "\n",
    "    "
   ]
  },
  {
   "cell_type": "code",
   "execution_count": 29,
   "id": "3ad8e113",
   "metadata": {},
   "outputs": [
    {
     "name": "stdout",
     "output_type": "stream",
     "text": [
      "['철수', '로미오', '온돌', '이몽룡', '갑돌']\n",
      "['성춘향', '미미', '평강', '갑순', '줄리엣']\n",
      "커플 1: 철수,성춘향\n",
      "커플 2: 로미오,미미\n",
      "커플 3: 온돌,평강\n",
      "커플 4: 이몽룡,갑순\n",
      "커플 5: 갑돌,줄리엣\n"
     ]
    }
   ],
   "source": [
    "male = ['철수','갑돌','로미오','이몽룡','온돌']\n",
    "female = ['미미','갑순','줄리엣','성춘향','평강']\n",
    "\n",
    "random.shuffle(male)\n",
    "print(male)\n",
    "random.shuffle(female)\n",
    "print(female)\n",
    "\n",
    "couples = zip(male,female)\n",
    "for i, couple in enumerate(couples):\n",
    "    print(f'커플 {i+1}: {couple[0]},{couple[1]}')"
   ]
  },
  {
   "cell_type": "markdown",
   "id": "fa2edded",
   "metadata": {},
   "source": [
    "#### Q2. 사용자가 입력한 횟수만큼 로또 번호를 출력하는 프로그램을 작성하세요.(중복 금지)"
   ]
  },
  {
   "cell_type": "markdown",
   "id": "3eec8b1a",
   "metadata": {},
   "source": [
    "[도전과제] 발표자를 원하는 수 만큼 랜덤하게 출력하는 프로그램을 작성하세요."
   ]
  },
  {
   "cell_type": "code",
   "execution_count": null,
   "id": "93162640",
   "metadata": {},
   "outputs": [],
   "source": [
    "list = ['변서연', '한지웅', '양주희', '이호원','정지은','이정현A','이명진','이상윤','조승현',\n",
    "        '강유한','김영선','최애림','김민섭','박혜린','이정현B','윤정준','김진형','정승기',\n",
    "       '진청아','신창훈','김병석','박세희']\n"
   ]
  },
  {
   "cell_type": "code",
   "execution_count": 13,
   "id": "4bbbafac",
   "metadata": {},
   "outputs": [
    {
     "name": "stdout",
     "output_type": "stream",
     "text": [
      "=============== CAKD7 발표자 랜덤 뽑기 입니다.===============\n",
      "\n",
      " 발표 인원을 입력해주세요 >  \n",
      "25\n",
      " \n",
      "1번 문제 발표자는 김진형 입니다.\n",
      "2번 문제 발표자는 강유한 입니다.\n",
      "3번 문제 발표자는 조승현 입니다.\n",
      "4번 문제 발표자는 박영권 입니다.\n",
      "5번 문제 발표자는 김민섭 입니다.\n",
      "6번 문제 발표자는 이명진 입니다.\n",
      "7번 문제 발표자는 김병석 입니다.\n",
      "8번 문제 발표자는 신창훈 입니다.\n",
      "9번 문제 발표자는 최애림 입니다.\n",
      "10번 문제 발표자는 이정현A 입니다.\n",
      "11번 문제 발표자는 박세희 입니다.\n",
      "12번 문제 발표자는 이상윤 입니다.\n",
      "13번 문제 발표자는 양주희 입니다.\n",
      "14번 문제 발표자는 정승기 입니다.\n",
      "15번 문제 발표자는 김덕현 입니다.\n",
      "16번 문제 발표자는 정지은 입니다.\n",
      "17번 문제 발표자는 진청아 입니다.\n",
      "18번 문제 발표자는 이호원 입니다.\n",
      "19번 문제 발표자는 윤정준 입니다.\n",
      "20번 문제 발표자는 김현지 입니다.\n",
      "21번 문제 발표자는 한지웅 입니다.\n",
      "22번 문제 발표자는 변서연 입니다.\n",
      "23번 문제 발표자는 박혜린 입니다.\n",
      "24번 문제 발표자는 이정현B 입니다.\n",
      "25번 문제 발표자는 김영선 입니다.\n"
     ]
    }
   ],
   "source": [
    "import random \n",
    "import numpy as np\n",
    "\n",
    "\n",
    "list = ['박영권','김현지','김덕현','변서연','한지웅','양주희','이호원','정지은','이정현A',\n",
    "         '이정현B','이명진','이상윤','조승현','강유한','김영선','최애림','김민섭','박혜린',\n",
    "         '윤정준','김진형','정승기','진청아','신창훈','김병석','박세희']\n",
    "\n",
    "\n",
    "\n",
    "print(\"=============== CAKD7 발표자 랜덤 뽑기 입니다.===============\"'\\n')\n",
    "                        \n",
    "get_ran_num = int(input(\" 발표 인원을 입력해주세요 >  \"'\\n')) \n",
    "\n",
    "\n",
    "lucky_guy = random.sample(list,get_ran_num)\n",
    "\n",
    "print(\" \")\n",
    "for i in range(get_ran_num):\n",
    "    print(f'{i+1}번 문제 발표자는 {lucky_guy[i]} 입니다.')\n",
    "\n",
    "\n"
   ]
  },
  {
   "cell_type": "markdown",
   "id": "755d4f78",
   "metadata": {},
   "source": [
    "#### Q.사용자가 입력한 횟수만큼 로또 번호를 출력하는 프로그램을 작성하세요.(중복 금지)"
   ]
  },
  {
   "cell_type": "code",
   "execution_count": 9,
   "id": "7f716ce0",
   "metadata": {},
   "outputs": [
    {
     "name": "stdout",
     "output_type": "stream",
     "text": [
      "로또를 시행할 횟수를 입력해주세요4\n",
      "[6, 27, 23, 38, 41, 37]\n",
      "[42, 32, 34, 23, 15, 4]\n",
      "[45, 12, 29, 44, 2, 33]\n",
      "[29, 41, 17, 7, 27, 6]\n"
     ]
    }
   ],
   "source": [
    "import random\n",
    "\n",
    "user = int(input('로또를 시행할 횟수를 입력해주세요'))\n",
    "\n",
    "i=0\n",
    "\n",
    "while i < user:\n",
    "    lotto = list(range(1,46))\n",
    "    print(random.sample(lotto,6))\n",
    "    i += 1"
   ]
  },
  {
   "cell_type": "markdown",
   "id": "fa16cea4",
   "metadata": {},
   "source": [
    "#### Q3.입력받은 문자열의 각 문자를 그 다음 문자로 변경하여 출력하세요. abc->bca"
   ]
  },
  {
   "cell_type": "code",
   "execution_count": 8,
   "id": "4c1c63fc",
   "metadata": {},
   "outputs": [
    {
     "name": "stdout",
     "output_type": "stream",
     "text": [
      "텍스트를 입력하세요 >vvhj\n",
      "vhjv\n"
     ]
    }
   ],
   "source": [
    "import numpy as np\n",
    "\n",
    "text = input('텍스트를 입력하세요 >')\n",
    "ret = ''\n",
    "for i in range(len(text)):\n",
    "    if i != len(text)-1:\n",
    "        ret += text[i+1]\n",
    "    else:\n",
    "        ret += text[0]\n",
    "print(ret)\n",
    "        \n",
    "# 다른 방법\n",
    "# word = input('텍스트를 입력하세요 >')\n",
    "# print(word[1:]+word[0])"
   ]
  },
  {
   "cell_type": "code",
   "execution_count": 10,
   "id": "a0fd5e81",
   "metadata": {},
   "outputs": [
    {
     "data": {
      "text/plain": [
       "'news.naver.com'"
      ]
     },
     "execution_count": 10,
     "metadata": {},
     "output_type": "execute_result"
    }
   ],
   "source": [
    "# news.naver.com 추출\n",
    "\n",
    "import re\n",
    "\n",
    "url = 'https://news.naver.com/mnews/article/057/0001676870?sid=102'\n",
    "tmp = url.split('/')\n",
    "tmp[2]"
   ]
  },
  {
   "cell_type": "markdown",
   "id": "27e7d6cb",
   "metadata": {},
   "source": [
    "#### Q5. URL 에서 쿼리문을 추출하여 출력하세요."
   ]
  },
  {
   "cell_type": "code",
   "execution_count": 40,
   "id": "e3f04f5d",
   "metadata": {},
   "outputs": [
    {
     "data": {
      "text/plain": [
       "['mode=LSD', 'mid=shm', 'sid1=105', 'oid=028', 'aid=0002334601']"
      ]
     },
     "execution_count": 40,
     "metadata": {},
     "output_type": "execute_result"
    }
   ],
   "source": [
    "# url에서 '?'뒤에 표시되는 문자열을 쿼리 문자열이라고 하며 변수=값 사이 &로 \n",
    "# 구분되어 나열된다. ex) mode=LSD mid=shm\n",
    "url = 'http://news.naver.com/main/read.nhn?mode=LSD&mid=shm&sid1=105&oid=028&aid=0002334601'\n",
    "tmp = url.split('?')\n",
    "a = tmp[1].split('&')\n",
    "a"
   ]
  },
  {
   "cell_type": "markdown",
   "id": "a6dd02f6",
   "metadata": {},
   "source": [
    "#### Q6. 텍스트 파일(mydata.txt)을 읽고  파일의 내용에서 나타나는 문자들에 대해 자주 나타나는 문자들을 아래와 같이 순서대로 출력하세요.\n",
    "- \\[ \\] 백슬래시-> [177]회 나타남\n",
    "- [e] -> [97]회 나타남\n",
    "- [t] -> [85]회 나타남\n"
   ]
  },
  {
   "cell_type": "code",
   "execution_count": 42,
   "id": "24043302",
   "metadata": {},
   "outputs": [
    {
     "name": "stdout",
     "output_type": "stream",
     "text": [
      "[(' ', 177), ('e', 97), ('t', 85), ('a', 78), ('o', 73), ('n', 60), ('s', 60), ('r', 54), ('i', 50), ('h', 48), ('\\n', 43), ('l', 34), ('u', 27), ('d', 24), ('c', 23), ('w', 20), ('m', 20), ('f', 17), ('y', 15), ('p', 15), ('b', 13), ('g', 11), ('v', 9), (\"'\", 8), ('k', 7), ('!', 2)]\n",
      "[ ] - > [177]회 나타남\n",
      "[e] - > [97]회 나타남\n",
      "[t] - > [85]회 나타남\n",
      "[a] - > [78]회 나타남\n",
      "[o] - > [73]회 나타남\n",
      "[n] - > [60]회 나타남\n",
      "[s] - > [60]회 나타남\n",
      "[r] - > [54]회 나타남\n",
      "[i] - > [50]회 나타남\n",
      "[h] - > [48]회 나타남\n",
      "[l] - > [34]회 나타남\n",
      "[u] - > [27]회 나타남\n",
      "[d] - > [24]회 나타남\n",
      "[c] - > [23]회 나타남\n",
      "[w] - > [20]회 나타남\n",
      "[m] - > [20]회 나타남\n",
      "[f] - > [17]회 나타남\n",
      "[y] - > [15]회 나타남\n",
      "[p] - > [15]회 나타남\n",
      "[b] - > [13]회 나타남\n",
      "[g] - > [11]회 나타남\n",
      "[v] - > [9]회 나타남\n",
      "['] - > [8]회 나타남\n",
      "[k] - > [7]회 나타남\n",
      "[!] - > [2]회 나타남\n"
     ]
    }
   ],
   "source": [
    "import pandas as pd\n",
    "import string\n",
    "\n",
    "def getTextFreq(filename):\n",
    "    with open(filename,'r') as f:\n",
    "        text = f.read()\n",
    "        fa = {}\n",
    "        for c in text:\n",
    "            if c in fa:\n",
    "                fa[c] += 1 \n",
    "            else:\n",
    "                fa[c] = 1 # 처음 나오면 카운트 : 1\n",
    "    return fa\n",
    "ret = getTextFreq('./mydata.txt')\n",
    "ret = sorted(ret.items(),key=lambda x:x[1], reverse=True)\n",
    "print(ret)\n",
    "for c, freq in ret:\n",
    "    if c =='\\n':\n",
    "        continue\n",
    "    print('[%c] - > [%d]회 나타남' %(c,freq))\n",
    "\n"
   ]
  },
  {
   "cell_type": "markdown",
   "id": "77de693b",
   "metadata": {},
   "source": [
    "#### Q7. 두 개의 수를 입력한 후 두 개의 수에 대한 사칙연산을 수행하세요.(0을 입력한 경우 다시 입력하도록 조치)\n",
    "- Cal4클래스를 만들어서 작성"
   ]
  },
  {
   "cell_type": "code",
   "execution_count": null,
   "id": "28c892bb",
   "metadata": {},
   "outputs": [],
   "source": []
  },
  {
   "cell_type": "markdown",
   "id": "3935ea5d",
   "metadata": {},
   "source": [
    "#### Q8. Order 클래스를 상속받아 extraOrder 클래스에서 메소드 오버라이딩하여 출력 가격에 '원'이 추가되도록 출력하세요."
   ]
  },
  {
   "cell_type": "code",
   "execution_count": 7,
   "id": "1327aaf1",
   "metadata": {},
   "outputs": [
    {
     "name": "stdout",
     "output_type": "stream",
     "text": [
      "1000\n"
     ]
    }
   ],
   "source": [
    "class Order: \n",
    "    def __init__(self, name): \n",
    "        self.customer = 0 \n",
    "        self.name = name \n",
    "    def order(self, price): \n",
    "        self.customer += price \n",
    "        return self.customer\n",
    "\n",
    "order = Order('kevin')\n",
    "print(order.order(1000))"
   ]
  },
  {
   "cell_type": "code",
   "execution_count": 15,
   "id": "78df5b12",
   "metadata": {},
   "outputs": [
    {
     "name": "stdout",
     "output_type": "stream",
     "text": [
      "kevin님의 주문금액은 1000원 입니다.\n"
     ]
    }
   ],
   "source": [
    "class extraOrder(Order):\n",
    "    def __init__(self, name):\n",
    "        super().__init__(name)\n",
    "        \n",
    "    def order(self, price): \n",
    "        super().order(price)\n",
    "        print(f'{self.name}님의 주문금액은 {self.customer}원 입니다.')\n",
    "    \n",
    "extraorder = extraOrder('kevin')\n",
    "extraorder.order(1000)"
   ]
  },
  {
   "cell_type": "markdown",
   "id": "2795e292",
   "metadata": {},
   "source": [
    "#### Q9. 업무 미팅이 2시임을 알려주는 자동 이메일을 클래스 AutoEmail을 작성하여 아래와 같이 출력하세요.\n",
    "\n",
    "안녕하세요. Kevin님, 업무미팅은 2시입니다."
   ]
  },
  {
   "cell_type": "code",
   "execution_count": 17,
   "id": "a1a5e2d2",
   "metadata": {},
   "outputs": [
    {
     "name": "stdout",
     "output_type": "stream",
     "text": [
      "고갱님, 업무미팅이 진행중입니다.\n"
     ]
    }
   ],
   "source": [
    "import time\n",
    "class AutoEmail:\n",
    "    def __init__(self,name,t):\n",
    "        self.name = name\n",
    "        self.t = t\n",
    "    def alarm(self):\n",
    "        if time.localtime().tm_hour == self.t:\n",
    "            print(f'{self.name}님, 업무미팅이 진행중입니다.')\n",
    "        else:\n",
    "            print(f'안녕하세요 {self.name}님, 업무미팅은 {self.t}시 입니다.')\n",
    "            \n",
    "ae = AutoEmail('고갱',9)\n",
    "ae.alarm()"
   ]
  },
  {
   "cell_type": "markdown",
   "id": "508c20c8",
   "metadata": {},
   "source": [
    "#### Q10.정규표현식을 사용하여 text에서 전화번호만 출력하세요.\n",
    "text = \"문의사항이 있으면 032-232-3245\"으로 연락주시기 바랍니다\""
   ]
  },
  {
   "cell_type": "code",
   "execution_count": 41,
   "id": "60bcadf4",
   "metadata": {},
   "outputs": [
    {
     "name": "stdout",
     "output_type": "stream",
     "text": [
      "['032-232-3245']\n"
     ]
    }
   ],
   "source": [
    "import re\n",
    "\n",
    "text = \"문의사항이 있으면 032-232-3245으로 연락주시기 바랍니다\"\n",
    "p = re.compile(\"[0-9]{3}-[0-9]{3}-[0-9]{4}\")\n",
    "m = p.findall(text)\n",
    "print(m)"
   ]
  },
  {
   "cell_type": "code",
   "execution_count": 1,
   "id": "8e107028",
   "metadata": {},
   "outputs": [
    {
     "name": "stdout",
     "output_type": "stream",
     "text": [
      "<re.Match object; span=(10, 22), match='032-232-3245'>\n"
     ]
    }
   ],
   "source": [
    "import re\n",
    "\n",
    "text = \"문의사항이 있으면 032-232-3245으로 연락주시기 바랍니다\"\n",
    "p = re.compile(\"\\d+-\\d+-\\d+\")\n",
    "m = p.search(text)\n",
    "print(m)"
   ]
  },
  {
   "cell_type": "markdown",
   "id": "9b2bbd0e",
   "metadata": {},
   "source": [
    "#### Q11. 정규표현식을 사용하여 text에서 에러가 들어간 부분만 포함하는 리스트를 출력하세요\n",
    "text = \"에러 1122, 레퍼런스 오류, 에러 1033, 아규먼트 오류, 에러 xxx\""
   ]
  },
  {
   "cell_type": "code",
   "execution_count": 59,
   "id": "51e238c3",
   "metadata": {},
   "outputs": [
    {
     "name": "stdout",
     "output_type": "stream",
     "text": [
      "['에러 1122', '에러 1033', '에러 xxx']\n"
     ]
    }
   ],
   "source": [
    "import re\n",
    "\n",
    "text = \"에러 1122, 레퍼런스 오류, 에러 1033, 아규먼트 오류, 에러 xxx\"\n",
    "\n",
    "p = re.compile(\"[가-힣]{2}\\s[0-9a-zA-Z]+\")\n",
    "m = p.findall(text)\n",
    "print(m)"
   ]
  },
  {
   "cell_type": "markdown",
   "id": "075e5b11",
   "metadata": {},
   "source": [
    "#### Q12. 정규표현식을 사용하여 text에서 지역코드만 출력하세요.\n",
    "text = \"문의사항이 있으면 032-232-3245으로 연락주시기 바랍니다\""
   ]
  },
  {
   "cell_type": "code",
   "execution_count": 78,
   "id": "bc4a99cd",
   "metadata": {},
   "outputs": [
    {
     "name": "stdout",
     "output_type": "stream",
     "text": [
      "[' 032']\n"
     ]
    }
   ],
   "source": [
    "import re\n",
    "\n",
    "text = \"문의사항이 있으면 032-232-3245으로 연락주시기 바랍니다\"\n",
    "p = re.compile(r\"\\s\\d{3}\")\n",
    "m = p.findall(text)\n",
    "print(m)"
   ]
  },
  {
   "cell_type": "markdown",
   "id": "93323016",
   "metadata": {},
   "source": [
    "#### Q13. 정규표현식을 사용하여 text에서 지역코드 제외하고 번호만 출력하세요.\n",
    "text = \"문의사항이 있으면 032-232-3245으로 연락주시기 바랍니다\""
   ]
  },
  {
   "cell_type": "code",
   "execution_count": 72,
   "id": "e5da5e2c",
   "metadata": {},
   "outputs": [
    {
     "name": "stdout",
     "output_type": "stream",
     "text": [
      "['232-3245']\n"
     ]
    }
   ],
   "source": [
    "import re\n",
    "\n",
    "text = \"문의사항이 있으면 032-232-3245으로 연락주시기 바랍니다\"\n",
    "p = re.compile(r\"\\d{3}-\\d{4}\")\n",
    "m = p.findall(text)\n",
    "print(m)"
   ]
  },
  {
   "cell_type": "markdown",
   "id": "8a2c009e",
   "metadata": {},
   "source": [
    "#### Q14.'abcdefghij' 에 대하여 중첩을 적용한 서브그룹 5개로 컴파일하여 group()함수를 이용하여 'abcdefghi'와 e'를 출력하세요\n"
   ]
  },
  {
   "cell_type": "code",
   "execution_count": 91,
   "id": "d0f166f8",
   "metadata": {},
   "outputs": [
    {
     "name": "stdout",
     "output_type": "stream",
     "text": [
      "abcdefghi e\n"
     ]
    }
   ],
   "source": [
    "import re\n",
    "\n",
    "m = re.match('(((ab)(cd(e)fgh)i)j)', 'abcdefghij')\n",
    "print(m.group(2),m.group(5))"
   ]
  },
  {
   "cell_type": "markdown",
   "id": "657014a9",
   "metadata": {},
   "source": [
    "#### Q15. 위 문제에서 모든 서브 그룹에 대한 문자열을 포함하는 튜플을 출력하세요."
   ]
  },
  {
   "cell_type": "code",
   "execution_count": 92,
   "id": "48dbccfd",
   "metadata": {},
   "outputs": [
    {
     "data": {
      "text/plain": [
       "('abcdefghij', 'abcdefghi', 'ab', 'cdefgh', 'e')"
      ]
     },
     "execution_count": 92,
     "metadata": {},
     "output_type": "execute_result"
    }
   ],
   "source": [
    "m.groups()"
   ]
  },
  {
   "cell_type": "markdown",
   "id": "976619b1",
   "metadata": {},
   "source": [
    "#### Q16. 이름으로 그룹을 참조하여 'Lots of punctuation 에서 Lots를 출력하세요.\n"
   ]
  },
  {
   "cell_type": "code",
   "execution_count": 4,
   "id": "7dcd7733",
   "metadata": {},
   "outputs": [
    {
     "name": "stdout",
     "output_type": "stream",
     "text": [
      "Lots\n"
     ]
    }
   ],
   "source": [
    "# 그룹 이름 참조하기 => ?P<그룹이름>\n",
    "import re\n",
    "\n",
    "test=\"Lots of punctuation\"\n",
    "p = re.compile(r\"(?P<func>\\w+)\\s+(?P<func1>\\w+)\")\n",
    "m = p.search(test)\n",
    "print(m.group('func'))"
   ]
  },
  {
   "cell_type": "markdown",
   "id": "0af07de9",
   "metadata": {},
   "source": [
    "#### Q17. 'Paris is very very beautiful.'에서 'very very'를 출력하세요.\n"
   ]
  },
  {
   "cell_type": "code",
   "execution_count": 4,
   "id": "7bfc6c4f",
   "metadata": {},
   "outputs": [
    {
     "name": "stdout",
     "output_type": "stream",
     "text": [
      "['very very']\n"
     ]
    }
   ],
   "source": [
    "import re\n",
    "li = 'Paris is very very beautiful.'\n",
    "regex = re.compile('[a-z]{4}\\s[a-z]{4}')\n",
    "list = regex.findall(li)\n",
    "print(list)"
   ]
  },
  {
   "cell_type": "markdown",
   "id": "86343dff",
   "metadata": {},
   "source": [
    "#### Q18. 정규표현식을 작성하여 아래와 같이 출력하세요.\n",
    "\n",
    "['1 apple', '5 oranges', '3 boys', '4 girls', '10 army', '11 mr']\n"
   ]
  },
  {
   "cell_type": "code",
   "execution_count": 3,
   "id": "23e7721b",
   "metadata": {},
   "outputs": [
    {
     "name": "stdout",
     "output_type": "stream",
     "text": [
      "['1 apple', '5 oranges', '3 boys', '4 girls', '10 army', '11 mr']\n"
     ]
    }
   ],
   "source": [
    "import re\n",
    "li = '1 apple, 5 oranges, 3 boys, 4 girls; 10 army| 11 mr'\n",
    "regex = re.compile('\\d+\\s[a-z]+')\n",
    "list = regex.findall(li)\n",
    "print(list)"
   ]
  },
  {
   "cell_type": "markdown",
   "id": "4fb126b1",
   "metadata": {},
   "source": [
    "#### Q19. text 에서 'H,h'만 출력하세요.\n",
    "text = 'Hello my friend! Life is short you need Python!'\n"
   ]
  },
  {
   "cell_type": "code",
   "execution_count": 11,
   "id": "d84e9d7b",
   "metadata": {},
   "outputs": [
    {
     "name": "stdout",
     "output_type": "stream",
     "text": [
      "['H', 'h', 'h']\n"
     ]
    }
   ],
   "source": [
    "import re\n",
    "text = 'Hello my friend! Life is short you need Python!'\n",
    "regex = re.compile('(H|h)')\n",
    "#regex = re.compile('[Hh]')\n",
    "list = regex.findall(text)\n",
    "print(list)"
   ]
  },
  {
   "cell_type": "markdown",
   "id": "f5b6d988",
   "metadata": {},
   "source": [
    "#### Q20. text 에서 'H,h'가 아닌 것 모두를 출력하세요.\n",
    "text = 'Hello my friend! Life is short you need Python!'"
   ]
  },
  {
   "cell_type": "code",
   "execution_count": 16,
   "id": "ca22d577",
   "metadata": {
    "scrolled": true
   },
   "outputs": [
    {
     "name": "stdout",
     "output_type": "stream",
     "text": [
      "['e', 'l', 'l', 'o', ' ', 'm', 'y', ' ', 'f', 'r', 'i', 'e', 'n', 'd', '!', ' ', 'L', 'i', 'f', 'e', ' ', 'i', 's', ' ', 's', 'o', 'r', 't', ' ', 'y', 'o', 'u', ' ', 'n', 'e', 'e', 'd', ' ', 'P', 'y', 't', 'o', 'n', '!']\n"
     ]
    }
   ],
   "source": [
    "import re\n",
    "text = 'Hello my friend! Life is short you need Python!'\n",
    "regex = re.compile('[^(H|h)]')\n",
    "#regex = re.compile('^[Hh]')\n",
    "list = regex.findall(text)\n",
    "print(list)"
   ]
  },
  {
   "cell_type": "markdown",
   "id": "10208a5c",
   "metadata": {},
   "source": [
    "####  Q.21.'we are going home'에서 home만 출력하세요.\n"
   ]
  },
  {
   "cell_type": "code",
   "execution_count": 3,
   "id": "0de0f67e",
   "metadata": {},
   "outputs": [
    {
     "name": "stdout",
     "output_type": "stream",
     "text": [
      "home\n"
     ]
    }
   ],
   "source": [
    "import re\n",
    "li = 'we are going home'\n",
    "regex = re.compile('\\w+$')\n",
    "list = regex.findall(li)\n",
    "print(list[0])"
   ]
  },
  {
   "cell_type": "markdown",
   "id": "c654e32b",
   "metadata": {},
   "source": [
    "#### Q22. '199305, 1923A, a93247'에서 '199305'만 출력하세요.\n"
   ]
  },
  {
   "cell_type": "code",
   "execution_count": 29,
   "id": "31c52845",
   "metadata": {},
   "outputs": [
    {
     "name": "stdout",
     "output_type": "stream",
     "text": [
      "199305\n"
     ]
    }
   ],
   "source": [
    "import re\n",
    "li = '199305, 1923A, a93247'\n",
    "regex = re.compile('^\\d+')\n",
    "list = regex.findall(li)\n",
    "print(list[0])"
   ]
  },
  {
   "cell_type": "markdown",
   "id": "e6f2c948",
   "metadata": {},
   "source": [
    "#### Q23. '12345abc'에서 'abc'만 출력하세요.\n"
   ]
  },
  {
   "cell_type": "code",
   "execution_count": 28,
   "id": "693da937",
   "metadata": {},
   "outputs": [
    {
     "name": "stdout",
     "output_type": "stream",
     "text": [
      "abc\n"
     ]
    }
   ],
   "source": [
    "import re\n",
    "li = '12345abc'\n",
    "regex = re.compile('[a-z]+')\n",
    "list = regex.findall(li)\n",
    "print(list[0])"
   ]
  },
  {
   "cell_type": "code",
   "execution_count": 4,
   "id": "a8a790bf",
   "metadata": {},
   "outputs": [
    {
     "name": "stdout",
     "output_type": "stream",
     "text": [
      "abc\n"
     ]
    }
   ],
   "source": [
    "li = '12345abc'\n",
    "print(li[5:8])"
   ]
  },
  {
   "cell_type": "code",
   "execution_count": 5,
   "id": "d7d2ed5b",
   "metadata": {},
   "outputs": [
    {
     "data": {
      "text/plain": [
       "'abc'"
      ]
     },
     "execution_count": 5,
     "metadata": {},
     "output_type": "execute_result"
    }
   ],
   "source": [
    "text = '1234abc'\n",
    "m = re.search('\\D+',text)\n",
    "m.group()"
   ]
  },
  {
   "cell_type": "code",
   "execution_count": 7,
   "id": "1bc23ceb",
   "metadata": {},
   "outputs": [
    {
     "data": {
      "text/plain": [
       "'12345'"
      ]
     },
     "execution_count": 7,
     "metadata": {},
     "output_type": "execute_result"
    }
   ],
   "source": [
    "text = '12345abc'\n",
    "m = re.search('\\d+',text)\n",
    "m.group()"
   ]
  },
  {
   "cell_type": "code",
   "execution_count": 12,
   "id": "4989b591",
   "metadata": {},
   "outputs": [
    {
     "data": {
      "text/plain": [
       "'12345'"
      ]
     },
     "execution_count": 12,
     "metadata": {},
     "output_type": "execute_result"
    }
   ],
   "source": [
    "text = '12345abc'\n",
    "re.sub('[^0-9]','',text)"
   ]
  },
  {
   "cell_type": "markdown",
   "id": "b49ea6a8",
   "metadata": {},
   "source": [
    "#### Q24. '12345abc'에서 'a'만 출력하세요.\n"
   ]
  },
  {
   "cell_type": "code",
   "execution_count": 22,
   "id": "81f14f5e",
   "metadata": {},
   "outputs": [
    {
     "name": "stdout",
     "output_type": "stream",
     "text": [
      "a\n"
     ]
    }
   ],
   "source": [
    "import re\n",
    "li = '12345abc'\n",
    "regex = re.compile('[a-z]')\n",
    "list = regex.search(li)\n",
    "print(list[0])"
   ]
  },
  {
   "cell_type": "code",
   "execution_count": 6,
   "id": "e8497598",
   "metadata": {},
   "outputs": [
    {
     "data": {
      "text/plain": [
       "'a'"
      ]
     },
     "execution_count": 6,
     "metadata": {},
     "output_type": "execute_result"
    }
   ],
   "source": [
    "li = '12345abc'\n",
    "m = re.search('[a-z]',li)\n",
    "m.group(0)"
   ]
  },
  {
   "cell_type": "markdown",
   "id": "e13a33a7",
   "metadata": {},
   "source": [
    "#### Q25. 'abc12345Abc'에서 'A'만 출력하세요.\n"
   ]
  },
  {
   "cell_type": "code",
   "execution_count": 23,
   "id": "dd67da86",
   "metadata": {},
   "outputs": [
    {
     "name": "stdout",
     "output_type": "stream",
     "text": [
      "A\n"
     ]
    }
   ],
   "source": [
    "import re\n",
    "li = 'abc12345Abc'\n",
    "regex = re.compile('[A-Z]')\n",
    "list = regex.search(li)\n",
    "print(list[0])"
   ]
  },
  {
   "cell_type": "markdown",
   "id": "8edbac64",
   "metadata": {},
   "source": [
    "# 07-22 과제"
   ]
  },
  {
   "cell_type": "markdown",
   "id": "b333ea31",
   "metadata": {},
   "source": [
    "#### Q26. 'Banker'에서 'anker', 'banker123'에서 'banker'를 출력하세요\n"
   ]
  },
  {
   "cell_type": "code",
   "execution_count": 80,
   "id": "bcba8243",
   "metadata": {},
   "outputs": [
    {
     "data": {
      "text/plain": [
       "'anker'"
      ]
     },
     "execution_count": 80,
     "metadata": {},
     "output_type": "execute_result"
    }
   ],
   "source": [
    "import re\n",
    "li = 'Banker'\n",
    "p = re.search('[a-z]+',li)\n",
    "p.group()"
   ]
  },
  {
   "cell_type": "code",
   "execution_count": 83,
   "id": "0961a2d0",
   "metadata": {},
   "outputs": [
    {
     "data": {
      "text/plain": [
       "'banker'"
      ]
     },
     "execution_count": 83,
     "metadata": {},
     "output_type": "execute_result"
    }
   ],
   "source": [
    "import re\n",
    "li = 'banker123'\n",
    "regex = re.search('[a-z]+',li)\n",
    "regex.group()"
   ]
  },
  {
   "cell_type": "markdown",
   "id": "f59b85fb",
   "metadata": {},
   "source": [
    "#### Q27. 'KOREA 대한민국'에서 '대'만 출력하세요."
   ]
  },
  {
   "cell_type": "code",
   "execution_count": 21,
   "id": "f76ee8e2",
   "metadata": {},
   "outputs": [
    {
     "name": "stdout",
     "output_type": "stream",
     "text": [
      "대\n"
     ]
    }
   ],
   "source": [
    "import re\n",
    "li = 'KOREA 대한민국'\n",
    "regex = re.compile('([A-Z]+)\\s(\\w+)')\n",
    "list = regex.search(li)\n",
    "print(list[2][0])"
   ]
  },
  {
   "cell_type": "markdown",
   "id": "6eab8212",
   "metadata": {},
   "source": [
    "#### Q28. text에서 'aaaaBBBcccDDDeee'을 모두 출력하세요.\n",
    "text = 'aaaBBccDDeeaaaaBBBcccDDDeeeeeeDDDcccBBBaaaa'\n"
   ]
  },
  {
   "cell_type": "code",
   "execution_count": 75,
   "id": "4c1fbd9d",
   "metadata": {},
   "outputs": [
    {
     "name": "stdout",
     "output_type": "stream",
     "text": [
      "aaaaBBBcccDDDeee\n"
     ]
    }
   ],
   "source": [
    "import re\n",
    "text = 'aaaBBccDDeeaaaaBBBcccDDDeeeeeeDDDcccBBBaaaa'\n",
    "t = text[::-1][0:16]\n",
    "print(t)"
   ]
  },
  {
   "cell_type": "code",
   "execution_count": 76,
   "id": "eeda568a",
   "metadata": {},
   "outputs": [
    {
     "data": {
      "text/plain": [
       "'aaaaBBBcccDDDeee'"
      ]
     },
     "execution_count": 76,
     "metadata": {},
     "output_type": "execute_result"
    }
   ],
   "source": [
    "t1 = re.search('a{4}B{3}c{3}D{3}e{3}',text)\n",
    "t1.group()"
   ]
  },
  {
   "cell_type": "markdown",
   "id": "dc7c16f0",
   "metadata": {},
   "source": [
    "#### Q29. 아래의 경우에서 \\<html>만 출력하세요\n",
    "    - NON-GREEDY 방식 사용\n"
   ]
  },
  {
   "cell_type": "code",
   "execution_count": 85,
   "id": "77c12408",
   "metadata": {},
   "outputs": [
    {
     "name": "stdout",
     "output_type": "stream",
     "text": [
      "59\n"
     ]
    },
    {
     "data": {
      "text/plain": [
       "'<html><head><title>Title</title></head><body></body></html>'"
      ]
     },
     "execution_count": 85,
     "metadata": {},
     "output_type": "execute_result"
    }
   ],
   "source": [
    "\n",
    "text = '<html><head><title>Title</title></head><body></body></html>'\n",
    "\n",
    "pattern = re.compile('<.*>')\n",
    "\n",
    "\n",
    "print(len(text))\n",
    "p = pattern.search(text)\n",
    "p.group()\n"
   ]
  },
  {
   "cell_type": "code",
   "execution_count": 87,
   "id": "93d9c8b5",
   "metadata": {},
   "outputs": [
    {
     "data": {
      "text/plain": [
       "'<html>'"
      ]
     },
     "execution_count": 87,
     "metadata": {},
     "output_type": "execute_result"
    }
   ],
   "source": [
    "text = '<html><head><title>Title</title></head><body></body></html>'\n",
    "pattern = re.compile('<.*?>')\n",
    "p = pattern.search(text)\n",
    "p.group()\n"
   ]
  },
  {
   "cell_type": "markdown",
   "id": "40816107",
   "metadata": {},
   "source": [
    "#### Q30. '1234a1234'에서  '1', '2', '3', '4'를 모두 출력하세요.\n"
   ]
  },
  {
   "cell_type": "code",
   "execution_count": 72,
   "id": "eae01b57",
   "metadata": {},
   "outputs": [
    {
     "data": {
      "text/plain": [
       "['1', '2', '3', '4', '1', '2', '3', '4']"
      ]
     },
     "execution_count": 72,
     "metadata": {},
     "output_type": "execute_result"
    }
   ],
   "source": [
    "#nope\n",
    "import re\n",
    "li = '1234a1234'\n",
    "m=re.findall('[^a]',li)\n",
    "m"
   ]
  },
  {
   "cell_type": "markdown",
   "id": "b8cc57dd",
   "metadata": {},
   "source": [
    "# 07-25 과제"
   ]
  },
  {
   "cell_type": "markdown",
   "id": "2ef7e48d",
   "metadata": {},
   "source": [
    "#### Q31. "
   ]
  },
  {
   "cell_type": "markdown",
   "id": "c533c0b3",
   "metadata": {},
   "source": [
    "#### Q32. text에서 전체문장 모두 출력하세요."
   ]
  },
  {
   "cell_type": "code",
   "execution_count": 92,
   "id": "874093f5",
   "metadata": {},
   "outputs": [
    {
     "name": "stdout",
     "output_type": "stream",
     "text": [
      "what are you doing?\n"
     ]
    }
   ],
   "source": [
    "# Q.\n",
    "text = \"what are you doing?\\nit is going to be late for school\\nwe need to hurry up\"\n",
    "regex = re.compile('.*')\n",
    "mo = regex.search(text)\n",
    "print(mo.group())\n"
   ]
  },
  {
   "cell_type": "code",
   "execution_count": 113,
   "id": "2f510ca9",
   "metadata": {},
   "outputs": [
    {
     "name": "stdout",
     "output_type": "stream",
     "text": [
      "what are you doing?\n",
      "it is going to be late for school\n",
      "we need to hurry up\n"
     ]
    }
   ],
   "source": [
    "text = \"what are you doing?\\nit is going to be late for school\\nwe need to hurry up\"\n",
    "regex = re.compile(r'.*\\n.*\\n.*')\n",
    "mo = regex.search(text)\n",
    "print(mo.group())"
   ]
  },
  {
   "cell_type": "code",
   "execution_count": 124,
   "id": "d1c2ce41",
   "metadata": {},
   "outputs": [
    {
     "name": "stdout",
     "output_type": "stream",
     "text": [
      "what are you doing?\n",
      "it is going to be late for school\n",
      "we need to hurry up\n"
     ]
    }
   ],
   "source": [
    "text = \"what are you doing?\\nit is going to be late for school\\nwe need to hurry up\"\n",
    "regex = re.compile('.*',re.DOTALL) # DOTALL : 줄바꿈 문자 포함하여 출력\n",
    "mo = regex.search(text)\n",
    "print(mo.group())\n",
    "#print(regex.findall(text))"
   ]
  },
  {
   "cell_type": "markdown",
   "id": "ef6246de",
   "metadata": {},
   "source": [
    "#### Q33. text에서 대소문자 구분없이 전체문장 모두 출력하세요\n",
    "\n",
    "text = 'Friend fRiend friEnd FRIEND'"
   ]
  },
  {
   "cell_type": "code",
   "execution_count": 4,
   "id": "e3c9e507",
   "metadata": {},
   "outputs": [
    {
     "name": "stdout",
     "output_type": "stream",
     "text": [
      "Friend\n",
      "fRiend\n",
      "friEnd\n",
      "FRIEND\n"
     ]
    }
   ],
   "source": [
    "import re \n",
    "\n",
    "reg = re.findall('friend', 'Friend fRiend friEnd FRIEND',re.IGNORECASE)\n",
    "\n",
    "for groups in reg:\n",
    "    print(groups)\n"
   ]
  },
  {
   "cell_type": "markdown",
   "id": "ad66e12c",
   "metadata": {},
   "source": [
    "#### Q34. 1609160537.371015을 \"Sat Jun 26 08:35:03 2021\" 포멧으로 출력하세요.\n"
   ]
  },
  {
   "cell_type": "code",
   "execution_count": 137,
   "id": "c22f58a2",
   "metadata": {},
   "outputs": [
    {
     "name": "stdout",
     "output_type": "stream",
     "text": [
      "2021-06-26 08:35:03\n"
     ]
    }
   ],
   "source": [
    "#참고용, 날짜 형식 변환해줌\n",
    "from dateutil.parser import parse\n",
    "print(parse('Sat Jun 26 08:35:03 2021'))"
   ]
  },
  {
   "cell_type": "code",
   "execution_count": 150,
   "id": "19640441",
   "metadata": {},
   "outputs": [
    {
     "data": {
      "text/plain": [
       "'Mon Dec 28 22:02:17 2020'"
      ]
     },
     "execution_count": 150,
     "metadata": {},
     "output_type": "execute_result"
    }
   ],
   "source": [
    "from datetime import datetime\n",
    "import time\n",
    "\n",
    "timestring=time.ctime(1609160537.371015)\n",
    "timestring"
   ]
  },
  {
   "cell_type": "code",
   "execution_count": 5,
   "id": "964278cf",
   "metadata": {},
   "outputs": [
    {
     "data": {
      "text/plain": [
       "'Mon Dec 28 22:17:17 2020'"
      ]
     },
     "execution_count": 5,
     "metadata": {},
     "output_type": "execute_result"
    }
   ],
   "source": [
    "from datetime import datetime\n",
    "\n",
    "time = datetime.fromtimestamp(int(1609160537.371015))\n",
    "time = time.strftime(\"%a %b %d %H:%S:%S %Y\")\n",
    "time\n"
   ]
  },
  {
   "cell_type": "markdown",
   "id": "2adbe3a1",
   "metadata": {},
   "source": [
    "#### Q35. 현재 날짜와 시간을 \"Sat Jun 26 08:35:03 2021\" 포멧으로 출력하세요.\n"
   ]
  },
  {
   "cell_type": "code",
   "execution_count": 181,
   "id": "2c9f66cd",
   "metadata": {},
   "outputs": [
    {
     "data": {
      "text/plain": [
       "'Mon Jul 25 16:09:34 2022'"
      ]
     },
     "execution_count": 181,
     "metadata": {},
     "output_type": "execute_result"
    }
   ],
   "source": [
    "now = datetime.now().ctime()\n",
    "now"
   ]
  },
  {
   "cell_type": "markdown",
   "id": "453a7659",
   "metadata": {},
   "source": [
    "ctime() 함수는 주어진 timestamp를 현지 시간대 기준으로 소위 미국에서 흔히 사용되는 요 월 일 시:분:초 년 포멧으로 변환해줍니다. 그냥 간단하게 timestamp가 나타내는 날짜와 시간을 확인해보는 용도로 쓰기에 좋습니다.\n"
   ]
  },
  {
   "cell_type": "markdown",
   "id": "52c3febb",
   "metadata": {},
   "source": [
    "# 07-26 과제"
   ]
  },
  {
   "cell_type": "markdown",
   "id": "cf434046",
   "metadata": {},
   "source": [
    "#### Q36. 현재 시간을 년-월-일 시:분:초로 출력하세요."
   ]
  },
  {
   "cell_type": "code",
   "execution_count": 15,
   "id": "0d937206",
   "metadata": {},
   "outputs": [
    {
     "name": "stdout",
     "output_type": "stream",
     "text": [
      "2022-07-26 09:57:49\n"
     ]
    }
   ],
   "source": [
    "import time\n",
    "from datetime import datetime\n",
    "\n",
    "now = datetime.now()\n",
    "print(now.strftime('%Y-%m-%d %H:%M:%S'))"
   ]
  },
  {
   "cell_type": "markdown",
   "id": "142f06fd",
   "metadata": {},
   "source": [
    "#### Q37. 현재 시간을 time.time을 불러와서 년-월-일 시:분:초로 출력하세요."
   ]
  },
  {
   "cell_type": "code",
   "execution_count": 24,
   "id": "8eda4e5f",
   "metadata": {},
   "outputs": [
    {
     "data": {
      "text/plain": [
       "1658797213.0851793"
      ]
     },
     "execution_count": 24,
     "metadata": {},
     "output_type": "execute_result"
    }
   ],
   "source": [
    "import time\n",
    "from datetime import datetime\n",
    "\n",
    "now = time.time()\n",
    "now"
   ]
  },
  {
   "cell_type": "code",
   "execution_count": 25,
   "id": "12997cb0",
   "metadata": {},
   "outputs": [
    {
     "name": "stdout",
     "output_type": "stream",
     "text": [
      "2022-07-26 10:00:13\n"
     ]
    }
   ],
   "source": [
    "t = datetime.fromtimestamp(now)\n",
    "print(t.strftime('%Y-%m-%d %H:%M:%S'))"
   ]
  },
  {
   "cell_type": "markdown",
   "id": "d58054ba",
   "metadata": {},
   "source": [
    "#### Q38. 올해 경과된 날짜수 계산하세요"
   ]
  },
  {
   "cell_type": "code",
   "execution_count": 28,
   "id": "533c3b17",
   "metadata": {},
   "outputs": [
    {
     "name": "stdout",
     "output_type": "stream",
     "text": [
      "올해로부터 경과된 일 :  207\n"
     ]
    }
   ],
   "source": [
    "import time\n",
    "from datetime import datetime\n",
    "\n",
    "now = time\n",
    "print(\"올해로부터 경과된 일 : \", now.localtime().tm_yday)"
   ]
  },
  {
   "cell_type": "code",
   "execution_count": 33,
   "id": "e2ae6076",
   "metadata": {},
   "outputs": [
    {
     "name": "stdout",
     "output_type": "stream",
     "text": [
      "현재 : 2022-07-26 10:35:49.226365\n",
      "비교할 날짜 : 2021-12-31 00:00:00\n",
      "차이 : 207 days, 10:35:49.226365\n"
     ]
    }
   ],
   "source": [
    "from datetime import datetime\n",
    "\n",
    "now  = datetime.now()\n",
    "print(\"현재 :\", now)\n",
    "\n",
    "date_to_compare = datetime.strptime(\"20211231\", \"%Y%m%d\")\n",
    "print(\"비교할 날짜 :\", date_to_compare)\n",
    "\n",
    "date_diff = now - date_to_compare\n",
    "print(\"차이 :\", date_diff)"
   ]
  },
  {
   "cell_type": "markdown",
   "id": "6939ae1a",
   "metadata": {},
   "source": [
    "#### Q39. 현재 요일을 \"2021-6-26 오늘은 토요일입니다.\"와 같은 형식으로 출력하세요."
   ]
  },
  {
   "cell_type": "code",
   "execution_count": 56,
   "id": "f62b63ef",
   "metadata": {},
   "outputs": [
    {
     "name": "stdout",
     "output_type": "stream",
     "text": [
      "2022-07-26 오늘은 화요일입니다.\n"
     ]
    }
   ],
   "source": [
    "from datetime import datetime\n",
    "\n",
    "now  = datetime.now()\n",
    "\n",
    "a = now.strftime('%Y-%m-%d')\n",
    "\n",
    "days = ['월요일', '화요일', '수요일', '목요일', '금요일', '토요일', '일요일']\n",
    "day = now.weekday()\n",
    "#print(days[day])\n",
    "\n",
    "b = days[day]\n",
    "\n",
    "print(f'{a} 오늘은 {b}입니다.')"
   ]
  },
  {
   "cell_type": "markdown",
   "id": "0b344187",
   "metadata": {},
   "source": [
    "#### Q40. 1에서 백만까지 더하는데 걸리는 프로그램 실행 시간을 밀리초(ms) 단위로 구하세요."
   ]
  },
  {
   "cell_type": "code",
   "execution_count": 62,
   "id": "56e317b3",
   "metadata": {},
   "outputs": [
    {
     "name": "stdout",
     "output_type": "stream",
     "text": [
      "0.00063 ms\n"
     ]
    }
   ],
   "source": [
    "import time\n",
    "\n",
    "start = time.time()\n",
    "for i in range(1000001):\n",
    "    i += 1\n",
    "end = time.time()\n",
    "\n",
    "result = (end - start) * 0.01\n",
    "\n",
    "print(f\"{result:.5f} ms\")\n"
   ]
  },
  {
   "cell_type": "markdown",
   "id": "f34052a2",
   "metadata": {},
   "source": [
    "### 07-27 과제"
   ]
  },
  {
   "cell_type": "markdown",
   "id": "5b2b71bb",
   "metadata": {},
   "source": [
    "#### Q41. 아래 코드를 보완하여 발생 가능한 모든 예외(정수, 인덱스, 미리 파악하지 못한 예외)를 처리한 후 마지막에  '모든 예외처리 완료'를 출력하세요.\n"
   ]
  },
  {
   "cell_type": "code",
   "execution_count": null,
   "id": "05964b95",
   "metadata": {},
   "outputs": [],
   "source": [
    "list_num = [52,273,32,72,100]\n",
    "\n",
    "num_input = int(input('정수 입력> '))\n",
    "print(f'{num_input}번째 요소: {list_num[num_input-1]}')\n"
   ]
  },
  {
   "cell_type": "markdown",
   "id": "c6f289c7",
   "metadata": {},
   "source": [
    "#### Q42. 기본가격 1000원인 2개의 상품에 대하여 임의의 추가 가격을 입력시 가격 조정한 결과를 반환하는 Price 클래스를 생성 후 객체를 만들어 price1, price2를 수행하세요. \n",
    "- price1 : 기본가격 + 추가가격\n",
    "- price2 : (기본가격 + 추가가격) * 90%\n"
   ]
  },
  {
   "cell_type": "markdown",
   "id": "f4189546",
   "metadata": {},
   "source": [
    "#### Q43. strings를 문자의 크기 순서로 내림차순 정렬하세요\n"
   ]
  },
  {
   "cell_type": "code",
   "execution_count": null,
   "id": "6cebf6c8",
   "metadata": {},
   "outputs": [],
   "source": [
    "strings = ['a', 'ca', 'bar', 'aaaa', 'ababa']"
   ]
  },
  {
   "cell_type": "markdown",
   "id": "11c98723",
   "metadata": {},
   "source": [
    "#### Q44. strings를 다양한 문자가 포함된 순서로 정렬하세요\n"
   ]
  },
  {
   "cell_type": "code",
   "execution_count": null,
   "id": "72ff4a80",
   "metadata": {},
   "outputs": [],
   "source": [
    "strings = ['foo', 'card', 'bar', 'aaaa', 'abab']\n",
    "strings.sort(key = lambda x:len(set(x)))\n",
    "strings\n"
   ]
  },
  {
   "cell_type": "markdown",
   "id": "4075c784",
   "metadata": {},
   "source": [
    "#### Q45. 'abcde' 를 'edcba'로 바꾸어 출력하세요.(5가지 방법)"
   ]
  },
  {
   "cell_type": "code",
   "execution_count": null,
   "id": "215aa76b",
   "metadata": {},
   "outputs": [],
   "source": []
  },
  {
   "cell_type": "code",
   "execution_count": null,
   "id": "0ce16a94",
   "metadata": {},
   "outputs": [],
   "source": []
  }
 ],
 "metadata": {
  "kernelspec": {
   "display_name": "Python 3 (ipykernel)",
   "language": "python",
   "name": "python3"
  },
  "language_info": {
   "codemirror_mode": {
    "name": "ipython",
    "version": 3
   },
   "file_extension": ".py",
   "mimetype": "text/x-python",
   "name": "python",
   "nbconvert_exporter": "python",
   "pygments_lexer": "ipython3",
   "version": "3.8.13"
  }
 },
 "nbformat": 4,
 "nbformat_minor": 5
}
