{
 "cells": [
  {
   "cell_type": "markdown",
   "id": "0fb9d23f",
   "metadata": {
    "id": "f8ce18cc"
   },
   "source": [
    "### Q file1, 2의 파일 크기를 각각 구하세요.\n",
    "\n",
    "- file1 = 'stockcode.txt'\n",
    "- file2 = 'img_sample.jpg'"
   ]
  },
  {
   "cell_type": "code",
   "execution_count": 3,
   "id": "18ea8051",
   "metadata": {
    "scrolled": true
   },
   "outputs": [
    {
     "name": "stdout",
     "output_type": "stream",
     "text": [
      "16339 170005\n",
      "16339 170005\n",
      "16339 170005\n"
     ]
    }
   ],
   "source": [
    "import os\n",
    "\n",
    "print(os.stat('stockcode.txt').st_size, os.stat('img_sample.jpg').st_size)\n",
    "\n",
    "with open('stockcode.txt','r') as f:\n",
    "    f.seek(0, 2)\n",
    "    at = f.tell()\n",
    "with open('img_sample.jpg','r') as f:\n",
    "    f.seek(0, 2)\n",
    "    bt = f.tell()\n",
    "print(at , bt)\n",
    "\n",
    "print(os.path.getsize('stockcode.txt'), os.path.getsize('img_sample.jpg'))"
   ]
  },
  {
   "cell_type": "markdown",
   "id": "5ac587ae",
   "metadata": {
    "id": "4a9599e2"
   },
   "source": [
    "### Q stockcode.txt의 105바이트 위치에서 500바이트를 읽어 그 내용은 stock_part.txt에 저장 한 후 출력하세요.\n"
   ]
  },
  {
   "cell_type": "code",
   "execution_count": 12,
   "id": "88bd4aeb",
   "metadata": {
    "scrolled": false
   },
   "outputs": [
    {
     "name": "stdout",
     "output_type": "stream",
     "text": [
      " 유한양행\n",
      "000101 유한양행우\n",
      "000120 대한통운\n",
      "000140 하이트홀딩스\n",
      "000141 하이트홀딩스우\n",
      "000150 두산\n",
      "000151 두산우\n",
      "000152 두산2우B\n",
      "000180 성창기업지주\n",
      "000210 대림산업\n",
      "000211 대림산업우\n",
      "000220 유유제약\n",
      "000221 유유제약1우\n",
      "000222 유유제약2우B\n",
      "000230 일동제약\n",
      "000240 한국타이어\n",
      "000270 기아차\n",
      "000300 대유신소재\n",
      "000320 디피아이홀딩스\n",
      "000321 디피아이홀딩스우\n",
      "000322 디피아이홀딩스2B\n",
      "000360 삼환기업\n",
      "000361 삼환기업우\n",
      "000370 한화손해보험\n",
      "000390 삼화페인트\n",
      "000400 롯데손해보험\n",
      "000420 로\n"
     ]
    },
    {
     "data": {
      "text/plain": [
       "500"
      ]
     },
     "execution_count": 12,
     "metadata": {},
     "output_type": "execute_result"
    }
   ],
   "source": [
    "with open('stockcode.txt','rb') as f:\n",
    "    f.seek(105,0)\n",
    "    body = f.read(500)\n",
    "with open('stock_part.txt', 'wb') as f:\n",
    "    f.write(body)\n",
    "with open('stock_part.txt', 'r') as f:\n",
    "    print(f.read())\n",
    "os.path.getsize('stock_part.txt')"
   ]
  }
 ],
 "metadata": {
  "kernelspec": {
   "display_name": "Python 3 (ipykernel)",
   "language": "python",
   "name": "python3"
  },
  "language_info": {
   "codemirror_mode": {
    "name": "ipython",
    "version": 3
   },
   "file_extension": ".py",
   "mimetype": "text/x-python",
   "name": "python",
   "nbconvert_exporter": "python",
   "pygments_lexer": "ipython3",
   "version": "3.8.13"
  },
  "toc": {
   "base_numbering": 1,
   "nav_menu": {},
   "number_sections": true,
   "sideBar": true,
   "skip_h1_title": false,
   "title_cell": "Table of Contents",
   "title_sidebar": "Contents",
   "toc_cell": false,
   "toc_position": {},
   "toc_section_display": true,
   "toc_window_display": false
  }
 },
 "nbformat": 4,
 "nbformat_minor": 5
}
