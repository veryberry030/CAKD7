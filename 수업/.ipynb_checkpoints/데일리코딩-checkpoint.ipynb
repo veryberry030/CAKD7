{
 "cells": [
  {
   "cell_type": "markdown",
   "id": "ddcc92e2",
   "metadata": {},
   "source": [
    "### Q. 남녀 파트너 정해주기 프로그램(zip) \n",
    "같은 수의 남녀 모임에서 파트너를 랜덤하게 정해주는 프로그램을 만들어 보세요\n",
    "\n",
    "male = ['철수','갑돌','로미오','이몽룡','온돌']\n",
    "\n",
    "female = ['미미','갑순','줄리엣','성춘향','평강']\n"
   ]
  },
  {
   "cell_type": "code",
   "execution_count": 28,
   "id": "41dd5851",
   "metadata": {},
   "outputs": [
    {
     "name": "stdout",
     "output_type": "stream",
     "text": [
      "파트너 정해드립니다\n",
      "\n",
      "['온돌'] ❤︎ ['줄리엣']\n",
      "['갑돌'] ❤︎ ['미미']\n",
      "['이몽룡'] ❤︎ ['성춘향']\n",
      "['로미오'] ❤︎ ['평강']\n",
      "['철수'] ❤︎ ['갑순']\n"
     ]
    }
   ],
   "source": [
    "import random \n",
    "import numpy as np\n",
    "\n",
    "male = ['철수','갑돌','로미오','이몽룡','온돌']\n",
    "female = ['미미','갑순','줄리엣','성춘향','평강']\n",
    "\n",
    "print(\"파트너 정해드립니다\"\"\\n\")\n",
    "\n",
    "for i in range(5):\n",
    "    a = np.random.choice(male,1)\n",
    "    b = np.random.choice(female,1)\n",
    "    print(f'{a} ❤︎ {b}')\n",
    "    \n",
    "    male.remove(a)\n",
    "    female.remove(b)\n",
    "\n",
    "\n",
    "    "
   ]
  },
  {
   "cell_type": "code",
   "execution_count": 29,
   "id": "3ad8e113",
   "metadata": {},
   "outputs": [
    {
     "name": "stdout",
     "output_type": "stream",
     "text": [
      "['철수', '로미오', '온돌', '이몽룡', '갑돌']\n",
      "['성춘향', '미미', '평강', '갑순', '줄리엣']\n",
      "커플 1: 철수,성춘향\n",
      "커플 2: 로미오,미미\n",
      "커플 3: 온돌,평강\n",
      "커플 4: 이몽룡,갑순\n",
      "커플 5: 갑돌,줄리엣\n"
     ]
    }
   ],
   "source": [
    "male = ['철수','갑돌','로미오','이몽룡','온돌']\n",
    "female = ['미미','갑순','줄리엣','성춘향','평강']\n",
    "\n",
    "random.shuffle(male)\n",
    "print(male)\n",
    "random.shuffle(female)\n",
    "print(female)\n",
    "\n",
    "couples = zip(male,female)\n",
    "for i, couple in enumerate(couples):\n",
    "    print(f'커플 {i+1}: {couple[0]},{couple[1]}')"
   ]
  },
  {
   "cell_type": "markdown",
   "id": "fa2edded",
   "metadata": {},
   "source": [
    "#### Q2. 사용자가 입력한 횟수만큼 로또 번호를 출력하는 프로그램을 작성하세요.(중복 금지)"
   ]
  },
  {
   "cell_type": "markdown",
   "id": "3eec8b1a",
   "metadata": {},
   "source": [
    "[도전과제] 발표자를 원하는 수 만큼 랜덤하게 출력하는 프로그램을 작성하세요."
   ]
  },
  {
   "cell_type": "code",
   "execution_count": null,
   "id": "93162640",
   "metadata": {},
   "outputs": [],
   "source": [
    "list = ['변서연', '한지웅', '양주희', '이호원','정지은','이정현A','이명진','이상윤','조승현',\n",
    "        '강유한','김영선','최애림','김민섭','박혜린','이정현B','윤정준','김진형','정승기',\n",
    "       '진청아','신창훈','김병석','박세희']\n"
   ]
  },
  {
   "cell_type": "code",
   "execution_count": 6,
   "id": "4bbbafac",
   "metadata": {},
   "outputs": [
    {
     "name": "stdout",
     "output_type": "stream",
     "text": [
      "=============== CAKD7 발표자 랜덤 뽑기 입니다.===============\n",
      "\n",
      " 발표 인원을 입력해주세요 >  \n",
      "10\n",
      " \n",
      "1번 문제 발표자는 진청아 입니다.\n",
      "2번 문제 발표자는 이정현B 입니다.\n",
      "3번 문제 발표자는 박세희 입니다.\n",
      "4번 문제 발표자는 양주희 입니다.\n",
      "5번 문제 발표자는 최애림 입니다.\n",
      "6번 문제 발표자는 이명진 입니다.\n",
      "7번 문제 발표자는 강유한 입니다.\n",
      "8번 문제 발표자는 김병석 입니다.\n",
      "9번 문제 발표자는 김민섭 입니다.\n",
      "10번 문제 발표자는 김덕현 입니다.\n"
     ]
    }
   ],
   "source": [
    "import random \n",
    "import numpy as np\n",
    "\n",
    "\n",
    "list = ['박영권','김현지','김덕현','변서연','한지웅','양주희','이호원','정지은','이정현A',\n",
    "         '이정현B','이명진','이상윤','조승현','강유한','김영선','최애림','김민섭','박혜린',\n",
    "         '윤정준','김진형','진청아','신창훈','김병석','박세희']\n",
    "\n",
    "\n",
    "\n",
    "print(\"=============== CAKD7 발표자 랜덤 뽑기 입니다.===============\"'\\n')\n",
    "                        \n",
    "get_ran_num = int(input(\" 발표 인원을 입력해주세요 >  \"'\\n')) \n",
    "\n",
    "\n",
    "lucky_guy = random.sample(list,get_ran_num)\n",
    "\n",
    "print(\" \")\n",
    "for i in range(get_ran_num):\n",
    "    print(f'{i+1}번 문제 발표자는 {lucky_guy[i]} 입니다.')\n",
    "\n",
    "\n"
   ]
  },
  {
   "cell_type": "markdown",
   "id": "755d4f78",
   "metadata": {},
   "source": [
    "#### Q.사용자가 입력한 횟수만큼 로또 번호를 출력하는 프로그램을 작성하세요.(중복 금지)"
   ]
  },
  {
   "cell_type": "code",
   "execution_count": 9,
   "id": "7f716ce0",
   "metadata": {},
   "outputs": [
    {
     "name": "stdout",
     "output_type": "stream",
     "text": [
      "로또를 시행할 횟수를 입력해주세요4\n",
      "[6, 27, 23, 38, 41, 37]\n",
      "[42, 32, 34, 23, 15, 4]\n",
      "[45, 12, 29, 44, 2, 33]\n",
      "[29, 41, 17, 7, 27, 6]\n"
     ]
    }
   ],
   "source": [
    "import random\n",
    "\n",
    "user = int(input('로또를 시행할 횟수를 입력해주세요'))\n",
    "\n",
    "i=0\n",
    "\n",
    "while i < user:\n",
    "    lotto = list(range(1,46))\n",
    "    print(random.sample(lotto,6))\n",
    "    i += 1"
   ]
  },
  {
   "cell_type": "markdown",
   "id": "fa16cea4",
   "metadata": {},
   "source": [
    "#### Q3.입력받은 문자열의 각 문자를 그 다음 문자로 변경하여 출력하세요. abc->bca"
   ]
  },
  {
   "cell_type": "code",
   "execution_count": 8,
   "id": "4c1c63fc",
   "metadata": {},
   "outputs": [
    {
     "name": "stdout",
     "output_type": "stream",
     "text": [
      "텍스트를 입력하세요 >vvhj\n",
      "vhjv\n"
     ]
    }
   ],
   "source": [
    "import numpy as np\n",
    "\n",
    "text = input('텍스트를 입력하세요 >')\n",
    "ret = ''\n",
    "for i in range(len(text)):\n",
    "    if i != len(text)-1:\n",
    "        ret += text[i+1]\n",
    "    else:\n",
    "        ret += text[0]\n",
    "print(ret)\n",
    "        \n",
    "# 다른 방법\n",
    "# word = input('텍스트를 입력하세요 >')\n",
    "# print(word[1:]+word[0])"
   ]
  },
  {
   "cell_type": "code",
   "execution_count": 10,
   "id": "a0fd5e81",
   "metadata": {},
   "outputs": [
    {
     "data": {
      "text/plain": [
       "'news.naver.com'"
      ]
     },
     "execution_count": 10,
     "metadata": {},
     "output_type": "execute_result"
    }
   ],
   "source": [
    "# news.naver.com 추출\n",
    "\n",
    "import re\n",
    "\n",
    "url = 'https://news.naver.com/mnews/article/057/0001676870?sid=102'\n",
    "tmp = url.split('/')\n",
    "tmp[2]"
   ]
  },
  {
   "cell_type": "markdown",
   "id": "27e7d6cb",
   "metadata": {},
   "source": [
    "#### Q5. URL 에서 쿼리문을 추출하여 출력하세요."
   ]
  },
  {
   "cell_type": "code",
   "execution_count": 40,
   "id": "e3f04f5d",
   "metadata": {},
   "outputs": [
    {
     "data": {
      "text/plain": [
       "['mode=LSD', 'mid=shm', 'sid1=105', 'oid=028', 'aid=0002334601']"
      ]
     },
     "execution_count": 40,
     "metadata": {},
     "output_type": "execute_result"
    }
   ],
   "source": [
    "# url에서 '?'뒤에 표시되는 문자열을 쿼리 문자열이라고 하며 변수=값 사이 &로 \n",
    "# 구분되어 나열된다. ex) mode=LSD mid=shm\n",
    "url = 'http://news.naver.com/main/read.nhn?mode=LSD&mid=shm&sid1=105&oid=028&aid=0002334601'\n",
    "tmp = url.split('?')\n",
    "a = tmp[1].split('&')\n",
    "a"
   ]
  },
  {
   "cell_type": "markdown",
   "id": "a6dd02f6",
   "metadata": {},
   "source": [
    "#### Q6. 텍스트 파일(mydata.txt)을 읽고  파일의 내용에서 나타나는 문자들에 대해 자주 나타나는 문자들을 아래와 같이 순서대로 출력하세요.\n",
    "- \\[ \\] 백슬래시-> [177]회 나타남\n",
    "- [e] -> [97]회 나타남\n",
    "- [t] -> [85]회 나타남\n"
   ]
  },
  {
   "cell_type": "code",
   "execution_count": 42,
   "id": "24043302",
   "metadata": {},
   "outputs": [
    {
     "name": "stdout",
     "output_type": "stream",
     "text": [
      "[(' ', 177), ('e', 97), ('t', 85), ('a', 78), ('o', 73), ('n', 60), ('s', 60), ('r', 54), ('i', 50), ('h', 48), ('\\n', 43), ('l', 34), ('u', 27), ('d', 24), ('c', 23), ('w', 20), ('m', 20), ('f', 17), ('y', 15), ('p', 15), ('b', 13), ('g', 11), ('v', 9), (\"'\", 8), ('k', 7), ('!', 2)]\n",
      "[ ] - > [177]회 나타남\n",
      "[e] - > [97]회 나타남\n",
      "[t] - > [85]회 나타남\n",
      "[a] - > [78]회 나타남\n",
      "[o] - > [73]회 나타남\n",
      "[n] - > [60]회 나타남\n",
      "[s] - > [60]회 나타남\n",
      "[r] - > [54]회 나타남\n",
      "[i] - > [50]회 나타남\n",
      "[h] - > [48]회 나타남\n",
      "[l] - > [34]회 나타남\n",
      "[u] - > [27]회 나타남\n",
      "[d] - > [24]회 나타남\n",
      "[c] - > [23]회 나타남\n",
      "[w] - > [20]회 나타남\n",
      "[m] - > [20]회 나타남\n",
      "[f] - > [17]회 나타남\n",
      "[y] - > [15]회 나타남\n",
      "[p] - > [15]회 나타남\n",
      "[b] - > [13]회 나타남\n",
      "[g] - > [11]회 나타남\n",
      "[v] - > [9]회 나타남\n",
      "['] - > [8]회 나타남\n",
      "[k] - > [7]회 나타남\n",
      "[!] - > [2]회 나타남\n"
     ]
    }
   ],
   "source": [
    "import pandas as pd\n",
    "import string\n",
    "\n",
    "def getTextFreq(filename):\n",
    "    with open(filename,'r') as f:\n",
    "        text = f.read()\n",
    "        fa = {}\n",
    "        for c in text:\n",
    "            if c in fa:\n",
    "                fa[c] += 1 \n",
    "            else:\n",
    "                fa[c] = 1 # 처음 나오면 카운트 : 1\n",
    "    return fa\n",
    "ret = getTextFreq('./mydata.txt')\n",
    "ret = sorted(ret.items(),key=lambda x:x[1], reverse=True)\n",
    "print(ret)\n",
    "for c, freq in ret:\n",
    "    if c =='\\n':\n",
    "        continue\n",
    "    print('[%c] - > [%d]회 나타남' %(c,freq))\n",
    "\n"
   ]
  },
  {
   "cell_type": "markdown",
   "id": "77de693b",
   "metadata": {},
   "source": [
    "#### Q7. 두 개의 수를 입력한 후 두 개의 수에 대한 사칙연산을 수행하세요.(0을 입력한 경우 다시 입력하도록 조치)\n",
    "- Cal4클래스를 만들어서 작성"
   ]
  },
  {
   "cell_type": "code",
   "execution_count": null,
   "id": "28c892bb",
   "metadata": {},
   "outputs": [],
   "source": []
  },
  {
   "cell_type": "markdown",
   "id": "3935ea5d",
   "metadata": {},
   "source": [
    "#### Q8. Order 클래스를 상속받아 extraOrder 클래스에서 메소드 오버라이딩하여 출력 가격에 '원'이 추가되도록 출력하세요."
   ]
  },
  {
   "cell_type": "code",
   "execution_count": 7,
   "id": "1327aaf1",
   "metadata": {},
   "outputs": [
    {
     "name": "stdout",
     "output_type": "stream",
     "text": [
      "1000\n"
     ]
    }
   ],
   "source": [
    "class Order: \n",
    "    def __init__(self, name): \n",
    "        self.customer = 0 \n",
    "        self.name = name \n",
    "    def order(self, price): \n",
    "        self.customer += price \n",
    "        return self.customer\n",
    "\n",
    "order = Order('kevin')\n",
    "print(order.order(1000))"
   ]
  },
  {
   "cell_type": "code",
   "execution_count": 15,
   "id": "78df5b12",
   "metadata": {},
   "outputs": [
    {
     "name": "stdout",
     "output_type": "stream",
     "text": [
      "kevin님의 주문금액은 1000원 입니다.\n"
     ]
    }
   ],
   "source": [
    "class extraOrder(Order):\n",
    "    def __init__(self, name):\n",
    "        super().__init__(name)\n",
    "        \n",
    "    def order(self, price): \n",
    "        super().order(price)\n",
    "        print(f'{self.name}님의 주문금액은 {self.customer}원 입니다.')\n",
    "    \n",
    "extraorder = extraOrder('kevin')\n",
    "extraorder.order(1000)"
   ]
  },
  {
   "cell_type": "markdown",
   "id": "2795e292",
   "metadata": {},
   "source": [
    "#### Q9. 업무 미팅이 2시임을 알려주는 자동 이메일을 클래스 AutoEmail을 작성하여 아래와 같이 출력하세요.\n",
    "\n",
    "안녕하세요. Kevin님, 업무미팅은 2시입니다."
   ]
  },
  {
   "cell_type": "code",
   "execution_count": 17,
   "id": "a1a5e2d2",
   "metadata": {},
   "outputs": [
    {
     "name": "stdout",
     "output_type": "stream",
     "text": [
      "고갱님, 업무미팅이 진행중입니다.\n"
     ]
    }
   ],
   "source": [
    "import time\n",
    "class AutoEmail:\n",
    "    def __init__(self,name,t):\n",
    "        self.name = name\n",
    "        self.t = t\n",
    "    def alarm(self):\n",
    "        if time.localtime().tm_hour == self.t:\n",
    "            print(f'{self.name}님, 업무미팅이 진행중입니다.')\n",
    "        else:\n",
    "            print(f'안녕하세요 {self.name}님, 업무미팅은 {self.t}시 입니다.')\n",
    "            \n",
    "ae = AutoEmail('고갱',9)\n",
    "ae.alarm()"
   ]
  },
  {
   "cell_type": "markdown",
   "id": "508c20c8",
   "metadata": {},
   "source": [
    "#### Q10.정규표현식을 사용하여 text에서 전화번호만 출력하세요.\n",
    "text = \"문의사항이 있으면 032-232-3245\"으로 연락주시기 바랍니다\""
   ]
  },
  {
   "cell_type": "code",
   "execution_count": 41,
   "id": "60bcadf4",
   "metadata": {},
   "outputs": [
    {
     "name": "stdout",
     "output_type": "stream",
     "text": [
      "['032-232-3245']\n"
     ]
    }
   ],
   "source": [
    "import re\n",
    "\n",
    "text = \"문의사항이 있으면 032-232-3245으로 연락주시기 바랍니다\"\n",
    "p = re.compile(\"[0-9]{3}-[0-9]{3}-[0-9]{4}\")\n",
    "m = p.findall(text)\n",
    "print(m)"
   ]
  },
  {
   "cell_type": "code",
   "execution_count": 1,
   "id": "8e107028",
   "metadata": {},
   "outputs": [
    {
     "name": "stdout",
     "output_type": "stream",
     "text": [
      "<re.Match object; span=(10, 22), match='032-232-3245'>\n"
     ]
    }
   ],
   "source": [
    "import re\n",
    "\n",
    "text = \"문의사항이 있으면 032-232-3245으로 연락주시기 바랍니다\"\n",
    "p = re.compile(\"\\d+-\\d+-\\d+\")\n",
    "m = p.search(text)\n",
    "print(m)"
   ]
  },
  {
   "cell_type": "markdown",
   "id": "9b2bbd0e",
   "metadata": {},
   "source": [
    "#### Q11. 정규표현식을 사용하여 text에서 에러가 들어간 부분만 포함하는 리스트를 출력하세요\n",
    "text = \"에러 1122, 레퍼런스 오류, 에러 1033, 아규먼트 오류, 에러 xxx\""
   ]
  },
  {
   "cell_type": "code",
   "execution_count": 59,
   "id": "51e238c3",
   "metadata": {},
   "outputs": [
    {
     "name": "stdout",
     "output_type": "stream",
     "text": [
      "['에러 1122', '에러 1033', '에러 xxx']\n"
     ]
    }
   ],
   "source": [
    "import re\n",
    "\n",
    "text = \"에러 1122, 레퍼런스 오류, 에러 1033, 아규먼트 오류, 에러 xxx\"\n",
    "\n",
    "p = re.compile(\"[가-힣]{2}\\s[0-9a-zA-Z]+\")\n",
    "m = p.findall(text)\n",
    "print(m)"
   ]
  },
  {
   "cell_type": "markdown",
   "id": "075e5b11",
   "metadata": {},
   "source": [
    "#### Q12. 정규표현식을 사용하여 text에서 지역코드만 출력하세요.\n",
    "text = \"문의사항이 있으면 032-232-3245으로 연락주시기 바랍니다\""
   ]
  },
  {
   "cell_type": "code",
   "execution_count": 78,
   "id": "bc4a99cd",
   "metadata": {},
   "outputs": [
    {
     "name": "stdout",
     "output_type": "stream",
     "text": [
      "[' 032']\n"
     ]
    }
   ],
   "source": [
    "import re\n",
    "\n",
    "text = \"문의사항이 있으면 032-232-3245으로 연락주시기 바랍니다\"\n",
    "p = re.compile(r\"\\s\\d{3}\")\n",
    "m = p.findall(text)\n",
    "print(m)"
   ]
  },
  {
   "cell_type": "markdown",
   "id": "93323016",
   "metadata": {},
   "source": [
    "#### Q13. 정규표현식을 사용하여 text에서 지역코드 제외하고 번호만 출력하세요.\n",
    "text = \"문의사항이 있으면 032-232-3245으로 연락주시기 바랍니다\""
   ]
  },
  {
   "cell_type": "code",
   "execution_count": 72,
   "id": "e5da5e2c",
   "metadata": {},
   "outputs": [
    {
     "name": "stdout",
     "output_type": "stream",
     "text": [
      "['232-3245']\n"
     ]
    }
   ],
   "source": [
    "import re\n",
    "\n",
    "text = \"문의사항이 있으면 032-232-3245으로 연락주시기 바랍니다\"\n",
    "p = re.compile(r\"\\d{3}-\\d{4}\")\n",
    "m = p.findall(text)\n",
    "print(m)"
   ]
  },
  {
   "cell_type": "markdown",
   "id": "8a2c009e",
   "metadata": {},
   "source": [
    "#### Q14.'abcdefghij' 에 대하여 중첩을 적용한 서브그룹 5개로 컴파일하여 group()함수를 이용하여 'abcdefghi'와 e'를 출력하세요\n"
   ]
  },
  {
   "cell_type": "code",
   "execution_count": 91,
   "id": "d0f166f8",
   "metadata": {},
   "outputs": [
    {
     "name": "stdout",
     "output_type": "stream",
     "text": [
      "abcdefghi e\n"
     ]
    }
   ],
   "source": [
    "import re\n",
    "\n",
    "m = re.match('(((ab)(cd(e)fgh)i)j)', 'abcdefghij')\n",
    "print(m.group(2),m.group(5))"
   ]
  },
  {
   "cell_type": "markdown",
   "id": "657014a9",
   "metadata": {},
   "source": [
    "#### Q15. 위 문제에서 모든 서브 그룹에 대한 문자열을 포함하는 튜플을 출력하세요."
   ]
  },
  {
   "cell_type": "code",
   "execution_count": 92,
   "id": "48dbccfd",
   "metadata": {},
   "outputs": [
    {
     "data": {
      "text/plain": [
       "('abcdefghij', 'abcdefghi', 'ab', 'cdefgh', 'e')"
      ]
     },
     "execution_count": 92,
     "metadata": {},
     "output_type": "execute_result"
    }
   ],
   "source": [
    "m.groups()"
   ]
  },
  {
   "cell_type": "markdown",
   "id": "976619b1",
   "metadata": {},
   "source": [
    "#### Q16. 이름으로 그룹을 참조하여 'Lots of punctuation 에서 Lots를 출력하세요.\n"
   ]
  },
  {
   "cell_type": "code",
   "execution_count": 4,
   "id": "7dcd7733",
   "metadata": {},
   "outputs": [
    {
     "name": "stdout",
     "output_type": "stream",
     "text": [
      "Lots\n"
     ]
    }
   ],
   "source": [
    "# 그룹 이름 참조하기 => ?P<그룹이름>\n",
    "import re\n",
    "\n",
    "test=\"Lots of punctuation\"\n",
    "p = re.compile(r\"(?P<func>\\w+)\\s+(?P<func1>\\w+)\")\n",
    "m = p.search(test)\n",
    "print(m.group('func'))"
   ]
  },
  {
   "cell_type": "markdown",
   "id": "0af07de9",
   "metadata": {},
   "source": [
    "#### Q17. 'Paris is very very beautiful.'에서 'very very'를 출력하세요.\n"
   ]
  },
  {
   "cell_type": "code",
   "execution_count": 4,
   "id": "7bfc6c4f",
   "metadata": {},
   "outputs": [
    {
     "name": "stdout",
     "output_type": "stream",
     "text": [
      "['very very']\n"
     ]
    }
   ],
   "source": [
    "import re\n",
    "li = 'Paris is very very beautiful.'\n",
    "regex = re.compile('[a-z]{4}\\s[a-z]{4}')\n",
    "list = regex.findall(li)\n",
    "print(list)"
   ]
  },
  {
   "cell_type": "markdown",
   "id": "86343dff",
   "metadata": {},
   "source": [
    "#### Q18. 정규표현식을 작성하여 아래와 같이 출력하세요.\n",
    "\n",
    "['1 apple', '5 oranges', '3 boys', '4 girls', '10 army', '11 mr']\n"
   ]
  },
  {
   "cell_type": "code",
   "execution_count": 3,
   "id": "23e7721b",
   "metadata": {},
   "outputs": [
    {
     "name": "stdout",
     "output_type": "stream",
     "text": [
      "['1 apple', '5 oranges', '3 boys', '4 girls', '10 army', '11 mr']\n"
     ]
    }
   ],
   "source": [
    "import re\n",
    "li = '1 apple, 5 oranges, 3 boys, 4 girls; 10 army| 11 mr'\n",
    "regex = re.compile('\\d+\\s[a-z]+')\n",
    "list = regex.findall(li)\n",
    "print(list)"
   ]
  },
  {
   "cell_type": "markdown",
   "id": "4fb126b1",
   "metadata": {},
   "source": [
    "#### Q19. text 에서 'H,h'만 출력하세요.\n",
    "text = 'Hello my friend! Life is short you need Python!'\n"
   ]
  },
  {
   "cell_type": "code",
   "execution_count": 11,
   "id": "d84e9d7b",
   "metadata": {},
   "outputs": [
    {
     "name": "stdout",
     "output_type": "stream",
     "text": [
      "['H', 'h', 'h']\n"
     ]
    }
   ],
   "source": [
    "import re\n",
    "text = 'Hello my friend! Life is short you need Python!'\n",
    "regex = re.compile('(H|h)')\n",
    "#regex = re.compile('[Hh]')\n",
    "list = regex.findall(text)\n",
    "print(list)"
   ]
  },
  {
   "cell_type": "markdown",
   "id": "f5b6d988",
   "metadata": {},
   "source": [
    "#### Q20. text 에서 'H,h'가 아닌 것 모두를 출력하세요.\n",
    "text = 'Hello my friend! Life is short you need Python!'"
   ]
  },
  {
   "cell_type": "code",
   "execution_count": 16,
   "id": "ca22d577",
   "metadata": {
    "scrolled": true
   },
   "outputs": [
    {
     "name": "stdout",
     "output_type": "stream",
     "text": [
      "['e', 'l', 'l', 'o', ' ', 'm', 'y', ' ', 'f', 'r', 'i', 'e', 'n', 'd', '!', ' ', 'L', 'i', 'f', 'e', ' ', 'i', 's', ' ', 's', 'o', 'r', 't', ' ', 'y', 'o', 'u', ' ', 'n', 'e', 'e', 'd', ' ', 'P', 'y', 't', 'o', 'n', '!']\n"
     ]
    }
   ],
   "source": [
    "import re\n",
    "text = 'Hello my friend! Life is short you need Python!'\n",
    "regex = re.compile('[^(H|h)]')\n",
    "#regex = re.compile('^[Hh]')\n",
    "list = regex.findall(text)\n",
    "print(list)"
   ]
  },
  {
   "cell_type": "markdown",
   "id": "10208a5c",
   "metadata": {},
   "source": [
    "####  Q.21.'we are going home'에서 home만 출력하세요.\n"
   ]
  },
  {
   "cell_type": "code",
   "execution_count": 3,
   "id": "0de0f67e",
   "metadata": {},
   "outputs": [
    {
     "name": "stdout",
     "output_type": "stream",
     "text": [
      "home\n"
     ]
    }
   ],
   "source": [
    "import re\n",
    "li = 'we are going home'\n",
    "regex = re.compile('\\w+$')\n",
    "list = regex.findall(li)\n",
    "print(list[0])"
   ]
  },
  {
   "cell_type": "markdown",
   "id": "c654e32b",
   "metadata": {},
   "source": [
    "#### Q22. '199305, 1923A, a93247'에서 '199305'만 출력하세요.\n"
   ]
  },
  {
   "cell_type": "code",
   "execution_count": 29,
   "id": "31c52845",
   "metadata": {},
   "outputs": [
    {
     "name": "stdout",
     "output_type": "stream",
     "text": [
      "199305\n"
     ]
    }
   ],
   "source": [
    "import re\n",
    "li = '199305, 1923A, a93247'\n",
    "regex = re.compile('^\\d+')\n",
    "list = regex.findall(li)\n",
    "print(list[0])"
   ]
  },
  {
   "cell_type": "markdown",
   "id": "e6f2c948",
   "metadata": {},
   "source": [
    "#### Q23. '12345abc'에서 'abc'만 출력하세요.\n"
   ]
  },
  {
   "cell_type": "code",
   "execution_count": 28,
   "id": "693da937",
   "metadata": {},
   "outputs": [
    {
     "name": "stdout",
     "output_type": "stream",
     "text": [
      "abc\n"
     ]
    }
   ],
   "source": [
    "import re\n",
    "li = '12345abc'\n",
    "regex = re.compile('[a-z]+')\n",
    "list = regex.findall(li)\n",
    "print(list[0])"
   ]
  },
  {
   "cell_type": "code",
   "execution_count": 4,
   "id": "a8a790bf",
   "metadata": {},
   "outputs": [
    {
     "name": "stdout",
     "output_type": "stream",
     "text": [
      "abc\n"
     ]
    }
   ],
   "source": [
    "li = '12345abc'\n",
    "print(li[5:8])"
   ]
  },
  {
   "cell_type": "code",
   "execution_count": 5,
   "id": "d7d2ed5b",
   "metadata": {},
   "outputs": [
    {
     "data": {
      "text/plain": [
       "'abc'"
      ]
     },
     "execution_count": 5,
     "metadata": {},
     "output_type": "execute_result"
    }
   ],
   "source": [
    "text = '1234abc'\n",
    "m = re.search('\\D+',text)\n",
    "m.group()"
   ]
  },
  {
   "cell_type": "code",
   "execution_count": 7,
   "id": "1bc23ceb",
   "metadata": {},
   "outputs": [
    {
     "data": {
      "text/plain": [
       "'12345'"
      ]
     },
     "execution_count": 7,
     "metadata": {},
     "output_type": "execute_result"
    }
   ],
   "source": [
    "text = '12345abc'\n",
    "m = re.search('\\d+',text)\n",
    "m.group()"
   ]
  },
  {
   "cell_type": "code",
   "execution_count": 12,
   "id": "4989b591",
   "metadata": {},
   "outputs": [
    {
     "data": {
      "text/plain": [
       "'12345'"
      ]
     },
     "execution_count": 12,
     "metadata": {},
     "output_type": "execute_result"
    }
   ],
   "source": [
    "text = '12345abc'\n",
    "re.sub('[^0-9]','',text)"
   ]
  },
  {
   "cell_type": "markdown",
   "id": "b49ea6a8",
   "metadata": {},
   "source": [
    "#### Q24. '12345abc'에서 'a'만 출력하세요.\n"
   ]
  },
  {
   "cell_type": "code",
   "execution_count": 22,
   "id": "81f14f5e",
   "metadata": {},
   "outputs": [
    {
     "name": "stdout",
     "output_type": "stream",
     "text": [
      "a\n"
     ]
    }
   ],
   "source": [
    "import re\n",
    "li = '12345abc'\n",
    "regex = re.compile('[a-z]')\n",
    "list = regex.search(li)\n",
    "print(list[0])"
   ]
  },
  {
   "cell_type": "code",
   "execution_count": 6,
   "id": "e8497598",
   "metadata": {},
   "outputs": [
    {
     "data": {
      "text/plain": [
       "'a'"
      ]
     },
     "execution_count": 6,
     "metadata": {},
     "output_type": "execute_result"
    }
   ],
   "source": [
    "li = '12345abc'\n",
    "m = re.search('[a-z]',li)\n",
    "m.group(0)"
   ]
  },
  {
   "cell_type": "markdown",
   "id": "e13a33a7",
   "metadata": {},
   "source": [
    "#### Q25. 'abc12345Abc'에서 'A'만 출력하세요.\n"
   ]
  },
  {
   "cell_type": "code",
   "execution_count": 23,
   "id": "dd67da86",
   "metadata": {},
   "outputs": [
    {
     "name": "stdout",
     "output_type": "stream",
     "text": [
      "A\n"
     ]
    }
   ],
   "source": [
    "import re\n",
    "li = 'abc12345Abc'\n",
    "regex = re.compile('[A-Z]')\n",
    "list = regex.search(li)\n",
    "print(list[0])"
   ]
  },
  {
   "cell_type": "markdown",
   "id": "8edbac64",
   "metadata": {},
   "source": [
    "# 07-22 과제"
   ]
  },
  {
   "cell_type": "markdown",
   "id": "b333ea31",
   "metadata": {},
   "source": [
    "#### Q26. 'Banker'에서 'anker', 'banker123'에서 'banker'를 출력하세요\n"
   ]
  },
  {
   "cell_type": "code",
   "execution_count": 80,
   "id": "bcba8243",
   "metadata": {},
   "outputs": [
    {
     "data": {
      "text/plain": [
       "'anker'"
      ]
     },
     "execution_count": 80,
     "metadata": {},
     "output_type": "execute_result"
    }
   ],
   "source": [
    "import re\n",
    "li = 'Banker'\n",
    "p = re.search('[a-z]+',li)\n",
    "p.group()"
   ]
  },
  {
   "cell_type": "code",
   "execution_count": 83,
   "id": "0961a2d0",
   "metadata": {},
   "outputs": [
    {
     "data": {
      "text/plain": [
       "'banker'"
      ]
     },
     "execution_count": 83,
     "metadata": {},
     "output_type": "execute_result"
    }
   ],
   "source": [
    "import re\n",
    "li = 'banker123'\n",
    "regex = re.search('[a-z]+',li)\n",
    "regex.group()"
   ]
  },
  {
   "cell_type": "markdown",
   "id": "f59b85fb",
   "metadata": {},
   "source": [
    "#### Q27. 'KOREA 대한민국'에서 '대'만 출력하세요."
   ]
  },
  {
   "cell_type": "code",
   "execution_count": 21,
   "id": "f76ee8e2",
   "metadata": {},
   "outputs": [
    {
     "name": "stdout",
     "output_type": "stream",
     "text": [
      "대\n"
     ]
    }
   ],
   "source": [
    "import re\n",
    "li = 'KOREA 대한민국'\n",
    "regex = re.compile('([A-Z]+)\\s(\\w+)')\n",
    "list = regex.search(li)\n",
    "print(list[2][0])"
   ]
  },
  {
   "cell_type": "markdown",
   "id": "6eab8212",
   "metadata": {},
   "source": [
    "#### Q28. text에서 'aaaaBBBcccDDDeee'을 모두 출력하세요.\n",
    "text = 'aaaBBccDDeeaaaaBBBcccDDDeeeeeeDDDcccBBBaaaa'\n"
   ]
  },
  {
   "cell_type": "code",
   "execution_count": 75,
   "id": "4c1fbd9d",
   "metadata": {},
   "outputs": [
    {
     "name": "stdout",
     "output_type": "stream",
     "text": [
      "aaaaBBBcccDDDeee\n"
     ]
    }
   ],
   "source": [
    "import re\n",
    "text = 'aaaBBccDDeeaaaaBBBcccDDDeeeeeeDDDcccBBBaaaa'\n",
    "t = text[::-1][0:16]\n",
    "print(t)"
   ]
  },
  {
   "cell_type": "code",
   "execution_count": 76,
   "id": "eeda568a",
   "metadata": {},
   "outputs": [
    {
     "data": {
      "text/plain": [
       "'aaaaBBBcccDDDeee'"
      ]
     },
     "execution_count": 76,
     "metadata": {},
     "output_type": "execute_result"
    }
   ],
   "source": [
    "t1 = re.search('a{4}B{3}c{3}D{3}e{3}',text)\n",
    "t1.group()"
   ]
  },
  {
   "cell_type": "markdown",
   "id": "dc7c16f0",
   "metadata": {},
   "source": [
    "#### Q29. 아래의 경우에서 \\<html>만 출력하세요\n",
    "    - NON-GREEDY 방식 사용\n"
   ]
  },
  {
   "cell_type": "code",
   "execution_count": 85,
   "id": "77c12408",
   "metadata": {},
   "outputs": [
    {
     "name": "stdout",
     "output_type": "stream",
     "text": [
      "59\n"
     ]
    },
    {
     "data": {
      "text/plain": [
       "'<html><head><title>Title</title></head><body></body></html>'"
      ]
     },
     "execution_count": 85,
     "metadata": {},
     "output_type": "execute_result"
    }
   ],
   "source": [
    "\n",
    "text = '<html><head><title>Title</title></head><body></body></html>'\n",
    "\n",
    "pattern = re.compile('<.*>')\n",
    "\n",
    "\n",
    "print(len(text))\n",
    "p = pattern.search(text)\n",
    "p.group()\n"
   ]
  },
  {
   "cell_type": "code",
   "execution_count": 87,
   "id": "93d9c8b5",
   "metadata": {},
   "outputs": [
    {
     "data": {
      "text/plain": [
       "'<html>'"
      ]
     },
     "execution_count": 87,
     "metadata": {},
     "output_type": "execute_result"
    }
   ],
   "source": [
    "text = '<html><head><title>Title</title></head><body></body></html>'\n",
    "pattern = re.compile('<.*?>')\n",
    "p = pattern.search(text)\n",
    "p.group()\n"
   ]
  },
  {
   "cell_type": "markdown",
   "id": "40816107",
   "metadata": {},
   "source": [
    "#### Q30. '1234a1234'에서  '1', '2', '3', '4'를 모두 출력하세요.\n"
   ]
  },
  {
   "cell_type": "code",
   "execution_count": 72,
   "id": "eae01b57",
   "metadata": {},
   "outputs": [
    {
     "data": {
      "text/plain": [
       "['1', '2', '3', '4', '1', '2', '3', '4']"
      ]
     },
     "execution_count": 72,
     "metadata": {},
     "output_type": "execute_result"
    }
   ],
   "source": [
    "#nope\n",
    "import re\n",
    "li = '1234a1234'\n",
    "m=re.findall('[^a]',li)\n",
    "m"
   ]
  },
  {
   "cell_type": "markdown",
   "id": "b8cc57dd",
   "metadata": {},
   "source": [
    "# 07-25 과제"
   ]
  },
  {
   "cell_type": "markdown",
   "id": "2ef7e48d",
   "metadata": {},
   "source": [
    "#### Q31. "
   ]
  },
  {
   "cell_type": "markdown",
   "id": "c533c0b3",
   "metadata": {},
   "source": [
    "#### Q32. text에서 전체문장 모두 출력하세요."
   ]
  },
  {
   "cell_type": "code",
   "execution_count": 92,
   "id": "874093f5",
   "metadata": {},
   "outputs": [
    {
     "name": "stdout",
     "output_type": "stream",
     "text": [
      "what are you doing?\n"
     ]
    }
   ],
   "source": [
    "# Q.\n",
    "text = \"what are you doing?\\nit is going to be late for school\\nwe need to hurry up\"\n",
    "regex = re.compile('.*')\n",
    "mo = regex.search(text)\n",
    "print(mo.group())\n"
   ]
  },
  {
   "cell_type": "code",
   "execution_count": 113,
   "id": "2f510ca9",
   "metadata": {},
   "outputs": [
    {
     "name": "stdout",
     "output_type": "stream",
     "text": [
      "what are you doing?\n",
      "it is going to be late for school\n",
      "we need to hurry up\n"
     ]
    }
   ],
   "source": [
    "text = \"what are you doing?\\nit is going to be late for school\\nwe need to hurry up\"\n",
    "regex = re.compile(r'.*\\n.*\\n.*')\n",
    "mo = regex.search(text)\n",
    "print(mo.group())"
   ]
  },
  {
   "cell_type": "code",
   "execution_count": 124,
   "id": "d1c2ce41",
   "metadata": {},
   "outputs": [
    {
     "name": "stdout",
     "output_type": "stream",
     "text": [
      "what are you doing?\n",
      "it is going to be late for school\n",
      "we need to hurry up\n"
     ]
    }
   ],
   "source": [
    "text = \"what are you doing?\\nit is going to be late for school\\nwe need to hurry up\"\n",
    "regex = re.compile('.*',re.DOTALL) # DOTALL : 줄바꿈 문자 포함하여 출력\n",
    "mo = regex.search(text)\n",
    "print(mo.group())\n",
    "#print(regex.findall(text))"
   ]
  },
  {
   "cell_type": "markdown",
   "id": "ef6246de",
   "metadata": {},
   "source": [
    "#### Q33. text에서 대소문자 구분없이 전체문장 모두 출력하세요\n",
    "\n",
    "text = 'Friend fRiend friEnd FRIEND'"
   ]
  },
  {
   "cell_type": "code",
   "execution_count": 4,
   "id": "e3c9e507",
   "metadata": {},
   "outputs": [
    {
     "name": "stdout",
     "output_type": "stream",
     "text": [
      "Friend\n",
      "fRiend\n",
      "friEnd\n",
      "FRIEND\n"
     ]
    }
   ],
   "source": [
    "import re \n",
    "\n",
    "reg = re.findall('friend', 'Friend fRiend friEnd FRIEND',re.IGNORECASE)\n",
    "\n",
    "for groups in reg:\n",
    "    print(groups)\n"
   ]
  },
  {
   "cell_type": "markdown",
   "id": "ad66e12c",
   "metadata": {},
   "source": [
    "#### Q34. 1609160537.371015을 \"Sat Jun 26 08:35:03 2021\" 포멧으로 출력하세요.\n"
   ]
  },
  {
   "cell_type": "code",
   "execution_count": 137,
   "id": "c22f58a2",
   "metadata": {},
   "outputs": [
    {
     "name": "stdout",
     "output_type": "stream",
     "text": [
      "2021-06-26 08:35:03\n"
     ]
    }
   ],
   "source": [
    "#참고용, 날짜 형식 변환해줌\n",
    "from dateutil.parser import parse\n",
    "print(parse('Sat Jun 26 08:35:03 2021'))"
   ]
  },
  {
   "cell_type": "code",
   "execution_count": 150,
   "id": "19640441",
   "metadata": {},
   "outputs": [
    {
     "data": {
      "text/plain": [
       "'Mon Dec 28 22:02:17 2020'"
      ]
     },
     "execution_count": 150,
     "metadata": {},
     "output_type": "execute_result"
    }
   ],
   "source": [
    "from datetime import datetime\n",
    "import time\n",
    "\n",
    "timestring=time.ctime(1609160537.371015)\n",
    "timestring"
   ]
  },
  {
   "cell_type": "code",
   "execution_count": 5,
   "id": "964278cf",
   "metadata": {},
   "outputs": [
    {
     "data": {
      "text/plain": [
       "'Mon Dec 28 22:17:17 2020'"
      ]
     },
     "execution_count": 5,
     "metadata": {},
     "output_type": "execute_result"
    }
   ],
   "source": [
    "from datetime import datetime\n",
    "\n",
    "time = datetime.fromtimestamp(int(1609160537.371015))\n",
    "time = time.strftime(\"%a %b %d %H:%S:%S %Y\")\n",
    "time\n"
   ]
  },
  {
   "cell_type": "markdown",
   "id": "2adbe3a1",
   "metadata": {},
   "source": [
    "#### Q35. 현재 날짜와 시간을 \"Sat Jun 26 08:35:03 2021\" 포멧으로 출력하세요.\n"
   ]
  },
  {
   "cell_type": "code",
   "execution_count": 181,
   "id": "2c9f66cd",
   "metadata": {},
   "outputs": [
    {
     "data": {
      "text/plain": [
       "'Mon Jul 25 16:09:34 2022'"
      ]
     },
     "execution_count": 181,
     "metadata": {},
     "output_type": "execute_result"
    }
   ],
   "source": [
    "now = datetime.now().ctime()\n",
    "now"
   ]
  },
  {
   "cell_type": "markdown",
   "id": "453a7659",
   "metadata": {},
   "source": [
    "ctime() 함수는 주어진 timestamp를 현지 시간대 기준으로 소위 미국에서 흔히 사용되는 요 월 일 시:분:초 년 포멧으로 변환해줍니다. 그냥 간단하게 timestamp가 나타내는 날짜와 시간을 확인해보는 용도로 쓰기에 좋습니다.\n"
   ]
  },
  {
   "cell_type": "markdown",
   "id": "52c3febb",
   "metadata": {},
   "source": [
    "# 07-26 과제"
   ]
  },
  {
   "cell_type": "markdown",
   "id": "cf434046",
   "metadata": {},
   "source": [
    "#### Q36. 현재 시간을 년-월-일 시:분:초로 출력하세요."
   ]
  },
  {
   "cell_type": "code",
   "execution_count": 15,
   "id": "0d937206",
   "metadata": {},
   "outputs": [
    {
     "name": "stdout",
     "output_type": "stream",
     "text": [
      "2022-07-26 09:57:49\n"
     ]
    }
   ],
   "source": [
    "import time\n",
    "from datetime import datetime\n",
    "\n",
    "now = datetime.now()\n",
    "print(now.strftime('%Y-%m-%d %H:%M:%S'))"
   ]
  },
  {
   "cell_type": "markdown",
   "id": "142f06fd",
   "metadata": {},
   "source": [
    "#### Q37. 현재 시간을 time.time을 불러와서 년-월-일 시:분:초로 출력하세요."
   ]
  },
  {
   "cell_type": "code",
   "execution_count": 24,
   "id": "8eda4e5f",
   "metadata": {},
   "outputs": [
    {
     "data": {
      "text/plain": [
       "1658797213.0851793"
      ]
     },
     "execution_count": 24,
     "metadata": {},
     "output_type": "execute_result"
    }
   ],
   "source": [
    "import time\n",
    "from datetime import datetime\n",
    "\n",
    "now = time.time()\n",
    "now"
   ]
  },
  {
   "cell_type": "code",
   "execution_count": 25,
   "id": "12997cb0",
   "metadata": {},
   "outputs": [
    {
     "name": "stdout",
     "output_type": "stream",
     "text": [
      "2022-07-26 10:00:13\n"
     ]
    }
   ],
   "source": [
    "t = datetime.fromtimestamp(now)\n",
    "print(t.strftime('%Y-%m-%d %H:%M:%S'))"
   ]
  },
  {
   "cell_type": "markdown",
   "id": "d58054ba",
   "metadata": {},
   "source": [
    "#### Q38. 올해 경과된 날짜수 계산하세요"
   ]
  },
  {
   "cell_type": "code",
   "execution_count": 28,
   "id": "533c3b17",
   "metadata": {},
   "outputs": [
    {
     "name": "stdout",
     "output_type": "stream",
     "text": [
      "올해로부터 경과된 일 :  207\n"
     ]
    }
   ],
   "source": [
    "import time\n",
    "from datetime import datetime\n",
    "\n",
    "now = time\n",
    "print(\"올해로부터 경과된 일 : \", now.localtime().tm_yday)"
   ]
  },
  {
   "cell_type": "code",
   "execution_count": 33,
   "id": "e2ae6076",
   "metadata": {},
   "outputs": [
    {
     "name": "stdout",
     "output_type": "stream",
     "text": [
      "현재 : 2022-07-26 10:35:49.226365\n",
      "비교할 날짜 : 2021-12-31 00:00:00\n",
      "차이 : 207 days, 10:35:49.226365\n"
     ]
    }
   ],
   "source": [
    "from datetime import datetime\n",
    "\n",
    "now  = datetime.now()\n",
    "print(\"현재 :\", now)\n",
    "\n",
    "date_to_compare = datetime.strptime(\"20211231\", \"%Y%m%d\")\n",
    "print(\"비교할 날짜 :\", date_to_compare)\n",
    "\n",
    "date_diff = now - date_to_compare\n",
    "print(\"차이 :\", date_diff)"
   ]
  },
  {
   "cell_type": "markdown",
   "id": "6939ae1a",
   "metadata": {},
   "source": [
    "#### Q39. 현재 요일을 \"2021-6-26 오늘은 토요일입니다.\"와 같은 형식으로 출력하세요."
   ]
  },
  {
   "cell_type": "code",
   "execution_count": 56,
   "id": "f62b63ef",
   "metadata": {},
   "outputs": [
    {
     "name": "stdout",
     "output_type": "stream",
     "text": [
      "2022-07-26 오늘은 화요일입니다.\n"
     ]
    }
   ],
   "source": [
    "from datetime import datetime\n",
    "\n",
    "now  = datetime.now()\n",
    "\n",
    "a = now.strftime('%Y-%m-%d')\n",
    "\n",
    "days = ['월요일', '화요일', '수요일', '목요일', '금요일', '토요일', '일요일']\n",
    "day = now.weekday()\n",
    "#print(days[day])\n",
    "\n",
    "b = days[day]\n",
    "\n",
    "print(f'{a} 오늘은 {b}입니다.')"
   ]
  },
  {
   "cell_type": "markdown",
   "id": "0b344187",
   "metadata": {},
   "source": [
    "#### Q40. 1에서 백만까지 더하는데 걸리는 프로그램 실행 시간을 밀리초(ms) 단위로 구하세요."
   ]
  },
  {
   "cell_type": "code",
   "execution_count": 62,
   "id": "56e317b3",
   "metadata": {},
   "outputs": [
    {
     "name": "stdout",
     "output_type": "stream",
     "text": [
      "0.00063 ms\n"
     ]
    }
   ],
   "source": [
    "import time\n",
    "\n",
    "start = time.time()\n",
    "for i in range(1000001):\n",
    "    i += 1\n",
    "end = time.time()\n",
    "\n",
    "result = (end - start) * 0.01\n",
    "\n",
    "print(f\"{result:.5f} ms\")\n"
   ]
  },
  {
   "cell_type": "markdown",
   "id": "f34052a2",
   "metadata": {},
   "source": [
    "### 07-27 과제"
   ]
  },
  {
   "cell_type": "markdown",
   "id": "5b2b71bb",
   "metadata": {},
   "source": [
    "#### Q41. 아래 코드를 보완하여 발생 가능한 모든 예외(정수, 인덱스, 미리 파악하지 못한 예외)를 처리한 후 마지막에  '모든 예외처리 완료'를 출력하세요.\n"
   ]
  },
  {
   "cell_type": "code",
   "execution_count": null,
   "id": "05964b95",
   "metadata": {},
   "outputs": [],
   "source": [
    "list_num = [52,273,32,72,100]\n",
    "\n",
    "num_input = int(input('정수 입력> '))\n",
    "print(f'{num_input}번째 요소: {list_num[num_input-1]}')\n"
   ]
  },
  {
   "cell_type": "code",
   "execution_count": 4,
   "id": "2e2c14e6",
   "metadata": {},
   "outputs": [
    {
     "name": "stdout",
     "output_type": "stream",
     "text": [
      "정수 입력> /.5\n",
      "invalid literal for int() with base 10: '/.5'\n",
      "모든 예외처리 완료\n"
     ]
    }
   ],
   "source": [
    "list_num = [52,273,32,72,100]\n",
    "\n",
    "try:\n",
    "    num_input = int(input('정수 입력> '))\n",
    "    print(f'{num_input}번째 요소: {list_num[num_input-1]}')\n",
    "except(ZeroDivisionError, IndexError,ValueError) as e:\n",
    "    print(e)\n",
    "    print('모든 예외처리 완료')"
   ]
  },
  {
   "cell_type": "markdown",
   "id": "c6f289c7",
   "metadata": {},
   "source": [
    "#### Q42. 기본가격 1000원인 2개의 상품에 대하여 임의의 추가 가격을 입력시 가격 조정한 결과를 반환하는 Price 클래스를 생성 후 객체를 만들어 price1, price2를 수행하세요. \n",
    "- price1 : 기본가격 + 추가가격\n",
    "- price2 : (기본가격 + 추가가격) * 90%\n"
   ]
  },
  {
   "cell_type": "code",
   "execution_count": 33,
   "id": "ef55d15b",
   "metadata": {},
   "outputs": [
    {
     "name": "stdout",
     "output_type": "stream",
     "text": [
      "추가 가격을 입력하세요 > 8000\n",
      "price1 = 9000원,9000원\n",
      "price2 = 8100원,8100원\n"
     ]
    }
   ],
   "source": [
    "import math\n",
    "\n",
    "def Price():\n",
    "    p1 = 1000\n",
    "    p2 = 1000\n",
    "    \n",
    "    more = int(input('추가 가격을 입력하세요 > '))\n",
    "    \n",
    "    price1_1 = p1 + more\n",
    "    price1_2 = p2 + more\n",
    "    \n",
    "    price2_1 = (p1 + more) * 0.9\n",
    "    price2_1 = math.trunc(price2_1)\n",
    "    price2_2 = (p2 + more) * 0.9\n",
    "    price2_2 = math.trunc(price2_2)\n",
    "    \n",
    "    print(f'price1 = {price1_1}원,{price1_2}원')\n",
    "    print(f'price2 = {price2_1}원,{price2_2}원')\n",
    "    \n",
    "Price()"
   ]
  },
  {
   "cell_type": "markdown",
   "id": "f4189546",
   "metadata": {},
   "source": [
    "#### Q43. strings를 문자의 크기 순서로 내림차순 정렬하세요\n"
   ]
  },
  {
   "cell_type": "code",
   "execution_count": null,
   "id": "6cebf6c8",
   "metadata": {},
   "outputs": [],
   "source": [
    "strings = ['a', 'ca', 'bar', 'aaaa', 'ababa']"
   ]
  },
  {
   "cell_type": "code",
   "execution_count": 2,
   "id": "9ca787d6",
   "metadata": {},
   "outputs": [
    {
     "data": {
      "text/plain": [
       "['ababa', 'aaaa', 'bar', 'ca', 'a']"
      ]
     },
     "execution_count": 2,
     "metadata": {},
     "output_type": "execute_result"
    }
   ],
   "source": [
    "strings = ['a', 'ca', 'bar', 'aaaa', 'ababa']\n",
    "\n",
    "strings.sort(key=len,reverse = True)\n",
    "strings\n"
   ]
  },
  {
   "cell_type": "code",
   "execution_count": 1,
   "id": "1592bc55",
   "metadata": {},
   "outputs": [
    {
     "data": {
      "text/plain": [
       "['ca', 'bar', 'ababa', 'aaaa', 'a']"
      ]
     },
     "execution_count": 1,
     "metadata": {},
     "output_type": "execute_result"
    }
   ],
   "source": [
    "strings = ['a', 'ca', 'bar', 'aaaa', 'ababa']\n",
    "strings.sort(reverse=True)\n",
    "strings"
   ]
  },
  {
   "cell_type": "markdown",
   "id": "11c98723",
   "metadata": {},
   "source": [
    "#### Q44. strings를 다양한 문자가 포함된 순서로 정렬하세요\n"
   ]
  },
  {
   "cell_type": "code",
   "execution_count": 32,
   "id": "72ff4a80",
   "metadata": {},
   "outputs": [
    {
     "data": {
      "text/plain": [
       "['card', 'bar', 'foo', 'abab', 'aaaa']"
      ]
     },
     "execution_count": 32,
     "metadata": {},
     "output_type": "execute_result"
    }
   ],
   "source": [
    "strings = ['foo', 'card', 'bar', 'aaaa', 'abab']\n",
    "strings.sort(key = lambda x:len(set(x)),reverse = True)\n",
    "strings\n"
   ]
  },
  {
   "cell_type": "markdown",
   "id": "4075c784",
   "metadata": {},
   "source": [
    "#### Q45. 'abcde' 를 'edcba'로 바꾸어 출력하세요.(5가지 방법)"
   ]
  },
  {
   "cell_type": "code",
   "execution_count": 56,
   "id": "215aa76b",
   "metadata": {},
   "outputs": [
    {
     "name": "stdout",
     "output_type": "stream",
     "text": [
      "edcba\n",
      "edcba\n",
      "edcba\n",
      "edcba\n",
      "edcba\n"
     ]
    }
   ],
   "source": [
    "li = 'abcde'\n",
    "\n",
    "#1 슬라이싱 이용\n",
    "print(li[::-1])\n",
    "\n",
    "#2 reverse 함수 이용\n",
    "str_list = list(li)\n",
    "str_list.reverse()\n",
    "print(''.join(str_list))\n",
    "\n",
    "#3 for문 이용\n",
    "str_reverse = ''\n",
    "\n",
    "for char in li:\n",
    "    str_reverse = char + str_reverse\n",
    "\n",
    "print(str_reverse)\n",
    "\n",
    "#4 while문 이용\n",
    "string_reversed=[]\n",
    "i = len(li)\n",
    "while i > 0: \n",
    "    string_reversed += li[i-1]\n",
    "    i = i - 1 # decrement index\n",
    "print(''.join(string_reversed)) \n",
    "\n",
    "#5 함수 이용\n",
    "def reverse_string(li): \n",
    "    if len(li) == 0: \n",
    "        return li \n",
    "    else: \n",
    "        return reverse_string(li[1:]) + li[0] \n",
    "    \n",
    "print(reverse_string(li))"
   ]
  },
  {
   "cell_type": "markdown",
   "id": "e9fc58ae",
   "metadata": {},
   "source": [
    "# 07-28 과제"
   ]
  },
  {
   "cell_type": "markdown",
   "id": "d4967946",
   "metadata": {},
   "source": [
    "#### Q46. numbers 내부에 들어 있는 숫자가 몇 번 등장하는지를 출력하는 코드를 작성하세요.\n",
    "numbers = [3,6,3,5,8,2,9,7,4,3,6,3,5,8,2,9,7,4]\n"
   ]
  },
  {
   "cell_type": "code",
   "execution_count": 11,
   "id": "b75c2889",
   "metadata": {},
   "outputs": [
    {
     "name": "stdout",
     "output_type": "stream",
     "text": [
      "Counter({3: 4, 6: 2, 5: 2, 8: 2, 2: 2, 9: 2, 7: 2, 4: 2})\n"
     ]
    }
   ],
   "source": [
    "import collections\n",
    "\n",
    "numbers = [3,6,3,5,8,2,9,7,4,3,6,3,5,8,2,9,7,4]\n",
    "\n",
    "counts = collections.Counter(numbers)\n",
    "print(counts)\n"
   ]
  },
  {
   "cell_type": "markdown",
   "id": "548ce393",
   "metadata": {},
   "source": [
    "#### Q47. 코딩을 한줄로 작성해서 동일한 결과를 출력하세요\n"
   ]
  },
  {
   "cell_type": "code",
   "execution_count": 3,
   "id": "d2206f85",
   "metadata": {},
   "outputs": [
    {
     "name": "stdout",
     "output_type": "stream",
     "text": [
      "[0, 4, 16, 36, 64, 100, 144, 196, 256, 324]\n"
     ]
    }
   ],
   "source": [
    "# Q.\n",
    "list = []\n",
    "for i in range(0,20,2):\n",
    "    list.append(i*i)\n",
    "print(list)"
   ]
  },
  {
   "cell_type": "code",
   "execution_count": 13,
   "id": "fe666cbc",
   "metadata": {},
   "outputs": [
    {
     "data": {
      "text/plain": [
       "[0, 4, 16, 36, 64, 100, 144, 196, 256, 324]"
      ]
     },
     "execution_count": 13,
     "metadata": {},
     "output_type": "execute_result"
    }
   ],
   "source": [
    "list = [i*i for i in range(0,20,2)]\n",
    "list"
   ]
  },
  {
   "cell_type": "markdown",
   "id": "6b85ae5f",
   "metadata": {},
   "source": [
    "#### Q48. 반복문으로 팩토리얼을 구하는 사용자 함수를 작성하고 5!, 10!를 구하세요.\n"
   ]
  },
  {
   "cell_type": "code",
   "execution_count": 19,
   "id": "91c1f933",
   "metadata": {},
   "outputs": [
    {
     "name": "stdout",
     "output_type": "stream",
     "text": [
      "숫자를 입력하세요 : 5\n",
      "120\n"
     ]
    }
   ],
   "source": [
    "def factorial():\n",
    "    a = int(input(\"숫자를 입력하세요 : \"))\n",
    "    result = 1\n",
    "    for item in range(1, a+1, 1):\n",
    "        result *= item \n",
    "    print(result)\n",
    "    \n",
    "factorial()"
   ]
  },
  {
   "cell_type": "code",
   "execution_count": 20,
   "id": "e4f89ae6",
   "metadata": {},
   "outputs": [
    {
     "name": "stdout",
     "output_type": "stream",
     "text": [
      "숫자를 입력하세요 : 10\n",
      "3628800\n"
     ]
    }
   ],
   "source": [
    "factorial()"
   ]
  },
  {
   "cell_type": "markdown",
   "id": "cb122d56",
   "metadata": {},
   "source": [
    "#### Q49. 재귀란 '자기자신을 호출하는 것'을 의미한다. 재귀함수를 이용해서 팩토리얼을 구하는 사용자 함수를 작성하고 1!, 5!, 10!를 구하세요.\n",
    "factorial(n) = n * factorial(n-1) (n >= 1)\n"
   ]
  },
  {
   "cell_type": "code",
   "execution_count": 23,
   "id": "2e4dcc79",
   "metadata": {},
   "outputs": [
    {
     "name": "stdout",
     "output_type": "stream",
     "text": [
      "1\n",
      "120\n",
      "3628800\n"
     ]
    }
   ],
   "source": [
    "def factorial(n):\n",
    "    if n == 1:      \n",
    "        return 1    \n",
    "    return n * factorial(n - 1)  \n",
    " \n",
    "print(factorial(1))\n",
    "print(factorial(5))\n",
    "print(factorial(10))"
   ]
  },
  {
   "cell_type": "markdown",
   "id": "42bc6874",
   "metadata": {},
   "source": [
    "#### Q50. list a의 모든 원소를 실수형으로 바꾸어 출력하세요\n",
    "a = [1,2,3,4,5]\n"
   ]
  },
  {
   "cell_type": "code",
   "execution_count": 27,
   "id": "842d02ff",
   "metadata": {},
   "outputs": [
    {
     "name": "stdout",
     "output_type": "stream",
     "text": [
      "[1.0, 2.0, 3.0, 4.0, 5.0]\n"
     ]
    }
   ],
   "source": [
    "a = [1,2,3,4,5]\n",
    "li=[]\n",
    "for i in a:\n",
    "    li.append(float(i))\n",
    "    \n",
    "print(li)"
   ]
  },
  {
   "cell_type": "code",
   "execution_count": 2,
   "id": "4b340ace",
   "metadata": {},
   "outputs": [
    {
     "data": {
      "text/plain": [
       "[1.0, 2.0, 3.0, 4.0, 5.0]"
      ]
     },
     "execution_count": 2,
     "metadata": {},
     "output_type": "execute_result"
    }
   ],
   "source": [
    "a = [1,2,3,4,5]\n",
    "list(map(float,a))\n",
    "\n"
   ]
  },
  {
   "cell_type": "markdown",
   "id": "a5678b86",
   "metadata": {},
   "source": [
    "# 07-29 과제"
   ]
  },
  {
   "cell_type": "markdown",
   "id": "c99c6199",
   "metadata": {},
   "source": [
    "#### Q31. 문자열 리스트 states를 정형화하여 아래와 같이 출력하세요.\n"
   ]
  },
  {
   "cell_type": "code",
   "execution_count": null,
   "id": "67d78cae",
   "metadata": {},
   "outputs": [],
   "source": [
    "# Q. \n",
    "states = ['   Alabama ', 'Georgia!', 'Georgia', 'georgia', 'FlOrIda',\n",
    "          'south   carolina##', 'West virginia?']\n",
    "[출력]\n",
    "['Alabama',\n",
    " 'Georgia',\n",
    " 'Georgia',\n",
    " 'Georgia',\n",
    " 'Florida',\n",
    " 'South   Carolina',\n",
    " 'West Virginia']\n"
   ]
  },
  {
   "cell_type": "code",
   "execution_count": 70,
   "id": "7601262d",
   "metadata": {},
   "outputs": [
    {
     "name": "stdout",
     "output_type": "stream",
     "text": [
      "['   Alabama ',\n",
      " 'Georgia',\n",
      " 'Georgia',\n",
      " 'Georgia',\n",
      " 'Florida',\n",
      " 'South   Carolina',\n",
      " 'West Virginia']\n"
     ]
    }
   ],
   "source": [
    "import re\n",
    "\n",
    "states = ['   Alabama ', 'Georgia!', 'Georgia', 'georgia', 'FlOrIda',\n",
    "          'south   carolina##', 'West virginia?']\n",
    "result = str(states) \n",
    "result = result.title() # title함수 사용, 첫글자 대문자로\n",
    "result = re.sub('[,]',',\\n',result)\n",
    "result = re.sub('^[\\s+]','',result) #문자열 좌측 공백 제거\n",
    "result = re.sub('[#?!]','',result) # 특수문자 #,? 제거\n",
    "\n",
    "\n",
    "\n",
    "print(result)"
   ]
  },
  {
   "cell_type": "code",
   "execution_count": 73,
   "id": "4296d914",
   "metadata": {},
   "outputs": [
    {
     "data": {
      "text/plain": [
       "['Alabama',\n",
       " 'Georgia',\n",
       " 'Georgia',\n",
       " 'Georgia',\n",
       " 'Florida',\n",
       " 'South   Carolina',\n",
       " 'West Virginia']"
      ]
     },
     "execution_count": 73,
     "metadata": {},
     "output_type": "execute_result"
    }
   ],
   "source": [
    "import re\n",
    "\n",
    "states = ['   Alabama ', 'Georgia!', 'Georgia', 'georgia', 'FlOrIda',\n",
    "          'south   carolina##', 'West virginia?']\n",
    "def form(word):\n",
    "    word = word.strip()\n",
    "    word = re.sub('[#?!]','',word)\n",
    "    word = word.title()\n",
    "    return word\n",
    "\n",
    "list(map(form,states))"
   ]
  },
  {
   "cell_type": "markdown",
   "id": "b3b22544",
   "metadata": {},
   "source": [
    "#### Q51. 게시물의 총 건수와 한 페이지에 보여 줄 게시물 수를 입력시 총 페이지 수를 출력하는 프로그램(func)\n"
   ]
  },
  {
   "cell_type": "code",
   "execution_count": null,
   "id": "87e661db",
   "metadata": {},
   "outputs": [],
   "source": [
    "# 서연님 코드 참고\n",
    "def get_page_num(total_post,per_page):\n",
    "    "
   ]
  },
  {
   "cell_type": "markdown",
   "id": "4956bb50",
   "metadata": {},
   "source": [
    "#### Q52. 랜덤하게 1000명의 이름, 키와 몸무게 만들어 저장한 후 다시 불러내어 다음과 같이 출력하세요.\n",
    "\n",
    "- 이름 :라바\n",
    "- 몸무게: 80\n",
    "- 키: 146\n",
    "- BMI: 37.53049352598987\n",
    "- 결과: 과체중\n"
   ]
  },
  {
   "cell_type": "code",
   "execution_count": null,
   "id": "44bffc92",
   "metadata": {},
   "outputs": [],
   "source": [
    "# 민섭님 코드 참고"
   ]
  },
  {
   "cell_type": "markdown",
   "id": "338fb6c3",
   "metadata": {},
   "source": [
    "# 08-01 과제"
   ]
  },
  {
   "cell_type": "markdown",
   "id": "32b8a973",
   "metadata": {},
   "source": [
    "#### Q53. 입력한 숫자를 천 단위로 구분하여 출력하세요."
   ]
  },
  {
   "cell_type": "code",
   "execution_count": 4,
   "id": "3f2e92ff",
   "metadata": {},
   "outputs": [
    {
     "name": "stdout",
     "output_type": "stream",
     "text": [
      "숫자를 입력하세요 > 75666\n"
     ]
    },
    {
     "ename": "TypeError",
     "evalue": "can only concatenate str (not \"tuple\") to str",
     "output_type": "error",
     "traceback": [
      "\u001b[1;31m---------------------------------------------------------------------------\u001b[0m",
      "\u001b[1;31mTypeError\u001b[0m                                 Traceback (most recent call last)",
      "Input \u001b[1;32mIn [4]\u001b[0m, in \u001b[0;36m<cell line: 2>\u001b[1;34m()\u001b[0m\n\u001b[0;32m      6\u001b[0m i \u001b[38;5;241m+\u001b[39m\u001b[38;5;241m=\u001b[39m \u001b[38;5;241m1\u001b[39m\n\u001b[0;32m      7\u001b[0m \u001b[38;5;28;01mif\u001b[39;00m i \u001b[38;5;241m!=\u001b[39m \u001b[38;5;28mlen\u001b[39m(num) \u001b[38;5;129;01mand\u001b[39;00m i\u001b[38;5;241m%\u001b[39m\u001b[38;5;241m3\u001b[39m \u001b[38;5;241m==\u001b[39m \u001b[38;5;241m0\u001b[39m:\n\u001b[1;32m----> 8\u001b[0m     com \u001b[38;5;241m+\u001b[39m\u001b[38;5;241m=\u001b[39m (c,\u001b[38;5;124m'\u001b[39m\u001b[38;5;124m,\u001b[39m\u001b[38;5;124m'\u001b[39m)\n\u001b[0;32m      9\u001b[0m \u001b[38;5;28;01melse\u001b[39;00m:\n\u001b[0;32m     10\u001b[0m     com \u001b[38;5;241m+\u001b[39m\u001b[38;5;241m=\u001b[39m c\n",
      "\u001b[1;31mTypeError\u001b[0m: can only concatenate str (not \"tuple\") to str"
     ]
    }
   ],
   "source": [
    "# 민섭님 코드 참고\n",
    "num = input('숫자를 입력하세요 > ')\n",
    "if num.isdigit():\n",
    "    num = num[::1]\n",
    "    com=''\n",
    "    for i,c in enumerate(num):\n",
    "        i += 1\n",
    "        if i != len(num) and i%3 == 0:\n",
    "            com += (c,',')\n",
    "        else:\n",
    "            com += c\n",
    "    com = com[::-1]\n",
    "    print(com)\n",
    "else:\n",
    "    print('숫자를 입력하세요')\n"
   ]
  },
  {
   "cell_type": "markdown",
   "id": "2ff3ad16",
   "metadata": {},
   "source": [
    "#### Q54. 카운터에서 거스름돈으로 사용할 500원, 100원, 50원, 10원짜리 동전이 무한히 존재한다고 가정한다. 손님에게 거슬러 줘야 할 돈이 n원일 때 거슬러 줘야 할 동전의 최소 개수를 구하세요. 단, 거슬러 줘야 할 돈 n원은 항상 10의 배수이다. n은 2750원이다."
   ]
  },
  {
   "cell_type": "code",
   "execution_count": 95,
   "id": "af4d2b73",
   "metadata": {},
   "outputs": [
    {
     "name": "stdout",
     "output_type": "stream",
     "text": [
      "500원:5개, 100원:2개, 50원:1개, 10원:0개\n",
      "동전의 총개수: 8\n"
     ]
    }
   ],
   "source": [
    "import math\n",
    "def coin():\n",
    "    change = 2750\n",
    "\n",
    "    coin_500 = int(change/500)\n",
    "    coin_100 = int((change-(coin_500*500))/100)\n",
    "    coin_50 = int((change-(coin_500*500+coin_100*100))/50)\n",
    "    coin_10 = int((change-(coin_500*500+coin_100*100+coin_50*50))/10)\n",
    "    \n",
    "    print(f'500원:{coin_500}개, 100원:{coin_100}개, 50원:{coin_50}개, 10원:{coin_10}개')\n",
    "    print(f'동전의 총개수: {coin_500+coin_100+coin_50+coin_10}')\n",
    "    \n",
    "coin()"
   ]
  },
  {
   "cell_type": "code",
   "execution_count": 5,
   "id": "3fffc44e",
   "metadata": {},
   "outputs": [
    {
     "name": "stdout",
     "output_type": "stream",
     "text": [
      "8\n"
     ]
    }
   ],
   "source": [
    "n = 2750\n",
    "count = 0\n",
    "\n",
    "# 큰 단위의 화폐부터 차례대로 확인하기\n",
    "coin_types = [500, 100, 50, 10]\n",
    "\n",
    "for coin in coin_types:\n",
    "    count += n // coin # 해당 화폐로 거슬러 줄 수 있는 동전의 개수 세기\n",
    "    n %= coin\n",
    "\n",
    "print(count)\n"
   ]
  },
  {
   "cell_type": "markdown",
   "id": "cb7a4bcf",
   "metadata": {},
   "source": [
    "#### Q55. data/mydata.txt 파일에 있는 단어 개수를 출력하세요."
   ]
  },
  {
   "cell_type": "code",
   "execution_count": 1,
   "id": "a8e31dc1",
   "metadata": {},
   "outputs": [
    {
     "name": "stdout",
     "output_type": "stream",
     "text": [
      "a lot of things occur each day\n",
      " we've got to live with on our way\n",
      " there's so much misery on the screen\n",
      " with commercials in between\n",
      " \n",
      " and the russians won't be so late\n",
      " uncle sam don't want to wait\n",
      " no matter if you're black or white\n",
      " you never ever had a right\n",
      " \n",
      " and look up to the eternal skies\n",
      " see warfare even there\n",
      " what once has been a paradise\n",
      " now destruction and despair\n",
      " \n",
      " in other worlds the children die\n",
      " lacking food ill from a fly\n",
      " oppressed by troops to tame their land\n",
      " it's all the same again\n",
      " \n",
      " if any man is free on earth\n",
      " then tormentors steal his birth\n",
      " they slam gun butts in his face\n",
      " and leave his woman choked in mace\n",
      " \n",
      " so stand up for our human rights\n",
      " push back this pest of hate\n",
      " raise you voice pass on the light\n",
      " unite! it's not too late\n",
      " \n",
      " how many tears flow away\n",
      " to become a sea of fears\n",
      " how many hearts are torn apart\n",
      " till another torment starts\n",
      " \n",
      " but before the world\n",
      " turns into a sun\n",
      " all cruelty and violence\n",
      " on earth will be dead and gone\n",
      " \n",
      " so stand up for our human rights\n",
      " push back this pest of hate\n",
      " raise you voice pass on the light\n",
      " unite! it's not too late\n"
     ]
    }
   ],
   "source": [
    "li = ''\n",
    "with open('./mydata.txt') as f:\n",
    "    lines = f.readlines()\n",
    "    li = ' '.join(lines)\n",
    "    #li.append(lines)\n",
    "    \n",
    "print(li)"
   ]
  },
  {
   "cell_type": "code",
   "execution_count": 46,
   "id": "2a03300b",
   "metadata": {},
   "outputs": [
    {
     "name": "stdout",
     "output_type": "stream",
     "text": [
      "a 6\n",
      "lot 1\n",
      "of 4\n",
      "things 1\n",
      "occur 1\n",
      "each 1\n",
      "day 1\n",
      "we've 1\n",
      "got 1\n",
      "to 5\n",
      "live 1\n",
      "with 2\n",
      "on 6\n",
      "our 3\n",
      "way 1\n",
      "there's 1\n",
      "so 4\n",
      "much 1\n",
      "misery 1\n",
      "the 8\n",
      "screen 1\n",
      "commercials 1\n",
      "in 4\n",
      "between 1\n",
      "and 6\n",
      "russians 1\n",
      "won't 1\n",
      "be 2\n",
      "late 3\n",
      "uncle 1\n",
      "sam 1\n",
      "don't 1\n",
      "want 1\n",
      "wait 1\n",
      "no 1\n",
      "matter 1\n",
      "if 2\n",
      "you're 1\n",
      "black 1\n",
      "or 1\n",
      "white 1\n",
      "you 3\n",
      "never 1\n",
      "ever 1\n",
      "had 1\n",
      "right 1\n",
      "look 1\n",
      "up 3\n",
      "eternal 1\n",
      "skies 1\n",
      "see 1\n",
      "warfare 1\n",
      "even 1\n",
      "there 1\n",
      "what 1\n",
      "once 1\n",
      "has 1\n",
      "been 1\n",
      "paradise 1\n",
      "now 1\n",
      "destruction 1\n",
      "despair 1\n",
      "other 1\n",
      "worlds 1\n",
      "children 1\n",
      "die 1\n",
      "lacking 1\n",
      "food 1\n",
      "ill 1\n",
      "from 1\n",
      "fly 1\n",
      "oppressed 1\n",
      "by 1\n",
      "troops 1\n",
      "tame 1\n",
      "their 1\n",
      "land 1\n",
      "it's 3\n",
      "all 2\n",
      "same 1\n",
      "again 1\n",
      "any 1\n",
      "man 1\n",
      "is 1\n",
      "free 1\n",
      "earth 2\n",
      "then 1\n",
      "tormentors 1\n",
      "steal 1\n",
      "his 3\n",
      "birth 1\n",
      "they 1\n",
      "slam 1\n",
      "gun 1\n",
      "butts 1\n",
      "face 1\n",
      "leave 1\n",
      "woman 1\n",
      "choked 1\n",
      "mace 1\n",
      "stand 2\n",
      "for 2\n",
      "human 2\n",
      "rights 2\n",
      "push 2\n",
      "back 2\n",
      "this 2\n",
      "pest 2\n",
      "hate 2\n",
      "raise 2\n",
      "voice 2\n",
      "pass 2\n",
      "light 2\n",
      "unite! 2\n",
      "not 2\n",
      "too 2\n",
      "how 2\n",
      "many 2\n",
      "tears 1\n",
      "flow 1\n",
      "away 1\n",
      "become 1\n",
      "sea 1\n",
      "fears 1\n",
      "hearts 1\n",
      "are 1\n",
      "torn 1\n",
      "apart 1\n",
      "till 1\n",
      "another 1\n",
      "torment 1\n",
      "starts 1\n",
      "but 1\n",
      "before 1\n",
      "world 1\n",
      "turns 1\n",
      "into 1\n",
      "sun 1\n",
      "cruelty 1\n",
      "violence 1\n",
      "will 1\n",
      "dead 1\n",
      "gone 1\n",
      "전체 단어 개수 : 213\n"
     ]
    }
   ],
   "source": [
    "li = ''\n",
    "with open('./mydata.txt') as f:\n",
    "    lines = f.readlines()\n",
    "    li = ' '.join(lines)\n",
    "    \n",
    "    word = []\n",
    "    words = li.split()\n",
    "    word_counts = dict() #단어와 개수를 저장하기 위한 word_counts 사전을 생성\n",
    "    total_count = 0\n",
    "    \n",
    "    for word in words:\n",
    "        word_counts[word] = word_counts.get(word, 0) + 1    # 단어 카운트 증가\n",
    "\n",
    "    for word, count in word_counts.items():\n",
    "        print(word, count)\n",
    "        total_count += count\n",
    "        \n",
    "    print(f'전체 단어 개수 : {total_count}')"
   ]
  },
  {
   "cell_type": "code",
   "execution_count": 49,
   "id": "b447eac8",
   "metadata": {},
   "outputs": [
    {
     "name": "stdout",
     "output_type": "stream",
     "text": [
      "전체 단어 수 : 213\n"
     ]
    }
   ],
   "source": [
    "# 선생님 솔루션\n",
    "with open('./mydata.txt','r') as f:\n",
    "    data = f.read()\n",
    "    temp = data.split()\n",
    "    print(f'전체 단어 수 : {len(temp)}')"
   ]
  },
  {
   "cell_type": "markdown",
   "id": "36b859e5",
   "metadata": {},
   "source": [
    "#### Q56. 파일이름과 특정 단어를 인자로 입력하면 그 파일에 있는 특정 단어의 개수를 반환하는 사용자 함수를 이용하여 mydata 파일에서 how의 개수를 출력하세요.\n"
   ]
  },
  {
   "cell_type": "code",
   "execution_count": 53,
   "id": "fce37736",
   "metadata": {},
   "outputs": [],
   "source": [
    "def wordcount():\n",
    "    file_name = input('파일 이름을 입력하세요 > ')\n",
    "    find_word = input('찾고 싶은 단어를 입력하세요 > ')\n",
    "    \n",
    "    file=open('./'+file_name+'.txt',\"r\")\n",
    "    \n",
    "    sum=0\n",
    "    for word_list in file:\n",
    "        a = word_list.split(' ')\n",
    "        for b in a:\n",
    "            c = b.count(find_word)\n",
    "            sum += c \n",
    "    print(f'{find_word}의 개수: {sum}')"
   ]
  },
  {
   "cell_type": "code",
   "execution_count": 55,
   "id": "794d1c67",
   "metadata": {},
   "outputs": [
    {
     "name": "stdout",
     "output_type": "stream",
     "text": [
      "파일 이름을 입력하세요 > mydata\n",
      "찾고 싶은 단어를 입력하세요 > how\n",
      "how의 개수: 2\n"
     ]
    }
   ],
   "source": [
    "wordcount()"
   ]
  },
  {
   "cell_type": "code",
   "execution_count": 56,
   "id": "2efef767",
   "metadata": {},
   "outputs": [
    {
     "name": "stdout",
     "output_type": "stream",
     "text": [
      "filename을 입력하세요: ./mydata.txt\n",
      "filename에서 개수를 구할 단어를 입력하세요: How\n",
      "how의 개수: 2\n"
     ]
    }
   ],
   "source": [
    "# 선생님 솔루션\n",
    "def countWord(filename, word):\n",
    "    with open(filename, 'r') as f:\n",
    "        text = f.read()\n",
    "        text = text.lower()\n",
    "        pos = text.find(word)\n",
    "        count = 0\n",
    "        while pos != -1:\n",
    "            count += 1\n",
    "            pos = text.find(word, pos+1)\n",
    "    return count\n",
    "\n",
    "filename = input('filename을 입력하세요: ')\n",
    "word = input('filename에서 개수를 구할 단어를 입력하세요: ').lower()\n",
    "ret = countWord(filename, word)\n",
    "print(f'{word}의 개수: {ret}')"
   ]
  },
  {
   "cell_type": "markdown",
   "id": "0e58e9a9",
   "metadata": {},
   "source": [
    "# 08-03 과제"
   ]
  },
  {
   "cell_type": "markdown",
   "id": "5c9b5a3e",
   "metadata": {},
   "source": [
    "### Q59.문자열을 입력받아 같은 문자가 연속적으로 반복되는 경우에 그 반복 횟수를 표시해 문자열을 압축하여 표시하세요.\n",
    "- 예) \"aaabbcccccca\" -> a3b2c6a1"
   ]
  },
  {
   "cell_type": "code",
   "execution_count": 21,
   "id": "69269cfa",
   "metadata": {},
   "outputs": [
    {
     "name": "stdout",
     "output_type": "stream",
     "text": [
      "입력 : aaabbcccccca\n",
      "a3b2c6a1\n"
     ]
    }
   ],
   "source": [
    "text = input(\"입력 : \") \n",
    "num = text[0] \n",
    "count = 1 \n",
    "      \n",
    "for i in range(1, len(text)): \n",
    "    if text[i] == num: \n",
    "        count += 1\n",
    "    else: \n",
    "        print(num, end='') \n",
    "        print(count, end='') \n",
    "        count = 1 \n",
    "        num = text[i] \n",
    "    \n",
    "print(text[len(text)-1], end='') \n",
    "print(count) \n"
   ]
  },
  {
   "cell_type": "code",
   "execution_count": null,
   "id": "73a18e3f",
   "metadata": {},
   "outputs": [],
   "source": [
    "from itertools import groupby\n",
    "t = ''\n",
    "''.join(f'{x}{len(list(y))} for x,y in groupby(x,y)')"
   ]
  },
  {
   "cell_type": "markdown",
   "id": "c484be80",
   "metadata": {},
   "source": [
    "# 08-04"
   ]
  },
  {
   "cell_type": "markdown",
   "id": "62470fed",
   "metadata": {},
   "source": [
    "### Q60.\n",
    "N개의 배열로 이루어진 배열이 있을 때 주어진 수들을 M번 더하여 가장 큰 수를 만드는 프로그램을 작성하세요. 단 배열의 특정한 인덱스(번호)에 해당하는 수가 연속해서 K번을 초과하여 더해질 수 없는 것이 특징이다.\n",
    "프로그램은 다음 조건을 만족하는 N, M, K를 공백으로 일차 입력하고 N개의 배열을 공백으로 이차 입력하면 결과물을 출력하는 방식으로 수행함.\n",
    "- 2 <= N <= 1000\n",
    "- 1 <= M <= 10000\n",
    "- 1 <= K <= 10000\n"
   ]
  },
  {
   "cell_type": "code",
   "execution_count": 4,
   "id": "10e49598",
   "metadata": {},
   "outputs": [
    {
     "name": "stdout",
     "output_type": "stream",
     "text": [
      "2 2 5\n",
      "5\n"
     ]
    },
    {
     "ename": "IndexError",
     "evalue": "list index out of range",
     "output_type": "error",
     "traceback": [
      "\u001b[1;31m---------------------------------------------------------------------------\u001b[0m",
      "\u001b[1;31mIndexError\u001b[0m                                Traceback (most recent call last)",
      "Input \u001b[1;32mIn [4]\u001b[0m, in \u001b[0;36m<cell line: 5>\u001b[1;34m()\u001b[0m\n\u001b[0;32m      2\u001b[0m x \u001b[38;5;241m=\u001b[39m \u001b[38;5;28mlist\u001b[39m(\u001b[38;5;28mmap\u001b[39m(\u001b[38;5;28mint\u001b[39m, \u001b[38;5;28minput\u001b[39m()\u001b[38;5;241m.\u001b[39msplit()))\n\u001b[0;32m      4\u001b[0m x\u001b[38;5;241m.\u001b[39msort()\n\u001b[1;32m----> 5\u001b[0m first \u001b[38;5;241m=\u001b[39m \u001b[43mx\u001b[49m\u001b[43m[\u001b[49m\u001b[43mn\u001b[49m\u001b[43m \u001b[49m\u001b[38;5;241;43m-\u001b[39;49m\u001b[43m \u001b[49m\u001b[38;5;241;43m1\u001b[39;49m\u001b[43m]\u001b[49m\n\u001b[0;32m      6\u001b[0m second \u001b[38;5;241m=\u001b[39m x[n \u001b[38;5;241m-\u001b[39m \u001b[38;5;241m2\u001b[39m]\n\u001b[0;32m      8\u001b[0m count \u001b[38;5;241m=\u001b[39m \u001b[38;5;28mint\u001b[39m(m \u001b[38;5;241m/\u001b[39m (k \u001b[38;5;241m+\u001b[39m \u001b[38;5;241m1\u001b[39m)) \u001b[38;5;241m*\u001b[39m k\n",
      "\u001b[1;31mIndexError\u001b[0m: list index out of range"
     ]
    }
   ],
   "source": [
    "n, m, k = map(int, input().split())\n",
    "x = list(map(int, input().split()))\n",
    "\n",
    "x.sort()\n",
    "first = x[n - 1]\n",
    "second = x[n - 2]\n",
    "\n",
    "count = int(m / (k + 1)) * k\n",
    "count += m % (k + 1)\n",
    "\n",
    "result = 0\n",
    "result += (count) * first\n",
    "result += (m-count) * second\n",
    "\n",
    "print(result)"
   ]
  },
  {
   "cell_type": "code",
   "execution_count": 7,
   "id": "1cb7da18",
   "metadata": {},
   "outputs": [
    {
     "name": "stdout",
     "output_type": "stream",
     "text": [
      "2 2 2\n",
      "2 5 7 7\n",
      "10\n"
     ]
    }
   ],
   "source": [
    "# N, M, K를 공백을 기준으로 구분하여 입력 받기\n",
    "n, m, k = map(int, input().split())\n",
    "# N개의 수를 공백을 기준으로 구분하여 입력 받기\n",
    "data = list(map(int, input().split()))\n",
    "\n",
    "data.sort() # 입력 받은 수들 정렬하기\n",
    "first = data[n - 1] # 가장 큰 수\n",
    "second = data[n - 2] # 두 번째로 큰 수\n",
    "\n",
    "# 가장 큰 수가 더해지는 횟수 계산\n",
    "count = int(m / (k + 1)) * k\n",
    "count += m % (k + 1)\n",
    "\n",
    "result = 0\n",
    "result += (count) * first # 가장 큰 수 더하기\n",
    "result += (m - count) * second # 두 번째로 큰 수 더하기\n",
    " \n",
    "print(result) # 최종 답안 출력\n"
   ]
  },
  {
   "cell_type": "markdown",
   "id": "2da5f51b",
   "metadata": {},
   "source": [
    "# 08-05"
   ]
  },
  {
   "cell_type": "markdown",
   "id": "19b77660",
   "metadata": {},
   "source": [
    "### Q61. file1, 2의 파일 크기를 각각 구하세요.\n",
    "\n",
    "- file1 = 'data/stockcode.txt'\n",
    "- file2 = 'data/img_sample.jpg'"
   ]
  },
  {
   "cell_type": "code",
   "execution_count": 2,
   "id": "f554055f",
   "metadata": {},
   "outputs": [
    {
     "name": "stdout",
     "output_type": "stream",
     "text": [
      "File Name: ./stockcode.txt \tFile Size: 15414\n",
      "File Name: ./img_sample.jpg \tFile Size: 170005\n"
     ]
    }
   ],
   "source": [
    "from os.path import getsize\n",
    "\n",
    "file1 = './stockcode.txt'\n",
    "file2 = './img_sample.jpg'\n",
    "file_size1 = getsize(file1)\n",
    "file_size2 = getsize(file2)\n",
    "print('File Name: %s \\tFile Size: %d' %(file1, file_size1))\n",
    "print('File Name: %s \\tFile Size: %d' %(file2, file_size2))"
   ]
  },
  {
   "cell_type": "markdown",
   "id": "3d5ad481",
   "metadata": {},
   "source": [
    "### Q62.\n",
    "stockcode.txt의 105바이트 위치에서 500바이트를 읽어 그 내용은 stock_part.txt에 저장 한 후 출력하세요.\n"
   ]
  },
  {
   "cell_type": "code",
   "execution_count": 3,
   "id": "38e7dcf9",
   "metadata": {},
   "outputs": [
    {
     "ename": "UnicodeDecodeError",
     "evalue": "'utf-8' codec can't decode byte 0xe7 in position 0: invalid continuation byte",
     "output_type": "error",
     "traceback": [
      "\u001b[0;31m---------------------------------------------------------------------------\u001b[0m",
      "\u001b[0;31mUnicodeDecodeError\u001b[0m                        Traceback (most recent call last)",
      "Input \u001b[0;32mIn [3]\u001b[0m, in \u001b[0;36m<cell line: 7>\u001b[0;34m()\u001b[0m\n\u001b[1;32m      6\u001b[0m     f\u001b[38;5;241m.\u001b[39mwrite(body)\n\u001b[1;32m      7\u001b[0m \u001b[38;5;28;01mwith\u001b[39;00m \u001b[38;5;28mopen\u001b[39m(\u001b[38;5;124m'\u001b[39m\u001b[38;5;124m./stock_part.txt\u001b[39m\u001b[38;5;124m'\u001b[39m, \u001b[38;5;124m'\u001b[39m\u001b[38;5;124mr\u001b[39m\u001b[38;5;124m'\u001b[39m) \u001b[38;5;28;01mas\u001b[39;00m f:\n\u001b[0;32m----> 8\u001b[0m     \u001b[38;5;28mprint\u001b[39m(\u001b[43mf\u001b[49m\u001b[38;5;241;43m.\u001b[39;49m\u001b[43mread\u001b[49m\u001b[43m(\u001b[49m\u001b[43m)\u001b[49m)\n",
      "File \u001b[0;32m~/opt/anaconda3/lib/python3.9/codecs.py:322\u001b[0m, in \u001b[0;36mBufferedIncrementalDecoder.decode\u001b[0;34m(self, input, final)\u001b[0m\n\u001b[1;32m    319\u001b[0m \u001b[38;5;28;01mdef\u001b[39;00m \u001b[38;5;21mdecode\u001b[39m(\u001b[38;5;28mself\u001b[39m, \u001b[38;5;28minput\u001b[39m, final\u001b[38;5;241m=\u001b[39m\u001b[38;5;28;01mFalse\u001b[39;00m):\n\u001b[1;32m    320\u001b[0m     \u001b[38;5;66;03m# decode input (taking the buffer into account)\u001b[39;00m\n\u001b[1;32m    321\u001b[0m     data \u001b[38;5;241m=\u001b[39m \u001b[38;5;28mself\u001b[39m\u001b[38;5;241m.\u001b[39mbuffer \u001b[38;5;241m+\u001b[39m \u001b[38;5;28minput\u001b[39m\n\u001b[0;32m--> 322\u001b[0m     (result, consumed) \u001b[38;5;241m=\u001b[39m \u001b[38;5;28;43mself\u001b[39;49m\u001b[38;5;241;43m.\u001b[39;49m\u001b[43m_buffer_decode\u001b[49m\u001b[43m(\u001b[49m\u001b[43mdata\u001b[49m\u001b[43m,\u001b[49m\u001b[43m \u001b[49m\u001b[38;5;28;43mself\u001b[39;49m\u001b[38;5;241;43m.\u001b[39;49m\u001b[43merrors\u001b[49m\u001b[43m,\u001b[49m\u001b[43m \u001b[49m\u001b[43mfinal\u001b[49m\u001b[43m)\u001b[49m\n\u001b[1;32m    323\u001b[0m     \u001b[38;5;66;03m# keep undecoded input until the next call\u001b[39;00m\n\u001b[1;32m    324\u001b[0m     \u001b[38;5;28mself\u001b[39m\u001b[38;5;241m.\u001b[39mbuffer \u001b[38;5;241m=\u001b[39m data[consumed:]\n",
      "\u001b[0;31mUnicodeDecodeError\u001b[0m: 'utf-8' codec can't decode byte 0xe7 in position 0: invalid continuation byte"
     ]
    }
   ],
   "source": [
    "import os\n",
    "with open('./stockcode.txt','rb') as f:\n",
    "    f.seek(105,0)\n",
    "    body = f.read(500)\n",
    "with open('./stock_part.txt', 'wb') as f:\n",
    "    f.write(body)\n",
    "with open('./stock_part.txt', 'r') as f:\n",
    "    print(f.read())"
   ]
  },
  {
   "cell_type": "markdown",
   "id": "d7985d9b",
   "metadata": {},
   "source": [
    "# 08-09"
   ]
  },
  {
   "cell_type": "markdown",
   "id": "17db2cd6",
   "metadata": {},
   "source": [
    "### Q64.어떠한 수 N이 1이 될 때까지 다음의 두 과정 중 하나를 반복적으로 선택하여 수행하려고 한다. 단 두번째 연산은 N이 K로 나누어 떨어질 때만 선택할 수 있다.  N과 K를 입력했을 때 N이 1이 될 때까지 1번 혹은 2번의 과정을 수행해야 하는 최소 횟수를 구하는 프로그램을 완성하세요.\n",
    "\n",
    "1. N에서 1을 뺀다.\n",
    "2. N을 K로 나눈다."
   ]
  },
  {
   "cell_type": "markdown",
   "id": "9990390d",
   "metadata": {},
   "source": [
    "입력 : N , K\n",
    "    \n",
    "반복\n",
    "1.N에서 1을 뺀다.\n",
    "2.N을 K로 나눈다.(나누어 떨어질 때만)\n",
    "\n",
    "조건 : N이 1이 될 때까지 \n",
    "    \n",
    "결과 : 과정을 수행해야 하는 최소 횟수"
   ]
  },
  {
   "cell_type": "code",
   "execution_count": 1,
   "id": "2493cede",
   "metadata": {},
   "outputs": [
    {
     "data": {
      "text/plain": [
       "3"
      ]
     },
     "execution_count": 1,
     "metadata": {},
     "output_type": "execute_result"
    }
   ],
   "source": [
    "def divide_program(N,K):\n",
    "    count = 0\n",
    "    while (N!=1):\n",
    "        if (N%K==0):\n",
    "            N = N//K\n",
    "        else:\n",
    "            N = N - 1\n",
    "        count += 1\n",
    "    return count\n",
    "\n",
    "\n",
    "divide_program(13,6)"
   ]
  },
  {
   "cell_type": "code",
   "execution_count": null,
   "id": "677f9d87",
   "metadata": {},
   "outputs": [],
   "source": [
    "손으로 정답 확인\n",
    "N:13 ,K:6\n",
    "1 : 13-1 = 12\n",
    "2 : 12/6 = 2\n",
    "3 : 2-1 = 1"
   ]
  },
  {
   "cell_type": "code",
   "execution_count": 2,
   "id": "94d225ab",
   "metadata": {},
   "outputs": [
    {
     "data": {
      "text/plain": [
       "5"
      ]
     },
     "execution_count": 2,
     "metadata": {},
     "output_type": "execute_result"
    }
   ],
   "source": [
    "divide_program(12,8)"
   ]
  },
  {
   "cell_type": "code",
   "execution_count": null,
   "id": "fcc235af",
   "metadata": {},
   "outputs": [],
   "source": [
    "손으로 정답 확인\n",
    "N:12,K:8\n",
    "1 : 12-1 = 11\n",
    "2 : 11-1 = 10\n",
    "3 : 10-1 = 9\n",
    "4 : 9-1 = 8\n",
    "5 : 8/8 = 1"
   ]
  },
  {
   "cell_type": "markdown",
   "id": "09d3264c",
   "metadata": {},
   "source": [
    "# 08-10"
   ]
  },
  {
   "cell_type": "markdown",
   "id": "35e4f422",
   "metadata": {},
   "source": [
    "### Q65.아래와 같이 출력하는 코드를 작성하세요."
   ]
  },
  {
   "cell_type": "code",
   "execution_count": null,
   "id": "21485363",
   "metadata": {},
   "outputs": [],
   "source": [
    "*\n",
    "**\n",
    "***\n",
    "****\n",
    "*****"
   ]
  },
  {
   "cell_type": "code",
   "execution_count": 2,
   "id": "f840de22",
   "metadata": {},
   "outputs": [
    {
     "name": "stdout",
     "output_type": "stream",
     "text": [
      "\n",
      "*\n",
      "**\n",
      "***\n",
      "****\n",
      "*****\n"
     ]
    }
   ],
   "source": [
    "for i in range(6):\n",
    "    print('*'*i)"
   ]
  },
  {
   "cell_type": "markdown",
   "id": "10fcb85a",
   "metadata": {},
   "source": [
    "# 08-11"
   ]
  },
  {
   "cell_type": "markdown",
   "id": "27579cdc",
   "metadata": {},
   "source": [
    "### Q66.아래와 같이 출력하는 코드를 작성하세요."
   ]
  },
  {
   "cell_type": "code",
   "execution_count": null,
   "id": "f6f2bef0",
   "metadata": {},
   "outputs": [],
   "source": [
    "     *\n",
    "    ***\n",
    "   *****\n",
    "  *******\n",
    " *********\n",
    "  *******\n",
    "   *****\n",
    "    ***\n",
    "     *\n"
   ]
  },
  {
   "cell_type": "code",
   "execution_count": 30,
   "id": "2d44a561",
   "metadata": {},
   "outputs": [
    {
     "name": "stdout",
     "output_type": "stream",
     "text": [
      "    * \n",
      "   *** \n",
      "  ***** \n",
      " ******* \n",
      "********* \n",
      "********* \n",
      " ******* \n",
      "  ***** \n",
      "   *** \n",
      "    * \n"
     ]
    }
   ],
   "source": [
    "for i in range(1,6):\n",
    "    for j in range(5-i):\n",
    "        print(' ',end=\"\")\n",
    "    for j in range(1,i*2,1):\n",
    "        print('*',end=\"\")\n",
    "    print(' ')\n",
    "\n",
    "for i in range(5):\n",
    "    for j in range(i):\n",
    "        print(' ',end=\"\")\n",
    "    for j in range(10,1+i*2,-1):\n",
    "        print('*',end=\"\")\n",
    "    print(' ')"
   ]
  },
  {
   "cell_type": "code",
   "execution_count": 19,
   "id": "04df2f07",
   "metadata": {},
   "outputs": [
    {
     "name": "stdout",
     "output_type": "stream",
     "text": [
      "         *\n",
      "       *\n",
      "     *\n",
      "   *\n",
      " *\n",
      "         ***\n",
      "       ***\n",
      "     ***\n",
      "   ***\n",
      " ***\n",
      "         *****\n",
      "       *****\n",
      "     *****\n",
      "   *****\n",
      " *****\n",
      "         *******\n",
      "       *******\n",
      "     *******\n",
      "   *******\n",
      " *******\n",
      "         *********\n",
      "       *********\n",
      "     *********\n",
      "   *********\n",
      " *********\n",
      "*******\n",
      " *******\n",
      "   *******\n",
      "     *******\n",
      "       *******\n",
      "*****\n",
      " *****\n",
      "   *****\n",
      "     *****\n",
      "       *****\n",
      "***\n",
      " ***\n",
      "   ***\n",
      "     ***\n",
      "       ***\n",
      "*\n",
      " *\n",
      "   *\n",
      "     *\n",
      "       *\n",
      "\n",
      " \n",
      "   \n",
      "     \n",
      "       \n"
     ]
    }
   ],
   "source": [
    "for i in range(-1,9,2):\n",
    "    for j in range(9,-1,-2):\n",
    "        print(' '*j+'*'*(i+2))\n",
    "\n",
    "for i in range(9,-1,-2):\n",
    "    for j in range(-1,9,2):\n",
    "        print(' '*j+'*'*(i-2))\n"
   ]
  },
  {
   "cell_type": "markdown",
   "id": "bf00226d",
   "metadata": {},
   "source": [
    "### Q67.나무의 삼각형 부분과 밑동의 높이를 입력하면 해당하는 높이의 아래와 같은 나무를 출력하는 프로그램을 작성하세요."
   ]
  },
  {
   "cell_type": "code",
   "execution_count": null,
   "id": "6bf7d546",
   "metadata": {},
   "outputs": [],
   "source": [
    "         *\n",
    "        ***\n",
    "       *****\n",
    "      *******\n",
    "     *********\n",
    "    ***********\n",
    "   *************\n",
    "  ***************\n",
    " *****************\n",
    "*******************\n",
    "        ***\n",
    "        ***\n",
    "        ***\n"
   ]
  },
  {
   "cell_type": "code",
   "execution_count": 76,
   "id": "4a5a181d",
   "metadata": {},
   "outputs": [
    {
     "name": "stdout",
     "output_type": "stream",
     "text": [
      "                              *\n",
      "                             ***\n",
      "                            *****\n",
      "                           *******\n",
      "                          *********\n",
      "                         ***********\n",
      "                        *************\n",
      "                       ***************\n",
      "                      *****************\n",
      "                     *******************\n",
      "                    *********************\n",
      "                   ***********************\n",
      "                  *************************\n",
      "                 ***************************\n",
      "                *****************************\n",
      "               *******************************\n",
      "              *********************************\n",
      "             ***********************************\n",
      "            *************************************\n",
      "           ***************************************\n",
      "          *****************************************\n",
      "         *******************************************\n",
      "        *********************************************\n",
      "       ***********************************************\n",
      "      *************************************************\n",
      "     ***************************************************\n",
      "    *****************************************************\n",
      "   *******************************************************\n",
      "  *********************************************************\n",
      " ***********************************************************\n",
      "                             ***\n",
      "                             ***\n",
      "                             ***\n",
      "                             ***\n",
      "                             ***\n",
      "                             ***\n",
      "                             ***\n"
     ]
    }
   ],
   "source": [
    "def make_tree(height):\n",
    "    for i in range(1,1+height):\n",
    "        print(\" \"*(height-i),\"*\"*(2*i-1))\n",
    "        \n",
    "    for i in range(1+height//5):\n",
    "        print(\" \"*(height-1)+\"***\")\n",
    "        \n",
    "make_tree(30)"
   ]
  },
  {
   "cell_type": "markdown",
   "id": "a9e12845",
   "metadata": {},
   "source": [
    "## 08-12"
   ]
  },
  {
   "cell_type": "markdown",
   "id": "a3ad93f3",
   "metadata": {},
   "source": [
    "### Q68. 구구단을 출력하는 프로그램을 만드세요."
   ]
  },
  {
   "cell_type": "code",
   "execution_count": 12,
   "id": "caaf4f4c",
   "metadata": {},
   "outputs": [
    {
     "name": "stdout",
     "output_type": "stream",
     "text": [
      "----2단----\n",
      " 2*1 = 2  \n",
      " 2*2 = 4  \n",
      " 2*3 = 6  \n",
      " 2*4 = 8  \n",
      " 2*5 = 10  \n",
      " 2*6 = 12  \n",
      " 2*7 = 14  \n",
      " 2*8 = 16  \n",
      " 2*9 = 18  \n",
      "----3단----\n",
      " 3*1 = 3  \n",
      " 3*2 = 6  \n",
      " 3*3 = 9  \n",
      " 3*4 = 12  \n",
      " 3*5 = 15  \n",
      " 3*6 = 18  \n",
      " 3*7 = 21  \n",
      " 3*8 = 24  \n",
      " 3*9 = 27  \n",
      "----4단----\n",
      " 4*1 = 4  \n",
      " 4*2 = 8  \n",
      " 4*3 = 12  \n",
      " 4*4 = 16  \n",
      " 4*5 = 20  \n",
      " 4*6 = 24  \n",
      " 4*7 = 28  \n",
      " 4*8 = 32  \n",
      " 4*9 = 36  \n",
      "----5단----\n",
      " 5*1 = 5  \n",
      " 5*2 = 10  \n",
      " 5*3 = 15  \n",
      " 5*4 = 20  \n",
      " 5*5 = 25  \n",
      " 5*6 = 30  \n",
      " 5*7 = 35  \n",
      " 5*8 = 40  \n",
      " 5*9 = 45  \n",
      "----6단----\n",
      " 6*1 = 6  \n",
      " 6*2 = 12  \n",
      " 6*3 = 18  \n",
      " 6*4 = 24  \n",
      " 6*5 = 30  \n",
      " 6*6 = 36  \n",
      " 6*7 = 42  \n",
      " 6*8 = 48  \n",
      " 6*9 = 54  \n",
      "----7단----\n",
      " 7*1 = 7  \n",
      " 7*2 = 14  \n",
      " 7*3 = 21  \n",
      " 7*4 = 28  \n",
      " 7*5 = 35  \n",
      " 7*6 = 42  \n",
      " 7*7 = 49  \n",
      " 7*8 = 56  \n",
      " 7*9 = 63  \n",
      "----8단----\n",
      " 8*1 = 8  \n",
      " 8*2 = 16  \n",
      " 8*3 = 24  \n",
      " 8*4 = 32  \n",
      " 8*5 = 40  \n",
      " 8*6 = 48  \n",
      " 8*7 = 56  \n",
      " 8*8 = 64  \n",
      " 8*9 = 72  \n",
      "----9단----\n",
      " 9*1 = 9  \n",
      " 9*2 = 18  \n",
      " 9*3 = 27  \n",
      " 9*4 = 36  \n",
      " 9*5 = 45  \n",
      " 9*6 = 54  \n",
      " 9*7 = 63  \n",
      " 9*8 = 72  \n",
      " 9*9 = 81  \n"
     ]
    }
   ],
   "source": [
    "for i in range(2,10):\n",
    "    print(f'----{i}단----')\n",
    "    for j in range(1,10):\n",
    "        print(f' {i}*{j} = {i*j}  ')"
   ]
  },
  {
   "cell_type": "markdown",
   "id": "8cce626f",
   "metadata": {},
   "source": [
    "# 08-16"
   ]
  },
  {
   "cell_type": "markdown",
   "id": "ccbb4633",
   "metadata": {},
   "source": [
    "## Q69.\n",
    "아래와 같이 입력하면 N X M 행렬 형태의 숫자 카드 중에서 먼저 뽑고자 하는 카드가 포함되어 있는 행을 선택한 후 그 행에서 가장 숫자가 낮은 카드를 뽑아야 하는 규칙하에서 가장 높은 숫자가 쓰인 카드 한장의 숫자를 출력하는 프로그램을 작성하세요. \n",
    "- 첫번째 입력 : N X M 형열에 대하여 N(행), M(열)의 개수를 공백을 기준으로 입력(1<= N, M<=100)\n",
    "- 두번째 입력 : 각 행의 숫자를 공백을 기준으로 입력. 단, 각 숫자는 1 이상 10000 이하의 자연수임."
   ]
  },
  {
   "cell_type": "code",
   "execution_count": null,
   "id": "3aefdcdb",
   "metadata": {},
   "outputs": [],
   "source": [
    "- 입력 : \n",
    "    1. N(행), M(열) / (1<= N, M<=100) \n",
    "    2. 각 행의 숫자, 공백 기준 / 1<자연수<=10000 / for문\n",
    "    \n",
    "- 조건 : \n",
    "    1. 뽑고자 하는 숫자가 있는 행 선택\n",
    "    2. 해당 행에서 가장 숫자가 낮은 것을 뽑기\n",
    "\n",
    "- 출력 : 가장 높은 숫자"
   ]
  },
  {
   "cell_type": "code",
   "execution_count": 5,
   "id": "5185b673",
   "metadata": {},
   "outputs": [],
   "source": [
    "import pandas as pd\n",
    "\n",
    "def high_card_pick():\n",
    "    \n",
    "    # 행렬 입력\n",
    "    nm = input(' N X M 행렬에서 공백을 기준으로 N과 M을 입력하세요 > ')\n",
    "    print('='*100)\n",
    "    n = nm.split(' ')[0]\n",
    "    n = int(n)\n",
    "    m = nm.split(' ')[1]\n",
    "    m = int(m)\n",
    "    \n",
    "    # 각 행의 숫자 입력 : 행의 수 만큼 반복\n",
    "    row_nums = []\n",
    "    for i in range(n):\n",
    "        row_num_input = input(f'{i}행의 숫자를 공백을 기준으로 입력하세요 > ')\n",
    "        row_num = row_num_input.split(' ')\n",
    "        \n",
    "        # 열의 수만큼 입력하는 지 확인\n",
    "        if len(row_num) <= m :\n",
    "            row_nums.append(row_num)\n",
    "        else :\n",
    "            break\n",
    "    \n",
    "    df = pd.DataFrame(row_nums)\n",
    "    df = df.astype(int) # 데이터프레임 전체 요소 str -> int\n",
    "    print(df)\n",
    "    print('='*100)\n",
    "    \n",
    "    # 뽑고자 하는 숫자가 있는 횟수와 행 선택\n",
    "    times = int(input('카드를 뽑을 횟수를 입력하세요 > '))\n",
    "    \n",
    "    row_pick_mins = []\n",
    "    for li in range(times):\n",
    "        row_pick = int(input('뽑고자 하는 숫자가 있는 행을 입력하세요 > '))\n",
    "        row_pick_min = df.loc[row_pick].min()\n",
    "        row_pick_mins.append(row_pick_min)\n",
    "        \n",
    "    print(max(row_pick_mins))\n"
   ]
  },
  {
   "cell_type": "code",
   "execution_count": 6,
   "id": "4afa60ac",
   "metadata": {},
   "outputs": [
    {
     "name": "stdout",
     "output_type": "stream",
     "text": [
      " N X M 행렬에서 공백을 기준으로 N과 M을 입력하세요 > 3 3\n",
      "====================================================================================================\n",
      "0행의 숫자를 공백을 기준으로 입력하세요 > 1 2 3\n",
      "1행의 숫자를 공백을 기준으로 입력하세요 > 4 5 6\n",
      "2행의 숫자를 공백을 기준으로 입력하세요 > 7 8 9\n",
      "   0  1  2\n",
      "0  1  2  3\n",
      "1  4  5  6\n",
      "2  7  8  9\n",
      "카드를 뽑을 횟수를 입력하세요 > 3\n",
      "뽑고자 하는 숫자가 있는 행을 입력하세요 > 0\n",
      "뽑고자 하는 숫자가 있는 행을 입력하세요 > 1\n",
      "뽑고자 하는 숫자가 있는 행을 입력하세요 > 2\n",
      "7\n"
     ]
    }
   ],
   "source": [
    "high_card_pick()"
   ]
  },
  {
   "cell_type": "code",
   "execution_count": 7,
   "id": "83cc049e",
   "metadata": {},
   "outputs": [
    {
     "name": "stdout",
     "output_type": "stream",
     "text": [
      "2 2\n",
      "1 4 5\n",
      "3\n",
      "3\n"
     ]
    }
   ],
   "source": [
    "# 구글링 답안 예시1_ min() 함수를 이용하여 푸는 예시\n",
    "n, m = map(int, input().split())\n",
    "\n",
    "result = 0\n",
    "\n",
    "# 한 줄씩 입력받아 확인\n",
    "for i in range(n):\n",
    "    data = list(map(int, input().split()))\n",
    "    # 현재 줄에서 '가장 작은 수 찾기'\n",
    "    min_value = min(data)\n",
    "    # '가장 작은 수'들 중에서 가장 큰 수 찾기\n",
    "    result = max(result, min_value)\n",
    "\n",
    "print (result)"
   ]
  },
  {
   "cell_type": "code",
   "execution_count": null,
   "id": "59771592",
   "metadata": {},
   "outputs": [],
   "source": [
    "# 구글링 답안 예시_ 2중 반복문 구조를 이용하는 예시\n",
    "n, m = map(int, input().split())\n",
    "\n",
    "result = 0\n",
    "\n",
    "# 한 줄씩 입력받아 확인\n",
    "for i in range(n):\n",
    "    data = list(map(int, input().split()))\n",
    "    # 현재 줄에서 '가장 작은 수 찾기'\n",
    "    min_value = 10001  # 각 숫자는 1이상 10,000이하의 자연수\n",
    "    for a in data:\n",
    "        min_value = min(min_value, a)\n",
    "    # '가장 작은 수'들 중에서 가장 큰 수 찾기\n",
    "    result = max(result, min_value)\n",
    "\n",
    "print(result)"
   ]
  },
  {
   "cell_type": "code",
   "execution_count": 21,
   "id": "7ce91f37",
   "metadata": {},
   "outputs": [
    {
     "name": "stdout",
     "output_type": "stream",
     "text": [
      "['3', '4']\n"
     ]
    }
   ],
   "source": [
    "nm = '3 4'\n",
    "n = nm.split(' ')\n",
    "print(n)"
   ]
  },
  {
   "cell_type": "code",
   "execution_count": 29,
   "id": "b76354c6",
   "metadata": {},
   "outputs": [
    {
     "name": "stdout",
     "output_type": "stream",
     "text": [
      "0행의 숫자를 공백을 기준으로 입력해주세요 > 1 2\n",
      "1행의 숫자를 공백을 기준으로 입력해주세요 > 2 3\n",
      "2행의 숫자를 공백을 기준으로 입력해주세요 > 5 6\n",
      "[['1', '2'], ['2', '3'], ['5', '6']]\n"
     ]
    }
   ],
   "source": [
    "# 행열 수에 맞춰 입력받기\n",
    "row_nums = []\n",
    "for i in range(3):\n",
    "    row_num = input(f'{i}행의 숫자를 공백을 기준으로 입력해주세요 > ')\n",
    "    n1 =  row_num.split(' ')\n",
    "    if len(n1)<3: \n",
    "        row_nums.append(n1)\n",
    "    else:\n",
    "        break\n",
    "print(row_nums)"
   ]
  },
  {
   "cell_type": "code",
   "execution_count": 53,
   "id": "6b1e291f",
   "metadata": {},
   "outputs": [
    {
     "name": "stdout",
     "output_type": "stream",
     "text": [
      "0행의 숫자를 공백을 기준으로 입력해주세요 > 3 5\n",
      "1행의 숫자를 공백을 기준으로 입력해주세요 > 3 4\n",
      "2행의 숫자를 공백을 기준으로 입력해주세요 > 1 4\n",
      "   0  1\n",
      "0  3  5\n",
      "1  3  4\n",
      "2  1  4\n"
     ]
    }
   ],
   "source": [
    "# 시리즈로 만들기\n",
    "import pandas as pd\n",
    "row_nums = []\n",
    "for i in range(3):\n",
    "    row_num = input(f'{i}행의 숫자를 공백을 기준으로 입력해주세요 > ')\n",
    "    n1 =  row_num.split(' ')\n",
    "    if len(n1)<3: \n",
    "        row_nums.append(n1)\n",
    "    else:\n",
    "        break\n",
    "df = pd.DataFrame(row_nums)\n",
    "df = df.astype(int)\n",
    "print(df)"
   ]
  },
  {
   "cell_type": "code",
   "execution_count": 54,
   "id": "d31f5d2d",
   "metadata": {},
   "outputs": [
    {
     "data": {
      "text/plain": [
       "0    int64\n",
       "1    int64\n",
       "dtype: object"
      ]
     },
     "execution_count": 54,
     "metadata": {},
     "output_type": "execute_result"
    }
   ],
   "source": [
    "df.dtypes"
   ]
  },
  {
   "cell_type": "code",
   "execution_count": 77,
   "id": "16996aba",
   "metadata": {},
   "outputs": [
    {
     "name": "stdout",
     "output_type": "stream",
     "text": [
      "0    3\n",
      "1    5\n",
      "Name: 0, dtype: int64\n",
      "3\n"
     ]
    }
   ],
   "source": [
    "print(df.loc[0])\n",
    "a = df.loc[0].min()\n",
    "print(a)"
   ]
  },
  {
   "cell_type": "markdown",
   "id": "2935566c",
   "metadata": {},
   "source": [
    "# 08-17"
   ]
  },
  {
   "cell_type": "markdown",
   "id": "5afafce6",
   "metadata": {},
   "source": [
    "### Q70. \n",
    "min max 함수, 정렬 등의 방법으로 풀었다. 위 문제를 다중 for문을 사용하여 풀어보세요."
   ]
  },
  {
   "cell_type": "markdown",
   "id": "0eb58c59",
   "metadata": {},
   "source": [
    "### Q71.\n",
    "여행가 A는 N X N 크기의 정사각형 공간에 서 있다. A는 6개의 이동 명령 계획에 따라 움직이게 된다. 이동 명령은 L(왼쪽), R(오른쪽), U(윗쪽), D(아랫쪽)로 구성되며 R R R U D D와 같이 6개이다. 정사각형 공간을 벗어나는 움직임은 무시된다. 언급한 규칙에 따라 N과 이동 명령 계획으로 각각 5와 R R R U D D를 입력하면 A의 공간 좌표는 3 4가 된다. 이동 명력 계획서가 주어질 때 A가 최종적으로 도착할 지점의 좌표를 출력하는 프로그램을 작성하시오.\n"
   ]
  },
  {
   "cell_type": "code",
   "execution_count": null,
   "id": "c7f03f1d",
   "metadata": {},
   "outputs": [],
   "source": [
    "(1,1)(1,2)(1,3)(1,4)\n",
    "               (2,4)\n",
    "               (3,4)"
   ]
  },
  {
   "cell_type": "markdown",
   "id": "ffb45254",
   "metadata": {},
   "source": [
    "- 입력 :   N X N / L(왼쪽), R(오른쪽), U(윗쪽), D(아랫쪽)\n",
    "- 조건 : 정사각형 공간을 벗어나는 움직임은 무시\n",
    "- 출력 : 도착할 지점의 좌표"
   ]
  },
  {
   "cell_type": "code",
   "execution_count": null,
   "id": "ccf85ae4",
   "metadata": {},
   "outputs": [],
   "source": [
    "n = input('정사각형의 크기 입력 > ')\n",
    "a, b = map(int, input('처음 위치 입력 > ').split())\n",
    "move=[]\n",
    "move = input('6개의 이동 명령 입력 > ').split()\n",
    "\n",
    "if move == 'L':\n",
    "    if a<0 or a<n\n",
    "    a = a-1"
   ]
  },
  {
   "cell_type": "markdown",
   "id": "a874ffac",
   "metadata": {},
   "source": [
    "# 08-18"
   ]
  },
  {
   "cell_type": "markdown",
   "id": "65014c6a",
   "metadata": {},
   "source": [
    "## Q72.\n",
    "정수 N이 입력되면 00시 00분 00초부터 N시 59분 59초까지의 모든 시각 중에서 3이 하나라도 포함되는 모든 경우의 수를 구하는 프로그램을 작성하시오.(0<= N <=23)\n"
   ]
  },
  {
   "cell_type": "code",
   "execution_count": null,
   "id": "caf92288",
   "metadata": {},
   "outputs": [],
   "source": [
    "00시 02분 03초\n",
    "00시 27분 45초\n",
    "7 -> 14625"
   ]
  },
  {
   "cell_type": "code",
   "execution_count": null,
   "id": "98cb9b88",
   "metadata": {},
   "outputs": [],
   "source": [
    "- 입력 : 정수 N (0<= N <=23)\n",
    "- 조건 : 3이 하나라도 포함되는 모든 경우 \n",
    "- 출력 : 조건의 카운트"
   ]
  },
  {
   "cell_type": "code",
   "execution_count": null,
   "id": "4cc48123",
   "metadata": {},
   "outputs": [],
   "source": [
    "000003\n",
    "000030\n",
    "000300\n",
    "003000\n",
    "030000\n",
    "005959"
   ]
  },
  {
   "cell_type": "code",
   "execution_count": 1,
   "id": "92ecd75f",
   "metadata": {},
   "outputs": [
    {
     "name": "stdout",
     "output_type": "stream",
     "text": [
      "정수 N > 7\n",
      "14625\n",
      "28800\n"
     ]
    }
   ],
   "source": [
    "N = int(input('정수 N > '))\n",
    "sum = 0\n",
    "num = ''\n",
    "for i in range(N+1):\n",
    "    si = str(i)\n",
    "    for j in range(60):\n",
    "        bun = str(j)\n",
    "        for k in range(60):\n",
    "            cho = str(k) \n",
    "            num = si+bun+cho\n",
    "            \n",
    "            if '3' in num:\n",
    "                sum += 1\n",
    "            else:\n",
    "                pass\n",
    "print(sum)\n",
    "print((N+1)*3600)"
   ]
  },
  {
   "cell_type": "markdown",
   "id": "4e28ceba",
   "metadata": {},
   "source": [
    "# 08-19"
   ]
  },
  {
   "cell_type": "markdown",
   "id": "5e0caedb",
   "metadata": {},
   "source": [
    "### Q73.행 위치는 1~8로 열 위치는 a ~ h로 표현하는 8 x 8 좌표 평면상에서 특정 위치가 주어졌을 때 아래 조건하에서 그 위치에서 이동할 수 있는 경우의 수를 출력하는 프로그램을 작성하세요.\n",
    "- 수평으로 두 칸 이동한 뒤에 수직으로 한 칸 이동\n",
    "- 수직으로 두 칸 이동한 뒤에 수평으로 한 칸 이동\n",
    "- 8 x 8 좌표 평면을 나갈 수 없음\n"
   ]
  },
  {
   "cell_type": "code",
   "execution_count": null,
   "id": "a63a41cd",
   "metadata": {},
   "outputs": [],
   "source": [
    "(-1,-2)(1,-2)\n",
    "(2,1)(-2,-1)\n",
    "b3"
   ]
  },
  {
   "cell_type": "code",
   "execution_count": 1,
   "id": "ba565bb9",
   "metadata": {},
   "outputs": [
    {
     "name": "stdout",
     "output_type": "stream",
     "text": [
      "6\n"
     ]
    },
    {
     "data": {
      "text/plain": [
       "6"
      ]
     },
     "execution_count": 1,
     "metadata": {},
     "output_type": "execute_result"
    }
   ],
   "source": [
    "cols = [chr(i) for i in range(ord('a'),ord('h')+1)]\n",
    "rows = list(range(1,9))\n",
    "\n",
    "steps = [(-2,-1),(-2,1),(2,-1),(2,1),(1,-2),(-1,-2),(1,2),(-1,2)]\n",
    "\n",
    "def solution(start):\n",
    "    ans = 0 # 경우의 수\n",
    "    \n",
    "    r = rows.index(int(start[1])) + 1\n",
    "    c = cols.index(start[0])+1\n",
    "    \n",
    "    for step in steps:\n",
    "        next_r = r + step[0]\n",
    "        next_c = c + step[1]\n",
    "        if next_r >= 1 and next_r<=9 and next_c >= 1 and next_c<=8:\n",
    "            ans += 1\n",
    "            \n",
    "    print(ans)\n",
    "    return ans\n",
    "\n",
    "\n",
    "start = 'c2'\n",
    "solution(start)    "
   ]
  },
  {
   "cell_type": "markdown",
   "id": "89f4b351",
   "metadata": {},
   "source": [
    "# 08-22"
   ]
  },
  {
   "cell_type": "markdown",
   "id": "b619f08d",
   "metadata": {},
   "source": [
    "### Q74.\n",
    "캐릭터는 매뉴얼에 따라 이동한다. 아래 입력조건에 따라 캐릭터가 방문한 칸의 수를 출력하는 프로그램을 작성하세요.\n",
    "\n",
    "- 입력조건\n",
    "  - 첫째 줄에 맵의 세로 크기 N과 가로 크기 M을 공백으로 구분하여 입력 (3 <= N,M <=50)\n",
    "  - 둘째 줄에 게임 캐릭터가 있는 칸의 좌표 (A,B)와 바라보는 방향 d가 각각 서로 공백으로 구분하여 입력(방향 d의 값으로는 북, 동, 남, 서가 각각 0,1,2,3)\n",
    "  - 세째 줄에 맵이 육지인지 바다인지에 대한 정보 입력(육지 0, 바다 1) N개의 줄에 맵의 상태가 북쪽으로 부터 남쪽순서대로 각 줄의 데이터는 서쪽부터 동쪽 순서대로 주어진다.\n",
    "  - 처음에 캐릭터가 위치한 칸의 상태는 항상 육지이다.\n",
    "\n",
    "\n",
    "- 매뉴얼<BR>\n",
    "  캐릭터가 있는 장소는 1 X 1 크기의 정사각형으로 이루어진 N X M 크기의 직사각형으로 각각의 칸은 육지 또는 바다이다.캐릭터는 동서남북 중 한 곳을 바라본다. 맵의 각 칸은 (A, B)로 나타낼 수 있고 A는 북쪽으로부터 떨어진 칸의 개수, B는 서쪽으로부터 떨어진 칸의 개수이다.캐릭터는 상하좌우로 움직일 수 있고 바다로 되어 있는 공간에는 갈 수 없다. 캐릭터의 움직임 설정을 위한 매뉴얼은 아래와 같다.\n",
    "  - 현재 위치에서 현재 방향을 기준으로 왼쪽 방향부터 차례대로 갈 곳을 정한다.\n",
    "  - 캐릭터의 바로 왼쪽 방향에 아직 가보지 않은 칸이 존재한다면 왼쪽 방향으로 회전한 다음 왼쪽으로 한 칸을 전진한다. 왼쪽 방향에 가보지 않은 칸이 없다면 왼쪽 방향으로 회전만 수행하고 1단계로 돌아간다.\n",
    "  - 만약 네 방향 모두 이미 가본 칸이거나 바다로 되어 있는 칸인 경우에는 바라보는 방향을 유지한 채로 한 칸 뒤로 가고 1단계로 돌아간다. 단, 이때 뒤쪽 방향이 바다인 칸이라 뒤로 갈수 없는 경우에는 움직임을 멈춘다.\n"
   ]
  },
  {
   "cell_type": "code",
   "execution_count": null,
   "id": "8ada709f",
   "metadata": {},
   "outputs": [],
   "source": [
    "0 0 0\n",
    "1 1 0\n",
    "1 1 0"
   ]
  },
  {
   "cell_type": "markdown",
   "id": "3c63513e",
   "metadata": {},
   "source": [
    "- 입력 : \n",
    "    - 세로 N 가로 M (3 <= N,M <=50)\n",
    "        N M\n",
    "    - 캐릭터 현재 좌표 (A,B), 바라보는 방향 d (북, 동, 남, 서가 각각 0,1,2,3 // 시계방향)\n",
    "        A B d\n",
    "    - 맵 채우기 : 육지 0 바다 1\n",
    "        0 or 1\n",
    "- 조건 :\n",
    "    - 행열로 이루어짐\n",
    "    - 처음 캐릭터가 위치한 칸은 항상 육지 -> 0\n",
    "    - 상하좌우 움직\n",
    "    - 바다는 갈 수 없다\n",
    "\n",
    "- 무브 : \n",
    "    1. 입력받은 방향 d를 기준으로 왼쪽 방향 행+-1 or 열+-1\n",
    "        - 왼쪽 방향에 아직 가보지 않은 칸이 존재? 그 방향으로 전진\n",
    "    2. 왼쪽 방향에 가보지 않은 칸이 없다면 왼쪽 방향으로 회전만 수행하고 1단계로 돌아감\n",
    "    3. 만약 네 방향 모두 이미 가본 칸이거나 바다(1)로 되어 있는 칸인 경우 -> 바라보는 방향을 유지한 채 한 칸 뒤로\n",
    "        - 이때 뒤쪽 방향이 바다(1)인 칸이라 뒤로 갈수 없는 경우에는 스탑\n",
    "        \n",
    "        \n",
    "- 출력 : 캐릭터가 방문한 칸의 수"
   ]
  },
  {
   "cell_type": "code",
   "execution_count": 9,
   "id": "a6448cc6",
   "metadata": {},
   "outputs": [
    {
     "name": "stdout",
     "output_type": "stream",
     "text": [
      "N M > 4 4\n",
      "A B d > 1 1 0\n",
      "바다:1 육지:0 > 1\n",
      "바다:1 육지:0 > 1\n",
      "바다:1 육지:0 > 1\n",
      "바다:1 육지:0 > 1\n",
      "바다:1 육지:0 > 1\n",
      "바다:1 육지:0 > 0\n",
      "바다:1 육지:0 > 0\n",
      "바다:1 육지:0 > 1\n",
      "바다:1 육지:0 > 1\n",
      "바다:1 육지:0 > 0\n",
      "바다:1 육지:0 > 0\n",
      "바다:1 육지:0 > 1\n",
      "바다:1 육지:0 > 1\n",
      "바다:1 육지:0 > 1\n",
      "바다:1 육지:0 > 1\n",
      "바다:1 육지:0 > 1\n",
      "\n",
      " 처음 지도 \n",
      " [[1 1 1 1]\n",
      " [1 0 0 1]\n",
      " [1 0 0 1]\n",
      " [1 1 1 1]] \n",
      "\n",
      "거북이가 방문한 칸의 수 : 3\n",
      "\n",
      "거북이가 그린 지도 \n",
      " [[1 1 1 1]\n",
      " [1 0 0 1]\n",
      " [1 0 0 1]\n",
      " [1 1 1 1]]\n"
     ]
    }
   ],
   "source": [
    "import numpy as np\n",
    "\n",
    "def turtle_trip():\n",
    "    N,M = map(int,input('N M > ').split(' '))\n",
    "\n",
    "    if N<3 or (M>50 and M<0):\n",
    "        pass\n",
    "    else:\n",
    "        A,B,d = map(int,input('A B d > ').split(' '))\n",
    "    \n",
    "    base_map = np.arange(N*M).reshape(N,M)\n",
    "    \n",
    "    for i in range(N):\n",
    "        for j in range(M):\n",
    "            base_map[i,j] = int(input('바다:1 육지:0 > '))\n",
    "            \n",
    "\n",
    "    row = A\n",
    "    col = B\n",
    "    \n",
    "    base_map[row,col] = 0\n",
    "    cnt = 0\n",
    "    \n",
    "    print(f'\\n 처음 지도 \\n {base_map} \\n')\n",
    "    try:\n",
    "        while(True):\n",
    "            # 북쪽 방향\n",
    "            if d == 0:\n",
    "                if base_map[row,col-1] == 1:\n",
    "                    row = row+1\n",
    "                    cnt += 1\n",
    "                elif base_map[row,col-1] == 0:\n",
    "                    base_map[row,col-1] = 1\n",
    "                    cnt += 1\n",
    "                    d = 3\n",
    "                    col = col-1\n",
    "                else:\n",
    "                    pass\n",
    "\n",
    "            # 동쪽 방향\n",
    "            if d == 1:\n",
    "                if base_map[row-1,col] == 1:\n",
    "                    col = col-1\n",
    "                    cnt += 1\n",
    "                elif base_map[row-1,col]== 0:\n",
    "                    base_map[row-1,col]=1\n",
    "                    cnt += 1\n",
    "                    d = 0\n",
    "                    row = row-1\n",
    "                else :\n",
    "                    pass\n",
    "\n",
    "            # 남쪽 방향   \n",
    "            if d == 2:\n",
    "                if base_map[row,col+1] == 1:\n",
    "                    row = row-1\n",
    "                    cnt += 1\n",
    "                elif base_map[row,col+1] == 0:\n",
    "                    base_map[row,col+1] =1\n",
    "                    cnt += 1\n",
    "                    d = 1\n",
    "                    col = col+1\n",
    "                else :\n",
    "                    pass            \n",
    "\n",
    "            # 서쪽 방향       \n",
    "            if d == 3:\n",
    "                if base_map[row+1,col] == 1:\n",
    "                    col = col+1\n",
    "                    cnt += 1\n",
    "                elif base_map[row+1,col] == 0:\n",
    "                    base_map[row+1,col] =1\n",
    "                    cnt += 1\n",
    "                    d = 2\n",
    "                    row = row+1\n",
    "                else :\n",
    "                    pass\n",
    "    except:\n",
    "        print(f'거북이가 방문한 칸의 수 : {cnt}\\n')\n",
    "        print(f'거북이가 그린 지도 \\n {base_map}')\n",
    "\n",
    "turtle_trip()"
   ]
  },
  {
   "cell_type": "code",
   "execution_count": 2,
   "id": "80bc6e93",
   "metadata": {},
   "outputs": [
    {
     "name": "stdout",
     "output_type": "stream",
     "text": [
      "N M >3 3\n",
      "A B d >1 1 1\n",
      "3\n",
      "3\n",
      "1\n",
      "1\n",
      "1\n"
     ]
    }
   ],
   "source": [
    "import numpy as np\n",
    "\n",
    "N,M = map(int,input('N M >').split(' '))\n",
    "if N<3 or (M>50 and M<0):\n",
    "    pass\n",
    "else:\n",
    "    A,B,d = map(int,input('A B d >').split(' '))\n",
    "\n",
    "print(N)\n",
    "print(M)\n",
    "print(A)\n",
    "print(B)\n",
    "print(d)"
   ]
  },
  {
   "cell_type": "code",
   "execution_count": 4,
   "id": "024c6957",
   "metadata": {},
   "outputs": [
    {
     "name": "stdout",
     "output_type": "stream",
     "text": [
      "N M > 3 3\n",
      "A B d > 1 1 1\n",
      "바다:1 육지:0 > 1\n",
      "바다:1 육지:0 > 1\n",
      "바다:1 육지:0 > 0\n",
      "바다:1 육지:0 > 0\n",
      "바다:1 육지:0 > 1\n",
      "바다:1 육지:0 > 1\n",
      "바다:1 육지:0 > 0\n",
      "바다:1 육지:0 > 0\n",
      "바다:1 육지:0 > 1\n",
      "[[1 1 0]\n",
      " [0 1 1]\n",
      " [0 0 1]]\n"
     ]
    }
   ],
   "source": [
    "N,M = map(int,input('N M > ').split(' '))\n",
    "\n",
    "if N<3 or (M>50 and M<0):\n",
    "    pass\n",
    "else:\n",
    "    \n",
    "    A,B,d = map(int,input('A B d > ').split(' '))\n",
    "    \n",
    "    base_map = np.arange(N*M).reshape(N,M)\n",
    "    \n",
    "    for i in range(N):\n",
    "        for j in range(M):\n",
    "            base_map[i,j] = int(input('바다:1 육지:0 > '))\n",
    "    \n",
    "    \n",
    "print(base_map)"
   ]
  },
  {
   "cell_type": "code",
   "execution_count": 5,
   "id": "4c2bedc5",
   "metadata": {},
   "outputs": [
    {
     "name": "stdout",
     "output_type": "stream",
     "text": [
      "N M > 3 3\n",
      "A B d > 1 1 1\n",
      "바다:1 육지:0 > 1\n",
      "바다:1 육지:0 > 1\n",
      "바다:1 육지:0 > 1\n",
      "바다:1 육지:0 > 1\n",
      "바다:1 육지:0 > 1\n",
      "바다:1 육지:0 > 1\n",
      "바다:1 육지:0 > 1\n",
      "바다:1 육지:0 > 1\n",
      "바다:1 육지:0 > 1\n",
      "[[1 1 1]\n",
      " [1 0 1]\n",
      " [1 1 1]]\n"
     ]
    }
   ],
   "source": [
    "N,M = map(int,input('N M > ').split(' '))\n",
    "\n",
    "if N<3 or (M>50 and M<0):\n",
    "    pass\n",
    "else:\n",
    "    \n",
    "    A,B,d = map(int,input('A B d > ').split(' '))\n",
    "    \n",
    "    base_map = np.arange(N*M).reshape(N,M)\n",
    "    \n",
    "    for i in range(N):\n",
    "        for j in range(M):\n",
    "            base_map[i,j] = int(input('바다:1 육지:0 > '))\n",
    "    \n",
    "    base_map[A,B] = 0\n",
    "    \n",
    "print(base_map)"
   ]
  },
  {
   "cell_type": "code",
   "execution_count": 4,
   "id": "56a18737",
   "metadata": {},
   "outputs": [
    {
     "name": "stdout",
     "output_type": "stream",
     "text": [
      "N M > 3 3\n",
      "A B d > 1 1 0\n",
      "바다:1 육지:0 > 0\n",
      "바다:1 육지:0 > 0\n",
      "바다:1 육지:0 > 1\n",
      "바다:1 육지:0 > 1\n",
      "바다:1 육지:0 > 1\n",
      "바다:1 육지:0 > 0\n",
      "바다:1 육지:0 > 0\n",
      "바다:1 육지:0 > 0\n",
      "바다:1 육지:0 > 0\n",
      "북빽\n",
      "북완\n",
      "거북이가 방문한 칸의 수 : 1\n",
      "거북이가 그린 지도 \n",
      " [[0 0 1]\n",
      " [1 0 0]\n",
      " [1 0 0]]\n"
     ]
    }
   ],
   "source": [
    "N,M = map(int,input('N M > ').split(' '))\n",
    "\n",
    "if N<3 or (M>50 and M<0):\n",
    "    pass\n",
    "else:\n",
    "    \n",
    "    A,B,d = map(int,input('A B d > ').split(' '))\n",
    "    \n",
    "    base_map = np.arange(N*M).reshape(N,M)\n",
    "    \n",
    "    for i in range(N):\n",
    "        for j in range(M):\n",
    "            base_map[i,j] = int(input('바다:1 육지:0 > '))\n",
    "\n",
    "    row = A\n",
    "    col = B\n",
    "    \n",
    "    base_map[row,col] = 0\n",
    "    cnt = 0\n",
    "    \n",
    "    try:\n",
    "        while(True):\n",
    "            # 북쪽 방향\n",
    "            if d == 0:\n",
    "                if base_map[row,col-1] == 1:\n",
    "                    row = row+1\n",
    "                    print('북빽')\n",
    "                elif base_map[row,col-1] == 0:\n",
    "                    base_map[row,col-1] = 1\n",
    "                    cnt += 1\n",
    "                    d = 3\n",
    "                    col = col-1\n",
    "                    print('북완')\n",
    "                else:\n",
    "                    pass\n",
    "\n",
    "            # 동쪽 방향\n",
    "            if d == 1:\n",
    "                if base_map[row-1,col] == 1:\n",
    "                    col = col-1\n",
    "                    print('동빽')\n",
    "                elif base_map[row-1,col]== 0:\n",
    "                    base_map[row-1,col]=1\n",
    "                    cnt += 1\n",
    "                    d = 0\n",
    "                    row = row-1\n",
    "                    print('동완')\n",
    "                else :\n",
    "                    pass\n",
    "\n",
    "            # 남쪽 방향   \n",
    "            if d == 2:\n",
    "                if base_map[row,col+1] == 1:\n",
    "                    row = row-1\n",
    "                    print('남빽') \n",
    "                elif base_map[row,col+1] == 0:\n",
    "                    base_map[row,col+1] =1\n",
    "                    cnt += 1\n",
    "                    d = 1\n",
    "                    col = col+1\n",
    "                    print('남완')\n",
    "                else :\n",
    "                    pass            \n",
    "\n",
    "            # 서쪽 방향       \n",
    "            if d == 3:\n",
    "                if base_map[row+1,col] == 1:\n",
    "                    col = col+1\n",
    "                    print('서빽') \n",
    "                elif base_map[row+1,col] == 0:\n",
    "                    base_map[row+1,col] =1\n",
    "                    cnt += 1\n",
    "                    d = 2\n",
    "                    row = row+1\n",
    "                    print('서완') \n",
    "                else :\n",
    "                    pass\n",
    "    except:\n",
    "        print(f'거북이가 방문한 칸의 수 : {cnt}')\n",
    "        print(f'거북이가 그린 지도 \\n {base_map}')\n"
   ]
  },
  {
   "cell_type": "markdown",
   "id": "4f01c8d8",
   "metadata": {},
   "source": [
    "# 08-24"
   ]
  },
  {
   "cell_type": "code",
   "execution_count": 1,
   "id": "c910eb9a",
   "metadata": {},
   "outputs": [
    {
     "name": "stdout",
     "output_type": "stream",
     "text": [
      "[5, 2, 3, 1]\n",
      "[1, 3, 2, 5]\n"
     ]
    }
   ],
   "source": [
    "#스택 : 박스 쌓기에 비유. 선입후출 구조\n",
    "\n",
    "stack=[]\n",
    "stack.append(5)\n",
    "stack.append(2)\n",
    "stack.append(3)\n",
    "stack.append(7)\n",
    "stack.pop()\n",
    "stack.append(1)\n",
    "stack.append(4)\n",
    "stack.pop()\n",
    "\n",
    "print(stack)\n",
    "print(stack[::-1])\n"
   ]
  },
  {
   "cell_type": "code",
   "execution_count": 3,
   "id": "969f977f",
   "metadata": {},
   "outputs": [
    {
     "name": "stdout",
     "output_type": "stream",
     "text": [
      "deque([3, 7, 1, 4])\n",
      "deque([4, 1, 7, 3])\n"
     ]
    }
   ],
   "source": [
    "# 큐 : 먼저 온 사람이 먼저 나간다. 선입선출 구조\n",
    "\n",
    "from collections import deque\n",
    "queue = deque()\n",
    "\n",
    "queue.append(5)\n",
    "queue.append(2)\n",
    "queue.append(3)\n",
    "queue.append(7)\n",
    "queue.popleft()\n",
    "queue.append(1)\n",
    "queue.append(4)\n",
    "queue.popleft()\n",
    "\n",
    "print(queue)\n",
    "queue.reverse()\n",
    "print(queue)"
   ]
  },
  {
   "cell_type": "markdown",
   "id": "a6504e3d",
   "metadata": {},
   "source": [
    "## Q75.\n",
    "N X M 크기의 얼음 틀로 한번에 만들 수 있는 아이스크림의 개수를 아래 입력조건에 따라 출력하는 프로그램을 DFS(Depth First Search)를 이용하여 작성하세요.\n",
    " \n",
    "- 입력조건\n",
    "  - 첫번째 줄에 얼음 틀의 세로 길이 N과 가로 길이 M이 주어진다.(1 <= N,M <= 1000)\n",
    "  - 두번째 줄부터 N+1번째 줄까지 얼음 틀의 형태가 주어진다.\n",
    "  - 이때 구멍이 뚫려있는 부분은 0 그렇지 않은 부분은 1이다.\n",
    "  - 구멍이 뚫려 있는 부분끼리 상, 하, 좌, 우로 붙어 있는 경우 서로 연결되어 있는 것으로 간주한다.\n"
   ]
  },
  {
   "cell_type": "code",
   "execution_count": null,
   "id": "bf5c338f",
   "metadata": {},
   "outputs": [],
   "source": [
    "너비 우선은 매 단계에서 가능한 모든 경우의 수를 확인,\n",
    "깊이 우선은 한 우물만 파고들며 끝을 볼 때까지 확인! 이라는 것만 이해하면 다 이해한 겁니다! 👍\n",
    "https://jeinalog.tistory.com/18"
   ]
  },
  {
   "cell_type": "code",
   "execution_count": null,
   "id": "edb978a4",
   "metadata": {},
   "outputs": [],
   "source": [
    "5 5\n",
    "00110\n",
    "00011\n",
    "11111\n",
    "00111\n",
    "11000\n",
    "\n",
    "얼음 4개 생성"
   ]
  },
  {
   "cell_type": "code",
   "execution_count": null,
   "id": "115fe136",
   "metadata": {},
   "outputs": [],
   "source": [
    "- 입력 : N x M 행렬(1 <= N,M <= 1000)\n",
    "        행렬의 요소 한 행씩 입력 (0:구멍 1:막힘)\n",
    "- 조건 : 구멍(0)으로 붙어있는 경우 연결된 것임\n",
    "    \n",
    "        깊이 우선 탐색 사용.  \n",
    "        좌:(0,-1) 우:(0,1) 상:(-1,0) 하:(1,0) \n",
    "        처음 만난 0 방문 -> 인접노드 탐색 -> 1로 바꿔줌(지나갔다는 표시) -> 이동\n",
    "        \n",
    "- 출력 : N X M 크기의 얼음 틀로 한번에 만들 수 있는 아이스크림의 개수"
   ]
  },
  {
   "cell_type": "code",
   "execution_count": 43,
   "id": "62690668",
   "metadata": {},
   "outputs": [
    {
     "name": "stdout",
     "output_type": "stream",
     "text": [
      "N x M 행렬 공백을 기준으로 입력 > 2 1001\n",
      "[[0]\n",
      " [0]\n",
      " [0]]\n"
     ]
    }
   ],
   "source": [
    "import numpy as np\n",
    "\n",
    "N,M = map(int,input('N x M 행렬 공백을 기준으로 입력 > ').split(' '))\n",
    "\n",
    "if (1 > N) or (M > 1000):\n",
    "    pass\n",
    "else:\n",
    "    ice_mold = [list(map(int, input().split())) for _ in range(N)]\n",
    "    arr = np.array(ice_mold)\n",
    "    \n",
    "    row = 0\n",
    "    col = 0\n",
    "    \n",
    "    \n",
    "#print(N,M)\n",
    "print(arr)"
   ]
  },
  {
   "cell_type": "code",
   "execution_count": 39,
   "id": "78a04fca",
   "metadata": {},
   "outputs": [
    {
     "name": "stdout",
     "output_type": "stream",
     "text": [
      "1 1 0 0\n",
      "0 0 1 1\n",
      "1 0 0 1\n",
      "[[1, 1, 0, 0], [0, 0, 1, 1], [1, 0, 0, 1]]\n",
      "[[1 1 0 0]\n",
      " [0 0 1 1]\n",
      " [1 0 0 1]]\n"
     ]
    }
   ],
   "source": [
    "mold = [list(map(int, input().split())) for _ in range(3)]\n",
    "print(mold)\n",
    "arr1 = np.array(mold)\n",
    "print(arr1)"
   ]
  },
  {
   "cell_type": "code",
   "execution_count": 50,
   "id": "c20e34f9",
   "metadata": {},
   "outputs": [
    {
     "name": "stdout",
     "output_type": "stream",
     "text": [
      "8\n"
     ]
    }
   ],
   "source": [
    "arr = np.arange(16).reshape(4,4)\n",
    "\n",
    "row = 0\n",
    "col = 0\n",
    "\n",
    "ice = arr[row,col]\n",
    "print(ice)"
   ]
  },
  {
   "cell_type": "code",
   "execution_count": null,
   "id": "1c922708",
   "metadata": {},
   "outputs": [],
   "source": [
    "def DFS(arr):\n",
    "    \n",
    "    stack=[]\n",
    "    \n",
    "    row = 0\n",
    "    col = 0\n",
    "    \n",
    "    find = [(0,-1),(0,1),(-1,0),(1,0)]\n",
    "    \n",
    "    for i in find:\n",
    "        arr[row+i,col+i]\n",
    "        if arr[row,col] == 0:\n",
    "            arr[row,col] = 1\n",
    "            stack.append()"
   ]
  },
  {
   "cell_type": "code",
   "execution_count": null,
   "id": "6ca93256",
   "metadata": {},
   "outputs": [],
   "source": [
    "stack=[]\n",
    "stack.append(5)\n",
    "stack.append(2)\n",
    "stack.append(3)\n",
    "stack.append(7)\n",
    "stack.pop()\n",
    "stack.append(1)\n",
    "stack.append(4)\n",
    "stack.pop()\n",
    "\n",
    "print(stack)\n",
    "print(stack[::-1])"
   ]
  },
  {
   "cell_type": "code",
   "execution_count": 5,
   "id": "ee0f78ec",
   "metadata": {},
   "outputs": [
    {
     "ename": "TypeError",
     "evalue": "list indices must be integers or slices, not tuple",
     "output_type": "error",
     "traceback": [
      "\u001b[1;31m---------------------------------------------------------------------------\u001b[0m",
      "\u001b[1;31mTypeError\u001b[0m                                 Traceback (most recent call last)",
      "Input \u001b[1;32mIn [5]\u001b[0m, in \u001b[0;36m<cell line: 5>\u001b[1;34m()\u001b[0m\n\u001b[0;32m      4\u001b[0m col \u001b[38;5;241m=\u001b[39m \u001b[38;5;241m0\u001b[39m\n\u001b[0;32m      5\u001b[0m \u001b[38;5;28;01mfor\u001b[39;00m i \u001b[38;5;129;01min\u001b[39;00m find:\n\u001b[1;32m----> 6\u001b[0m     arr \u001b[38;5;241m=\u001b[39m \u001b[43marr\u001b[49m\u001b[43m[\u001b[49m\u001b[43mrow\u001b[49m\u001b[38;5;241;43m+\u001b[39;49m\u001b[43mi\u001b[49m\u001b[43m[\u001b[49m\u001b[38;5;241;43m0\u001b[39;49m\u001b[43m]\u001b[49m\u001b[43m,\u001b[49m\u001b[43mcol\u001b[49m\u001b[38;5;241;43m+\u001b[39;49m\u001b[43mi\u001b[49m\u001b[43m[\u001b[49m\u001b[38;5;241;43m1\u001b[39;49m\u001b[43m]\u001b[49m\u001b[43m]\u001b[49m\n\u001b[0;32m      7\u001b[0m     \u001b[38;5;28mprint\u001b[39m(arr)\n",
      "\u001b[1;31mTypeError\u001b[0m: list indices must be integers or slices, not tuple"
     ]
    }
   ],
   "source": [
    "arr = [(1,1),(2,2)]\n",
    "find = [(0,-1),(0,1),(-1,0),(1,0)]\n",
    "row = 0\n",
    "col = 0\n",
    "for i in find:\n",
    "    arr = arr[row+i[0],col+i[1]]\n",
    "    print(arr)"
   ]
  },
  {
   "cell_type": "markdown",
   "id": "2d2f6e6d",
   "metadata": {},
   "source": [
    "# 08-25"
   ]
  },
  {
   "cell_type": "markdown",
   "id": "e9d8bbbb",
   "metadata": {},
   "source": [
    "### Q76. 10!을 재귀함수를 이용하여 출력하세요."
   ]
  },
  {
   "cell_type": "code",
   "execution_count": 6,
   "id": "8d45c376",
   "metadata": {},
   "outputs": [
    {
     "data": {
      "text/plain": [
       "3628800"
      ]
     },
     "execution_count": 6,
     "metadata": {},
     "output_type": "execute_result"
    }
   ],
   "source": [
    "def factorial_iterative(n):\n",
    "    result = 1\n",
    "    for i in range(1,n+1):\n",
    "        result *= i\n",
    "    return result\n",
    "\n",
    "factorial_iterative(10)"
   ]
  },
  {
   "cell_type": "code",
   "execution_count": 1,
   "id": "72b5c928",
   "metadata": {},
   "outputs": [],
   "source": [
    "def factorial(n):\n",
    "    if n==1:\n",
    "        return 1\n",
    "    return n*factorial(n-1)"
   ]
  },
  {
   "cell_type": "code",
   "execution_count": 2,
   "id": "82d446ed",
   "metadata": {},
   "outputs": [
    {
     "data": {
      "text/plain": [
       "3628800"
      ]
     },
     "execution_count": 2,
     "metadata": {},
     "output_type": "execute_result"
    }
   ],
   "source": [
    "factorial(10)"
   ]
  },
  {
   "cell_type": "markdown",
   "id": "ae64be81",
   "metadata": {},
   "source": [
    "# 08-26"
   ]
  },
  {
   "cell_type": "markdown",
   "id": "358fd4a7",
   "metadata": {},
   "source": [
    "## Q77.\n",
    "N X M 크기의 미로에는 여러마리의 괴물이 있어 이를 피해 탈출해야 한다. 주인공의 위치는 (1,1)이고 미로의 출구는 (N,M)의 위치에 존재하며 한번에 한칸씩 이동할 수 있다. 괴물이 있는 부분은 0, 없는 부분은 1로 표시되어 있으며 미로는 반드시 탈출할 수 있는 형태로 제시된다. 주인공이 탈출하기 위해 움직여야 하는 최소 칸의 개수를 구하세요. 칸을 셀 때는 시작 칸과 마지막 칸을 모두 포함하여 계산하고 입력 조건은 아래와 같다.(BFS를 이용)\n",
    "- 첫째 줄에 두 정수 N,M(4<=N,M<=200)이 주어진다.\n",
    "- 다음 N개의 줄에는 각각 M개의 정수(0 혹은 1)로 미로의 정보가 주어진다. 각각의 수들은 공백없이 붙여서 입력으로 제시된다.\n",
    "- 또한 시작칸과 마지막칸은 항상 1이다."
   ]
  },
  {
   "cell_type": "code",
   "execution_count": null,
   "id": "86600a85",
   "metadata": {},
   "outputs": [],
   "source": [
    "5 5\n",
    "11011\n",
    "01011\n",
    "01111\n",
    "11011\n",
    "10111\n",
    "\n",
    "9"
   ]
  },
  {
   "cell_type": "markdown",
   "id": "6a9e3d24",
   "metadata": {},
   "source": [
    "- 입력 : N,M(4<=N,M<=200)\n",
    "        공백없이 0,1 각각 입력\n",
    "        시작칸과 마지막칸은 항상 1\n",
    "        \n",
    "- 조건 : 주인공의 처음위치는 (1,1)\n",
    "        미로의 출구는 (N,M)\n",
    "        한번에 한칸씩 이동\n",
    "        1 : 이동 가능 , 0: 불가능\n",
    "        미로는 반드시 탈출할 수 있는 형태로 제시\n",
    "        칸을 셀 때는 시작 칸과 마지막 칸을 모두 포함하여 계산\n",
    "\n",
    "- 출력 : 주인공이 탈출하기 위해 움직여야 하는 최소 칸의 개수"
   ]
  },
  {
   "cell_type": "code",
   "execution_count": 3,
   "id": "32e804c5",
   "metadata": {},
   "outputs": [
    {
     "name": "stdout",
     "output_type": "stream",
     "text": [
      "N,M > 5,5\n",
      "1 : 이동 가능 , 0: 불가능 > 11111\n",
      "1 : 이동 가능 , 0: 불가능 > 11111\n",
      "1 : 이동 가능 , 0: 불가능 > 11111\n",
      "1 : 이동 가능 , 0: 불가능 > 11111\n",
      "1 : 이동 가능 , 0: 불가능 > 11111\n",
      "[[1 1 1 1 1]\n",
      " [1 1 1 1 1]\n",
      " [1 1 1 1 1]\n",
      " [1 1 1 1 1]\n",
      " [1 1 1 1 1]]\n",
      "0\n",
      "[[1 1 1 1 1]\n",
      " [1 1 1 1 1]\n",
      " [1 1 1 1 1]\n",
      " [1 1 1 1 1]\n",
      " [1 1 1 1 1]]\n"
     ]
    }
   ],
   "source": [
    "import numpy as np\n",
    "\n",
    "N,M = map(int,input('N,M > ').split(','))\n",
    "\n",
    "if (4 > N or M > 200):\n",
    "    pass\n",
    "\n",
    "else: \n",
    "    arr = [list(map(int, input('1 : 이동 가능 , 0: 불가능 > ').strip())) for _ in range(M)]\n",
    "    arr = np.array(arr)\n",
    "    \n",
    "    arr[1,1] = 1\n",
    "    arr[N-1,M-1] = 1\n",
    "\n",
    "print(arr)\n",
    "\n",
    "def bfs(x,y):\n",
    "    visited = [x,y]\n",
    "    queue = [x,y]\n",
    "    while queue:\n",
    "        v = queue.pop(0)\n",
    "        for w in arr[v]:\n",
    "            if w not in visited:\n",
    "                visited.append(w)\n",
    "                queue.append(w)\n",
    "    return visited\n",
    "    \n",
    "cnt = 0\n",
    "for i in range(1,N):\n",
    "    for j in range(1,M):\n",
    "        if bfs(i,j) == 1:\n",
    "            cnt += 1\n",
    "            \n",
    "print(cnt)\n",
    "print(arr)"
   ]
  },
  {
   "cell_type": "code",
   "execution_count": 12,
   "id": "504ef6c0",
   "metadata": {},
   "outputs": [
    {
     "name": "stdout",
     "output_type": "stream",
     "text": [
      "N,M > 2,2\n",
      "1 : 이동 가능 , 0: 불가능 > 10\n",
      "1 : 이동 가능 , 0: 불가능 > 01\n",
      "[[1 0]\n",
      " [0 1]]\n"
     ]
    }
   ],
   "source": [
    "import numpy as np\n",
    "\n",
    "N,M = map(int,input('N,M > ').split(','))\n",
    "\n",
    "arr = [list(map(int, input('1 : 이동 가능 , 0: 불가능 > ').strip())) for _ in range(M)]\n",
    "\n",
    "arr = np.array(arr)\n",
    "\n",
    "print(arr)"
   ]
  },
  {
   "cell_type": "code",
   "execution_count": 6,
   "id": "c3e90556",
   "metadata": {},
   "outputs": [
    {
     "name": "stdout",
     "output_type": "stream",
     "text": [
      "N,M > 4,4\n",
      "1 : 이동 가능 , 0: 불가능 > 0000\n",
      "1 : 이동 가능 , 0: 불가능 > 0000\n",
      "1 : 이동 가능 , 0: 불가능 > 0000\n",
      "1 : 이동 가능 , 0: 불가능 > 0000\n",
      "[[0 0 0 0]\n",
      " [0 1 0 0]\n",
      " [0 0 0 0]\n",
      " [0 0 0 1]]\n"
     ]
    }
   ],
   "source": [
    "import numpy as np\n",
    "\n",
    "N,M = map(int,input('N,M > ').split(','))\n",
    "\n",
    "if (4 > N or M > 200):\n",
    "    pass\n",
    "\n",
    "else: \n",
    "    arr = [list(map(int, input('1 : 이동 가능 , 0: 불가능 > ').strip())) for _ in range(M)]\n",
    "    arr = np.array(arr)\n",
    "    \n",
    "    arr[1,1] = 1\n",
    "    arr[N-1,M-1] = 1\n",
    "\n",
    "print(arr)"
   ]
  },
  {
   "cell_type": "code",
   "execution_count": null,
   "id": "63325e95",
   "metadata": {},
   "outputs": [],
   "source": [
    "#정답\n",
    "from collections import deque\n",
    "\n",
    "# N, M을 공백으로 구분하여 입력받기\n",
    "n,m=map(int,input().split())\n",
    "\n",
    "# 2차원 리스트의 맵 정보 입력받기\n",
    "graph=[]\n",
    "for i in range(n):\n",
    "    graph.append(list(map(int,input())))\n",
    "\n",
    "# 이동할 네 방향 정의(상, 하, 좌, 우), x는 위쪽에서 떨어진 위치, y는 좌측에서 떨어진 위치 \n",
    "dx = [-1,1,0,0]\n",
    "dy = [0,0,-1,1]\n",
    "\n",
    "# BFS 소스코드 구현\n",
    "def bfs(x,y):\n",
    "    # 큐 구현을 위해 deque 라이브러리 사용\n",
    "    queue = deque()\n",
    "    queue.append((x,y))\n",
    "    # 큐가 빌 때까지 반복\n",
    "    \n",
    "while queue:\n",
    "        x,y = queue.popleft()\n",
    "        # 현재 위치에서 네 방향으로의 위치 확인\n",
    "        for i in range(4):\n",
    "            nx = x + dx[i]\n",
    "            ny = y + dy[i]\n",
    "            # 미로 찾기 공간을 벗어난 경우 무시\n",
    "            if nx < 0 or ny < 0 or nx >= n or ny >=m:\n",
    "                continue\n",
    "                # 괴물인 경우 무시\n",
    "            if graph[nx][ny] == 0:\n",
    "                continue\n",
    "                # 해당 노드를 처음 방문하는 경우에만 최단 거리 기록\n",
    "            if graph[nx][ny] == 1:\n",
    "                graph[nx][ny] =graph[x][y] + 1\n",
    "                queue.append((nx,ny))\n",
    "                \n",
    "    # 가장 오른쪽 아래까지의 최단 거리 반환(이동할 때마다 1씩 추가하기 때문에 탈출시에 최종 이동한 칸의 개수가 만들어짐)\n",
    "            return graph[n-1][m-1]\n",
    "\n",
    "# BFS를 수행한 결과 출력\n",
    "print(bfs(0,0))\n",
    "\n"
   ]
  },
  {
   "cell_type": "markdown",
   "id": "509c980b",
   "metadata": {},
   "source": [
    "# 08-30"
   ]
  },
  {
   "cell_type": "markdown",
   "id": "6466ac5a",
   "metadata": {},
   "source": [
    "## Q78.\n",
    "```\n",
    "소수란 2보다 큰 자연수 중에서 1과 자기자신을 제외한 자연수로는 나누어떨어지지 않는 자연수이다. \n",
    "어떠한 자연수가 소수인지 아닌지 판별하는 프로그램을 작성하세요.\n",
    "```"
   ]
  },
  {
   "cell_type": "code",
   "execution_count": 7,
   "id": "bb4b4523",
   "metadata": {},
   "outputs": [
    {
     "data": {
      "text/plain": [
       "False"
      ]
     },
     "execution_count": 7,
     "metadata": {},
     "output_type": "execute_result"
    }
   ],
   "source": [
    "def sosu(n):\n",
    "    if n <= 2:\n",
    "        return False\n",
    "    else :\n",
    "        for i in range(2,n):\n",
    "            if n%i == 0:\n",
    "                return False\n",
    "        return True\n",
    "\n",
    "sosu(12)"
   ]
  },
  {
   "cell_type": "code",
   "execution_count": null,
   "id": "d39a0a8a",
   "metadata": {},
   "outputs": [],
   "source": [
    "# 답\n",
    "def is_prime_number(x):\n",
    "    for i in range(2,x):\n",
    "        if x % i == 0:\n",
    "            return False\n",
    "    return True\n",
    "print(is_prime_number(4))\n"
   ]
  },
  {
   "cell_type": "markdown",
   "id": "5cbfd071",
   "metadata": {},
   "source": [
    "# 08-31"
   ]
  },
  {
   "cell_type": "markdown",
   "id": "475a3224",
   "metadata": {},
   "source": [
    "## Q79.\n",
    "M 이상 N 이하의 소수를 모두 출력하는 프로그램을 작성하세요.\n",
    "- 입력조건\n",
    "  - 첫째 줄에 자연수 M과 N이 빈칸을 사이에 두고 주어진다.(1<=M<=N<=1,000,000)\n",
    "  - 단 M이상 N 이하의 소수가 하나 이상 있는 입력만 주어진다.\n"
   ]
  },
  {
   "cell_type": "code",
   "execution_count": 1,
   "id": "de187e1e",
   "metadata": {},
   "outputs": [
    {
     "name": "stdout",
     "output_type": "stream",
     "text": [
      "숫자 입력 > 3 3000\n",
      "[3, 5, 7, 11, 13, 17, 19, 23, 29, 31, 37, 41, 43, 47, 53, 59, 61, 67, 71, 73, 79, 83, 89, 97, 101, 103, 107, 109, 113, 127, 131, 137, 139, 149, 151, 157, 163, 167, 173, 179, 181, 191, 193, 197, 199, 211, 223, 227, 229, 233, 239, 241, 251, 257, 263, 269, 271, 277, 281, 283, 293, 307, 311, 313, 317, 331, 337, 347, 349, 353, 359, 367, 373, 379, 383, 389, 397, 401, 409, 419, 421, 431, 433, 439, 443, 449, 457, 461, 463, 467, 479, 487, 491, 499, 503, 509, 521, 523, 541, 547, 557, 563, 569, 571, 577, 587, 593, 599, 601, 607, 613, 617, 619, 631, 641, 643, 647, 653, 659, 661, 673, 677, 683, 691, 701, 709, 719, 727, 733, 739, 743, 751, 757, 761, 769, 773, 787, 797, 809, 811, 821, 823, 827, 829, 839, 853, 857, 859, 863, 877, 881, 883, 887, 907, 911, 919, 929, 937, 941, 947, 953, 967, 971, 977, 983, 991, 997, 1009, 1013, 1019, 1021, 1031, 1033, 1039, 1049, 1051, 1061, 1063, 1069, 1087, 1091, 1093, 1097, 1103, 1109, 1117, 1123, 1129, 1151, 1153, 1163, 1171, 1181, 1187, 1193, 1201, 1213, 1217, 1223, 1229, 1231, 1237, 1249, 1259, 1277, 1279, 1283, 1289, 1291, 1297, 1301, 1303, 1307, 1319, 1321, 1327, 1361, 1367, 1373, 1381, 1399, 1409, 1423, 1427, 1429, 1433, 1439, 1447, 1451, 1453, 1459, 1471, 1481, 1483, 1487, 1489, 1493, 1499, 1511, 1523, 1531, 1543, 1549, 1553, 1559, 1567, 1571, 1579, 1583, 1597, 1601, 1607, 1609, 1613, 1619, 1621, 1627, 1637, 1657, 1663, 1667, 1669, 1693, 1697, 1699, 1709, 1721, 1723, 1733, 1741, 1747, 1753, 1759, 1777, 1783, 1787, 1789, 1801, 1811, 1823, 1831, 1847, 1861, 1867, 1871, 1873, 1877, 1879, 1889, 1901, 1907, 1913, 1931, 1933, 1949, 1951, 1973, 1979, 1987, 1993, 1997, 1999, 2003, 2011, 2017, 2027, 2029, 2039, 2053, 2063, 2069, 2081, 2083, 2087, 2089, 2099, 2111, 2113, 2129, 2131, 2137, 2141, 2143, 2153, 2161, 2179, 2203, 2207, 2213, 2221, 2237, 2239, 2243, 2251, 2267, 2269, 2273, 2281, 2287, 2293, 2297, 2309, 2311, 2333, 2339, 2341, 2347, 2351, 2357, 2371, 2377, 2381, 2383, 2389, 2393, 2399, 2411, 2417, 2423, 2437, 2441, 2447, 2459, 2467, 2473, 2477, 2503, 2521, 2531, 2539, 2543, 2549, 2551, 2557, 2579, 2591, 2593, 2609, 2617, 2621, 2633, 2647, 2657, 2659, 2663, 2671, 2677, 2683, 2687, 2689, 2693, 2699, 2707, 2711, 2713, 2719, 2729, 2731, 2741, 2749, 2753, 2767, 2777, 2789, 2791, 2797, 2801, 2803, 2819, 2833, 2837, 2843, 2851, 2857, 2861, 2879, 2887, 2897, 2903, 2909, 2917, 2927, 2939, 2953, 2957, 2963, 2969, 2971, 2999]\n"
     ]
    }
   ],
   "source": [
    "def sosu(n):\n",
    "    if n <= 2:\n",
    "        return False\n",
    "    else :\n",
    "        for i in range(2,n):\n",
    "            if n%i == 0:\n",
    "                return False\n",
    "        return True\n",
    "    \n",
    "M,N = map(int,input('숫자 입력 > ').split())\n",
    "\n",
    "li = []\n",
    "if M>N or M<1 or N<1 or N>1000000:\n",
    "    M,N\n",
    "else:\n",
    "    for i in range(M,N):\n",
    "        if sosu(i)== True:\n",
    "            li.append(i)\n",
    "    print(li)"
   ]
  },
  {
   "cell_type": "markdown",
   "id": "0fdac279",
   "metadata": {},
   "source": []
  },
  {
   "cell_type": "markdown",
   "id": "edd2b0d3",
   "metadata": {},
   "source": [
    "# 09-02"
   ]
  },
  {
   "cell_type": "markdown",
   "id": "04e2a103",
   "metadata": {},
   "source": [
    "#### Q80.\n",
    "```\n",
    "암호는 서로 다른 L개의 알파벳 소문자들로 구성되며 최소 한 개의 모음(a, e, i, o, u)과 최소 두 개의 자음으로 구성되어 있다고 알려져 있다. 또한 정렬된 문자열을 선호하는 직원들의 성향으로 미루어 보아 암호를 이루는 알파벳이 암호에서 증가하는 순서로 배열되었을 것이라고 추측된다. 즉, abc는 가능성이 있는 암호이지만 bac는 그렇지 않다. 새 보안 시스템에서 직원들이 암호로 사용했을 법한 문자의 종류는 C가지가 있다고 한다. 이 알파벳을 입수한 james, kevin 형제는 직원들의 방에 침투하기 위해 암호를 추측해 보려고 한다. C개의 문자들이 모두 주어졌을 때, 가능성 있는 암호들을 모두 구하는 프로그램을 다음 사항에 유의하여 작성하시오.\n",
    "\n",
    "- 첫째 줄에 두 정수 L, C가 주어진다. (3 ≤ L ≤ C ≤ 15) 다음 줄에는 C개의 문자들이 공백으로 구분되어 주어진다. 주어지는 문자들은 알파벳 소문자이며, 중복되는 것은 없다.\n",
    "\n",
    "- 각 줄에 하나씩, 사전식으로 가능성 있는 암호를 모두 출력한다.\n",
    "\n",
    "```"
   ]
  },
  {
   "cell_type": "markdown",
   "id": "49cb9468",
   "metadata": {},
   "source": [
    "```\n",
    "[내가 정리]\n",
    "\n",
    "- 입력\n",
    "    알파벳 개수 : L, 조합 : C (3 ≤ L ≤ C ≤ 15)\n",
    "    * C개의 문자들 (공백 구분 / 소문자 / 중복x)\n",
    "    \n",
    "- 조건 \n",
    "    한 개의 모음(a, e, i, o, u) 이상 + 두 개의 자음 이상\n",
    "    a~z : 1~15 라고 하면 오름차순\n",
    "   \n",
    "- 출력 \n",
    "    딕셔너리 형태로 모든 암호 조합 출력\n",
    "\n",
    "```"
   ]
  },
  {
   "cell_type": "code",
   "execution_count": 10,
   "id": "cb694b73",
   "metadata": {},
   "outputs": [
    {
     "name": "stdout",
     "output_type": "stream",
     "text": [
      "L,C > 5,9\n",
      "5\n",
      "9\n"
     ]
    }
   ],
   "source": [
    "L, C = map(int,input('L,C > ').split(','))\n",
    "\n",
    "if (L < 3) or (L > C) or (L > 15) or (C > 15) or (C < 3):\n",
    "    pass\n",
    "else : \n",
    "    for i in range(C):\n",
    "        \n",
    "    print(L)\n",
    "    print(C)"
   ]
  },
  {
   "cell_type": "markdown",
   "id": "c77e4682",
   "metadata": {},
   "source": [
    "# 09-05"
   ]
  },
  {
   "cell_type": "markdown",
   "id": "23fc6877",
   "metadata": {},
   "source": [
    "#### Q81.\n",
    "파이썬의 itertools 라이브러리를 활용하여 리스트 data = ['A','B','C']로 부터 아래 문제를 풀어보세요.\n",
    "- 3개를 뽑아 나열하는 모든 경우를 출력하세요(중복 허용안됨)\n",
    "- 3개를 뽑아 나열하는 모든 경우를 출력하세요(중복 허용)\n",
    "- 3개를 뽑아 순서에 상관없이 나열하는 모든 경우를 출력하세요(중복 허용안됨)\n",
    "- 3개를 뽑아 순서에 상관없이 나열하는 모든 경우를 출력하세요(중복 허용)\n"
   ]
  },
  {
   "cell_type": "markdown",
   "id": "9446d600",
   "metadata": {},
   "source": [
    "# 09-07"
   ]
  },
  {
   "cell_type": "markdown",
   "id": "1b0517bb",
   "metadata": {},
   "source": [
    "#### Q82.\n",
    "아래사항을 참조, 파이썬의 heapq 라이브러리를 활용하여 주어진 리스트 iterable = [1,3,5,7,9,2,4,6,8,0]을 힙 정렬하여 출력하세요.\n",
    "- 최소 힙 : heap 역할을 할 빈 리스트를 선언해주고, heappush 메소드의 매개변수로 해당 리스트와 추가하고자 하는 값을 넣어주면 리스트에 힙 정렬이 되게 원하는 값이 삽입된다.\n",
    "- 최대 힙 : heapq에서는 최대 힙을 제공하지 않는다. 따라서 부호를 변경하는 방법을 사용해서 최대 힙을 구현한다.\n"
   ]
  },
  {
   "cell_type": "code",
   "execution_count": null,
   "id": "4898de56",
   "metadata": {},
   "outputs": [],
   "source": []
  }
 ],
 "metadata": {
  "kernelspec": {
   "display_name": "Python 3 (ipykernel)",
   "language": "python",
   "name": "python3"
  },
  "language_info": {
   "codemirror_mode": {
    "name": "ipython",
    "version": 3
   },
   "file_extension": ".py",
   "mimetype": "text/x-python",
   "name": "python",
   "nbconvert_exporter": "python",
   "pygments_lexer": "ipython3",
   "version": "3.8.13"
  },
  "toc": {
   "base_numbering": 1,
   "nav_menu": {},
   "number_sections": true,
   "sideBar": true,
   "skip_h1_title": false,
   "title_cell": "Table of Contents",
   "title_sidebar": "Contents",
   "toc_cell": false,
   "toc_position": {},
   "toc_section_display": true,
   "toc_window_display": false
  }
 },
 "nbformat": 4,
 "nbformat_minor": 5
}
