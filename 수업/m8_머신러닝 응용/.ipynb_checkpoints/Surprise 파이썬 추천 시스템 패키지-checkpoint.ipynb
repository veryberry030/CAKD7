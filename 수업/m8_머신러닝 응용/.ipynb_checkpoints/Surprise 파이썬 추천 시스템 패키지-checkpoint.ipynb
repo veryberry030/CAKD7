{
 "cells": [
  {
   "cell_type": "code",
   "execution_count": 3,
   "id": "c695b7a9",
   "metadata": {},
   "outputs": [],
   "source": [
    "from surprise import SVD\n",
    "from surprise import Dataset\n",
    "from surprise import accuracy\n",
    "from surprise.model_selection import train_test_split"
   ]
  },
  {
   "cell_type": "code",
   "execution_count": 6,
   "id": "43dee0f3",
   "metadata": {},
   "outputs": [],
   "source": [
    "data = Dataset.load_builtin('ml-100k')\n",
    "trainset, testset = train_test_split(data,test_size=.25,random_state=0)"
   ]
  },
  {
   "cell_type": "code",
   "execution_count": 7,
   "id": "8c8fbba1",
   "metadata": {},
   "outputs": [
    {
     "data": {
      "text/plain": [
       "<surprise.prediction_algorithms.matrix_factorization.SVD at 0x18943785250>"
      ]
     },
     "execution_count": 7,
     "metadata": {},
     "output_type": "execute_result"
    }
   ],
   "source": [
    "algo = SVD(random_state=0)\n",
    "algo.fit(trainset)"
   ]
  },
  {
   "cell_type": "code",
   "execution_count": 8,
   "id": "04761106",
   "metadata": {},
   "outputs": [
    {
     "name": "stdout",
     "output_type": "stream",
     "text": [
      "prediction type: <class 'list'> size: 25000\n",
      "prediction 결과의 최초 5개 추출\n"
     ]
    },
    {
     "data": {
      "text/plain": [
       "[Prediction(uid='120', iid='282', r_ui=4.0, est=3.5114147666251547, details={'was_impossible': False}),\n",
       " Prediction(uid='882', iid='291', r_ui=4.0, est=3.573872419581491, details={'was_impossible': False}),\n",
       " Prediction(uid='535', iid='507', r_ui=5.0, est=4.033583485472447, details={'was_impossible': False}),\n",
       " Prediction(uid='697', iid='244', r_ui=5.0, est=3.8463639495936905, details={'was_impossible': False}),\n",
       " Prediction(uid='751', iid='385', r_ui=4.0, est=3.1807542478219157, details={'was_impossible': False})]"
      ]
     },
     "execution_count": 8,
     "metadata": {},
     "output_type": "execute_result"
    }
   ],
   "source": [
    "predictions = algo.test(testset)\n",
    "print('prediction type:',type(predictions),'size:',len(predictions))\n",
    "print('prediction 결과의 최초 5개 추출')\n",
    "predictions[:5]"
   ]
  },
  {
   "cell_type": "code",
   "execution_count": 10,
   "id": "221ff3c4",
   "metadata": {},
   "outputs": [
    {
     "data": {
      "text/plain": [
       "[('120', '282', 3.5114147666251547),\n",
       " ('882', '291', 3.573872419581491),\n",
       " ('535', '507', 4.033583485472447)]"
      ]
     },
     "execution_count": 10,
     "metadata": {},
     "output_type": "execute_result"
    }
   ],
   "source": [
    "[(pred.uid,pred.iid,pred.est)for pred in predictions[:3]]"
   ]
  },
  {
   "cell_type": "code",
   "execution_count": 11,
   "id": "5bdfb8c2",
   "metadata": {},
   "outputs": [
    {
     "name": "stdout",
     "output_type": "stream",
     "text": [
      "user: 196        item: 302        r_ui = None   est = 4.49   {'was_impossible': False}\n"
     ]
    }
   ],
   "source": [
    "# 사용자 아이디, 아이템 아이디는 문자열로 예측해야함\n",
    "uid = str(196)\n",
    "iid = str(302)\n",
    "pred = algo.predict(uid,iid)\n",
    "print(pred)"
   ]
  },
  {
   "cell_type": "code",
   "execution_count": 12,
   "id": "4f59b1ee",
   "metadata": {},
   "outputs": [
    {
     "name": "stdout",
     "output_type": "stream",
     "text": [
      "RMSE: 0.9467\n"
     ]
    },
    {
     "data": {
      "text/plain": [
       "0.9466860806937948"
      ]
     },
     "execution_count": 12,
     "metadata": {},
     "output_type": "execute_result"
    }
   ],
   "source": [
    "accuracy.rmse(predictions)"
   ]
  },
  {
   "cell_type": "markdown",
   "id": "594c7a4f",
   "metadata": {},
   "source": [
    "### os파일 데이터를 surprise 데이터 세트로 로딩"
   ]
  },
  {
   "cell_type": "code",
   "execution_count": 13,
   "id": "c207de44",
   "metadata": {},
   "outputs": [],
   "source": [
    "import pandas as pd\n",
    "\n",
    "ratings = pd.read_csv('./ratings.csv')\n",
    "# ratings_noh.csv 파일로 언로드 시 인덱스와 헤더를 모두 제거한 새로운 파일 생성\n",
    "ratings.to_csv('./ratings_noh.csv',index=False, header=False)"
   ]
  },
  {
   "cell_type": "code",
   "execution_count": 16,
   "id": "24de0056",
   "metadata": {},
   "outputs": [],
   "source": [
    "from surprise import Reader\n",
    "\n",
    "reader=Reader(line_format='user item rating timestamp',sep=',',rating_scale=(0.5,5))\n",
    "data = Dataset.load_from_file('./ratings_noh.csv',reader=reader)"
   ]
  },
  {
   "cell_type": "code",
   "execution_count": 18,
   "id": "cd301c2d",
   "metadata": {},
   "outputs": [
    {
     "name": "stdout",
     "output_type": "stream",
     "text": [
      "RMSE: 0.8682\n"
     ]
    },
    {
     "data": {
      "text/plain": [
       "0.8681952927143516"
      ]
     },
     "execution_count": 18,
     "metadata": {},
     "output_type": "execute_result"
    }
   ],
   "source": [
    "trainset, testset = train_test_split(data, test_size=.25, random_state=0)\n",
    "\n",
    "# 수행 시마다 동일한 결과를 도출하기 위해 random_state 설정\n",
    "algo = SVD(n_factors=50, random_state=0)\n",
    "\n",
    "# 학습 데이터 세트로 학습하고 나서 테스트 데이터 세트로 평점 예측 후 RMSE평가\n",
    "algo.fit(trainset)\n",
    "predictions = algo.test(testset)\n",
    "accuracy.rmse(predictions)"
   ]
  },
  {
   "cell_type": "markdown",
   "id": "931419c4",
   "metadata": {},
   "source": [
    "### 판다스 df에서 surprise 데이터 세트로 로딩"
   ]
  },
  {
   "cell_type": "code",
   "execution_count": 19,
   "id": "1af59e3d",
   "metadata": {},
   "outputs": [
    {
     "name": "stdout",
     "output_type": "stream",
     "text": [
      "RMSE: 0.8682\n"
     ]
    },
    {
     "data": {
      "text/plain": [
       "0.8681952927143516"
      ]
     },
     "execution_count": 19,
     "metadata": {},
     "output_type": "execute_result"
    }
   ],
   "source": [
    "import pandas as pd\n",
    "from surprise import Reader,Dataset\n",
    "\n",
    "ratings = pd.read_csv('ratings.csv')\n",
    "reader = Reader(rating_scale=(0.5,5.0))\n",
    "\n",
    "# ratings dATAFRAME에서 칼럼은 사용자 아이디, 아이템 아이디, 평점 순서를 지켜야 합니다.\n",
    "data = Dataset.load_from_df(ratings[['userId','movieId','rating']],reader)\n",
    "trainset, testset = train_test_split(data, test_size=.25, random_state=0)\n",
    "\n",
    "algo = SVD(n_factors=50, random_state=0)\n",
    "algo.fit(trainset)\n",
    "predictions = algo.test(testset)\n",
    "accuracy.rmse(predictions)"
   ]
  },
  {
   "cell_type": "code",
   "execution_count": 20,
   "id": "f67310f1",
   "metadata": {},
   "outputs": [
    {
     "name": "stdout",
     "output_type": "stream",
     "text": [
      "Evaluating RMSE, MAE of algorithm SVD on 5 split(s).\n",
      "\n",
      "                  Fold 1  Fold 2  Fold 3  Fold 4  Fold 5  Mean    Std     \n",
      "RMSE (testset)    0.8749  0.8743  0.8783  0.8741  0.8663  0.8736  0.0040  \n",
      "MAE (testset)     0.6710  0.6721  0.6735  0.6726  0.6688  0.6716  0.0016  \n",
      "Fit time          0.64    0.66    0.66    0.71    0.74    0.68    0.04    \n",
      "Test time         0.08    0.08    0.09    0.08    0.08    0.08    0.00    \n"
     ]
    },
    {
     "data": {
      "text/plain": [
       "{'test_rmse': array([0.87490802, 0.87429865, 0.87831632, 0.87413546, 0.86625974]),\n",
       " 'test_mae': array([0.67100765, 0.67214863, 0.67351908, 0.67255547, 0.668825  ]),\n",
       " 'fit_time': (0.6428525447845459,\n",
       "  0.6624758243560791,\n",
       "  0.6562540531158447,\n",
       "  0.7065625190734863,\n",
       "  0.7425284385681152),\n",
       " 'test_time': (0.078125,\n",
       "  0.07504677772521973,\n",
       "  0.08933901786804199,\n",
       "  0.08217883110046387,\n",
       "  0.08300566673278809)}"
      ]
     },
     "execution_count": 20,
     "metadata": {},
     "output_type": "execute_result"
    }
   ],
   "source": [
    "from surprise.model_selection import cross_validate\n",
    "\n",
    "# 판다스 df에서 surprise 데이터 세트로 데이터 로딩\n",
    "ratings = pd.read_csv('./ratings.csv')\n",
    "reader = Reader(rating_scale=(0.5,5.0))\n",
    "data = Dataset.load_from_df(ratings[['userId','movieId','rating']],reader)\n",
    "\n",
    "algo = SVD(random_state=0)\n",
    "cross_validate(algo,data,measures=['RMSE','MAE'],cv=5,verbose=True)"
   ]
  },
  {
   "cell_type": "code",
   "execution_count": 21,
   "id": "241de387",
   "metadata": {},
   "outputs": [
    {
     "name": "stdout",
     "output_type": "stream",
     "text": [
      "0.8765930769502889\n",
      "{'n_epochs': 20, 'n_factors': 50}\n"
     ]
    }
   ],
   "source": [
    "from surprise.model_selection import GridSearchCV\n",
    "\n",
    "# 최적화할 파라미터를 딕셔너리 형태로 지정\n",
    "param_grid = {'n_epochs':[20,40,60],'n_factors':[50,100,200]}\n",
    "\n",
    "# cv를 3개 폴드 세트로 지정, 성능 평가는 rmse,mse로 수행하도록 gridsearchcv 구성\n",
    "gs = GridSearchCV(SVD,param_grid,measures=['rmse','mae'],cv=3)\n",
    "gs.fit(data)\n",
    "\n",
    "# 최고 rmse evaluation 점수와 그때의 하이퍼파라미터\n",
    "print(gs.best_score['rmse'])\n",
    "print(gs.best_params['rmse'])"
   ]
  },
  {
   "cell_type": "markdown",
   "id": "0aa377c9",
   "metadata": {},
   "source": [
    "### surprise를 이용한 개인화 영화 추천 시스템 구축"
   ]
  },
  {
   "cell_type": "code",
   "execution_count": 22,
   "id": "93e6363f",
   "metadata": {},
   "outputs": [],
   "source": [
    "from surprise.dataset import DatasetAutoFolds\n",
    "\n",
    "reader = Reader(line_format='user item rating timestamp',sep=',',rating_scale=(0.5,5))\n",
    "# datasetautofolds 클래스를 ratings_noh.csv 파일 기반으로 생성\n",
    "data_folds = DatasetAutoFolds(ratings_file='./ratings_noh.csv',reader=reader)\n",
    "\n",
    "# 전체 데이터를 학습 데이터로 생성함\n",
    "trainset = data_folds.build_full_trainset()"
   ]
  },
  {
   "cell_type": "code",
   "execution_count": 23,
   "id": "9d4cea1b",
   "metadata": {},
   "outputs": [
    {
     "data": {
      "text/plain": [
       "<surprise.prediction_algorithms.matrix_factorization.SVD at 0x1894c2709d0>"
      ]
     },
     "execution_count": 23,
     "metadata": {},
     "output_type": "execute_result"
    }
   ],
   "source": [
    "algo = SVD(n_epochs=20,n_factors=50,random_state=0)\n",
    "algo.fit(trainset)"
   ]
  },
  {
   "cell_type": "code",
   "execution_count": 26,
   "id": "39e1578c",
   "metadata": {},
   "outputs": [
    {
     "name": "stdout",
     "output_type": "stream",
     "text": [
      "사용자 아이디 9의 영화 아이디 42의 평점 없음\n",
      "    movieId                   title              genres\n",
      "38       42  Dead Presidents (1995)  Action|Crime|Drama\n"
     ]
    }
   ],
   "source": [
    "# 영화에 대한 상세 속성 정보 dataframe 로딩\n",
    "movies = pd.read_csv('./movies.csv')\n",
    "\n",
    "# userid=9의 movieid 데이터를 추출해 movieid=42 데이터가 있는지 확인\n",
    "movieIds = ratings[ratings['userId']==9]['movieId']\n",
    "if movieIds[movieIds==42].count()==0:\n",
    "    print('사용자 아이디 9의 영화 아이디 42의 평점 없음')\n",
    "    \n",
    "print(movies[movies['movieId']==42])"
   ]
  },
  {
   "cell_type": "code",
   "execution_count": 27,
   "id": "e92431e9",
   "metadata": {},
   "outputs": [
    {
     "name": "stdout",
     "output_type": "stream",
     "text": [
      "user: 9          item: 42         r_ui = None   est = 3.13   {'was_impossible': False}\n"
     ]
    }
   ],
   "source": [
    "uid = str(9)\n",
    "iid = str(42)\n",
    "\n",
    "pred = algo.predict(uid,iid,verbose=True)"
   ]
  },
  {
   "cell_type": "code",
   "execution_count": 29,
   "id": "6bff96c0",
   "metadata": {},
   "outputs": [
    {
     "name": "stdout",
     "output_type": "stream",
     "text": [
      "평점 매긴 영화 수 : 46 추천 대상 영화 수:  9696 전체 영화 수 : 9742\n"
     ]
    }
   ],
   "source": [
    "def get_unseen_surprise(ratings,movies,userId):\n",
    "    # 입력값으로 들어온 userid에 해당하는 사용자가 평점을 매긴 모든 영화를 리스트로 생성\n",
    "    seen_movies = ratings[ratings['userId']==userId]['movieId'].tolist()\n",
    "    \n",
    "    # 모든 영화의 movieID를 리스트로 생성\n",
    "    total_movies = movies['movieId'].tolist()\n",
    "    \n",
    "    # 모든 영화의 movieId 중 이미 평점을 매긴 영화의 movieId를 제외한 후 리스트로 생성\n",
    "    unseen_movies = [movie for movie in total_movies if movie not in seen_movies]\n",
    "    print('평점 매긴 영화 수 :',len(seen_movies),'추천 대상 영화 수: ',len(unseen_movies),\n",
    "         '전체 영화 수 :',len(total_movies))\n",
    "    \n",
    "    return unseen_movies\n",
    "\n",
    "unseen_movies = get_unseen_surprise(ratings,movies,9)"
   ]
  },
  {
   "cell_type": "code",
   "execution_count": 31,
   "id": "83966e6d",
   "metadata": {},
   "outputs": [
    {
     "name": "stdout",
     "output_type": "stream",
     "text": [
      "평점 매긴 영화 수 : 46 추천 대상 영화 수:  9696 전체 영화 수 : 9742\n",
      "#### Top-10 영화 리스트 ####\n",
      "Usual Suspects, The (1995) : 4.306302135700814\n",
      "Star Wars: Episode IV - A New Hope (1977) : 4.281663842987387\n",
      "Pulp Fiction (1994) : 4.278152632122759\n",
      "Silence of the Lambs, The (1991) : 4.226073566460876\n",
      "Godfather, The (1972) : 4.1918097904381995\n",
      "Streetcar Named Desire, A (1951) : 4.154746591122658\n",
      "Star Wars: Episode V - The Empire Strikes Back (1980) : 4.122016128534504\n",
      "Star Wars: Episode VI - Return of the Jedi (1983) : 4.108009609093436\n",
      "Goodfellas (1990) : 4.083464936588478\n",
      "Glory (1989) : 4.07887165526957\n"
     ]
    }
   ],
   "source": [
    "def recomm_movie_by_surprise(algo, userId, unseen_movies, top_n=10):\n",
    "    \n",
    "    # 알고리즘 객체의 predict() 메서드를 평점이 없는 영화에 반복 수행한 후 결과를 list 객체로 저장\n",
    "    predictions = [algo.predict(str(userId),str(movieId)) for movieId in unseen_movies]\n",
    "    \n",
    "    # predictions list 객체는 surprise의 predictions 객체를 원소로 가지고 있음\n",
    "    # [Prediction(uid='9',iid='1',est='3.69'), Prediction(uid='9',iid='2',est='2.98')...]\n",
    "    \n",
    "    # 이를 est 값으로 정렬하기 위해서 아래의 sortkey_est 함수를 정의함\n",
    "    # sortkey_est 함수는 list 객체의 sort() 함수의 키 값으로 사용되어 정렬 수행\n",
    "    def sortkey_est(pred):\n",
    "        return pred.est\n",
    "    \n",
    "    # sortkey_est() 반환값의 내림 차순으로 정렬을 수행하고 top_n 개의 최상위 값 추출\n",
    "    predictions.sort(key=sortkey_est,reverse=True)\n",
    "    top_predictions = predictions[:top_n]\n",
    "    \n",
    "    # top_n 으로 추출된 영화의 정보 추출, 영화 아이디, 추천 예상 평점, 제목 추출\n",
    "    top_movie_ids = [int(pred.iid) for pred in top_predictions]\n",
    "    top_movie_rating = [pred.est for pred in top_predictions]\n",
    "    top_movie_titles = movies[movies.movieId.isin(top_movie_ids)]['title']\n",
    "    \n",
    "    top_movie_preds = [(id,title,rating) for id, title, rating in\n",
    "                      zip(top_movie_ids,top_movie_titles,top_movie_rating)]\n",
    "    \n",
    "    return top_movie_preds\n",
    "\n",
    "\n",
    "unseen_movies = get_unseen_surprise(ratings,movies,9)\n",
    "top_movie_preds = recomm_movie_by_surprise(algo,9,unseen_movies,top_n=10)\n",
    "\n",
    "print('#### Top-10 영화 리스트 ####')\n",
    "for top_movie in top_movie_preds:\n",
    "    print(top_movie[1],\":\",top_movie[2])"
   ]
  },
  {
   "cell_type": "code",
   "execution_count": null,
   "id": "62f42cb3",
   "metadata": {},
   "outputs": [],
   "source": []
  }
 ],
 "metadata": {
  "kernelspec": {
   "display_name": "Python 3 (ipykernel)",
   "language": "python",
   "name": "python3"
  },
  "language_info": {
   "codemirror_mode": {
    "name": "ipython",
    "version": 3
   },
   "file_extension": ".py",
   "mimetype": "text/x-python",
   "name": "python",
   "nbconvert_exporter": "python",
   "pygments_lexer": "ipython3",
   "version": "3.8.13"
  },
  "toc": {
   "base_numbering": 1,
   "nav_menu": {},
   "number_sections": true,
   "sideBar": true,
   "skip_h1_title": false,
   "title_cell": "Table of Contents",
   "title_sidebar": "Contents",
   "toc_cell": false,
   "toc_position": {},
   "toc_section_display": true,
   "toc_window_display": false
  }
 },
 "nbformat": 4,
 "nbformat_minor": 5
}
