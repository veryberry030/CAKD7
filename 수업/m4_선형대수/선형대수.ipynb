{
 "cells": [
  {
   "cell_type": "markdown",
   "id": "2aa75912",
   "metadata": {},
   "source": [
    "# 선형대수"
   ]
  },
  {
   "cell_type": "markdown",
   "id": "ceac672b",
   "metadata": {},
   "source": [
    "# 데이터와 행렬\n",
    "```\n",
    "스칼라 : 숫자 하나만으로 이루어진 데이터\n",
    "벡터 : 여러 숫자가 특정한 순서대로 모여 있는 것을 의미. 하나의 벡터를 이루는 데이터 수가 n개이면 n## 데이터와 행렬\n",
    "스칼라 : 숫자 하나만으로 이루어진 데이터\n",
    "벡터 : 여러 숫자가 특정한 순서대로 모여 있는 것을 의미. 하나의 벡터를 이루는 데이터 수가 n기이면 n-차원 벡터라고 함\n",
    "열벡터는 열의 수가 1인 행렬\n",
    "하나의 데이터 레코드를 단독으로 벡터로 나타낼 때는 하나의 열로 나타내고 복수의 데이터 레코드 집합을 행렬로 나타낼 때는 하나의 데이터 레코드가 하나의 행으로 표기하는 것은 데이터 분석에서 일반적인 관례\n",
    "스칼라와 벡터도 수학적으로는 행렬에 속한다.\n",
    "스칼라는 열과 행의 수가 각각 1인 행렬이고 벡터는 열의 수가 1인 행렬이다.\n",
    "\n",
    "Python Numpy 선형대수\n",
    "단위행렬 (Unit matrix): np.eye(n)\n",
    "대각행렬 (Diagonal matrix): np.diag(x)\n",
    "내적 (Dot product, Inner product): np.dot(a, b)\n",
    "대각합 (Trace): np.trace(x)\n",
    "행렬식 (Matrix Determinant): np.linalg.det(x)\n",
    "역행렬 (Inverse of a matrix): np.linalg.inv(x)\n",
    "고유값 (Eigenvalue), 고유벡터 (Eigenvector): w, v = np.linalg.eig(x)\n",
    "특이값 분해 (Singular Value Decomposition): u, s, vh = np.linalg.svd(A)\n",
    "```\n",
    "https://rfriend.tistory.com/380"
   ]
  },
  {
   "cell_type": "code",
   "execution_count": 1,
   "id": "a5115778",
   "metadata": {},
   "outputs": [
    {
     "data": {
      "text/plain": [
       "array([[1., 0., 0., 0., 0.],\n",
       "       [0., 1., 0., 0., 0.],\n",
       "       [0., 0., 1., 0., 0.],\n",
       "       [0., 0., 0., 1., 0.],\n",
       "       [0., 0., 0., 0., 1.]])"
      ]
     },
     "execution_count": 1,
     "metadata": {},
     "output_type": "execute_result"
    }
   ],
   "source": [
    "import numpy as np\n",
    "np.eye(5)"
   ]
  },
  {
   "cell_type": "markdown",
   "id": "7e7e4ae9",
   "metadata": {},
   "source": [
    "벡터 a를 벡터 b와 같은 방향의 성분과 그렇지 않은 성분으로 분해한다고 할 때 의 길이는 벡터 b와 같은 방향의 성분 길이와 같다.\n",
    "\n",
    "벡터 a와 b의 내적은 벡터 b의 길이와 벡터 a에서 벡터 b와 같은 방향의 성분 길이를 곱한 것이다.\n",
    "\n",
    "- 행렬 내적은 행렬 곱이며 두 행렬 A와 B의 내적은 np.dot()을 이용해 계산이 가능\n",
    "- 행렬 내적의 특성으로 왼쪽 행렬의 열개수와 오른쪽 행렬의 행개수가 동일해야 내적 연산 가능"
   ]
  },
  {
   "cell_type": "code",
   "execution_count": 3,
   "id": "5a56d3ea",
   "metadata": {},
   "outputs": [
    {
     "data": {
      "text/plain": [
       "array([[1, 2],\n",
       "       [3, 4]])"
      ]
     },
     "execution_count": 3,
     "metadata": {},
     "output_type": "execute_result"
    }
   ],
   "source": [
    "# 내적\n",
    "a = np.arange(1,5).reshape(2,2)\n",
    "a"
   ]
  },
  {
   "cell_type": "code",
   "execution_count": 4,
   "id": "10724ebc",
   "metadata": {},
   "outputs": [
    {
     "data": {
      "text/plain": [
       "array([[ 7, 10],\n",
       "       [15, 22]])"
      ]
     },
     "execution_count": 4,
     "metadata": {},
     "output_type": "execute_result"
    }
   ],
   "source": [
    "np.dot(a,a)"
   ]
  },
  {
   "cell_type": "code",
   "execution_count": 7,
   "id": "6bdaa4bb",
   "metadata": {},
   "outputs": [
    {
     "name": "stdout",
     "output_type": "stream",
     "text": [
      "[[1 2 3]\n",
      " [4 5 6]]\n",
      "[[ 6. 23.]\n",
      " [-1.  7.]\n",
      " [ 8.  9.]]\n"
     ]
    }
   ],
   "source": [
    "x = np.arange(1,7).reshape(2,3)\n",
    "y = np.array([[6.,23],[-1,7],[8,9]])\n",
    "print(x)\n",
    "print(y)"
   ]
  },
  {
   "cell_type": "code",
   "execution_count": 9,
   "id": "12710f94",
   "metadata": {},
   "outputs": [
    {
     "data": {
      "text/plain": [
       "array([[ 28.,  64.],\n",
       "       [ 67., 181.]])"
      ]
     },
     "execution_count": 9,
     "metadata": {},
     "output_type": "execute_result"
    }
   ],
   "source": [
    "np.dot(x,y)"
   ]
  },
  {
   "cell_type": "markdown",
   "id": "465d9aa4",
   "metadata": {},
   "source": [
    "행렬 곱을 응용하여 신경망에 적용\n",
    "<img src='./행렬곱.jpg' size=10>"
   ]
  },
  {
   "cell_type": "code",
   "execution_count": null,
   "id": "057eceab",
   "metadata": {},
   "outputs": [],
   "source": []
  }
 ],
 "metadata": {
  "kernelspec": {
   "display_name": "Python 3 (ipykernel)",
   "language": "python",
   "name": "python3"
  },
  "language_info": {
   "codemirror_mode": {
    "name": "ipython",
    "version": 3
   },
   "file_extension": ".py",
   "mimetype": "text/x-python",
   "name": "python",
   "nbconvert_exporter": "python",
   "pygments_lexer": "ipython3",
   "version": "3.8.13"
  },
  "toc": {
   "base_numbering": 1,
   "nav_menu": {},
   "number_sections": true,
   "sideBar": true,
   "skip_h1_title": false,
   "title_cell": "Table of Contents",
   "title_sidebar": "Contents",
   "toc_cell": false,
   "toc_position": {},
   "toc_section_display": true,
   "toc_window_display": false
  }
 },
 "nbformat": 4,
 "nbformat_minor": 5
}
