{
 "cells": [
  {
   "cell_type": "code",
   "execution_count": 64,
   "id": "2e84cdec",
   "metadata": {},
   "outputs": [
    {
     "data": {
      "text/plain": [
       "'%.3f'"
      ]
     },
     "execution_count": 64,
     "metadata": {},
     "output_type": "execute_result"
    }
   ],
   "source": [
    "import pandas as pd\n",
    "import numpy as np\n",
    "import matplotlib as mpl\n",
    "import matplotlib.pyplot as plt\n",
    "\n",
    "%precision 3"
   ]
  },
  {
   "cell_type": "markdown",
   "id": "71d665cb",
   "metadata": {},
   "source": [
    "## 1차원 데이터\n",
    "- 평균값(기댓값), 표본분산, 불편분산(ddof=1), 표준편차\n",
    "- 표본분산은 표본의 평균을 사용해서 분산을 계산한 값으로 분산을 과소 추정하는 경향이 있으며 그 경향을 없애기 위한 것이 불편분산임. 표본분산 보다 조금 큰 값이 된다.\n",
    "- 표준화 : 평균값이 큰 변수와 작은 변수가 섞여 있으면 다루기 어려우므로 표준화로 데이터를 비교하기 쉽게 한다.\n",
    "- 최댓값, 최솟값, 중앙값, 사분위수\n",
    "- 표본분산과 비편향 분산\n",
    "    - 분산은 표본 분산과 불편분산(unbiased variance)의 두 종류가 존재\n",
    "    - 표본 분산은 표본에서 계산된 분산이며 모집단에 비해 표본수가 적을 때는 표본 분산이 모분산보다 작아진다.\n",
    "    - 즉 표본 분산이 모집단 분산에 맞춰서 동일하게 보정한 것을 비편향 분산이라 한다.\n",
    "    - 통계학에서는 이 비편향분산ㅇ르 사용하는 경우가 많다.\n",
    "    - 불편분산은 n대신 n-1로 나누어 구할 수 있다.\n",
    "    \n",
    "[표분분산이 분산을 과소 평가하는 이유]\n",
    "\n",
    "- 호수안에 물고기가 7마리가 있다. 몸길이 {1,2,3,4,5,6,7}, 모평균 4, 샘플링1 3마리{1,2,3} 표본평균 2, 샘플링2 {5,6,7} 표본평균 6\n",
    "- 이때 분산은 모평균을 모르기 때문에 표본평균과의 거리를 계산하며 분산을 과소평가 하게된다.\n",
    "- 표본 분산 보다 조금 더 큰 값이 되도록 보정하기 위하여 N대신 N-1로 나누어 불편분산을 구할 수 있다."
   ]
  },
  {
   "cell_type": "code",
   "execution_count": 2,
   "id": "8d38b695",
   "metadata": {},
   "outputs": [
    {
     "data": {
      "text/html": [
       "<div>\n",
       "<style scoped>\n",
       "    .dataframe tbody tr th:only-of-type {\n",
       "        vertical-align: middle;\n",
       "    }\n",
       "\n",
       "    .dataframe tbody tr th {\n",
       "        vertical-align: top;\n",
       "    }\n",
       "\n",
       "    .dataframe thead th {\n",
       "        text-align: right;\n",
       "    }\n",
       "</style>\n",
       "<table border=\"1\" class=\"dataframe\">\n",
       "  <thead>\n",
       "    <tr style=\"text-align: right;\">\n",
       "      <th></th>\n",
       "      <th>english</th>\n",
       "      <th>mathematics</th>\n",
       "    </tr>\n",
       "    <tr>\n",
       "      <th>student number</th>\n",
       "      <th></th>\n",
       "      <th></th>\n",
       "    </tr>\n",
       "  </thead>\n",
       "  <tbody>\n",
       "    <tr>\n",
       "      <th>1</th>\n",
       "      <td>42</td>\n",
       "      <td>65</td>\n",
       "    </tr>\n",
       "    <tr>\n",
       "      <th>2</th>\n",
       "      <td>69</td>\n",
       "      <td>80</td>\n",
       "    </tr>\n",
       "    <tr>\n",
       "      <th>3</th>\n",
       "      <td>56</td>\n",
       "      <td>63</td>\n",
       "    </tr>\n",
       "    <tr>\n",
       "      <th>4</th>\n",
       "      <td>41</td>\n",
       "      <td>63</td>\n",
       "    </tr>\n",
       "    <tr>\n",
       "      <th>5</th>\n",
       "      <td>57</td>\n",
       "      <td>76</td>\n",
       "    </tr>\n",
       "  </tbody>\n",
       "</table>\n",
       "</div>"
      ],
      "text/plain": [
       "                english  mathematics\n",
       "student number                      \n",
       "1                    42           65\n",
       "2                    69           80\n",
       "3                    56           63\n",
       "4                    41           63\n",
       "5                    57           76"
      ]
     },
     "execution_count": 2,
     "metadata": {},
     "output_type": "execute_result"
    }
   ],
   "source": [
    "df = pd.read_csv('./ch2_scores_em.csv',index_col='student number')\n",
    "df.head()"
   ]
  },
  {
   "cell_type": "code",
   "execution_count": 3,
   "id": "b8b3c023",
   "metadata": {},
   "outputs": [
    {
     "data": {
      "text/plain": [
       "(50, 2)"
      ]
     },
     "execution_count": 3,
     "metadata": {},
     "output_type": "execute_result"
    }
   ],
   "source": [
    "df.shape"
   ]
  },
  {
   "cell_type": "code",
   "execution_count": 4,
   "id": "74364e67",
   "metadata": {},
   "outputs": [
    {
     "data": {
      "text/plain": [
       "array([42, 69, 56, 41, 57, 48, 65, 49, 65, 58], dtype=int64)"
      ]
     },
     "execution_count": 4,
     "metadata": {},
     "output_type": "execute_result"
    }
   ],
   "source": [
    "scores = np.array(df['english'])[:10]\n",
    "scores"
   ]
  },
  {
   "cell_type": "code",
   "execution_count": 5,
   "id": "d52d7e25",
   "metadata": {},
   "outputs": [
    {
     "data": {
      "text/html": [
       "<div>\n",
       "<style scoped>\n",
       "    .dataframe tbody tr th:only-of-type {\n",
       "        vertical-align: middle;\n",
       "    }\n",
       "\n",
       "    .dataframe tbody tr th {\n",
       "        vertical-align: top;\n",
       "    }\n",
       "\n",
       "    .dataframe thead th {\n",
       "        text-align: right;\n",
       "    }\n",
       "</style>\n",
       "<table border=\"1\" class=\"dataframe\">\n",
       "  <thead>\n",
       "    <tr style=\"text-align: right;\">\n",
       "      <th></th>\n",
       "      <th>score</th>\n",
       "    </tr>\n",
       "    <tr>\n",
       "      <th>student</th>\n",
       "      <th></th>\n",
       "    </tr>\n",
       "  </thead>\n",
       "  <tbody>\n",
       "    <tr>\n",
       "      <th>A</th>\n",
       "      <td>42</td>\n",
       "    </tr>\n",
       "    <tr>\n",
       "      <th>B</th>\n",
       "      <td>69</td>\n",
       "    </tr>\n",
       "    <tr>\n",
       "      <th>C</th>\n",
       "      <td>56</td>\n",
       "    </tr>\n",
       "    <tr>\n",
       "      <th>D</th>\n",
       "      <td>41</td>\n",
       "    </tr>\n",
       "    <tr>\n",
       "      <th>E</th>\n",
       "      <td>57</td>\n",
       "    </tr>\n",
       "    <tr>\n",
       "      <th>F</th>\n",
       "      <td>48</td>\n",
       "    </tr>\n",
       "    <tr>\n",
       "      <th>G</th>\n",
       "      <td>65</td>\n",
       "    </tr>\n",
       "    <tr>\n",
       "      <th>H</th>\n",
       "      <td>49</td>\n",
       "    </tr>\n",
       "    <tr>\n",
       "      <th>I</th>\n",
       "      <td>65</td>\n",
       "    </tr>\n",
       "    <tr>\n",
       "      <th>J</th>\n",
       "      <td>58</td>\n",
       "    </tr>\n",
       "  </tbody>\n",
       "</table>\n",
       "</div>"
      ],
      "text/plain": [
       "         score\n",
       "student       \n",
       "A           42\n",
       "B           69\n",
       "C           56\n",
       "D           41\n",
       "E           57\n",
       "F           48\n",
       "G           65\n",
       "H           49\n",
       "I           65\n",
       "J           58"
      ]
     },
     "execution_count": 5,
     "metadata": {},
     "output_type": "execute_result"
    }
   ],
   "source": [
    "scores_df = pd.DataFrame({'score':scores},index=pd.Index(['A','B','C','D','E','F','G','H','I','J'],name='student'))\n",
    "scores_df"
   ]
  },
  {
   "cell_type": "markdown",
   "id": "54b5a716",
   "metadata": {},
   "source": [
    "## 1차원 데이터 정리"
   ]
  },
  {
   "cell_type": "markdown",
   "id": "834bf8e8",
   "metadata": {},
   "source": [
    "### 데이터 중심의 지표"
   ]
  },
  {
   "cell_type": "markdown",
   "id": "de1430ce",
   "metadata": {},
   "source": [
    "#### 평균값"
   ]
  },
  {
   "cell_type": "code",
   "execution_count": 6,
   "id": "e66d26f9",
   "metadata": {},
   "outputs": [
    {
     "data": {
      "text/plain": [
       "55.000"
      ]
     },
     "execution_count": 6,
     "metadata": {},
     "output_type": "execute_result"
    }
   ],
   "source": [
    "sum(scores)/len(scores)"
   ]
  },
  {
   "cell_type": "code",
   "execution_count": 7,
   "id": "1979b16a",
   "metadata": {},
   "outputs": [
    {
     "data": {
      "text/plain": [
       "55.000"
      ]
     },
     "execution_count": 7,
     "metadata": {},
     "output_type": "execute_result"
    }
   ],
   "source": [
    "np.mean(scores)"
   ]
  },
  {
   "cell_type": "code",
   "execution_count": 8,
   "id": "332b0598",
   "metadata": {},
   "outputs": [
    {
     "data": {
      "text/plain": [
       "score    55.0\n",
       "dtype: float64"
      ]
     },
     "execution_count": 8,
     "metadata": {},
     "output_type": "execute_result"
    }
   ],
   "source": [
    "scores_df.mean()"
   ]
  },
  {
   "cell_type": "markdown",
   "id": "d4a5c1ea",
   "metadata": {},
   "source": [
    "#### 중앙값"
   ]
  },
  {
   "cell_type": "code",
   "execution_count": 9,
   "id": "59a6eda2",
   "metadata": {},
   "outputs": [
    {
     "data": {
      "text/plain": [
       "array([41, 42, 48, 49, 56, 57, 58, 65, 65, 69], dtype=int64)"
      ]
     },
     "execution_count": 9,
     "metadata": {},
     "output_type": "execute_result"
    }
   ],
   "source": [
    "sorted_scores = np.sort(scores)\n",
    "sorted_scores"
   ]
  },
  {
   "cell_type": "code",
   "execution_count": 10,
   "id": "aca13c6a",
   "metadata": {},
   "outputs": [
    {
     "data": {
      "text/plain": [
       "56.500"
      ]
     },
     "execution_count": 10,
     "metadata": {},
     "output_type": "execute_result"
    }
   ],
   "source": [
    "n = len(sorted_scores)\n",
    "if n % 2 ==0:\n",
    "    m0 = sorted_scores[n//2-1]\n",
    "    m1 = sorted_scores[n//2]\n",
    "    median = (m0+m1)/2\n",
    "else:\n",
    "    median = sorted_scores[(n+1)//2-1]\n",
    "median"
   ]
  },
  {
   "cell_type": "code",
   "execution_count": 11,
   "id": "98c14735",
   "metadata": {},
   "outputs": [
    {
     "data": {
      "text/plain": [
       "56.500"
      ]
     },
     "execution_count": 11,
     "metadata": {},
     "output_type": "execute_result"
    }
   ],
   "source": [
    "np.median(scores)"
   ]
  },
  {
   "cell_type": "code",
   "execution_count": 12,
   "id": "f24f2192",
   "metadata": {},
   "outputs": [
    {
     "data": {
      "text/plain": [
       "score    56.5\n",
       "dtype: float64"
      ]
     },
     "execution_count": 12,
     "metadata": {},
     "output_type": "execute_result"
    }
   ],
   "source": [
    "scores_df.median()"
   ]
  },
  {
   "cell_type": "markdown",
   "id": "002d86f8",
   "metadata": {},
   "source": [
    "#### 최빈값"
   ]
  },
  {
   "cell_type": "code",
   "execution_count": 13,
   "id": "95e5222e",
   "metadata": {},
   "outputs": [
    {
     "data": {
      "text/plain": [
       "0    1\n",
       "dtype: int64"
      ]
     },
     "execution_count": 13,
     "metadata": {},
     "output_type": "execute_result"
    }
   ],
   "source": [
    "pd.Series([1,1,1,2,2,3]).mode()"
   ]
  },
  {
   "cell_type": "code",
   "execution_count": 14,
   "id": "e103ef2c",
   "metadata": {},
   "outputs": [
    {
     "data": {
      "text/plain": [
       "0    1\n",
       "1    2\n",
       "2    3\n",
       "3    4\n",
       "4    5\n",
       "dtype: int64"
      ]
     },
     "execution_count": 14,
     "metadata": {},
     "output_type": "execute_result"
    }
   ],
   "source": [
    "pd.Series([1,2,3,4,5]).mode()"
   ]
  },
  {
   "cell_type": "markdown",
   "id": "73a39535",
   "metadata": {},
   "source": [
    "### 데이터의 산포도 지표"
   ]
  },
  {
   "cell_type": "markdown",
   "id": "3a427a8b",
   "metadata": {},
   "source": [
    "#### 분산과 표준편차"
   ]
  },
  {
   "cell_type": "code",
   "execution_count": 15,
   "id": "52d0e7a3",
   "metadata": {},
   "outputs": [
    {
     "data": {
      "text/plain": [
       "array([-13.,  14.,   1., -14.,   2.,  -7.,  10.,  -6.,  10.,   3.])"
      ]
     },
     "execution_count": 15,
     "metadata": {},
     "output_type": "execute_result"
    }
   ],
   "source": [
    "mean = np.mean(scores)\n",
    "deviation = scores-mean\n",
    "deviation"
   ]
  },
  {
   "cell_type": "code",
   "execution_count": 16,
   "id": "e80c76b5",
   "metadata": {},
   "outputs": [
    {
     "data": {
      "text/plain": [
       "array([-5.,  5.,  3., -1., -4.,  1.,  2., -2., -3.,  4.])"
      ]
     },
     "execution_count": 16,
     "metadata": {},
     "output_type": "execute_result"
    }
   ],
   "source": [
    "another_scores = [50,60,58,54,51,56,57,53,52,59]\n",
    "another_mean = np.mean(another_scores)\n",
    "another_deviation = another_scores - another_mean\n",
    "another_deviation"
   ]
  },
  {
   "cell_type": "code",
   "execution_count": 17,
   "id": "885e17ec",
   "metadata": {},
   "outputs": [
    {
     "data": {
      "text/plain": [
       "0.000"
      ]
     },
     "execution_count": 17,
     "metadata": {},
     "output_type": "execute_result"
    }
   ],
   "source": [
    "np.mean(deviation)"
   ]
  },
  {
   "cell_type": "code",
   "execution_count": 18,
   "id": "d6535968",
   "metadata": {},
   "outputs": [
    {
     "data": {
      "text/plain": [
       "0.000"
      ]
     },
     "execution_count": 18,
     "metadata": {},
     "output_type": "execute_result"
    }
   ],
   "source": [
    "np.mean(another_deviation)"
   ]
  },
  {
   "cell_type": "code",
   "execution_count": 19,
   "id": "003d1696",
   "metadata": {},
   "outputs": [
    {
     "data": {
      "text/html": [
       "<div>\n",
       "<style scoped>\n",
       "    .dataframe tbody tr th:only-of-type {\n",
       "        vertical-align: middle;\n",
       "    }\n",
       "\n",
       "    .dataframe tbody tr th {\n",
       "        vertical-align: top;\n",
       "    }\n",
       "\n",
       "    .dataframe thead th {\n",
       "        text-align: right;\n",
       "    }\n",
       "</style>\n",
       "<table border=\"1\" class=\"dataframe\">\n",
       "  <thead>\n",
       "    <tr style=\"text-align: right;\">\n",
       "      <th></th>\n",
       "      <th>score</th>\n",
       "      <th>deviation</th>\n",
       "    </tr>\n",
       "    <tr>\n",
       "      <th>student</th>\n",
       "      <th></th>\n",
       "      <th></th>\n",
       "    </tr>\n",
       "  </thead>\n",
       "  <tbody>\n",
       "    <tr>\n",
       "      <th>A</th>\n",
       "      <td>42</td>\n",
       "      <td>-13.0</td>\n",
       "    </tr>\n",
       "    <tr>\n",
       "      <th>B</th>\n",
       "      <td>69</td>\n",
       "      <td>14.0</td>\n",
       "    </tr>\n",
       "    <tr>\n",
       "      <th>C</th>\n",
       "      <td>56</td>\n",
       "      <td>1.0</td>\n",
       "    </tr>\n",
       "    <tr>\n",
       "      <th>D</th>\n",
       "      <td>41</td>\n",
       "      <td>-14.0</td>\n",
       "    </tr>\n",
       "    <tr>\n",
       "      <th>E</th>\n",
       "      <td>57</td>\n",
       "      <td>2.0</td>\n",
       "    </tr>\n",
       "    <tr>\n",
       "      <th>F</th>\n",
       "      <td>48</td>\n",
       "      <td>-7.0</td>\n",
       "    </tr>\n",
       "    <tr>\n",
       "      <th>G</th>\n",
       "      <td>65</td>\n",
       "      <td>10.0</td>\n",
       "    </tr>\n",
       "    <tr>\n",
       "      <th>H</th>\n",
       "      <td>49</td>\n",
       "      <td>-6.0</td>\n",
       "    </tr>\n",
       "    <tr>\n",
       "      <th>I</th>\n",
       "      <td>65</td>\n",
       "      <td>10.0</td>\n",
       "    </tr>\n",
       "    <tr>\n",
       "      <th>J</th>\n",
       "      <td>58</td>\n",
       "      <td>3.0</td>\n",
       "    </tr>\n",
       "  </tbody>\n",
       "</table>\n",
       "</div>"
      ],
      "text/plain": [
       "         score  deviation\n",
       "student                  \n",
       "A           42      -13.0\n",
       "B           69       14.0\n",
       "C           56        1.0\n",
       "D           41      -14.0\n",
       "E           57        2.0\n",
       "F           48       -7.0\n",
       "G           65       10.0\n",
       "H           49       -6.0\n",
       "I           65       10.0\n",
       "J           58        3.0"
      ]
     },
     "execution_count": 19,
     "metadata": {},
     "output_type": "execute_result"
    }
   ],
   "source": [
    "summary_df = scores_df.copy()\n",
    "summary_df['deviation'] = deviation\n",
    "summary_df"
   ]
  },
  {
   "cell_type": "code",
   "execution_count": 20,
   "id": "8a5bf4fe",
   "metadata": {},
   "outputs": [
    {
     "data": {
      "text/plain": [
       "score        55.0\n",
       "deviation     0.0\n",
       "dtype: float64"
      ]
     },
     "execution_count": 20,
     "metadata": {},
     "output_type": "execute_result"
    }
   ],
   "source": [
    "summary_df.mean()"
   ]
  },
  {
   "cell_type": "code",
   "execution_count": 21,
   "id": "545d1b7f",
   "metadata": {},
   "outputs": [
    {
     "data": {
      "text/plain": [
       "86.000"
      ]
     },
     "execution_count": 21,
     "metadata": {},
     "output_type": "execute_result"
    }
   ],
   "source": [
    "np.mean(deviation ** 2)"
   ]
  },
  {
   "cell_type": "code",
   "execution_count": 22,
   "id": "4eeb707a",
   "metadata": {},
   "outputs": [
    {
     "data": {
      "text/plain": [
       "86.000"
      ]
     },
     "execution_count": 22,
     "metadata": {},
     "output_type": "execute_result"
    }
   ],
   "source": [
    "np.var(scores)"
   ]
  },
  {
   "cell_type": "code",
   "execution_count": 23,
   "id": "507ec19d",
   "metadata": {},
   "outputs": [
    {
     "data": {
      "text/plain": [
       "score    95.555556\n",
       "dtype: float64"
      ]
     },
     "execution_count": 23,
     "metadata": {},
     "output_type": "execute_result"
    }
   ],
   "source": [
    "scores_df.var()"
   ]
  },
  {
   "cell_type": "code",
   "execution_count": 24,
   "id": "ccd94d5a",
   "metadata": {},
   "outputs": [
    {
     "data": {
      "text/html": [
       "<div>\n",
       "<style scoped>\n",
       "    .dataframe tbody tr th:only-of-type {\n",
       "        vertical-align: middle;\n",
       "    }\n",
       "\n",
       "    .dataframe tbody tr th {\n",
       "        vertical-align: top;\n",
       "    }\n",
       "\n",
       "    .dataframe thead th {\n",
       "        text-align: right;\n",
       "    }\n",
       "</style>\n",
       "<table border=\"1\" class=\"dataframe\">\n",
       "  <thead>\n",
       "    <tr style=\"text-align: right;\">\n",
       "      <th></th>\n",
       "      <th>score</th>\n",
       "      <th>deviation</th>\n",
       "      <th>square of deviation</th>\n",
       "    </tr>\n",
       "    <tr>\n",
       "      <th>student</th>\n",
       "      <th></th>\n",
       "      <th></th>\n",
       "      <th></th>\n",
       "    </tr>\n",
       "  </thead>\n",
       "  <tbody>\n",
       "    <tr>\n",
       "      <th>A</th>\n",
       "      <td>42</td>\n",
       "      <td>-13.0</td>\n",
       "      <td>169.0</td>\n",
       "    </tr>\n",
       "    <tr>\n",
       "      <th>B</th>\n",
       "      <td>69</td>\n",
       "      <td>14.0</td>\n",
       "      <td>196.0</td>\n",
       "    </tr>\n",
       "    <tr>\n",
       "      <th>C</th>\n",
       "      <td>56</td>\n",
       "      <td>1.0</td>\n",
       "      <td>1.0</td>\n",
       "    </tr>\n",
       "    <tr>\n",
       "      <th>D</th>\n",
       "      <td>41</td>\n",
       "      <td>-14.0</td>\n",
       "      <td>196.0</td>\n",
       "    </tr>\n",
       "    <tr>\n",
       "      <th>E</th>\n",
       "      <td>57</td>\n",
       "      <td>2.0</td>\n",
       "      <td>4.0</td>\n",
       "    </tr>\n",
       "    <tr>\n",
       "      <th>F</th>\n",
       "      <td>48</td>\n",
       "      <td>-7.0</td>\n",
       "      <td>49.0</td>\n",
       "    </tr>\n",
       "    <tr>\n",
       "      <th>G</th>\n",
       "      <td>65</td>\n",
       "      <td>10.0</td>\n",
       "      <td>100.0</td>\n",
       "    </tr>\n",
       "    <tr>\n",
       "      <th>H</th>\n",
       "      <td>49</td>\n",
       "      <td>-6.0</td>\n",
       "      <td>36.0</td>\n",
       "    </tr>\n",
       "    <tr>\n",
       "      <th>I</th>\n",
       "      <td>65</td>\n",
       "      <td>10.0</td>\n",
       "      <td>100.0</td>\n",
       "    </tr>\n",
       "    <tr>\n",
       "      <th>J</th>\n",
       "      <td>58</td>\n",
       "      <td>3.0</td>\n",
       "      <td>9.0</td>\n",
       "    </tr>\n",
       "  </tbody>\n",
       "</table>\n",
       "</div>"
      ],
      "text/plain": [
       "         score  deviation  square of deviation\n",
       "student                                       \n",
       "A           42      -13.0                169.0\n",
       "B           69       14.0                196.0\n",
       "C           56        1.0                  1.0\n",
       "D           41      -14.0                196.0\n",
       "E           57        2.0                  4.0\n",
       "F           48       -7.0                 49.0\n",
       "G           65       10.0                100.0\n",
       "H           49       -6.0                 36.0\n",
       "I           65       10.0                100.0\n",
       "J           58        3.0                  9.0"
      ]
     },
     "execution_count": 24,
     "metadata": {},
     "output_type": "execute_result"
    }
   ],
   "source": [
    "summary_df['square of deviation'] = np.square(deviation)\n",
    "summary_df"
   ]
  },
  {
   "cell_type": "code",
   "execution_count": 25,
   "id": "03267c0e",
   "metadata": {},
   "outputs": [
    {
     "data": {
      "text/plain": [
       "score                  55.0\n",
       "deviation               0.0\n",
       "square of deviation    86.0\n",
       "dtype: float64"
      ]
     },
     "execution_count": 25,
     "metadata": {},
     "output_type": "execute_result"
    }
   ],
   "source": [
    "summary_df.mean()"
   ]
  },
  {
   "cell_type": "code",
   "execution_count": 26,
   "id": "1a164d85",
   "metadata": {},
   "outputs": [
    {
     "data": {
      "text/plain": [
       "9.274"
      ]
     },
     "execution_count": 26,
     "metadata": {},
     "output_type": "execute_result"
    }
   ],
   "source": [
    "np.sqrt(np.var(scores,ddof=0))"
   ]
  },
  {
   "cell_type": "code",
   "execution_count": 27,
   "id": "88ec120e",
   "metadata": {},
   "outputs": [
    {
     "data": {
      "text/plain": [
       "9.274"
      ]
     },
     "execution_count": 27,
     "metadata": {},
     "output_type": "execute_result"
    }
   ],
   "source": [
    "np.std(scores,ddof=0)"
   ]
  },
  {
   "cell_type": "markdown",
   "id": "2ccffc42",
   "metadata": {},
   "source": [
    "#### 범위와 사분위 범위"
   ]
  },
  {
   "cell_type": "code",
   "execution_count": 28,
   "id": "a5f2f9a3",
   "metadata": {},
   "outputs": [
    {
     "data": {
      "text/plain": [
       "28"
      ]
     },
     "execution_count": 28,
     "metadata": {},
     "output_type": "execute_result"
    }
   ],
   "source": [
    "np.max(scores) - np.min(scores)"
   ]
  },
  {
   "cell_type": "code",
   "execution_count": 29,
   "id": "c06d26b7",
   "metadata": {},
   "outputs": [
    {
     "data": {
      "text/plain": [
       "15.000"
      ]
     },
     "execution_count": 29,
     "metadata": {},
     "output_type": "execute_result"
    }
   ],
   "source": [
    "scores_Q1 = np.percentile(scores,25)\n",
    "scores_Q3 = np.percentile(scores,75)\n",
    "scores_IQR = scores_Q3 - scores_Q1\n",
    "scores_IQR"
   ]
  },
  {
   "cell_type": "markdown",
   "id": "22d68579",
   "metadata": {},
   "source": [
    "#### 데이터의 지표 정리"
   ]
  },
  {
   "cell_type": "code",
   "execution_count": 32,
   "id": "736746fb",
   "metadata": {},
   "outputs": [
    {
     "data": {
      "text/plain": [
       "count    10.000000\n",
       "mean     55.000000\n",
       "std       9.775252\n",
       "min      41.000000\n",
       "25%      48.250000\n",
       "50%      56.500000\n",
       "75%      63.250000\n",
       "max      69.000000\n",
       "dtype: float64"
      ]
     },
     "execution_count": 32,
     "metadata": {},
     "output_type": "execute_result"
    }
   ],
   "source": [
    "pd.Series(scores).describe()"
   ]
  },
  {
   "cell_type": "markdown",
   "id": "2cda2cf9",
   "metadata": {},
   "source": [
    "#### 0822 [과제] 교재 ~p.51 코드 문제 풀기"
   ]
  },
  {
   "cell_type": "markdown",
   "id": "52f62802",
   "metadata": {},
   "source": [
    "#### 0822 [과제] 20개 원소로 구성되는 배열을 만든 후, 평균, 편차 및 편차의 합을 구하세요."
   ]
  },
  {
   "cell_type": "code",
   "execution_count": 40,
   "id": "a0d84c6b",
   "metadata": {},
   "outputs": [
    {
     "data": {
      "text/plain": [
       "array([ 4, 42, 32, 53, 80, 26, 25, 37, 85, 69, 25, 19, 52, 79, 65, 79, 41,\n",
       "        5,  7, 97])"
      ]
     },
     "execution_count": 40,
     "metadata": {},
     "output_type": "execute_result"
    }
   ],
   "source": [
    "import random\n",
    "arr1 = np.random.randint(100,size=20)\n",
    "arr1"
   ]
  },
  {
   "cell_type": "code",
   "execution_count": 41,
   "id": "d2c16ec9",
   "metadata": {},
   "outputs": [
    {
     "data": {
      "text/plain": [
       "46.100"
      ]
     },
     "execution_count": 41,
     "metadata": {},
     "output_type": "execute_result"
    }
   ],
   "source": [
    "arr1.mean()"
   ]
  },
  {
   "cell_type": "code",
   "execution_count": 77,
   "id": "1ff665e1",
   "metadata": {},
   "outputs": [
    {
     "data": {
      "text/plain": [
       "array([-42.1,  -4.1, -14.1,   6.9,  33.9, -20.1, -21.1,  -9.1,  38.9,\n",
       "        22.9, -21.1, -27.1,   5.9,  32.9,  18.9,  32.9,  -5.1, -41.1,\n",
       "       -39.1,  50.9])"
      ]
     },
     "execution_count": 77,
     "metadata": {},
     "output_type": "execute_result"
    }
   ],
   "source": [
    "deviation = arr1 - arr1.mean()\n",
    "deviation"
   ]
  },
  {
   "cell_type": "code",
   "execution_count": 48,
   "id": "8078f63c",
   "metadata": {},
   "outputs": [
    {
     "data": {
      "text/plain": [
       "0.000"
      ]
     },
     "execution_count": 48,
     "metadata": {},
     "output_type": "execute_result"
    }
   ],
   "source": [
    "deviation.sum()"
   ]
  },
  {
   "cell_type": "markdown",
   "id": "4a11758c",
   "metadata": {},
   "source": [
    "#### 0822 [과제] 중앙값 > 평균값 인 경우와 중앙값 < 평균값인 두가지 집합에서 나타나는 가능성 있는 특징을 사례로 설명하세요."
   ]
  },
  {
   "cell_type": "code",
   "execution_count": 58,
   "id": "d04613a7",
   "metadata": {},
   "outputs": [
    {
     "name": "stdout",
     "output_type": "stream",
     "text": [
      "평균값 : 164.66666666666666\n",
      "중앙값 : 165.5\n"
     ]
    }
   ],
   "source": [
    "# 중앙값(median) > 평균값(mean)\n",
    "# 160~170 사이 비슷한 키를 가진 사람들\n",
    "arr2 = [168,165,166,162,160,167]\n",
    "arr2_mean = np.mean(arr2)\n",
    "arr2_median = np.median(arr2)\n",
    "print(f'평균값 : {arr2_mean}')\n",
    "print(f'중앙값 : {arr2_median}')"
   ]
  },
  {
   "cell_type": "code",
   "execution_count": 57,
   "id": "e54f2917",
   "metadata": {},
   "outputs": [
    {
     "name": "stdout",
     "output_type": "stream",
     "text": [
      "평균값 : 339.1666666666667\n",
      "중앙값 : 277.5\n"
     ]
    }
   ],
   "source": [
    "# 중앙값(median) < 평균값(mean)\n",
    "# 월급받는 개발자 5명과, 프리랜서(비교적 고연봉) 1명\n",
    "arr3 = [250,300,255,210,320,700]\n",
    "arr3_mean = np.mean(arr3)\n",
    "arr3_median = np.median(arr3)\n",
    "print(f'평균값 : {arr3_mean}')\n",
    "print(f'중앙값 : {arr3_median}')"
   ]
  },
  {
   "cell_type": "markdown",
   "id": "37fb355c",
   "metadata": {},
   "source": [
    "#### 0822 [과제]  4분위를 이용하여 이상치를 구하는 사례를 생성하고 시각화 및 이상치 산출하는 과정을 설명하세요."
   ]
  },
  {
   "cell_type": "code",
   "execution_count": 65,
   "id": "09958983",
   "metadata": {},
   "outputs": [
    {
     "data": {
      "text/html": [
       "<div>\n",
       "<style scoped>\n",
       "    .dataframe tbody tr th:only-of-type {\n",
       "        vertical-align: middle;\n",
       "    }\n",
       "\n",
       "    .dataframe tbody tr th {\n",
       "        vertical-align: top;\n",
       "    }\n",
       "\n",
       "    .dataframe thead th {\n",
       "        text-align: right;\n",
       "    }\n",
       "</style>\n",
       "<table border=\"1\" class=\"dataframe\">\n",
       "  <thead>\n",
       "    <tr style=\"text-align: right;\">\n",
       "      <th></th>\n",
       "      <th>ID</th>\n",
       "      <th>Name</th>\n",
       "      <th>Market</th>\n",
       "      <th>Category</th>\n",
       "      <th>Capital</th>\n",
       "      <th>PER</th>\n",
       "      <th>EPS</th>\n",
       "      <th>ROE</th>\n",
       "      <th>PBR</th>\n",
       "      <th>BPS</th>\n",
       "      <th>...</th>\n",
       "      <th>Retention_Continuous</th>\n",
       "      <th>Open</th>\n",
       "      <th>High</th>\n",
       "      <th>Low</th>\n",
       "      <th>Close</th>\n",
       "      <th>DaytoDay</th>\n",
       "      <th>Volume</th>\n",
       "      <th>Highest_Price</th>\n",
       "      <th>Highest_Date</th>\n",
       "      <th>update_date</th>\n",
       "    </tr>\n",
       "  </thead>\n",
       "  <tbody>\n",
       "    <tr>\n",
       "      <th>0</th>\n",
       "      <td>20</td>\n",
       "      <td>동화약품</td>\n",
       "      <td>KOSPI</td>\n",
       "      <td>제약</td>\n",
       "      <td>3282</td>\n",
       "      <td>22.82</td>\n",
       "      <td>204</td>\n",
       "      <td>5.27</td>\n",
       "      <td>1.16</td>\n",
       "      <td>12534</td>\n",
       "      <td>...</td>\n",
       "      <td>5</td>\n",
       "      <td>11400</td>\n",
       "      <td>11750</td>\n",
       "      <td>11400</td>\n",
       "      <td>11750</td>\n",
       "      <td>300</td>\n",
       "      <td>67692</td>\n",
       "      <td>21550</td>\n",
       "      <td>2020-08-11</td>\n",
       "      <td>2022-05-13 7:04</td>\n",
       "    </tr>\n",
       "    <tr>\n",
       "      <th>1</th>\n",
       "      <td>40</td>\n",
       "      <td>KR모터스</td>\n",
       "      <td>KOSPI</td>\n",
       "      <td>자동차</td>\n",
       "      <td>761</td>\n",
       "      <td>-8.77</td>\n",
       "      <td>-48</td>\n",
       "      <td>-25.82</td>\n",
       "      <td>2.25</td>\n",
       "      <td>385</td>\n",
       "      <td>...</td>\n",
       "      <td>1</td>\n",
       "      <td>786</td>\n",
       "      <td>804</td>\n",
       "      <td>786</td>\n",
       "      <td>792</td>\n",
       "      <td>8</td>\n",
       "      <td>80163</td>\n",
       "      <td>1450</td>\n",
       "      <td>2019-07-05</td>\n",
       "      <td>2022-05-13 6:31</td>\n",
       "    </tr>\n",
       "    <tr>\n",
       "      <th>2</th>\n",
       "      <td>50</td>\n",
       "      <td>경방</td>\n",
       "      <td>KOSPI</td>\n",
       "      <td>섬유,의류,신발,호화품</td>\n",
       "      <td>4208</td>\n",
       "      <td>16.92</td>\n",
       "      <td>155</td>\n",
       "      <td>2.98</td>\n",
       "      <td>0.46</td>\n",
       "      <td>30043</td>\n",
       "      <td>...</td>\n",
       "      <td>5</td>\n",
       "      <td>15100</td>\n",
       "      <td>15350</td>\n",
       "      <td>14900</td>\n",
       "      <td>15350</td>\n",
       "      <td>200</td>\n",
       "      <td>8396</td>\n",
       "      <td>17750</td>\n",
       "      <td>2022-04-26</td>\n",
       "      <td>2022-05-13 6:48</td>\n",
       "    </tr>\n",
       "    <tr>\n",
       "      <th>3</th>\n",
       "      <td>60</td>\n",
       "      <td>메리츠화재</td>\n",
       "      <td>KOSPI</td>\n",
       "      <td>손해보험</td>\n",
       "      <td>44269</td>\n",
       "      <td>6.13</td>\n",
       "      <td>1605</td>\n",
       "      <td>26.08</td>\n",
       "      <td>1.52</td>\n",
       "      <td>22115</td>\n",
       "      <td>...</td>\n",
       "      <td>4</td>\n",
       "      <td>37250</td>\n",
       "      <td>37350</td>\n",
       "      <td>34650</td>\n",
       "      <td>36700</td>\n",
       "      <td>350</td>\n",
       "      <td>545472</td>\n",
       "      <td>53500</td>\n",
       "      <td>2022-01-21</td>\n",
       "      <td>2022-05-13 7:05</td>\n",
       "    </tr>\n",
       "    <tr>\n",
       "      <th>4</th>\n",
       "      <td>70</td>\n",
       "      <td>삼양홀딩스</td>\n",
       "      <td>KOSPI</td>\n",
       "      <td>식품</td>\n",
       "      <td>6988</td>\n",
       "      <td>3.66</td>\n",
       "      <td>1645</td>\n",
       "      <td>14.53</td>\n",
       "      <td>0.43</td>\n",
       "      <td>226314</td>\n",
       "      <td>...</td>\n",
       "      <td>1</td>\n",
       "      <td>81800</td>\n",
       "      <td>82300</td>\n",
       "      <td>81000</td>\n",
       "      <td>81600</td>\n",
       "      <td>500</td>\n",
       "      <td>9234</td>\n",
       "      <td>134000</td>\n",
       "      <td>2021-04-22</td>\n",
       "      <td>2022-05-13 6:48</td>\n",
       "    </tr>\n",
       "    <tr>\n",
       "      <th>...</th>\n",
       "      <td>...</td>\n",
       "      <td>...</td>\n",
       "      <td>...</td>\n",
       "      <td>...</td>\n",
       "      <td>...</td>\n",
       "      <td>...</td>\n",
       "      <td>...</td>\n",
       "      <td>...</td>\n",
       "      <td>...</td>\n",
       "      <td>...</td>\n",
       "      <td>...</td>\n",
       "      <td>...</td>\n",
       "      <td>...</td>\n",
       "      <td>...</td>\n",
       "      <td>...</td>\n",
       "      <td>...</td>\n",
       "      <td>...</td>\n",
       "      <td>...</td>\n",
       "      <td>...</td>\n",
       "      <td>...</td>\n",
       "      <td>...</td>\n",
       "    </tr>\n",
       "    <tr>\n",
       "      <th>245</th>\n",
       "      <td>4920</td>\n",
       "      <td>씨아이테크</td>\n",
       "      <td>KOSPI</td>\n",
       "      <td>컴퓨터와주변기기</td>\n",
       "      <td>429</td>\n",
       "      <td>-8.51</td>\n",
       "      <td>119</td>\n",
       "      <td>-15.91</td>\n",
       "      <td>1.27</td>\n",
       "      <td>1202</td>\n",
       "      <td>...</td>\n",
       "      <td>2</td>\n",
       "      <td>1070</td>\n",
       "      <td>1115</td>\n",
       "      <td>1065</td>\n",
       "      <td>1075</td>\n",
       "      <td>5</td>\n",
       "      <td>272694</td>\n",
       "      <td>2035</td>\n",
       "      <td>2021-04-27</td>\n",
       "      <td>2022-05-13 6:59</td>\n",
       "    </tr>\n",
       "    <tr>\n",
       "      <th>246</th>\n",
       "      <td>4960</td>\n",
       "      <td>한신공영</td>\n",
       "      <td>KOSPI</td>\n",
       "      <td>건설</td>\n",
       "      <td>1799</td>\n",
       "      <td>3.75</td>\n",
       "      <td>2254</td>\n",
       "      <td>7.55</td>\n",
       "      <td>0.27</td>\n",
       "      <td>58000</td>\n",
       "      <td>...</td>\n",
       "      <td>5</td>\n",
       "      <td>15800</td>\n",
       "      <td>16050</td>\n",
       "      <td>15550</td>\n",
       "      <td>15550</td>\n",
       "      <td>200</td>\n",
       "      <td>67490</td>\n",
       "      <td>27500</td>\n",
       "      <td>2021-05-10</td>\n",
       "      <td>2022-05-13 6:39</td>\n",
       "    </tr>\n",
       "    <tr>\n",
       "      <th>247</th>\n",
       "      <td>4970</td>\n",
       "      <td>신라교역</td>\n",
       "      <td>KOSPI</td>\n",
       "      <td>식품</td>\n",
       "      <td>2016</td>\n",
       "      <td>4.82</td>\n",
       "      <td>556</td>\n",
       "      <td>8.32</td>\n",
       "      <td>0.38</td>\n",
       "      <td>35004</td>\n",
       "      <td>...</td>\n",
       "      <td>5</td>\n",
       "      <td>12500</td>\n",
       "      <td>12600</td>\n",
       "      <td>12400</td>\n",
       "      <td>12600</td>\n",
       "      <td>50</td>\n",
       "      <td>8071</td>\n",
       "      <td>15450</td>\n",
       "      <td>2021-06-11</td>\n",
       "      <td>2022-05-13 6:39</td>\n",
       "    </tr>\n",
       "    <tr>\n",
       "      <th>248</th>\n",
       "      <td>4980</td>\n",
       "      <td>성신양회</td>\n",
       "      <td>KOSPI</td>\n",
       "      <td>건축자재</td>\n",
       "      <td>2917</td>\n",
       "      <td>64.89</td>\n",
       "      <td>619</td>\n",
       "      <td>1.57</td>\n",
       "      <td>0.99</td>\n",
       "      <td>16637</td>\n",
       "      <td>...</td>\n",
       "      <td>4</td>\n",
       "      <td>12050</td>\n",
       "      <td>12300</td>\n",
       "      <td>11800</td>\n",
       "      <td>11900</td>\n",
       "      <td>250</td>\n",
       "      <td>256562</td>\n",
       "      <td>20200</td>\n",
       "      <td>2021-12-20</td>\n",
       "      <td>2022-05-13 7:16</td>\n",
       "    </tr>\n",
       "    <tr>\n",
       "      <th>249</th>\n",
       "      <td>4985</td>\n",
       "      <td>성신양회우</td>\n",
       "      <td>KOSPI</td>\n",
       "      <td>건축자재</td>\n",
       "      <td>127</td>\n",
       "      <td>64.89</td>\n",
       "      <td>619</td>\n",
       "      <td>1.57</td>\n",
       "      <td>0.99</td>\n",
       "      <td>16637</td>\n",
       "      <td>...</td>\n",
       "      <td>4</td>\n",
       "      <td>17050</td>\n",
       "      <td>17650</td>\n",
       "      <td>17050</td>\n",
       "      <td>17300</td>\n",
       "      <td>50</td>\n",
       "      <td>25062</td>\n",
       "      <td>27000</td>\n",
       "      <td>2020-07-28</td>\n",
       "      <td>2022-05-13 7:00</td>\n",
       "    </tr>\n",
       "  </tbody>\n",
       "</table>\n",
       "<p>250 rows × 28 columns</p>\n",
       "</div>"
      ],
      "text/plain": [
       "       ID   Name Market      Category  Capital    PER   EPS    ROE   PBR  \\\n",
       "0      20   동화약품  KOSPI            제약     3282  22.82   204   5.27  1.16   \n",
       "1      40  KR모터스  KOSPI           자동차      761  -8.77   -48 -25.82  2.25   \n",
       "2      50     경방  KOSPI  섬유,의류,신발,호화품     4208  16.92   155   2.98  0.46   \n",
       "3      60  메리츠화재  KOSPI          손해보험    44269   6.13  1605  26.08  1.52   \n",
       "4      70  삼양홀딩스  KOSPI            식품     6988   3.66  1645  14.53  0.43   \n",
       "..    ...    ...    ...           ...      ...    ...   ...    ...   ...   \n",
       "245  4920  씨아이테크  KOSPI      컴퓨터와주변기기      429  -8.51   119 -15.91  1.27   \n",
       "246  4960   한신공영  KOSPI            건설     1799   3.75  2254   7.55  0.27   \n",
       "247  4970   신라교역  KOSPI            식품     2016   4.82   556   8.32  0.38   \n",
       "248  4980   성신양회  KOSPI          건축자재     2917  64.89   619   1.57  0.99   \n",
       "249  4985  성신양회우  KOSPI          건축자재      127  64.89   619   1.57  0.99   \n",
       "\n",
       "        BPS  ...  Retention_Continuous   Open   High    Low  Close  DaytoDay  \\\n",
       "0     12534  ...                     5  11400  11750  11400  11750       300   \n",
       "1       385  ...                     1    786    804    786    792         8   \n",
       "2     30043  ...                     5  15100  15350  14900  15350       200   \n",
       "3     22115  ...                     4  37250  37350  34650  36700       350   \n",
       "4    226314  ...                     1  81800  82300  81000  81600       500   \n",
       "..      ...  ...                   ...    ...    ...    ...    ...       ...   \n",
       "245    1202  ...                     2   1070   1115   1065   1075         5   \n",
       "246   58000  ...                     5  15800  16050  15550  15550       200   \n",
       "247   35004  ...                     5  12500  12600  12400  12600        50   \n",
       "248   16637  ...                     4  12050  12300  11800  11900       250   \n",
       "249   16637  ...                     4  17050  17650  17050  17300        50   \n",
       "\n",
       "     Volume  Highest_Price  Highest_Date      update_date  \n",
       "0     67692          21550    2020-08-11  2022-05-13 7:04  \n",
       "1     80163           1450    2019-07-05  2022-05-13 6:31  \n",
       "2      8396          17750    2022-04-26  2022-05-13 6:48  \n",
       "3    545472          53500    2022-01-21  2022-05-13 7:05  \n",
       "4      9234         134000    2021-04-22  2022-05-13 6:48  \n",
       "..      ...            ...           ...              ...  \n",
       "245  272694           2035    2021-04-27  2022-05-13 6:59  \n",
       "246   67490          27500    2021-05-10  2022-05-13 6:39  \n",
       "247    8071          15450    2021-06-11  2022-05-13 6:39  \n",
       "248  256562          20200    2021-12-20  2022-05-13 7:16  \n",
       "249   25062          27000    2020-07-28  2022-05-13 7:00  \n",
       "\n",
       "[250 rows x 28 columns]"
      ]
     },
     "execution_count": 65,
     "metadata": {},
     "output_type": "execute_result"
    }
   ],
   "source": [
    "df_hw = pd.read_csv('./stock_market.csv')\n",
    "df_hw"
   ]
  },
  {
   "cell_type": "code",
   "execution_count": 67,
   "id": "3f7ec8a7",
   "metadata": {},
   "outputs": [
    {
     "data": {
      "text/plain": [
       "<AxesSubplot:>"
      ]
     },
     "execution_count": 67,
     "metadata": {},
     "output_type": "execute_result"
    },
    {
     "data": {
      "image/png": "[encoded data removed]",
      "text/plain": [
       "<Figure size 432x288 with 1 Axes>"
      ]
     },
     "metadata": {
      "needs_background": "light"
     },
     "output_type": "display_data"
    }
   ],
   "source": [
    "df_hw.boxplot(column=['Dividend'])"
   ]
  },
  {
   "cell_type": "code",
   "execution_count": 71,
   "id": "6dd56689",
   "metadata": {},
   "outputs": [
    {
     "name": "stdout",
     "output_type": "stream",
     "text": [
      "Dividend    1.01\n",
      "Name: 0.25, dtype: float64\n",
      "Dividend    3.46\n",
      "Name: 0.75, dtype: float64\n"
     ]
    }
   ],
   "source": [
    "Q1 = df_hw[['Dividend']].quantile(q=0.25)\n",
    "Q3 = df_hw[['Dividend']].quantile(q=0.75)\n",
    "print(Q1)\n",
    "print(Q3)"
   ]
  },
  {
   "cell_type": "code",
   "execution_count": 72,
   "id": "cf3474ec",
   "metadata": {},
   "outputs": [
    {
     "data": {
      "text/plain": [
       "Dividend    2.45\n",
       "dtype: float64"
      ]
     },
     "execution_count": 72,
     "metadata": {},
     "output_type": "execute_result"
    }
   ],
   "source": [
    "IQR = Q3-Q1\n",
    "IQR"
   ]
  },
  {
   "cell_type": "code",
   "execution_count": 73,
   "id": "f4da6509",
   "metadata": {},
   "outputs": [
    {
     "name": "stdout",
     "output_type": "stream",
     "text": [
      "IQR_df : 180\n"
     ]
    }
   ],
   "source": [
    "IQR_df = df_hw[(df_hw['Dividend'] <= Q3['Dividend']+1.5*IQR['Dividend']) & (df_hw['Dividend'] >= Q1['Dividend']-1.5*IQR['Dividend'])]\n",
    "IQR_df = IQR_df[['Dividend']]\n",
    "\n",
    "print('IQR_df :', len(IQR_df))"
   ]
  },
  {
   "cell_type": "code",
   "execution_count": 74,
   "id": "c380be29",
   "metadata": {},
   "outputs": [
    {
     "data": {
      "text/plain": [
       "<AxesSubplot:>"
      ]
     },
     "execution_count": 74,
     "metadata": {},
     "output_type": "execute_result"
    },
    {
     "data": {
      "image/png": "[encoded data removed]",
      "text/plain": [
       "<Figure size 432x288 with 1 Axes>"
      ]
     },
     "metadata": {
      "needs_background": "light"
     },
     "output_type": "display_data"
    }
   ],
   "source": [
    "IQR_df.boxplot()"
   ]
  },
  {
   "cell_type": "markdown",
   "id": "b79f54d7",
   "metadata": {},
   "source": [
    "#### 0822 [과제] 표본 분산과 불편 분산의 차이를 사례를 들어 설명하세요."
   ]
  },
  {
   "cell_type": "markdown",
   "id": "6be69a13",
   "metadata": {},
   "source": [
    "실제 모분산은 알 수가 없는 경우가 많기 때문에 통계학에서는 표본분산을 많이 사용합니다.\n",
    "\n",
    "- '불편성'이란 '편하지 않다(不便, incovenience)'라는 뜻이 아니고 '한쪽으로 편중되어 있지 않다(不偏, unbiasedness)'의 뜻으로 \n",
    "추정량(여기서는 표본분산)의 기대값이 모수(여기서는 모분산)이어야 한다는 성질인데,\n",
    "\n",
    "\n",
    "- 만약 n-1대신 n으로 나누게 되면 이런 불편추정량으로서의 성질이 없게됨\n",
    "\n",
    "즉, 표본분산은 모분산의 추정량(estimator)인데, 좋은 추정량으로서 가져야 할 성질 중의 하나가, 불편성(unbiasedness)이고 \n",
    "표본분산이 불편추정량되기 위해서는  n-1로 나눠 줘야 하는 겁니다.\n",
    "요약하면, 표본분산에서 n-1로 나누어주는 이유는 n 보다 추정량의 성질이 좋기 때문입니다."
   ]
  },
  {
   "cell_type": "code",
   "execution_count": 103,
   "id": "72b02d07",
   "metadata": {},
   "outputs": [
    {
     "name": "stdout",
     "output_type": "stream",
     "text": [
      "표본분산 : 1090.7604000000001\n",
      "불편분산 : 1091.7604000000001\n",
      "np 분산 : 1091.7604000000001\n"
     ]
    }
   ],
   "source": [
    "vals = np.random.randint(100,size=50)\n",
    "mean = sum(vals) / len(vals)\n",
    "\n",
    "# 표본분산\n",
    "vsum = 0\n",
    "for val in vals:\n",
    "    vsum = vsum + (val - mean)**2\n",
    "variance = vsum / len(vals)-1\n",
    "print(f'표본분산 : {variance}')\n",
    "\n",
    "# 불편분산\n",
    "vsum1 = 0\n",
    "for val in vals:\n",
    "    vsum1 = vsum1 + (val - mean)**2\n",
    "variance1 = vsum1 / len(vals)\n",
    "print(f'불편분산 : {variance1}')\n",
    "\n",
    "print(f'np 분산 : {np.var(vals)}')"
   ]
  },
  {
   "cell_type": "code",
   "execution_count": null,
   "id": "0210f89c",
   "metadata": {},
   "outputs": [],
   "source": []
  },
  {
   "cell_type": "code",
   "execution_count": null,
   "id": "e8394b75",
   "metadata": {},
   "outputs": [],
   "source": []
  }
 ],
 "metadata": {
  "kernelspec": {
   "display_name": "Python 3 (ipykernel)",
   "language": "python",
   "name": "python3"
  },
  "language_info": {
   "codemirror_mode": {
    "name": "ipython",
    "version": 3
   },
   "file_extension": ".py",
   "mimetype": "text/x-python",
   "name": "python",
   "nbconvert_exporter": "python",
   "pygments_lexer": "ipython3",
   "version": "3.8.13"
  },
  "toc": {
   "base_numbering": 1,
   "nav_menu": {},
   "number_sections": true,
   "sideBar": true,
   "skip_h1_title": false,
   "title_cell": "Table of Contents",
   "title_sidebar": "Contents",
   "toc_cell": false,
   "toc_position": {},
   "toc_section_display": true,
   "toc_window_display": true
  }
 },
 "nbformat": 4,
 "nbformat_minor": 5
}
