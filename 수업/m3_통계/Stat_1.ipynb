{
 "cells": [
  {
   "cell_type": "code",
   "execution_count": 1,
   "id": "2e84cdec",
   "metadata": {},
   "outputs": [],
   "source": [
    "import pandas as pd\n",
    "import numpy as np\n",
    "import matplotlib as mpl\n",
    "import matplotlib.pyplot as plt\n",
    "\n",
    "%precision 3\n",
    "%matplotlib inline"
   ]
  },
  {
   "cell_type": "markdown",
   "id": "71d665cb",
   "metadata": {},
   "source": [
    "## 1차원 데이터\n",
    "- 평균값(기댓값), 표본분산, 불편분산(ddof=1), 표준편차\n",
    "- 표본분산은 표본의 평균을 사용해서 분산을 계산한 값으로 분산을 과소 추정하는 경향이 있으며 그 경향을 없애기 위한 것이 불편분산임. 표본분산 보다 조금 큰 값이 된다.\n",
    "- 표준화 : 평균값이 큰 변수와 작은 변수가 섞여 있으면 다루기 어려우므로 표준화로 데이터를 비교하기 쉽게 한다.\n",
    "- 최댓값, 최솟값, 중앙값, 사분위수\n",
    "- 표본분산과 비편향 분산\n",
    "    - 분산은 표본 분산과 불편분산(unbiased variance)의 두 종류가 존재\n",
    "    - 표본 분산은 표본에서 계산된 분산이며 모집단에 비해 표본수가 적을 때는 표본 분산이 모분산보다 작아진다.\n",
    "    - 즉 표본 분산이 모집단 분산에 맞춰서 동일하게 보정한 것을 비편향 분산이라 한다.\n",
    "    - 통계학에서는 이 비편향분산ㅇ르 사용하는 경우가 많다.\n",
    "    - 불편분산은 n대신 n-1로 나누어 구할 수 있다.\n",
    "    \n",
    "[표분분산이 분산을 과소 평가하는 이유]\n",
    "\n",
    "- 호수안에 물고기가 7마리가 있다. 몸길이 {1,2,3,4,5,6,7}, 모평균 4, 샘플링1 3마리{1,2,3} 표본평균 2, 샘플링2 {5,6,7} 표본평균 6\n",
    "- 이때 분산은 모평균을 모르기 때문에 표본평균과의 거리를 계산하며 분산을 과소평가 하게된다.\n",
    "- 표본 분산 보다 조금 더 큰 값이 되도록 보정하기 위하여 N대신 N-1로 나누어 불편분산을 구할 수 있다."
   ]
  },
  {
   "cell_type": "code",
   "execution_count": 2,
   "id": "8d38b695",
   "metadata": {},
   "outputs": [
    {
     "data": {
      "text/html": [
       "<div>\n",
       "<style scoped>\n",
       "    .dataframe tbody tr th:only-of-type {\n",
       "        vertical-align: middle;\n",
       "    }\n",
       "\n",
       "    .dataframe tbody tr th {\n",
       "        vertical-align: top;\n",
       "    }\n",
       "\n",
       "    .dataframe thead th {\n",
       "        text-align: right;\n",
       "    }\n",
       "</style>\n",
       "<table border=\"1\" class=\"dataframe\">\n",
       "  <thead>\n",
       "    <tr style=\"text-align: right;\">\n",
       "      <th></th>\n",
       "      <th>english</th>\n",
       "      <th>mathematics</th>\n",
       "    </tr>\n",
       "    <tr>\n",
       "      <th>student number</th>\n",
       "      <th></th>\n",
       "      <th></th>\n",
       "    </tr>\n",
       "  </thead>\n",
       "  <tbody>\n",
       "    <tr>\n",
       "      <th>1</th>\n",
       "      <td>42</td>\n",
       "      <td>65</td>\n",
       "    </tr>\n",
       "    <tr>\n",
       "      <th>2</th>\n",
       "      <td>69</td>\n",
       "      <td>80</td>\n",
       "    </tr>\n",
       "    <tr>\n",
       "      <th>3</th>\n",
       "      <td>56</td>\n",
       "      <td>63</td>\n",
       "    </tr>\n",
       "    <tr>\n",
       "      <th>4</th>\n",
       "      <td>41</td>\n",
       "      <td>63</td>\n",
       "    </tr>\n",
       "    <tr>\n",
       "      <th>5</th>\n",
       "      <td>57</td>\n",
       "      <td>76</td>\n",
       "    </tr>\n",
       "  </tbody>\n",
       "</table>\n",
       "</div>"
      ],
      "text/plain": [
       "                english  mathematics\n",
       "student number                      \n",
       "1                    42           65\n",
       "2                    69           80\n",
       "3                    56           63\n",
       "4                    41           63\n",
       "5                    57           76"
      ]
     },
     "execution_count": 2,
     "metadata": {},
     "output_type": "execute_result"
    }
   ],
   "source": [
    "df = pd.read_csv('./ch2_scores_em.csv',index_col='student number')\n",
    "df.head()"
   ]
  },
  {
   "cell_type": "code",
   "execution_count": 3,
   "id": "b8b3c023",
   "metadata": {},
   "outputs": [
    {
     "data": {
      "text/plain": [
       "(50, 2)"
      ]
     },
     "execution_count": 3,
     "metadata": {},
     "output_type": "execute_result"
    }
   ],
   "source": [
    "df.shape"
   ]
  },
  {
   "cell_type": "code",
   "execution_count": 4,
   "id": "74364e67",
   "metadata": {},
   "outputs": [
    {
     "data": {
      "text/plain": [
       "array([42, 69, 56, 41, 57, 48, 65, 49, 65, 58], dtype=int64)"
      ]
     },
     "execution_count": 4,
     "metadata": {},
     "output_type": "execute_result"
    }
   ],
   "source": [
    "scores = np.array(df['english'])[:10]\n",
    "scores"
   ]
  },
  {
   "cell_type": "code",
   "execution_count": 5,
   "id": "d52d7e25",
   "metadata": {},
   "outputs": [
    {
     "data": {
      "text/html": [
       "<div>\n",
       "<style scoped>\n",
       "    .dataframe tbody tr th:only-of-type {\n",
       "        vertical-align: middle;\n",
       "    }\n",
       "\n",
       "    .dataframe tbody tr th {\n",
       "        vertical-align: top;\n",
       "    }\n",
       "\n",
       "    .dataframe thead th {\n",
       "        text-align: right;\n",
       "    }\n",
       "</style>\n",
       "<table border=\"1\" class=\"dataframe\">\n",
       "  <thead>\n",
       "    <tr style=\"text-align: right;\">\n",
       "      <th></th>\n",
       "      <th>score</th>\n",
       "    </tr>\n",
       "    <tr>\n",
       "      <th>student</th>\n",
       "      <th></th>\n",
       "    </tr>\n",
       "  </thead>\n",
       "  <tbody>\n",
       "    <tr>\n",
       "      <th>A</th>\n",
       "      <td>42</td>\n",
       "    </tr>\n",
       "    <tr>\n",
       "      <th>B</th>\n",
       "      <td>69</td>\n",
       "    </tr>\n",
       "    <tr>\n",
       "      <th>C</th>\n",
       "      <td>56</td>\n",
       "    </tr>\n",
       "    <tr>\n",
       "      <th>D</th>\n",
       "      <td>41</td>\n",
       "    </tr>\n",
       "    <tr>\n",
       "      <th>E</th>\n",
       "      <td>57</td>\n",
       "    </tr>\n",
       "    <tr>\n",
       "      <th>F</th>\n",
       "      <td>48</td>\n",
       "    </tr>\n",
       "    <tr>\n",
       "      <th>G</th>\n",
       "      <td>65</td>\n",
       "    </tr>\n",
       "    <tr>\n",
       "      <th>H</th>\n",
       "      <td>49</td>\n",
       "    </tr>\n",
       "    <tr>\n",
       "      <th>I</th>\n",
       "      <td>65</td>\n",
       "    </tr>\n",
       "    <tr>\n",
       "      <th>J</th>\n",
       "      <td>58</td>\n",
       "    </tr>\n",
       "  </tbody>\n",
       "</table>\n",
       "</div>"
      ],
      "text/plain": [
       "         score\n",
       "student       \n",
       "A           42\n",
       "B           69\n",
       "C           56\n",
       "D           41\n",
       "E           57\n",
       "F           48\n",
       "G           65\n",
       "H           49\n",
       "I           65\n",
       "J           58"
      ]
     },
     "execution_count": 5,
     "metadata": {},
     "output_type": "execute_result"
    }
   ],
   "source": [
    "scores_df = pd.DataFrame({'score':scores},index=pd.Index(['A','B','C','D','E','F','G','H','I','J'],name='student'))\n",
    "scores_df"
   ]
  },
  {
   "cell_type": "markdown",
   "id": "54b5a716",
   "metadata": {},
   "source": [
    "## 1차원 데이터 정리"
   ]
  },
  {
   "cell_type": "markdown",
   "id": "834bf8e8",
   "metadata": {},
   "source": [
    "### 데이터 중심의 지표"
   ]
  },
  {
   "cell_type": "markdown",
   "id": "de1430ce",
   "metadata": {},
   "source": [
    "#### 평균값"
   ]
  },
  {
   "cell_type": "code",
   "execution_count": 6,
   "id": "e66d26f9",
   "metadata": {},
   "outputs": [
    {
     "data": {
      "text/plain": [
       "55.000"
      ]
     },
     "execution_count": 6,
     "metadata": {},
     "output_type": "execute_result"
    }
   ],
   "source": [
    "sum(scores)/len(scores)"
   ]
  },
  {
   "cell_type": "code",
   "execution_count": 7,
   "id": "1979b16a",
   "metadata": {},
   "outputs": [
    {
     "data": {
      "text/plain": [
       "55.000"
      ]
     },
     "execution_count": 7,
     "metadata": {},
     "output_type": "execute_result"
    }
   ],
   "source": [
    "np.mean(scores)"
   ]
  },
  {
   "cell_type": "code",
   "execution_count": 8,
   "id": "332b0598",
   "metadata": {},
   "outputs": [
    {
     "data": {
      "text/plain": [
       "score    55.0\n",
       "dtype: float64"
      ]
     },
     "execution_count": 8,
     "metadata": {},
     "output_type": "execute_result"
    }
   ],
   "source": [
    "scores_df.mean()"
   ]
  },
  {
   "cell_type": "markdown",
   "id": "d4a5c1ea",
   "metadata": {},
   "source": [
    "#### 중앙값"
   ]
  },
  {
   "cell_type": "code",
   "execution_count": 9,
   "id": "59a6eda2",
   "metadata": {},
   "outputs": [
    {
     "data": {
      "text/plain": [
       "array([41, 42, 48, 49, 56, 57, 58, 65, 65, 69], dtype=int64)"
      ]
     },
     "execution_count": 9,
     "metadata": {},
     "output_type": "execute_result"
    }
   ],
   "source": [
    "sorted_scores = np.sort(scores)\n",
    "sorted_scores"
   ]
  },
  {
   "cell_type": "code",
   "execution_count": 10,
   "id": "aca13c6a",
   "metadata": {},
   "outputs": [
    {
     "data": {
      "text/plain": [
       "56.500"
      ]
     },
     "execution_count": 10,
     "metadata": {},
     "output_type": "execute_result"
    }
   ],
   "source": [
    "n = len(sorted_scores)\n",
    "if n % 2 ==0:\n",
    "    m0 = sorted_scores[n//2-1]\n",
    "    m1 = sorted_scores[n//2]\n",
    "    median = (m0+m1)/2\n",
    "else:\n",
    "    median = sorted_scores[(n+1)//2-1]\n",
    "median"
   ]
  },
  {
   "cell_type": "code",
   "execution_count": 11,
   "id": "98c14735",
   "metadata": {},
   "outputs": [
    {
     "data": {
      "text/plain": [
       "56.500"
      ]
     },
     "execution_count": 11,
     "metadata": {},
     "output_type": "execute_result"
    }
   ],
   "source": [
    "np.median(scores)"
   ]
  },
  {
   "cell_type": "code",
   "execution_count": 12,
   "id": "f24f2192",
   "metadata": {},
   "outputs": [
    {
     "data": {
      "text/plain": [
       "score    56.5\n",
       "dtype: float64"
      ]
     },
     "execution_count": 12,
     "metadata": {},
     "output_type": "execute_result"
    }
   ],
   "source": [
    "scores_df.median()"
   ]
  },
  {
   "cell_type": "markdown",
   "id": "002d86f8",
   "metadata": {},
   "source": [
    "#### 최빈값"
   ]
  },
  {
   "cell_type": "code",
   "execution_count": 13,
   "id": "95e5222e",
   "metadata": {},
   "outputs": [
    {
     "data": {
      "text/plain": [
       "0    1\n",
       "dtype: int64"
      ]
     },
     "execution_count": 13,
     "metadata": {},
     "output_type": "execute_result"
    }
   ],
   "source": [
    "pd.Series([1,1,1,2,2,3]).mode()"
   ]
  },
  {
   "cell_type": "code",
   "execution_count": 14,
   "id": "e103ef2c",
   "metadata": {},
   "outputs": [
    {
     "data": {
      "text/plain": [
       "0    1\n",
       "1    2\n",
       "2    3\n",
       "3    4\n",
       "4    5\n",
       "dtype: int64"
      ]
     },
     "execution_count": 14,
     "metadata": {},
     "output_type": "execute_result"
    }
   ],
   "source": [
    "pd.Series([1,2,3,4,5]).mode()"
   ]
  },
  {
   "cell_type": "markdown",
   "id": "73a39535",
   "metadata": {},
   "source": [
    "### 데이터의 산포도 지표"
   ]
  },
  {
   "cell_type": "markdown",
   "id": "3a427a8b",
   "metadata": {},
   "source": [
    "#### 분산과 표준편차"
   ]
  },
  {
   "cell_type": "code",
   "execution_count": 15,
   "id": "52d0e7a3",
   "metadata": {},
   "outputs": [
    {
     "data": {
      "text/plain": [
       "array([-13.,  14.,   1., -14.,   2.,  -7.,  10.,  -6.,  10.,   3.])"
      ]
     },
     "execution_count": 15,
     "metadata": {},
     "output_type": "execute_result"
    }
   ],
   "source": [
    "mean = np.mean(scores)\n",
    "deviation = scores-mean\n",
    "deviation"
   ]
  },
  {
   "cell_type": "code",
   "execution_count": 16,
   "id": "e80c76b5",
   "metadata": {},
   "outputs": [
    {
     "data": {
      "text/plain": [
       "array([-5.,  5.,  3., -1., -4.,  1.,  2., -2., -3.,  4.])"
      ]
     },
     "execution_count": 16,
     "metadata": {},
     "output_type": "execute_result"
    }
   ],
   "source": [
    "another_scores = [50,60,58,54,51,56,57,53,52,59]\n",
    "another_mean = np.mean(another_scores)\n",
    "another_deviation = another_scores - another_mean\n",
    "another_deviation"
   ]
  },
  {
   "cell_type": "code",
   "execution_count": 17,
   "id": "885e17ec",
   "metadata": {},
   "outputs": [
    {
     "data": {
      "text/plain": [
       "0.000"
      ]
     },
     "execution_count": 17,
     "metadata": {},
     "output_type": "execute_result"
    }
   ],
   "source": [
    "np.mean(deviation)"
   ]
  },
  {
   "cell_type": "code",
   "execution_count": 18,
   "id": "d6535968",
   "metadata": {},
   "outputs": [
    {
     "data": {
      "text/plain": [
       "0.000"
      ]
     },
     "execution_count": 18,
     "metadata": {},
     "output_type": "execute_result"
    }
   ],
   "source": [
    "np.mean(another_deviation)"
   ]
  },
  {
   "cell_type": "code",
   "execution_count": 19,
   "id": "003d1696",
   "metadata": {},
   "outputs": [
    {
     "data": {
      "text/html": [
       "<div>\n",
       "<style scoped>\n",
       "    .dataframe tbody tr th:only-of-type {\n",
       "        vertical-align: middle;\n",
       "    }\n",
       "\n",
       "    .dataframe tbody tr th {\n",
       "        vertical-align: top;\n",
       "    }\n",
       "\n",
       "    .dataframe thead th {\n",
       "        text-align: right;\n",
       "    }\n",
       "</style>\n",
       "<table border=\"1\" class=\"dataframe\">\n",
       "  <thead>\n",
       "    <tr style=\"text-align: right;\">\n",
       "      <th></th>\n",
       "      <th>score</th>\n",
       "      <th>deviation</th>\n",
       "    </tr>\n",
       "    <tr>\n",
       "      <th>student</th>\n",
       "      <th></th>\n",
       "      <th></th>\n",
       "    </tr>\n",
       "  </thead>\n",
       "  <tbody>\n",
       "    <tr>\n",
       "      <th>A</th>\n",
       "      <td>42</td>\n",
       "      <td>-13.0</td>\n",
       "    </tr>\n",
       "    <tr>\n",
       "      <th>B</th>\n",
       "      <td>69</td>\n",
       "      <td>14.0</td>\n",
       "    </tr>\n",
       "    <tr>\n",
       "      <th>C</th>\n",
       "      <td>56</td>\n",
       "      <td>1.0</td>\n",
       "    </tr>\n",
       "    <tr>\n",
       "      <th>D</th>\n",
       "      <td>41</td>\n",
       "      <td>-14.0</td>\n",
       "    </tr>\n",
       "    <tr>\n",
       "      <th>E</th>\n",
       "      <td>57</td>\n",
       "      <td>2.0</td>\n",
       "    </tr>\n",
       "    <tr>\n",
       "      <th>F</th>\n",
       "      <td>48</td>\n",
       "      <td>-7.0</td>\n",
       "    </tr>\n",
       "    <tr>\n",
       "      <th>G</th>\n",
       "      <td>65</td>\n",
       "      <td>10.0</td>\n",
       "    </tr>\n",
       "    <tr>\n",
       "      <th>H</th>\n",
       "      <td>49</td>\n",
       "      <td>-6.0</td>\n",
       "    </tr>\n",
       "    <tr>\n",
       "      <th>I</th>\n",
       "      <td>65</td>\n",
       "      <td>10.0</td>\n",
       "    </tr>\n",
       "    <tr>\n",
       "      <th>J</th>\n",
       "      <td>58</td>\n",
       "      <td>3.0</td>\n",
       "    </tr>\n",
       "  </tbody>\n",
       "</table>\n",
       "</div>"
      ],
      "text/plain": [
       "         score  deviation\n",
       "student                  \n",
       "A           42      -13.0\n",
       "B           69       14.0\n",
       "C           56        1.0\n",
       "D           41      -14.0\n",
       "E           57        2.0\n",
       "F           48       -7.0\n",
       "G           65       10.0\n",
       "H           49       -6.0\n",
       "I           65       10.0\n",
       "J           58        3.0"
      ]
     },
     "execution_count": 19,
     "metadata": {},
     "output_type": "execute_result"
    }
   ],
   "source": [
    "summary_df = scores_df.copy()\n",
    "summary_df['deviation'] = deviation\n",
    "summary_df"
   ]
  },
  {
   "cell_type": "code",
   "execution_count": 20,
   "id": "8a5bf4fe",
   "metadata": {},
   "outputs": [
    {
     "data": {
      "text/plain": [
       "score        55.0\n",
       "deviation     0.0\n",
       "dtype: float64"
      ]
     },
     "execution_count": 20,
     "metadata": {},
     "output_type": "execute_result"
    }
   ],
   "source": [
    "summary_df.mean()"
   ]
  },
  {
   "cell_type": "code",
   "execution_count": 21,
   "id": "545d1b7f",
   "metadata": {},
   "outputs": [
    {
     "data": {
      "text/plain": [
       "86.000"
      ]
     },
     "execution_count": 21,
     "metadata": {},
     "output_type": "execute_result"
    }
   ],
   "source": [
    "np.mean(deviation ** 2)"
   ]
  },
  {
   "cell_type": "code",
   "execution_count": 22,
   "id": "4eeb707a",
   "metadata": {},
   "outputs": [
    {
     "data": {
      "text/plain": [
       "86.000"
      ]
     },
     "execution_count": 22,
     "metadata": {},
     "output_type": "execute_result"
    }
   ],
   "source": [
    "np.var(scores)"
   ]
  },
  {
   "cell_type": "code",
   "execution_count": 23,
   "id": "507ec19d",
   "metadata": {},
   "outputs": [
    {
     "data": {
      "text/plain": [
       "score    95.555556\n",
       "dtype: float64"
      ]
     },
     "execution_count": 23,
     "metadata": {},
     "output_type": "execute_result"
    }
   ],
   "source": [
    "scores_df.var()"
   ]
  },
  {
   "cell_type": "code",
   "execution_count": 24,
   "id": "ccd94d5a",
   "metadata": {},
   "outputs": [
    {
     "data": {
      "text/html": [
       "<div>\n",
       "<style scoped>\n",
       "    .dataframe tbody tr th:only-of-type {\n",
       "        vertical-align: middle;\n",
       "    }\n",
       "\n",
       "    .dataframe tbody tr th {\n",
       "        vertical-align: top;\n",
       "    }\n",
       "\n",
       "    .dataframe thead th {\n",
       "        text-align: right;\n",
       "    }\n",
       "</style>\n",
       "<table border=\"1\" class=\"dataframe\">\n",
       "  <thead>\n",
       "    <tr style=\"text-align: right;\">\n",
       "      <th></th>\n",
       "      <th>score</th>\n",
       "      <th>deviation</th>\n",
       "      <th>square of deviation</th>\n",
       "    </tr>\n",
       "    <tr>\n",
       "      <th>student</th>\n",
       "      <th></th>\n",
       "      <th></th>\n",
       "      <th></th>\n",
       "    </tr>\n",
       "  </thead>\n",
       "  <tbody>\n",
       "    <tr>\n",
       "      <th>A</th>\n",
       "      <td>42</td>\n",
       "      <td>-13.0</td>\n",
       "      <td>169.0</td>\n",
       "    </tr>\n",
       "    <tr>\n",
       "      <th>B</th>\n",
       "      <td>69</td>\n",
       "      <td>14.0</td>\n",
       "      <td>196.0</td>\n",
       "    </tr>\n",
       "    <tr>\n",
       "      <th>C</th>\n",
       "      <td>56</td>\n",
       "      <td>1.0</td>\n",
       "      <td>1.0</td>\n",
       "    </tr>\n",
       "    <tr>\n",
       "      <th>D</th>\n",
       "      <td>41</td>\n",
       "      <td>-14.0</td>\n",
       "      <td>196.0</td>\n",
       "    </tr>\n",
       "    <tr>\n",
       "      <th>E</th>\n",
       "      <td>57</td>\n",
       "      <td>2.0</td>\n",
       "      <td>4.0</td>\n",
       "    </tr>\n",
       "    <tr>\n",
       "      <th>F</th>\n",
       "      <td>48</td>\n",
       "      <td>-7.0</td>\n",
       "      <td>49.0</td>\n",
       "    </tr>\n",
       "    <tr>\n",
       "      <th>G</th>\n",
       "      <td>65</td>\n",
       "      <td>10.0</td>\n",
       "      <td>100.0</td>\n",
       "    </tr>\n",
       "    <tr>\n",
       "      <th>H</th>\n",
       "      <td>49</td>\n",
       "      <td>-6.0</td>\n",
       "      <td>36.0</td>\n",
       "    </tr>\n",
       "    <tr>\n",
       "      <th>I</th>\n",
       "      <td>65</td>\n",
       "      <td>10.0</td>\n",
       "      <td>100.0</td>\n",
       "    </tr>\n",
       "    <tr>\n",
       "      <th>J</th>\n",
       "      <td>58</td>\n",
       "      <td>3.0</td>\n",
       "      <td>9.0</td>\n",
       "    </tr>\n",
       "  </tbody>\n",
       "</table>\n",
       "</div>"
      ],
      "text/plain": [
       "         score  deviation  square of deviation\n",
       "student                                       \n",
       "A           42      -13.0                169.0\n",
       "B           69       14.0                196.0\n",
       "C           56        1.0                  1.0\n",
       "D           41      -14.0                196.0\n",
       "E           57        2.0                  4.0\n",
       "F           48       -7.0                 49.0\n",
       "G           65       10.0                100.0\n",
       "H           49       -6.0                 36.0\n",
       "I           65       10.0                100.0\n",
       "J           58        3.0                  9.0"
      ]
     },
     "execution_count": 24,
     "metadata": {},
     "output_type": "execute_result"
    }
   ],
   "source": [
    "summary_df['square of deviation'] = np.square(deviation)\n",
    "summary_df"
   ]
  },
  {
   "cell_type": "code",
   "execution_count": 25,
   "id": "03267c0e",
   "metadata": {},
   "outputs": [
    {
     "data": {
      "text/plain": [
       "score                  55.0\n",
       "deviation               0.0\n",
       "square of deviation    86.0\n",
       "dtype: float64"
      ]
     },
     "execution_count": 25,
     "metadata": {},
     "output_type": "execute_result"
    }
   ],
   "source": [
    "summary_df.mean()"
   ]
  },
  {
   "cell_type": "code",
   "execution_count": 26,
   "id": "1a164d85",
   "metadata": {},
   "outputs": [
    {
     "data": {
      "text/plain": [
       "9.274"
      ]
     },
     "execution_count": 26,
     "metadata": {},
     "output_type": "execute_result"
    }
   ],
   "source": [
    "np.sqrt(np.var(scores,ddof=0))"
   ]
  },
  {
   "cell_type": "code",
   "execution_count": 27,
   "id": "88ec120e",
   "metadata": {},
   "outputs": [
    {
     "data": {
      "text/plain": [
       "9.274"
      ]
     },
     "execution_count": 27,
     "metadata": {},
     "output_type": "execute_result"
    }
   ],
   "source": [
    "np.std(scores,ddof=0)"
   ]
  },
  {
   "cell_type": "markdown",
   "id": "2ccffc42",
   "metadata": {},
   "source": [
    "#### 범위와 사분위 범위"
   ]
  },
  {
   "cell_type": "code",
   "execution_count": 28,
   "id": "a5f2f9a3",
   "metadata": {},
   "outputs": [
    {
     "data": {
      "text/plain": [
       "28"
      ]
     },
     "execution_count": 28,
     "metadata": {},
     "output_type": "execute_result"
    }
   ],
   "source": [
    "np.max(scores) - np.min(scores)"
   ]
  },
  {
   "cell_type": "code",
   "execution_count": 29,
   "id": "c06d26b7",
   "metadata": {},
   "outputs": [
    {
     "data": {
      "text/plain": [
       "15.000"
      ]
     },
     "execution_count": 29,
     "metadata": {},
     "output_type": "execute_result"
    }
   ],
   "source": [
    "scores_Q1 = np.percentile(scores,25)\n",
    "scores_Q3 = np.percentile(scores,75)\n",
    "scores_IQR = scores_Q3 - scores_Q1\n",
    "scores_IQR"
   ]
  },
  {
   "cell_type": "markdown",
   "id": "22d68579",
   "metadata": {},
   "source": [
    "#### 데이터의 지표 정리"
   ]
  },
  {
   "cell_type": "code",
   "execution_count": 32,
   "id": "736746fb",
   "metadata": {},
   "outputs": [
    {
     "data": {
      "text/plain": [
       "count    10.000000\n",
       "mean     55.000000\n",
       "std       9.775252\n",
       "min      41.000000\n",
       "25%      48.250000\n",
       "50%      56.500000\n",
       "75%      63.250000\n",
       "max      69.000000\n",
       "dtype: float64"
      ]
     },
     "execution_count": 32,
     "metadata": {},
     "output_type": "execute_result"
    }
   ],
   "source": [
    "pd.Series(scores).describe()"
   ]
  },
  {
   "cell_type": "markdown",
   "id": "2cda2cf9",
   "metadata": {},
   "source": [
    "#### 0822 [과제] 교재 ~p.51 코드 문제 풀기"
   ]
  },
  {
   "cell_type": "markdown",
   "id": "52f62802",
   "metadata": {},
   "source": [
    "#### 0822 [과제] 20개 원소로 구성되는 배열을 만든 후, 평균, 편차 및 편차의 합을 구하세요."
   ]
  },
  {
   "cell_type": "code",
   "execution_count": 40,
   "id": "a0d84c6b",
   "metadata": {},
   "outputs": [
    {
     "data": {
      "text/plain": [
       "array([ 4, 42, 32, 53, 80, 26, 25, 37, 85, 69, 25, 19, 52, 79, 65, 79, 41,\n",
       "        5,  7, 97])"
      ]
     },
     "execution_count": 40,
     "metadata": {},
     "output_type": "execute_result"
    }
   ],
   "source": [
    "import random\n",
    "arr1 = np.random.randint(100,size=20)\n",
    "arr1"
   ]
  },
  {
   "cell_type": "code",
   "execution_count": 41,
   "id": "d2c16ec9",
   "metadata": {},
   "outputs": [
    {
     "data": {
      "text/plain": [
       "46.100"
      ]
     },
     "execution_count": 41,
     "metadata": {},
     "output_type": "execute_result"
    }
   ],
   "source": [
    "arr1.mean()"
   ]
  },
  {
   "cell_type": "code",
   "execution_count": 77,
   "id": "1ff665e1",
   "metadata": {},
   "outputs": [
    {
     "data": {
      "text/plain": [
       "array([-42.1,  -4.1, -14.1,   6.9,  33.9, -20.1, -21.1,  -9.1,  38.9,\n",
       "        22.9, -21.1, -27.1,   5.9,  32.9,  18.9,  32.9,  -5.1, -41.1,\n",
       "       -39.1,  50.9])"
      ]
     },
     "execution_count": 77,
     "metadata": {},
     "output_type": "execute_result"
    }
   ],
   "source": [
    "deviation = arr1 - arr1.mean()\n",
    "deviation"
   ]
  },
  {
   "cell_type": "code",
   "execution_count": 48,
   "id": "8078f63c",
   "metadata": {},
   "outputs": [
    {
     "data": {
      "text/plain": [
       "0.000"
      ]
     },
     "execution_count": 48,
     "metadata": {},
     "output_type": "execute_result"
    }
   ],
   "source": [
    "deviation.sum()"
   ]
  },
  {
   "cell_type": "markdown",
   "id": "4a11758c",
   "metadata": {},
   "source": [
    "#### 0822 [과제] 중앙값 > 평균값 인 경우와 중앙값 < 평균값인 두가지 집합에서 나타나는 가능성 있는 특징을 사례로 설명하세요."
   ]
  },
  {
   "cell_type": "code",
   "execution_count": 58,
   "id": "d04613a7",
   "metadata": {},
   "outputs": [
    {
     "name": "stdout",
     "output_type": "stream",
     "text": [
      "평균값 : 164.66666666666666\n",
      "중앙값 : 165.5\n"
     ]
    }
   ],
   "source": [
    "# 중앙값(median) > 평균값(mean)\n",
    "# 160~170 사이 비슷한 키를 가진 사람들\n",
    "arr2 = [168,165,166,162,160,167]\n",
    "arr2_mean = np.mean(arr2)\n",
    "arr2_median = np.median(arr2)\n",
    "print(f'평균값 : {arr2_mean}')\n",
    "print(f'중앙값 : {arr2_median}')"
   ]
  },
  {
   "cell_type": "code",
   "execution_count": 57,
   "id": "e54f2917",
   "metadata": {},
   "outputs": [
    {
     "name": "stdout",
     "output_type": "stream",
     "text": [
      "평균값 : 339.1666666666667\n",
      "중앙값 : 277.5\n"
     ]
    }
   ],
   "source": [
    "# 중앙값(median) < 평균값(mean)\n",
    "# 월급받는 개발자 5명과, 프리랜서(비교적 고연봉) 1명\n",
    "arr3 = [250,300,255,210,320,700]\n",
    "arr3_mean = np.mean(arr3)\n",
    "arr3_median = np.median(arr3)\n",
    "print(f'평균값 : {arr3_mean}')\n",
    "print(f'중앙값 : {arr3_median}')"
   ]
  },
  {
   "cell_type": "markdown",
   "id": "37fb355c",
   "metadata": {},
   "source": [
    "#### 0822 [과제]  4분위를 이용하여 이상치를 구하는 사례를 생성하고 시각화 및 이상치 산출하는 과정을 설명하세요."
   ]
  },
  {
   "cell_type": "code",
   "execution_count": 65,
   "id": "09958983",
   "metadata": {},
   "outputs": [
    {
     "data": {
      "text/html": [
       "<div>\n",
       "<style scoped>\n",
       "    .dataframe tbody tr th:only-of-type {\n",
       "        vertical-align: middle;\n",
       "    }\n",
       "\n",
       "    .dataframe tbody tr th {\n",
       "        vertical-align: top;\n",
       "    }\n",
       "\n",
       "    .dataframe thead th {\n",
       "        text-align: right;\n",
       "    }\n",
       "</style>\n",
       "<table border=\"1\" class=\"dataframe\">\n",
       "  <thead>\n",
       "    <tr style=\"text-align: right;\">\n",
       "      <th></th>\n",
       "      <th>ID</th>\n",
       "      <th>Name</th>\n",
       "      <th>Market</th>\n",
       "      <th>Category</th>\n",
       "      <th>Capital</th>\n",
       "      <th>PER</th>\n",
       "      <th>EPS</th>\n",
       "      <th>ROE</th>\n",
       "      <th>PBR</th>\n",
       "      <th>BPS</th>\n",
       "      <th>...</th>\n",
       "      <th>Retention_Continuous</th>\n",
       "      <th>Open</th>\n",
       "      <th>High</th>\n",
       "      <th>Low</th>\n",
       "      <th>Close</th>\n",
       "      <th>DaytoDay</th>\n",
       "      <th>Volume</th>\n",
       "      <th>Highest_Price</th>\n",
       "      <th>Highest_Date</th>\n",
       "      <th>update_date</th>\n",
       "    </tr>\n",
       "  </thead>\n",
       "  <tbody>\n",
       "    <tr>\n",
       "      <th>0</th>\n",
       "      <td>20</td>\n",
       "      <td>동화약품</td>\n",
       "      <td>KOSPI</td>\n",
       "      <td>제약</td>\n",
       "      <td>3282</td>\n",
       "      <td>22.82</td>\n",
       "      <td>204</td>\n",
       "      <td>5.27</td>\n",
       "      <td>1.16</td>\n",
       "      <td>12534</td>\n",
       "      <td>...</td>\n",
       "      <td>5</td>\n",
       "      <td>11400</td>\n",
       "      <td>11750</td>\n",
       "      <td>11400</td>\n",
       "      <td>11750</td>\n",
       "      <td>300</td>\n",
       "      <td>67692</td>\n",
       "      <td>21550</td>\n",
       "      <td>2020-08-11</td>\n",
       "      <td>2022-05-13 7:04</td>\n",
       "    </tr>\n",
       "    <tr>\n",
       "      <th>1</th>\n",
       "      <td>40</td>\n",
       "      <td>KR모터스</td>\n",
       "      <td>KOSPI</td>\n",
       "      <td>자동차</td>\n",
       "      <td>761</td>\n",
       "      <td>-8.77</td>\n",
       "      <td>-48</td>\n",
       "      <td>-25.82</td>\n",
       "      <td>2.25</td>\n",
       "      <td>385</td>\n",
       "      <td>...</td>\n",
       "      <td>1</td>\n",
       "      <td>786</td>\n",
       "      <td>804</td>\n",
       "      <td>786</td>\n",
       "      <td>792</td>\n",
       "      <td>8</td>\n",
       "      <td>80163</td>\n",
       "      <td>1450</td>\n",
       "      <td>2019-07-05</td>\n",
       "      <td>2022-05-13 6:31</td>\n",
       "    </tr>\n",
       "    <tr>\n",
       "      <th>2</th>\n",
       "      <td>50</td>\n",
       "      <td>경방</td>\n",
       "      <td>KOSPI</td>\n",
       "      <td>섬유,의류,신발,호화품</td>\n",
       "      <td>4208</td>\n",
       "      <td>16.92</td>\n",
       "      <td>155</td>\n",
       "      <td>2.98</td>\n",
       "      <td>0.46</td>\n",
       "      <td>30043</td>\n",
       "      <td>...</td>\n",
       "      <td>5</td>\n",
       "      <td>15100</td>\n",
       "      <td>15350</td>\n",
       "      <td>14900</td>\n",
       "      <td>15350</td>\n",
       "      <td>200</td>\n",
       "      <td>8396</td>\n",
       "      <td>17750</td>\n",
       "      <td>2022-04-26</td>\n",
       "      <td>2022-05-13 6:48</td>\n",
       "    </tr>\n",
       "    <tr>\n",
       "      <th>3</th>\n",
       "      <td>60</td>\n",
       "      <td>메리츠화재</td>\n",
       "      <td>KOSPI</td>\n",
       "      <td>손해보험</td>\n",
       "      <td>44269</td>\n",
       "      <td>6.13</td>\n",
       "      <td>1605</td>\n",
       "      <td>26.08</td>\n",
       "      <td>1.52</td>\n",
       "      <td>22115</td>\n",
       "      <td>...</td>\n",
       "      <td>4</td>\n",
       "      <td>37250</td>\n",
       "      <td>37350</td>\n",
       "      <td>34650</td>\n",
       "      <td>36700</td>\n",
       "      <td>350</td>\n",
       "      <td>545472</td>\n",
       "      <td>53500</td>\n",
       "      <td>2022-01-21</td>\n",
       "      <td>2022-05-13 7:05</td>\n",
       "    </tr>\n",
       "    <tr>\n",
       "      <th>4</th>\n",
       "      <td>70</td>\n",
       "      <td>삼양홀딩스</td>\n",
       "      <td>KOSPI</td>\n",
       "      <td>식품</td>\n",
       "      <td>6988</td>\n",
       "      <td>3.66</td>\n",
       "      <td>1645</td>\n",
       "      <td>14.53</td>\n",
       "      <td>0.43</td>\n",
       "      <td>226314</td>\n",
       "      <td>...</td>\n",
       "      <td>1</td>\n",
       "      <td>81800</td>\n",
       "      <td>82300</td>\n",
       "      <td>81000</td>\n",
       "      <td>81600</td>\n",
       "      <td>500</td>\n",
       "      <td>9234</td>\n",
       "      <td>134000</td>\n",
       "      <td>2021-04-22</td>\n",
       "      <td>2022-05-13 6:48</td>\n",
       "    </tr>\n",
       "    <tr>\n",
       "      <th>...</th>\n",
       "      <td>...</td>\n",
       "      <td>...</td>\n",
       "      <td>...</td>\n",
       "      <td>...</td>\n",
       "      <td>...</td>\n",
       "      <td>...</td>\n",
       "      <td>...</td>\n",
       "      <td>...</td>\n",
       "      <td>...</td>\n",
       "      <td>...</td>\n",
       "      <td>...</td>\n",
       "      <td>...</td>\n",
       "      <td>...</td>\n",
       "      <td>...</td>\n",
       "      <td>...</td>\n",
       "      <td>...</td>\n",
       "      <td>...</td>\n",
       "      <td>...</td>\n",
       "      <td>...</td>\n",
       "      <td>...</td>\n",
       "      <td>...</td>\n",
       "    </tr>\n",
       "    <tr>\n",
       "      <th>245</th>\n",
       "      <td>4920</td>\n",
       "      <td>씨아이테크</td>\n",
       "      <td>KOSPI</td>\n",
       "      <td>컴퓨터와주변기기</td>\n",
       "      <td>429</td>\n",
       "      <td>-8.51</td>\n",
       "      <td>119</td>\n",
       "      <td>-15.91</td>\n",
       "      <td>1.27</td>\n",
       "      <td>1202</td>\n",
       "      <td>...</td>\n",
       "      <td>2</td>\n",
       "      <td>1070</td>\n",
       "      <td>1115</td>\n",
       "      <td>1065</td>\n",
       "      <td>1075</td>\n",
       "      <td>5</td>\n",
       "      <td>272694</td>\n",
       "      <td>2035</td>\n",
       "      <td>2021-04-27</td>\n",
       "      <td>2022-05-13 6:59</td>\n",
       "    </tr>\n",
       "    <tr>\n",
       "      <th>246</th>\n",
       "      <td>4960</td>\n",
       "      <td>한신공영</td>\n",
       "      <td>KOSPI</td>\n",
       "      <td>건설</td>\n",
       "      <td>1799</td>\n",
       "      <td>3.75</td>\n",
       "      <td>2254</td>\n",
       "      <td>7.55</td>\n",
       "      <td>0.27</td>\n",
       "      <td>58000</td>\n",
       "      <td>...</td>\n",
       "      <td>5</td>\n",
       "      <td>15800</td>\n",
       "      <td>16050</td>\n",
       "      <td>15550</td>\n",
       "      <td>15550</td>\n",
       "      <td>200</td>\n",
       "      <td>67490</td>\n",
       "      <td>27500</td>\n",
       "      <td>2021-05-10</td>\n",
       "      <td>2022-05-13 6:39</td>\n",
       "    </tr>\n",
       "    <tr>\n",
       "      <th>247</th>\n",
       "      <td>4970</td>\n",
       "      <td>신라교역</td>\n",
       "      <td>KOSPI</td>\n",
       "      <td>식품</td>\n",
       "      <td>2016</td>\n",
       "      <td>4.82</td>\n",
       "      <td>556</td>\n",
       "      <td>8.32</td>\n",
       "      <td>0.38</td>\n",
       "      <td>35004</td>\n",
       "      <td>...</td>\n",
       "      <td>5</td>\n",
       "      <td>12500</td>\n",
       "      <td>12600</td>\n",
       "      <td>12400</td>\n",
       "      <td>12600</td>\n",
       "      <td>50</td>\n",
       "      <td>8071</td>\n",
       "      <td>15450</td>\n",
       "      <td>2021-06-11</td>\n",
       "      <td>2022-05-13 6:39</td>\n",
       "    </tr>\n",
       "    <tr>\n",
       "      <th>248</th>\n",
       "      <td>4980</td>\n",
       "      <td>성신양회</td>\n",
       "      <td>KOSPI</td>\n",
       "      <td>건축자재</td>\n",
       "      <td>2917</td>\n",
       "      <td>64.89</td>\n",
       "      <td>619</td>\n",
       "      <td>1.57</td>\n",
       "      <td>0.99</td>\n",
       "      <td>16637</td>\n",
       "      <td>...</td>\n",
       "      <td>4</td>\n",
       "      <td>12050</td>\n",
       "      <td>12300</td>\n",
       "      <td>11800</td>\n",
       "      <td>11900</td>\n",
       "      <td>250</td>\n",
       "      <td>256562</td>\n",
       "      <td>20200</td>\n",
       "      <td>2021-12-20</td>\n",
       "      <td>2022-05-13 7:16</td>\n",
       "    </tr>\n",
       "    <tr>\n",
       "      <th>249</th>\n",
       "      <td>4985</td>\n",
       "      <td>성신양회우</td>\n",
       "      <td>KOSPI</td>\n",
       "      <td>건축자재</td>\n",
       "      <td>127</td>\n",
       "      <td>64.89</td>\n",
       "      <td>619</td>\n",
       "      <td>1.57</td>\n",
       "      <td>0.99</td>\n",
       "      <td>16637</td>\n",
       "      <td>...</td>\n",
       "      <td>4</td>\n",
       "      <td>17050</td>\n",
       "      <td>17650</td>\n",
       "      <td>17050</td>\n",
       "      <td>17300</td>\n",
       "      <td>50</td>\n",
       "      <td>25062</td>\n",
       "      <td>27000</td>\n",
       "      <td>2020-07-28</td>\n",
       "      <td>2022-05-13 7:00</td>\n",
       "    </tr>\n",
       "  </tbody>\n",
       "</table>\n",
       "<p>250 rows × 28 columns</p>\n",
       "</div>"
      ],
      "text/plain": [
       "       ID   Name Market      Category  Capital    PER   EPS    ROE   PBR  \\\n",
       "0      20   동화약품  KOSPI            제약     3282  22.82   204   5.27  1.16   \n",
       "1      40  KR모터스  KOSPI           자동차      761  -8.77   -48 -25.82  2.25   \n",
       "2      50     경방  KOSPI  섬유,의류,신발,호화품     4208  16.92   155   2.98  0.46   \n",
       "3      60  메리츠화재  KOSPI          손해보험    44269   6.13  1605  26.08  1.52   \n",
       "4      70  삼양홀딩스  KOSPI            식품     6988   3.66  1645  14.53  0.43   \n",
       "..    ...    ...    ...           ...      ...    ...   ...    ...   ...   \n",
       "245  4920  씨아이테크  KOSPI      컴퓨터와주변기기      429  -8.51   119 -15.91  1.27   \n",
       "246  4960   한신공영  KOSPI            건설     1799   3.75  2254   7.55  0.27   \n",
       "247  4970   신라교역  KOSPI            식품     2016   4.82   556   8.32  0.38   \n",
       "248  4980   성신양회  KOSPI          건축자재     2917  64.89   619   1.57  0.99   \n",
       "249  4985  성신양회우  KOSPI          건축자재      127  64.89   619   1.57  0.99   \n",
       "\n",
       "        BPS  ...  Retention_Continuous   Open   High    Low  Close  DaytoDay  \\\n",
       "0     12534  ...                     5  11400  11750  11400  11750       300   \n",
       "1       385  ...                     1    786    804    786    792         8   \n",
       "2     30043  ...                     5  15100  15350  14900  15350       200   \n",
       "3     22115  ...                     4  37250  37350  34650  36700       350   \n",
       "4    226314  ...                     1  81800  82300  81000  81600       500   \n",
       "..      ...  ...                   ...    ...    ...    ...    ...       ...   \n",
       "245    1202  ...                     2   1070   1115   1065   1075         5   \n",
       "246   58000  ...                     5  15800  16050  15550  15550       200   \n",
       "247   35004  ...                     5  12500  12600  12400  12600        50   \n",
       "248   16637  ...                     4  12050  12300  11800  11900       250   \n",
       "249   16637  ...                     4  17050  17650  17050  17300        50   \n",
       "\n",
       "     Volume  Highest_Price  Highest_Date      update_date  \n",
       "0     67692          21550    2020-08-11  2022-05-13 7:04  \n",
       "1     80163           1450    2019-07-05  2022-05-13 6:31  \n",
       "2      8396          17750    2022-04-26  2022-05-13 6:48  \n",
       "3    545472          53500    2022-01-21  2022-05-13 7:05  \n",
       "4      9234         134000    2021-04-22  2022-05-13 6:48  \n",
       "..      ...            ...           ...              ...  \n",
       "245  272694           2035    2021-04-27  2022-05-13 6:59  \n",
       "246   67490          27500    2021-05-10  2022-05-13 6:39  \n",
       "247    8071          15450    2021-06-11  2022-05-13 6:39  \n",
       "248  256562          20200    2021-12-20  2022-05-13 7:16  \n",
       "249   25062          27000    2020-07-28  2022-05-13 7:00  \n",
       "\n",
       "[250 rows x 28 columns]"
      ]
     },
     "execution_count": 65,
     "metadata": {},
     "output_type": "execute_result"
    }
   ],
   "source": [
    "df_hw = pd.read_csv('./stock_market.csv')\n",
    "df_hw"
   ]
  },
  {
   "cell_type": "code",
   "execution_count": 67,
   "id": "3f7ec8a7",
   "metadata": {},
   "outputs": [
    {
     "data": {
      "text/plain": [
       "<AxesSubplot:>"
      ]
     },
     "execution_count": 67,
     "metadata": {},
     "output_type": "execute_result"
    },
    {
     "data": {
      "image/png": "[encoded data removed]",
      "text/plain": [
       "<Figure size 432x288 with 1 Axes>"
      ]
     },
     "metadata": {
      "needs_background": "light"
     },
     "output_type": "display_data"
    }
   ],
   "source": [
    "df_hw.boxplot(column=['Dividend'])"
   ]
  },
  {
   "cell_type": "code",
   "execution_count": 71,
   "id": "6dd56689",
   "metadata": {},
   "outputs": [
    {
     "name": "stdout",
     "output_type": "stream",
     "text": [
      "Dividend    1.01\n",
      "Name: 0.25, dtype: float64\n",
      "Dividend    3.46\n",
      "Name: 0.75, dtype: float64\n"
     ]
    }
   ],
   "source": [
    "Q1 = df_hw[['Dividend']].quantile(q=0.25)\n",
    "Q3 = df_hw[['Dividend']].quantile(q=0.75)\n",
    "print(Q1)\n",
    "print(Q3)"
   ]
  },
  {
   "cell_type": "code",
   "execution_count": 72,
   "id": "cf3474ec",
   "metadata": {},
   "outputs": [
    {
     "data": {
      "text/plain": [
       "Dividend    2.45\n",
       "dtype: float64"
      ]
     },
     "execution_count": 72,
     "metadata": {},
     "output_type": "execute_result"
    }
   ],
   "source": [
    "IQR = Q3-Q1\n",
    "IQR"
   ]
  },
  {
   "cell_type": "code",
   "execution_count": 73,
   "id": "f4da6509",
   "metadata": {},
   "outputs": [
    {
     "name": "stdout",
     "output_type": "stream",
     "text": [
      "IQR_df : 180\n"
     ]
    }
   ],
   "source": [
    "IQR_df = df_hw[(df_hw['Dividend'] <= Q3['Dividend']+1.5*IQR['Dividend']) & (df_hw['Dividend'] >= Q1['Dividend']-1.5*IQR['Dividend'])]\n",
    "IQR_df = IQR_df[['Dividend']]\n",
    "\n",
    "print('IQR_df :', len(IQR_df))"
   ]
  },
  {
   "cell_type": "code",
   "execution_count": 74,
   "id": "c380be29",
   "metadata": {},
   "outputs": [
    {
     "data": {
      "text/plain": [
       "<AxesSubplot:>"
      ]
     },
     "execution_count": 74,
     "metadata": {},
     "output_type": "execute_result"
    },
    {
     "data": {
      "image/png": "[encoded data removed]",
      "text/plain": [
       "<Figure size 432x288 with 1 Axes>"
      ]
     },
     "metadata": {
      "needs_background": "light"
     },
     "output_type": "display_data"
    }
   ],
   "source": [
    "IQR_df.boxplot()"
   ]
  },
  {
   "cell_type": "markdown",
   "id": "b79f54d7",
   "metadata": {},
   "source": [
    "#### 0822 [과제] 표본 분산과 불편 분산의 차이를 사례를 들어 설명하세요."
   ]
  },
  {
   "cell_type": "markdown",
   "id": "6be69a13",
   "metadata": {},
   "source": [
    "실제 모분산은 알 수가 없는 경우가 많기 때문에 통계학에서는 표본분산을 많이 사용합니다.\n",
    "\n",
    "- '불편성'이란 '편하지 않다(不便, incovenience)'라는 뜻이 아니고 '한쪽으로 편중되어 있지 않다(不偏, unbiasedness)'의 뜻으로 \n",
    "추정량(여기서는 표본분산)의 기대값이 모수(여기서는 모분산)이어야 한다는 성질인데,\n",
    "\n",
    "\n",
    "- 만약 n-1대신 n으로 나누게 되면 이런 불편추정량으로서의 성질이 없게됨\n",
    "\n",
    "즉, 표본분산은 모분산의 추정량(estimator)인데, 좋은 추정량으로서 가져야 할 성질 중의 하나가, 불편성(unbiasedness)이고 \n",
    "표본분산이 불편추정량되기 위해서는  n-1로 나눠 줘야 하는 겁니다.\n",
    "요약하면, 표본분산에서 n-1로 나누어주는 이유는 n 보다 추정량의 성질이 좋기 때문입니다."
   ]
  },
  {
   "cell_type": "code",
   "execution_count": 103,
   "id": "72b02d07",
   "metadata": {},
   "outputs": [
    {
     "name": "stdout",
     "output_type": "stream",
     "text": [
      "표본분산 : 1090.7604000000001\n",
      "불편분산 : 1091.7604000000001\n",
      "np 분산 : 1091.7604000000001\n"
     ]
    }
   ],
   "source": [
    "vals = np.random.randint(100,size=50)\n",
    "mean = sum(vals) / len(vals)\n",
    "\n",
    "# 표본분산\n",
    "vsum = 0\n",
    "for val in vals:\n",
    "    vsum = vsum + (val - mean)**2\n",
    "variance = vsum / len(vals)-1\n",
    "print(f'표본분산 : {variance}')\n",
    "\n",
    "# 불편분산\n",
    "vsum1 = 0\n",
    "for val in vals:\n",
    "    vsum1 = vsum1 + (val - mean)**2\n",
    "variance1 = vsum1 / len(vals)\n",
    "print(f'불편분산 : {variance1}')\n",
    "\n",
    "print(f'np 분산 : {np.var(vals)}')"
   ]
  },
  {
   "cell_type": "markdown",
   "id": "6ca74eda",
   "metadata": {},
   "source": [
    "08-23 진도"
   ]
  },
  {
   "cell_type": "code",
   "execution_count": 3,
   "id": "0210f89c",
   "metadata": {},
   "outputs": [
    {
     "data": {
      "text/html": [
       "<div>\n",
       "<style scoped>\n",
       "    .dataframe tbody tr th:only-of-type {\n",
       "        vertical-align: middle;\n",
       "    }\n",
       "\n",
       "    .dataframe tbody tr th {\n",
       "        vertical-align: top;\n",
       "    }\n",
       "\n",
       "    .dataframe thead th {\n",
       "        text-align: right;\n",
       "    }\n",
       "</style>\n",
       "<table border=\"1\" class=\"dataframe\">\n",
       "  <thead>\n",
       "    <tr style=\"text-align: right;\">\n",
       "      <th></th>\n",
       "      <th>student number</th>\n",
       "      <th>english</th>\n",
       "      <th>mathematics</th>\n",
       "    </tr>\n",
       "  </thead>\n",
       "  <tbody>\n",
       "    <tr>\n",
       "      <th>0</th>\n",
       "      <td>1</td>\n",
       "      <td>42</td>\n",
       "      <td>65</td>\n",
       "    </tr>\n",
       "    <tr>\n",
       "      <th>1</th>\n",
       "      <td>2</td>\n",
       "      <td>69</td>\n",
       "      <td>80</td>\n",
       "    </tr>\n",
       "    <tr>\n",
       "      <th>2</th>\n",
       "      <td>3</td>\n",
       "      <td>56</td>\n",
       "      <td>63</td>\n",
       "    </tr>\n",
       "    <tr>\n",
       "      <th>3</th>\n",
       "      <td>4</td>\n",
       "      <td>41</td>\n",
       "      <td>63</td>\n",
       "    </tr>\n",
       "    <tr>\n",
       "      <th>4</th>\n",
       "      <td>5</td>\n",
       "      <td>57</td>\n",
       "      <td>76</td>\n",
       "    </tr>\n",
       "  </tbody>\n",
       "</table>\n",
       "</div>"
      ],
      "text/plain": [
       "   student number  english  mathematics\n",
       "0               1       42           65\n",
       "1               2       69           80\n",
       "2               3       56           63\n",
       "3               4       41           63\n",
       "4               5       57           76"
      ]
     },
     "execution_count": 3,
     "metadata": {},
     "output_type": "execute_result"
    }
   ],
   "source": [
    "import pandas as pd\n",
    "import numpy as np\n",
    "\n",
    "df = pd.read_csv('./ch2_scores_em.csv')\n",
    "df.head()"
   ]
  },
  {
   "cell_type": "code",
   "execution_count": 4,
   "id": "e8394b75",
   "metadata": {},
   "outputs": [],
   "source": [
    "scores = np.array(df['english'])[:10]"
   ]
  },
  {
   "cell_type": "code",
   "execution_count": 5,
   "id": "d746393f",
   "metadata": {},
   "outputs": [
    {
     "data": {
      "text/html": [
       "<div>\n",
       "<style scoped>\n",
       "    .dataframe tbody tr th:only-of-type {\n",
       "        vertical-align: middle;\n",
       "    }\n",
       "\n",
       "    .dataframe tbody tr th {\n",
       "        vertical-align: top;\n",
       "    }\n",
       "\n",
       "    .dataframe thead th {\n",
       "        text-align: right;\n",
       "    }\n",
       "</style>\n",
       "<table border=\"1\" class=\"dataframe\">\n",
       "  <thead>\n",
       "    <tr style=\"text-align: right;\">\n",
       "      <th></th>\n",
       "      <th>score</th>\n",
       "    </tr>\n",
       "    <tr>\n",
       "      <th>student</th>\n",
       "      <th></th>\n",
       "    </tr>\n",
       "  </thead>\n",
       "  <tbody>\n",
       "    <tr>\n",
       "      <th>A</th>\n",
       "      <td>42</td>\n",
       "    </tr>\n",
       "    <tr>\n",
       "      <th>B</th>\n",
       "      <td>69</td>\n",
       "    </tr>\n",
       "    <tr>\n",
       "      <th>C</th>\n",
       "      <td>56</td>\n",
       "    </tr>\n",
       "    <tr>\n",
       "      <th>D</th>\n",
       "      <td>41</td>\n",
       "    </tr>\n",
       "    <tr>\n",
       "      <th>E</th>\n",
       "      <td>57</td>\n",
       "    </tr>\n",
       "    <tr>\n",
       "      <th>F</th>\n",
       "      <td>48</td>\n",
       "    </tr>\n",
       "    <tr>\n",
       "      <th>G</th>\n",
       "      <td>65</td>\n",
       "    </tr>\n",
       "    <tr>\n",
       "      <th>H</th>\n",
       "      <td>49</td>\n",
       "    </tr>\n",
       "    <tr>\n",
       "      <th>I</th>\n",
       "      <td>65</td>\n",
       "    </tr>\n",
       "    <tr>\n",
       "      <th>J</th>\n",
       "      <td>58</td>\n",
       "    </tr>\n",
       "  </tbody>\n",
       "</table>\n",
       "</div>"
      ],
      "text/plain": [
       "         score\n",
       "student       \n",
       "A           42\n",
       "B           69\n",
       "C           56\n",
       "D           41\n",
       "E           57\n",
       "F           48\n",
       "G           65\n",
       "H           49\n",
       "I           65\n",
       "J           58"
      ]
     },
     "execution_count": 5,
     "metadata": {},
     "output_type": "execute_result"
    }
   ],
   "source": [
    "scores_df = pd.DataFrame({'score':scores},index=pd.Index(['A','B','C','D','E','F','G','H','I','J'],name='student'))\n",
    "scores_df"
   ]
  },
  {
   "cell_type": "code",
   "execution_count": 7,
   "id": "ea7d4f4a",
   "metadata": {},
   "outputs": [
    {
     "data": {
      "text/plain": [
       "array([-1.40182605,  1.50965882,  0.10783277, -1.50965882,  0.21566555,\n",
       "       -0.75482941,  1.07832773, -0.64699664,  1.07832773,  0.32349832])"
      ]
     },
     "execution_count": 7,
     "metadata": {},
     "output_type": "execute_result"
    }
   ],
   "source": [
    "z = (scores - np.mean(scores)) / np.std(scores)\n",
    "z"
   ]
  },
  {
   "cell_type": "code",
   "execution_count": 9,
   "id": "f055d6df",
   "metadata": {},
   "outputs": [
    {
     "data": {
      "text/html": [
       "<div>\n",
       "<style scoped>\n",
       "    .dataframe tbody tr th:only-of-type {\n",
       "        vertical-align: middle;\n",
       "    }\n",
       "\n",
       "    .dataframe tbody tr th {\n",
       "        vertical-align: top;\n",
       "    }\n",
       "\n",
       "    .dataframe thead th {\n",
       "        text-align: right;\n",
       "    }\n",
       "</style>\n",
       "<table border=\"1\" class=\"dataframe\">\n",
       "  <thead>\n",
       "    <tr style=\"text-align: right;\">\n",
       "      <th></th>\n",
       "      <th>score</th>\n",
       "      <th>deviation_value</th>\n",
       "    </tr>\n",
       "    <tr>\n",
       "      <th>student</th>\n",
       "      <th></th>\n",
       "      <th></th>\n",
       "    </tr>\n",
       "  </thead>\n",
       "  <tbody>\n",
       "    <tr>\n",
       "      <th>A</th>\n",
       "      <td>42</td>\n",
       "      <td>35.981739</td>\n",
       "    </tr>\n",
       "    <tr>\n",
       "      <th>B</th>\n",
       "      <td>69</td>\n",
       "      <td>65.096588</td>\n",
       "    </tr>\n",
       "    <tr>\n",
       "      <th>C</th>\n",
       "      <td>56</td>\n",
       "      <td>51.078328</td>\n",
       "    </tr>\n",
       "    <tr>\n",
       "      <th>D</th>\n",
       "      <td>41</td>\n",
       "      <td>34.903412</td>\n",
       "    </tr>\n",
       "    <tr>\n",
       "      <th>E</th>\n",
       "      <td>57</td>\n",
       "      <td>52.156655</td>\n",
       "    </tr>\n",
       "    <tr>\n",
       "      <th>F</th>\n",
       "      <td>48</td>\n",
       "      <td>42.451706</td>\n",
       "    </tr>\n",
       "    <tr>\n",
       "      <th>G</th>\n",
       "      <td>65</td>\n",
       "      <td>60.783277</td>\n",
       "    </tr>\n",
       "    <tr>\n",
       "      <th>H</th>\n",
       "      <td>49</td>\n",
       "      <td>43.530034</td>\n",
       "    </tr>\n",
       "    <tr>\n",
       "      <th>I</th>\n",
       "      <td>65</td>\n",
       "      <td>60.783277</td>\n",
       "    </tr>\n",
       "    <tr>\n",
       "      <th>J</th>\n",
       "      <td>58</td>\n",
       "      <td>53.234983</td>\n",
       "    </tr>\n",
       "  </tbody>\n",
       "</table>\n",
       "</div>"
      ],
      "text/plain": [
       "         score  deviation_value\n",
       "student                        \n",
       "A           42        35.981739\n",
       "B           69        65.096588\n",
       "C           56        51.078328\n",
       "D           41        34.903412\n",
       "E           57        52.156655\n",
       "F           48        42.451706\n",
       "G           65        60.783277\n",
       "H           49        43.530034\n",
       "I           65        60.783277\n",
       "J           58        53.234983"
      ]
     },
     "execution_count": 9,
     "metadata": {},
     "output_type": "execute_result"
    }
   ],
   "source": [
    "# 편차값은 평균이 50, 표준편차가 10이 되도록 정규화한 값이다.\n",
    "z = 50 + 10 * (scores - np.mean(scores)) / np.std(scores)\n",
    "scores_df['deviation_value'] = z\n",
    "scores_df"
   ]
  },
  {
   "cell_type": "markdown",
   "id": "a9d142da",
   "metadata": {},
   "source": [
    "### 데이터의 정규화"
   ]
  },
  {
   "cell_type": "markdown",
   "id": "fb37eda5",
   "metadata": {},
   "source": [
    "#### 표준화"
   ]
  },
  {
   "cell_type": "code",
   "execution_count": 12,
   "id": "db6acf60",
   "metadata": {},
   "outputs": [
    {
     "data": {
      "text/plain": [
       "array([-1.402,  1.51 ,  0.108, -1.51 ,  0.216, -0.755,  1.078, -0.647,\n",
       "        1.078,  0.323])"
      ]
     },
     "execution_count": 12,
     "metadata": {},
     "output_type": "execute_result"
    }
   ],
   "source": [
    "z = (scores - np.mean(scores)) / np.std(scores)\n",
    "z"
   ]
  },
  {
   "cell_type": "code",
   "execution_count": 13,
   "id": "566e6fef",
   "metadata": {},
   "outputs": [
    {
     "data": {
      "text/plain": [
       "(-0.000, 1.000)"
      ]
     },
     "execution_count": 13,
     "metadata": {},
     "output_type": "execute_result"
    }
   ],
   "source": [
    "np.mean(z),np.std(z,ddof=0)"
   ]
  },
  {
   "cell_type": "markdown",
   "id": "08de782d",
   "metadata": {},
   "source": [
    "#### 편찻값"
   ]
  },
  {
   "cell_type": "code",
   "execution_count": 15,
   "id": "d17d042b",
   "metadata": {},
   "outputs": [
    {
     "data": {
      "text/plain": [
       "array([35.982, 65.097, 51.078, 34.903, 52.157, 42.452, 60.783, 43.53 ,\n",
       "       60.783, 53.235])"
      ]
     },
     "execution_count": 15,
     "metadata": {},
     "output_type": "execute_result"
    }
   ],
   "source": [
    "z = 50 + 10 * (scores - np.mean(scores)) / np.std(scores)\n",
    "z"
   ]
  },
  {
   "cell_type": "code",
   "execution_count": 16,
   "id": "5fbba5b0",
   "metadata": {},
   "outputs": [
    {
     "data": {
      "text/html": [
       "<div>\n",
       "<style scoped>\n",
       "    .dataframe tbody tr th:only-of-type {\n",
       "        vertical-align: middle;\n",
       "    }\n",
       "\n",
       "    .dataframe tbody tr th {\n",
       "        vertical-align: top;\n",
       "    }\n",
       "\n",
       "    .dataframe thead th {\n",
       "        text-align: right;\n",
       "    }\n",
       "</style>\n",
       "<table border=\"1\" class=\"dataframe\">\n",
       "  <thead>\n",
       "    <tr style=\"text-align: right;\">\n",
       "      <th></th>\n",
       "      <th>score</th>\n",
       "      <th>deviation_value</th>\n",
       "    </tr>\n",
       "    <tr>\n",
       "      <th>student</th>\n",
       "      <th></th>\n",
       "      <th></th>\n",
       "    </tr>\n",
       "  </thead>\n",
       "  <tbody>\n",
       "    <tr>\n",
       "      <th>A</th>\n",
       "      <td>42</td>\n",
       "      <td>35.981739</td>\n",
       "    </tr>\n",
       "    <tr>\n",
       "      <th>B</th>\n",
       "      <td>69</td>\n",
       "      <td>65.096588</td>\n",
       "    </tr>\n",
       "    <tr>\n",
       "      <th>C</th>\n",
       "      <td>56</td>\n",
       "      <td>51.078328</td>\n",
       "    </tr>\n",
       "    <tr>\n",
       "      <th>D</th>\n",
       "      <td>41</td>\n",
       "      <td>34.903412</td>\n",
       "    </tr>\n",
       "    <tr>\n",
       "      <th>E</th>\n",
       "      <td>57</td>\n",
       "      <td>52.156655</td>\n",
       "    </tr>\n",
       "    <tr>\n",
       "      <th>F</th>\n",
       "      <td>48</td>\n",
       "      <td>42.451706</td>\n",
       "    </tr>\n",
       "    <tr>\n",
       "      <th>G</th>\n",
       "      <td>65</td>\n",
       "      <td>60.783277</td>\n",
       "    </tr>\n",
       "    <tr>\n",
       "      <th>H</th>\n",
       "      <td>49</td>\n",
       "      <td>43.530034</td>\n",
       "    </tr>\n",
       "    <tr>\n",
       "      <th>I</th>\n",
       "      <td>65</td>\n",
       "      <td>60.783277</td>\n",
       "    </tr>\n",
       "    <tr>\n",
       "      <th>J</th>\n",
       "      <td>58</td>\n",
       "      <td>53.234983</td>\n",
       "    </tr>\n",
       "  </tbody>\n",
       "</table>\n",
       "</div>"
      ],
      "text/plain": [
       "         score  deviation_value\n",
       "student                        \n",
       "A           42        35.981739\n",
       "B           69        65.096588\n",
       "C           56        51.078328\n",
       "D           41        34.903412\n",
       "E           57        52.156655\n",
       "F           48        42.451706\n",
       "G           65        60.783277\n",
       "H           49        43.530034\n",
       "I           65        60.783277\n",
       "J           58        53.234983"
      ]
     },
     "execution_count": 16,
     "metadata": {},
     "output_type": "execute_result"
    }
   ],
   "source": [
    "scores_df['deviation_value'] = z\n",
    "scores_df"
   ]
  },
  {
   "cell_type": "markdown",
   "id": "0b3ae5b1",
   "metadata": {},
   "source": [
    "### 1차원 데이터의 시각화"
   ]
  },
  {
   "cell_type": "code",
   "execution_count": 17,
   "id": "7357c5e6",
   "metadata": {},
   "outputs": [
    {
     "data": {
      "text/plain": [
       "count    50.000000\n",
       "mean     58.380000\n",
       "std       9.799813\n",
       "min      37.000000\n",
       "25%      54.000000\n",
       "50%      57.500000\n",
       "75%      65.000000\n",
       "max      79.000000\n",
       "dtype: float64"
      ]
     },
     "execution_count": 17,
     "metadata": {},
     "output_type": "execute_result"
    }
   ],
   "source": [
    "english_scores = np.array(df['english'])\n",
    "pd.Series(english_scores).describe()"
   ]
  },
  {
   "cell_type": "markdown",
   "id": "aa5fd51d",
   "metadata": {},
   "source": [
    "#### 도수분포표"
   ]
  },
  {
   "cell_type": "code",
   "execution_count": 18,
   "id": "41ba2c15",
   "metadata": {},
   "outputs": [
    {
     "data": {
      "text/plain": [
       "array([ 0,  0,  0,  2,  8, 16, 18,  6,  0,  0], dtype=int64)"
      ]
     },
     "execution_count": 18,
     "metadata": {},
     "output_type": "execute_result"
    }
   ],
   "source": [
    "freq,_ = np.histogram(english_scores, bins=10, range=(0,100))\n",
    "freq"
   ]
  },
  {
   "cell_type": "code",
   "execution_count": 19,
   "id": "60ca2442",
   "metadata": {},
   "outputs": [
    {
     "data": {
      "text/html": [
       "<div>\n",
       "<style scoped>\n",
       "    .dataframe tbody tr th:only-of-type {\n",
       "        vertical-align: middle;\n",
       "    }\n",
       "\n",
       "    .dataframe tbody tr th {\n",
       "        vertical-align: top;\n",
       "    }\n",
       "\n",
       "    .dataframe thead th {\n",
       "        text-align: right;\n",
       "    }\n",
       "</style>\n",
       "<table border=\"1\" class=\"dataframe\">\n",
       "  <thead>\n",
       "    <tr style=\"text-align: right;\">\n",
       "      <th></th>\n",
       "      <th>frequency</th>\n",
       "    </tr>\n",
       "    <tr>\n",
       "      <th>class</th>\n",
       "      <th></th>\n",
       "    </tr>\n",
       "  </thead>\n",
       "  <tbody>\n",
       "    <tr>\n",
       "      <th>0~10</th>\n",
       "      <td>0</td>\n",
       "    </tr>\n",
       "    <tr>\n",
       "      <th>10~20</th>\n",
       "      <td>0</td>\n",
       "    </tr>\n",
       "    <tr>\n",
       "      <th>20~30</th>\n",
       "      <td>0</td>\n",
       "    </tr>\n",
       "    <tr>\n",
       "      <th>30~40</th>\n",
       "      <td>2</td>\n",
       "    </tr>\n",
       "    <tr>\n",
       "      <th>40~50</th>\n",
       "      <td>8</td>\n",
       "    </tr>\n",
       "    <tr>\n",
       "      <th>50~60</th>\n",
       "      <td>16</td>\n",
       "    </tr>\n",
       "    <tr>\n",
       "      <th>60~70</th>\n",
       "      <td>18</td>\n",
       "    </tr>\n",
       "    <tr>\n",
       "      <th>70~80</th>\n",
       "      <td>6</td>\n",
       "    </tr>\n",
       "    <tr>\n",
       "      <th>80~90</th>\n",
       "      <td>0</td>\n",
       "    </tr>\n",
       "    <tr>\n",
       "      <th>90~100</th>\n",
       "      <td>0</td>\n",
       "    </tr>\n",
       "  </tbody>\n",
       "</table>\n",
       "</div>"
      ],
      "text/plain": [
       "        frequency\n",
       "class            \n",
       "0~10            0\n",
       "10~20           0\n",
       "20~30           0\n",
       "30~40           2\n",
       "40~50           8\n",
       "50~60          16\n",
       "60~70          18\n",
       "70~80           6\n",
       "80~90           0\n",
       "90~100          0"
      ]
     },
     "execution_count": 19,
     "metadata": {},
     "output_type": "execute_result"
    }
   ],
   "source": [
    "freq_class = [f'{i}~{i+10}' for i in range(0,100,10)]\n",
    "\n",
    "freq_dist_df = pd.DataFrame({'frequency':freq},\n",
    "                           index=pd.Index(freq_class,\n",
    "                                         name = 'class'))\n",
    "\n",
    "freq_dist_df"
   ]
  },
  {
   "cell_type": "code",
   "execution_count": 20,
   "id": "875d0c7e",
   "metadata": {},
   "outputs": [
    {
     "data": {
      "text/plain": [
       "[5, 15, 25, 35, 45, 55, 65, 75, 85, 95]"
      ]
     },
     "execution_count": 20,
     "metadata": {},
     "output_type": "execute_result"
    }
   ],
   "source": [
    "# 계급값(중앙값)\n",
    "class_value = [(i+(i+10))//2 for i in range(0,100,10)]\n",
    "class_value"
   ]
  },
  {
   "cell_type": "code",
   "execution_count": 21,
   "id": "2cf2bb00",
   "metadata": {},
   "outputs": [
    {
     "data": {
      "text/plain": [
       "array([0.  , 0.  , 0.  , 0.04, 0.16, 0.32, 0.36, 0.12, 0.  , 0.  ])"
      ]
     },
     "execution_count": 21,
     "metadata": {},
     "output_type": "execute_result"
    }
   ],
   "source": [
    "# 상대도수 : 전체 데이터에 대해 해당 계급의 데이터가 어느정도 비율을 차지하는지\n",
    "rel_freq = freq / freq.sum()\n",
    "rel_freq"
   ]
  },
  {
   "cell_type": "code",
   "execution_count": 22,
   "id": "b6e937d2",
   "metadata": {},
   "outputs": [
    {
     "data": {
      "text/plain": [
       "array([0.  , 0.  , 0.  , 0.04, 0.2 , 0.52, 0.88, 1.  , 1.  , 1.  ])"
      ]
     },
     "execution_count": 22,
     "metadata": {},
     "output_type": "execute_result"
    }
   ],
   "source": [
    "# 누적상대도수 :해당 계급까지의 상대도수의 합\n",
    "cum_rel_freq = np.cumsum(rel_freq)\n",
    "cum_rel_freq"
   ]
  },
  {
   "cell_type": "code",
   "execution_count": 23,
   "id": "bd830e2e",
   "metadata": {},
   "outputs": [
    {
     "data": {
      "text/html": [
       "<div>\n",
       "<style scoped>\n",
       "    .dataframe tbody tr th:only-of-type {\n",
       "        vertical-align: middle;\n",
       "    }\n",
       "\n",
       "    .dataframe tbody tr th {\n",
       "        vertical-align: top;\n",
       "    }\n",
       "\n",
       "    .dataframe thead th {\n",
       "        text-align: right;\n",
       "    }\n",
       "</style>\n",
       "<table border=\"1\" class=\"dataframe\">\n",
       "  <thead>\n",
       "    <tr style=\"text-align: right;\">\n",
       "      <th></th>\n",
       "      <th>class value</th>\n",
       "      <th>frequency</th>\n",
       "      <th>relative frequency</th>\n",
       "      <th>cumulative relative frequency</th>\n",
       "    </tr>\n",
       "    <tr>\n",
       "      <th>class</th>\n",
       "      <th></th>\n",
       "      <th></th>\n",
       "      <th></th>\n",
       "      <th></th>\n",
       "    </tr>\n",
       "  </thead>\n",
       "  <tbody>\n",
       "    <tr>\n",
       "      <th>0~10</th>\n",
       "      <td>5</td>\n",
       "      <td>0</td>\n",
       "      <td>0.00</td>\n",
       "      <td>0.00</td>\n",
       "    </tr>\n",
       "    <tr>\n",
       "      <th>10~20</th>\n",
       "      <td>15</td>\n",
       "      <td>0</td>\n",
       "      <td>0.00</td>\n",
       "      <td>0.00</td>\n",
       "    </tr>\n",
       "    <tr>\n",
       "      <th>20~30</th>\n",
       "      <td>25</td>\n",
       "      <td>0</td>\n",
       "      <td>0.00</td>\n",
       "      <td>0.00</td>\n",
       "    </tr>\n",
       "    <tr>\n",
       "      <th>30~40</th>\n",
       "      <td>35</td>\n",
       "      <td>2</td>\n",
       "      <td>0.04</td>\n",
       "      <td>0.04</td>\n",
       "    </tr>\n",
       "    <tr>\n",
       "      <th>40~50</th>\n",
       "      <td>45</td>\n",
       "      <td>8</td>\n",
       "      <td>0.16</td>\n",
       "      <td>0.20</td>\n",
       "    </tr>\n",
       "    <tr>\n",
       "      <th>50~60</th>\n",
       "      <td>55</td>\n",
       "      <td>16</td>\n",
       "      <td>0.32</td>\n",
       "      <td>0.52</td>\n",
       "    </tr>\n",
       "    <tr>\n",
       "      <th>60~70</th>\n",
       "      <td>65</td>\n",
       "      <td>18</td>\n",
       "      <td>0.36</td>\n",
       "      <td>0.88</td>\n",
       "    </tr>\n",
       "    <tr>\n",
       "      <th>70~80</th>\n",
       "      <td>75</td>\n",
       "      <td>6</td>\n",
       "      <td>0.12</td>\n",
       "      <td>1.00</td>\n",
       "    </tr>\n",
       "    <tr>\n",
       "      <th>80~90</th>\n",
       "      <td>85</td>\n",
       "      <td>0</td>\n",
       "      <td>0.00</td>\n",
       "      <td>1.00</td>\n",
       "    </tr>\n",
       "    <tr>\n",
       "      <th>90~100</th>\n",
       "      <td>95</td>\n",
       "      <td>0</td>\n",
       "      <td>0.00</td>\n",
       "      <td>1.00</td>\n",
       "    </tr>\n",
       "  </tbody>\n",
       "</table>\n",
       "</div>"
      ],
      "text/plain": [
       "        class value  frequency  relative frequency  \\\n",
       "class                                                \n",
       "0~10              5          0                0.00   \n",
       "10~20            15          0                0.00   \n",
       "20~30            25          0                0.00   \n",
       "30~40            35          2                0.04   \n",
       "40~50            45          8                0.16   \n",
       "50~60            55         16                0.32   \n",
       "60~70            65         18                0.36   \n",
       "70~80            75          6                0.12   \n",
       "80~90            85          0                0.00   \n",
       "90~100           95          0                0.00   \n",
       "\n",
       "        cumulative relative frequency  \n",
       "class                                  \n",
       "0~10                             0.00  \n",
       "10~20                            0.00  \n",
       "20~30                            0.00  \n",
       "30~40                            0.04  \n",
       "40~50                            0.20  \n",
       "50~60                            0.52  \n",
       "60~70                            0.88  \n",
       "70~80                            1.00  \n",
       "80~90                            1.00  \n",
       "90~100                           1.00  "
      ]
     },
     "execution_count": 23,
     "metadata": {},
     "output_type": "execute_result"
    }
   ],
   "source": [
    "# 계급값, 상대도수, 누적상대도수를 도수분포표에 추가\n",
    "\n",
    "freq_dist_df['class value'] = class_value\n",
    "freq_dist_df['relative frequency'] = rel_freq\n",
    "freq_dist_df['cumulative relative frequency'] = cum_rel_freq\n",
    "freq_dist_df = freq_dist_df[['class value','frequency','relative frequency','cumulative relative frequency']]\n",
    "freq_dist_df"
   ]
  },
  {
   "cell_type": "code",
   "execution_count": 24,
   "id": "4c144ec8",
   "metadata": {},
   "outputs": [
    {
     "data": {
      "text/plain": [
       "65"
      ]
     },
     "execution_count": 24,
     "metadata": {},
     "output_type": "execute_result"
    }
   ],
   "source": [
    "# 최빈값\n",
    "freq_dist_df.loc[freq_dist_df['frequency'].idxmax(),'class value']"
   ]
  },
  {
   "cell_type": "markdown",
   "id": "7f283f82",
   "metadata": {},
   "source": [
    "#### 히스토그램"
   ]
  },
  {
   "cell_type": "code",
   "execution_count": 26,
   "id": "10638d06",
   "metadata": {},
   "outputs": [
    {
     "data": {
      "text/plain": [
       "<function matplotlib.pyplot.show(close=None, block=None)>"
      ]
     },
     "execution_count": 26,
     "metadata": {},
     "output_type": "execute_result"
    },
    {
     "data": {
      "image/png": "[encoded data removed]",
      "text/plain": [
       "<Figure size 720x432 with 1 Axes>"
      ]
     },
     "metadata": {
      "needs_background": "light"
     },
     "output_type": "display_data"
    }
   ],
   "source": [
    "fig = plt.figure(figsize=(10,6))\n",
    "\n",
    "ax = fig.add_subplot(111) # 인수는 영역을 1x1개 지정, 하나의 영역에 그림\n",
    "\n",
    "freq,_,_ = ax.hist(english_scores, bins=10, range=(0,100))\n",
    "ax.set_xlabel('score')\n",
    "ax.set_ylabel('person number')\n",
    "ax.set_xticks(np.linspace(0,100,10+1))\n",
    "ax.set_yticks(np.arange(0,freq.max()+1))\n",
    "plt.show"
   ]
  },
  {
   "cell_type": "code",
   "execution_count": 27,
   "id": "469198c6",
   "metadata": {},
   "outputs": [
    {
     "data": {
      "text/plain": [
       "<function matplotlib.pyplot.show(close=None, block=None)>"
      ]
     },
     "execution_count": 27,
     "metadata": {},
     "output_type": "execute_result"
    },
    {
     "data": {
      "image/png": "[encoded data removed]",
      "text/plain": [
       "<Figure size 720x432 with 1 Axes>"
      ]
     },
     "metadata": {
      "needs_background": "light"
     },
     "output_type": "display_data"
    }
   ],
   "source": [
    "# bins=25 설정\n",
    "fig = plt.figure(figsize=(10,6))\n",
    "\n",
    "ax = fig.add_subplot(111)\n",
    "\n",
    "freq,_,_ = ax.hist(english_scores, bins=25, range=(0,100))\n",
    "ax.set_xlabel('score')\n",
    "ax.set_ylabel('person number')\n",
    "ax.set_xticks(np.linspace(0,100,25+1))\n",
    "ax.set_yticks(np.arange(0,freq.max()+1))\n",
    "plt.show"
   ]
  },
  {
   "cell_type": "code",
   "execution_count": 28,
   "id": "2a6eb46b",
   "metadata": {},
   "outputs": [
    {
     "data": {
      "text/plain": [
       "<function matplotlib.pyplot.show(close=None, block=None)>"
      ]
     },
     "execution_count": 28,
     "metadata": {},
     "output_type": "execute_result"
    },
    {
     "data": {
      "image/png": "[encoded data removed]",
      "text/plain": [
       "<Figure size 720x432 with 2 Axes>"
      ]
     },
     "metadata": {
      "needs_background": "light"
     },
     "output_type": "display_data"
    }
   ],
   "source": [
    "# 상대도수의 히스토그램 , 누적상대도수의 꺾은선 그래프 같이 그리기\n",
    "\n",
    "fig = plt.figure(figsize=(10,6))\n",
    "\n",
    "ax1 = fig.add_subplot(111)\n",
    "ax2 = ax1.twinx()\n",
    "\n",
    "weights = np.ones_like(english_scores) / len(english_scores)\n",
    "rel_freq,_,_ = ax1.hist(english_scores, bins=25, range=(0,100), weights=weights)\n",
    "\n",
    "cum_rel_freq = np.cumsum(rel_freq)\n",
    "class_value = [(i+(i+4))//2 for i in range(0,100,4)]\n",
    "\n",
    "ax2.plot(class_value, cum_rel_freq, ls='--', marker='o', color='gray')\n",
    "ax2.grid(visible=False) # 꺾은선 그래프의 눈금 제거\n",
    "\n",
    "ax1.set_xlabel('score')\n",
    "ax1.set_ylabel('relative frequency')\n",
    "ax2.set_ylabel('cumulative relative frequency')\n",
    "ax1.set_xticks(np.linspace(0,100,25+1))\n",
    "\n",
    "plt.show"
   ]
  },
  {
   "cell_type": "markdown",
   "id": "b0c4bee4",
   "metadata": {},
   "source": [
    "#### 상자그림"
   ]
  },
  {
   "cell_type": "code",
   "execution_count": 29,
   "id": "2c289cad",
   "metadata": {},
   "outputs": [
    {
     "data": {
      "image/png": "[encoded data removed]",
      "text/plain": [
       "<Figure size 360x432 with 1 Axes>"
      ]
     },
     "metadata": {
      "needs_background": "light"
     },
     "output_type": "display_data"
    }
   ],
   "source": [
    "fig = plt.figure(figsize=(5,6))\n",
    "ax = fig.add_subplot(111)\n",
    "ax.boxplot(english_scores, labels=['english'])\n",
    "\n",
    "plt.show()"
   ]
  },
  {
   "cell_type": "markdown",
   "id": "44ea7826",
   "metadata": {},
   "source": [
    "## 2차원 데이터 정리"
   ]
  },
  {
   "cell_type": "code",
   "execution_count": 32,
   "id": "07d4337d",
   "metadata": {},
   "outputs": [
    {
     "data": {
      "text/html": [
       "<div>\n",
       "<style scoped>\n",
       "    .dataframe tbody tr th:only-of-type {\n",
       "        vertical-align: middle;\n",
       "    }\n",
       "\n",
       "    .dataframe tbody tr th {\n",
       "        vertical-align: top;\n",
       "    }\n",
       "\n",
       "    .dataframe thead th {\n",
       "        text-align: right;\n",
       "    }\n",
       "</style>\n",
       "<table border=\"1\" class=\"dataframe\">\n",
       "  <thead>\n",
       "    <tr style=\"text-align: right;\">\n",
       "      <th></th>\n",
       "      <th>english</th>\n",
       "      <th>mathematics</th>\n",
       "    </tr>\n",
       "    <tr>\n",
       "      <th>student</th>\n",
       "      <th></th>\n",
       "      <th></th>\n",
       "    </tr>\n",
       "  </thead>\n",
       "  <tbody>\n",
       "    <tr>\n",
       "      <th>A</th>\n",
       "      <td>42</td>\n",
       "      <td>65</td>\n",
       "    </tr>\n",
       "    <tr>\n",
       "      <th>B</th>\n",
       "      <td>69</td>\n",
       "      <td>80</td>\n",
       "    </tr>\n",
       "    <tr>\n",
       "      <th>C</th>\n",
       "      <td>56</td>\n",
       "      <td>63</td>\n",
       "    </tr>\n",
       "    <tr>\n",
       "      <th>D</th>\n",
       "      <td>41</td>\n",
       "      <td>63</td>\n",
       "    </tr>\n",
       "    <tr>\n",
       "      <th>E</th>\n",
       "      <td>57</td>\n",
       "      <td>76</td>\n",
       "    </tr>\n",
       "    <tr>\n",
       "      <th>F</th>\n",
       "      <td>48</td>\n",
       "      <td>60</td>\n",
       "    </tr>\n",
       "    <tr>\n",
       "      <th>G</th>\n",
       "      <td>65</td>\n",
       "      <td>81</td>\n",
       "    </tr>\n",
       "    <tr>\n",
       "      <th>H</th>\n",
       "      <td>49</td>\n",
       "      <td>66</td>\n",
       "    </tr>\n",
       "    <tr>\n",
       "      <th>I</th>\n",
       "      <td>65</td>\n",
       "      <td>78</td>\n",
       "    </tr>\n",
       "    <tr>\n",
       "      <th>J</th>\n",
       "      <td>58</td>\n",
       "      <td>82</td>\n",
       "    </tr>\n",
       "  </tbody>\n",
       "</table>\n",
       "</div>"
      ],
      "text/plain": [
       "         english  mathematics\n",
       "student                      \n",
       "A             42           65\n",
       "B             69           80\n",
       "C             56           63\n",
       "D             41           63\n",
       "E             57           76\n",
       "F             48           60\n",
       "G             65           81\n",
       "H             49           66\n",
       "I             65           78\n",
       "J             58           82"
      ]
     },
     "execution_count": 32,
     "metadata": {},
     "output_type": "execute_result"
    }
   ],
   "source": [
    "en_scores = np.array(df['english'])[:10]\n",
    "ma_scores = np.array(df['mathematics'])[:10]\n",
    "\n",
    "scores_df = pd.DataFrame({'english':en_scores,\n",
    "                         'mathematics':ma_scores},\n",
    "                        index=pd.Index(['A','B','C','D','E','F','G','H','I','J'],\n",
    "                                      name='student'))\n",
    "scores_df"
   ]
  },
  {
   "cell_type": "markdown",
   "id": "e5f9ea9e",
   "metadata": {},
   "source": [
    "### 두 데이터 사이의 관계를 나타내는 지표"
   ]
  },
  {
   "cell_type": "markdown",
   "id": "365a37a7",
   "metadata": {},
   "source": [
    "#### 공분산"
   ]
  },
  {
   "cell_type": "code",
   "execution_count": 35,
   "id": "ca63647f",
   "metadata": {},
   "outputs": [
    {
     "data": {
      "text/html": [
       "<div>\n",
       "<style scoped>\n",
       "    .dataframe tbody tr th:only-of-type {\n",
       "        vertical-align: middle;\n",
       "    }\n",
       "\n",
       "    .dataframe tbody tr th {\n",
       "        vertical-align: top;\n",
       "    }\n",
       "\n",
       "    .dataframe thead th {\n",
       "        text-align: right;\n",
       "    }\n",
       "</style>\n",
       "<table border=\"1\" class=\"dataframe\">\n",
       "  <thead>\n",
       "    <tr style=\"text-align: right;\">\n",
       "      <th></th>\n",
       "      <th>english</th>\n",
       "      <th>mathematics</th>\n",
       "      <th>english_deviation</th>\n",
       "      <th>mathematics_deviation</th>\n",
       "      <th>product of deviations</th>\n",
       "    </tr>\n",
       "    <tr>\n",
       "      <th>student</th>\n",
       "      <th></th>\n",
       "      <th></th>\n",
       "      <th></th>\n",
       "      <th></th>\n",
       "      <th></th>\n",
       "    </tr>\n",
       "  </thead>\n",
       "  <tbody>\n",
       "    <tr>\n",
       "      <th>A</th>\n",
       "      <td>42</td>\n",
       "      <td>65</td>\n",
       "      <td>-13.0</td>\n",
       "      <td>-6.4</td>\n",
       "      <td>83.2</td>\n",
       "    </tr>\n",
       "    <tr>\n",
       "      <th>B</th>\n",
       "      <td>69</td>\n",
       "      <td>80</td>\n",
       "      <td>14.0</td>\n",
       "      <td>8.6</td>\n",
       "      <td>120.4</td>\n",
       "    </tr>\n",
       "    <tr>\n",
       "      <th>C</th>\n",
       "      <td>56</td>\n",
       "      <td>63</td>\n",
       "      <td>1.0</td>\n",
       "      <td>-8.4</td>\n",
       "      <td>-8.4</td>\n",
       "    </tr>\n",
       "    <tr>\n",
       "      <th>D</th>\n",
       "      <td>41</td>\n",
       "      <td>63</td>\n",
       "      <td>-14.0</td>\n",
       "      <td>-8.4</td>\n",
       "      <td>117.6</td>\n",
       "    </tr>\n",
       "    <tr>\n",
       "      <th>E</th>\n",
       "      <td>57</td>\n",
       "      <td>76</td>\n",
       "      <td>2.0</td>\n",
       "      <td>4.6</td>\n",
       "      <td>9.2</td>\n",
       "    </tr>\n",
       "    <tr>\n",
       "      <th>F</th>\n",
       "      <td>48</td>\n",
       "      <td>60</td>\n",
       "      <td>-7.0</td>\n",
       "      <td>-11.4</td>\n",
       "      <td>79.8</td>\n",
       "    </tr>\n",
       "    <tr>\n",
       "      <th>G</th>\n",
       "      <td>65</td>\n",
       "      <td>81</td>\n",
       "      <td>10.0</td>\n",
       "      <td>9.6</td>\n",
       "      <td>96.0</td>\n",
       "    </tr>\n",
       "    <tr>\n",
       "      <th>H</th>\n",
       "      <td>49</td>\n",
       "      <td>66</td>\n",
       "      <td>-6.0</td>\n",
       "      <td>-5.4</td>\n",
       "      <td>32.4</td>\n",
       "    </tr>\n",
       "    <tr>\n",
       "      <th>I</th>\n",
       "      <td>65</td>\n",
       "      <td>78</td>\n",
       "      <td>10.0</td>\n",
       "      <td>6.6</td>\n",
       "      <td>66.0</td>\n",
       "    </tr>\n",
       "    <tr>\n",
       "      <th>J</th>\n",
       "      <td>58</td>\n",
       "      <td>82</td>\n",
       "      <td>3.0</td>\n",
       "      <td>10.6</td>\n",
       "      <td>31.8</td>\n",
       "    </tr>\n",
       "  </tbody>\n",
       "</table>\n",
       "</div>"
      ],
      "text/plain": [
       "         english  mathematics  english_deviation  mathematics_deviation  \\\n",
       "student                                                                   \n",
       "A             42           65              -13.0                   -6.4   \n",
       "B             69           80               14.0                    8.6   \n",
       "C             56           63                1.0                   -8.4   \n",
       "D             41           63              -14.0                   -8.4   \n",
       "E             57           76                2.0                    4.6   \n",
       "F             48           60               -7.0                  -11.4   \n",
       "G             65           81               10.0                    9.6   \n",
       "H             49           66               -6.0                   -5.4   \n",
       "I             65           78               10.0                    6.6   \n",
       "J             58           82                3.0                   10.6   \n",
       "\n",
       "         product of deviations  \n",
       "student                         \n",
       "A                         83.2  \n",
       "B                        120.4  \n",
       "C                         -8.4  \n",
       "D                        117.6  \n",
       "E                          9.2  \n",
       "F                         79.8  \n",
       "G                         96.0  \n",
       "H                         32.4  \n",
       "I                         66.0  \n",
       "J                         31.8  "
      ]
     },
     "execution_count": 35,
     "metadata": {},
     "output_type": "execute_result"
    }
   ],
   "source": [
    "# 부호를 붙인 면적 : 공분산\n",
    "summary_df = scores_df.copy()\n",
    "summary_df['english_deviation'] =\\\n",
    "    summary_df['english'] - summary_df['english'].mean()\n",
    "\n",
    "summary_df['mathematics_deviation'] =\\\n",
    "    summary_df['mathematics'] - summary_df['mathematics'].mean()\n",
    "\n",
    "summary_df['product of deviations'] =\\\n",
    "    summary_df['english_deviation'] * summary_df['mathematics_deviation']\n",
    "\n",
    "summary_df"
   ]
  },
  {
   "cell_type": "code",
   "execution_count": 36,
   "id": "16592bb6",
   "metadata": {},
   "outputs": [
    {
     "data": {
      "text/plain": [
       "62.800"
      ]
     },
     "execution_count": 36,
     "metadata": {},
     "output_type": "execute_result"
    }
   ],
   "source": [
    "# 영어 수학 점수는 양의 상관관계에 있다.\n",
    "summary_df['product of deviations'].mean()"
   ]
  },
  {
   "cell_type": "code",
   "execution_count": 37,
   "id": "743fc199",
   "metadata": {},
   "outputs": [
    {
     "data": {
      "text/plain": [
       "array([[86.  , 62.8 ],\n",
       "       [62.8 , 68.44]])"
      ]
     },
     "execution_count": 37,
     "metadata": {},
     "output_type": "execute_result"
    }
   ],
   "source": [
    "# 공분산 행렬, 분산공분산 행렬 cov함수\n",
    "cov_mat = np.cov(en_scores,ma_scores,ddof=0)\n",
    "cov_mat"
   ]
  },
  {
   "cell_type": "code",
   "execution_count": 38,
   "id": "22ff4800",
   "metadata": {},
   "outputs": [
    {
     "data": {
      "text/plain": [
       "(62.800, 62.800)"
      ]
     },
     "execution_count": 38,
     "metadata": {},
     "output_type": "execute_result"
    }
   ],
   "source": [
    "# 영어와 수학의 공분산\n",
    "cov_mat[0,1], cov_mat[1,0]"
   ]
  },
  {
   "cell_type": "code",
   "execution_count": 39,
   "id": "b14f25fb",
   "metadata": {},
   "outputs": [
    {
     "data": {
      "text/plain": [
       "(86.000, 68.440)"
      ]
     },
     "execution_count": 39,
     "metadata": {},
     "output_type": "execute_result"
    }
   ],
   "source": [
    "# 영어와 영어의 공분산, 수학과 수학의 공분산\n",
    "cov_mat[0,0], cov_mat[1,1]"
   ]
  },
  {
   "cell_type": "code",
   "execution_count": 40,
   "id": "68ff75d6",
   "metadata": {},
   "outputs": [
    {
     "data": {
      "text/plain": [
       "(86.000, 68.440)"
      ]
     },
     "execution_count": 40,
     "metadata": {},
     "output_type": "execute_result"
    }
   ],
   "source": [
    "# 영어와 수학의 분산\n",
    "np.var(en_scores,ddof=0),np.var(ma_scores,ddof=0)"
   ]
  },
  {
   "cell_type": "markdown",
   "id": "ead24376",
   "metadata": {},
   "source": [
    "#### 상관계수"
   ]
  },
  {
   "cell_type": "markdown",
   "id": "4759cbd6",
   "metadata": {},
   "source": [
    "단위에 의존하지 않는 상관을 나타내는 지표"
   ]
  },
  {
   "cell_type": "code",
   "execution_count": 41,
   "id": "411aed05",
   "metadata": {},
   "outputs": [
    {
     "data": {
      "text/plain": [
       "0.819"
      ]
     },
     "execution_count": 41,
     "metadata": {},
     "output_type": "execute_result"
    }
   ],
   "source": [
    "# 영어와 수학의 상관계수\n",
    "np.cov(en_scores,ma_scores,ddof=0)[0,1]/\\\n",
    "    (np.std(en_scores) * np.std(ma_scores))"
   ]
  },
  {
   "cell_type": "code",
   "execution_count": 42,
   "id": "4cecf855",
   "metadata": {},
   "outputs": [
    {
     "data": {
      "text/plain": [
       "array([[1.   , 0.819],\n",
       "       [0.819, 1.   ]])"
      ]
     },
     "execution_count": 42,
     "metadata": {},
     "output_type": "execute_result"
    }
   ],
   "source": [
    "# 상관행렬 corrcoef\n",
    "np.corrcoef(en_scores,ma_scores)"
   ]
  },
  {
   "cell_type": "code",
   "execution_count": 43,
   "id": "6ac7d91b",
   "metadata": {},
   "outputs": [
    {
     "data": {
      "text/html": [
       "<div>\n",
       "<style scoped>\n",
       "    .dataframe tbody tr th:only-of-type {\n",
       "        vertical-align: middle;\n",
       "    }\n",
       "\n",
       "    .dataframe tbody tr th {\n",
       "        vertical-align: top;\n",
       "    }\n",
       "\n",
       "    .dataframe thead th {\n",
       "        text-align: right;\n",
       "    }\n",
       "</style>\n",
       "<table border=\"1\" class=\"dataframe\">\n",
       "  <thead>\n",
       "    <tr style=\"text-align: right;\">\n",
       "      <th></th>\n",
       "      <th>english</th>\n",
       "      <th>mathematics</th>\n",
       "    </tr>\n",
       "  </thead>\n",
       "  <tbody>\n",
       "    <tr>\n",
       "      <th>english</th>\n",
       "      <td>1.000000</td>\n",
       "      <td>0.818569</td>\n",
       "    </tr>\n",
       "    <tr>\n",
       "      <th>mathematics</th>\n",
       "      <td>0.818569</td>\n",
       "      <td>1.000000</td>\n",
       "    </tr>\n",
       "  </tbody>\n",
       "</table>\n",
       "</div>"
      ],
      "text/plain": [
       "              english  mathematics\n",
       "english      1.000000     0.818569\n",
       "mathematics  0.818569     1.000000"
      ]
     },
     "execution_count": 43,
     "metadata": {},
     "output_type": "execute_result"
    }
   ],
   "source": [
    "scores_df.corr()"
   ]
  },
  {
   "cell_type": "markdown",
   "id": "aedb7065",
   "metadata": {},
   "source": [
    "### 2차원 데이터의 시각화"
   ]
  },
  {
   "cell_type": "markdown",
   "id": "8783bbc5",
   "metadata": {},
   "source": [
    "#### 산점도"
   ]
  },
  {
   "cell_type": "code",
   "execution_count": 44,
   "id": "150bd01e",
   "metadata": {},
   "outputs": [
    {
     "data": {
      "image/png": "[encoded data removed]",
      "text/plain": [
       "<Figure size 576x576 with 1 Axes>"
      ]
     },
     "metadata": {
      "needs_background": "light"
     },
     "output_type": "display_data"
    }
   ],
   "source": [
    "english_scores = np.array(df['english'])\n",
    "math_scores = np.array(df['mathematics'])\n",
    "\n",
    "fig = plt.figure(figsize=(8,8))\n",
    "ax = fig.add_subplot(111)\n",
    "\n",
    "ax.scatter(english_scores,math_scores)\n",
    "ax.set_xlabel('english')\n",
    "ax.set_ylabel('mathematics')\n",
    "\n",
    "plt.show()"
   ]
  },
  {
   "cell_type": "markdown",
   "id": "68f75d8b",
   "metadata": {},
   "source": [
    "#### 회귀직선"
   ]
  },
  {
   "cell_type": "markdown",
   "id": "d5b5c7b3",
   "metadata": {},
   "source": [
    "두 데이터 사이의 관계를 더욱 잘 나타내는 직선"
   ]
  },
  {
   "cell_type": "code",
   "execution_count": 45,
   "id": "dace9c89",
   "metadata": {},
   "outputs": [
    {
     "data": {
      "image/png": "[encoded data removed]",
      "text/plain": [
       "<Figure size 576x576 with 1 Axes>"
      ]
     },
     "metadata": {
      "needs_background": "light"
     },
     "output_type": "display_data"
    }
   ],
   "source": [
    "# 계수 구하기\n",
    "poly_fit = np.polyfit(english_scores,math_scores,1)\n",
    "# 반환하는 함수를 작성\n",
    "poly_1d = np.poly1d(poly_fit)\n",
    "xs = np.linspace(english_scores.min(),english_scores.max())\n",
    "ys = poly_1d(xs)\n",
    "\n",
    "fig = plt.figure(figsize=(8,8))\n",
    "ax = fig.add_subplot(111)\n",
    "ax.scatter(english_scores,math_scores,label='score')\n",
    "ax.plot(xs, ys, color='gray', label=f'{poly_fit[1]:.2f}+{poly_fit[0]:.2f}x')\n",
    "ax.set_xlabel('english')\n",
    "ax.set_ylabel('mathematics')\n",
    "\n",
    "ax.legend(loc='upper left')\n",
    "\n",
    "plt.show()"
   ]
  },
  {
   "cell_type": "markdown",
   "id": "0d5d637a",
   "metadata": {},
   "source": [
    "#### 히트맵"
   ]
  },
  {
   "cell_type": "code",
   "execution_count": 46,
   "id": "b04a8a79",
   "metadata": {},
   "outputs": [
    {
     "data": {
      "image/png": "[encoded data removed]",
      "text/plain": [
       "<Figure size 720x576 with 2 Axes>"
      ]
     },
     "metadata": {
      "needs_background": "light"
     },
     "output_type": "display_data"
    }
   ],
   "source": [
    "fig = plt.figure(figsize=(10,8))\n",
    "ax = fig.add_subplot(111)\n",
    "\n",
    "c = ax.hist2d(english_scores, math_scores,\n",
    "             bins=[9,8], range=[(35,80),(55,95)])\n",
    "ax.set_xlabel('english')\n",
    "ax.set_ylabel('mathematics')\n",
    "ax.set_xticks(c[1])\n",
    "ax.set_yticks(c[2])\n",
    "\n",
    "fig.colorbar(c[3],ax=ax)\n",
    "plt.show()"
   ]
  },
  {
   "cell_type": "code",
   "execution_count": null,
   "id": "70b2cf0d",
   "metadata": {},
   "outputs": [],
   "source": []
  },
  {
   "cell_type": "markdown",
   "id": "4d793aae",
   "metadata": {},
   "source": [
    "#### [과제_0823-1] p.52~83 예제 문제 풀기(완)"
   ]
  },
  {
   "cell_type": "markdown",
   "id": "42ec19a9",
   "metadata": {},
   "source": [
    "#### [과제_0823-2] 일차원 데이터를 생성하여 다음을 수행하세요.\n",
    "- 도수분포표를 만들어 히스토그램으로 시각화하세요\n",
    "- 상대도수 및 누적상대도수를 도수분포표에 추가하고 히스토그램과 누적상대도수를 시각화하세요\n"
   ]
  },
  {
   "cell_type": "code",
   "execution_count": 9,
   "id": "e74a6a96",
   "metadata": {},
   "outputs": [
    {
     "data": {
      "text/plain": [
       "array([77, 61, 37, 28, 60, 74, 14, 66, 34, 14, 65, 44, 70, 13,  0, 76, 43,\n",
       "       98, 52, 57, 72, 49, 63, 51, 98, 20, 86, 74, 17, 86, 84, 47, 91, 12,\n",
       "       50, 59, 65, 77, 52, 79,  9, 20, 24, 31, 41, 76, 60, 89, 92, 48, 64,\n",
       "        6, 73, 60,  4, 93, 35, 84, 29, 96, 21, 45,  4,  8, 83, 76, 87, 89,\n",
       "       58,  2,  0, 16, 35, 34, 99, 93, 73, 88, 71, 15, 61, 86, 26, 12, 11,\n",
       "       73, 62,  9, 67, 98, 15,  7, 10,  6, 44, 50,  3, 10, 52, 68])"
      ]
     },
     "execution_count": 9,
     "metadata": {},
     "output_type": "execute_result"
    }
   ],
   "source": [
    "data_my = np.random.randint(100,size=100)\n",
    "data_my"
   ]
  },
  {
   "cell_type": "code",
   "execution_count": 11,
   "id": "f027abdd",
   "metadata": {},
   "outputs": [
    {
     "data": {
      "text/plain": [
       "array([12, 12,  7,  6,  8,  9, 13, 14, 10,  9], dtype=int64)"
      ]
     },
     "execution_count": 11,
     "metadata": {},
     "output_type": "execute_result"
    }
   ],
   "source": [
    "freq,_ = np.histogram(data_my, bins=10, range=(0,100))\n",
    "freq"
   ]
  },
  {
   "cell_type": "code",
   "execution_count": 32,
   "id": "15886011",
   "metadata": {},
   "outputs": [
    {
     "data": {
      "text/plain": [
       "(array([12, 12,  7,  6,  8,  9, 13, 14, 10,  9], dtype=int64),\n",
       " array([  0.,  10.,  20.,  30.,  40.,  50.,  60.,  70.,  80.,  90., 100.]))"
      ]
     },
     "execution_count": 32,
     "metadata": {},
     "output_type": "execute_result"
    }
   ],
   "source": [
    "freq = np.histogram(data_my, bins=10, range=(0,100))\n",
    "freq"
   ]
  },
  {
   "cell_type": "code",
   "execution_count": 13,
   "id": "0669d081",
   "metadata": {},
   "outputs": [
    {
     "data": {
      "text/plain": [
       "<function matplotlib.pyplot.show(close=None, block=None)>"
      ]
     },
     "execution_count": 13,
     "metadata": {},
     "output_type": "execute_result"
    },
    {
     "data": {
      "image/png": "[encoded data removed]",
      "text/plain": [
       "<Figure size 720x432 with 2 Axes>"
      ]
     },
     "metadata": {
      "needs_background": "light"
     },
     "output_type": "display_data"
    }
   ],
   "source": [
    "# 상대도수의 히스토그램 , 누적상대도수의 꺾은선 그래프 같이 그리기\n",
    "\n",
    "fig = plt.figure(figsize=(10,6))\n",
    "\n",
    "ax1 = fig.add_subplot(111)\n",
    "ax2 = ax1.twinx()\n",
    "\n",
    "weights = np.ones_like(data_my) / len(data_my)\n",
    "rel_freq,_,_ = ax1.hist(data_my, bins=25, range=(0,100), weights=weights)\n",
    "\n",
    "cum_rel_freq = np.cumsum(rel_freq)\n",
    "class_value = [(i+(i+4))//2 for i in range(0,100,4)]\n",
    "\n",
    "ax2.plot(class_value, cum_rel_freq, ls='--', marker='o', color='gray')\n",
    "ax2.grid(visible=False)\n",
    "\n",
    "ax1.set_xlabel('data_my')\n",
    "ax1.set_ylabel('relative frequency')\n",
    "ax2.set_ylabel('cumulative relative frequency')\n",
    "ax1.set_xticks(np.linspace(0,100,25+1))\n",
    "\n",
    "plt.show"
   ]
  },
  {
   "cell_type": "markdown",
   "id": "293554fa",
   "metadata": {},
   "source": [
    "#### [과제_0823-3] 이차원 데이터를 생성하여 다음을 수행하세요 \n",
    "- 공분산 및 상관계수를 구하세요\n",
    "- 이차원 데이터를 산점도, 히트맵으로 시각화한 후 인사이트를 기술하세요.\n"
   ]
  },
  {
   "cell_type": "code",
   "execution_count": 14,
   "id": "af36e17b",
   "metadata": {},
   "outputs": [
    {
     "data": {
      "text/html": [
       "<div>\n",
       "<style scoped>\n",
       "    .dataframe tbody tr th:only-of-type {\n",
       "        vertical-align: middle;\n",
       "    }\n",
       "\n",
       "    .dataframe tbody tr th {\n",
       "        vertical-align: top;\n",
       "    }\n",
       "\n",
       "    .dataframe thead th {\n",
       "        text-align: right;\n",
       "    }\n",
       "</style>\n",
       "<table border=\"1\" class=\"dataframe\">\n",
       "  <thead>\n",
       "    <tr style=\"text-align: right;\">\n",
       "      <th></th>\n",
       "      <th>SEX</th>\n",
       "      <th>BTH_G</th>\n",
       "      <th>SBP</th>\n",
       "      <th>DBP</th>\n",
       "      <th>FBS</th>\n",
       "      <th>DIS</th>\n",
       "      <th>BMI</th>\n",
       "    </tr>\n",
       "  </thead>\n",
       "  <tbody>\n",
       "    <tr>\n",
       "      <th>0</th>\n",
       "      <td>1</td>\n",
       "      <td>1</td>\n",
       "      <td>116</td>\n",
       "      <td>78</td>\n",
       "      <td>94</td>\n",
       "      <td>4</td>\n",
       "      <td>16.6</td>\n",
       "    </tr>\n",
       "    <tr>\n",
       "      <th>1</th>\n",
       "      <td>1</td>\n",
       "      <td>1</td>\n",
       "      <td>100</td>\n",
       "      <td>60</td>\n",
       "      <td>79</td>\n",
       "      <td>4</td>\n",
       "      <td>22.3</td>\n",
       "    </tr>\n",
       "    <tr>\n",
       "      <th>2</th>\n",
       "      <td>1</td>\n",
       "      <td>1</td>\n",
       "      <td>100</td>\n",
       "      <td>60</td>\n",
       "      <td>87</td>\n",
       "      <td>4</td>\n",
       "      <td>21.9</td>\n",
       "    </tr>\n",
       "    <tr>\n",
       "      <th>3</th>\n",
       "      <td>1</td>\n",
       "      <td>1</td>\n",
       "      <td>111</td>\n",
       "      <td>70</td>\n",
       "      <td>72</td>\n",
       "      <td>4</td>\n",
       "      <td>20.2</td>\n",
       "    </tr>\n",
       "    <tr>\n",
       "      <th>4</th>\n",
       "      <td>1</td>\n",
       "      <td>1</td>\n",
       "      <td>120</td>\n",
       "      <td>80</td>\n",
       "      <td>98</td>\n",
       "      <td>4</td>\n",
       "      <td>20.0</td>\n",
       "    </tr>\n",
       "    <tr>\n",
       "      <th>...</th>\n",
       "      <td>...</td>\n",
       "      <td>...</td>\n",
       "      <td>...</td>\n",
       "      <td>...</td>\n",
       "      <td>...</td>\n",
       "      <td>...</td>\n",
       "      <td>...</td>\n",
       "    </tr>\n",
       "    <tr>\n",
       "      <th>999995</th>\n",
       "      <td>2</td>\n",
       "      <td>27</td>\n",
       "      <td>120</td>\n",
       "      <td>70</td>\n",
       "      <td>81</td>\n",
       "      <td>2</td>\n",
       "      <td>23.1</td>\n",
       "    </tr>\n",
       "    <tr>\n",
       "      <th>999996</th>\n",
       "      <td>2</td>\n",
       "      <td>27</td>\n",
       "      <td>110</td>\n",
       "      <td>70</td>\n",
       "      <td>104</td>\n",
       "      <td>2</td>\n",
       "      <td>27.2</td>\n",
       "    </tr>\n",
       "    <tr>\n",
       "      <th>999997</th>\n",
       "      <td>2</td>\n",
       "      <td>27</td>\n",
       "      <td>115</td>\n",
       "      <td>53</td>\n",
       "      <td>110</td>\n",
       "      <td>1</td>\n",
       "      <td>25.2</td>\n",
       "    </tr>\n",
       "    <tr>\n",
       "      <th>999998</th>\n",
       "      <td>2</td>\n",
       "      <td>27</td>\n",
       "      <td>120</td>\n",
       "      <td>70</td>\n",
       "      <td>90</td>\n",
       "      <td>2</td>\n",
       "      <td>19.7</td>\n",
       "    </tr>\n",
       "    <tr>\n",
       "      <th>999999</th>\n",
       "      <td>2</td>\n",
       "      <td>27</td>\n",
       "      <td>116</td>\n",
       "      <td>73</td>\n",
       "      <td>92</td>\n",
       "      <td>4</td>\n",
       "      <td>17.6</td>\n",
       "    </tr>\n",
       "  </tbody>\n",
       "</table>\n",
       "<p>1000000 rows × 7 columns</p>\n",
       "</div>"
      ],
      "text/plain": [
       "        SEX  BTH_G  SBP  DBP  FBS  DIS   BMI\n",
       "0         1      1  116   78   94    4  16.6\n",
       "1         1      1  100   60   79    4  22.3\n",
       "2         1      1  100   60   87    4  21.9\n",
       "3         1      1  111   70   72    4  20.2\n",
       "4         1      1  120   80   98    4  20.0\n",
       "...     ...    ...  ...  ...  ...  ...   ...\n",
       "999995    2     27  120   70   81    2  23.1\n",
       "999996    2     27  110   70  104    2  27.2\n",
       "999997    2     27  115   53  110    1  25.2\n",
       "999998    2     27  120   70   90    2  19.7\n",
       "999999    2     27  116   73   92    4  17.6\n",
       "\n",
       "[1000000 rows x 7 columns]"
      ]
     },
     "execution_count": 14,
     "metadata": {},
     "output_type": "execute_result"
    }
   ],
   "source": [
    "diabetes = pd.read_csv('./국가건강검진_혈압혈당데이터.csv')\n",
    "diabetes"
   ]
  },
  {
   "cell_type": "code",
   "execution_count": null,
   "id": "c4a7dd7c",
   "metadata": {},
   "outputs": [],
   "source": []
  },
  {
   "cell_type": "code",
   "execution_count": 30,
   "id": "cc6ccdcb",
   "metadata": {},
   "outputs": [
    {
     "data": {
      "text/plain": [
       "array([[ 95.911,  31.22 ],\n",
       "       [ 31.22 , 528.14 ]])"
      ]
     },
     "execution_count": 30,
     "metadata": {},
     "output_type": "execute_result"
    }
   ],
   "source": [
    "# 공분산 행렬, 분산공분산 행렬 cov함수\n",
    "cov_FBS = np.cov(diabetes.DBP,diabetes.FBS,ddof=0)\n",
    "cov_FBS"
   ]
  },
  {
   "cell_type": "code",
   "execution_count": 16,
   "id": "dc4af05c",
   "metadata": {},
   "outputs": [
    {
     "data": {
      "text/plain": [
       "array([[ 1.   , -0.171],\n",
       "       [-0.171,  1.   ]])"
      ]
     },
     "execution_count": 16,
     "metadata": {},
     "output_type": "execute_result"
    }
   ],
   "source": [
    "# 상관행렬 corrcoef\n",
    "np.corrcoef(diabetes.BMI,diabetes.SEX)"
   ]
  },
  {
   "cell_type": "code",
   "execution_count": 18,
   "id": "0add2bcb",
   "metadata": {},
   "outputs": [
    {
     "data": {
      "text/html": [
       "<div>\n",
       "<style scoped>\n",
       "    .dataframe tbody tr th:only-of-type {\n",
       "        vertical-align: middle;\n",
       "    }\n",
       "\n",
       "    .dataframe tbody tr th {\n",
       "        vertical-align: top;\n",
       "    }\n",
       "\n",
       "    .dataframe thead th {\n",
       "        text-align: right;\n",
       "    }\n",
       "</style>\n",
       "<table border=\"1\" class=\"dataframe\">\n",
       "  <thead>\n",
       "    <tr style=\"text-align: right;\">\n",
       "      <th></th>\n",
       "      <th>SEX</th>\n",
       "      <th>BTH_G</th>\n",
       "      <th>SBP</th>\n",
       "      <th>DBP</th>\n",
       "      <th>FBS</th>\n",
       "      <th>DIS</th>\n",
       "      <th>BMI</th>\n",
       "    </tr>\n",
       "  </thead>\n",
       "  <tbody>\n",
       "    <tr>\n",
       "      <th>SEX</th>\n",
       "      <td>1.000000</td>\n",
       "      <td>0.085226</td>\n",
       "      <td>-0.168796</td>\n",
       "      <td>-0.190420</td>\n",
       "      <td>-0.101150</td>\n",
       "      <td>-0.004797</td>\n",
       "      <td>-0.170833</td>\n",
       "    </tr>\n",
       "    <tr>\n",
       "      <th>BTH_G</th>\n",
       "      <td>0.085226</td>\n",
       "      <td>1.000000</td>\n",
       "      <td>0.275981</td>\n",
       "      <td>0.134484</td>\n",
       "      <td>0.213951</td>\n",
       "      <td>-0.478049</td>\n",
       "      <td>0.088089</td>\n",
       "    </tr>\n",
       "    <tr>\n",
       "      <th>SBP</th>\n",
       "      <td>-0.168796</td>\n",
       "      <td>0.275981</td>\n",
       "      <td>1.000000</td>\n",
       "      <td>0.743006</td>\n",
       "      <td>0.186501</td>\n",
       "      <td>-0.310757</td>\n",
       "      <td>0.304383</td>\n",
       "    </tr>\n",
       "    <tr>\n",
       "      <th>DBP</th>\n",
       "      <td>-0.190420</td>\n",
       "      <td>0.134484</td>\n",
       "      <td>0.743006</td>\n",
       "      <td>1.000000</td>\n",
       "      <td>0.138717</td>\n",
       "      <td>-0.193525</td>\n",
       "      <td>0.275492</td>\n",
       "    </tr>\n",
       "    <tr>\n",
       "      <th>FBS</th>\n",
       "      <td>-0.101150</td>\n",
       "      <td>0.213951</td>\n",
       "      <td>0.186501</td>\n",
       "      <td>0.138717</td>\n",
       "      <td>1.000000</td>\n",
       "      <td>-0.315935</td>\n",
       "      <td>0.173688</td>\n",
       "    </tr>\n",
       "    <tr>\n",
       "      <th>DIS</th>\n",
       "      <td>-0.004797</td>\n",
       "      <td>-0.478049</td>\n",
       "      <td>-0.310757</td>\n",
       "      <td>-0.193525</td>\n",
       "      <td>-0.315935</td>\n",
       "      <td>1.000000</td>\n",
       "      <td>-0.200107</td>\n",
       "    </tr>\n",
       "    <tr>\n",
       "      <th>BMI</th>\n",
       "      <td>-0.170833</td>\n",
       "      <td>0.088089</td>\n",
       "      <td>0.304383</td>\n",
       "      <td>0.275492</td>\n",
       "      <td>0.173688</td>\n",
       "      <td>-0.200107</td>\n",
       "      <td>1.000000</td>\n",
       "    </tr>\n",
       "  </tbody>\n",
       "</table>\n",
       "</div>"
      ],
      "text/plain": [
       "            SEX     BTH_G       SBP       DBP       FBS       DIS       BMI\n",
       "SEX    1.000000  0.085226 -0.168796 -0.190420 -0.101150 -0.004797 -0.170833\n",
       "BTH_G  0.085226  1.000000  0.275981  0.134484  0.213951 -0.478049  0.088089\n",
       "SBP   -0.168796  0.275981  1.000000  0.743006  0.186501 -0.310757  0.304383\n",
       "DBP   -0.190420  0.134484  0.743006  1.000000  0.138717 -0.193525  0.275492\n",
       "FBS   -0.101150  0.213951  0.186501  0.138717  1.000000 -0.315935  0.173688\n",
       "DIS   -0.004797 -0.478049 -0.310757 -0.193525 -0.315935  1.000000 -0.200107\n",
       "BMI   -0.170833  0.088089  0.304383  0.275492  0.173688 -0.200107  1.000000"
      ]
     },
     "execution_count": 18,
     "metadata": {},
     "output_type": "execute_result"
    }
   ],
   "source": [
    "diabetes.corr()"
   ]
  },
  {
   "cell_type": "code",
   "execution_count": 29,
   "id": "5df9191a",
   "metadata": {},
   "outputs": [
    {
     "data": {
      "image/png": "[encoded data removed]",
      "text/plain": [
       "<Figure size 576x576 with 1 Axes>"
      ]
     },
     "metadata": {
      "needs_background": "light"
     },
     "output_type": "display_data"
    }
   ],
   "source": [
    "DBP = np.array(diabetes['DBP'])\n",
    "FBS = np.array(diabetes['FBS'])\n",
    "\n",
    "fig = plt.figure(figsize=(8,8))\n",
    "ax = fig.add_subplot(111)\n",
    "\n",
    "ax.scatter(DBP,FBS)\n",
    "ax.set_xlabel('DBP')\n",
    "ax.set_ylabel('FBS')\n",
    "\n",
    "plt.show()"
   ]
  },
  {
   "cell_type": "code",
   "execution_count": 31,
   "id": "9dee2342",
   "metadata": {},
   "outputs": [
    {
     "data": {
      "image/png": "[encoded data removed]",
      "text/plain": [
       "<Figure size 720x576 with 2 Axes>"
      ]
     },
     "metadata": {
      "needs_background": "light"
     },
     "output_type": "display_data"
    }
   ],
   "source": [
    "fig = plt.figure(figsize=(10,8))\n",
    "ax = fig.add_subplot(111)\n",
    "\n",
    "c = ax.hist2d(DBP, FBS,\n",
    "             bins=[9,8], range=[(35,80),(55,95)])\n",
    "ax.set_xlabel('DBP')\n",
    "ax.set_ylabel('FBS')\n",
    "ax.set_xticks(c[1])\n",
    "ax.set_yticks(c[2])\n",
    "\n",
    "fig.colorbar(c[3],ax=ax)\n",
    "plt.show()"
   ]
  },
  {
   "cell_type": "code",
   "execution_count": null,
   "id": "3837876c",
   "metadata": {},
   "outputs": [],
   "source": []
  },
  {
   "cell_type": "markdown",
   "id": "3850e7c1",
   "metadata": {},
   "source": [
    "### 앤스컴의 예"
   ]
  },
  {
   "cell_type": "code",
   "execution_count": 33,
   "id": "3e3df008",
   "metadata": {},
   "outputs": [
    {
     "name": "stdout",
     "output_type": "stream",
     "text": [
      "(4, 11, 2)\n"
     ]
    },
    {
     "data": {
      "text/plain": [
       "array([[[10.  ,  8.04],\n",
       "        [ 8.  ,  6.95],\n",
       "        [13.  ,  7.58],\n",
       "        [ 9.  ,  8.81],\n",
       "        [11.  ,  8.33],\n",
       "        [14.  ,  9.96],\n",
       "        [ 6.  ,  7.24],\n",
       "        [ 4.  ,  4.26],\n",
       "        [12.  , 10.84],\n",
       "        [ 7.  ,  4.82],\n",
       "        [ 5.  ,  5.68]],\n",
       "\n",
       "       [[10.  ,  9.14],\n",
       "        [ 8.  ,  8.14],\n",
       "        [13.  ,  8.74],\n",
       "        [ 9.  ,  8.77],\n",
       "        [11.  ,  9.26],\n",
       "        [14.  ,  8.1 ],\n",
       "        [ 6.  ,  6.13],\n",
       "        [ 4.  ,  3.1 ],\n",
       "        [12.  ,  9.13],\n",
       "        [ 7.  ,  7.26],\n",
       "        [ 5.  ,  4.74]],\n",
       "\n",
       "       [[10.  ,  7.46],\n",
       "        [ 8.  ,  6.77],\n",
       "        [13.  , 12.74],\n",
       "        [ 9.  ,  7.11],\n",
       "        [11.  ,  7.81],\n",
       "        [14.  ,  8.84],\n",
       "        [ 6.  ,  6.08],\n",
       "        [ 4.  ,  5.39],\n",
       "        [12.  ,  8.15],\n",
       "        [ 7.  ,  6.42],\n",
       "        [ 5.  ,  5.73]],\n",
       "\n",
       "       [[ 8.  ,  6.58],\n",
       "        [ 8.  ,  5.76],\n",
       "        [ 8.  ,  7.71],\n",
       "        [ 8.  ,  8.84],\n",
       "        [ 8.  ,  8.47],\n",
       "        [ 8.  ,  7.04],\n",
       "        [ 8.  ,  5.25],\n",
       "        [19.  , 12.5 ],\n",
       "        [ 8.  ,  5.56],\n",
       "        [ 8.  ,  7.91],\n",
       "        [ 8.  ,  6.89]]])"
      ]
     },
     "execution_count": 33,
     "metadata": {},
     "output_type": "execute_result"
    }
   ],
   "source": [
    "anscombe_data = np.load('./ch3_anscombe.npy')\n",
    "print(anscombe_data.shape)\n",
    "anscombe_data"
   ]
  },
  {
   "cell_type": "code",
   "execution_count": 36,
   "id": "2520dcc9",
   "metadata": {},
   "outputs": [
    {
     "data": {
      "text/html": [
       "<div>\n",
       "<style scoped>\n",
       "    .dataframe tbody tr th:only-of-type {\n",
       "        vertical-align: middle;\n",
       "    }\n",
       "\n",
       "    .dataframe tbody tr th {\n",
       "        vertical-align: top;\n",
       "    }\n",
       "\n",
       "    .dataframe thead th {\n",
       "        text-align: right;\n",
       "    }\n",
       "</style>\n",
       "<table border=\"1\" class=\"dataframe\">\n",
       "  <thead>\n",
       "    <tr style=\"text-align: right;\">\n",
       "      <th></th>\n",
       "      <th>data1</th>\n",
       "      <th>data2</th>\n",
       "      <th>data3</th>\n",
       "      <th>data4</th>\n",
       "    </tr>\n",
       "  </thead>\n",
       "  <tbody>\n",
       "    <tr>\n",
       "      <th>X_mean</th>\n",
       "      <td>9.00</td>\n",
       "      <td>9.00</td>\n",
       "      <td>9.00</td>\n",
       "      <td>9.00</td>\n",
       "    </tr>\n",
       "    <tr>\n",
       "      <th>X_variance</th>\n",
       "      <td>10.00</td>\n",
       "      <td>10.00</td>\n",
       "      <td>10.00</td>\n",
       "      <td>10.00</td>\n",
       "    </tr>\n",
       "    <tr>\n",
       "      <th>Y_mean</th>\n",
       "      <td>7.50</td>\n",
       "      <td>7.50</td>\n",
       "      <td>7.50</td>\n",
       "      <td>7.50</td>\n",
       "    </tr>\n",
       "    <tr>\n",
       "      <th>Y_variance</th>\n",
       "      <td>3.75</td>\n",
       "      <td>3.75</td>\n",
       "      <td>3.75</td>\n",
       "      <td>3.75</td>\n",
       "    </tr>\n",
       "    <tr>\n",
       "      <th>X&amp;Y_correlation</th>\n",
       "      <td>0.82</td>\n",
       "      <td>0.82</td>\n",
       "      <td>0.82</td>\n",
       "      <td>0.82</td>\n",
       "    </tr>\n",
       "    <tr>\n",
       "      <th>X&amp;Y_regression line</th>\n",
       "      <td>3.00+0.50x</td>\n",
       "      <td>3.00+0.50x</td>\n",
       "      <td>3.00+0.50x</td>\n",
       "      <td>3.00+0.50x</td>\n",
       "    </tr>\n",
       "  </tbody>\n",
       "</table>\n",
       "</div>"
      ],
      "text/plain": [
       "                          data1       data2       data3       data4\n",
       "X_mean                     9.00        9.00        9.00        9.00\n",
       "X_variance                10.00       10.00       10.00       10.00\n",
       "Y_mean                     7.50        7.50        7.50        7.50\n",
       "Y_variance                 3.75        3.75        3.75        3.75\n",
       "X&Y_correlation            0.82        0.82        0.82        0.82\n",
       "X&Y_regression line  3.00+0.50x  3.00+0.50x  3.00+0.50x  3.00+0.50x"
      ]
     },
     "execution_count": 36,
     "metadata": {},
     "output_type": "execute_result"
    }
   ],
   "source": [
    "stats_df = pd.DataFrame(index=['X_mean','X_variance','Y_mean',\n",
    "                              'Y_variance','X&Y_correlation',\n",
    "                              'X&Y_regression line'])\n",
    "\n",
    "for i, data in enumerate(anscombe_data):\n",
    "    dataX = data[:,0]\n",
    "    dataY = data[:,1]\n",
    "    poly_fit = np.polyfit(dataX,dataY,1)\n",
    "    stats_df[f'data{i+1}'] =\\\n",
    "        [f'{np.mean(dataX):.2f}',\n",
    "        f'{np.var(dataX):.2f}',\n",
    "        f'{np.mean(dataY):.2f}',\n",
    "        f'{np.var(dataY):.2f}',\n",
    "        f'{np.corrcoef(dataX,dataY)[0,1]:.2f}',\n",
    "        f'{poly_fit[1]:.2f}+{poly_fit[0]:.2f}x']\n",
    "stats_df\n"
   ]
  },
  {
   "cell_type": "code",
   "execution_count": 37,
   "id": "0d28b940",
   "metadata": {
    "scrolled": true
   },
   "outputs": [
    {
     "data": {
      "image/png": "[encoded data removed]",
      "text/plain": [
       "<Figure size 720x720 with 4 Axes>"
      ]
     },
     "metadata": {
      "needs_background": "light"
     },
     "output_type": "display_data"
    }
   ],
   "source": [
    "fig,axes = plt.subplots(nrows=2, ncols=2, figsize=(10,10),\n",
    "                       sharex=True, sharey=True)\n",
    "\n",
    "xs = np.linspace(0,30,100)\n",
    "for i, data in enumerate(anscombe_data):\n",
    "    poly_fit = np.polyfit(data[:,0], data[:,1],1)\n",
    "    poly_1d = np.poly1d(poly_fit)\n",
    "    ys = poly_1d(xs)\n",
    "    \n",
    "    #그리는 영역을 선택\n",
    "    ax = axes[i//2,i%2]\n",
    "    ax.set_xlim([4,20])\n",
    "    ax.set_ylim([3,13])\n",
    "    \n",
    "    #타이틀을 부여\n",
    "    ax.set_title(f'data{i+1}')\n",
    "    ax.scatter(data[:,0],data[:,1])\n",
    "    ax.plot(xs, ys, color='gray')\n",
    "    \n",
    "# 그래프 사이의 간격을 좁힌다\n",
    "plt.tight_layout()\n",
    "plt.show()"
   ]
  },
  {
   "cell_type": "markdown",
   "id": "42d17f4d",
   "metadata": {},
   "source": [
    "#### polyfit 함수 사용법 \n",
    "poly(x,y,차수) 형태로 이용 "
   ]
  },
  {
   "cell_type": "code",
   "execution_count": 42,
   "id": "d77e2ca5",
   "metadata": {},
   "outputs": [
    {
     "name": "stdout",
     "output_type": "stream",
     "text": [
      "[ 3.314 -3.6  ]\n"
     ]
    }
   ],
   "source": [
    "x = [1,2,3,4,5,6]\n",
    "y = [1,3,6,8,11,19]\n",
    "\n",
    "print(np.polyfit(x,y,1))\n",
    "\n",
    "#y = 3.314x - 3.6\n",
    "#걍 n차 방정식 만들어주는.. ... "
   ]
  },
  {
   "cell_type": "code",
   "execution_count": 43,
   "id": "a390e168",
   "metadata": {},
   "outputs": [
    {
     "data": {
      "image/png": "[encoded data removed]",
      "text/plain": [
       "<Figure size 432x288 with 1 Axes>"
      ]
     },
     "metadata": {
      "needs_background": "light"
     },
     "output_type": "display_data"
    }
   ],
   "source": [
    "poly = np.polyfit(x,y,1)\n",
    "y_pred = np.array(x) * poly[0] + poly[1]\n",
    "\n",
    "plt.plot(x,y_pred, color='b')\n",
    "plt.scatter(x, y, color = 'r')\n",
    "plt.show()"
   ]
  },
  {
   "cell_type": "code",
   "execution_count": 44,
   "id": "aa4cc415",
   "metadata": {},
   "outputs": [
    {
     "data": {
      "image/png": "[encoded data removed]",
      "text/plain": [
       "<Figure size 432x288 with 1 Axes>"
      ]
     },
     "metadata": {
      "needs_background": "light"
     },
     "output_type": "display_data"
    }
   ],
   "source": [
    "poly = np.polyfit(x, y, 2)\n",
    "x_line = np.linspace(1,6,100)#곡선을 완만하게그리기위한 linspace 객체 선언\n",
    "y_pred = x_line**2*poly[0]+x_line*poly[1]+poly[2] #0.53571429x^2 + 0.43571429x + 1.4\n",
    "\n",
    "plt.plot(x_line, y_pred, color='b')\n",
    "plt.scatter(x,y,color='r')\n",
    "plt.show()"
   ]
  },
  {
   "cell_type": "code",
   "execution_count": 45,
   "id": "ad6920ce",
   "metadata": {},
   "outputs": [
    {
     "data": {
      "image/png": "[encoded data removed]",
      "text/plain": [
       "<Figure size 432x288 with 1 Axes>"
      ]
     },
     "metadata": {
      "needs_background": "light"
     },
     "output_type": "display_data"
    }
   ],
   "source": [
    "#5차 \n",
    "poly = np.polyfit(x, y, 5)\n",
    "x_line = np.linspace(1,6,100)#곡선을 완만하게그리기위한 linspace 객체 선언\n",
    "y_pred = np.zeros_like(x_line) #예측값을 담을 그릇(모든 값이 0인 배열)\n",
    "#y_pred = x_line**5*poly[0] + x_line**4*poly[1]+x_line**3*poly[2]+x_line**2*poly[3]+x_line*poly[4]+poly[5] \n",
    "\n",
    "for i in range(6):\n",
    "    y_pred += x_line**(5-i)*poly[i]\n",
    "\n",
    "plt.plot(x_line, y_pred, color='b')\n",
    "plt.scatter(x,y,color='r')\n",
    "plt.show()"
   ]
  },
  {
   "cell_type": "markdown",
   "id": "caa20778",
   "metadata": {},
   "source": [
    "#### [과제_0824_1]\n",
    "p.84~112 코드문제를 모두 풀어보세요."
   ]
  },
  {
   "cell_type": "markdown",
   "id": "f53b22fd",
   "metadata": {},
   "source": [
    "#### [과제_0824_2]\n",
    "적절한 데이터를 생성하고 polyfit을 이용하여 2,3차 방정식을 만든 후 산점도 및 회귀식을 시각화하여 그 의미를 해석하세요."
   ]
  },
  {
   "cell_type": "markdown",
   "id": "4cd7d8fe",
   "metadata": {},
   "source": [
    "#### [과제_0824_3]\n",
    "\"어떤 모집단에서 표본을 랜덤하게 추출하여 표본평균을 구하면 그 표본평균은 모평균을 중심으로 분포한다.\"라는 주장을\n",
    "사례를 만들어서 설득력있게 설명하세요."
   ]
  },
  {
   "cell_type": "markdown",
   "id": "a35632aa",
   "metadata": {},
   "source": [
    " ## 추측통계의 기본"
   ]
  },
  {
   "cell_type": "markdown",
   "id": "cb8c7ca9",
   "metadata": {},
   "source": [
    "### 모집단과 표본"
   ]
  },
  {
   "cell_type": "code",
   "execution_count": 47,
   "id": "72d4c8c4",
   "metadata": {},
   "outputs": [
    {
     "data": {
      "text/plain": [
       "array([42, 69, 56, 41, 57, 48, 65, 49, 65, 58], dtype=int64)"
      ]
     },
     "execution_count": 47,
     "metadata": {},
     "output_type": "execute_result"
    }
   ],
   "source": [
    "df = pd.read_csv('./ch2_scores_em.csv')\n",
    "scores = np.array(df['english'])\n",
    "scores[:10]"
   ]
  },
  {
   "cell_type": "code",
   "execution_count": 50,
   "id": "0310857d",
   "metadata": {},
   "outputs": [
    {
     "data": {
      "text/plain": [
       "array([2, 1, 1])"
      ]
     },
     "execution_count": 50,
     "metadata": {},
     "output_type": "execute_result"
    }
   ],
   "source": [
    "np.random.choice([1,2,3],3)"
   ]
  },
  {
   "cell_type": "code",
   "execution_count": 54,
   "id": "ed446321",
   "metadata": {},
   "outputs": [
    {
     "data": {
      "text/plain": [
       "array([1, 3, 2])"
      ]
     },
     "execution_count": 54,
     "metadata": {},
     "output_type": "execute_result"
    }
   ],
   "source": [
    "# 중복 없이 랜덤 추출\n",
    "np.random.choice([1,2,3],3,replace=False)"
   ]
  },
  {
   "cell_type": "code",
   "execution_count": 55,
   "id": "0ef9cf24",
   "metadata": {},
   "outputs": [
    {
     "data": {
      "text/plain": [
       "array([1, 2, 1])"
      ]
     },
     "execution_count": 55,
     "metadata": {},
     "output_type": "execute_result"
    }
   ],
   "source": [
    "np.random.seed(0)\n",
    "np.random.choice([1,2,3],3)"
   ]
  },
  {
   "cell_type": "code",
   "execution_count": 56,
   "id": "4fef848e",
   "metadata": {},
   "outputs": [
    {
     "data": {
      "text/plain": [
       "54.550"
      ]
     },
     "execution_count": 56,
     "metadata": {},
     "output_type": "execute_result"
    }
   ],
   "source": [
    "# 표본 추출 후 평균\n",
    "np.random.seed(0)\n",
    "sample = np.random.choice(scores,20)\n",
    "sample.mean()"
   ]
  },
  {
   "cell_type": "code",
   "execution_count": 57,
   "id": "5ac1299b",
   "metadata": {},
   "outputs": [
    {
     "data": {
      "text/plain": [
       "58.380"
      ]
     },
     "execution_count": 57,
     "metadata": {},
     "output_type": "execute_result"
    }
   ],
   "source": [
    "# 모평균\n",
    "scores.mean()"
   ]
  },
  {
   "cell_type": "code",
   "execution_count": 58,
   "id": "00048e89",
   "metadata": {},
   "outputs": [
    {
     "name": "stdout",
     "output_type": "stream",
     "text": [
      "1번째 무작위추출로 얻은 표본평균 59.25\n",
      "2번째 무작위추출로 얻은 표본평균 55.95\n",
      "3번째 무작위추출로 얻은 표본평균 61.2\n",
      "4번째 무작위추출로 얻은 표본평균 60.7\n",
      "5번째 무작위추출로 얻은 표본평균 54.8\n"
     ]
    }
   ],
   "source": [
    "for i in range(5):\n",
    "    sample = np.random.choice(scores,20)\n",
    "    print(f'{i+1}번째 무작위추출로 얻은 표본평균',sample.mean())"
   ]
  },
  {
   "cell_type": "markdown",
   "id": "f373f56b",
   "metadata": {},
   "source": [
    "### 확률 모형"
   ]
  },
  {
   "cell_type": "markdown",
   "id": "4cfabafa",
   "metadata": {},
   "source": [
    "#### 확률의 기본"
   ]
  },
  {
   "cell_type": "markdown",
   "id": "9d74be38",
   "metadata": {},
   "source": [
    "확률모형 : 확률을 사용해 무작위추출 모델링\n",
    "확률변수 : 그 값이 나올 확률이 결정되어 있는 것\n",
    "시행 : 확률변수의 결과를 관측하는 것\n",
    "실현값 : 시행에 의해 관측되는 값\n",
    "사건 : 시행 결과로 나타날 수 있는 일\n",
    "근원사건 : 더 세부적으로 분해할 수 없는 사건\n",
    "상호배반 : 각 사건이 동시에 일어날 수 없다는 뜻"
   ]
  },
  {
   "cell_type": "markdown",
   "id": "9560e8f5",
   "metadata": {},
   "source": [
    "#### 확률분포"
   ]
  },
  {
   "cell_type": "code",
   "execution_count": 59,
   "id": "9a3c2f58",
   "metadata": {},
   "outputs": [],
   "source": [
    "# 특정한 눈이 나오기 쉬운 불공정한 주사위\n",
    "dice = [1,2,3,4,5,6]\n",
    "prob = [1/21, 2/21, 3/21, 4/21, 5/21, 6/21]"
   ]
  },
  {
   "cell_type": "code",
   "execution_count": 60,
   "id": "989b8238",
   "metadata": {},
   "outputs": [
    {
     "data": {
      "text/plain": [
       "6"
      ]
     },
     "execution_count": 60,
     "metadata": {},
     "output_type": "execute_result"
    }
   ],
   "source": [
    "np.random.choice(dice,p=prob)"
   ]
  },
  {
   "cell_type": "code",
   "execution_count": 61,
   "id": "a9ade8fb",
   "metadata": {},
   "outputs": [
    {
     "data": {
      "text/plain": [
       "array([1, 3, 2, 4, 2, 4, 4, 2, 5, 5, 3, 5, 2, 5, 6, 4, 5, 2, 6, 4, 3, 5,\n",
       "       1, 6, 1, 5, 3, 6, 6, 3, 5, 5, 5, 3, 6, 4, 6, 5, 4, 6, 4, 6, 5, 6,\n",
       "       5, 6, 5, 6, 5, 4, 5, 1, 4, 5, 4, 5, 4, 2, 4, 5, 5, 5, 5, 5, 4, 6,\n",
       "       4, 4, 6, 6, 5, 2, 6, 5, 6, 3, 6, 3, 5, 2, 6, 6, 5, 4, 2, 5, 4, 6,\n",
       "       6, 6, 6, 1, 4, 6, 3, 5, 2, 3, 1, 6])"
      ]
     },
     "execution_count": 61,
     "metadata": {},
     "output_type": "execute_result"
    }
   ],
   "source": [
    "num_trial = 100\n",
    "sample = np.random.choice(dice, num_trial, p=prob)\n",
    "sample"
   ]
  },
  {
   "cell_type": "code",
   "execution_count": 62,
   "id": "2deaa65f",
   "metadata": {},
   "outputs": [
    {
     "data": {
      "text/html": [
       "<div>\n",
       "<style scoped>\n",
       "    .dataframe tbody tr th:only-of-type {\n",
       "        vertical-align: middle;\n",
       "    }\n",
       "\n",
       "    .dataframe tbody tr th {\n",
       "        vertical-align: top;\n",
       "    }\n",
       "\n",
       "    .dataframe thead th {\n",
       "        text-align: right;\n",
       "    }\n",
       "</style>\n",
       "<table border=\"1\" class=\"dataframe\">\n",
       "  <thead>\n",
       "    <tr style=\"text-align: right;\">\n",
       "      <th></th>\n",
       "      <th>frequency</th>\n",
       "      <th>relative frequency</th>\n",
       "    </tr>\n",
       "    <tr>\n",
       "      <th>dice</th>\n",
       "      <th></th>\n",
       "      <th></th>\n",
       "    </tr>\n",
       "  </thead>\n",
       "  <tbody>\n",
       "    <tr>\n",
       "      <th>1</th>\n",
       "      <td>6</td>\n",
       "      <td>0.06</td>\n",
       "    </tr>\n",
       "    <tr>\n",
       "      <th>2</th>\n",
       "      <td>10</td>\n",
       "      <td>0.10</td>\n",
       "    </tr>\n",
       "    <tr>\n",
       "      <th>3</th>\n",
       "      <td>10</td>\n",
       "      <td>0.10</td>\n",
       "    </tr>\n",
       "    <tr>\n",
       "      <th>4</th>\n",
       "      <td>19</td>\n",
       "      <td>0.19</td>\n",
       "    </tr>\n",
       "    <tr>\n",
       "      <th>5</th>\n",
       "      <td>29</td>\n",
       "      <td>0.29</td>\n",
       "    </tr>\n",
       "    <tr>\n",
       "      <th>6</th>\n",
       "      <td>26</td>\n",
       "      <td>0.26</td>\n",
       "    </tr>\n",
       "  </tbody>\n",
       "</table>\n",
       "</div>"
      ],
      "text/plain": [
       "      frequency  relative frequency\n",
       "dice                               \n",
       "1             6                0.06\n",
       "2            10                0.10\n",
       "3            10                0.10\n",
       "4            19                0.19\n",
       "5            29                0.29\n",
       "6            26                0.26"
      ]
     },
     "execution_count": 62,
     "metadata": {},
     "output_type": "execute_result"
    }
   ],
   "source": [
    "freq,_ = np.histogram(sample, bins=6, range=(1,7))\n",
    "pd.DataFrame({'frequency':freq,\n",
    "             'relative frequency':freq/num_trial},\n",
    "            index = pd.Index(np.arange(1,7), name='dice'))"
   ]
  },
  {
   "cell_type": "code",
   "execution_count": 65,
   "id": "d5138c20",
   "metadata": {},
   "outputs": [
    {
     "data": {
      "image/png": "[encoded data removed]",
      "text/plain": [
       "<Figure size 720x432 with 1 Axes>"
      ]
     },
     "metadata": {
      "needs_background": "light"
     },
     "output_type": "display_data"
    }
   ],
   "source": [
    "fig = plt.figure(figsize=(10,6))\n",
    "ax = fig.add_subplot(111)\n",
    "ax.hist(sample, bins=6, range=(1,7), density=True, rwidth=0.8)\n",
    "# 실제의 확률분포를 가로선으로 표시\n",
    "ax.hlines(prob,np.arange(1,7),np.arange(2,8), colors='gray')\n",
    "# 막대그래프의 [1.5,2.5,...6.5]에 눈금을 표시\n",
    "ax.set_xticks(np.linspace(1.5,6.5,6))\n",
    "# 주사위 눈의 값은 [1,2,3,4,5,6]\n",
    "ax.set_xticklabels(np.arange(1,7))\n",
    "ax.set_xlabel('dice')\n",
    "ax.set_ylabel('relative frequency')\n",
    "plt.show()"
   ]
  },
  {
   "cell_type": "code",
   "execution_count": 66,
   "id": "43d84757",
   "metadata": {},
   "outputs": [
    {
     "data": {
      "image/png": "[encoded data removed]",
      "text/plain": [
       "<Figure size 720x432 with 1 Axes>"
      ]
     },
     "metadata": {
      "needs_background": "light"
     },
     "output_type": "display_data"
    }
   ],
   "source": [
    "# 시행 횟수를 늘리면 실제의 확률분포와 비슷해진다.\n",
    "num_trial = 100000\n",
    "sample = np.random.choice(dice, num_trial, p=prob)\n",
    "\n",
    "fig = plt.figure(figsize=(10,6))\n",
    "ax = fig.add_subplot(111)\n",
    "ax.hist(sample, bins=6, range=(1,7), density=True, rwidth=0.8)\n",
    "\n",
    "# 실제의 확률분포를 가로선으로 표시\n",
    "ax.hlines(prob,np.arange(1,7),np.arange(2,8), colors='gray')\n",
    "\n",
    "# 막대그래프의 [1.5,2.5,...6.5]에 눈금을 표시\n",
    "ax.set_xticks(np.linspace(1.5,6.5,6))\n",
    "\n",
    "# 주사위 눈의 값은 [1,2,3,4,5,6]\n",
    "ax.set_xticklabels(np.arange(1,7))\n",
    "\n",
    "ax.set_xlabel('dice')\n",
    "ax.set_ylabel('relative frequency')\n",
    "plt.show()"
   ]
  },
  {
   "cell_type": "markdown",
   "id": "1b7c8175",
   "metadata": {},
   "source": [
    "### 추측통계의 확률"
   ]
  },
  {
   "cell_type": "code",
   "execution_count": 75,
   "id": "1a625df1",
   "metadata": {},
   "outputs": [
    {
     "data": {
      "image/png": "[encoded data removed]",
      "text/plain": [
       "<Figure size 720x432 with 1 Axes>"
      ]
     },
     "metadata": {
      "needs_background": "light"
     },
     "output_type": "display_data"
    }
   ],
   "source": [
    "fig = plt.figure(figsize=(10,6))\n",
    "ax = fig.add_subplot(111)\n",
    "ax.hist(scores, bins=100, range=(0,100), density=True)\n",
    "\n",
    "ax.set_xlim(20,100)\n",
    "ax.set_ylim(0,0.1)\n",
    "\n",
    "ax.set_xlabel('score')\n",
    "ax.set_ylabel('relative frequency')\n",
    "\n",
    "plt.show()"
   ]
  },
  {
   "cell_type": "code",
   "execution_count": 76,
   "id": "ea9a235f",
   "metadata": {},
   "outputs": [
    {
     "data": {
      "text/plain": [
       "57"
      ]
     },
     "execution_count": 76,
     "metadata": {},
     "output_type": "execute_result"
    }
   ],
   "source": [
    "np.random.choice(scores)"
   ]
  },
  {
   "cell_type": "code",
   "execution_count": 78,
   "id": "7473058a",
   "metadata": {},
   "outputs": [
    {
     "data": {
      "image/png": "[encoded data removed]",
      "text/plain": [
       "<Figure size 720x432 with 1 Axes>"
      ]
     },
     "metadata": {
      "needs_background": "light"
     },
     "output_type": "display_data"
    }
   ],
   "source": [
    "# 표본으로 히스토그램\n",
    "sample = np.random.choice(scores,10000)\n",
    "\n",
    "fig = plt.figure(figsize=(10,6))\n",
    "ax = fig.add_subplot(111)\n",
    "ax.hist(sample, bins=100, range=(0,100), density=True)\n",
    "\n",
    "ax.set_xlim(20,100)\n",
    "ax.set_ylim(0,0.1)\n",
    "\n",
    "ax.set_xlabel('score')\n",
    "ax.set_ylabel('relative frequency')\n",
    "\n",
    "plt.show()"
   ]
  },
  {
   "cell_type": "code",
   "execution_count": 82,
   "id": "8daa9903",
   "metadata": {},
   "outputs": [
    {
     "data": {
      "image/png": "[encoded data removed]",
      "text/plain": [
       "<Figure size 720x432 with 1 Axes>"
      ]
     },
     "metadata": {
      "needs_background": "light"
     },
     "output_type": "display_data"
    }
   ],
   "source": [
    "# 표본으로 히스토그램\n",
    "sample_means = [np.random.choice(scores,20).mean()\n",
    "               for _ in range(10000)]\n",
    "\n",
    "fig = plt.figure(figsize=(10,6))\n",
    "ax = fig.add_subplot(111)\n",
    "ax.hist(sample_means, bins=100, range=(0,100), density=True)\n",
    "\n",
    "# 모평균을 세로선으로 표시\n",
    "ax.vlines(np.mean(scores),0,1,'gray')\n",
    "\n",
    "ax.set_xlim(50,90)\n",
    "ax.set_ylim(0,0.2)\n",
    "\n",
    "ax.set_xlabel('score')\n",
    "ax.set_ylabel('relative frequency')\n",
    "\n",
    "plt.show()"
   ]
  },
  {
   "cell_type": "code",
   "execution_count": null,
   "id": "7484dd79",
   "metadata": {},
   "outputs": [],
   "source": []
  }
 ],
 "metadata": {
  "kernelspec": {
   "display_name": "Python 3 (ipykernel)",
   "language": "python",
   "name": "python3"
  },
  "language_info": {
   "codemirror_mode": {
    "name": "ipython",
    "version": 3
   },
   "file_extension": ".py",
   "mimetype": "text/x-python",
   "name": "python",
   "nbconvert_exporter": "python",
   "pygments_lexer": "ipython3",
   "version": "3.8.13"
  },
  "toc": {
   "base_numbering": 1,
   "nav_menu": {},
   "number_sections": true,
   "sideBar": true,
   "skip_h1_title": false,
   "title_cell": "Table of Contents",
   "title_sidebar": "Contents",
   "toc_cell": false,
   "toc_position": {},
   "toc_section_display": true,
   "toc_window_display": true
  }
 },
 "nbformat": 4,
 "nbformat_minor": 5
}
