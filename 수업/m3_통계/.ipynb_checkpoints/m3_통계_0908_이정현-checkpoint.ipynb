{
 "cells": [
  {
   "cell_type": "markdown",
   "metadata": {},
   "source": [
    "## 빅데이터 기반 AI 응용 솔루션 개발자 전문과정\n",
    "\n",
    "### 교과목명 : 통계\n",
    "- 평가일 : 22.09.08\n",
    "- 성명 : 이정현\n",
    "- 점수 : 85점"
   ]
  },
  {
   "cell_type": "markdown",
   "metadata": {},
   "source": [
    "Q1. df에서 mathematics 점수의 평균값, 중앙값, 최빈값, 분산, 표준편차, 범위, IQR을 구하세요."
   ]
  },
  {
   "cell_type": "code",
   "execution_count": 1,
   "metadata": {},
   "outputs": [
    {
     "data": {
      "text/html": [
       "<div>\n",
       "<style scoped>\n",
       "    .dataframe tbody tr th:only-of-type {\n",
       "        vertical-align: middle;\n",
       "    }\n",
       "\n",
       "    .dataframe tbody tr th {\n",
       "        vertical-align: top;\n",
       "    }\n",
       "\n",
       "    .dataframe thead th {\n",
       "        text-align: right;\n",
       "    }\n",
       "</style>\n",
       "<table border=\"1\" class=\"dataframe\">\n",
       "  <thead>\n",
       "    <tr style=\"text-align: right;\">\n",
       "      <th></th>\n",
       "      <th>english</th>\n",
       "      <th>mathematics</th>\n",
       "    </tr>\n",
       "    <tr>\n",
       "      <th>student number</th>\n",
       "      <th></th>\n",
       "      <th></th>\n",
       "    </tr>\n",
       "  </thead>\n",
       "  <tbody>\n",
       "    <tr>\n",
       "      <th>1</th>\n",
       "      <td>42</td>\n",
       "      <td>65</td>\n",
       "    </tr>\n",
       "    <tr>\n",
       "      <th>2</th>\n",
       "      <td>69</td>\n",
       "      <td>80</td>\n",
       "    </tr>\n",
       "    <tr>\n",
       "      <th>3</th>\n",
       "      <td>56</td>\n",
       "      <td>63</td>\n",
       "    </tr>\n",
       "    <tr>\n",
       "      <th>4</th>\n",
       "      <td>41</td>\n",
       "      <td>63</td>\n",
       "    </tr>\n",
       "    <tr>\n",
       "      <th>5</th>\n",
       "      <td>57</td>\n",
       "      <td>76</td>\n",
       "    </tr>\n",
       "  </tbody>\n",
       "</table>\n",
       "</div>"
      ],
      "text/plain": [
       "                english  mathematics\n",
       "student number                      \n",
       "1                    42           65\n",
       "2                    69           80\n",
       "3                    56           63\n",
       "4                    41           63\n",
       "5                    57           76"
      ]
     },
     "execution_count": 1,
     "metadata": {},
     "output_type": "execute_result"
    }
   ],
   "source": [
    "import numpy as np\n",
    "import pandas as pd\n",
    "df = pd.read_csv('ch2_scores_em.csv',\n",
    "                 index_col='student number')\n",
    "df.head()"
   ]
  },
  {
   "cell_type": "code",
   "execution_count": 3,
   "metadata": {
    "scrolled": true
   },
   "outputs": [
    {
     "data": {
      "text/plain": [
       "student number\n",
       "1     65\n",
       "2     80\n",
       "3     63\n",
       "4     63\n",
       "5     76\n",
       "6     60\n",
       "7     81\n",
       "8     66\n",
       "9     78\n",
       "10    82\n",
       "11    94\n",
       "12    75\n",
       "13    70\n",
       "14    77\n",
       "15    84\n",
       "16    84\n",
       "17    82\n",
       "18    85\n",
       "19    90\n",
       "20    70\n",
       "21    78\n",
       "22    93\n",
       "23    77\n",
       "24    88\n",
       "25    82\n",
       "26    76\n",
       "27    87\n",
       "28    84\n",
       "29    77\n",
       "30    82\n",
       "31    91\n",
       "32    75\n",
       "33    76\n",
       "34    78\n",
       "35    57\n",
       "36    89\n",
       "37    83\n",
       "38    69\n",
       "39    86\n",
       "40    81\n",
       "41    81\n",
       "42    80\n",
       "43    79\n",
       "44    87\n",
       "45    84\n",
       "46    71\n",
       "47    80\n",
       "48    77\n",
       "49    83\n",
       "50    88\n",
       "Name: mathematics, dtype: int64"
      ]
     },
     "execution_count": 3,
     "metadata": {},
     "output_type": "execute_result"
    }
   ],
   "source": [
    "mathematics = df['mathematics']\n",
    "mathematics"
   ]
  },
  {
   "cell_type": "code",
   "execution_count": 10,
   "metadata": {},
   "outputs": [
    {
     "name": "stdout",
     "output_type": "stream",
     "text": [
      "78.88 \n",
      " 80.0 \n",
      " 0    77\n",
      "1    82\n",
      "2    84\n",
      "Name: mathematics, dtype: int64 \n",
      " 70.80163265306118 \n",
      " 8.414370603500965 \n",
      " 37 \n",
      "\n"
     ]
    }
   ],
   "source": [
    "m_mean = mathematics.mean()\n",
    "m_med = mathematics.median()\n",
    "m_mode = mathematics.mode()\n",
    "m_var = mathematics.var()\n",
    "m_std = mathematics.std()\n",
    "m_range = np.max(mathematics) - np.min(mathematics)\n",
    "print(m_mean,'\\n',m_med,'\\n',m_mode,'\\n',m_var,'\\n',m_std,'\\n',m_range,'\\n')"
   ]
  },
  {
   "cell_type": "code",
   "execution_count": 11,
   "metadata": {},
   "outputs": [
    {
     "data": {
      "text/plain": [
       "8.0"
      ]
     },
     "execution_count": 11,
     "metadata": {},
     "output_type": "execute_result"
    }
   ],
   "source": [
    "mathematics_Q1 = np.percentile(mathematics,25)\n",
    "mathematics_Q3 = np.percentile(mathematics,75)\n",
    "mathematics_IQR = mathematics_Q3 - mathematics_Q1\n",
    "mathematics_IQR"
   ]
  },
  {
   "cell_type": "markdown",
   "metadata": {},
   "source": [
    "Q2. df.english를 표준화한 후 배열로 변환하여 처음 5개 원소를 출력하세요."
   ]
  },
  {
   "cell_type": "code",
   "execution_count": 12,
   "metadata": {},
   "outputs": [
    {
     "data": {
      "text/plain": [
       "pandas.core.series.Series"
      ]
     },
     "execution_count": 12,
     "metadata": {},
     "output_type": "execute_result"
    }
   ],
   "source": [
    "score = df.english\n",
    "type(score)"
   ]
  },
  {
   "cell_type": "code",
   "execution_count": 21,
   "metadata": {},
   "outputs": [
    {
     "data": {
      "text/plain": [
       "array([-1.68843012,  1.09469645, -0.24532745, -1.79150888, -0.14224869])"
      ]
     },
     "execution_count": 21,
     "metadata": {},
     "output_type": "execute_result"
    }
   ],
   "source": [
    "z = (score - np.mean(score))/np.std(score)\n",
    "z = np.array(z)\n",
    "z[:5]"
   ]
  },
  {
   "cell_type": "markdown",
   "metadata": {},
   "source": [
    "Q3. score에 대하여 다음사항을 수행하세요.\n",
    "- 상자그림으로 시각화하여 이상치 여부를 탐색\n",
    "- 이상치 값 및 인덱스 출력\n",
    "- 이상치 삭제\n",
    "- 상자그림으로 시각화하여 이상치 제거 여부 재확인."
   ]
  },
  {
   "cell_type": "code",
   "execution_count": 23,
   "metadata": {},
   "outputs": [
    {
     "data": {
      "image/png": "[encoded data removed]",
      "text/plain": [
       "<Figure size 360x432 with 1 Axes>"
      ]
     },
     "metadata": {
      "needs_background": "light"
     },
     "output_type": "display_data"
    }
   ],
   "source": [
    "from matplotlib import pyplot as plt\n",
    "\n",
    "fig = plt.figure(figsize=(5,6))\n",
    "ax = fig.add_subplot(111)\n",
    "ax.boxplot(score, labels=['score'])\n",
    "\n",
    "plt.show()"
   ]
  },
  {
   "cell_type": "code",
   "execution_count": 24,
   "metadata": {},
   "outputs": [
    {
     "data": {
      "text/plain": [
       "11.0"
      ]
     },
     "execution_count": 24,
     "metadata": {},
     "output_type": "execute_result"
    }
   ],
   "source": [
    "# 이상치 값\n",
    "score_Q1 = np.percentile(score,25)\n",
    "score_Q3 = np.percentile(score,75)\n",
    "score_IQR = score_Q3 - score_Q1\n",
    "score_IQR"
   ]
  },
  {
   "cell_type": "code",
   "execution_count": 31,
   "metadata": {},
   "outputs": [
    {
     "data": {
      "text/plain": [
       "(array([ 0,  1,  3,  5,  7, 10, 11, 12, 15, 16, 17, 18, 19, 23, 26, 28, 30,\n",
       "        33, 34, 35, 43, 45, 46, 49], dtype=int64),)"
      ]
     },
     "execution_count": 31,
     "metadata": {},
     "output_type": "execute_result"
    }
   ],
   "source": [
    "# 이상치에 해당하는 인덱스\n",
    "a = np.where((score<score_Q1)|((score>score_Q3)))\n",
    "a"
   ]
  },
  {
   "cell_type": "code",
   "execution_count": 32,
   "metadata": {},
   "outputs": [
    {
     "data": {
      "text/plain": [
       "(array([ 0,  1,  2,  3,  4,  5,  6,  7,  8,  9, 10, 11, 12, 13, 14, 15, 16,\n",
       "        17, 18, 19, 20, 21, 22, 23, 24, 25, 26, 27, 28, 29, 30, 31, 32, 33,\n",
       "        34, 35, 36, 37, 38, 39, 40, 41, 42, 43, 44, 45, 46, 47, 48, 49],\n",
       "       dtype=int64),)"
      ]
     },
     "execution_count": 32,
     "metadata": {},
     "output_type": "execute_result"
    }
   ],
   "source": [
    "# 이상치 제거\n",
    "b = np.where((score>=score_Q1)|((score<=score_Q3)))\n",
    "b"
   ]
  },
  {
   "cell_type": "code",
   "execution_count": 33,
   "metadata": {},
   "outputs": [
    {
     "data": {
      "image/png": "[encoded data removed]",
      "text/plain": [
       "<Figure size 360x432 with 1 Axes>"
      ]
     },
     "metadata": {
      "needs_background": "light"
     },
     "output_type": "display_data"
    }
   ],
   "source": [
    "fig = plt.figure(figsize=(5,6))\n",
    "ax = fig.add_subplot(111)\n",
    "ax.boxplot(b, labels=['score_q'])\n",
    "\n",
    "plt.show()"
   ]
  },
  {
   "cell_type": "markdown",
   "metadata": {},
   "source": [
    "Q4. 아래 scores_df에 대해서 아래사항을 수행하세요\n",
    "- scores_df.english와 scores_df.mathematics에 대한 공분산을 소수점 2째자리까지 출력\n",
    "- scores_df.english와 scores_df.mathematics에 대한 상관계수를 소수점 2째자리까지 출력\n",
    "- 두개 변수의 상관관계와 회귀직선을 시각화(회귀직선 포함 및 미포함 비교하여 1행 2열로 출력) \n",
    "- 두개 변수의 상관관계를 히트맵으로 시각화(칼러바 포함)"
   ]
  },
  {
   "cell_type": "code",
   "execution_count": 34,
   "metadata": {},
   "outputs": [
    {
     "data": {
      "text/html": [
       "<div>\n",
       "<style scoped>\n",
       "    .dataframe tbody tr th:only-of-type {\n",
       "        vertical-align: middle;\n",
       "    }\n",
       "\n",
       "    .dataframe tbody tr th {\n",
       "        vertical-align: top;\n",
       "    }\n",
       "\n",
       "    .dataframe thead th {\n",
       "        text-align: right;\n",
       "    }\n",
       "</style>\n",
       "<table border=\"1\" class=\"dataframe\">\n",
       "  <thead>\n",
       "    <tr style=\"text-align: right;\">\n",
       "      <th></th>\n",
       "      <th>english</th>\n",
       "      <th>mathematics</th>\n",
       "    </tr>\n",
       "    <tr>\n",
       "      <th>student</th>\n",
       "      <th></th>\n",
       "      <th></th>\n",
       "    </tr>\n",
       "  </thead>\n",
       "  <tbody>\n",
       "    <tr>\n",
       "      <th>A</th>\n",
       "      <td>42</td>\n",
       "      <td>65</td>\n",
       "    </tr>\n",
       "    <tr>\n",
       "      <th>B</th>\n",
       "      <td>69</td>\n",
       "      <td>80</td>\n",
       "    </tr>\n",
       "    <tr>\n",
       "      <th>C</th>\n",
       "      <td>56</td>\n",
       "      <td>63</td>\n",
       "    </tr>\n",
       "    <tr>\n",
       "      <th>D</th>\n",
       "      <td>41</td>\n",
       "      <td>63</td>\n",
       "    </tr>\n",
       "    <tr>\n",
       "      <th>E</th>\n",
       "      <td>57</td>\n",
       "      <td>76</td>\n",
       "    </tr>\n",
       "  </tbody>\n",
       "</table>\n",
       "</div>"
      ],
      "text/plain": [
       "         english  mathematics\n",
       "student                      \n",
       "A             42           65\n",
       "B             69           80\n",
       "C             56           63\n",
       "D             41           63\n",
       "E             57           76"
      ]
     },
     "execution_count": 34,
     "metadata": {},
     "output_type": "execute_result"
    }
   ],
   "source": [
    "import numpy as np\n",
    "import pandas as pd\n",
    "df = pd.read_csv('ch2_scores_em.csv',\n",
    "                 index_col='student number')\n",
    "en_scores = np.array(df['english'])[:10]\n",
    "ma_scores = np.array(df['mathematics'])[:10]\n",
    "\n",
    "scores_df = pd.DataFrame({'english':en_scores,\n",
    "                          'mathematics':ma_scores},\n",
    "                         index=pd.Index(['A', 'B', 'C', 'D', 'E',\n",
    "                                         'F', 'G', 'H', 'I', 'J'],\n",
    "                                        name='student'))\n",
    "scores_df.head()"
   ]
  },
  {
   "cell_type": "code",
   "execution_count": 37,
   "metadata": {},
   "outputs": [
    {
     "name": "stdout",
     "output_type": "stream",
     "text": [
      "[[86.   62.8 ]\n",
      " [62.8  68.44]]\n"
     ]
    }
   ],
   "source": [
    "#scores_df.english와 scores_df.mathematics에 대한 공분산을 소수점 2째자리까지 출력\n",
    "gong = np.cov(en_scores, ma_scores, ddof=0)\n",
    "print(gong)"
   ]
  },
  {
   "cell_type": "code",
   "execution_count": 52,
   "metadata": {},
   "outputs": [
    {
     "data": {
      "text/plain": [
       "array([[1.  , 0.82],\n",
       "       [0.82, 1.  ]])"
      ]
     },
     "execution_count": 52,
     "metadata": {},
     "output_type": "execute_result"
    }
   ],
   "source": [
    "#scores_df.english와 scores_df.mathematics에 대한 상관계수를 소수점 2째자리까지 출력\n",
    "%precision 2\n",
    "cor = np.corrcoef(en_scores, ma_scores)\n",
    "cor"
   ]
  },
  {
   "cell_type": "code",
   "execution_count": 56,
   "metadata": {},
   "outputs": [
    {
     "data": {
      "image/png": "[encoded data removed]",
      "text/plain": [
       "<Figure size 576x576 with 1 Axes>"
      ]
     },
     "metadata": {
      "needs_background": "light"
     },
     "output_type": "display_data"
    }
   ],
   "source": [
    "# 두개 변수의 상관관계와 회귀직선을 시각화(회귀직선 포함 및 미포함 비교하여 1행 2열로 출력)\n",
    "poly_fit = np.polyfit(en_scores,ma_scores,1)\n",
    "poly_1d = np.poly1d(poly_fit)\n",
    "xs = np.linspace(en_scores.min(),en_scores.max())\n",
    "ys = poly_1d(xs)\n",
    "\n",
    "fig = plt.figure(figsize=(8,8))\n",
    "ax = fig.add_subplot(111)\n",
    "ax.scatter(en_scores,ma_scores,label='score')\n",
    "ax.plot(xs, ys, color='gray', label=f'{poly_fit[1]:.2f}+{poly_fit[0]:.2f}x')\n",
    "ax.set_xlabel('en_scores')\n",
    "ax.set_ylabel('ma_scores')\n",
    "\n",
    "ax.legend(loc='upper left')\n",
    "\n",
    "plt.show()"
   ]
  },
  {
   "cell_type": "code",
   "execution_count": 57,
   "metadata": {},
   "outputs": [
    {
     "data": {
      "image/png": "[encoded data removed]",
      "text/plain": [
       "<Figure size 720x576 with 2 Axes>"
      ]
     },
     "metadata": {
      "needs_background": "light"
     },
     "output_type": "display_data"
    }
   ],
   "source": [
    "# 두개 변수의 상관관계를 히트맵으로 시각화(칼러바 포함)\n",
    "fig = plt.figure(figsize=(10,8))\n",
    "ax = fig.add_subplot(111)\n",
    "\n",
    "c = ax.hist2d(en_scores, ma_scores,\n",
    "             bins=[9,8], range=[(35,80),(55,95)])\n",
    "ax.set_xlabel('en_scores')\n",
    "ax.set_ylabel('ma_scores')\n",
    "ax.set_xticks(c[1])\n",
    "ax.set_yticks(c[2])\n",
    "\n",
    "fig.colorbar(c[3],ax=ax)\n",
    "plt.show()"
   ]
  },
  {
   "cell_type": "markdown",
   "metadata": {},
   "source": [
    "Q5. 아래 scores는 전교생의 시험점수이다. 무작위추출로 표본 크기가 20인 표본을 추출하여 표본평균을 계산하는 작업을 10000번 수행해서 그 결과를 히스토그램으로 그려 표본평균이 어떻게 분포되는지 시각화를 수행하세요."
   ]
  },
  {
   "cell_type": "code",
   "execution_count": 59,
   "metadata": {},
   "outputs": [
    {
     "data": {
      "text/plain": [
       "array([76, 55, 80, 80, 74, 61, 81, 76, 23, 80], dtype=int64)"
      ]
     },
     "execution_count": 59,
     "metadata": {},
     "output_type": "execute_result"
    }
   ],
   "source": [
    "df = pd.read_csv('ch4_scores400.csv')\n",
    "scores = np.array(df['score'])\n",
    "scores[:10]"
   ]
  },
  {
   "cell_type": "code",
   "execution_count": 69,
   "metadata": {},
   "outputs": [
    {
     "name": "stdout",
     "output_type": "stream",
     "text": [
      "[70.1, 68.9, 71.7, 69.2, 73.45, 68.9, 71.7, 74.4, 68.25, 71.05, 69.7, 69.5, 77.85, 69.85, 62.25, 63.45, 68.4, 68.35, 69.15, 61.5, 65.0, 67.6, 72.65, 71.3, 70.7, 70.2, 71.45, 73.05, 71.45, 68.1, 73.75, 69.6, 70.75, 65.45, 74.35, 73.55, 74.6, 62.3, 67.45, 73.45, 70.45, 63.95, 75.4, 71.2, 69.5, 68.3, 68.8, 69.2, 71.05, 69.55, 70.55, 65.8, 72.0, 66.25, 69.4, 73.75, 71.45, 73.0, 69.45, 76.1, 66.45, 71.25, 65.55, 67.75, 71.65, 70.15, 68.25, 70.5, 67.8, 72.6, 69.5, 67.95, 71.75, 68.3, 69.4, 67.3, 60.75, 67.7, 64.45, 66.9, 74.65, 63.65, 71.05, 75.35, 70.4, 66.3, 73.35, 65.35, 67.45, 72.4, 66.55, 68.75, 71.45, 72.9, 68.6, 70.95, 74.1, 71.7, 71.25, 68.55, 69.05, 66.25, 72.55, 67.95, 66.8, 63.85, 67.15, 78.0, 67.95, 74.75, 63.2, 65.95, 69.9, 64.6, 63.95, 68.0, 69.15, 67.4, 73.35, 71.45, 77.45, 65.05, 65.05, 63.5, 74.9, 69.65, 69.55, 67.5, 70.6, 72.65, 67.15, 68.4, 72.85, 70.7, 69.3, 71.05, 70.0, 69.8, 68.5, 74.25, 68.6, 62.95, 67.85, 69.25, 71.8, 70.0, 68.8, 69.65, 70.3, 71.05, 69.05, 69.0, 69.55, 70.2, 71.95, 67.45, 67.4, 67.2, 65.25, 66.85, 68.6, 73.2, 70.35, 64.8, 70.9, 68.2, 67.9, 69.7, 66.7, 68.4, 72.2, 59.3, 65.5, 68.75, 76.05, 70.6, 67.05, 70.85, 73.25, 72.45, 64.6, 68.6, 69.45, 70.6, 63.3, 62.8, 68.6, 67.9, 68.25, 74.2, 72.7, 73.8, 63.1, 69.95, 70.65, 66.1, 63.6, 67.8, 73.75, 75.6, 64.0, 67.35, 73.75, 68.0, 64.75, 69.8, 69.5, 65.35, 71.15, 71.6, 63.3, 69.9, 73.9, 67.4, 71.35, 68.15, 71.6, 69.25, 68.15, 70.45, 65.4, 72.0, 72.15, 73.0, 68.6, 72.4, 68.2, 70.65, 68.15, 77.25, 75.5, 70.55, 77.85, 70.1, 71.75, 66.45, 70.25, 72.8, 70.9, 69.85, 70.7, 67.5, 72.45, 69.85, 68.45, 67.35, 67.85, 67.45, 67.0, 70.15, 72.25, 68.0, 77.65, 71.3, 70.05, 72.7, 63.9, 68.6, 72.4, 76.2, 67.4, 66.2, 70.55, 70.25, 71.3, 69.4, 71.0, 66.35, 64.9, 66.2, 73.8, 67.5, 67.7, 67.75, 68.9, 62.35, 73.3, 67.6, 69.95, 68.65, 70.95, 70.25, 69.6, 66.15, 67.55, 70.75, 65.1, 68.1, 69.2, 67.5, 63.9, 69.1, 69.15, 71.6, 64.15, 70.35, 69.55, 73.9, 75.6, 71.8, 69.85, 64.5, 74.5, 69.5, 73.1, 76.45, 70.7, 66.15, 70.45, 71.6, 64.75, 66.55, 73.65, 67.9, 70.6, 73.65, 66.05, 70.15, 66.0, 77.0, 66.65, 69.1, 68.5, 73.35, 74.45, 70.35, 66.1, 66.15, 72.3, 70.35, 72.75, 67.15, 72.7, 66.95, 70.55, 63.35, 68.1, 67.85, 73.4, 68.3, 70.65, 66.65, 68.3, 67.55, 71.6, 72.2, 63.8, 67.2, 68.5, 73.55, 63.35, 74.6, 72.6, 74.8, 66.75, 65.8, 65.9, 70.8, 67.0, 64.7, 69.85, 69.1, 71.15, 79.0, 67.75, 68.9, 70.6, 65.3, 72.25, 65.65, 73.4, 73.15, 69.0, 69.25, 68.75, 71.35, 72.0, 68.4, 68.3, 68.15, 69.05, 68.75, 68.3, 72.7, 63.35, 75.1, 65.1, 69.85, 71.4, 68.65, 61.15, 65.35, 71.6, 73.3, 70.85, 65.75, 71.1, 74.1, 73.7, 69.25, 72.2, 70.25, 68.9, 67.85, 74.65, 69.05, 70.25, 60.15, 74.55, 67.2, 64.95, 66.85, 68.95, 71.15, 65.3, 72.55, 65.65, 68.05, 69.9, 73.25, 74.15, 74.0, 71.2, 71.2, 73.3, 74.25, 71.9, 66.5, 73.15, 70.3, 64.75, 64.25, 63.4, 77.1, 66.05, 69.95, 72.05, 71.8, 65.9, 67.8, 66.25, 69.05, 68.6, 68.4, 73.8, 71.65, 67.7, 71.55, 65.7, 63.7, 66.3, 63.25, 66.45, 75.75, 72.35, 71.8, 73.85, 66.55, 68.4, 69.45, 69.0, 71.15, 67.55, 71.95, 69.45, 70.05, 66.15, 67.95, 68.35, 69.05, 67.55, 71.25, 73.45, 67.0, 67.4, 72.25, 64.9, 66.4, 69.4, 73.6, 68.5, 68.75, 71.05, 70.6, 70.7, 71.2, 72.5, 67.65, 66.45, 68.9, 70.55, 71.85, 67.6, 69.75, 71.8, 65.3, 65.95, 71.6, 72.15, 72.35, 67.3, 67.5, 71.0, 72.3, 73.1, 66.9, 64.35, 70.0, 69.0, 69.6, 68.55, 67.15, 69.85, 69.7, 64.85, 75.0, 70.4, 74.4, 66.05, 67.05, 71.65, 74.05, 70.95, 66.6, 67.0, 69.95, 72.0, 72.1, 70.7, 68.1, 71.45, 71.95, 70.35, 70.15, 71.45, 70.8, 70.65, 71.6, 70.1, 69.9, 68.55, 70.1, 68.15, 70.55, 73.75, 70.55, 73.6, 71.9, 68.2, 66.95, 69.6, 67.95, 71.55, 66.95, 72.8, 70.15, 67.1, 76.55, 71.6, 71.65, 71.2, 71.6, 74.5, 73.35, 68.65, 71.7, 68.65, 64.4, 69.15, 69.15, 68.4, 62.4, 67.2, 67.75, 68.15, 68.05, 68.65, 70.95, 76.05, 68.25, 65.5, 71.05, 72.9, 68.1, 69.8, 72.55, 69.6, 69.3, 69.2, 68.45, 67.85, 71.5, 67.95, 71.75, 66.65, 64.7, 68.8, 73.4, 68.5, 66.25, 74.3, 73.45, 65.8, 74.25, 65.1, 78.95, 65.1, 71.9, 70.25, 72.0, 63.9, 68.1, 67.85, 71.7, 68.8, 71.6, 72.4, 70.9, 67.7, 68.75, 67.7, 69.4, 65.3, 68.65, 68.95, 65.95, 72.35, 67.1, 69.25, 67.65, 64.35, 69.95, 71.7, 68.6, 73.35, 71.4, 68.4, 68.45, 73.35, 71.7, 69.75, 66.0, 70.6, 69.8, 70.4, 70.25, 67.55, 69.5, 70.8, 71.9, 67.25, 65.55, 68.35, 69.1, 71.85, 71.6, 66.0, 67.7, 68.95, 67.8, 67.85, 71.2, 71.1, 67.3, 70.6, 67.15, 72.05, 66.7, 60.25, 71.75, 71.1, 73.3, 70.1, 69.5, 75.0, 64.45, 71.9, 66.8, 64.05, 68.3, 76.45, 72.85, 70.5, 70.8, 73.7, 69.0, 71.6, 65.9, 69.55, 68.25, 69.4, 66.65, 61.1, 65.15, 73.9, 70.05, 67.4, 72.1, 73.65, 65.05, 73.95, 75.6, 66.15, 77.4, 68.7, 65.6, 66.1, 77.45, 65.05, 72.2, 60.75, 68.85, 68.85, 63.6, 71.4, 63.45, 70.05, 70.65, 71.1, 66.45, 60.35, 63.65, 67.0, 67.6, 70.6, 61.05, 66.8, 76.0, 67.7, 65.2, 66.9, 64.6, 71.1, 71.15, 68.1, 67.85, 65.8, 67.7, 65.65, 69.5, 73.3, 68.1, 78.5, 71.1, 71.95, 70.3, 67.35, 68.9, 65.45, 73.35, 72.7, 72.05, 68.1, 69.7, 70.7, 71.45, 68.45, 68.05, 70.95, 64.65, 69.9, 73.55, 69.05, 71.75, 64.55, 72.05, 70.4, 63.35, 67.35, 69.1, 72.75, 73.95, 67.9, 68.9, 68.35, 68.65, 69.4, 62.1, 71.15, 74.8, 66.75, 69.1, 67.25, 71.0, 71.1, 68.05, 66.95, 73.0, 69.9, 73.45, 64.85, 73.75, 70.0, 67.2, 70.6, 68.8, 66.2, 70.95, 71.55, 66.95, 64.8, 72.35, 64.35, 72.4, 72.65, 72.15, 68.0, 67.85, 73.1, 67.55, 67.15, 68.65, 72.2, 71.7, 69.9, 72.6, 66.55, 65.45, 68.35, 72.0, 66.15, 69.7, 66.6, 72.65, 70.65, 67.0, 67.2, 65.9, 63.85, 68.15, 70.05, 69.65, 67.9, 76.3, 70.9, 70.2, 66.15, 71.9, 71.5, 71.9, 70.35, 65.75, 67.6, 75.1, 67.9, 73.85, 66.15, 68.4, 67.85, 66.5, 68.15, 74.0, 70.35, 67.25, 66.25, 72.05, 71.85, 68.95, 74.45, 65.9, 65.0, 66.2, 72.7, 63.4, 67.55, 69.85, 75.0, 65.05, 71.3, 62.85, 72.25, 70.9, 65.8, 71.5, 70.55, 66.5, 70.8, 70.2, 73.85, 68.45, 69.9, 67.3, 73.55, 71.05, 68.05, 71.45, 65.25, 71.2, 71.9, 69.05, 68.1, 69.4, 72.55, 67.8, 72.1, 70.25, 65.7, 67.6, 70.25, 65.55, 71.2, 73.95, 69.85, 73.05, 70.2, 68.6, 67.15, 74.6, 71.6, 68.65, 68.1, 68.95, 67.35, 72.5, 70.9, 68.1, 66.95, 71.75, 69.1, 69.1, 75.0, 65.95, 64.75, 66.05, 71.5, 63.7, 65.0, 67.75, 69.9, 73.85, 72.0, 66.55, 68.5, 67.6, 72.95, 70.25, 66.85, 66.55, 74.65, 66.25, 66.8, 69.3, 71.65, 63.95, 73.6, 69.45, 75.15, 67.2, 73.0, 71.2, 62.85, 67.4, 65.55, 71.35, 63.0, 69.9, 71.25, 72.6, 69.75, 69.55, 73.35, 75.95, 67.05, 66.7, 70.65, 64.7, 69.75, 71.55, 74.1, 73.15, 71.85, 73.2, 69.35, 69.95, 75.2, 69.4, 72.9, 61.3, 70.6, 73.85, 74.4, 70.0, 66.55, 67.65, 71.9, 70.25, 75.15, 72.5, 64.85, 70.05, 74.2, 67.1, 67.45, 66.55, 68.0, 64.45, 68.35, 72.05, 73.0, 72.95, 73.6, 71.25, 72.4, 72.2, 77.0, 64.4, 69.25, 71.95, 62.9, 67.15, 74.15, 64.35, 69.35, 68.25, 70.75, 61.7, 74.55, 63.2, 67.5, 71.2, 71.45, 70.3, 68.15, 67.3, 69.8, 70.1, 67.85, 66.7, 64.7, 70.35, 69.5, 68.75, 68.05, 74.95, 66.35, 67.7, 67.75, 71.4, 63.45, 68.0, 77.3, 69.45, 76.95, 76.5, 68.15, 71.35, 75.95, 73.95, 66.2, 76.8, 70.55, 71.05, 69.05, 69.4, 70.6, 66.35, 70.4, 71.1, 69.1, 70.65, 72.75, 68.2, 67.75, 67.65, 65.75, 72.35, 66.1, 73.8, 68.45, 73.6, 66.15, 68.75, 68.35, 66.25, 68.3, 68.4, 72.45, 75.65, 66.75, 67.6, 72.7, 68.45, 74.3, 69.1, 71.75, 70.6, 68.05, 68.0, 72.4, 67.75, 70.05, 71.35, 68.75, 64.0, 76.55, 65.6, 67.45, 67.25, 68.85, 69.35, 76.15, 68.15, 73.8, 72.05, 74.2, 72.5, 73.25, 67.2, 68.2, 75.0, 70.9, 66.8, 72.95, 70.6, 68.25, 71.8, 65.3, 64.0, 69.65, 74.05, 66.95, 68.05, 69.1, 68.15, 75.75, 67.05, 69.6, 65.8, 67.3, 70.25, 69.15, 69.1, 68.85, 71.7, 64.8, 69.75, 65.65, 68.2, 73.95, 69.65, 71.9, 63.8, 61.4, 67.2, 78.95, 68.65, 67.75, 73.15, 72.4, 66.25, 70.65, 71.0, 67.35, 67.25, 70.4, 69.25, 68.5, 72.15, 69.55, 69.05, 66.05, 67.2, 74.8, 71.15, 71.0, 66.35, 70.5, 66.6, 65.15, 68.75, 63.1, 65.9, 68.05, 70.05, 70.05, 68.95, 69.45, 70.8, 72.8, 73.2, 67.95, 70.75, 70.45, 66.3, 72.55, 71.35, 66.5, 63.8, 68.85, 73.2, 74.65, 69.2, 64.75, 64.2, 70.0, 69.4, 68.25, 70.4, 69.6, 66.45, 66.5, 70.25, 68.7, 74.4, 70.7, 66.65, 66.4, 69.8, 67.6, 63.15, 66.75, 65.6, 72.75, 69.8, 72.1, 68.55, 76.15, 69.9, 64.95, 68.4, 71.0, 66.45, 66.55, 65.55, 72.4, 66.85, 70.6, 72.35, 67.3, 73.8, 68.75, 62.35, 66.05, 66.9, 71.3, 75.95, 67.7, 74.4, 67.3, 72.95, 68.85, 73.25, 68.2, 69.65, 61.75, 64.85, 71.85, 74.9, 70.1, 62.65, 68.3, 66.3, 73.8, 69.05, 71.5, 72.55, 66.5, 74.25, 67.65, 71.4, 65.85, 75.65, 72.15, 64.65, 65.55, 71.15, 68.65, 63.9, 63.9, 68.35, 65.15, 75.5, 70.1, 67.7, 77.6, 72.0, 70.85, 64.15, 70.8, 68.25, 66.65, 69.8, 66.95, 70.95, 70.45, 67.2, 68.7, 71.4, 71.25, 68.95, 62.9, 73.25, 69.5, 75.15, 76.1, 73.95, 73.75, 65.75, 65.55, 69.15, 67.75, 68.75, 66.75, 69.2, 72.9, 72.95, 77.9, 72.95, 72.15, 66.15, 68.9, 70.45, 70.0, 69.3, 71.0, 70.05, 74.35, 70.95, 74.4, 70.2, 67.9, 67.2, 73.25, 66.85, 70.45, 69.2, 66.2, 68.25, 73.7, 70.95, 64.5, 74.05, 73.8, 71.45, 72.8, 71.85, 70.0, 71.45, 71.35, 72.85, 69.4, 70.4, 75.15, 73.1, 66.95, 74.0, 67.05, 67.95, 73.65, 65.85, 73.25, 69.0, 71.2, 70.3, 73.7, 69.15, 72.4, 66.95, 72.9, 70.8, 67.9, 67.35, 74.75, 75.2, 65.75, 73.35, 67.45, 63.65, 66.25, 78.75, 71.65, 65.4, 65.7, 64.6, 70.2, 66.65, 72.35, 72.0, 67.25, 72.25, 70.1, 74.3, 67.95, 66.55, 66.3, 69.7, 67.3, 72.75, 70.4, 68.95, 67.25, 63.1, 70.35, 67.6, 69.45, 70.15, 68.85, 69.95, 68.1, 68.0, 70.2, 77.6, 67.35, 70.9, 75.9, 66.2, 68.55, 72.05, 70.95, 74.2, 70.95, 68.0, 69.3, 68.0, 70.55, 71.45, 71.65, 70.45, 72.9, 65.2, 66.6, 70.35, 69.35, 71.85, 66.45, 61.6, 70.3, 66.5, 68.4, 66.45, 70.35, 70.65, 59.4, 70.5, 69.35, 71.15, 66.85, 65.5, 68.35, 71.6, 58.5, 72.3, 69.15, 66.15, 69.2, 69.45, 72.6, 74.25, 64.05, 72.85, 66.05, 68.5, 67.85, 66.7, 66.3, 68.6, 74.2, 77.1, 71.6, 68.75, 67.9, 69.1, 71.65, 73.65, 73.95, 75.75, 70.6, 70.25, 73.25, 74.45, 77.95, 73.05, 74.75, 67.9, 66.9, 75.7, 65.8, 67.5, 71.6, 68.9, 69.95, 71.05, 70.0, 68.45, 73.4, 67.8, 68.85, 68.05, 69.15, 71.65, 69.85, 72.35, 67.2, 68.85, 71.55, 66.45, 68.9, 72.2, 74.45, 69.5, 73.35, 74.85, 66.95, 68.75, 67.1, 73.05, 71.7, 70.05, 69.6, 66.35, 69.95, 65.55, 66.55, 65.2, 68.3, 68.2, 69.6, 68.05, 63.65, 74.35, 72.9, 64.45, 66.65, 71.6, 66.05, 77.8, 69.9, 72.05, 75.95, 63.2, 67.35, 69.25, 70.8, 73.0, 66.0, 63.9, 67.95, 70.35, 70.4, 67.6, 69.25, 72.75, 75.55, 71.8, 69.35, 68.1, 70.3, 70.9, 69.45, 65.25, 65.8, 73.1, 72.35, 67.05, 65.8, 66.6, 65.6, 75.05, 66.2, 69.1, 65.4, 73.2, 67.45, 68.7, 67.05, 69.5, 70.6, 70.4, 72.75, 74.5, 70.95, 65.65, 69.75, 67.7, 68.65, 69.35, 75.15, 65.95, 65.0, 74.0, 72.45, 69.1, 74.65, 68.05, 70.15, 67.9, 67.6, 67.5, 69.2, 72.95, 75.15, 71.9, 70.75, 71.0, 67.6, 65.8, 73.5, 61.3, 72.4, 67.0, 70.5, 72.05, 74.9, 71.2, 65.6, 68.7, 67.4, 68.5, 76.3, 70.3, 68.9, 69.6, 65.85, 65.8, 67.2, 67.85, 74.0, 67.9, 68.35, 72.95, 70.3, 68.0, 67.4, 63.25, 66.6, 70.35, 64.95, 65.25, 72.7, 66.5, 70.6, 64.75, 70.85, 75.15, 65.55, 69.1, 72.2, 68.8, 62.75, 72.95, 73.25, 67.7, 68.05, 66.8, 68.15, 65.3, 67.25, 69.25, 73.9, 74.3, 66.2, 66.55, 74.85, 63.4, 70.9, 71.5, 65.8, 70.45, 65.85, 69.9, 70.5, 67.8, 71.15, 68.8, 67.75, 65.95, 68.4, 70.7, 69.65, 69.05, 65.95, 72.0, 69.55, 75.15, 69.55, 67.4, 71.0, 66.0, 70.75, 68.1, 70.6, 69.75, 73.65, 74.5, 71.15, 63.95, 65.95, 71.45, 73.15, 75.6, 73.25, 71.55, 71.2, 64.05, 72.1, 63.6, 74.75, 65.65, 71.1, 69.9, 71.55, 69.85, 76.95, 66.2, 69.5, 63.25, 68.75, 68.7, 68.6, 72.45, 66.65, 77.2, 72.0, 68.85, 69.4, 71.4, 70.7, 66.85, 70.2, 66.3, 77.05, 69.15, 72.45, 67.4, 77.1, 69.3, 71.8, 67.85, 64.45, 72.35, 65.75, 70.75, 72.35, 67.25, 70.05, 66.3, 68.45, 75.8, 69.1, 66.05, 73.75, 65.7, 72.95, 65.0, 71.55, 69.05, 66.9, 71.7, 72.4, 74.3, 66.45, 68.75, 74.95, 68.95, 67.6, 69.6, 68.2, 72.6, 67.35, 65.6, 72.55, 67.2, 67.95, 66.55, 70.5, 73.05, 68.1, 67.25, 64.0, 69.65, 68.7, 70.15, 73.1, 72.25, 70.35, 75.35, 70.05, 73.0, 71.4, 70.8, 69.25, 71.05, 65.1, 69.7, 74.5, 69.65, 73.55, 65.15, 66.15, 71.3, 74.3, 73.65, 69.3, 70.85, 68.45, 67.7, 69.95, 67.8, 67.2, 67.6, 73.95, 77.0, 66.65, 70.1, 66.45, 66.2, 62.35, 67.45, 70.15, 76.7, 70.95, 69.05, 73.55, 67.3, 72.55, 69.9, 68.6, 69.9, 65.6, 68.4, 67.8, 66.9, 71.15, 67.95, 63.35, 69.8, 65.9, 71.5, 70.55, 65.8, 69.9, 73.85, 71.3, 68.6, 74.6, 67.5, 71.9, 63.35, 67.1, 67.2, 70.95, 73.4, 66.85, 71.35, 69.25, 65.15, 63.7, 64.7, 70.55, 67.7, 70.65, 75.2, 72.3, 72.45, 69.5, 67.9, 69.7, 70.35, 69.15, 64.15, 71.45, 65.85, 66.9, 65.95, 67.9, 74.35, 71.8, 71.5, 70.9, 76.7, 77.05, 72.5, 70.4, 70.9, 71.4, 72.4, 71.2, 76.15, 66.1, 72.55, 66.8, 65.25, 74.3, 69.05, 70.55, 70.55, 74.8, 70.4, 68.2, 71.05, 64.4, 69.4, 66.7, 71.4, 70.1, 68.5, 66.15, 74.85, 64.2, 63.6, 72.3, 62.45, 73.7, 75.55, 63.85, 70.0, 65.0, 66.0, 65.8, 72.85, 71.75, 75.75, 75.1, 69.25, 69.55, 71.9, 70.2, 72.8, 66.9, 72.95, 66.4, 73.55, 68.4, 71.1, 64.5, 70.85, 70.25, 66.65, 71.85, 71.1, 67.8, 72.7, 66.3, 71.65, 65.7, 69.7, 71.7, 70.7, 70.2, 69.5, 68.4, 74.65, 66.65, 70.55, 72.4, 76.0, 68.1, 71.95, 70.4, 72.9, 64.95, 71.25, 69.65, 74.0, 72.45, 74.4, 67.2, 73.45, 66.7, 69.3, 66.9, 73.9, 71.15, 68.4, 66.85, 67.5, 68.6, 71.45, 76.55, 72.25, 77.85, 73.65, 66.0, 70.45, 62.85, 72.45, 71.85, 72.4, 66.25, 69.2, 76.55, 67.55, 68.35, 67.15, 71.5, 66.85, 71.35, 73.65, 68.35, 71.75, 63.25, 72.0, 70.5, 66.85, 70.15, 70.75, 66.95, 72.5, 71.85, 68.6, 70.9, 70.45, 64.9, 72.55, 65.55, 66.45, 71.8, 72.05, 71.1, 73.8, 73.2, 74.1, 67.85, 72.9, 71.85, 72.1, 76.1, 69.95, 70.2, 69.75, 71.0, 66.7, 74.45, 64.6, 67.95, 71.45, 68.45, 74.55, 71.95, 64.95, 70.9, 68.05, 67.3, 68.95, 68.3, 71.05, 61.5, 65.05, 72.3, 69.7, 71.0, 68.0, 68.15, 65.4, 73.25, 69.9, 66.5, 69.65, 68.8, 73.3, 72.35, 69.0, 68.25, 70.4, 68.1, 65.5, 73.1, 69.85, 70.1, 71.4, 71.7, 73.4, 71.3, 70.35, 69.1, 64.65, 64.0, 67.8, 61.25, 71.25, 75.55, 65.1, 69.15, 67.4, 71.5, 67.9, 74.05, 65.6, 69.05, 70.5, 66.0, 67.05, 73.05, 70.85, 68.25, 65.65, 68.25, 71.35, 68.4, 65.7, 71.4, 68.15, 73.15, 73.25, 74.45, 68.35, 69.5, 69.7, 67.05, 68.2, 71.05, 68.6, 64.6, 73.4, 69.85, 70.4, 69.2, 71.3, 68.8, 71.7, 65.6, 68.55, 66.2, 74.35, 71.3, 73.15, 71.45, 71.6, 71.8, 69.9, 72.3, 70.6, 66.25, 68.05, 65.6, 68.2, 72.6, 70.4, 70.15, 69.95, 63.65, 72.25, 68.55, 70.1, 72.4, 76.3, 70.9, 65.35, 70.5, 73.4, 63.4, 67.3, 69.95, 67.9, 76.4, 77.55, 63.0, 67.65, 63.1, 73.45, 68.15, 73.15, 79.0, 70.65, 74.1, 69.2, 74.95, 64.9, 71.1, 68.25, 70.5, 69.7, 70.1, 72.3, 67.5, 64.45, 69.75, 68.7, 74.65, 75.95, 73.05, 69.9, 72.9, 69.25, 72.1, 65.5, 66.9, 75.5, 72.9, 68.25, 69.05, 62.3, 73.5, 73.75, 69.4, 69.25, 65.6, 72.85, 70.7, 72.9, 73.8, 66.85, 73.0, 69.3, 70.0, 69.1, 68.3, 67.7, 67.2, 65.75, 66.0, 70.9, 71.25, 68.05, 74.4, 67.15, 67.2, 67.35, 71.0, 70.2, 75.65, 66.6, 63.5, 67.95, 71.8, 69.1, 65.7, 63.85, 70.45, 68.95, 71.9, 70.1, 70.85, 74.9, 70.6, 71.1, 70.75, 71.2, 68.55, 77.1, 72.35, 71.8, 59.1, 66.35, 69.65, 73.9, 70.1, 71.1, 71.3, 66.85, 64.5, 67.55, 67.6, 66.15, 73.95, 72.0, 70.8, 67.2, 71.4, 71.35, 66.4, 67.1, 72.65, 63.8, 69.0, 70.6, 71.25, 73.3, 70.15, 76.15, 75.4, 71.9, 69.95, 70.5, 69.45, 71.9, 65.25, 70.5, 68.3, 69.35, 68.7, 65.1, 66.85, 68.85, 71.15, 62.8, 69.45, 65.2, 70.6, 67.2, 68.85, 64.75, 69.7, 72.95, 62.5, 72.5, 66.2, 74.1, 68.45, 64.9, 70.55, 67.3, 71.2, 69.65, 71.8, 66.8, 74.8, 65.05, 65.8, 70.05, 69.15, 70.25, 65.3, 72.8, 68.35, 66.35, 67.9, 65.65, 66.45, 71.0, 68.8, 72.75, 68.85, 71.75, 66.05, 71.6, 69.85, 71.6, 74.4, 66.8, 69.55, 77.45, 67.1, 70.25, 69.15, 68.3, 73.5, 68.4, 64.9, 72.15, 69.85, 67.25, 72.2, 71.2, 72.95, 70.85, 67.6, 75.05, 66.6, 69.2, 68.15, 77.7, 72.85, 75.65, 74.4, 65.05, 74.35, 69.05, 73.25, 68.3, 69.2, 67.8, 74.4, 74.1, 73.05, 73.95, 62.9, 70.35, 77.45, 71.75, 67.35, 69.75, 75.6, 72.2, 71.75, 69.2, 70.85, 73.25, 64.5, 62.5, 69.35, 72.25, 69.35, 72.95, 76.8, 68.25, 67.95, 72.0, 64.9, 67.8, 69.4, 73.1, 72.6, 70.6, 69.35, 70.75, 63.1, 71.45, 67.35, 66.3, 63.8, 73.85, 71.65, 73.15, 69.95, 68.1, 69.4, 69.15, 63.15, 70.65, 66.75, 67.2, 64.6, 69.35, 66.85, 71.75, 72.6, 74.3, 66.0, 64.65, 69.3, 66.7, 64.55, 72.95, 71.9, 71.6, 66.45, 67.8, 69.9, 68.85, 71.55, 69.5, 69.3, 63.5, 64.9, 70.8, 63.65, 71.6, 61.85, 69.65, 70.4, 71.4, 67.7, 68.05, 77.1, 73.45, 68.3, 66.8, 72.6, 70.3, 76.55, 65.85, 67.8, 71.3, 67.8, 67.75, 70.65, 70.05, 70.25, 67.3, 67.9, 61.45, 70.8, 66.1, 69.6, 69.0, 77.1, 71.05, 66.05, 72.35, 65.05, 75.3, 72.85, 71.05, 72.75, 70.6, 66.2, 69.55, 71.65, 72.35, 68.9, 68.45, 67.0, 71.9, 72.0, 67.9, 72.3, 68.95, 71.85, 70.25, 71.0, 67.8, 68.95, 66.7, 70.2, 66.55, 66.95, 65.0, 77.4, 71.85, 67.35, 68.75, 70.3, 69.25, 65.95, 75.9, 68.35, 74.05, 70.05, 73.7, 65.15, 70.6, 70.75, 81.35, 70.0, 76.15, 72.0, 71.05, 66.45, 68.6, 71.5, 69.3, 68.95, 68.2, 71.95, 71.05, 67.6, 70.05, 71.7, 65.9, 71.15, 65.3, 67.8, 70.95, 72.65, 71.6, 69.1, 68.45, 67.9, 72.0, 72.5, 68.3, 69.25, 71.5, 73.75, 71.35, 76.9, 70.6, 65.25, 69.65, 66.8, 70.65, 65.7, 69.7, 69.5, 69.3, 65.85, 73.5, 71.2, 70.25, 70.2, 70.75, 68.5, 72.35, 64.8, 69.2, 73.6, 70.5, 72.75, 65.8, 75.05, 74.55, 68.45, 69.9, 71.9, 70.9, 73.85, 65.45, 65.95, 68.0, 69.95, 63.6, 63.15, 66.3, 67.5, 75.3, 71.9, 71.65, 70.05, 71.4, 76.05, 61.05, 72.95, 67.85, 72.1, 75.7, 73.25, 69.35, 70.55, 67.75, 68.9, 72.05, 69.35, 72.95, 70.1, 67.15, 68.3, 69.35, 67.5, 63.05, 76.15, 75.25, 76.35, 66.0, 66.0, 69.15, 74.3, 69.35, 72.45, 64.45, 73.95, 66.55, 68.15, 69.05, 69.05, 72.5, 77.2, 70.55, 69.2, 68.95, 67.25, 75.35, 75.5, 68.75, 68.95, 73.15, 66.75, 69.4, 69.15, 67.0, 65.75, 69.15, 73.5, 64.55, 65.05, 71.45, 67.0, 67.25, 66.65, 75.05, 69.65, 69.45, 66.9, 64.1, 70.4, 66.45, 68.45, 70.3, 73.5, 70.85, 68.5, 68.5, 73.6, 69.55, 73.6, 73.3, 65.85, 62.8, 72.1, 69.3, 69.15, 69.15, 72.2, 68.35, 69.6, 66.5, 69.6, 65.8, 68.75, 65.15, 64.0, 74.5, 65.75, 64.95, 68.65, 69.2, 68.7, 68.3, 67.2, 69.4, 71.75, 68.25, 66.95, 67.5, 65.4, 68.7, 69.05, 69.8, 69.2, 69.15, 63.6, 72.75, 69.95, 70.9, 70.25, 68.95, 75.1, 68.85, 66.75, 69.2, 69.95, 66.7, 65.15, 71.0, 75.6, 68.85, 71.15, 71.2, 71.35, 68.2, 73.4, 73.65, 65.3, 70.55, 69.3, 68.55, 71.15, 68.7, 70.9, 70.4, 70.05, 65.7, 73.6, 75.75, 68.2, 74.65, 72.55, 72.35, 72.25, 68.85, 73.8, 68.75, 71.45, 73.8, 68.9, 74.85, 70.9, 68.8, 71.25, 72.7, 70.75, 71.55, 68.1, 74.6, 67.1, 72.05, 68.6, 69.0, 70.05, 69.15, 66.65, 70.85, 70.65, 69.8, 68.6, 70.1, 70.3, 68.3, 73.5, 69.9, 70.0, 71.0, 65.75, 70.2, 59.6, 71.0, 67.95, 70.1, 71.9, 70.75, 74.1, 69.75, 66.3, 65.4, 67.75, 77.8, 69.7, 64.7, 68.55, 73.6, 69.3, 70.4, 69.6, 69.3, 67.85, 70.9, 69.4, 65.2, 66.65, 69.35, 67.95, 71.15, 68.85, 67.8, 67.75, 75.1, 69.4, 68.55, 74.85, 67.95, 69.35, 62.0, 73.4, 73.9, 68.2, 75.25, 69.05, 71.45, 65.25, 72.85, 74.2, 69.9, 70.55, 69.55, 68.0, 69.1, 74.4, 67.2, 66.05, 69.75, 64.5, 68.15, 73.8, 70.95, 73.75, 70.3, 65.5, 73.4, 74.3, 70.15, 69.7, 64.7, 64.25, 69.15, 67.3, 73.3, 67.65, 74.85, 68.5, 72.4, 72.6, 67.75, 68.3, 64.45, 67.7, 65.45, 62.4, 67.1, 72.7, 68.9, 70.3, 75.95, 63.2, 65.3, 68.3, 69.05, 69.3, 70.6, 70.7, 70.5, 71.6, 68.9, 71.75, 68.15, 78.0, 65.35, 69.15, 62.05, 64.75, 70.85, 68.5, 77.95, 70.85, 66.4, 75.95, 65.75, 70.3, 62.0, 70.0, 67.5, 67.7, 64.4, 73.0, 69.25, 69.3, 71.9, 69.2, 66.55, 68.3, 65.9, 70.8, 71.75, 72.0, 68.55, 66.15, 69.35, 68.8, 66.9, 62.6, 72.6, 72.0, 68.05, 72.8, 76.05, 71.1, 69.85, 71.2, 67.55, 71.45, 70.25, 69.25, 68.5, 72.15, 65.8, 73.4, 69.15, 73.25, 72.15, 67.8, 66.4, 73.3, 72.85, 67.55, 72.1, 71.4, 67.85, 64.8, 69.1, 67.8, 68.2, 70.3, 68.4, 72.75, 62.9, 69.2, 67.25, 65.15, 66.85, 73.6, 69.2, 75.0, 61.0, 68.35, 72.45, 66.6, 69.3, 70.25, 66.0, 74.45, 69.6, 69.55, 66.15, 67.7, 70.6, 68.4, 74.6, 69.55, 65.2, 72.95, 67.35, 71.35, 67.8, 69.5, 71.8, 65.9, 69.65, 72.3, 74.45, 67.85, 73.55, 66.25, 70.15, 68.6, 65.3, 65.95, 61.6, 69.4, 73.3, 72.95, 67.1, 66.2, 71.75, 72.1, 69.1, 69.85, 68.65, 68.45, 67.7, 71.1, 67.45, 68.2, 71.1, 65.05, 67.6, 68.8, 68.75, 71.75, 71.75, 65.55, 74.05, 68.0, 75.45, 71.35, 73.45, 70.95, 64.2, 72.55, 73.35, 67.3, 71.45, 71.4, 74.4, 66.05, 71.4, 71.1, 72.3, 69.85, 65.8, 69.15, 70.85, 70.7, 62.25, 70.1, 70.95, 70.55, 69.9, 75.5, 71.9, 71.0, 69.25, 68.6, 68.7, 74.25, 64.3, 69.8, 70.15, 70.95, 63.25, 71.45, 69.7, 66.5, 69.85, 77.6, 70.6, 68.45, 71.9, 70.2, 72.55, 67.6, 71.9, 70.8, 67.6, 65.95, 72.85, 75.3, 71.35, 73.0, 71.35, 71.55, 63.9, 72.15, 68.15, 74.45, 73.95, 67.2, 63.45, 67.0, 72.7, 65.6, 69.85, 70.5, 64.5, 69.65, 71.7, 69.35, 73.0, 68.9, 72.7, 67.8, 76.8, 70.95, 65.35, 67.9, 64.4, 65.85, 69.2, 75.4, 70.2, 69.8, 62.05, 68.2, 74.1, 70.5, 67.6, 69.3, 66.85, 70.55, 64.3, 68.7, 72.5, 73.25, 73.7, 67.7, 72.2, 68.75, 73.35, 68.05, 71.4, 71.55, 66.75, 67.65, 67.2, 69.3, 58.65, 74.3, 70.55, 74.9, 68.4, 74.15, 74.55, 74.75, 65.85, 70.2, 73.0, 66.95, 70.85, 71.6, 74.5, 70.8, 70.3, 67.5, 76.3, 66.95, 69.75, 65.7, 67.5, 69.5, 67.2, 67.5, 68.45, 73.85, 72.0, 74.55, 71.95, 70.7, 65.15, 67.3, 69.35, 74.2, 67.65, 67.05, 69.3, 63.75, 68.25, 65.3, 66.95, 72.0, 67.25, 68.2, 72.0, 64.95, 74.95, 64.9, 62.9, 68.5, 70.15, 72.0, 73.6, 69.6, 69.0, 71.65, 69.1, 65.05, 68.35, 67.65, 71.35, 70.35, 73.35, 69.65, 66.8, 66.65, 70.95, 66.65, 74.8, 71.25, 71.5, 70.0, 68.9, 73.0, 73.25, 65.8, 72.85, 73.35, 67.9, 70.65, 67.2, 65.8, 73.4, 65.7, 66.05, 67.05, 68.15, 72.95, 70.3, 65.5, 67.6, 68.15, 77.4, 67.65, 67.65, 73.9, 63.35, 69.5, 74.0, 71.2, 70.5, 66.3, 66.65, 68.7, 63.7, 69.45, 73.2, 69.45, 70.5, 66.25, 64.3, 68.6, 66.7, 65.6, 73.8, 64.35, 68.8, 67.5, 71.55, 67.7, 66.35, 70.05, 69.9, 71.25, 64.45, 72.45, 66.0, 69.05, 72.0, 71.2, 69.45, 70.9, 69.7, 74.35, 68.65, 67.1, 74.8, 65.15, 69.3, 75.0, 74.1, 69.05, 64.95, 69.9, 65.55, 73.05, 72.3, 62.45, 72.75, 70.4, 71.9, 66.4, 71.05, 68.5, 66.5, 73.25, 64.35, 76.25, 75.0, 67.65, 62.7, 71.05, 71.5, 68.85, 70.45, 68.9, 72.85, 70.65, 69.95, 68.85, 67.05, 72.7, 74.6, 68.05, 69.0, 70.25, 72.95, 70.2, 75.75, 64.85, 69.05, 68.8, 70.85, 72.8, 66.2, 75.25, 68.75, 71.3, 62.1, 69.3, 71.95, 71.9, 72.95, 66.6, 70.8, 65.1, 71.65, 74.05, 71.2, 71.95, 70.4, 70.15, 65.6, 70.7, 66.85, 69.5, 67.5, 75.5, 63.2, 72.25, 70.15, 71.25, 62.55, 71.15, 65.85, 71.55, 67.7, 72.75, 71.55, 71.45, 68.3, 71.85, 68.4, 71.75, 71.25, 65.1, 72.8, 67.3, 67.55, 67.45, 67.0, 67.15, 67.6, 73.0, 66.0, 69.55, 67.0, 72.3, 68.5, 68.1, 69.45, 67.95, 74.75, 69.05, 70.6, 70.2, 67.4, 67.85, 72.65, 72.85, 67.75, 69.6, 68.4, 65.45, 66.75, 72.45, 67.8, 71.3, 66.85, 72.15, 65.4, 76.05, 72.35, 72.25, 64.95, 70.4, 72.4, 66.1, 69.45, 64.55, 68.7, 66.6, 69.7, 68.2, 69.05, 70.8, 76.2, 69.4, 69.7, 71.8, 68.55, 74.55, 74.15, 70.7, 67.9, 68.45, 72.85, 67.0, 69.4, 69.95, 73.0, 68.9, 66.1, 73.6, 71.6, 67.55, 75.3, 65.95, 66.55, 67.15, 65.05, 73.95, 70.8, 75.25, 68.35, 64.7, 67.95, 75.6, 64.9, 68.3, 68.5, 68.9, 68.8, 59.65, 62.85, 69.5, 72.3, 73.15, 69.25, 72.1, 73.65, 75.3, 68.55, 77.9, 66.9, 69.45, 69.25, 70.85, 69.05, 69.4, 74.9, 67.2, 70.15, 72.5, 73.75, 71.95, 73.65, 70.75, 70.9, 70.0, 67.9, 72.95, 75.65, 69.8, 70.8, 67.7, 71.15, 67.15, 71.35, 70.75, 75.6, 69.25, 69.5, 72.05, 73.6, 61.8, 68.15, 65.6, 71.45, 69.25, 73.55, 67.45, 74.35, 68.35, 67.3, 64.8, 72.25, 67.2, 64.95, 68.1, 72.85, 70.95, 62.8, 66.6, 60.85, 70.7, 71.55, 70.6, 64.85, 69.25, 73.0, 73.6, 72.55, 72.5, 67.3, 73.65, 68.6, 67.5, 75.15, 72.55, 73.3, 70.95, 71.65, 65.2, 66.55, 72.45, 68.9, 71.95, 69.35, 72.6, 71.4, 68.7, 75.15, 65.4, 69.5, 67.6, 63.75, 69.2, 72.5, 74.85, 73.75, 66.55, 71.0, 76.6, 68.8, 72.7, 68.8, 73.1, 69.2, 66.5, 66.1, 68.6, 65.1, 78.05, 67.7, 67.35, 62.6, 64.05, 65.6, 75.85, 73.4, 66.45, 73.7, 67.85, 68.8, 66.2, 66.1, 71.6, 73.05, 73.3, 67.0, 72.45, 71.95, 67.4, 73.8, 68.05, 68.0, 67.45, 71.7, 67.9, 70.45, 67.4, 67.55, 71.8, 73.2, 67.5, 70.75, 70.05, 68.6, 70.5, 69.7, 71.65, 73.35, 66.2, 71.55, 76.55, 71.5, 62.25, 74.65, 67.5, 63.2, 64.7, 69.1, 71.2, 71.35, 68.05, 67.6, 64.5, 65.65, 68.35, 67.2, 76.7, 63.7, 73.2, 69.55, 70.8, 66.95, 70.2, 65.85, 72.75, 68.95, 70.1, 70.85, 77.3, 70.5, 69.8, 73.2, 72.85, 71.85, 63.35, 69.65, 67.55, 74.35, 75.15, 71.1, 67.45, 73.4, 67.1, 67.9, 70.75, 64.25, 71.7, 70.1, 68.0, 69.8, 66.95, 68.9, 68.45, 64.95, 66.95, 69.5, 68.0, 69.7, 67.55, 78.3, 66.35, 66.5, 71.1, 63.0, 72.9, 70.8, 70.85, 64.85, 71.85, 67.65, 67.7, 63.9, 69.8, 74.05, 70.8, 71.35, 69.2, 69.05, 67.7, 71.9, 71.0, 76.55, 70.5, 66.45, 68.15, 64.0, 69.1, 68.15, 66.0, 73.7, 75.6, 67.85, 68.7, 68.45, 70.95, 68.5, 64.35, 74.1, 67.0, 68.3, 60.95, 69.55, 64.85, 71.25, 71.05, 69.3, 66.15, 70.3, 72.6, 64.25, 68.0, 72.65, 70.85, 70.75, 68.85, 70.8, 67.25, 73.55, 67.95, 71.2, 67.0, 60.8, 69.0, 69.1, 63.65, 68.65, 69.0, 71.15, 68.5, 66.3, 67.2, 71.2, 72.3, 72.9, 69.5, 67.2, 72.75, 66.95, 70.85, 72.15, 67.05, 65.9, 67.7, 72.25, 68.65, 67.6, 71.15, 62.35, 65.4, 70.4, 71.95, 74.3, 67.45, 70.5, 66.25, 72.9, 70.45, 68.55, 69.2, 65.7, 68.7, 66.45, 72.7, 64.7, 66.3, 63.2, 72.25, 73.35, 66.1, 75.2, 66.8, 70.05, 69.2, 71.15, 71.25, 77.5, 69.8, 72.95, 68.3, 67.65, 75.6, 69.9, 72.6, 67.35, 71.75, 70.75, 72.35, 66.85, 69.55, 64.7, 72.75, 72.25, 69.7, 65.1, 70.3, 72.1, 70.2, 71.75, 73.05, 72.6, 67.95, 69.75, 73.6, 69.15, 67.75, 71.25, 72.65, 70.45, 68.6, 69.9, 66.0, 70.6, 70.4, 67.9, 73.65, 68.65, 73.2, 74.9, 68.8, 74.4, 74.1, 69.4, 68.8, 68.0, 63.85, 71.35, 69.85, 66.6, 70.65, 66.95, 70.2, 73.6, 67.4, 68.4, 71.85, 67.15, 68.1, 69.15, 76.4, 70.05, 71.7, 69.95, 67.35, 73.1, 72.2, 75.85, 72.15, 67.85, 71.6, 69.05, 59.75, 71.7, 67.65, 71.65, 70.65, 72.1, 67.35, 73.15, 75.3, 71.4, 72.6, 71.75, 70.4, 71.65, 75.65, 64.7, 67.95, 70.95, 68.8, 67.85, 71.95, 70.95, 65.55, 70.4, 68.5, 68.35, 67.8, 64.75, 74.75, 66.35, 66.5, 74.75, 69.3, 67.2, 70.35, 76.05, 70.0, 71.4, 66.15, 66.4, 62.95, 69.45, 73.3, 72.95, 63.55, 73.8, 73.2, 69.0, 69.7, 73.05, 71.0, 72.7, 68.5, 70.4, 68.95, 63.25, 72.3, 65.1, 67.05, 69.75, 69.25, 72.3, 65.6, 69.5, 67.5, 62.9, 69.6, 68.95, 67.45, 72.4, 72.45, 71.25, 71.0, 66.4, 69.1, 64.85, 68.9, 69.95, 69.65, 68.8, 74.75, 71.1, 68.95, 71.1, 72.75, 73.15, 74.65, 70.05, 67.0, 66.55, 71.25, 70.85, 67.7, 70.05, 70.5, 65.2, 63.95, 62.0, 76.6, 73.9, 69.95, 71.35, 70.9, 72.1, 72.2, 72.45, 66.6, 75.05, 70.2, 71.35, 72.2, 71.35, 62.45, 70.6, 73.9, 66.35, 69.15, 68.15, 75.25, 68.75, 72.55, 72.0, 71.25, 71.15, 72.1, 68.85, 67.4, 68.1, 67.95, 73.25, 67.8, 77.95, 73.5, 69.9, 67.15, 70.4, 72.3, 69.4, 67.2, 74.5, 74.55, 70.9, 69.75, 70.7, 67.05, 67.65, 73.35, 75.6, 69.65, 69.85, 69.85, 71.3, 69.6, 68.65, 72.95, 68.95, 70.3, 71.3, 68.95, 72.85, 78.25, 70.55, 67.7, 75.85, 68.5, 64.1, 68.8, 70.6, 66.3, 66.9, 67.3, 67.15, 67.7, 66.2, 67.0, 70.65, 65.55, 65.3, 72.45, 73.2, 66.4, 61.85, 66.25, 69.2, 68.7, 68.9, 70.9, 72.85, 66.9, 68.95, 72.0, 73.85, 74.1, 65.55, 73.4, 70.95, 63.25, 70.8, 68.4, 71.85, 68.1, 73.1, 67.4, 70.7, 68.85, 74.8, 69.65, 69.3, 68.6, 69.25, 68.3, 68.3, 68.9, 72.6, 64.05, 69.05, 70.55, 68.1, 67.05, 68.9, 68.55, 71.75, 72.15, 66.4, 75.05, 66.75, 66.4, 71.7, 65.3, 66.85, 67.5, 69.9, 71.35, 66.8, 76.3, 71.25, 67.9, 67.3, 63.55, 65.9, 70.65, 70.4, 67.45, 74.35, 71.9, 60.7, 66.0, 70.45, 77.75, 70.55, 70.75, 69.65, 72.65, 71.4, 74.3, 66.7, 67.2, 72.4, 67.0, 73.05, 68.05, 72.85, 67.3, 64.85, 74.55, 66.3, 70.45, 68.85, 61.8, 69.05, 71.4, 69.7, 63.95, 71.1, 69.95, 69.0, 70.25, 72.3, 71.3, 68.25, 70.3, 68.5, 69.5, 74.05, 74.4, 69.85, 72.7, 72.85, 64.25, 71.45, 65.65, 69.3, 70.6, 73.9, 65.8, 72.55, 65.1, 65.65, 70.25, 69.45, 71.15, 71.55, 71.2, 66.0, 72.1, 66.4, 68.9, 70.8, 73.15, 70.45, 67.5, 72.1, 68.25, 73.75, 66.85, 65.85, 69.35, 64.55, 64.2, 71.5, 59.3, 70.0, 73.4, 68.5, 64.9, 71.9, 67.4, 71.55, 67.55, 69.45, 68.55, 67.65, 66.15, 70.75, 68.15, 67.65, 68.95, 67.75, 61.85, 67.4, 71.45, 71.8, 68.3, 67.75, 64.6, 65.6, 73.85, 72.7, 68.35, 68.8, 68.15, 74.2, 65.9, 71.9, 70.9, 71.05, 73.65, 67.2, 67.45, 71.5, 69.65, 68.0, 65.85, 71.4, 65.45, 76.0, 63.75, 67.85, 71.05, 71.05, 71.7, 70.4, 71.3, 67.9, 67.2, 70.25, 78.15, 68.15, 73.1, 74.1, 63.7, 69.5, 73.2, 66.35, 70.7, 67.6, 71.25, 67.55, 64.4, 67.0, 72.4, 66.95, 72.6, 72.6, 75.05, 72.45, 66.7, 67.55, 70.25, 63.4, 67.2, 67.65, 74.9, 68.9, 67.95, 73.4, 73.3, 76.95, 67.85, 75.35, 68.85, 69.6, 69.3, 73.85, 75.25, 69.05, 68.75, 69.1, 75.25, 70.65, 66.3, 64.3, 71.05, 68.5, 67.35, 73.15, 67.05, 68.35, 63.2, 66.65, 66.1, 73.5, 68.45, 77.65, 71.25, 69.9, 66.7, 70.8, 74.5, 73.25, 69.5, 68.3, 73.15, 64.55, 66.9, 72.45, 68.4, 65.45, 70.5, 67.8, 71.4, 70.75, 73.85, 67.6, 63.85, 75.95, 68.55, 67.95, 68.15, 64.85, 69.75, 72.25, 71.9, 67.95, 70.8, 70.2, 75.45, 70.65, 72.95, 65.4, 68.8, 65.15, 68.95, 67.45, 67.7, 69.2, 72.7, 66.35, 65.95, 72.4, 72.4, 62.1, 70.4, 65.4, 68.6, 73.9, 65.5, 68.05, 65.4, 66.9, 65.75, 73.8, 71.35, 77.1, 68.85, 65.85, 65.35, 66.6, 70.45, 71.4, 67.3, 64.1, 70.75, 64.6, 67.5, 74.4, 70.05, 73.5, 72.85, 65.75, 70.6, 63.85, 73.05, 71.95, 73.25, 69.35, 71.45, 72.7, 69.5, 66.6, 69.25, 70.05, 70.6, 66.75, 68.3, 67.5, 71.55, 68.25, 67.75, 78.95, 63.6, 71.55, 67.85, 70.25, 70.0, 75.9, 69.25, 65.7, 74.25, 70.55, 71.4, 69.8, 75.1, 70.0, 65.4, 70.4, 71.55, 63.1, 69.2, 70.4, 67.15, 66.15, 60.65, 71.15, 68.3, 72.75, 69.0, 65.8, 66.0, 65.6, 66.85, 70.45, 63.9, 67.95, 68.95, 68.95, 65.7, 68.35, 62.15, 65.4, 70.85, 74.55, 75.85, 70.7, 62.95, 69.65, 66.95, 64.15, 71.15, 71.55, 64.85, 67.25, 64.05, 70.5, 70.05, 67.05, 69.95, 73.2, 72.85, 70.3, 62.4, 70.2, 69.65, 71.2, 71.4, 67.9, 74.15, 66.2, 71.4, 71.55, 71.05, 70.9, 76.1, 67.5, 72.55, 69.8, 70.15, 69.3, 68.7, 70.6, 73.7, 69.65, 66.2, 74.5, 69.7, 72.2, 67.45, 72.3, 69.75, 66.8, 68.15, 72.6, 69.55, 66.65, 71.15, 73.0, 68.65, 69.2, 70.85, 64.55, 69.65, 73.7, 70.15, 68.9, 74.4, 71.6, 66.8, 67.95, 69.55, 67.35, 69.95, 77.35, 64.0, 70.25, 70.6, 67.25, 73.75, 72.05, 68.1, 74.3, 69.7, 72.55, 76.35, 71.1, 67.4, 66.25, 67.85, 74.25, 77.1, 66.25, 74.05, 65.45, 68.05, 72.9, 71.7, 65.1, 69.4, 72.25, 73.15, 71.4, 65.4, 68.85, 71.95, 68.6, 70.0, 68.4, 68.35, 75.45, 73.3, 71.0, 67.5, 67.7, 74.8, 70.4, 66.0, 70.45, 65.65, 69.8, 66.5, 70.65, 69.15, 70.4, 69.55, 64.95, 68.6, 67.25, 65.5, 69.8, 69.95, 69.65, 69.4, 66.1, 70.5, 72.25, 66.6, 71.55, 76.65, 64.15, 74.35, 68.3, 63.95, 73.6, 72.0, 69.25, 71.05, 69.0, 71.15, 70.75, 68.9, 73.15, 68.9, 74.55, 70.8, 68.15, 67.3, 73.65, 67.15, 69.5, 73.05, 67.6, 67.4, 72.2, 66.2, 74.2, 69.55, 67.45, 69.85, 64.35, 72.8, 73.4, 66.45, 61.35, 75.95, 70.5, 62.0, 72.9, 69.1, 65.2, 70.0, 73.45, 66.4, 69.3, 73.2, 61.85, 73.2, 65.6, 72.1, 67.6, 72.0, 69.25, 67.6, 66.4, 70.25, 71.1, 68.3, 74.2, 72.05, 66.8, 67.8, 72.5, 67.35, 67.5, 67.6, 70.1, 66.75, 65.95, 66.6, 70.55, 68.75, 69.35, 66.45, 73.35, 72.3, 70.85, 70.1, 64.85, 66.7, 73.0, 66.6, 71.25, 67.65, 68.55, 70.9, 64.05, 66.75, 62.55, 68.9, 73.2, 69.55, 70.4, 65.8, 70.6, 68.6, 64.15, 73.3, 68.3, 66.0, 72.4, 67.7, 70.15, 69.8, 67.35, 70.15, 74.9, 71.85, 66.05, 64.6, 76.55, 70.85, 68.25, 65.4, 71.25, 69.55, 68.75, 68.2, 74.5, 71.05, 70.95, 73.35, 70.35, 71.2, 65.4, 67.5, 76.55, 73.55, 69.9, 69.6, 68.05, 73.5, 69.05, 67.5, 69.45, 63.05, 72.0, 67.45, 65.55, 65.55, 72.6, 69.25, 70.25, 71.1, 74.3, 76.4, 65.45, 75.9, 69.15, 71.85, 68.85, 67.15, 68.35, 69.4, 65.2, 59.35, 67.1, 68.35, 68.3, 74.1, 71.05, 73.3, 69.25, 68.95, 70.15, 74.25, 72.25, 71.1, 65.45, 72.35, 69.25, 67.0, 72.35, 70.05, 71.35, 65.35, 69.85, 70.85, 64.75, 76.7, 71.1, 68.35, 71.3, 67.0, 67.5, 73.15, 73.9, 71.9, 67.35, 72.8, 66.25, 74.65, 69.6, 74.5, 77.1, 70.25, 64.2, 69.65, 69.8, 69.45, 67.85, 65.3, 69.1, 71.1, 65.75, 70.9, 62.85, 68.45, 71.1, 67.85, 69.65, 70.95, 71.7, 66.85, 69.05, 68.6, 68.9, 69.45, 69.5, 69.2, 73.65, 69.4, 68.05, 68.55, 68.0, 68.8, 70.25, 68.55, 69.05, 67.3, 73.25, 70.5, 66.55, 70.35, 68.4, 67.1, 65.1, 68.7, 64.8, 70.05, 68.45, 66.7, 72.35, 73.55, 68.45, 66.4, 62.55, 70.05, 72.55, 71.3, 69.75, 71.1, 61.6, 70.5, 70.3, 68.75, 72.1, 69.1, 75.4, 72.05, 69.9, 63.8, 65.85, 65.6, 69.4, 69.9, 64.7, 71.7, 71.65, 65.35, 66.0, 65.1, 68.15, 70.2, 66.25, 67.7, 70.4, 68.45, 72.5, 72.9, 68.8, 72.7, 66.2, 73.8, 65.05, 70.7, 63.75, 67.75, 74.15, 67.85, 67.05, 67.8, 65.65, 71.75, 66.15, 68.45, 69.0, 70.1, 68.05, 68.55, 71.3, 65.0, 67.7, 70.95, 64.95, 70.95, 75.8, 70.95, 67.75, 68.35, 65.85, 74.05, 67.9, 67.8, 65.45, 66.05, 76.6, 73.65, 66.6, 64.2, 73.0, 71.55, 78.35, 68.85, 67.7, 68.3, 69.85, 73.45, 68.1, 67.6, 76.8, 69.3, 66.4, 71.05, 72.25, 71.95, 74.6, 66.95, 71.7, 70.55, 69.25, 73.0, 72.65, 67.4, 72.15, 65.85, 69.7, 74.0, 70.0, 67.2, 72.8, 69.1, 69.6, 73.9, 68.85, 64.8, 64.65, 66.85, 67.65, 64.45, 66.7, 72.4, 75.5, 70.85, 73.8, 64.5, 65.65, 73.4, 72.05, 66.05, 71.2, 66.1, 71.8, 71.15, 69.2, 74.7, 64.15, 68.05, 71.55, 70.2, 69.25, 70.85, 68.85, 71.75, 66.95, 69.1, 67.65, 68.9, 67.8, 73.55, 73.0, 73.15, 74.6, 67.65, 71.15, 73.8, 64.65, 63.4, 66.1, 73.9, 70.0, 68.6, 67.3, 65.05, 73.9, 68.55, 71.45, 66.1, 68.35, 67.45, 72.55, 68.55, 72.9, 66.75, 73.55, 73.85, 73.0, 67.55, 67.4, 68.4, 64.15, 65.2, 72.2, 68.35, 67.85, 70.0, 65.55, 70.6, 70.6, 72.1, 66.05, 61.75, 66.2, 68.9, 68.55, 69.0, 68.25, 72.9, 73.55, 71.0, 70.7, 75.4, 68.7, 65.65, 68.95, 69.25, 69.6, 67.15, 69.6, 74.5, 67.2, 74.4, 71.15, 67.2, 68.4, 76.4, 66.7, 63.5, 67.65, 73.0, 70.05, 67.65, 70.55, 74.55, 70.75, 73.0, 68.6, 60.6, 72.8, 73.2, 72.6, 76.25, 73.95, 66.85, 68.15, 65.35, 69.95, 71.25, 69.55, 69.25, 64.6, 61.8, 73.8, 62.5, 64.85, 63.45, 70.55, 73.0, 69.05, 66.85, 70.0, 68.65, 67.0, 67.05, 72.4, 64.05, 66.15, 67.25, 69.0, 65.55, 70.3, 68.85, 67.75, 73.85, 71.6, 64.35, 66.0, 77.2, 68.65, 68.7, 66.8, 74.25, 72.05, 65.9, 68.85, 66.95, 72.55, 69.55, 64.8, 65.85, 71.2, 73.25, 69.55, 71.65, 68.8, 73.45, 69.4, 72.35, 69.35, 68.35, 71.95, 68.95, 74.6, 71.05, 68.55, 65.45, 71.0, 74.1, 71.1, 75.75, 70.85, 72.0, 70.25, 76.2, 75.7, 69.0, 70.4, 69.8, 67.3, 66.15, 68.75, 74.65, 68.65, 74.25, 68.95, 65.85, 68.7, 72.85, 70.7, 68.75, 62.35, 69.0, 71.85, 69.55, 71.1, 74.6, 65.8, 65.85, 74.05, 68.2, 73.5, 65.7, 69.2, 65.75, 66.05, 72.95, 69.35, 67.8, 68.4, 73.9, 69.75, 75.55, 73.35, 67.5, 70.85, 68.6, 70.5, 67.3, 72.5, 71.35, 68.45, 72.15, 68.9, 66.1, 70.75, 67.8, 75.05, 73.35, 64.8, 67.15, 70.1, 71.75, 72.45, 68.4, 72.5, 68.8, 70.25, 72.0, 72.35, 71.1, 70.6, 70.4, 73.1, 68.35, 61.8, 70.65, 65.4, 68.4, 70.85, 73.9, 66.4, 70.9, 70.6, 68.35, 68.55, 68.15, 66.5, 72.45, 67.5, 68.75, 65.8, 69.05, 75.55, 73.05, 70.5, 69.65, 73.45, 68.05, 63.05, 67.65, 72.15, 72.1, 72.6, 71.65, 65.2, 69.35, 72.55, 69.1, 68.5, 72.65, 71.05, 69.5, 70.1, 79.3, 72.2, 68.15, 68.1, 70.15, 65.65, 66.85, 66.95, 69.3, 62.75, 70.25, 72.65, 66.9, 69.95, 73.85, 68.65, 66.85, 67.6, 67.15, 70.0, 64.1, 65.5, 70.2, 68.0, 68.5, 71.7, 66.35, 73.55, 65.5, 64.1, 74.05, 69.8, 70.65, 63.9, 65.8, 65.75, 67.95, 66.6, 71.8, 67.3, 67.85, 72.05, 68.65, 66.4, 70.65, 72.3, 72.05, 70.4, 75.95, 72.45, 71.2, 70.7, 66.95, 73.25, 70.7, 65.3, 70.55, 69.65, 69.65, 72.3, 68.25, 66.5, 71.3, 67.75, 65.0, 67.7, 65.65, 68.6, 67.7, 70.4, 75.55, 69.75, 70.9, 76.05, 72.0, 72.25, 72.8, 67.0, 68.9, 65.05, 68.35, 63.85, 70.45, 76.5, 73.4, 65.75, 68.95, 67.45, 74.75, 66.6, 67.65, 70.4, 64.65, 67.45, 69.55, 67.25, 64.65, 71.15, 67.75, 71.35, 68.25, 66.95, 73.05, 71.85, 68.4, 74.25, 66.7, 70.05, 65.0, 68.25, 67.8, 65.85, 63.85, 74.3, 62.8, 67.4, 70.15, 64.15, 69.0, 71.55, 74.7, 71.65, 68.75, 68.25, 69.75, 73.75, 64.15, 69.45, 72.1, 67.75, 70.55, 69.6, 69.2, 69.65, 67.95, 74.05, 72.05, 73.05, 71.65, 70.95, 68.75, 70.0, 66.9, 68.3, 71.85, 66.8, 73.95, 67.4, 61.55, 62.8, 64.65, 71.0, 67.25, 65.1, 69.95, 74.1, 68.45, 69.1, 67.9, 68.4, 71.05, 68.8, 71.55, 65.6, 69.2, 67.35, 71.25, 70.2, 72.25, 71.7, 64.8, 67.25, 67.25, 73.2, 65.15, 70.45, 67.4, 77.45, 63.2, 68.25, 65.8, 75.45, 70.0, 73.4, 72.0, 69.75, 74.3, 69.15, 68.3, 73.6, 73.15, 70.75, 66.0, 71.45, 70.75, 66.4, 71.2, 62.75, 73.6, 73.15, 72.9, 71.55, 69.1, 70.8, 68.4, 77.2, 69.05, 69.15, 71.2, 71.0, 69.0, 66.35, 70.45, 71.6, 67.15, 66.95, 67.55, 72.15, 66.45, 68.85, 67.0, 68.55, 76.35, 67.7, 71.4, 66.95, 68.05, 68.1, 68.9, 71.2, 66.5, 69.7, 63.3, 67.65, 72.1, 66.9, 67.3, 64.4, 68.9, 66.0, 68.3, 65.65, 69.95, 62.95, 71.45, 70.95, 71.2, 68.15, 71.6, 66.55, 69.8, 76.25, 69.9, 68.65, 69.5, 66.5, 66.5, 62.25, 69.25, 66.15, 63.05, 67.5, 72.6, 64.05, 69.5, 75.8, 68.65, 69.9, 70.25, 62.95, 71.5, 73.7, 68.95, 73.9, 68.25, 67.15, 69.95, 71.4, 73.35, 66.7, 66.1, 73.3, 71.1, 75.95, 76.75, 69.6, 62.65, 68.35, 68.75, 69.3, 68.8, 70.85, 67.9, 68.45, 65.45, 73.0, 70.25, 72.95, 71.85, 68.2, 72.0, 71.25, 73.45, 73.1, 70.4, 64.65, 66.95, 67.25, 67.3, 70.05, 71.75, 68.75, 71.5, 72.25, 60.85, 69.35, 69.55, 65.6, 67.45, 71.4, 69.9, 68.1, 74.15, 65.35, 67.9, 67.1, 70.85, 73.2, 69.3, 67.8, 70.3, 68.6, 75.2, 70.45, 70.1, 71.45, 63.95, 74.55, 74.1, 65.7, 66.35, 63.8, 70.4, 63.85, 68.9, 70.1, 67.9, 67.7, 69.95, 68.65, 67.2, 71.05, 74.9, 73.3, 66.0, 69.05, 72.0, 64.85, 72.45, 70.4, 69.9, 69.4, 69.5, 71.95, 70.3, 65.3, 66.6, 69.05, 69.75, 68.8, 70.2, 66.8, 71.65, 73.5, 74.8, 72.45, 73.3, 69.5, 65.65, 68.25, 63.6, 68.85, 71.25, 64.85, 69.75, 65.35, 69.85, 68.15, 68.6, 65.0, 72.75, 69.65, 67.3, 62.6, 67.35, 73.45, 65.3, 67.85, 69.15, 69.9, 75.35, 67.75, 68.35, 66.55, 71.8, 69.0, 70.4, 71.35, 68.8, 68.45, 71.0, 72.95, 68.15, 62.15, 74.4, 74.3, 75.7, 69.45, 70.55, 71.4, 70.45, 65.75, 65.65, 70.3, 73.5, 67.15, 68.5, 74.4, 71.65, 66.35, 65.2, 67.4, 71.8, 68.15, 70.95, 75.05, 66.2, 65.6, 65.55, 65.6, 68.55, 66.75, 63.55, 69.45, 69.3, 64.1, 75.75, 73.85, 72.85, 67.1, 68.0, 71.0, 65.8, 75.6, 66.15, 68.6, 68.7, 66.2, 68.9, 68.5, 74.3, 72.4, 68.7, 67.8, 69.9, 72.85, 63.0, 64.8, 67.45, 74.8, 69.5, 64.95, 76.0, 66.35, 70.35, 73.7, 73.05, 69.9, 71.1, 76.75, 68.85, 68.5, 65.4, 65.9, 66.45, 62.4, 70.8, 69.0, 72.05, 68.45, 67.2, 64.45, 69.0, 69.15, 70.1, 69.8, 69.95, 70.4, 72.1, 70.3, 67.5, 71.15, 67.85, 65.1, 67.5, 70.85, 77.7, 68.25, 71.1, 68.3, 64.6, 64.0, 68.7, 71.85, 71.2, 68.95, 73.75, 67.8, 69.0, 73.1, 73.05, 70.75, 66.85, 72.3, 65.4, 68.8, 68.55, 70.15, 66.5, 71.75, 70.45, 68.85, 64.4, 67.9, 60.35, 66.55, 70.15, 68.95, 67.75, 72.15, 72.5, 69.7, 68.5, 68.9, 71.1, 69.85, 65.4, 72.0, 72.65, 64.2, 67.05, 71.15, 68.95, 69.9, 74.7, 70.2, 70.25, 62.6, 70.15, 68.5, 69.75, 62.7, 66.4, 66.5, 65.65, 72.3, 68.55, 69.7, 60.8, 68.75, 65.65, 71.15, 69.05, 73.05, 66.8, 69.75, 66.0, 68.9, 75.1, 68.4, 70.0, 72.3, 64.75, 73.65, 66.15, 69.35, 66.75, 66.4, 72.2, 70.4, 75.75, 72.45, 70.5, 71.8, 69.3, 68.1, 72.5, 67.2, 72.45, 75.6, 71.3, 69.85, 71.1, 71.9, 70.5, 69.65, 73.1, 65.65, 71.9, 68.8, 72.5, 67.65, 70.95, 69.55, 69.75, 68.25, 73.2, 73.4, 64.8, 70.2, 69.8, 67.2, 69.45, 68.75, 70.95, 68.55, 68.05, 72.0, 74.5, 66.25, 71.8, 66.45, 68.6, 70.1, 70.65, 73.8, 66.3, 68.95, 62.7, 73.4, 70.6, 69.55, 67.25, 67.0, 68.2, 66.75, 69.7, 70.75, 71.4, 66.2, 68.15, 67.35, 73.45, 63.2, 66.05, 66.25, 68.2, 68.5, 70.55, 74.45, 68.4, 65.15, 66.7, 71.35, 69.35, 61.8, 68.55, 69.5, 64.05, 68.0, 67.65, 71.3, 68.15, 75.0, 69.1, 67.7, 75.2, 61.2, 67.95, 67.65, 68.5, 69.35, 69.45, 67.95, 69.2, 72.7, 68.1, 71.7, 70.8, 66.55, 70.25, 71.95, 73.25, 66.45, 66.65, 71.35, 77.95, 69.1, 74.0, 68.7, 72.05, 72.6, 71.35, 67.05, 68.2, 69.2, 72.55, 67.85, 71.05, 75.55, 68.75, 66.15, 70.2, 72.15, 69.45, 72.6, 65.95, 66.45, 67.25, 67.45, 69.7, 76.75, 68.45, 65.85, 68.7, 73.5, 70.35, 67.25, 68.35, 66.3, 72.2, 69.75, 64.1, 67.0, 69.9, 68.05, 73.25, 67.45, 64.1, 68.55, 71.35, 65.9, 71.45, 75.55, 66.95, 73.3, 67.8, 68.7, 74.9, 66.15, 72.35, 71.05, 72.7, 73.75, 68.1, 70.5, 74.75, 64.6, 71.8, 63.25, 66.55, 67.25, 65.6, 70.25, 71.6, 68.25, 73.55, 66.2, 67.8, 70.5, 68.35, 70.05, 69.65, 75.75, 64.6, 67.8, 65.45, 70.35, 69.25, 76.4, 68.45, 73.4, 72.55, 70.5, 71.6, 68.25, 68.7, 76.6, 68.7, 63.95, 62.2, 70.85, 68.0, 64.25, 71.0, 66.1, 69.25, 68.2, 68.35, 67.3, 69.8, 69.05, 72.05, 71.1, 63.5, 73.45, 73.15, 66.5, 70.85, 65.45, 72.6, 69.1, 72.75, 70.45, 70.05, 66.9, 63.3, 70.55, 68.9, 69.5, 72.15, 68.1, 67.4, 68.15, 75.45, 66.8, 70.65, 71.4, 73.6, 68.05, 66.85, 70.4, 73.35, 76.7, 66.55, 70.1, 74.1, 63.45, 66.35, 71.9, 71.0, 69.05, 67.4, 64.9, 73.05, 69.05, 72.8, 65.95, 70.65, 65.2, 70.85, 71.5, 70.2, 67.9, 65.45, 71.95, 67.55, 70.2, 70.4, 69.0, 69.15, 72.95, 69.7, 66.85, 69.25, 65.3, 77.45, 69.1, 63.45, 72.85, 67.4, 71.1, 71.6, 74.7, 69.45, 69.75, 79.65, 62.35, 61.6, 67.6, 68.85, 66.45, 70.05, 64.2, 70.15, 66.85, 72.8, 69.15, 71.05, 66.2, 70.7, 69.9, 68.75, 65.45, 71.25, 70.95, 72.75, 73.65, 66.55, 68.35, 70.35, 66.65, 66.55, 73.75, 68.75, 63.25, 64.1, 71.55, 69.05, 65.4, 69.25, 66.55, 63.45, 63.4, 69.7, 71.05, 75.1, 69.15, 67.1, 70.95, 76.55, 71.65, 70.8, 69.25, 64.75, 77.55, 71.6, 67.5, 72.9, 72.4, 68.5, 68.45, 71.75, 70.55, 67.95, 69.15, 71.7, 67.0, 73.4, 68.9, 66.5, 68.3, 68.75, 62.45, 69.35, 71.95, 69.15, 72.2, 75.25, 66.5, 69.65, 70.4, 73.15, 70.45, 63.8, 69.1, 72.95, 70.35, 70.6, 64.9, 66.4, 66.9, 63.7, 66.65, 72.8, 74.05, 67.15, 69.65, 66.0, 70.5, 71.9, 60.15, 69.5, 68.25, 66.15, 71.3, 70.95, 70.7, 78.3, 75.9, 70.1, 71.4, 70.45, 67.9, 71.05, 69.2, 65.1, 71.4, 67.0, 72.5, 68.65, 65.7, 66.7, 71.3, 63.2, 69.05, 62.65, 66.3, 69.65, 71.85, 70.5, 67.75, 65.2, 70.7, 74.35, 71.95, 71.05, 72.7, 71.05, 75.9, 72.65, 67.1, 69.4, 65.6, 73.15, 72.35, 72.4, 69.45, 68.45, 63.65, 68.5, 65.5, 65.55, 73.6, 76.75, 65.45, 69.5, 65.7, 68.75, 71.8, 74.2, 70.75, 71.35, 70.0, 74.4, 73.8, 69.9, 70.05, 73.35, 70.5, 68.95, 67.9, 67.5, 71.35, 72.5, 72.95, 72.4, 69.25, 67.5, 65.7, 69.2, 68.75, 70.2, 69.75, 72.35, 73.85, 70.65, 68.55, 63.9, 68.4, 73.5, 68.0, 73.55, 66.05, 69.75, 71.85, 67.8, 72.85, 68.0, 70.15, 70.8, 65.25, 67.05, 74.75, 71.2, 68.6, 66.35, 66.05, 69.7, 73.8, 73.9, 68.55, 67.15, 71.85, 72.75, 66.7, 70.05, 72.4, 69.6, 68.0, 71.7, 69.65, 66.25, 65.55, 66.55, 71.35, 70.3, 74.1, 69.15, 72.85, 73.5, 69.15, 71.8, 70.9, 70.95, 68.95, 62.75, 71.35, 74.15, 78.0, 71.15, 72.95, 67.95, 68.85, 72.65, 70.8, 67.4, 72.35, 65.55, 69.4, 76.2, 77.9, 67.2, 65.25, 69.85, 70.15, 67.75, 65.95, 71.3, 70.45, 66.85, 65.65, 70.15, 66.45, 71.1, 67.75, 64.9, 73.95, 68.7, 70.7, 66.75, 65.9, 70.1, 67.0, 67.85, 67.15, 73.65, 68.6, 72.8, 73.95, 70.45, 70.3, 69.75, 71.2, 67.5, 69.55, 67.4, 72.5, 71.45, 76.05, 74.7, 71.15, 66.9, 66.25, 66.25, 62.8, 70.85, 70.2, 64.8, 69.2, 69.35, 63.65, 68.05, 68.45, 76.95, 71.3, 71.55, 63.65, 69.9, 69.85, 63.6, 71.8, 69.9, 76.2, 67.25, 66.3, 73.0, 68.95, 73.65, 70.15, 72.15, 67.1, 70.15, 68.2, 72.2, 73.0, 66.0, 70.7, 70.35, 68.7, 64.6, 69.75, 70.8, 68.05, 73.1, 69.15, 68.1, 70.8, 70.85, 65.95, 71.25, 72.05, 70.05, 67.7, 73.05, 68.95, 71.7, 70.0, 72.35, 76.6, 68.1, 66.6, 63.6, 69.15, 70.7, 69.6, 66.5, 68.25, 75.3, 68.85, 71.05, 71.9, 69.0, 70.6, 70.65, 73.9, 69.05, 67.85, 68.35, 70.95, 66.1, 72.25, 63.55, 74.95, 69.4, 71.0, 70.05, 71.0, 71.3, 75.25, 71.1, 68.25, 70.9, 65.45, 71.15, 70.55, 70.25, 71.15, 68.95, 75.3, 64.4, 71.4, 71.1, 68.85, 70.7, 67.85, 71.2, 66.1, 68.3, 72.7, 74.85, 74.15, 70.75, 70.9, 74.3, 75.05, 71.6, 69.4, 70.85, 72.9, 68.5, 66.4, 68.2, 69.45, 72.45, 66.2, 67.65, 67.85, 70.4, 73.45, 69.85, 69.3, 70.9, 66.3, 76.15, 72.7, 62.7, 70.1, 73.6, 61.85, 69.9, 78.8, 66.8, 64.2, 72.45, 65.25, 72.75, 69.4, 68.6, 65.95, 63.45, 65.4, 68.55, 68.3, 69.85, 72.25, 72.85, 69.1, 70.1, 69.1, 71.35, 67.45, 71.35, 68.8, 67.4, 64.0, 68.4, 73.3, 66.45, 69.3, 70.7, 66.6, 68.0, 67.0, 75.6, 72.8, 68.25, 71.5, 64.95, 67.3, 72.5, 68.6, 70.0, 70.15, 67.9, 67.55, 67.5, 65.25, 69.2, 69.4, 72.65, 73.5, 72.6, 69.15, 68.85, 64.55, 67.7, 74.3, 70.8, 64.95, 74.3, 67.45, 69.65, 71.85, 71.3, 68.65, 64.9, 72.75, 72.65, 71.25, 69.95, 70.9, 64.5, 73.7, 68.1, 71.45, 73.45, 71.7, 66.1, 68.9, 69.5, 73.4, 69.25, 70.95, 65.3, 71.9, 70.8, 71.35, 70.95, 69.45, 69.25, 70.35, 69.5, 71.15, 68.5, 70.4, 63.55, 65.25, 69.8, 69.15, 67.45, 63.75, 63.7, 71.8, 73.3, 66.5, 70.45, 68.75, 70.85, 63.8, 67.55, 68.9, 65.95, 73.25, 70.45, 67.5, 78.5, 67.5, 67.45, 67.4, 63.55, 68.1, 70.25, 67.05, 80.2, 69.4, 71.75, 69.85, 62.55, 66.55, 75.1, 70.0, 68.75, 69.25, 73.9, 69.7, 73.75, 65.35, 68.15, 71.5, 66.45, 71.45, 69.9, 72.8, 72.2, 68.8, 70.8, 70.05, 68.1, 66.55, 70.1, 68.3, 69.2, 61.75, 69.4, 68.15, 71.25, 73.75, 68.8, 70.55, 67.2, 73.0, 65.9, 70.85, 73.15, 67.1, 64.2, 68.15, 76.3, 71.7, 73.6, 69.9, 65.7, 73.1, 73.05, 69.4, 67.0, 73.65, 65.65, 64.3, 68.35, 68.45, 70.0, 74.25, 72.8, 73.55, 66.1, 69.35, 71.85, 66.8, 72.7, 67.35, 70.7, 75.85, 72.1, 68.7, 71.85, 69.75, 75.35, 72.55, 69.05, 67.7, 67.8, 67.7, 72.45, 70.85, 70.0, 69.25, 68.2, 70.35, 61.85, 65.0, 71.95, 62.95, 68.65, 73.9, 67.5, 73.85, 74.1, 70.2, 68.85, 72.65, 64.35, 71.65, 72.0, 70.8, 73.9, 69.85, 68.4, 72.85, 70.7, 70.6, 71.95, 71.35, 72.1, 68.45, 67.45, 72.55, 65.95, 71.5, 63.25, 65.55, 68.5, 73.2, 70.35, 67.95, 66.4, 62.65, 68.35, 68.6, 68.55, 67.05, 69.55, 69.3, 69.3, 64.2, 67.0, 69.0, 64.2, 67.65, 71.65, 67.95, 71.45, 74.1, 72.1, 71.05, 66.85, 72.35, 69.6, 71.0, 66.8, 66.4, 70.7, 71.6, 67.95, 68.25, 65.3, 66.85, 65.5, 74.75, 69.05, 65.1, 65.85, 67.25, 65.0, 67.05, 73.55, 72.35, 71.7, 69.05, 65.2, 68.1, 68.75, 67.45, 73.65, 71.2, 65.2, 68.2, 65.35, 68.15, 75.0, 71.9, 70.15, 65.6, 63.9, 71.45, 67.65, 69.5, 72.05, 67.85, 71.8, 68.0, 69.5, 68.2, 70.7, 71.1, 68.7, 72.3, 67.0, 70.05, 71.3, 67.3, 72.75, 73.65, 69.6, 67.7, 73.9, 76.95, 63.35, 70.75, 70.75, 74.6, 72.9, 72.25, 70.95, 67.8, 70.75, 67.4, 68.6, 71.0, 71.35, 64.6, 65.1, 81.5, 75.9, 71.0, 71.75, 69.6, 71.7, 70.3, 72.5, 69.55, 71.05, 68.2, 68.95, 67.95, 68.6, 66.85, 68.75, 67.85, 71.25, 63.65, 74.35, 73.3, 71.15, 70.55, 66.35, 69.05, 67.6, 71.05, 67.5, 72.35, 72.4, 69.85, 72.5, 71.35, 64.1, 68.6, 68.65, 68.6, 71.2, 70.5, 67.15, 72.2, 63.5, 67.45, 71.95, 76.2, 69.05, 72.0, 59.25, 72.0, 66.2, 72.9, 69.2, 70.9, 70.4, 64.25, 70.6, 67.65, 75.75, 63.25, 68.3, 75.4, 67.85, 64.5, 64.2, 74.0, 70.4, 66.9, 69.45, 70.3, 66.65, 72.05, 65.1, 69.7, 74.35, 70.65, 71.3, 80.0, 68.7, 67.15, 70.9, 68.9, 69.55, 63.95, 71.4, 77.5, 70.45, 74.0, 67.0, 64.4, 69.4, 70.5, 67.7, 66.05, 68.05, 64.05, 65.25, 71.6, 67.95, 73.5, 71.55, 63.75, 69.85, 71.0, 73.0, 67.05, 63.6, 64.75, 73.05, 73.4, 66.6, 73.55, 72.9, 69.5, 69.9, 68.1, 72.7, 70.2, 72.0, 77.15, 68.0, 70.6, 75.0, 72.3, 73.6, 72.55, 69.9, 73.05, 74.1, 62.15, 74.35, 77.0, 73.25, 77.8, 71.95, 69.9, 66.0, 65.85, 65.45, 67.05, 64.45, 69.85, 69.5, 68.0, 70.15, 72.2, 71.55, 69.9, 67.0, 65.2, 66.6, 76.85, 77.2, 67.4, 78.4, 68.25, 71.1, 77.85, 69.85, 73.2, 67.25, 72.75, 64.45, 74.25, 71.05, 70.8, 73.35, 73.05, 68.95, 65.85, 67.0, 69.6, 68.7, 73.1, 71.8, 64.95, 68.2, 66.35, 70.85, 66.85, 70.15, 71.1, 77.65, 68.45, 70.35, 69.45, 71.5, 70.4, 71.6, 65.6, 66.15, 68.55, 71.35, 69.3, 70.05, 73.95, 72.1, 70.25, 74.9, 67.3, 66.6, 72.6, 66.35, 71.2, 67.5, 68.45, 65.4, 66.0, 73.05, 69.15, 70.55, 70.8, 75.1, 67.35, 71.85, 73.2, 73.6, 70.0, 72.6, 77.8, 70.05, 73.55, 67.75, 68.6, 66.55, 66.95, 71.2, 74.4, 68.55, 63.0, 71.25, 65.85, 67.45, 68.95, 67.35, 70.5, 69.15, 70.85, 69.85, 68.25, 69.4, 69.35, 68.2, 70.3, 65.95, 70.2, 68.7, 71.9, 71.95, 66.6, 74.95, 71.1, 74.5, 73.65, 70.7, 67.55, 72.35, 73.35, 70.35, 73.25, 69.95, 69.0, 70.0, 69.15, 67.0, 68.55, 67.6, 65.2, 70.5, 69.9, 66.15, 72.4, 64.65, 70.0, 68.15, 71.0, 67.5, 66.3, 64.9, 66.45, 74.25, 73.0, 65.2, 67.15, 70.9, 71.05, 68.45, 70.4, 67.6, 67.9, 72.85, 69.05, 72.7, 74.25, 72.1, 63.7, 71.95, 69.1, 72.55, 71.55, 67.05, 70.5, 67.75, 72.3, 64.0, 69.2, 76.6, 67.15, 67.05, 68.65, 66.85, 70.55, 69.9, 69.3, 65.95, 70.55, 65.4, 69.45, 75.4, 67.6, 70.6, 70.0, 68.15, 77.15, 63.9, 70.85, 65.6, 71.35, 65.55, 70.9, 72.8, 70.5, 67.8, 68.1, 70.35, 70.1, 67.75, 71.75, 70.4, 71.85, 70.75, 69.95, 65.55, 68.8, 71.95, 67.1, 69.85, 71.5, 67.0, 69.9, 68.45, 67.95, 69.3, 68.7, 63.3, 70.3, 72.65, 71.3, 70.25, 66.8, 70.0, 68.4, 61.7, 69.4, 70.9, 66.8, 68.0, 67.85, 62.85, 65.1, 69.7, 68.55, 69.25, 67.1, 70.35, 72.85, 73.0, 67.95, 66.15, 69.2, 66.85, 64.65, 70.8, 69.0, 65.55, 71.75, 68.85, 73.4, 69.6, 69.5, 73.2, 77.15, 71.3, 69.9, 62.8, 69.1, 72.2, 69.4, 66.8, 64.85, 68.7, 72.45, 69.65, 70.4, 78.05, 70.45, 69.05, 72.8, 66.6, 71.15, 70.9, 68.2, 71.25, 62.5, 70.6, 72.9, 70.9, 67.8, 69.9, 73.4, 71.4, 62.75, 68.4, 71.5, 65.35, 74.75, 64.05, 67.45, 74.05, 67.35, 66.4, 76.75, 71.1, 66.55, 74.5, 69.0, 63.45, 65.8, 70.45, 70.25, 73.0, 71.85, 70.05, 66.3, 65.25, 69.8, 63.3, 68.8, 66.6, 73.85, 66.85, 68.0, 71.75, 73.35, 62.9, 69.9, 71.8, 69.0, 68.95, 71.0, 63.9, 68.9, 70.25, 71.55, 70.85, 67.5, 63.65, 74.85, 72.85, 69.7, 67.05, 63.0, 65.2, 67.3, 68.15, 69.3, 68.75, 72.7, 75.1, 69.05, 70.0, 72.3, 69.95, 68.45, 66.4, 62.75, 73.75, 68.5, 70.25, 72.3, 73.35, 67.65, 75.25, 68.65, 74.0, 71.3, 70.5, 69.6, 65.65, 67.6, 68.0, 69.2, 69.7, 73.3, 68.45, 64.8, 73.15, 67.3, 69.95, 72.25, 68.15, 61.5, 64.4, 72.3, 66.6, 65.3, 69.9, 70.75, 71.45, 65.5, 69.9, 68.5, 73.35, 66.7, 68.95, 70.1, 66.3, 74.95, 72.0, 73.15, 66.25, 62.6, 73.7, 68.25, 69.3, 68.05, 65.85, 74.7, 73.6, 68.4, 70.7, 66.55, 72.85, 66.0, 71.25, 65.8, 62.5, 67.2, 72.4, 70.8, 68.05, 71.55, 65.0, 68.95, 65.85, 59.85, 71.25, 68.45, 66.5, 71.95, 72.65, 71.65, 68.6, 70.75, 68.65, 67.95, 74.35, 70.35, 66.1, 67.85, 69.25, 66.55, 73.0, 70.45, 68.15, 70.9, 70.7, 70.35, 64.7, 69.35, 66.3, 72.35, 61.15, 73.8, 66.45, 64.6, 66.8, 65.8, 68.45, 66.7, 74.3, 69.65, 76.35, 67.9, 71.8, 67.95, 69.25, 63.55, 75.75, 66.75, 67.9, 71.65, 67.2, 68.9, 62.75, 66.3, 69.3, 70.65, 71.35, 68.75, 71.55, 70.15, 67.95, 64.3, 68.6, 66.85, 71.95, 65.8, 69.4, 72.1, 68.2, 61.45, 72.85, 70.1, 69.25, 69.1, 74.6, 65.45, 73.55, 69.3, 71.3, 63.45, 71.65, 72.65, 71.1, 73.05, 70.95, 71.2, 69.65, 67.25, 68.75, 66.65, 69.0, 64.3, 69.4, 72.5, 67.9, 71.55, 67.25, 69.35, 62.4, 70.3, 66.15, 71.2, 76.3, 75.7, 69.2, 68.8, 67.5, 66.55, 71.65, 72.45, 70.55, 73.9, 68.25, 74.65, 68.85, 72.0, 70.65, 71.5, 71.45, 72.0, 66.45, 74.35, 73.1, 72.75, 71.35, 68.65, 69.45, 66.7, 68.6, 70.65, 66.95, 66.95, 66.6, 71.7, 71.05, 70.1, 70.55, 70.2, 65.75, 69.55, 70.2, 69.5, 67.3, 70.5, 65.7, 69.15, 70.1, 69.6, 66.8, 71.15, 69.2, 70.1, 71.35, 63.25, 67.85, 72.35, 76.55, 69.65, 67.6, 66.6, 65.85, 68.1, 71.05, 66.7, 65.1, 72.8, 70.15, 67.35, 73.5, 66.95, 67.1, 64.5, 68.6, 71.7, 73.5, 67.0, 65.75, 72.2, 68.35, 72.7, 67.05, 74.45, 64.8, 64.15, 73.2, 70.95, 68.2, 69.8, 71.35, 65.45, 72.8, 76.55, 60.9, 63.3, 69.95, 70.25, 72.05, 66.4, 72.4, 71.3, 64.0, 66.95, 65.45, 68.95, 64.4, 71.5, 67.1, 69.05, 70.8, 70.4, 69.1, 69.75, 69.35, 64.6, 69.4, 68.75, 64.9, 66.65, 70.55, 68.95, 69.95, 66.7, 70.6, 66.35, 72.5, 70.65, 72.5, 70.0, 68.35, 66.4, 71.45, 70.0, 67.15, 65.6, 70.55, 66.55, 69.7, 62.6, 69.0, 67.25, 68.0, 68.8, 68.55, 70.75, 71.65, 70.0, 69.3, 67.45, 68.3, 67.0, 74.0, 65.5, 69.55, 72.35, 72.9, 70.3, 68.9, 67.35, 70.5, 68.4, 74.45, 74.85, 65.5, 62.7, 68.5, 71.1, 68.9, 68.5, 73.45, 71.05, 71.65, 67.8, 68.85, 65.7, 70.05, 69.65, 71.15, 66.25, 73.2, 65.85, 73.1, 76.85, 70.1, 70.7, 69.25, 70.65, 73.3, 70.4, 66.8, 75.3, 71.85, 68.4, 68.35, 64.7, 72.45, 71.05, 70.05, 66.25, 72.3, 69.0, 75.05, 64.15, 68.15, 66.95, 69.75, 74.35, 69.0, 74.35, 70.5, 75.35, 73.7, 66.7, 65.4, 68.35, 71.5, 65.15, 64.2, 69.35, 71.25, 66.45, 68.8, 71.6, 66.45, 69.9, 70.55, 73.95, 74.65, 71.55, 65.4, 66.8, 67.25, 70.85, 75.05, 70.1, 67.2, 69.65, 72.7, 68.65, 69.85, 67.8, 70.7, 69.55, 68.15, 70.75, 72.2, 69.9, 66.3, 70.0, 71.0, 70.7, 76.2, 75.25, 65.9, 69.5, 73.9, 73.6, 72.0, 71.0, 64.95, 69.65, 69.0, 68.65, 67.0, 68.25, 69.75, 71.75, 70.05, 64.6, 76.2, 69.0, 69.65, 68.9, 73.25, 68.6, 71.85, 73.05, 71.55, 67.25, 72.75, 65.75, 76.3, 72.7, 72.95, 65.5, 73.2, 71.3, 72.8, 71.05, 66.45, 64.6, 68.85, 67.65, 68.5, 68.95, 67.05, 68.7, 67.65, 70.85, 65.05, 68.05, 75.85, 71.15, 68.5, 66.0, 67.35, 68.7, 73.55, 66.35, 77.05, 71.65, 72.75, 69.3, 75.35, 71.9, 65.25, 69.95, 68.7, 65.6, 66.3, 66.95, 72.85, 71.5, 72.85, 69.35, 67.3, 67.5, 70.6, 71.4, 60.95, 67.5, 68.8, 74.85, 67.5, 70.9, 72.25, 68.3, 64.65, 71.45, 60.35, 66.1, 68.35, 70.95, 73.0, 61.0, 70.35, 71.15, 70.15, 73.3, 67.9, 71.05, 67.55, 71.55, 71.7, 73.85, 62.65, 67.85, 65.5, 66.75, 70.6, 66.15, 69.75, 66.65, 69.15, 70.1, 73.2, 66.6, 66.95, 76.1, 72.8, 67.0, 73.0, 72.6, 69.0, 66.6, 74.5, 67.65, 71.45, 68.65, 69.9, 74.8, 69.95, 73.1, 74.9, 64.2, 68.8, 71.7, 72.85, 67.35, 72.7, 71.7, 72.45, 66.15, 70.9, 71.9, 69.65, 69.75, 68.05, 74.55, 75.65, 68.85, 66.6, 72.9, 71.4, 62.3, 70.15, 72.9, 68.7, 73.65, 69.15, 69.8, 68.9, 70.25, 66.2, 67.75, 70.35, 69.55, 72.45, 64.5, 66.75, 66.65, 65.2, 68.85, 72.0, 68.65, 73.95, 62.55, 69.7, 69.25, 70.2, 71.1, 70.05, 73.15, 66.6, 72.35, 71.35, 67.3, 70.55, 69.95, 65.9, 66.55, 67.3, 72.75, 67.3, 70.1, 71.75, 70.25, 65.3, 64.2, 67.1, 67.75, 70.1, 74.8, 68.35, 68.7, 68.5, 65.15, 69.6, 71.75, 68.25, 68.7, 69.95, 70.9, 68.35, 73.3, 72.15, 71.0, 70.95, 62.35, 67.65, 68.75, 68.05, 67.6, 69.4, 65.6, 68.75, 67.5, 67.7, 72.75, 72.25, 68.75, 63.25, 70.05, 72.8, 72.35, 69.2, 67.45, 71.65, 67.95, 65.15, 69.7, 66.0, 68.1, 68.75, 64.35, 72.55, 72.8, 68.4, 69.15, 69.6, 65.5, 70.5, 65.5, 70.9, 67.7, 72.75, 68.45, 76.0, 69.15, 69.7, 72.25, 68.65, 62.65, 68.85, 77.5, 67.25, 68.05, 71.1, 72.95, 70.65, 68.95, 60.95, 66.5, 72.4, 71.25, 73.0, 66.4, 70.05, 66.85, 70.7, 72.1, 73.15, 76.2, 69.95, 70.95, 66.25, 62.45, 72.9, 68.6, 70.1, 69.15, 68.15, 68.35, 72.25, 73.25, 64.15, 76.7, 65.55, 71.6, 66.0, 72.9, 68.75, 70.9, 68.35, 66.9, 67.7, 69.3, 72.95, 72.1, 65.3, 69.4, 72.0, 67.9, 66.0, 74.4, 70.55, 68.5, 72.45, 70.9, 68.25, 68.25, 71.9, 63.9, 66.7, 67.9, 72.15, 68.95, 69.75, 61.25, 62.7, 65.75, 68.9, 72.8, 69.15, 74.95, 73.85, 63.1, 69.15, 73.45, 69.75, 65.75, 67.7, 67.6, 75.4, 67.35, 64.55, 67.75, 71.2, 72.55, 71.2, 65.5, 73.2, 65.35, 67.3, 64.85, 63.35, 70.65, 76.0, 72.8, 74.7, 71.3, 70.55, 71.9, 74.5, 63.2, 71.95, 67.6, 74.1, 75.25, 69.95, 71.6, 68.1, 73.3, 71.5, 67.6, 74.1, 67.0, 66.05, 73.35, 68.3, 76.05, 71.7, 68.65, 68.95, 75.25, 65.85, 67.45, 65.45, 69.55, 70.25, 68.45, 70.1, 69.35, 70.05, 67.0, 72.4, 70.6, 68.1, 70.5, 70.3, 71.65, 69.7, 67.85, 69.25, 73.0, 75.0, 67.7, 66.7, 65.7, 72.75, 70.05, 69.1, 73.8, 65.6, 69.35, 71.5, 67.4, 66.95, 72.6, 67.4, 63.6, 67.25, 72.5, 70.2, 69.65, 67.25, 68.6, 69.3, 71.95, 72.05, 68.45, 66.8, 61.15, 69.5, 77.6, 73.4, 69.85, 70.45, 71.1, 68.7, 71.7, 67.2, 73.45, 69.2, 67.7, 70.4, 74.7, 67.35, 66.3, 70.2, 69.35, 66.3, 67.1, 72.5, 65.4, 69.95, 71.4, 71.35, 77.7, 64.95, 68.5, 72.55, 66.05, 74.25, 68.8, 69.25, 71.2, 67.15, 68.9, 70.35, 60.6, 70.3, 68.95, 70.95, 68.35, 68.2, 70.65, 70.2, 62.9, 68.0, 71.8, 66.55, 73.05, 69.9, 73.2, 73.95, 66.0, 69.35, 76.05, 70.2, 68.85, 71.0, 65.95, 70.9, 68.7, 71.2, 69.95, 72.9, 66.65, 66.2, 72.45, 68.8, 69.35, 68.25, 66.35, 73.6, 68.4, 65.55, 72.75, 68.35, 71.55, 68.65, 68.95, 71.45, 74.8, 72.3, 70.4, 72.75, 70.95, 69.9, 62.6, 70.25, 70.0, 75.45, 68.95, 70.35, 66.95, 68.75, 73.65, 70.2, 70.85, 69.15, 75.65, 68.7, 71.4, 74.05, 65.0, 68.1, 68.95, 67.05, 68.35, 74.75, 68.3, 61.9, 68.9, 67.1, 65.75, 68.5, 72.55, 67.9, 69.25, 69.25, 65.15, 60.55, 65.6, 71.6, 71.4, 75.05, 68.0, 71.1, 69.35, 63.8, 65.5, 66.8, 67.4, 70.2, 70.15, 66.7, 69.85, 74.1, 68.45, 73.6, 70.65, 65.5, 59.5, 74.85, 70.3, 66.25, 72.9, 64.75, 67.25, 66.85, 64.8, 73.6, 73.65, 72.75, 68.95, 72.8, 71.0, 64.05, 66.65, 70.7, 68.65, 67.45, 69.85, 69.15, 74.15, 68.65, 68.4, 73.95, 66.2, 70.6, 67.55, 67.35, 67.45, 66.9, 72.45, 66.05, 72.1, 67.75, 60.2, 68.8, 62.4, 71.65, 68.15, 68.7, 63.95, 69.55, 75.05, 70.0, 69.3, 71.95, 71.4, 70.2, 70.8, 67.4, 66.15, 68.0, 68.65, 67.35, 71.1, 69.3, 72.0, 70.4, 65.25, 69.3, 65.45, 73.1, 68.75, 70.0, 71.7, 70.3, 69.25, 64.75, 70.85, 68.15, 70.0, 63.15, 73.9, 64.6, 65.85, 69.95, 67.9, 67.7, 68.65, 71.4, 71.65, 66.25, 67.0, 67.1, 67.9, 68.6, 69.5, 75.0, 67.75, 73.2, 71.75, 73.4, 69.6, 67.7, 63.55, 64.55, 75.1, 66.1, 73.2, 72.8, 65.45, 67.3, 64.75, 72.05, 62.3, 60.25, 72.45, 71.35, 66.6, 72.1, 69.15, 65.5, 75.35, 70.9, 65.85, 70.65, 65.55, 69.65, 69.6, 63.5, 64.75, 73.25, 74.3, 65.9, 73.05, 69.2, 67.7, 68.6, 69.25, 73.7, 69.3, 70.9, 75.0, 73.05, 70.45, 71.5, 71.35, 73.6, 71.05, 66.25, 71.75, 67.1, 63.3, 68.15, 66.15, 67.95, 68.9, 69.85, 66.2, 71.05, 71.8, 71.75, 71.3, 71.25, 63.8, 69.55, 67.0, 69.05, 69.7, 70.8, 67.25, 68.7, 69.3, 69.4, 64.75, 72.0, 71.6, 72.6, 69.75, 68.95, 67.35, 70.0, 66.7, 68.05, 68.7, 71.9, 74.8, 70.0, 73.2, 68.15, 73.45, 64.9, 66.65, 64.5, 71.05, 71.85, 59.95, 70.65, 67.3, 75.45, 70.65, 72.65, 73.9, 69.25, 63.85, 67.95, 70.25, 68.3, 74.6, 71.85, 69.45, 63.05, 68.95, 71.7, 68.1, 69.0, 71.3, 67.4, 69.5, 68.0, 66.4, 73.7, 62.0, 70.0, 67.95, 70.3, 66.2, 73.6, 71.25, 71.8, 64.85, 67.2, 69.45, 73.6, 70.2, 71.15, 63.15, 72.35, 70.65, 64.45, 69.7, 71.2, 70.5, 68.25, 67.35, 73.7, 66.85, 68.5, 66.6, 71.95, 74.8, 64.4, 66.75, 66.7, 66.65, 69.4, 73.35, 73.4, 67.4, 70.6, 71.95, 69.3, 68.2, 68.3, 74.2, 70.35, 64.6, 68.55, 68.7, 69.35, 68.75, 70.35, 66.8, 67.0, 69.4, 69.95, 70.05, 67.2, 66.7, 74.25, 66.15, 67.0, 72.1, 69.4, 66.75, 67.3, 67.4, 65.25, 67.45, 67.25, 70.05, 69.35, 68.1, 68.3, 73.85, 71.4, 67.8, 67.5, 69.5, 66.3, 67.9, 67.0, 61.9, 70.2, 71.1, 67.75, 77.45, 64.9, 70.05, 69.95, 67.35, 70.8, 67.95, 71.35, 71.75, 67.7, 68.85, 70.35, 67.75, 71.6, 68.3, 68.6, 70.95, 69.4, 70.15, 67.45, 68.5, 70.1, 62.7, 70.85, 65.1, 62.0, 68.25, 71.8, 69.0, 67.1, 66.95, 68.0, 71.2, 71.35, 66.7, 75.1, 66.8, 68.8, 74.95, 74.9, 70.1, 68.95, 70.3, 65.95, 71.6, 66.85, 70.85, 75.25, 71.65, 70.0, 73.45, 67.4, 67.7, 65.4, 72.45, 71.35, 70.85, 68.2, 65.95, 67.35, 67.3, 70.15, 68.55, 73.5, 65.1, 63.5, 68.15, 62.85, 69.65, 71.4, 75.0, 70.05, 68.15, 65.25, 71.2, 69.5, 68.75, 70.85, 76.05, 71.15, 67.4, 68.1, 60.1, 69.7, 63.6, 67.2, 72.55, 66.55, 72.45, 69.2, 65.7, 67.55, 68.65, 68.4, 68.3, 70.5, 71.9, 73.4, 69.35, 67.7, 66.9, 68.95, 70.25, 69.95, 69.25, 65.75, 71.4, 71.45, 68.65, 71.4, 65.9, 74.75, 68.05, 72.3, 66.55, 67.4, 69.7, 71.15, 73.25, 65.45, 73.25, 67.35, 63.9, 65.5, 69.55, 73.75, 70.0, 65.45, 66.25, 67.55, 68.85, 67.15, 62.85, 71.1, 69.7, 72.4, 69.65, 66.55, 68.95, 74.0, 70.5, 68.7, 71.7, 66.75, 77.35, 68.2, 66.85, 69.3, 70.0, 66.2, 72.25, 70.4, 66.35, 72.2, 66.9, 75.45, 67.3, 73.9, 64.9, 74.75, 72.45, 70.75, 70.55, 68.65, 74.55, 65.65, 66.15, 71.75, 75.7, 71.35, 66.8, 64.7, 71.4, 74.5, 66.3, 68.15, 67.25, 70.2, 70.0, 73.75, 69.1, 69.85, 70.15, 69.85, 71.85, 72.15, 63.85, 62.9, 69.45, 72.9, 68.5, 68.5, 69.0, 66.2, 75.55, 72.5, 67.2, 73.6, 69.3, 62.4, 71.3, 69.25, 67.5, 68.8, 76.3, 71.55, 68.8, 68.6, 68.9, 72.05, 69.0, 67.9, 69.55, 70.8, 67.2, 68.15, 71.65, 67.85, 69.2, 69.7, 69.65, 66.6, 69.25, 75.0, 69.95, 75.1, 67.35, 69.6, 70.35, 67.9, 71.2, 75.2, 73.0, 74.15, 63.05, 71.6, 64.05, 72.15, 66.75, 70.25, 67.05, 65.9, 70.15, 70.45, 66.75, 65.85, 68.35, 69.9, 70.5, 71.55, 68.1, 65.05, 67.45, 73.5, 74.7, 64.6, 68.8, 67.15, 71.35, 74.0, 72.35, 70.35, 68.1, 69.4, 67.9, 60.8, 67.15, 66.15, 67.05, 69.0, 63.2, 71.25, 68.75, 68.55, 71.45, 76.0, 72.1, 66.0, 74.8, 69.85, 73.8, 66.55, 75.1, 70.1, 71.3, 66.7, 70.8, 69.05, 63.9, 69.95, 69.3, 67.7, 71.15, 72.2, 69.3, 65.8, 66.95, 73.5, 72.15, 68.0, 70.35, 64.85, 68.35, 70.5, 73.55, 74.0, 68.85, 69.25, 70.7, 67.55, 68.1, 66.8, 74.55, 72.85, 72.25, 64.9, 69.7, 67.35, 68.4, 70.55, 74.9, 69.6, 71.85, 69.2, 70.7, 69.75, 71.9, 69.8, 67.3, 69.35, 67.1, 68.55, 68.75, 69.95, 70.85, 68.4, 71.4, 68.8, 74.5, 72.2, 72.15, 70.65, 71.05, 65.25, 73.35, 67.15, 72.45, 74.8, 66.9, 68.9, 70.65, 72.45, 66.8, 74.55, 74.95, 73.25, 70.55, 72.3, 70.65, 68.7, 68.0, 72.0, 69.25, 70.75, 69.35, 69.7, 68.15, 71.0, 70.15, 68.4, 68.0, 67.85, 67.95, 69.2, 68.75, 70.65, 69.55, 71.75, 69.5, 70.25, 61.7, 75.7, 73.85, 69.55, 69.8, 72.1, 70.65, 70.5, 69.7, 65.25, 66.65, 69.85, 67.85, 69.95, 70.85, 68.8, 69.55, 68.1, 69.5, 69.05, 69.95, 68.8, 69.15, 66.35, 68.35, 71.65, 68.55, 65.25, 76.7, 67.95, 68.8, 66.55, 61.5, 69.75, 73.55, 64.85, 71.8, 73.35, 69.25, 67.9, 65.3, 67.85, 69.0, 74.85, 73.8, 66.25, 68.2, 69.0, 71.85, 73.85, 69.65, 69.25, 72.3, 70.95, 73.8, 64.7, 70.3, 66.9, 71.1, 72.55, 70.75, 66.8, 65.55, 67.4, 66.65, 63.35, 71.8, 68.1, 69.9, 71.25, 67.45, 71.1, 68.75, 72.05, 71.05, 72.1, 69.4, 63.8, 63.3, 68.9, 73.15, 63.25, 73.45, 69.05, 66.4, 64.5, 68.0, 70.25, 64.4, 76.6, 71.05, 69.25, 63.85, 67.3, 63.6, 68.85, 67.4, 75.1, 69.2, 68.05, 74.2, 67.65, 74.45, 66.75, 63.95, 68.9, 71.55, 69.15, 68.95, 66.1, 72.25, 66.5, 71.8, 69.95, 67.3, 67.7, 67.75, 66.3, 75.35, 73.65, 69.6, 71.25, 68.75, 62.85, 68.2, 68.95, 67.1, 68.65, 68.75, 66.75, 69.7, 69.0, 68.7, 68.35, 76.0, 69.85, 66.95, 69.8, 74.5, 69.5, 69.7, 69.1, 68.45, 75.35, 70.25, 69.5, 68.1, 64.9, 63.05, 74.95, 70.6, 70.85, 70.15, 69.45, 73.1, 70.35, 75.4, 67.25, 69.25, 69.05, 63.1, 69.6, 65.7, 73.65, 70.0, 75.15, 65.0, 70.3, 71.65, 67.5, 71.9, 72.25, 71.35, 67.2, 67.0, 73.45, 63.2, 69.25, 68.35, 64.9, 70.2, 71.8, 66.85, 68.1, 72.15, 66.75, 69.8, 72.2, 71.8, 71.75, 75.55, 71.2, 73.45, 72.3, 66.35, 73.8, 67.55, 71.6, 66.15, 67.15, 68.5, 72.75, 70.05, 65.2, 66.4, 68.95, 71.7, 71.8, 68.3, 69.6, 64.3, 71.7, 72.65, 71.4, 70.55, 69.65, 63.3, 69.7, 66.55, 70.15, 69.05, 69.4, 69.6, 65.4, 67.25, 67.8, 67.55, 75.15, 74.25, 73.45, 73.5, 64.7, 67.2, 70.0, 67.9, 71.9, 69.4, 73.75, 69.8, 70.55, 70.5, 70.5, 62.55, 71.7, 68.8, 71.55, 67.8, 72.95, 67.1, 73.1, 68.85, 70.0, 73.95, 72.6, 73.35, 72.75, 68.9, 65.2, 71.65, 68.15, 72.4, 69.5, 70.5, 75.1, 72.5, 71.95, 66.75, 69.65, 73.65, 67.95, 64.5, 65.6, 66.6, 65.0, 68.55, 66.45, 66.6, 64.95, 75.3, 74.15, 68.05, 73.0, 66.5, 65.35, 72.35, 70.7, 68.2, 70.0, 70.4, 65.25, 73.1, 70.8, 65.65, 69.4, 68.6, 73.05, 66.85, 70.3, 69.15, 65.7, 71.25, 69.15, 67.1, 70.55, 73.55, 64.65, 72.0, 73.3, 68.35, 69.5, 63.8, 64.9, 64.8, 71.75, 66.75, 75.9, 71.85, 72.55, 69.65, 67.7, 68.7, 67.45, 69.0, 70.0, 71.05, 69.15, 68.15, 67.0, 71.2, 72.9, 69.1, 67.4, 65.8, 67.35, 75.15, 67.95, 70.0, 70.85, 72.15, 68.95, 67.15, 70.3, 67.5, 71.15, 71.45, 68.65, 69.3, 70.7, 73.3, 64.25, 74.2, 66.65, 70.7, 63.55, 72.0, 74.05, 69.5, 73.05, 72.55, 74.2, 72.85, 73.5, 66.8, 68.55, 65.0, 68.45, 66.7, 69.5, 69.7, 68.15, 70.4, 65.4, 65.25, 62.7, 68.5, 73.6, 70.35, 73.45, 65.15, 72.85, 70.45, 68.1, 75.3, 74.5, 72.15, 70.95, 72.05, 72.85, 73.05, 72.45, 73.6, 68.5, 70.1, 67.1, 71.7, 73.8, 67.85, 71.6, 67.65, 70.9, 66.1, 65.2, 68.1, 66.0, 67.65, 70.2, 67.85, 66.2, 72.85, 72.3, 68.2, 74.15, 62.65, 67.05, 70.25, 71.65, 73.5, 67.15, 69.55, 68.85, 68.65, 71.3, 64.85, 70.4, 73.6, 70.4, 67.7, 64.2, 66.45, 73.5, 74.5, 68.05, 67.65, 66.2, 65.7, 70.1, 76.75, 72.05, 75.55, 66.5, 67.2, 71.65, 73.25, 66.3, 64.5, 62.95, 68.9, 65.85, 69.05, 66.0, 69.5, 70.7, 64.5, 71.6, 67.65, 77.5, 70.75, 68.95, 68.25, 68.95, 75.0, 75.1, 73.35, 71.7, 70.9, 69.9, 67.15, 70.45, 69.15, 72.8, 68.4, 69.75, 74.35, 70.5, 71.2, 70.05, 72.45, 70.3, 66.2, 73.75, 71.25, 66.45, 68.7, 69.5, 66.0, 73.05, 65.8, 70.65, 71.15, 72.4, 76.65, 70.3, 68.15, 68.35, 68.15, 73.5, 68.8, 66.7, 73.65, 64.65, 68.0, 75.05, 69.5, 72.8, 71.05, 71.2, 71.8, 68.25, 68.65, 73.0, 69.1, 63.85, 68.5, 73.6, 65.05, 68.05, 67.85, 67.35, 69.25, 71.25, 69.4, 71.95, 71.0, 75.5, 67.95, 67.1, 67.3, 75.05, 74.65, 67.2, 70.25, 71.85, 67.85, 71.55, 73.15, 71.35, 69.8, 73.45, 68.0, 71.9, 73.25, 66.65, 69.5, 72.5, 70.0, 74.8, 70.1, 70.65, 66.45, 66.5, 68.05, 65.75, 72.55, 70.75, 72.85, 70.15, 72.25, 67.1, 62.95, 64.65, 70.85, 70.65, 68.25, 70.65, 65.25, 69.3, 74.8, 67.85, 71.3, 67.1, 69.3, 71.25, 61.25, 69.0, 67.1, 70.1, 64.35, 69.05, 63.85, 70.2, 68.7, 61.05, 72.65, 66.9, 78.4, 67.9, 71.3, 71.4, 64.0, 65.6, 69.8, 65.85, 69.65, 75.65, 68.7, 70.3, 71.25, 69.35, 74.1, 76.3, 67.5, 72.75, 66.8, 70.35, 73.0, 67.7, 70.2, 67.5, 68.5, 69.9, 62.1, 73.05, 69.7, 77.1, 69.55, 72.85, 70.2, 72.7, 71.45, 65.95, 71.65, 62.95, 69.4, 73.2, 69.8, 69.5, 68.55, 66.05, 66.0, 70.6, 75.25, 75.1, 70.7, 65.45, 71.15, 72.05, 70.3, 71.5, 61.3, 67.8, 71.95, 70.7, 66.3, 69.5, 69.9, 73.7, 65.7, 64.1, 67.6, 73.95, 74.1, 69.75, 74.5, 68.1, 73.0, 72.8, 69.05, 71.5, 72.95, 69.9, 70.75, 65.3, 65.1, 66.2, 67.8, 72.45, 74.4, 71.05, 66.3, 68.9, 67.25, 72.2, 67.65, 65.95, 71.55, 66.25, 68.8, 72.7, 68.05, 72.05, 65.7, 66.25, 67.0, 70.0, 65.5, 67.2, 71.05, 68.55, 70.65, 68.6, 71.45, 68.65, 68.5, 70.1, 66.55, 68.6, 65.35, 66.25, 76.9, 67.35, 74.3, 66.45, 67.95, 69.65, 72.7, 67.35, 67.75, 67.35, 66.1, 67.4, 68.8, 69.95, 64.95, 69.65, 61.75, 69.85, 71.0, 68.6, 74.1, 68.05, 68.7, 69.4, 69.05, 67.8, 69.8, 64.8, 64.25, 71.0, 67.7, 69.55, 66.45, 69.5, 72.45, 72.4, 65.55, 69.3, 71.25, 72.85, 72.3, 67.7, 67.1, 68.85, 70.3, 67.15, 66.9, 67.2, 68.15, 70.75, 69.85, 65.75, 67.55, 71.25, 67.85, 67.1, 73.65, 68.45, 74.0, 69.65, 70.5, 66.55, 64.45, 72.1, 70.2, 64.75, 70.25, 68.35, 70.75, 69.85, 69.85, 70.6, 69.45, 68.0, 66.5, 76.7, 72.7, 69.6, 68.0, 72.5, 67.65, 69.65, 70.35, 73.0, 69.05, 66.8, 73.7, 71.1, 66.75, 69.85, 70.5, 74.1, 69.1, 67.4, 66.35, 69.65, 64.2, 70.2, 72.5, 69.9, 70.15, 69.95, 72.85, 77.15, 64.85, 68.65, 73.35, 71.0, 68.6, 61.95, 70.35, 72.3, 66.25, 67.85, 77.55, 68.2, 69.25, 69.75, 65.65, 72.2, 69.45, 65.7, 69.15, 72.6, 65.9, 72.25, 69.65, 73.95, 75.25, 65.6, 66.9, 68.55, 70.9, 68.6, 67.25, 73.9, 65.85, 71.75, 77.45, 70.7, 71.95, 69.0, 66.05, 72.2, 72.4, 66.9, 71.95, 71.85, 65.7, 67.0, 73.15, 71.85, 71.95, 70.2, 67.0, 65.4, 63.3, 67.7, 65.8, 64.55, 71.45, 65.2, 71.7, 69.05, 67.5, 66.75, 73.7, 72.35, 66.55, 72.2, 70.75, 65.85, 66.35, 77.9, 70.25, 70.35, 72.8, 70.95, 72.95, 67.55, 66.65, 66.0, 73.6, 78.35, 66.5, 73.65, 71.6, 71.35, 72.55, 69.45, 70.0, 66.75, 70.5, 71.3, 63.9, 70.45, 68.9, 70.6, 69.85, 68.85, 67.35, 70.55, 69.85, 65.5, 62.15, 72.0, 73.45, 64.9, 66.6, 73.5, 69.55, 69.55, 65.85, 66.8, 67.25, 69.55, 69.15, 70.35, 68.95, 74.4, 67.45, 73.15, 67.2, 73.05, 71.2, 70.15, 62.3, 75.15, 68.6, 73.6, 70.8, 65.55, 79.05, 65.65, 62.0, 68.3, 67.7, 77.7, 66.35, 72.6, 70.25, 64.7, 74.85, 69.75, 76.9, 70.7, 74.1, 69.05, 67.95, 70.7, 68.9, 69.7, 68.0, 68.6, 74.45, 67.6, 67.0, 68.5, 71.35, 67.8, 68.5, 68.4, 66.2, 74.35, 68.85, 72.7, 66.2, 72.1, 66.5, 72.6, 67.7, 69.2, 70.2, 69.1, 67.7, 66.0, 65.35, 66.75, 71.25, 75.2, 69.85, 69.0, 72.45, 68.6, 68.65, 72.25, 63.6, 68.15, 67.1, 71.55, 70.45, 73.65, 70.45, 66.9, 66.8, 73.65, 64.35, 69.05, 69.15, 71.35, 75.1, 69.6, 71.6, 72.05, 70.05, 69.35, 66.65, 68.5, 77.95, 67.8, 71.35, 75.3, 65.85, 73.5, 72.4, 69.1, 70.05]\n"
     ]
    }
   ],
   "source": [
    "# 무작위추출로 표본 크기가 20인 표본을 추출하여 표본평균을 계산하는 작업을 10000번 수행\n",
    "s_m=[]\n",
    "for i in range(10000):\n",
    "    sample = np.random.choice(scores,20)\n",
    "    s_mean = sample.mean()\n",
    "    s_m.append(s_mean)\n",
    "print(s_m)"
   ]
  },
  {
   "cell_type": "code",
   "execution_count": 76,
   "metadata": {},
   "outputs": [
    {
     "data": {
      "text/plain": [
       "<function matplotlib.pyplot.show(close=None, block=None)>"
      ]
     },
     "execution_count": 76,
     "metadata": {},
     "output_type": "execute_result"
    },
    {
     "data": {
      "image/png": "[encoded data removed]",
      "text/plain": [
       "<Figure size 720x432 with 1 Axes>"
      ]
     },
     "metadata": {
      "needs_background": "light"
     },
     "output_type": "display_data"
    }
   ],
   "source": [
    "# 히스토그램으로 그려 표본평균이 어떻게 분포되는지 시각화\n",
    "\n",
    "fig = plt.figure(figsize=(10,6))\n",
    "ax = fig.add_subplot(111)\n",
    "\n",
    "freq,_,_ = ax.hist(s_m, bins=200, range=(40,100))\n",
    "\n",
    "ax.set_xlabel('score')\n",
    "ax.set_ylabel('score mean')\n",
    "\n",
    "plt.show"
   ]
  },
  {
   "cell_type": "markdown",
   "metadata": {},
   "source": [
    "Q6. Bern(0.5)을 따르는 확률변수 X에 대하여 기댓값과 분산을 계산하세요. "
   ]
  },
  {
   "cell_type": "code",
   "execution_count": 77,
   "metadata": {},
   "outputs": [],
   "source": [
    "from scipy import stats\n",
    "%matplotlib inline"
   ]
  },
  {
   "cell_type": "code",
   "execution_count": 99,
   "metadata": {},
   "outputs": [],
   "source": [
    "linestyles = ['-','--',':']\n",
    "\n",
    "def E(X,g=lambda x: x):\n",
    "    x_set, f = X\n",
    "    return np.sum([g(x_k) * f(x_k) for x_k in x_set])\n",
    "\n",
    "def V(X,g=lambda x:x):\n",
    "    x_set, f = X\n",
    "    mean = E(X,g)\n",
    "    return np.sum([(g(x_k)-mean)**2 * f(x_k) for x_k in x_set])\n",
    "\n",
    "def check_prob(X):\n",
    "    x_set, f = X\n",
    "    prob = np.array([f(x_k) for x_k in x_set])\n",
    "    assert np.all(prob >= 0), 'minus probability'\n",
    "    prob_sum = np.round(np.sum(prob),6)\n",
    "    assert prob_sum == 1, f'sum of probability{prob_sum}'\n",
    "    print(f'expected value {E(X):4}')\n",
    "    print(f'variance {(V(X)):4}')\n"
   ]
  },
  {
   "cell_type": "code",
   "execution_count": 100,
   "metadata": {},
   "outputs": [
    {
     "data": {
      "text/plain": [
       "(0.50, 0.25)"
      ]
     },
     "execution_count": 100,
     "metadata": {},
     "output_type": "execute_result"
    }
   ],
   "source": [
    "# Bern(0.5)을 따르는 확률변수 X에 대하여 기댓값과 분산\n",
    "p = 0.5\n",
    "v = 0.5*0.5\n",
    "p,v"
   ]
  },
  {
   "cell_type": "code",
   "execution_count": 101,
   "metadata": {},
   "outputs": [],
   "source": [
    "def Bern(p):\n",
    "    x_set = np.array([0,1])\n",
    "    def f(x):\n",
    "        if x in x_set:\n",
    "            return p ** x * (1-p) ** (1-x)\n",
    "        else:\n",
    "            return 0\n",
    "    return x_set,f"
   ]
  },
  {
   "cell_type": "code",
   "execution_count": 102,
   "metadata": {},
   "outputs": [
    {
     "data": {
      "text/plain": [
       "(0.50, 0.25)"
      ]
     },
     "execution_count": 102,
     "metadata": {},
     "output_type": "execute_result"
    }
   ],
   "source": [
    "X = Bern(0.5)\n",
    "E(X), V(X)"
   ]
  },
  {
   "cell_type": "code",
   "execution_count": 103,
   "metadata": {},
   "outputs": [
    {
     "name": "stdout",
     "output_type": "stream",
     "text": [
      "expected value  0.5\n",
      "variance 0.25\n"
     ]
    }
   ],
   "source": [
    "check_prob(X)"
   ]
  },
  {
   "cell_type": "markdown",
   "metadata": {},
   "source": [
    "Q7. Bin(10,0.5)을 따르는 확률변수 X에 대하여 기댓값과 분산을 계산하세요."
   ]
  },
  {
   "cell_type": "code",
   "execution_count": 104,
   "metadata": {},
   "outputs": [
    {
     "data": {
      "text/plain": [
       "(5.00, 2.50)"
      ]
     },
     "execution_count": 104,
     "metadata": {},
     "output_type": "execute_result"
    }
   ],
   "source": [
    "n = 10\n",
    "p = 0.5\n",
    "ex = n*p\n",
    "vx = n*p*(1-p)\n",
    "ex,vx"
   ]
  },
  {
   "cell_type": "code",
   "execution_count": 105,
   "metadata": {},
   "outputs": [],
   "source": [
    "from scipy.special import comb\n",
    "# 조합 계산할 때 임포트\n",
    "\n",
    "def Bin(n,p):\n",
    "    x_set = np.arange(n+1)\n",
    "    def f(x):\n",
    "        if x in x_set:\n",
    "            return comb(n,x) * p ** x * (1-p)**(n-x)\n",
    "        else:\n",
    "            return 0\n",
    "    return x_set,f"
   ]
  },
  {
   "cell_type": "code",
   "execution_count": 106,
   "metadata": {},
   "outputs": [
    {
     "data": {
      "text/plain": [
       "(5.00, 2.50)"
      ]
     },
     "execution_count": 106,
     "metadata": {},
     "output_type": "execute_result"
    }
   ],
   "source": [
    "X = Bin(10,0.5)\n",
    "E(X), V(X)"
   ]
  },
  {
   "cell_type": "code",
   "execution_count": 107,
   "metadata": {},
   "outputs": [
    {
     "name": "stdout",
     "output_type": "stream",
     "text": [
      "expected value  5.0\n",
      "variance  2.5\n"
     ]
    }
   ],
   "source": [
    "check_prob(X)"
   ]
  },
  {
   "cell_type": "markdown",
   "metadata": {},
   "source": [
    "Q8. Poi(2)을 따른 확률변수 X에 대하여 기댓값과 분산을 계산하세요."
   ]
  },
  {
   "cell_type": "code",
   "execution_count": 108,
   "metadata": {},
   "outputs": [],
   "source": [
    "from scipy.special import factorial\n",
    "def Poi(lam):\n",
    "    x_set = np.arange(20)\n",
    "    def f(x):\n",
    "        if x in x_set:\n",
    "            return np.power(lam,x) / factorial(x) * np.exp(-lam)\n",
    "        else:\n",
    "            return 0\n",
    "    return x_set,f"
   ]
  },
  {
   "cell_type": "code",
   "execution_count": 109,
   "metadata": {},
   "outputs": [
    {
     "data": {
      "text/plain": [
       "(2.00, 2.00)"
      ]
     },
     "execution_count": 109,
     "metadata": {},
     "output_type": "execute_result"
    }
   ],
   "source": [
    "X = Poi(2)\n",
    "E(X), V(X)"
   ]
  },
  {
   "cell_type": "code",
   "execution_count": 110,
   "metadata": {},
   "outputs": [
    {
     "name": "stdout",
     "output_type": "stream",
     "text": [
      "expected value 1.9999999999987046\n",
      "variance 1.9999999999788727\n"
     ]
    }
   ],
   "source": [
    "check_prob(X)"
   ]
  },
  {
   "cell_type": "markdown",
   "metadata": {},
   "source": [
    "Q9. 평균이 10, 표준편차가 3인 정규분포의 확률밀도함수를 그래프로 표현하세요. "
   ]
  },
  {
   "cell_type": "code",
   "execution_count": 124,
   "metadata": {},
   "outputs": [],
   "source": [
    "from scipy import stats,integrate\n",
    "from scipy.optimize import minimize_scalar\n",
    "import warnings\n",
    "warnings.filterwarnings('ignore',\n",
    "                       category=integrate.IntegrationWarning)\n",
    "def plot_prob(X, x_min, x_max): \n",
    "    x_range, f = X\n",
    "    def F(x):\n",
    "        return integrate.quad(f, -np.inf, x)[0]\n",
    "\n",
    "    xs = np.linspace(x_min, x_max, 100)\n",
    "\n",
    "    fig = plt.figure(figsize=(10, 6))\n",
    "    ax = fig.add_subplot(111)\n",
    "    ax.plot(xs, [f(x) for x in xs],\n",
    "            label='f(x)', color='gray')\n",
    "\n",
    "    ax.legend()\n",
    "    plt.show()"
   ]
  },
  {
   "cell_type": "code",
   "execution_count": 125,
   "metadata": {},
   "outputs": [],
   "source": [
    "def N(mu, sigma):\n",
    "    x_range = [-np.inf,np.inf]\n",
    "    def f(x):\n",
    "        return 1/np.sqrt(2*np.pi*sigma**2)*np.exp(-(x-mu)**2/(2*sigma**2))\n",
    "    return x_range, f"
   ]
  },
  {
   "cell_type": "code",
   "execution_count": 126,
   "metadata": {},
   "outputs": [],
   "source": [
    "mu, sigma = 10,3\n",
    "X = N(mu,sigma)"
   ]
  },
  {
   "cell_type": "code",
   "execution_count": 127,
   "metadata": {},
   "outputs": [
    {
     "data": {
      "image/png": "[encoded data removed]",
      "text/plain": [
       "<Figure size 720x432 with 1 Axes>"
      ]
     },
     "metadata": {
      "needs_background": "light"
     },
     "output_type": "display_data"
    }
   ],
   "source": [
    "plot_prob(X,0,20)"
   ]
  },
  {
   "cell_type": "markdown",
   "metadata": {},
   "source": [
    "Q10. 평균이 1, 표준편차가 2인 정규분포의 누적분포함수를 그래프로 표현하세요. "
   ]
  },
  {
   "cell_type": "code",
   "execution_count": 128,
   "metadata": {},
   "outputs": [],
   "source": [
    "def plot_prob(X, x_min, x_max): \n",
    "    x_range, f = X\n",
    "    def F(x):\n",
    "        return integrate.quad(f, -np.inf, x)[0]\n",
    "\n",
    "    xs = np.linspace(x_min, x_max, 100)\n",
    "\n",
    "    fig = plt.figure(figsize=(10, 6))\n",
    "    ax = fig.add_subplot(111)\n",
    "    ax.plot(xs, [F(x) for x in xs],\n",
    "            label='F(x)', ls='--', color='gray')\n",
    "\n",
    "    ax.legend()\n",
    "    plt.show()"
   ]
  },
  {
   "cell_type": "code",
   "execution_count": 130,
   "metadata": {},
   "outputs": [
    {
     "data": {
      "image/png": "[encoded data removed]",
      "text/plain": [
       "<Figure size 720x432 with 1 Axes>"
      ]
     },
     "metadata": {
      "needs_background": "light"
     },
     "output_type": "display_data"
    }
   ],
   "source": [
    "mu, sigma = 1,2\n",
    "X = N(mu,sigma)\n",
    "plot_prob(X,0,10)"
   ]
  },
  {
   "cell_type": "markdown",
   "metadata": {},
   "source": [
    "Q11. \"5_2_fm.csv\"을 df1으로 불러와서 다음사항을 수행하세요.\n",
    "- df1을 df2 이름으로 복사한 후 df2의 species의 A, B를 C,D로 변경하세요.\n",
    "- df의 length를 species가 C인 것은 2배로 d인 것은 3배로 변경하여 df1과 df2를 행방향으로 결합, df 생성 \n",
    "- df를 species 칼럼을 기준으로 그룹별 평균과 표준편차를 산출"
   ]
  },
  {
   "cell_type": "code",
   "execution_count": 169,
   "metadata": {},
   "outputs": [
    {
     "data": {
      "text/html": [
       "<div>\n",
       "<style scoped>\n",
       "    .dataframe tbody tr th:only-of-type {\n",
       "        vertical-align: middle;\n",
       "    }\n",
       "\n",
       "    .dataframe tbody tr th {\n",
       "        vertical-align: top;\n",
       "    }\n",
       "\n",
       "    .dataframe thead th {\n",
       "        text-align: right;\n",
       "    }\n",
       "</style>\n",
       "<table border=\"1\" class=\"dataframe\">\n",
       "  <thead>\n",
       "    <tr style=\"text-align: right;\">\n",
       "      <th></th>\n",
       "      <th>species</th>\n",
       "      <th>length</th>\n",
       "    </tr>\n",
       "  </thead>\n",
       "  <tbody>\n",
       "    <tr>\n",
       "      <th>0</th>\n",
       "      <td>A</td>\n",
       "      <td>2</td>\n",
       "    </tr>\n",
       "    <tr>\n",
       "      <th>1</th>\n",
       "      <td>A</td>\n",
       "      <td>3</td>\n",
       "    </tr>\n",
       "    <tr>\n",
       "      <th>2</th>\n",
       "      <td>A</td>\n",
       "      <td>4</td>\n",
       "    </tr>\n",
       "    <tr>\n",
       "      <th>3</th>\n",
       "      <td>B</td>\n",
       "      <td>6</td>\n",
       "    </tr>\n",
       "    <tr>\n",
       "      <th>4</th>\n",
       "      <td>B</td>\n",
       "      <td>8</td>\n",
       "    </tr>\n",
       "    <tr>\n",
       "      <th>5</th>\n",
       "      <td>B</td>\n",
       "      <td>10</td>\n",
       "    </tr>\n",
       "  </tbody>\n",
       "</table>\n",
       "</div>"
      ],
      "text/plain": [
       "  species  length\n",
       "0       A       2\n",
       "1       A       3\n",
       "2       A       4\n",
       "3       B       6\n",
       "4       B       8\n",
       "5       B      10"
      ]
     },
     "execution_count": 169,
     "metadata": {},
     "output_type": "execute_result"
    }
   ],
   "source": [
    "import pandas as pd\n",
    "import numpy as np\n",
    "\n",
    "df1 = pd.read_csv(\"5_2_fm.csv\")\n",
    "df1"
   ]
  },
  {
   "cell_type": "code",
   "execution_count": 170,
   "metadata": {},
   "outputs": [
    {
     "data": {
      "text/html": [
       "<div>\n",
       "<style scoped>\n",
       "    .dataframe tbody tr th:only-of-type {\n",
       "        vertical-align: middle;\n",
       "    }\n",
       "\n",
       "    .dataframe tbody tr th {\n",
       "        vertical-align: top;\n",
       "    }\n",
       "\n",
       "    .dataframe thead th {\n",
       "        text-align: right;\n",
       "    }\n",
       "</style>\n",
       "<table border=\"1\" class=\"dataframe\">\n",
       "  <thead>\n",
       "    <tr style=\"text-align: right;\">\n",
       "      <th></th>\n",
       "      <th>species</th>\n",
       "      <th>length</th>\n",
       "    </tr>\n",
       "  </thead>\n",
       "  <tbody>\n",
       "    <tr>\n",
       "      <th>0</th>\n",
       "      <td>C</td>\n",
       "      <td>2</td>\n",
       "    </tr>\n",
       "    <tr>\n",
       "      <th>1</th>\n",
       "      <td>C</td>\n",
       "      <td>3</td>\n",
       "    </tr>\n",
       "    <tr>\n",
       "      <th>2</th>\n",
       "      <td>C</td>\n",
       "      <td>4</td>\n",
       "    </tr>\n",
       "    <tr>\n",
       "      <th>3</th>\n",
       "      <td>D</td>\n",
       "      <td>6</td>\n",
       "    </tr>\n",
       "    <tr>\n",
       "      <th>4</th>\n",
       "      <td>D</td>\n",
       "      <td>8</td>\n",
       "    </tr>\n",
       "    <tr>\n",
       "      <th>5</th>\n",
       "      <td>D</td>\n",
       "      <td>10</td>\n",
       "    </tr>\n",
       "  </tbody>\n",
       "</table>\n",
       "</div>"
      ],
      "text/plain": [
       "  species  length\n",
       "0       C       2\n",
       "1       C       3\n",
       "2       C       4\n",
       "3       D       6\n",
       "4       D       8\n",
       "5       D      10"
      ]
     },
     "execution_count": 170,
     "metadata": {},
     "output_type": "execute_result"
    }
   ],
   "source": [
    "# df1을 df2 이름으로 복사한 후 df2의 species의 A, B를 C,D로 변경하세요.\n",
    "df2 = df1.copy()\n",
    "df2.replace(['A','B'],['C','D'],inplace=True)\n",
    "df2"
   ]
  },
  {
   "cell_type": "code",
   "execution_count": 171,
   "metadata": {},
   "outputs": [],
   "source": [
    "# df의 length를 species가 C인 것은 2배로 d인 것은 3배로 변경하여 df1과 df2를 행방향으로 결합, df 생성\n",
    "df2.loc[df2.species=='C','length']=  df2.length * 2\n",
    "df2.loc[df2.species=='D','length']=  df2.length * 3"
   ]
  },
  {
   "cell_type": "code",
   "execution_count": 172,
   "metadata": {},
   "outputs": [
    {
     "data": {
      "text/html": [
       "<div>\n",
       "<style scoped>\n",
       "    .dataframe tbody tr th:only-of-type {\n",
       "        vertical-align: middle;\n",
       "    }\n",
       "\n",
       "    .dataframe tbody tr th {\n",
       "        vertical-align: top;\n",
       "    }\n",
       "\n",
       "    .dataframe thead th {\n",
       "        text-align: right;\n",
       "    }\n",
       "</style>\n",
       "<table border=\"1\" class=\"dataframe\">\n",
       "  <thead>\n",
       "    <tr style=\"text-align: right;\">\n",
       "      <th></th>\n",
       "      <th>index</th>\n",
       "      <th>species</th>\n",
       "      <th>length</th>\n",
       "    </tr>\n",
       "  </thead>\n",
       "  <tbody>\n",
       "    <tr>\n",
       "      <th>0</th>\n",
       "      <td>0</td>\n",
       "      <td>A</td>\n",
       "      <td>2</td>\n",
       "    </tr>\n",
       "    <tr>\n",
       "      <th>1</th>\n",
       "      <td>1</td>\n",
       "      <td>A</td>\n",
       "      <td>3</td>\n",
       "    </tr>\n",
       "    <tr>\n",
       "      <th>2</th>\n",
       "      <td>2</td>\n",
       "      <td>A</td>\n",
       "      <td>4</td>\n",
       "    </tr>\n",
       "    <tr>\n",
       "      <th>3</th>\n",
       "      <td>3</td>\n",
       "      <td>B</td>\n",
       "      <td>6</td>\n",
       "    </tr>\n",
       "    <tr>\n",
       "      <th>4</th>\n",
       "      <td>4</td>\n",
       "      <td>B</td>\n",
       "      <td>8</td>\n",
       "    </tr>\n",
       "    <tr>\n",
       "      <th>5</th>\n",
       "      <td>5</td>\n",
       "      <td>B</td>\n",
       "      <td>10</td>\n",
       "    </tr>\n",
       "    <tr>\n",
       "      <th>6</th>\n",
       "      <td>0</td>\n",
       "      <td>C</td>\n",
       "      <td>4</td>\n",
       "    </tr>\n",
       "    <tr>\n",
       "      <th>7</th>\n",
       "      <td>1</td>\n",
       "      <td>C</td>\n",
       "      <td>6</td>\n",
       "    </tr>\n",
       "    <tr>\n",
       "      <th>8</th>\n",
       "      <td>2</td>\n",
       "      <td>C</td>\n",
       "      <td>8</td>\n",
       "    </tr>\n",
       "    <tr>\n",
       "      <th>9</th>\n",
       "      <td>3</td>\n",
       "      <td>D</td>\n",
       "      <td>18</td>\n",
       "    </tr>\n",
       "    <tr>\n",
       "      <th>10</th>\n",
       "      <td>4</td>\n",
       "      <td>D</td>\n",
       "      <td>24</td>\n",
       "    </tr>\n",
       "    <tr>\n",
       "      <th>11</th>\n",
       "      <td>5</td>\n",
       "      <td>D</td>\n",
       "      <td>30</td>\n",
       "    </tr>\n",
       "  </tbody>\n",
       "</table>\n",
       "</div>"
      ],
      "text/plain": [
       "    index species  length\n",
       "0       0       A       2\n",
       "1       1       A       3\n",
       "2       2       A       4\n",
       "3       3       B       6\n",
       "4       4       B       8\n",
       "5       5       B      10\n",
       "6       0       C       4\n",
       "7       1       C       6\n",
       "8       2       C       8\n",
       "9       3       D      18\n",
       "10      4       D      24\n",
       "11      5       D      30"
      ]
     },
     "execution_count": 172,
     "metadata": {},
     "output_type": "execute_result"
    }
   ],
   "source": [
    "df = pd.concat([df1,df2],axis=0)\n",
    "df = df.reset_index()\n",
    "df"
   ]
  },
  {
   "cell_type": "code",
   "execution_count": 178,
   "metadata": {},
   "outputs": [
    {
     "data": {
      "text/plain": [
       "species\n",
       "A     3.0\n",
       "B     8.0\n",
       "C     6.0\n",
       "D    24.0\n",
       "Name: length, dtype: float64"
      ]
     },
     "execution_count": 178,
     "metadata": {},
     "output_type": "execute_result"
    }
   ],
   "source": [
    "gby = df['length'].groupby(df['species'])\n",
    "gby.mean()"
   ]
  },
  {
   "cell_type": "code",
   "execution_count": 179,
   "metadata": {},
   "outputs": [
    {
     "data": {
      "text/plain": [
       "species\n",
       "A    1.0\n",
       "B    2.0\n",
       "C    2.0\n",
       "D    6.0\n",
       "Name: length, dtype: float64"
      ]
     },
     "execution_count": 179,
     "metadata": {},
     "output_type": "execute_result"
    }
   ],
   "source": [
    "gby.std()"
   ]
  },
  {
   "cell_type": "markdown",
   "metadata": {},
   "source": [
    "Q12. \"./dataset/5_2_shoes.csv\" 을 데이터프레임으로 불러와서 아래작업을 수행하세요.\n",
    "- 4행 3열을 복사 후 추가하여 8행 3열로 작성\n",
    "- 피봇을 이용해서 교차분석표 작성(values='sales',aggfunc='sum', index= 'store', columns = 'color')\n",
    "- 독립성 검정을 수행(보너스 문제)"
   ]
  },
  {
   "cell_type": "code",
   "execution_count": 180,
   "metadata": {},
   "outputs": [
    {
     "data": {
      "text/html": [
       "<div>\n",
       "<style scoped>\n",
       "    .dataframe tbody tr th:only-of-type {\n",
       "        vertical-align: middle;\n",
       "    }\n",
       "\n",
       "    .dataframe tbody tr th {\n",
       "        vertical-align: top;\n",
       "    }\n",
       "\n",
       "    .dataframe thead th {\n",
       "        text-align: right;\n",
       "    }\n",
       "</style>\n",
       "<table border=\"1\" class=\"dataframe\">\n",
       "  <thead>\n",
       "    <tr style=\"text-align: right;\">\n",
       "      <th></th>\n",
       "      <th>store</th>\n",
       "      <th>color</th>\n",
       "      <th>sales</th>\n",
       "    </tr>\n",
       "  </thead>\n",
       "  <tbody>\n",
       "    <tr>\n",
       "      <th>0</th>\n",
       "      <td>tokyo</td>\n",
       "      <td>blue</td>\n",
       "      <td>10</td>\n",
       "    </tr>\n",
       "    <tr>\n",
       "      <th>1</th>\n",
       "      <td>tokyo</td>\n",
       "      <td>red</td>\n",
       "      <td>15</td>\n",
       "    </tr>\n",
       "    <tr>\n",
       "      <th>2</th>\n",
       "      <td>osaka</td>\n",
       "      <td>blue</td>\n",
       "      <td>13</td>\n",
       "    </tr>\n",
       "    <tr>\n",
       "      <th>3</th>\n",
       "      <td>osaka</td>\n",
       "      <td>red</td>\n",
       "      <td>9</td>\n",
       "    </tr>\n",
       "  </tbody>\n",
       "</table>\n",
       "</div>"
      ],
      "text/plain": [
       "   store color  sales\n",
       "0  tokyo  blue     10\n",
       "1  tokyo   red     15\n",
       "2  osaka  blue     13\n",
       "3  osaka   red      9"
      ]
     },
     "execution_count": 180,
     "metadata": {},
     "output_type": "execute_result"
    }
   ],
   "source": [
    "import pandas as pd\n",
    "shoes = pd.read_csv(\"5_2_shoes.csv\")\n",
    "shoes1=shoes.copy()\n",
    "shoes1"
   ]
  },
  {
   "cell_type": "code",
   "execution_count": 181,
   "metadata": {},
   "outputs": [
    {
     "data": {
      "text/html": [
       "<div>\n",
       "<style scoped>\n",
       "    .dataframe tbody tr th:only-of-type {\n",
       "        vertical-align: middle;\n",
       "    }\n",
       "\n",
       "    .dataframe tbody tr th {\n",
       "        vertical-align: top;\n",
       "    }\n",
       "\n",
       "    .dataframe thead th {\n",
       "        text-align: right;\n",
       "    }\n",
       "</style>\n",
       "<table border=\"1\" class=\"dataframe\">\n",
       "  <thead>\n",
       "    <tr style=\"text-align: right;\">\n",
       "      <th></th>\n",
       "      <th>store</th>\n",
       "      <th>color</th>\n",
       "      <th>sales</th>\n",
       "    </tr>\n",
       "  </thead>\n",
       "  <tbody>\n",
       "    <tr>\n",
       "      <th>0</th>\n",
       "      <td>tokyo</td>\n",
       "      <td>blue</td>\n",
       "      <td>10</td>\n",
       "    </tr>\n",
       "    <tr>\n",
       "      <th>1</th>\n",
       "      <td>tokyo</td>\n",
       "      <td>red</td>\n",
       "      <td>15</td>\n",
       "    </tr>\n",
       "    <tr>\n",
       "      <th>2</th>\n",
       "      <td>osaka</td>\n",
       "      <td>blue</td>\n",
       "      <td>13</td>\n",
       "    </tr>\n",
       "    <tr>\n",
       "      <th>3</th>\n",
       "      <td>osaka</td>\n",
       "      <td>red</td>\n",
       "      <td>9</td>\n",
       "    </tr>\n",
       "  </tbody>\n",
       "</table>\n",
       "</div>"
      ],
      "text/plain": [
       "   store color  sales\n",
       "0  tokyo  blue     10\n",
       "1  tokyo   red     15\n",
       "2  osaka  blue     13\n",
       "3  osaka   red      9"
      ]
     },
     "execution_count": 181,
     "metadata": {},
     "output_type": "execute_result"
    }
   ],
   "source": [
    "#4행 3열을 복사 후 추가하여 8행 3열로 작성\n",
    "shoes2 = shoes1.copy()\n",
    "shoes2"
   ]
  },
  {
   "cell_type": "code",
   "execution_count": 182,
   "metadata": {},
   "outputs": [
    {
     "data": {
      "text/html": [
       "<div>\n",
       "<style scoped>\n",
       "    .dataframe tbody tr th:only-of-type {\n",
       "        vertical-align: middle;\n",
       "    }\n",
       "\n",
       "    .dataframe tbody tr th {\n",
       "        vertical-align: top;\n",
       "    }\n",
       "\n",
       "    .dataframe thead th {\n",
       "        text-align: right;\n",
       "    }\n",
       "</style>\n",
       "<table border=\"1\" class=\"dataframe\">\n",
       "  <thead>\n",
       "    <tr style=\"text-align: right;\">\n",
       "      <th></th>\n",
       "      <th>index</th>\n",
       "      <th>store</th>\n",
       "      <th>color</th>\n",
       "      <th>sales</th>\n",
       "    </tr>\n",
       "  </thead>\n",
       "  <tbody>\n",
       "    <tr>\n",
       "      <th>0</th>\n",
       "      <td>0</td>\n",
       "      <td>tokyo</td>\n",
       "      <td>blue</td>\n",
       "      <td>10</td>\n",
       "    </tr>\n",
       "    <tr>\n",
       "      <th>1</th>\n",
       "      <td>1</td>\n",
       "      <td>tokyo</td>\n",
       "      <td>red</td>\n",
       "      <td>15</td>\n",
       "    </tr>\n",
       "    <tr>\n",
       "      <th>2</th>\n",
       "      <td>2</td>\n",
       "      <td>osaka</td>\n",
       "      <td>blue</td>\n",
       "      <td>13</td>\n",
       "    </tr>\n",
       "    <tr>\n",
       "      <th>3</th>\n",
       "      <td>3</td>\n",
       "      <td>osaka</td>\n",
       "      <td>red</td>\n",
       "      <td>9</td>\n",
       "    </tr>\n",
       "    <tr>\n",
       "      <th>4</th>\n",
       "      <td>0</td>\n",
       "      <td>tokyo</td>\n",
       "      <td>blue</td>\n",
       "      <td>10</td>\n",
       "    </tr>\n",
       "    <tr>\n",
       "      <th>5</th>\n",
       "      <td>1</td>\n",
       "      <td>tokyo</td>\n",
       "      <td>red</td>\n",
       "      <td>15</td>\n",
       "    </tr>\n",
       "    <tr>\n",
       "      <th>6</th>\n",
       "      <td>2</td>\n",
       "      <td>osaka</td>\n",
       "      <td>blue</td>\n",
       "      <td>13</td>\n",
       "    </tr>\n",
       "    <tr>\n",
       "      <th>7</th>\n",
       "      <td>3</td>\n",
       "      <td>osaka</td>\n",
       "      <td>red</td>\n",
       "      <td>9</td>\n",
       "    </tr>\n",
       "  </tbody>\n",
       "</table>\n",
       "</div>"
      ],
      "text/plain": [
       "   index  store color  sales\n",
       "0      0  tokyo  blue     10\n",
       "1      1  tokyo   red     15\n",
       "2      2  osaka  blue     13\n",
       "3      3  osaka   red      9\n",
       "4      0  tokyo  blue     10\n",
       "5      1  tokyo   red     15\n",
       "6      2  osaka  blue     13\n",
       "7      3  osaka   red      9"
      ]
     },
     "execution_count": 182,
     "metadata": {},
     "output_type": "execute_result"
    }
   ],
   "source": [
    "shoes = pd.concat([shoes1,shoes2],axis=0)\n",
    "shoes = shoes.reset_index()\n",
    "shoes"
   ]
  },
  {
   "cell_type": "code",
   "execution_count": 185,
   "metadata": {},
   "outputs": [
    {
     "data": {
      "text/html": [
       "<div>\n",
       "<style scoped>\n",
       "    .dataframe tbody tr th:only-of-type {\n",
       "        vertical-align: middle;\n",
       "    }\n",
       "\n",
       "    .dataframe tbody tr th {\n",
       "        vertical-align: top;\n",
       "    }\n",
       "\n",
       "    .dataframe thead th {\n",
       "        text-align: right;\n",
       "    }\n",
       "</style>\n",
       "<table border=\"1\" class=\"dataframe\">\n",
       "  <thead>\n",
       "    <tr style=\"text-align: right;\">\n",
       "      <th>color</th>\n",
       "      <th>blue</th>\n",
       "      <th>red</th>\n",
       "    </tr>\n",
       "    <tr>\n",
       "      <th>store</th>\n",
       "      <th></th>\n",
       "      <th></th>\n",
       "    </tr>\n",
       "  </thead>\n",
       "  <tbody>\n",
       "    <tr>\n",
       "      <th>osaka</th>\n",
       "      <td>26</td>\n",
       "      <td>18</td>\n",
       "    </tr>\n",
       "    <tr>\n",
       "      <th>tokyo</th>\n",
       "      <td>20</td>\n",
       "      <td>30</td>\n",
       "    </tr>\n",
       "  </tbody>\n",
       "</table>\n",
       "</div>"
      ],
      "text/plain": [
       "color  blue  red\n",
       "store           \n",
       "osaka    26   18\n",
       "tokyo    20   30"
      ]
     },
     "execution_count": 185,
     "metadata": {},
     "output_type": "execute_result"
    }
   ],
   "source": [
    "# 피봇을 이용해서 교차분석표 작성(values='sales',aggfunc='sum', index= 'store', columns = 'color')\n",
    "shoes.pivot_table(values='sales', index= 'store', columns = 'color',aggfunc='sum', fill_value=0)"
   ]
  },
  {
   "cell_type": "markdown",
   "metadata": {},
   "source": [
    "Q13. 'dataset/titanic3.csv'을 불러와서 pclass 와 sex 칼럼을 각각 인덱스, 칼럼으로 하고 values는 survived, 함수는 mean을 적용하여 pivot_table을 만든 후 히트맵으로 시각화 및 인사이트를 기술하세요"
   ]
  },
  {
   "cell_type": "code",
   "execution_count": 186,
   "metadata": {},
   "outputs": [
    {
     "data": {
      "text/html": [
       "<div>\n",
       "<style scoped>\n",
       "    .dataframe tbody tr th:only-of-type {\n",
       "        vertical-align: middle;\n",
       "    }\n",
       "\n",
       "    .dataframe tbody tr th {\n",
       "        vertical-align: top;\n",
       "    }\n",
       "\n",
       "    .dataframe thead th {\n",
       "        text-align: right;\n",
       "    }\n",
       "</style>\n",
       "<table border=\"1\" class=\"dataframe\">\n",
       "  <thead>\n",
       "    <tr style=\"text-align: right;\">\n",
       "      <th></th>\n",
       "      <th>pclass</th>\n",
       "      <th>survived</th>\n",
       "      <th>name</th>\n",
       "      <th>sex</th>\n",
       "      <th>age</th>\n",
       "      <th>sibsp</th>\n",
       "      <th>parch</th>\n",
       "      <th>ticket</th>\n",
       "      <th>fare</th>\n",
       "      <th>cabin</th>\n",
       "      <th>embarked</th>\n",
       "      <th>boat</th>\n",
       "      <th>body</th>\n",
       "      <th>home.dest</th>\n",
       "    </tr>\n",
       "  </thead>\n",
       "  <tbody>\n",
       "    <tr>\n",
       "      <th>0</th>\n",
       "      <td>1</td>\n",
       "      <td>1</td>\n",
       "      <td>Allen, Miss. Elisabeth Walton</td>\n",
       "      <td>female</td>\n",
       "      <td>29.00</td>\n",
       "      <td>0</td>\n",
       "      <td>0</td>\n",
       "      <td>24160</td>\n",
       "      <td>211.3375</td>\n",
       "      <td>B5</td>\n",
       "      <td>S</td>\n",
       "      <td>2</td>\n",
       "      <td>NaN</td>\n",
       "      <td>St Louis, MO</td>\n",
       "    </tr>\n",
       "    <tr>\n",
       "      <th>1</th>\n",
       "      <td>1</td>\n",
       "      <td>1</td>\n",
       "      <td>Allison, Master. Hudson Trevor</td>\n",
       "      <td>male</td>\n",
       "      <td>0.92</td>\n",
       "      <td>1</td>\n",
       "      <td>2</td>\n",
       "      <td>113781</td>\n",
       "      <td>151.5500</td>\n",
       "      <td>C22 C26</td>\n",
       "      <td>S</td>\n",
       "      <td>11</td>\n",
       "      <td>NaN</td>\n",
       "      <td>Montreal, PQ / Chesterville, ON</td>\n",
       "    </tr>\n",
       "  </tbody>\n",
       "</table>\n",
       "</div>"
      ],
      "text/plain": [
       "   pclass  survived                            name     sex    age  sibsp  \\\n",
       "0       1         1   Allen, Miss. Elisabeth Walton  female  29.00      0   \n",
       "1       1         1  Allison, Master. Hudson Trevor    male   0.92      1   \n",
       "\n",
       "   parch  ticket      fare    cabin embarked boat  body  \\\n",
       "0      0   24160  211.3375       B5        S    2   NaN   \n",
       "1      2  113781  151.5500  C22 C26        S   11   NaN   \n",
       "\n",
       "                         home.dest  \n",
       "0                     St Louis, MO  \n",
       "1  Montreal, PQ / Chesterville, ON  "
      ]
     },
     "execution_count": 186,
     "metadata": {},
     "output_type": "execute_result"
    }
   ],
   "source": [
    "titanic = pd.read_csv('titanic3.csv')\n",
    "titanic.head(2)"
   ]
  },
  {
   "cell_type": "code",
   "execution_count": 190,
   "metadata": {},
   "outputs": [
    {
     "data": {
      "text/html": [
       "<div>\n",
       "<style scoped>\n",
       "    .dataframe tbody tr th:only-of-type {\n",
       "        vertical-align: middle;\n",
       "    }\n",
       "\n",
       "    .dataframe tbody tr th {\n",
       "        vertical-align: top;\n",
       "    }\n",
       "\n",
       "    .dataframe thead th {\n",
       "        text-align: right;\n",
       "    }\n",
       "</style>\n",
       "<table border=\"1\" class=\"dataframe\">\n",
       "  <thead>\n",
       "    <tr style=\"text-align: right;\">\n",
       "      <th>sex</th>\n",
       "      <th>female</th>\n",
       "      <th>male</th>\n",
       "    </tr>\n",
       "    <tr>\n",
       "      <th>pclass</th>\n",
       "      <th></th>\n",
       "      <th></th>\n",
       "    </tr>\n",
       "  </thead>\n",
       "  <tbody>\n",
       "    <tr>\n",
       "      <th>1</th>\n",
       "      <td>0.965278</td>\n",
       "      <td>0.340782</td>\n",
       "    </tr>\n",
       "    <tr>\n",
       "      <th>2</th>\n",
       "      <td>0.886792</td>\n",
       "      <td>0.146199</td>\n",
       "    </tr>\n",
       "    <tr>\n",
       "      <th>3</th>\n",
       "      <td>0.490741</td>\n",
       "      <td>0.152130</td>\n",
       "    </tr>\n",
       "  </tbody>\n",
       "</table>\n",
       "</div>"
      ],
      "text/plain": [
       "sex       female      male\n",
       "pclass                    \n",
       "1       0.965278  0.340782\n",
       "2       0.886792  0.146199\n",
       "3       0.490741  0.152130"
      ]
     },
     "execution_count": 190,
     "metadata": {},
     "output_type": "execute_result"
    }
   ],
   "source": [
    "tp = titanic.pivot_table(index='pclass',columns='sex',values='survived',aggfunc='mean',fill_value=0)\n",
    "tp"
   ]
  },
  {
   "cell_type": "code",
   "execution_count": 192,
   "metadata": {},
   "outputs": [],
   "source": [
    "import seaborn as sns"
   ]
  },
  {
   "cell_type": "code",
   "execution_count": 197,
   "metadata": {},
   "outputs": [
    {
     "data": {
      "image/png": "[encoded data removed]",
      "text/plain": [
       "<Figure size 432x288 with 2 Axes>"
      ]
     },
     "metadata": {
      "needs_background": "light"
     },
     "output_type": "display_data"
    }
   ],
   "source": [
    "fig,axes = plt.subplots(figsize=(6,4))\n",
    "sns.heatmap(tp,cmap='RdBu',ax=axes)\n",
    "plt.xlabel('sex')\n",
    "plt.ylabel('pclass')\n",
    "plt.show()"
   ]
  },
  {
   "cell_type": "code",
   "execution_count": null,
   "metadata": {},
   "outputs": [],
   "source": [
    "#인사이트\n",
    "- 남자가 여자보다 전체적으로 생존확률이 현저히 낮다\n",
    "- 여자는 pclass가 3-2-1등급 순으로 생존확률이 높아진다.(남자는 2,3등급 차이 없음)"
   ]
  },
  {
   "cell_type": "markdown",
   "metadata": {},
   "source": [
    "## Q14. 평균 4, 표준편차 0.8인 정규분포에서 샘플사이즈 10인 표본 10000개의 표본평균을 배열로 저장하고 10개를 출력하세요.(넘파이 zeros 함수 이용)"
   ]
  },
  {
   "cell_type": "code",
   "execution_count": 198,
   "metadata": {},
   "outputs": [
    {
     "name": "stderr",
     "output_type": "stream",
     "text": [
      "C:\\Users\\user\\AppData\\Local\\Temp\\ipykernel_14172\\2432308557.py:12: VisibleDeprecationWarning: Creating an ndarray from ragged nested sequences (which is a list-or-tuple of lists-or-tuples-or ndarrays with different lengths or shapes) is deprecated. If you meant to do this, you must specify 'dtype=object' when creating the ndarray.\n",
      "  sample = np.random.choice(nomal,10)\n"
     ]
    },
    {
     "ename": "TypeError",
     "evalue": "can only concatenate list (not \"function\") to list",
     "output_type": "error",
     "traceback": [
      "\u001b[1;31m---------------------------------------------------------------------------\u001b[0m",
      "\u001b[1;31mTypeError\u001b[0m                                 Traceback (most recent call last)",
      "Input \u001b[1;32mIn [198]\u001b[0m, in \u001b[0;36m<cell line: 11>\u001b[1;34m()\u001b[0m\n\u001b[0;32m     11\u001b[0m \u001b[38;5;28;01mfor\u001b[39;00m i \u001b[38;5;129;01min\u001b[39;00m \u001b[38;5;28mrange\u001b[39m(\u001b[38;5;241m10000\u001b[39m):\n\u001b[0;32m     12\u001b[0m     sample \u001b[38;5;241m=\u001b[39m np\u001b[38;5;241m.\u001b[39mrandom\u001b[38;5;241m.\u001b[39mchoice(nomal,\u001b[38;5;241m10\u001b[39m)\n\u001b[1;32m---> 13\u001b[0m     s_mean \u001b[38;5;241m=\u001b[39m \u001b[43msample\u001b[49m\u001b[38;5;241;43m.\u001b[39;49m\u001b[43mmean\u001b[49m\u001b[43m(\u001b[49m\u001b[43m)\u001b[49m\n\u001b[0;32m     14\u001b[0m     li\u001b[38;5;241m.\u001b[39mappend(s_mean)\n\u001b[0;32m     15\u001b[0m \u001b[38;5;28mprint\u001b[39m(li)\n",
      "File \u001b[1;32m~\\anaconda3\\envs\\cakd7\\lib\\site-packages\\numpy\\core\\_methods.py:179\u001b[0m, in \u001b[0;36m_mean\u001b[1;34m(a, axis, dtype, out, keepdims, where)\u001b[0m\n\u001b[0;32m    176\u001b[0m         dtype \u001b[38;5;241m=\u001b[39m mu\u001b[38;5;241m.\u001b[39mdtype(\u001b[38;5;124m'\u001b[39m\u001b[38;5;124mf4\u001b[39m\u001b[38;5;124m'\u001b[39m)\n\u001b[0;32m    177\u001b[0m         is_float16_result \u001b[38;5;241m=\u001b[39m \u001b[38;5;28;01mTrue\u001b[39;00m\n\u001b[1;32m--> 179\u001b[0m ret \u001b[38;5;241m=\u001b[39m \u001b[43mumr_sum\u001b[49m\u001b[43m(\u001b[49m\u001b[43marr\u001b[49m\u001b[43m,\u001b[49m\u001b[43m \u001b[49m\u001b[43maxis\u001b[49m\u001b[43m,\u001b[49m\u001b[43m \u001b[49m\u001b[43mdtype\u001b[49m\u001b[43m,\u001b[49m\u001b[43m \u001b[49m\u001b[43mout\u001b[49m\u001b[43m,\u001b[49m\u001b[43m \u001b[49m\u001b[43mkeepdims\u001b[49m\u001b[43m,\u001b[49m\u001b[43m \u001b[49m\u001b[43mwhere\u001b[49m\u001b[38;5;241;43m=\u001b[39;49m\u001b[43mwhere\u001b[49m\u001b[43m)\u001b[49m\n\u001b[0;32m    180\u001b[0m \u001b[38;5;28;01mif\u001b[39;00m \u001b[38;5;28misinstance\u001b[39m(ret, mu\u001b[38;5;241m.\u001b[39mndarray):\n\u001b[0;32m    181\u001b[0m     ret \u001b[38;5;241m=\u001b[39m um\u001b[38;5;241m.\u001b[39mtrue_divide(\n\u001b[0;32m    182\u001b[0m             ret, rcount, out\u001b[38;5;241m=\u001b[39mret, casting\u001b[38;5;241m=\u001b[39m\u001b[38;5;124m'\u001b[39m\u001b[38;5;124munsafe\u001b[39m\u001b[38;5;124m'\u001b[39m, subok\u001b[38;5;241m=\u001b[39m\u001b[38;5;28;01mFalse\u001b[39;00m)\n",
      "\u001b[1;31mTypeError\u001b[0m: can only concatenate list (not \"function\") to list"
     ]
    }
   ],
   "source": [
    "def N(mu, sigma):\n",
    "    x_range = [-np.inf,np.inf]\n",
    "    def f(x):\n",
    "        return 1/np.sqrt(2*np.pi*sigma**2)*np.exp(-(x-mu)**2/(2*sigma**2))\n",
    "    return x_range, f\n",
    "\n",
    "nomal = N(4,0.8)\n",
    "#emp = np.zeros(10000)\n",
    "\n",
    "li=[]\n",
    "for i in range(10000):\n",
    "    sample = np.random.choice(nomal,10)\n",
    "    s_mean = sample.mean()\n",
    "    li.append(s_mean)\n",
    "print(li)\n",
    "\n",
    "z = np.array(li)\n",
    "z[:10]"
   ]
  },
  {
   "cell_type": "markdown",
   "metadata": {},
   "source": [
    "Q15. Q14에서 구한 배열의 히스토그램을 시각화하세요.(확률밀도 포함)"
   ]
  },
  {
   "cell_type": "code",
   "execution_count": null,
   "metadata": {},
   "outputs": [],
   "source": []
  },
  {
   "cell_type": "markdown",
   "metadata": {},
   "source": [
    "Q16. 서로 독립인 X\\~N(1,2), Y\\~N(2,3)이 있을 때 확률변수 X + Y의 분포는 N(3,5)를 따른다는 것을 시각화하여 출력하세요."
   ]
  },
  {
   "cell_type": "code",
   "execution_count": 200,
   "metadata": {},
   "outputs": [
    {
     "data": {
      "text/plain": [
       "(3.00, 5.00)"
      ]
     },
     "execution_count": 200,
     "metadata": {},
     "output_type": "execute_result"
    }
   ],
   "source": [
    "rv1 = stats.norm(1,np.sqrt(2))\n",
    "rv2 = stats.norm(2,np.sqrt(3))\n",
    "\n",
    "sample_size = int(1e6)\n",
    "X_sample = rv1.rvs(sample_size)\n",
    "Y_sample = rv2.rvs(sample_size)\n",
    "sum_sample = X_sample + Y_sample\n",
    "\n",
    "np.mean(sum_sample), np.var(sum_sample)"
   ]
  },
  {
   "cell_type": "code",
   "execution_count": 201,
   "metadata": {},
   "outputs": [
    {
     "data": {
      "image/png": "[encoded data removed]",
      "text/plain": [
       "<Figure size 720x432 with 1 Axes>"
      ]
     },
     "metadata": {
      "needs_background": "light"
     },
     "output_type": "display_data"
    }
   ],
   "source": [
    "fig = plt.figure(figsize=(10,6))\n",
    "ax = fig.add_subplot(111)\n",
    "\n",
    "rv = stats.norm(3, np.sqrt(5))\n",
    "xs = np.linspace(rv.isf(0.995),rv.isf(0.005),100)\n",
    "\n",
    "ax.hist(sum_sample, bins=100, density=True,\n",
    "       alpha=0.5, label='N(1,2) + N(2,3)')\n",
    "ax.plot(xs, rv.pdf(xs), label='N(3,5)', color='gray')\n",
    "ax.plot(xs, rv1.pdf(xs), label='N(1,2)', ls='--', color='gray')\n",
    "ax.plot(xs, rv2.pdf(xs), label='N(2,3)', ls=':', color='gray')\n",
    "\n",
    "ax.legend()\n",
    "ax.set_xlim(rv.isf(0.995),rv.isf(0.005))\n",
    "plt.show()"
   ]
  },
  {
   "cell_type": "markdown",
   "metadata": {},
   "source": [
    "Q17. 서로 독립인 X ~ Poi(3)과 Y ~ Poi(4)가 있을 때 확률변수 X + Y도 포아송 분포를 따른다는 것을 시각화하여 출력하세요."
   ]
  },
  {
   "cell_type": "code",
   "execution_count": 202,
   "metadata": {},
   "outputs": [
    {
     "data": {
      "text/plain": [
       "(7.00, 7.00)"
      ]
     },
     "execution_count": 202,
     "metadata": {},
     "output_type": "execute_result"
    }
   ],
   "source": [
    "rv1 = stats.poisson(3)\n",
    "rv2 = stats.poisson(4)\n",
    "\n",
    "sample_size = int(1e6)\n",
    "X_sample = rv1.rvs(sample_size)\n",
    "Y_sample = rv2.rvs(sample_size)\n",
    "sum_sample = X_sample + Y_sample\n",
    "\n",
    "np.mean(sum_sample), np.var(sum_sample)"
   ]
  },
  {
   "cell_type": "code",
   "execution_count": 203,
   "metadata": {},
   "outputs": [
    {
     "name": "stderr",
     "output_type": "stream",
     "text": [
      "C:\\Users\\user\\AppData\\Local\\Temp\\ipykernel_14172\\3729651887.py:6: VisibleDeprecationWarning: Passing `normed=True` on non-uniform bins has always been broken, and computes neither the probability density function nor the probability mass function. The result is only correct if the bins are uniform, when density=True will produce the same result anyway. The argument will be removed in a future version of numpy.\n",
      "  hist,_ = np.histogram(sum_sample, bins=20, range=(0,20),normed=True)\n"
     ]
    },
    {
     "data": {
      "image/png": "[encoded data removed]",
      "text/plain": [
       "<Figure size 720x432 with 1 Axes>"
      ]
     },
     "metadata": {
      "needs_background": "light"
     },
     "output_type": "display_data"
    }
   ],
   "source": [
    "fig = plt.figure(figsize=(10,6))\n",
    "ax = fig.add_subplot(111)\n",
    "\n",
    "rv = stats.poisson(7)\n",
    "xs = np.arange(20)\n",
    "hist,_ = np.histogram(sum_sample, bins=20, range=(0,20),normed=True)\n",
    "\n",
    "ax.bar(xs, hist, alpha=0.5, label='Poi(3)+Poi(4)')\n",
    "ax.plot(xs, rv.pmf(xs), label='Poi(7)', color='gray')\n",
    "ax.plot(xs, rv1.pmf(xs), label='Poi(3)', ls='--', color='gray')\n",
    "ax.plot(xs, rv2.pmf(xs), label='Poi(4)', ls=':', color='gray')\n",
    "\n",
    "ax.legend()\n",
    "ax.set_xlim(-0.5,20)\n",
    "ax.set_xticks(np.arange(20))\n",
    "plt.show()"
   ]
  },
  {
   "cell_type": "markdown",
   "metadata": {},
   "source": [
    "Q18. 베르누이 분포의 합은 이항분포가 되는 성질을 시각화하여 출력하세요 "
   ]
  },
  {
   "cell_type": "code",
   "execution_count": 204,
   "metadata": {},
   "outputs": [
    {
     "data": {
      "text/plain": [
       "(3.00, 2.10)"
      ]
     },
     "execution_count": 204,
     "metadata": {},
     "output_type": "execute_result"
    }
   ],
   "source": [
    "p = 0.3\n",
    "rv = stats.bernoulli(p)\n",
    "\n",
    "sample_size = int(1e6)\n",
    "Xs_sample = rv.rvs((10,sample_size))\n",
    "sum_sample = np.sum(Xs_sample,axis=0)\n",
    "\n",
    "np.mean(sum_sample), np.var(sum_sample)"
   ]
  },
  {
   "cell_type": "code",
   "execution_count": 205,
   "metadata": {},
   "outputs": [
    {
     "name": "stderr",
     "output_type": "stream",
     "text": [
      "C:\\Users\\user\\AppData\\Local\\Temp\\ipykernel_14172\\2585984585.py:6: VisibleDeprecationWarning: Passing `normed=True` on non-uniform bins has always been broken, and computes neither the probability density function nor the probability mass function. The result is only correct if the bins are uniform, when density=True will produce the same result anyway. The argument will be removed in a future version of numpy.\n",
      "  hist,_ = np.histogram(sum_sample, bins=10, range=(0,10),normed=True)\n"
     ]
    },
    {
     "data": {
      "image/png": "[encoded data removed]",
      "text/plain": [
       "<Figure size 720x432 with 1 Axes>"
      ]
     },
     "metadata": {
      "needs_background": "light"
     },
     "output_type": "display_data"
    }
   ],
   "source": [
    "fig = plt.figure(figsize=(10,6))\n",
    "ax = fig.add_subplot(111)\n",
    "\n",
    "rv = stats.binom(10,p)\n",
    "xs = np.arange(10)\n",
    "hist,_ = np.histogram(sum_sample, bins=10, range=(0,10),normed=True)\n",
    "\n",
    "ax.bar(xs, hist, alpha=0.5, label='sum of 10*Bern(0.3)')\n",
    "ax.plot(xs, rv.pmf(xs), label='Bin(10,0.3)')\n",
    "\n",
    "ax.legend()\n",
    "ax.set_xlim(-0.5,10)\n",
    "ax.set_xticks(np.arange(10))\n",
    "plt.show()"
   ]
  },
  {
   "cell_type": "markdown",
   "metadata": {},
   "source": [
    "Q19. 포아송 분포의 표본분포는 근사적으로 정규분포를 따른다는 것을 시각화하고 그 핵심 근거인 중심극한정리에 대하여 설명하세요."
   ]
  },
  {
   "cell_type": "code",
   "execution_count": null,
   "metadata": {},
   "outputs": [],
   "source": [
    "표본평균의 분포는 정규분포에 가까워진다"
   ]
  },
  {
   "cell_type": "code",
   "execution_count": 206,
   "metadata": {},
   "outputs": [],
   "source": [
    "l = 3\n",
    "rv = stats.poisson(l)\n",
    "\n",
    "n = 10000\n",
    "sample_size = 10000\n",
    "Xs_sample = rv.rvs((n,sample_size))\n",
    "sample_mean = np.mean(Xs_sample,axis=0)\n",
    "\n",
    "rv_true = stats.norm(l, np.sqrt(1/n))\n",
    "xs = np.linspace(rv_true.isf(0.999), rv_true.isf(0.001),100)"
   ]
  },
  {
   "cell_type": "code",
   "execution_count": 207,
   "metadata": {},
   "outputs": [
    {
     "data": {
      "image/png": "[encoded data removed]",
      "text/plain": [
       "<Figure size 720x432 with 1 Axes>"
      ]
     },
     "metadata": {
      "needs_background": "light"
     },
     "output_type": "display_data"
    }
   ],
   "source": [
    "fig = plt.figure(figsize=(10,6))\n",
    "ax = fig.add_subplot(111)\n",
    "\n",
    "ax.hist(sample_mean, bins=100, density=True, alpha=0.5, label='sample mean of 10000*Poi(3)')\n",
    "ax.plot(xs, rv_true.pdf(xs), label='N(3,3/10000)', color='gray')\n",
    "\n",
    "ax.legend()\n",
    "ax.set_xlim(rv_true.isf(0.999),rv_true.isf(0.001))\n",
    "plt.show()"
   ]
  },
  {
   "cell_type": "markdown",
   "metadata": {},
   "source": [
    "Q20. 아래 df 데이터셋에서 \"무게의 평균이 130kg이다.\"라는 귀무가설에 대한 유의성 검정을 수행하세요. "
   ]
  },
  {
   "cell_type": "code",
   "execution_count": 208,
   "metadata": {},
   "outputs": [
    {
     "name": "stdout",
     "output_type": "stream",
     "text": [
      "       무게\n",
      "0  122.02\n",
      "1  131.73\n",
      "2  130.60\n",
      "3  131.82\n",
      "4  132.05 14\n"
     ]
    }
   ],
   "source": [
    "df = pd.read_csv('ch11_potato.csv')\n",
    "print(df.head(),len(df))"
   ]
  },
  {
   "cell_type": "code",
   "execution_count": 213,
   "metadata": {},
   "outputs": [
    {
     "data": {
      "text/plain": [
       "array([122.02, 131.73, 130.6 , 131.82, 132.05, 126.12, 124.43, 132.89,\n",
       "       122.79, 129.95, 126.14, 134.45, 127.64, 125.68])"
      ]
     },
     "execution_count": 213,
     "metadata": {},
     "output_type": "execute_result"
    }
   ],
   "source": [
    "sample = np.array(df['무게'])\n",
    "sample"
   ]
  },
  {
   "cell_type": "code",
   "execution_count": 217,
   "metadata": {},
   "outputs": [
    {
     "data": {
      "text/plain": [
       "128.45"
      ]
     },
     "execution_count": 217,
     "metadata": {},
     "output_type": "execute_result"
    }
   ],
   "source": [
    "# 실제 감튀의 평균\n",
    "s_mean = np.mean(sample)\n",
    "s_mean"
   ]
  },
  {
   "cell_type": "code",
   "execution_count": 215,
   "metadata": {},
   "outputs": [
    {
     "data": {
      "text/plain": [
       "128.68"
      ]
     },
     "execution_count": 215,
     "metadata": {},
     "output_type": "execute_result"
    }
   ],
   "source": [
    "rv = stats.norm(130,np.sqrt(9/14))\n",
    "rv.isf(0.95)"
   ]
  },
  {
   "cell_type": "markdown",
   "metadata": {},
   "source": [
    "- 단측검정"
   ]
  },
  {
   "cell_type": "code",
   "execution_count": 216,
   "metadata": {},
   "outputs": [
    {
     "data": {
      "text/plain": [
       "-1.93"
      ]
     },
     "execution_count": 216,
     "metadata": {},
     "output_type": "execute_result"
    }
   ],
   "source": [
    "# 검정통계량\n",
    "z = (s_mean - 130) / np.sqrt(9/14)\n",
    "z"
   ]
  },
  {
   "cell_type": "code",
   "execution_count": 218,
   "metadata": {},
   "outputs": [
    {
     "data": {
      "text/plain": [
       "-1.64"
      ]
     },
     "execution_count": 218,
     "metadata": {},
     "output_type": "execute_result"
    }
   ],
   "source": [
    "#임계값\n",
    "rv = stats.norm()\n",
    "rv.isf(0.95)"
   ]
  },
  {
   "cell_type": "code",
   "execution_count": 219,
   "metadata": {},
   "outputs": [
    {
     "data": {
      "text/plain": [
       "0.03"
      ]
     },
     "execution_count": 219,
     "metadata": {},
     "output_type": "execute_result"
    }
   ],
   "source": [
    "# p값\n",
    "rv.cdf(z)"
   ]
  },
  {
   "cell_type": "code",
   "execution_count": null,
   "metadata": {},
   "outputs": [],
   "source": [
    "p값이 유의수준 0.05보다 작음 -> 귀무가설 기각"
   ]
  },
  {
   "cell_type": "markdown",
   "metadata": {},
   "source": [
    "- 양측검정"
   ]
  },
  {
   "cell_type": "code",
   "execution_count": 220,
   "metadata": {},
   "outputs": [
    {
     "data": {
      "text/plain": [
       "-1.93"
      ]
     },
     "execution_count": 220,
     "metadata": {},
     "output_type": "execute_result"
    }
   ],
   "source": [
    "# 검정통계량\n",
    "z = (s_mean - 130) / np.sqrt(9/14)\n",
    "z"
   ]
  },
  {
   "cell_type": "code",
   "execution_count": 221,
   "metadata": {},
   "outputs": [
    {
     "data": {
      "text/plain": [
       "(-1.96, 1.96)"
      ]
     },
     "execution_count": 221,
     "metadata": {},
     "output_type": "execute_result"
    }
   ],
   "source": [
    "#임계값\n",
    "rv = stats.norm()\n",
    "rv.interval(0.95)"
   ]
  },
  {
   "cell_type": "code",
   "execution_count": 222,
   "metadata": {},
   "outputs": [
    {
     "data": {
      "text/plain": [
       "0.05"
      ]
     },
     "execution_count": 222,
     "metadata": {},
     "output_type": "execute_result"
    }
   ],
   "source": [
    "# 누적밀도함수 *2\n",
    "rv.cdf(z)*2"
   ]
  },
  {
   "cell_type": "code",
   "execution_count": null,
   "metadata": {},
   "outputs": [],
   "source": [
    "p값이 유의수준 0.05보다 큼 -> 귀무가설 기각되지 않음"
   ]
  }
 ],
 "metadata": {
  "kernelspec": {
   "display_name": "Python 3 (ipykernel)",
   "language": "python",
   "name": "python3"
  },
  "language_info": {
   "codemirror_mode": {
    "name": "ipython",
    "version": 3
   },
   "file_extension": ".py",
   "mimetype": "text/x-python",
   "name": "python",
   "nbconvert_exporter": "python",
   "pygments_lexer": "ipython3",
   "version": "3.8.13"
  },
  "toc": {
   "base_numbering": 1,
   "nav_menu": {},
   "number_sections": true,
   "sideBar": true,
   "skip_h1_title": false,
   "title_cell": "Table of Contents",
   "title_sidebar": "Contents",
   "toc_cell": false,
   "toc_position": {},
   "toc_section_display": true,
   "toc_window_display": false
  }
 },
 "nbformat": 4,
 "nbformat_minor": 4
}
