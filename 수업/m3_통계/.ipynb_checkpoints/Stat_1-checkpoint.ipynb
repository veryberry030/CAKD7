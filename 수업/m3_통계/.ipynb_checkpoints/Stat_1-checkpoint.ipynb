{
 "cells": [
  {
   "cell_type": "code",
   "execution_count": 1,
   "id": "2e84cdec",
   "metadata": {},
   "outputs": [
    {
     "data": {
      "text/plain": [
       "'%.3f'"
      ]
     },
     "execution_count": 1,
     "metadata": {},
     "output_type": "execute_result"
    }
   ],
   "source": [
    "import pandas as pd\n",
    "import numpy as np\n",
    "\n",
    "%precision 3"
   ]
  },
  {
   "cell_type": "markdown",
   "id": "71d665cb",
   "metadata": {},
   "source": [
    "## 1차원 데이터\n",
    "- 평균값(기댓값), 표본분산, 불편분산(ddof=1), 표준편차\n",
    "- 표본분산은 표본의 평균을 사용해서 분산을 계산한 값으로 분산을 과소 추정하는 경향이 있으며 그 경향을 없애기 위한 것이 불편분산임. 표본분산 보다 조금 큰 값이 된다.\n",
    "- 표준화 : 평균값이 큰 변수와 작은 변수가 섞여 있으면 다루기 어려우므로 표준화로 데이터를 비교하기 쉽게 한다.\n",
    "- 최댓값, 최솟값, 중앙값, 사분위수\n",
    "- 표본분산과 비편향 분산\n",
    "    - 분산은 표본 분산과 불편분산(unbiased variance)의 두 종류가 존재\n",
    "    - 표본 분산은 표본에서 계산된 분산이며 모집단에 비해 표본수가 적을 때는 표본 분산이 모분산보다 작아진다.\n",
    "    - 즉 표본 분산이 모집단 분산에 맞춰서 동일하게 보정한 것을 비편향 분산이라 한다.\n",
    "    - 통계학에서는 이 비편향분산ㅇ르 사용하는 경우가 많다.\n",
    "    - 불편분산은 n대신 n-1로 나누어 구할 수 있다.\n",
    "    \n",
    "[표분분산이 분산을 과소 평가하는 이유]\n",
    "\n",
    "- 호수안에 물고기가 7마리가 있다. 몸길이 {1,2,3,4,5,6,7}, 모평균 4, 샘플링1 3마리{1,2,3} 표본평균 2, 샘플링2 {5,6,7} 표본평균 6\n",
    "- 이때 분산은 모평균을 모르기 때문에 표본평균과의 거리를 계산하며 분산을 과소평가 하게된다.\n",
    "- 표본 분산 보다 조금 더 큰 값이 되도록 보정하기 위하여 N대신 N-1로 나누어 불편분산을 구할 수 있다."
   ]
  },
  {
   "cell_type": "code",
   "execution_count": 2,
   "id": "8d38b695",
   "metadata": {},
   "outputs": [
    {
     "data": {
      "text/html": [
       "<div>\n",
       "<style scoped>\n",
       "    .dataframe tbody tr th:only-of-type {\n",
       "        vertical-align: middle;\n",
       "    }\n",
       "\n",
       "    .dataframe tbody tr th {\n",
       "        vertical-align: top;\n",
       "    }\n",
       "\n",
       "    .dataframe thead th {\n",
       "        text-align: right;\n",
       "    }\n",
       "</style>\n",
       "<table border=\"1\" class=\"dataframe\">\n",
       "  <thead>\n",
       "    <tr style=\"text-align: right;\">\n",
       "      <th></th>\n",
       "      <th>english</th>\n",
       "      <th>mathematics</th>\n",
       "    </tr>\n",
       "    <tr>\n",
       "      <th>student number</th>\n",
       "      <th></th>\n",
       "      <th></th>\n",
       "    </tr>\n",
       "  </thead>\n",
       "  <tbody>\n",
       "    <tr>\n",
       "      <th>1</th>\n",
       "      <td>42</td>\n",
       "      <td>65</td>\n",
       "    </tr>\n",
       "    <tr>\n",
       "      <th>2</th>\n",
       "      <td>69</td>\n",
       "      <td>80</td>\n",
       "    </tr>\n",
       "    <tr>\n",
       "      <th>3</th>\n",
       "      <td>56</td>\n",
       "      <td>63</td>\n",
       "    </tr>\n",
       "    <tr>\n",
       "      <th>4</th>\n",
       "      <td>41</td>\n",
       "      <td>63</td>\n",
       "    </tr>\n",
       "    <tr>\n",
       "      <th>5</th>\n",
       "      <td>57</td>\n",
       "      <td>76</td>\n",
       "    </tr>\n",
       "  </tbody>\n",
       "</table>\n",
       "</div>"
      ],
      "text/plain": [
       "                english  mathematics\n",
       "student number                      \n",
       "1                    42           65\n",
       "2                    69           80\n",
       "3                    56           63\n",
       "4                    41           63\n",
       "5                    57           76"
      ]
     },
     "execution_count": 2,
     "metadata": {},
     "output_type": "execute_result"
    }
   ],
   "source": [
    "df = pd.read_csv('./ch2_scores_em.csv',index_col='student number')\n",
    "df.head()"
   ]
  },
  {
   "cell_type": "code",
   "execution_count": 3,
   "id": "b8b3c023",
   "metadata": {},
   "outputs": [
    {
     "data": {
      "text/plain": [
       "(50, 2)"
      ]
     },
     "execution_count": 3,
     "metadata": {},
     "output_type": "execute_result"
    }
   ],
   "source": [
    "df.shape"
   ]
  },
  {
   "cell_type": "code",
   "execution_count": 4,
   "id": "74364e67",
   "metadata": {},
   "outputs": [
    {
     "data": {
      "text/plain": [
       "array([42, 69, 56, 41, 57, 48, 65, 49, 65, 58], dtype=int64)"
      ]
     },
     "execution_count": 4,
     "metadata": {},
     "output_type": "execute_result"
    }
   ],
   "source": [
    "scores = np.array(df['english'])[:10]\n",
    "scores"
   ]
  },
  {
   "cell_type": "code",
   "execution_count": 5,
   "id": "d52d7e25",
   "metadata": {},
   "outputs": [
    {
     "data": {
      "text/html": [
       "<div>\n",
       "<style scoped>\n",
       "    .dataframe tbody tr th:only-of-type {\n",
       "        vertical-align: middle;\n",
       "    }\n",
       "\n",
       "    .dataframe tbody tr th {\n",
       "        vertical-align: top;\n",
       "    }\n",
       "\n",
       "    .dataframe thead th {\n",
       "        text-align: right;\n",
       "    }\n",
       "</style>\n",
       "<table border=\"1\" class=\"dataframe\">\n",
       "  <thead>\n",
       "    <tr style=\"text-align: right;\">\n",
       "      <th></th>\n",
       "      <th>score</th>\n",
       "    </tr>\n",
       "    <tr>\n",
       "      <th>student</th>\n",
       "      <th></th>\n",
       "    </tr>\n",
       "  </thead>\n",
       "  <tbody>\n",
       "    <tr>\n",
       "      <th>A</th>\n",
       "      <td>42</td>\n",
       "    </tr>\n",
       "    <tr>\n",
       "      <th>B</th>\n",
       "      <td>69</td>\n",
       "    </tr>\n",
       "    <tr>\n",
       "      <th>C</th>\n",
       "      <td>56</td>\n",
       "    </tr>\n",
       "    <tr>\n",
       "      <th>D</th>\n",
       "      <td>41</td>\n",
       "    </tr>\n",
       "    <tr>\n",
       "      <th>E</th>\n",
       "      <td>57</td>\n",
       "    </tr>\n",
       "    <tr>\n",
       "      <th>F</th>\n",
       "      <td>48</td>\n",
       "    </tr>\n",
       "    <tr>\n",
       "      <th>G</th>\n",
       "      <td>65</td>\n",
       "    </tr>\n",
       "    <tr>\n",
       "      <th>H</th>\n",
       "      <td>49</td>\n",
       "    </tr>\n",
       "    <tr>\n",
       "      <th>I</th>\n",
       "      <td>65</td>\n",
       "    </tr>\n",
       "    <tr>\n",
       "      <th>J</th>\n",
       "      <td>58</td>\n",
       "    </tr>\n",
       "  </tbody>\n",
       "</table>\n",
       "</div>"
      ],
      "text/plain": [
       "         score\n",
       "student       \n",
       "A           42\n",
       "B           69\n",
       "C           56\n",
       "D           41\n",
       "E           57\n",
       "F           48\n",
       "G           65\n",
       "H           49\n",
       "I           65\n",
       "J           58"
      ]
     },
     "execution_count": 5,
     "metadata": {},
     "output_type": "execute_result"
    }
   ],
   "source": [
    "scores_df = pd.DataFrame({'score':scores},index=pd.Index(['A','B','C','D','E','F','G','H','I','J'],name='student'))\n",
    "scores_df"
   ]
  },
  {
   "cell_type": "markdown",
   "id": "99cf5080",
   "metadata": {},
   "source": [
    "## 1차원 데이터 정리"
   ]
  },
  {
   "cell_type": "markdown",
   "id": "834bf8e8",
   "metadata": {},
   "source": [
    "### 데이터 중심의 지표"
   ]
  },
  {
   "cell_type": "markdown",
   "id": "de1430ce",
   "metadata": {},
   "source": [
    "#### 평균값"
   ]
  },
  {
   "cell_type": "code",
   "execution_count": 6,
   "id": "e66d26f9",
   "metadata": {},
   "outputs": [
    {
     "data": {
      "text/plain": [
       "55.000"
      ]
     },
     "execution_count": 6,
     "metadata": {},
     "output_type": "execute_result"
    }
   ],
   "source": [
    "sum(scores)/len(scores)"
   ]
  },
  {
   "cell_type": "code",
   "execution_count": 7,
   "id": "1979b16a",
   "metadata": {},
   "outputs": [
    {
     "data": {
      "text/plain": [
       "55.000"
      ]
     },
     "execution_count": 7,
     "metadata": {},
     "output_type": "execute_result"
    }
   ],
   "source": [
    "np.mean(scores)"
   ]
  },
  {
   "cell_type": "code",
   "execution_count": 8,
   "id": "332b0598",
   "metadata": {},
   "outputs": [
    {
     "data": {
      "text/plain": [
       "score    55.0\n",
       "dtype: float64"
      ]
     },
     "execution_count": 8,
     "metadata": {},
     "output_type": "execute_result"
    }
   ],
   "source": [
    "scores_df.mean()"
   ]
  },
  {
   "cell_type": "markdown",
   "id": "d4a5c1ea",
   "metadata": {},
   "source": [
    "#### 중앙값"
   ]
  },
  {
   "cell_type": "code",
   "execution_count": 9,
   "id": "59a6eda2",
   "metadata": {},
   "outputs": [
    {
     "data": {
      "text/plain": [
       "array([41, 42, 48, 49, 56, 57, 58, 65, 65, 69], dtype=int64)"
      ]
     },
     "execution_count": 9,
     "metadata": {},
     "output_type": "execute_result"
    }
   ],
   "source": [
    "sorted_scores = np.sort(scores)\n",
    "sorted_scores"
   ]
  },
  {
   "cell_type": "code",
   "execution_count": 10,
   "id": "aca13c6a",
   "metadata": {},
   "outputs": [
    {
     "data": {
      "text/plain": [
       "56.500"
      ]
     },
     "execution_count": 10,
     "metadata": {},
     "output_type": "execute_result"
    }
   ],
   "source": [
    "n = len(sorted_scores)\n",
    "if n % 2 ==0:\n",
    "    m0 = sorted_scores[n//2-1]\n",
    "    m1 = sorted_scores[n//2]\n",
    "    median = (m0+m1)/2\n",
    "else:\n",
    "    median = sorted_scores[(n+1)//2-1]\n",
    "median"
   ]
  },
  {
   "cell_type": "code",
   "execution_count": 11,
   "id": "98c14735",
   "metadata": {},
   "outputs": [
    {
     "data": {
      "text/plain": [
       "56.500"
      ]
     },
     "execution_count": 11,
     "metadata": {},
     "output_type": "execute_result"
    }
   ],
   "source": [
    "np.median(scores)"
   ]
  },
  {
   "cell_type": "code",
   "execution_count": 12,
   "id": "f24f2192",
   "metadata": {},
   "outputs": [
    {
     "data": {
      "text/plain": [
       "score    56.5\n",
       "dtype: float64"
      ]
     },
     "execution_count": 12,
     "metadata": {},
     "output_type": "execute_result"
    }
   ],
   "source": [
    "scores_df.median()"
   ]
  },
  {
   "cell_type": "markdown",
   "id": "002d86f8",
   "metadata": {},
   "source": [
    "#### 최빈값"
   ]
  },
  {
   "cell_type": "code",
   "execution_count": 13,
   "id": "95e5222e",
   "metadata": {},
   "outputs": [
    {
     "data": {
      "text/plain": [
       "0    1\n",
       "dtype: int64"
      ]
     },
     "execution_count": 13,
     "metadata": {},
     "output_type": "execute_result"
    }
   ],
   "source": [
    "pd.Series([1,1,1,2,2,3]).mode()"
   ]
  },
  {
   "cell_type": "code",
   "execution_count": 14,
   "id": "e103ef2c",
   "metadata": {},
   "outputs": [
    {
     "data": {
      "text/plain": [
       "0    1\n",
       "1    2\n",
       "2    3\n",
       "3    4\n",
       "4    5\n",
       "dtype: int64"
      ]
     },
     "execution_count": 14,
     "metadata": {},
     "output_type": "execute_result"
    }
   ],
   "source": [
    "pd.Series([1,2,3,4,5]).mode()"
   ]
  },
  {
   "cell_type": "markdown",
   "id": "73a39535",
   "metadata": {},
   "source": [
    "### 데이터의 산포도 지표"
   ]
  },
  {
   "cell_type": "markdown",
   "id": "dde29c55",
   "metadata": {},
   "source": [
    "#### 분산과 표준편차"
   ]
  },
  {
   "cell_type": "code",
   "execution_count": 15,
   "id": "0edc383c",
   "metadata": {},
   "outputs": [
    {
     "data": {
      "text/plain": [
       "array([-13.,  14.,   1., -14.,   2.,  -7.,  10.,  -6.,  10.,   3.])"
      ]
     },
     "execution_count": 15,
     "metadata": {},
     "output_type": "execute_result"
    }
   ],
   "source": [
    "mean = np.mean(scores)\n",
    "deviation = scores-mean\n",
    "deviation"
   ]
  },
  {
   "cell_type": "code",
   "execution_count": 16,
   "id": "2bf4a5ea",
   "metadata": {},
   "outputs": [
    {
     "data": {
      "text/plain": [
       "array([-5.,  5.,  3., -1., -4.,  1.,  2., -2., -3.,  4.])"
      ]
     },
     "execution_count": 16,
     "metadata": {},
     "output_type": "execute_result"
    }
   ],
   "source": [
    "another_scores = [50,60,58,54,51,56,57,53,52,59]\n",
    "another_mean = np.mean(another_scores)\n",
    "another_deviation = another_scores - another_mean\n",
    "another_deviation"
   ]
  },
  {
   "cell_type": "code",
   "execution_count": 17,
   "id": "066abe9b",
   "metadata": {},
   "outputs": [
    {
     "data": {
      "text/plain": [
       "0.000"
      ]
     },
     "execution_count": 17,
     "metadata": {},
     "output_type": "execute_result"
    }
   ],
   "source": [
    "np.mean(deviation)"
   ]
  },
  {
   "cell_type": "code",
   "execution_count": 18,
   "id": "ba181690",
   "metadata": {},
   "outputs": [
    {
     "data": {
      "text/plain": [
       "0.000"
      ]
     },
     "execution_count": 18,
     "metadata": {},
     "output_type": "execute_result"
    }
   ],
   "source": [
    "np.mean(another_deviation)"
   ]
  },
  {
   "cell_type": "code",
   "execution_count": 19,
   "id": "f4c94f1c",
   "metadata": {},
   "outputs": [
    {
     "data": {
      "text/html": [
       "<div>\n",
       "<style scoped>\n",
       "    .dataframe tbody tr th:only-of-type {\n",
       "        vertical-align: middle;\n",
       "    }\n",
       "\n",
       "    .dataframe tbody tr th {\n",
       "        vertical-align: top;\n",
       "    }\n",
       "\n",
       "    .dataframe thead th {\n",
       "        text-align: right;\n",
       "    }\n",
       "</style>\n",
       "<table border=\"1\" class=\"dataframe\">\n",
       "  <thead>\n",
       "    <tr style=\"text-align: right;\">\n",
       "      <th></th>\n",
       "      <th>score</th>\n",
       "      <th>deviation</th>\n",
       "    </tr>\n",
       "    <tr>\n",
       "      <th>student</th>\n",
       "      <th></th>\n",
       "      <th></th>\n",
       "    </tr>\n",
       "  </thead>\n",
       "  <tbody>\n",
       "    <tr>\n",
       "      <th>A</th>\n",
       "      <td>42</td>\n",
       "      <td>-13.0</td>\n",
       "    </tr>\n",
       "    <tr>\n",
       "      <th>B</th>\n",
       "      <td>69</td>\n",
       "      <td>14.0</td>\n",
       "    </tr>\n",
       "    <tr>\n",
       "      <th>C</th>\n",
       "      <td>56</td>\n",
       "      <td>1.0</td>\n",
       "    </tr>\n",
       "    <tr>\n",
       "      <th>D</th>\n",
       "      <td>41</td>\n",
       "      <td>-14.0</td>\n",
       "    </tr>\n",
       "    <tr>\n",
       "      <th>E</th>\n",
       "      <td>57</td>\n",
       "      <td>2.0</td>\n",
       "    </tr>\n",
       "    <tr>\n",
       "      <th>F</th>\n",
       "      <td>48</td>\n",
       "      <td>-7.0</td>\n",
       "    </tr>\n",
       "    <tr>\n",
       "      <th>G</th>\n",
       "      <td>65</td>\n",
       "      <td>10.0</td>\n",
       "    </tr>\n",
       "    <tr>\n",
       "      <th>H</th>\n",
       "      <td>49</td>\n",
       "      <td>-6.0</td>\n",
       "    </tr>\n",
       "    <tr>\n",
       "      <th>I</th>\n",
       "      <td>65</td>\n",
       "      <td>10.0</td>\n",
       "    </tr>\n",
       "    <tr>\n",
       "      <th>J</th>\n",
       "      <td>58</td>\n",
       "      <td>3.0</td>\n",
       "    </tr>\n",
       "  </tbody>\n",
       "</table>\n",
       "</div>"
      ],
      "text/plain": [
       "         score  deviation\n",
       "student                  \n",
       "A           42      -13.0\n",
       "B           69       14.0\n",
       "C           56        1.0\n",
       "D           41      -14.0\n",
       "E           57        2.0\n",
       "F           48       -7.0\n",
       "G           65       10.0\n",
       "H           49       -6.0\n",
       "I           65       10.0\n",
       "J           58        3.0"
      ]
     },
     "execution_count": 19,
     "metadata": {},
     "output_type": "execute_result"
    }
   ],
   "source": [
    "summary_df = scores_df.copy()\n",
    "summary_df['deviation'] = deviation\n",
    "summary_df"
   ]
  },
  {
   "cell_type": "code",
   "execution_count": 20,
   "id": "58edd27c",
   "metadata": {},
   "outputs": [
    {
     "data": {
      "text/plain": [
       "score        55.0\n",
       "deviation     0.0\n",
       "dtype: float64"
      ]
     },
     "execution_count": 20,
     "metadata": {},
     "output_type": "execute_result"
    }
   ],
   "source": [
    "summary_df.mean()"
   ]
  },
  {
   "cell_type": "code",
   "execution_count": 21,
   "id": "501f1ae8",
   "metadata": {},
   "outputs": [
    {
     "data": {
      "text/plain": [
       "86.000"
      ]
     },
     "execution_count": 21,
     "metadata": {},
     "output_type": "execute_result"
    }
   ],
   "source": [
    "np.mean(deviation ** 2)"
   ]
  },
  {
   "cell_type": "code",
   "execution_count": 22,
   "id": "e0aa579d",
   "metadata": {},
   "outputs": [
    {
     "data": {
      "text/plain": [
       "86.000"
      ]
     },
     "execution_count": 22,
     "metadata": {},
     "output_type": "execute_result"
    }
   ],
   "source": [
    "np.var(scores)"
   ]
  },
  {
   "cell_type": "code",
   "execution_count": 23,
   "id": "9c184ddd",
   "metadata": {},
   "outputs": [
    {
     "data": {
      "text/plain": [
       "score    95.555556\n",
       "dtype: float64"
      ]
     },
     "execution_count": 23,
     "metadata": {},
     "output_type": "execute_result"
    }
   ],
   "source": [
    "scores_df.var()"
   ]
  },
  {
   "cell_type": "code",
   "execution_count": 24,
   "id": "666dc2e9",
   "metadata": {},
   "outputs": [
    {
     "data": {
      "text/html": [
       "<div>\n",
       "<style scoped>\n",
       "    .dataframe tbody tr th:only-of-type {\n",
       "        vertical-align: middle;\n",
       "    }\n",
       "\n",
       "    .dataframe tbody tr th {\n",
       "        vertical-align: top;\n",
       "    }\n",
       "\n",
       "    .dataframe thead th {\n",
       "        text-align: right;\n",
       "    }\n",
       "</style>\n",
       "<table border=\"1\" class=\"dataframe\">\n",
       "  <thead>\n",
       "    <tr style=\"text-align: right;\">\n",
       "      <th></th>\n",
       "      <th>score</th>\n",
       "      <th>deviation</th>\n",
       "      <th>square of deviation</th>\n",
       "    </tr>\n",
       "    <tr>\n",
       "      <th>student</th>\n",
       "      <th></th>\n",
       "      <th></th>\n",
       "      <th></th>\n",
       "    </tr>\n",
       "  </thead>\n",
       "  <tbody>\n",
       "    <tr>\n",
       "      <th>A</th>\n",
       "      <td>42</td>\n",
       "      <td>-13.0</td>\n",
       "      <td>169.0</td>\n",
       "    </tr>\n",
       "    <tr>\n",
       "      <th>B</th>\n",
       "      <td>69</td>\n",
       "      <td>14.0</td>\n",
       "      <td>196.0</td>\n",
       "    </tr>\n",
       "    <tr>\n",
       "      <th>C</th>\n",
       "      <td>56</td>\n",
       "      <td>1.0</td>\n",
       "      <td>1.0</td>\n",
       "    </tr>\n",
       "    <tr>\n",
       "      <th>D</th>\n",
       "      <td>41</td>\n",
       "      <td>-14.0</td>\n",
       "      <td>196.0</td>\n",
       "    </tr>\n",
       "    <tr>\n",
       "      <th>E</th>\n",
       "      <td>57</td>\n",
       "      <td>2.0</td>\n",
       "      <td>4.0</td>\n",
       "    </tr>\n",
       "    <tr>\n",
       "      <th>F</th>\n",
       "      <td>48</td>\n",
       "      <td>-7.0</td>\n",
       "      <td>49.0</td>\n",
       "    </tr>\n",
       "    <tr>\n",
       "      <th>G</th>\n",
       "      <td>65</td>\n",
       "      <td>10.0</td>\n",
       "      <td>100.0</td>\n",
       "    </tr>\n",
       "    <tr>\n",
       "      <th>H</th>\n",
       "      <td>49</td>\n",
       "      <td>-6.0</td>\n",
       "      <td>36.0</td>\n",
       "    </tr>\n",
       "    <tr>\n",
       "      <th>I</th>\n",
       "      <td>65</td>\n",
       "      <td>10.0</td>\n",
       "      <td>100.0</td>\n",
       "    </tr>\n",
       "    <tr>\n",
       "      <th>J</th>\n",
       "      <td>58</td>\n",
       "      <td>3.0</td>\n",
       "      <td>9.0</td>\n",
       "    </tr>\n",
       "  </tbody>\n",
       "</table>\n",
       "</div>"
      ],
      "text/plain": [
       "         score  deviation  square of deviation\n",
       "student                                       \n",
       "A           42      -13.0                169.0\n",
       "B           69       14.0                196.0\n",
       "C           56        1.0                  1.0\n",
       "D           41      -14.0                196.0\n",
       "E           57        2.0                  4.0\n",
       "F           48       -7.0                 49.0\n",
       "G           65       10.0                100.0\n",
       "H           49       -6.0                 36.0\n",
       "I           65       10.0                100.0\n",
       "J           58        3.0                  9.0"
      ]
     },
     "execution_count": 24,
     "metadata": {},
     "output_type": "execute_result"
    }
   ],
   "source": [
    "summary_df['square of deviation'] = np.square(deviation)\n",
    "summary_df"
   ]
  },
  {
   "cell_type": "code",
   "execution_count": 25,
   "id": "db680832",
   "metadata": {},
   "outputs": [
    {
     "data": {
      "text/plain": [
       "score                  55.0\n",
       "deviation               0.0\n",
       "square of deviation    86.0\n",
       "dtype: float64"
      ]
     },
     "execution_count": 25,
     "metadata": {},
     "output_type": "execute_result"
    }
   ],
   "source": [
    "summary_df.mean()"
   ]
  },
  {
   "cell_type": "code",
   "execution_count": 26,
   "id": "10237240",
   "metadata": {},
   "outputs": [
    {
     "data": {
      "text/plain": [
       "9.274"
      ]
     },
     "execution_count": 26,
     "metadata": {},
     "output_type": "execute_result"
    }
   ],
   "source": [
    "np.sqrt(np.var(scores,ddof=0))"
   ]
  },
  {
   "cell_type": "code",
   "execution_count": 27,
   "id": "b66ebafe",
   "metadata": {},
   "outputs": [
    {
     "data": {
      "text/plain": [
       "9.274"
      ]
     },
     "execution_count": 27,
     "metadata": {},
     "output_type": "execute_result"
    }
   ],
   "source": [
    "np.std(scores,ddof=0)"
   ]
  },
  {
   "cell_type": "markdown",
   "id": "2050cb81",
   "metadata": {},
   "source": [
    "#### 범위와 사분위 범위"
   ]
  },
  {
   "cell_type": "code",
   "execution_count": 28,
   "id": "e268206b",
   "metadata": {},
   "outputs": [
    {
     "data": {
      "text/plain": [
       "28"
      ]
     },
     "execution_count": 28,
     "metadata": {},
     "output_type": "execute_result"
    }
   ],
   "source": [
    "np.max(scores) - np.min(scores)"
   ]
  },
  {
   "cell_type": "code",
   "execution_count": 29,
   "id": "0f7bcbf2",
   "metadata": {},
   "outputs": [
    {
     "data": {
      "text/plain": [
       "15.000"
      ]
     },
     "execution_count": 29,
     "metadata": {},
     "output_type": "execute_result"
    }
   ],
   "source": [
    "scores_Q1 = np.percentile(scores,25)\n",
    "scores_Q3 = np.percentile(scores,75)\n",
    "scores_IQR = scores_Q3 - scores_Q1\n",
    "scores_IQR"
   ]
  },
  {
   "cell_type": "markdown",
   "id": "b1c6d00b",
   "metadata": {},
   "source": [
    "#### 데이터의 지표 정리"
   ]
  },
  {
   "cell_type": "code",
   "execution_count": 32,
   "id": "481d4ea0",
   "metadata": {},
   "outputs": [
    {
     "data": {
      "text/plain": [
       "count    10.000000\n",
       "mean     55.000000\n",
       "std       9.775252\n",
       "min      41.000000\n",
       "25%      48.250000\n",
       "50%      56.500000\n",
       "75%      63.250000\n",
       "max      69.000000\n",
       "dtype: float64"
      ]
     },
     "execution_count": 32,
     "metadata": {},
     "output_type": "execute_result"
    }
   ],
   "source": [
    "pd.Series(scores).describe()"
   ]
  },
  {
   "cell_type": "markdown",
   "id": "9c8da730",
   "metadata": {},
   "source": [
    "#### 0822 [과제] 교재 p.51 코드 문제 풀기"
   ]
  },
  {
   "cell_type": "markdown",
   "id": "974a53ac",
   "metadata": {},
   "source": [
    "#### 0822 [과제] 20개 원소로 구성되는 배열을 만든 후, 평균, 편차 및 편차의 합을 구하세요."
   ]
  },
  {
   "cell_type": "markdown",
   "id": "f7e91812",
   "metadata": {},
   "source": [
    "#### 0822 [과제] 중앙값 > 평균값 인 경우와 중앙값 < 평균값인 두가지 집합에서 나타나는 가능성 있는 특징을 사례로 설명하세요."
   ]
  },
  {
   "cell_type": "markdown",
   "id": "fa74a68b",
   "metadata": {},
   "source": [
    "#### 0822 [과제]  4분위를 이용하여 이상치를 구하는 사례를 생성하고 시각화 및 이상치 산출하는 과정을 설명하세요."
   ]
  },
  {
   "cell_type": "markdown",
   "id": "2f557de0",
   "metadata": {},
   "source": [
    "#### 0822 [과제] 표본 분산과 불편 분산의 차이를 사례를 들어 설명하세요."
   ]
  },
  {
   "cell_type": "code",
   "execution_count": null,
   "id": "4bbb6d43",
   "metadata": {},
   "outputs": [],
   "source": []
  }
 ],
 "metadata": {
  "kernelspec": {
   "display_name": "Python 3 (ipykernel)",
   "language": "python",
   "name": "python3"
  },
  "language_info": {
   "codemirror_mode": {
    "name": "ipython",
    "version": 3
   },
   "file_extension": ".py",
   "mimetype": "text/x-python",
   "name": "python",
   "nbconvert_exporter": "python",
   "pygments_lexer": "ipython3",
   "version": "3.8.13"
  },
  "toc": {
   "base_numbering": 1,
   "nav_menu": {},
   "number_sections": true,
   "sideBar": true,
   "skip_h1_title": false,
   "title_cell": "Table of Contents",
   "title_sidebar": "Contents",
   "toc_cell": false,
   "toc_position": {},
   "toc_section_display": true,
   "toc_window_display": true
  }
 },
 "nbformat": 4,
 "nbformat_minor": 5
}
