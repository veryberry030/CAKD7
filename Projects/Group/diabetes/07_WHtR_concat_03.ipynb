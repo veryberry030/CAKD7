{
 "cells": [
  {
   "cell_type": "markdown",
   "id": "90f1b1e5",
   "metadata": {},
   "source": [
    "## import"
   ]
  },
  {
   "cell_type": "code",
   "execution_count": 156,
   "id": "dcb583ad",
   "metadata": {},
   "outputs": [],
   "source": [
    "import numpy as np\n",
    "import pandas as pd\n",
    "import matplotlib.pyplot as plt\n",
    "import seaborn as sns"
   ]
  },
  {
   "cell_type": "code",
   "execution_count": 157,
   "id": "069f56b2",
   "metadata": {},
   "outputs": [],
   "source": [
    "from matplotlib import rc\n",
    "rc('font', family='Malgun Gothic') # 한글 폰트\n",
    "plt.rcParams['axes.unicode_minus'] = False # 마이너스 부호출력 설정"
   ]
  },
  {
   "cell_type": "code",
   "execution_count": null,
   "id": "f9bb53a9",
   "metadata": {},
   "outputs": [],
   "source": []
  },
  {
   "cell_type": "markdown",
   "id": "e4d208b4",
   "metadata": {},
   "source": [
    "# WHtR와 각 컬럼과의 상관계수"
   ]
  },
  {
   "cell_type": "markdown",
   "id": "2a0df591",
   "metadata": {},
   "source": [
    "- bmi (0.82), \n",
    "- ALT (0.35),\n",
    "- 감마지티피(0.27), 혈압 (0.21/0.21), AST(0.16)"
   ]
  },
  {
   "cell_type": "code",
   "execution_count": 158,
   "id": "670c7048",
   "metadata": {},
   "outputs": [],
   "source": [
    "df = pd.read_pickle('./WHtR_concat/02/reduction_04.pkl')"
   ]
  },
  {
   "cell_type": "code",
   "execution_count": 159,
   "id": "b5127569",
   "metadata": {},
   "outputs": [
    {
     "name": "stdout",
     "output_type": "stream",
     "text": [
      "<class 'pandas.core.frame.DataFrame'>\n",
      "RangeIndex: 57903 entries, 0 to 57902\n",
      "Data columns (total 13 columns):\n",
      " #   Column      Non-Null Count  Dtype  \n",
      "---  ------      --------------  -----  \n",
      " 0   신장(5Cm단위)   57903 non-null  float64\n",
      " 1   체중(5Kg 단위)  57903 non-null  float64\n",
      " 2   허리둘레        57903 non-null  float64\n",
      " 3   수축기 혈압      57903 non-null  float64\n",
      " 4   이완기 혈압      57903 non-null  float64\n",
      " 5   식전혈당(공복혈당)  57903 non-null  float64\n",
      " 6   (혈청지오티)AST  57903 non-null  float64\n",
      " 7   (혈청지오티)ALT  57903 non-null  float64\n",
      " 8   감마 지티피      57903 non-null  float64\n",
      " 9   흡연상태        57903 non-null  float64\n",
      " 10  음주여부        57903 non-null  float64\n",
      " 11  bmi         57903 non-null  float64\n",
      " 12  WHtR        57903 non-null  float64\n",
      "dtypes: float64(13)\n",
      "memory usage: 5.7 MB\n"
     ]
    }
   ],
   "source": [
    "df.info()"
   ]
  },
  {
   "cell_type": "code",
   "execution_count": 160,
   "id": "9760c27c",
   "metadata": {},
   "outputs": [
    {
     "data": {
      "text/html": [
       "<div>\n",
       "<style scoped>\n",
       "    .dataframe tbody tr th:only-of-type {\n",
       "        vertical-align: middle;\n",
       "    }\n",
       "\n",
       "    .dataframe tbody tr th {\n",
       "        vertical-align: top;\n",
       "    }\n",
       "\n",
       "    .dataframe thead th {\n",
       "        text-align: right;\n",
       "    }\n",
       "</style>\n",
       "<table border=\"1\" class=\"dataframe\">\n",
       "  <thead>\n",
       "    <tr style=\"text-align: right;\">\n",
       "      <th></th>\n",
       "      <th>신장(5Cm단위)</th>\n",
       "      <th>체중(5Kg 단위)</th>\n",
       "      <th>허리둘레</th>\n",
       "      <th>수축기 혈압</th>\n",
       "      <th>이완기 혈압</th>\n",
       "      <th>식전혈당(공복혈당)</th>\n",
       "      <th>(혈청지오티)AST</th>\n",
       "      <th>(혈청지오티)ALT</th>\n",
       "      <th>감마 지티피</th>\n",
       "      <th>흡연상태</th>\n",
       "      <th>음주여부</th>\n",
       "      <th>bmi</th>\n",
       "      <th>WHtR</th>\n",
       "    </tr>\n",
       "  </thead>\n",
       "  <tbody>\n",
       "    <tr>\n",
       "      <th>0</th>\n",
       "      <td>165.0</td>\n",
       "      <td>60.0</td>\n",
       "      <td>72.1</td>\n",
       "      <td>127.0</td>\n",
       "      <td>79.0</td>\n",
       "      <td>90.0</td>\n",
       "      <td>21.0</td>\n",
       "      <td>27.0</td>\n",
       "      <td>21.0</td>\n",
       "      <td>1.0</td>\n",
       "      <td>0.0</td>\n",
       "      <td>22.0</td>\n",
       "      <td>0.437</td>\n",
       "    </tr>\n",
       "    <tr>\n",
       "      <th>1</th>\n",
       "      <td>185.0</td>\n",
       "      <td>85.0</td>\n",
       "      <td>94.0</td>\n",
       "      <td>114.0</td>\n",
       "      <td>72.0</td>\n",
       "      <td>86.0</td>\n",
       "      <td>25.0</td>\n",
       "      <td>32.0</td>\n",
       "      <td>26.0</td>\n",
       "      <td>3.0</td>\n",
       "      <td>1.0</td>\n",
       "      <td>24.8</td>\n",
       "      <td>0.508</td>\n",
       "    </tr>\n",
       "    <tr>\n",
       "      <th>2</th>\n",
       "      <td>165.0</td>\n",
       "      <td>55.0</td>\n",
       "      <td>77.5</td>\n",
       "      <td>130.0</td>\n",
       "      <td>70.0</td>\n",
       "      <td>87.0</td>\n",
       "      <td>18.0</td>\n",
       "      <td>10.0</td>\n",
       "      <td>15.0</td>\n",
       "      <td>1.0</td>\n",
       "      <td>0.0</td>\n",
       "      <td>20.2</td>\n",
       "      <td>0.470</td>\n",
       "    </tr>\n",
       "    <tr>\n",
       "      <th>3</th>\n",
       "      <td>165.0</td>\n",
       "      <td>75.0</td>\n",
       "      <td>84.0</td>\n",
       "      <td>139.0</td>\n",
       "      <td>80.0</td>\n",
       "      <td>92.0</td>\n",
       "      <td>27.0</td>\n",
       "      <td>30.0</td>\n",
       "      <td>25.0</td>\n",
       "      <td>2.0</td>\n",
       "      <td>1.0</td>\n",
       "      <td>27.5</td>\n",
       "      <td>0.509</td>\n",
       "    </tr>\n",
       "    <tr>\n",
       "      <th>4</th>\n",
       "      <td>175.0</td>\n",
       "      <td>70.0</td>\n",
       "      <td>83.0</td>\n",
       "      <td>110.0</td>\n",
       "      <td>70.0</td>\n",
       "      <td>120.0</td>\n",
       "      <td>19.0</td>\n",
       "      <td>14.0</td>\n",
       "      <td>25.0</td>\n",
       "      <td>3.0</td>\n",
       "      <td>1.0</td>\n",
       "      <td>22.9</td>\n",
       "      <td>0.474</td>\n",
       "    </tr>\n",
       "  </tbody>\n",
       "</table>\n",
       "</div>"
      ],
      "text/plain": [
       "   신장(5Cm단위)  체중(5Kg 단위)  허리둘레  수축기 혈압  이완기 혈압  식전혈당(공복혈당)  (혈청지오티)AST  \\\n",
       "0      165.0        60.0  72.1   127.0    79.0        90.0        21.0   \n",
       "1      185.0        85.0  94.0   114.0    72.0        86.0        25.0   \n",
       "2      165.0        55.0  77.5   130.0    70.0        87.0        18.0   \n",
       "3      165.0        75.0  84.0   139.0    80.0        92.0        27.0   \n",
       "4      175.0        70.0  83.0   110.0    70.0       120.0        19.0   \n",
       "\n",
       "   (혈청지오티)ALT  감마 지티피  흡연상태  음주여부   bmi   WHtR  \n",
       "0        27.0    21.0   1.0   0.0  22.0  0.437  \n",
       "1        32.0    26.0   3.0   1.0  24.8  0.508  \n",
       "2        10.0    15.0   1.0   0.0  20.2  0.470  \n",
       "3        30.0    25.0   2.0   1.0  27.5  0.509  \n",
       "4        14.0    25.0   3.0   1.0  22.9  0.474  "
      ]
     },
     "execution_count": 160,
     "metadata": {},
     "output_type": "execute_result"
    }
   ],
   "source": [
    "df.head()"
   ]
  },
  {
   "cell_type": "code",
   "execution_count": 161,
   "id": "d53b542b",
   "metadata": {},
   "outputs": [],
   "source": [
    "df1 = df.copy()"
   ]
  },
  {
   "cell_type": "code",
   "execution_count": 162,
   "id": "0292c7ce",
   "metadata": {},
   "outputs": [
    {
     "data": {
      "text/plain": [
       "<AxesSubplot:>"
      ]
     },
     "execution_count": 162,
     "metadata": {},
     "output_type": "execute_result"
    },
    {
     "data": {
      "image/png": "[encoded data removed]",
      "text/plain": [
       "<Figure size 432x288 with 1 Axes>"
      ]
     },
     "metadata": {
      "needs_background": "light"
     },
     "output_type": "display_data"
    }
   ],
   "source": [
    "df1.bmi.hist(range=(10, 40), bins=30)"
   ]
  },
  {
   "cell_type": "code",
   "execution_count": 163,
   "id": "764c26a1",
   "metadata": {},
   "outputs": [
    {
     "data": {
      "text/plain": [
       "<AxesSubplot:>"
      ]
     },
     "execution_count": 163,
     "metadata": {},
     "output_type": "execute_result"
    },
    {
     "data": {
      "image/png": "[encoded data removed]",
      "text/plain": [
       "<Figure size 432x288 with 1 Axes>"
      ]
     },
     "metadata": {
      "needs_background": "light"
     },
     "output_type": "display_data"
    }
   ],
   "source": [
    "df1.WHtR.hist(range=(0.3, 0.7), bins=80)"
   ]
  },
  {
   "cell_type": "code",
   "execution_count": 164,
   "id": "47804834",
   "metadata": {},
   "outputs": [
    {
     "data": {
      "image/png": "[encoded data removed]",
      "text/plain": [
       "<Figure size 576x432 with 1 Axes>"
      ]
     },
     "metadata": {
      "needs_background": "light"
     },
     "output_type": "display_data"
    }
   ],
   "source": [
    "plt.figure(figsize=(8, 6))\n",
    "plt.plot(df1.bmi, df1.WHtR, 'b.', alpha=0.1)\n",
    "plt.xticks(range(13, 41))\n",
    "plt.xlabel('bmi')\n",
    "plt.ylabel('WHtR')\n",
    "plt.grid()"
   ]
  },
  {
   "cell_type": "code",
   "execution_count": 165,
   "id": "269dae75",
   "metadata": {
    "scrolled": true
   },
   "outputs": [
    {
     "data": {
      "text/html": [
       "<div>\n",
       "<style scoped>\n",
       "    .dataframe tbody tr th:only-of-type {\n",
       "        vertical-align: middle;\n",
       "    }\n",
       "\n",
       "    .dataframe tbody tr th {\n",
       "        vertical-align: top;\n",
       "    }\n",
       "\n",
       "    .dataframe thead th {\n",
       "        text-align: right;\n",
       "    }\n",
       "</style>\n",
       "<table border=\"1\" class=\"dataframe\">\n",
       "  <thead>\n",
       "    <tr style=\"text-align: right;\">\n",
       "      <th></th>\n",
       "      <th>신장(5Cm단위)</th>\n",
       "      <th>체중(5Kg 단위)</th>\n",
       "      <th>허리둘레</th>\n",
       "      <th>수축기 혈압</th>\n",
       "      <th>이완기 혈압</th>\n",
       "      <th>식전혈당(공복혈당)</th>\n",
       "      <th>(혈청지오티)AST</th>\n",
       "      <th>(혈청지오티)ALT</th>\n",
       "      <th>감마 지티피</th>\n",
       "      <th>흡연상태</th>\n",
       "      <th>음주여부</th>\n",
       "      <th>bmi</th>\n",
       "      <th>WHtR</th>\n",
       "      <th>bmi_int</th>\n",
       "    </tr>\n",
       "  </thead>\n",
       "  <tbody>\n",
       "    <tr>\n",
       "      <th>0</th>\n",
       "      <td>165.0</td>\n",
       "      <td>60.0</td>\n",
       "      <td>72.1</td>\n",
       "      <td>127.0</td>\n",
       "      <td>79.0</td>\n",
       "      <td>90.0</td>\n",
       "      <td>21.0</td>\n",
       "      <td>27.0</td>\n",
       "      <td>21.0</td>\n",
       "      <td>1.0</td>\n",
       "      <td>0.0</td>\n",
       "      <td>22.0</td>\n",
       "      <td>0.437</td>\n",
       "      <td>22.0</td>\n",
       "    </tr>\n",
       "    <tr>\n",
       "      <th>1</th>\n",
       "      <td>185.0</td>\n",
       "      <td>85.0</td>\n",
       "      <td>94.0</td>\n",
       "      <td>114.0</td>\n",
       "      <td>72.0</td>\n",
       "      <td>86.0</td>\n",
       "      <td>25.0</td>\n",
       "      <td>32.0</td>\n",
       "      <td>26.0</td>\n",
       "      <td>3.0</td>\n",
       "      <td>1.0</td>\n",
       "      <td>24.8</td>\n",
       "      <td>0.508</td>\n",
       "      <td>25.0</td>\n",
       "    </tr>\n",
       "    <tr>\n",
       "      <th>2</th>\n",
       "      <td>165.0</td>\n",
       "      <td>55.0</td>\n",
       "      <td>77.5</td>\n",
       "      <td>130.0</td>\n",
       "      <td>70.0</td>\n",
       "      <td>87.0</td>\n",
       "      <td>18.0</td>\n",
       "      <td>10.0</td>\n",
       "      <td>15.0</td>\n",
       "      <td>1.0</td>\n",
       "      <td>0.0</td>\n",
       "      <td>20.2</td>\n",
       "      <td>0.470</td>\n",
       "      <td>20.0</td>\n",
       "    </tr>\n",
       "    <tr>\n",
       "      <th>3</th>\n",
       "      <td>165.0</td>\n",
       "      <td>75.0</td>\n",
       "      <td>84.0</td>\n",
       "      <td>139.0</td>\n",
       "      <td>80.0</td>\n",
       "      <td>92.0</td>\n",
       "      <td>27.0</td>\n",
       "      <td>30.0</td>\n",
       "      <td>25.0</td>\n",
       "      <td>2.0</td>\n",
       "      <td>1.0</td>\n",
       "      <td>27.5</td>\n",
       "      <td>0.509</td>\n",
       "      <td>28.0</td>\n",
       "    </tr>\n",
       "    <tr>\n",
       "      <th>4</th>\n",
       "      <td>175.0</td>\n",
       "      <td>70.0</td>\n",
       "      <td>83.0</td>\n",
       "      <td>110.0</td>\n",
       "      <td>70.0</td>\n",
       "      <td>120.0</td>\n",
       "      <td>19.0</td>\n",
       "      <td>14.0</td>\n",
       "      <td>25.0</td>\n",
       "      <td>3.0</td>\n",
       "      <td>1.0</td>\n",
       "      <td>22.9</td>\n",
       "      <td>0.474</td>\n",
       "      <td>23.0</td>\n",
       "    </tr>\n",
       "  </tbody>\n",
       "</table>\n",
       "</div>"
      ],
      "text/plain": [
       "   신장(5Cm단위)  체중(5Kg 단위)  허리둘레  수축기 혈압  이완기 혈압  식전혈당(공복혈당)  (혈청지오티)AST  \\\n",
       "0      165.0        60.0  72.1   127.0    79.0        90.0        21.0   \n",
       "1      185.0        85.0  94.0   114.0    72.0        86.0        25.0   \n",
       "2      165.0        55.0  77.5   130.0    70.0        87.0        18.0   \n",
       "3      165.0        75.0  84.0   139.0    80.0        92.0        27.0   \n",
       "4      175.0        70.0  83.0   110.0    70.0       120.0        19.0   \n",
       "\n",
       "   (혈청지오티)ALT  감마 지티피  흡연상태  음주여부   bmi   WHtR  bmi_int  \n",
       "0        27.0    21.0   1.0   0.0  22.0  0.437     22.0  \n",
       "1        32.0    26.0   3.0   1.0  24.8  0.508     25.0  \n",
       "2        10.0    15.0   1.0   0.0  20.2  0.470     20.0  \n",
       "3        30.0    25.0   2.0   1.0  27.5  0.509     28.0  \n",
       "4        14.0    25.0   3.0   1.0  22.9  0.474     23.0  "
      ]
     },
     "execution_count": 165,
     "metadata": {},
     "output_type": "execute_result"
    }
   ],
   "source": [
    "df1['bmi_int'] = df1.bmi.round()\n",
    "df1.head()"
   ]
  },
  {
   "cell_type": "code",
   "execution_count": 166,
   "id": "8fb2a33b",
   "metadata": {},
   "outputs": [
    {
     "data": {
      "image/png": "[encoded data removed]",
      "text/plain": [
       "<Figure size 576x432 with 1 Axes>"
      ]
     },
     "metadata": {
      "needs_background": "light"
     },
     "output_type": "display_data"
    }
   ],
   "source": [
    "plt.figure(figsize=(8, 6))\n",
    "plt.plot(df1.bmi_int, df1.WHtR, 'b.', alpha=0.1)\n",
    "plt.xticks(range(13, 41))\n",
    "plt.xlabel('bmi_int')\n",
    "plt.ylabel('WHtR')\n",
    "plt.grid()"
   ]
  },
  {
   "cell_type": "code",
   "execution_count": null,
   "id": "c9ae1981",
   "metadata": {},
   "outputs": [],
   "source": []
  },
  {
   "cell_type": "markdown",
   "id": "6a3b311e",
   "metadata": {},
   "source": [
    "# 테스트 : histogram 과 weight list"
   ]
  },
  {
   "cell_type": "code",
   "execution_count": 167,
   "id": "67cb755d",
   "metadata": {},
   "outputs": [
    {
     "data": {
      "text/plain": [
       "24.5"
      ]
     },
     "execution_count": 167,
     "metadata": {},
     "output_type": "execute_result"
    }
   ],
   "source": [
    "df1.bmi.median()"
   ]
  },
  {
   "cell_type": "markdown",
   "id": "7312cbbc",
   "metadata": {},
   "source": [
    "- bmi == 24"
   ]
  },
  {
   "cell_type": "code",
   "execution_count": 168,
   "id": "36ee4c2b",
   "metadata": {},
   "outputs": [
    {
     "data": {
      "text/plain": [
       "13       0.497\n",
       "14       0.497\n",
       "16       0.512\n",
       "18       0.469\n",
       "54       0.462\n",
       "         ...  \n",
       "57875    0.509\n",
       "57877    0.471\n",
       "57880    0.503\n",
       "57885    0.483\n",
       "57886    0.469\n",
       "Name: WHtR, Length: 10601, dtype: float64"
      ]
     },
     "execution_count": 168,
     "metadata": {},
     "output_type": "execute_result"
    }
   ],
   "source": [
    "whtr = df1[df1.bmi_int == 24.0].WHtR\n",
    "whtr"
   ]
  },
  {
   "cell_type": "code",
   "execution_count": 169,
   "id": "cce2d583",
   "metadata": {},
   "outputs": [
    {
     "data": {
      "text/plain": [
       "<AxesSubplot:>"
      ]
     },
     "execution_count": 169,
     "metadata": {},
     "output_type": "execute_result"
    },
    {
     "data": {
      "image/png": "[encoded data removed]",
      "text/plain": [
       "<Figure size 432x288 with 1 Axes>"
      ]
     },
     "metadata": {
      "needs_background": "light"
     },
     "output_type": "display_data"
    }
   ],
   "source": [
    "whtr.hist(range=(0.4, 0.7), bins=60)"
   ]
  },
  {
   "cell_type": "code",
   "execution_count": 170,
   "id": "d17260f7",
   "metadata": {},
   "outputs": [],
   "source": [
    "y, x = np.histogram(whtr, range=(0.4, 0.7), bins=60)"
   ]
  },
  {
   "cell_type": "code",
   "execution_count": 171,
   "id": "d812798e",
   "metadata": {},
   "outputs": [
    {
     "data": {
      "text/plain": [
       "((60,), (61,))"
      ]
     },
     "execution_count": 171,
     "metadata": {},
     "output_type": "execute_result"
    }
   ],
   "source": [
    "y.shape, x.shape"
   ]
  },
  {
   "cell_type": "code",
   "execution_count": 172,
   "id": "e8801391",
   "metadata": {},
   "outputs": [
    {
     "data": {
      "text/plain": [
       "[<matplotlib.lines.Line2D at 0x1eb3dd286d0>]"
      ]
     },
     "execution_count": 172,
     "metadata": {},
     "output_type": "execute_result"
    },
    {
     "data": {
      "image/png": "[encoded data removed]",
      "text/plain": [
       "<Figure size 432x288 with 1 Axes>"
      ]
     },
     "metadata": {
      "needs_background": "light"
     },
     "output_type": "display_data"
    }
   ],
   "source": [
    "plt.plot(x[:-1], y/y.sum())"
   ]
  },
  {
   "cell_type": "code",
   "execution_count": 173,
   "id": "ef8ecd97",
   "metadata": {},
   "outputs": [],
   "source": [
    "repro = np.random.choice(x[:-1], p=y/y.sum(), size=10000)"
   ]
  },
  {
   "cell_type": "code",
   "execution_count": 174,
   "id": "b5c68942",
   "metadata": {},
   "outputs": [
    {
     "data": {
      "image/png": "[encoded data removed]",
      "text/plain": [
       "<Figure size 432x288 with 1 Axes>"
      ]
     },
     "metadata": {
      "needs_background": "light"
     },
     "output_type": "display_data"
    }
   ],
   "source": [
    "plt.hist(repro, range=(0.4, 0.7), bins=60)\n",
    "plt.show()"
   ]
  },
  {
   "cell_type": "code",
   "execution_count": 175,
   "id": "41e9112f",
   "metadata": {},
   "outputs": [],
   "source": [
    "y1, x1 = np.histogram(repro, range=(0.4, 0.7), bins=60)"
   ]
  },
  {
   "cell_type": "code",
   "execution_count": 197,
   "id": "f4e1b214",
   "metadata": {
    "scrolled": true
   },
   "outputs": [
    {
     "data": {
      "image/png": "[encoded data removed]",
      "text/plain": [
       "<Figure size 720x432 with 1 Axes>"
      ]
     },
     "metadata": {
      "needs_background": "light"
     },
     "output_type": "display_data"
    }
   ],
   "source": [
    "fig = plt.figure(figsize=(10, 6))\n",
    "ax = fig.add_subplot(111)\n",
    "\n",
    "ax.plot(x[:-1], y, label='original')\n",
    "ax.plot(x1[:-1], y1, label='reproduction')\n",
    "ax.legend()\n",
    "\n",
    "plt.show()"
   ]
  },
  {
   "cell_type": "markdown",
   "id": "c3363be6",
   "metadata": {},
   "source": [
    "- 기존 분포가 잘 재현됨"
   ]
  },
  {
   "cell_type": "code",
   "execution_count": 198,
   "id": "fa6579c9",
   "metadata": {},
   "outputs": [],
   "source": [
    "df2 = df1.copy()"
   ]
  },
  {
   "cell_type": "code",
   "execution_count": 199,
   "id": "05688226",
   "metadata": {},
   "outputs": [
    {
     "data": {
      "text/html": [
       "<div>\n",
       "<style scoped>\n",
       "    .dataframe tbody tr th:only-of-type {\n",
       "        vertical-align: middle;\n",
       "    }\n",
       "\n",
       "    .dataframe tbody tr th {\n",
       "        vertical-align: top;\n",
       "    }\n",
       "\n",
       "    .dataframe thead th {\n",
       "        text-align: right;\n",
       "    }\n",
       "</style>\n",
       "<table border=\"1\" class=\"dataframe\">\n",
       "  <thead>\n",
       "    <tr style=\"text-align: right;\">\n",
       "      <th></th>\n",
       "      <th>신장(5Cm단위)</th>\n",
       "      <th>체중(5Kg 단위)</th>\n",
       "      <th>허리둘레</th>\n",
       "      <th>수축기 혈압</th>\n",
       "      <th>이완기 혈압</th>\n",
       "      <th>식전혈당(공복혈당)</th>\n",
       "      <th>(혈청지오티)AST</th>\n",
       "      <th>(혈청지오티)ALT</th>\n",
       "      <th>감마 지티피</th>\n",
       "      <th>흡연상태</th>\n",
       "      <th>음주여부</th>\n",
       "      <th>bmi</th>\n",
       "      <th>WHtR</th>\n",
       "      <th>bmi_int</th>\n",
       "    </tr>\n",
       "  </thead>\n",
       "  <tbody>\n",
       "    <tr>\n",
       "      <th>0</th>\n",
       "      <td>165.0</td>\n",
       "      <td>60.0</td>\n",
       "      <td>72.1</td>\n",
       "      <td>127.0</td>\n",
       "      <td>79.0</td>\n",
       "      <td>90.0</td>\n",
       "      <td>21.0</td>\n",
       "      <td>27.0</td>\n",
       "      <td>21.0</td>\n",
       "      <td>1.0</td>\n",
       "      <td>0.0</td>\n",
       "      <td>22.0</td>\n",
       "      <td>0.437</td>\n",
       "      <td>22.0</td>\n",
       "    </tr>\n",
       "    <tr>\n",
       "      <th>1</th>\n",
       "      <td>185.0</td>\n",
       "      <td>85.0</td>\n",
       "      <td>94.0</td>\n",
       "      <td>114.0</td>\n",
       "      <td>72.0</td>\n",
       "      <td>86.0</td>\n",
       "      <td>25.0</td>\n",
       "      <td>32.0</td>\n",
       "      <td>26.0</td>\n",
       "      <td>3.0</td>\n",
       "      <td>1.0</td>\n",
       "      <td>24.8</td>\n",
       "      <td>0.508</td>\n",
       "      <td>25.0</td>\n",
       "    </tr>\n",
       "    <tr>\n",
       "      <th>2</th>\n",
       "      <td>165.0</td>\n",
       "      <td>55.0</td>\n",
       "      <td>77.5</td>\n",
       "      <td>130.0</td>\n",
       "      <td>70.0</td>\n",
       "      <td>87.0</td>\n",
       "      <td>18.0</td>\n",
       "      <td>10.0</td>\n",
       "      <td>15.0</td>\n",
       "      <td>1.0</td>\n",
       "      <td>0.0</td>\n",
       "      <td>20.2</td>\n",
       "      <td>0.470</td>\n",
       "      <td>20.0</td>\n",
       "    </tr>\n",
       "    <tr>\n",
       "      <th>3</th>\n",
       "      <td>165.0</td>\n",
       "      <td>75.0</td>\n",
       "      <td>84.0</td>\n",
       "      <td>139.0</td>\n",
       "      <td>80.0</td>\n",
       "      <td>92.0</td>\n",
       "      <td>27.0</td>\n",
       "      <td>30.0</td>\n",
       "      <td>25.0</td>\n",
       "      <td>2.0</td>\n",
       "      <td>1.0</td>\n",
       "      <td>27.5</td>\n",
       "      <td>0.509</td>\n",
       "      <td>28.0</td>\n",
       "    </tr>\n",
       "    <tr>\n",
       "      <th>4</th>\n",
       "      <td>175.0</td>\n",
       "      <td>70.0</td>\n",
       "      <td>83.0</td>\n",
       "      <td>110.0</td>\n",
       "      <td>70.0</td>\n",
       "      <td>120.0</td>\n",
       "      <td>19.0</td>\n",
       "      <td>14.0</td>\n",
       "      <td>25.0</td>\n",
       "      <td>3.0</td>\n",
       "      <td>1.0</td>\n",
       "      <td>22.9</td>\n",
       "      <td>0.474</td>\n",
       "      <td>23.0</td>\n",
       "    </tr>\n",
       "  </tbody>\n",
       "</table>\n",
       "</div>"
      ],
      "text/plain": [
       "   신장(5Cm단위)  체중(5Kg 단위)  허리둘레  수축기 혈압  이완기 혈압  식전혈당(공복혈당)  (혈청지오티)AST  \\\n",
       "0      165.0        60.0  72.1   127.0    79.0        90.0        21.0   \n",
       "1      185.0        85.0  94.0   114.0    72.0        86.0        25.0   \n",
       "2      165.0        55.0  77.5   130.0    70.0        87.0        18.0   \n",
       "3      165.0        75.0  84.0   139.0    80.0        92.0        27.0   \n",
       "4      175.0        70.0  83.0   110.0    70.0       120.0        19.0   \n",
       "\n",
       "   (혈청지오티)ALT  감마 지티피  흡연상태  음주여부   bmi   WHtR  bmi_int  \n",
       "0        27.0    21.0   1.0   0.0  22.0  0.437     22.0  \n",
       "1        32.0    26.0   3.0   1.0  24.8  0.508     25.0  \n",
       "2        10.0    15.0   1.0   0.0  20.2  0.470     20.0  \n",
       "3        30.0    25.0   2.0   1.0  27.5  0.509     28.0  \n",
       "4        14.0    25.0   3.0   1.0  22.9  0.474     23.0  "
      ]
     },
     "execution_count": 199,
     "metadata": {},
     "output_type": "execute_result"
    }
   ],
   "source": [
    "df2.head()"
   ]
  },
  {
   "cell_type": "markdown",
   "id": "744548b4",
   "metadata": {},
   "source": [
    "# 안쓰는 columns DROP"
   ]
  },
  {
   "cell_type": "markdown",
   "id": "d9ad0dae",
   "metadata": {},
   "source": [
    "- 쓰는 컬럼:\n",
    "    - bmi (0.82), \n",
    "    - ALT (0.35),\n",
    "    - 감마지티피(0.27), 혈압 (0.21/0.21), AST(0.16)\n",
    "    - (+) WHtR"
   ]
  },
  {
   "cell_type": "code",
   "execution_count": 200,
   "id": "1948a4ff",
   "metadata": {},
   "outputs": [
    {
     "data": {
      "text/html": [
       "<div>\n",
       "<style scoped>\n",
       "    .dataframe tbody tr th:only-of-type {\n",
       "        vertical-align: middle;\n",
       "    }\n",
       "\n",
       "    .dataframe tbody tr th {\n",
       "        vertical-align: top;\n",
       "    }\n",
       "\n",
       "    .dataframe thead th {\n",
       "        text-align: right;\n",
       "    }\n",
       "</style>\n",
       "<table border=\"1\" class=\"dataframe\">\n",
       "  <thead>\n",
       "    <tr style=\"text-align: right;\">\n",
       "      <th></th>\n",
       "      <th>bmi_int</th>\n",
       "      <th>(혈청지오티)ALT</th>\n",
       "      <th>감마 지티피</th>\n",
       "      <th>수축기 혈압</th>\n",
       "      <th>이완기 혈압</th>\n",
       "      <th>(혈청지오티)AST</th>\n",
       "      <th>WHtR</th>\n",
       "    </tr>\n",
       "  </thead>\n",
       "  <tbody>\n",
       "    <tr>\n",
       "      <th>0</th>\n",
       "      <td>22.0</td>\n",
       "      <td>27.0</td>\n",
       "      <td>21.0</td>\n",
       "      <td>127.0</td>\n",
       "      <td>79.0</td>\n",
       "      <td>21.0</td>\n",
       "      <td>0.437</td>\n",
       "    </tr>\n",
       "    <tr>\n",
       "      <th>1</th>\n",
       "      <td>25.0</td>\n",
       "      <td>32.0</td>\n",
       "      <td>26.0</td>\n",
       "      <td>114.0</td>\n",
       "      <td>72.0</td>\n",
       "      <td>25.0</td>\n",
       "      <td>0.508</td>\n",
       "    </tr>\n",
       "    <tr>\n",
       "      <th>2</th>\n",
       "      <td>20.0</td>\n",
       "      <td>10.0</td>\n",
       "      <td>15.0</td>\n",
       "      <td>130.0</td>\n",
       "      <td>70.0</td>\n",
       "      <td>18.0</td>\n",
       "      <td>0.470</td>\n",
       "    </tr>\n",
       "  </tbody>\n",
       "</table>\n",
       "</div>"
      ],
      "text/plain": [
       "   bmi_int  (혈청지오티)ALT  감마 지티피  수축기 혈압  이완기 혈압  (혈청지오티)AST   WHtR\n",
       "0     22.0        27.0    21.0   127.0    79.0        21.0  0.437\n",
       "1     25.0        32.0    26.0   114.0    72.0        25.0  0.508\n",
       "2     20.0        10.0    15.0   130.0    70.0        18.0  0.470"
      ]
     },
     "execution_count": 200,
     "metadata": {},
     "output_type": "execute_result"
    }
   ],
   "source": [
    "df2 = df2.loc[:, ['bmi_int', '(혈청지오티)ALT', '감마 지티피', '수축기 혈압', '이완기 혈압', '(혈청지오티)AST', 'WHtR']]\n",
    "df2.head(3)"
   ]
  },
  {
   "cell_type": "markdown",
   "id": "c1129a2f",
   "metadata": {},
   "source": [
    "# 평균 혈압 계산"
   ]
  },
  {
   "cell_type": "code",
   "execution_count": 201,
   "id": "d01d1ef0",
   "metadata": {},
   "outputs": [],
   "source": [
    "df3 = df2.copy()"
   ]
  },
  {
   "cell_type": "code",
   "execution_count": 202,
   "id": "ba34ffa0",
   "metadata": {},
   "outputs": [
    {
     "data": {
      "text/plain": [
       "Index(['bmi_int', '(혈청지오티)ALT', '감마 지티피', '수축기 혈압', '이완기 혈압', '(혈청지오티)AST',\n",
       "       'WHtR'],\n",
       "      dtype='object')"
      ]
     },
     "execution_count": 202,
     "metadata": {},
     "output_type": "execute_result"
    }
   ],
   "source": [
    "df3.columns"
   ]
  },
  {
   "cell_type": "code",
   "execution_count": 203,
   "id": "5d719711",
   "metadata": {},
   "outputs": [],
   "source": [
    "df3['평균 혈압'] = (df3['수축기 혈압'] + df3['이완기 혈압'])/2.0"
   ]
  },
  {
   "cell_type": "code",
   "execution_count": 204,
   "id": "9f6bd860",
   "metadata": {
    "scrolled": true
   },
   "outputs": [
    {
     "data": {
      "text/html": [
       "<div>\n",
       "<style scoped>\n",
       "    .dataframe tbody tr th:only-of-type {\n",
       "        vertical-align: middle;\n",
       "    }\n",
       "\n",
       "    .dataframe tbody tr th {\n",
       "        vertical-align: top;\n",
       "    }\n",
       "\n",
       "    .dataframe thead th {\n",
       "        text-align: right;\n",
       "    }\n",
       "</style>\n",
       "<table border=\"1\" class=\"dataframe\">\n",
       "  <thead>\n",
       "    <tr style=\"text-align: right;\">\n",
       "      <th></th>\n",
       "      <th>bmi_int</th>\n",
       "      <th>(혈청지오티)ALT</th>\n",
       "      <th>감마 지티피</th>\n",
       "      <th>수축기 혈압</th>\n",
       "      <th>이완기 혈압</th>\n",
       "      <th>(혈청지오티)AST</th>\n",
       "      <th>WHtR</th>\n",
       "      <th>평균 혈압</th>\n",
       "    </tr>\n",
       "  </thead>\n",
       "  <tbody>\n",
       "    <tr>\n",
       "      <th>0</th>\n",
       "      <td>22.0</td>\n",
       "      <td>27.0</td>\n",
       "      <td>21.0</td>\n",
       "      <td>127.0</td>\n",
       "      <td>79.0</td>\n",
       "      <td>21.0</td>\n",
       "      <td>0.437</td>\n",
       "      <td>103.0</td>\n",
       "    </tr>\n",
       "    <tr>\n",
       "      <th>1</th>\n",
       "      <td>25.0</td>\n",
       "      <td>32.0</td>\n",
       "      <td>26.0</td>\n",
       "      <td>114.0</td>\n",
       "      <td>72.0</td>\n",
       "      <td>25.0</td>\n",
       "      <td>0.508</td>\n",
       "      <td>93.0</td>\n",
       "    </tr>\n",
       "  </tbody>\n",
       "</table>\n",
       "</div>"
      ],
      "text/plain": [
       "   bmi_int  (혈청지오티)ALT  감마 지티피  수축기 혈압  이완기 혈압  (혈청지오티)AST   WHtR  평균 혈압\n",
       "0     22.0        27.0    21.0   127.0    79.0        21.0  0.437  103.0\n",
       "1     25.0        32.0    26.0   114.0    72.0        25.0  0.508   93.0"
      ]
     },
     "execution_count": 204,
     "metadata": {},
     "output_type": "execute_result"
    }
   ],
   "source": [
    "df3.head(2)"
   ]
  },
  {
   "cell_type": "code",
   "execution_count": 205,
   "id": "103a16d9",
   "metadata": {},
   "outputs": [
    {
     "data": {
      "text/plain": [
       "100.0    2716\n",
       "90.0     2339\n",
       "105.0    2315\n",
       "95.0     1885\n",
       "98.0     1694\n",
       "         ... \n",
       "129.5       7\n",
       "74.0        5\n",
       "73.0        2\n",
       "73.5        1\n",
       "130.0       1\n",
       "Name: 평균 혈압, Length: 115, dtype: int64"
      ]
     },
     "execution_count": 205,
     "metadata": {},
     "output_type": "execute_result"
    }
   ],
   "source": [
    "df3['평균 혈압'].value_counts()"
   ]
  },
  {
   "cell_type": "markdown",
   "id": "569a25fb",
   "metadata": {},
   "source": [
    "# 값 구성 체크"
   ]
  },
  {
   "cell_type": "code",
   "execution_count": 206,
   "id": "49cdcc45",
   "metadata": {},
   "outputs": [
    {
     "data": {
      "text/plain": [
       "Index(['bmi_int', '(혈청지오티)ALT', '감마 지티피', '수축기 혈압', '이완기 혈압', '(혈청지오티)AST',\n",
       "       'WHtR', '평균 혈압'],\n",
       "      dtype='object')"
      ]
     },
     "execution_count": 206,
     "metadata": {},
     "output_type": "execute_result"
    }
   ],
   "source": [
    "df3.columns"
   ]
  },
  {
   "cell_type": "code",
   "execution_count": 207,
   "id": "648db81b",
   "metadata": {},
   "outputs": [
    {
     "data": {
      "image/png": "[encoded data removed]",
      "text/plain": [
       "<Figure size 432x288 with 1 Axes>"
      ]
     },
     "metadata": {
      "needs_background": "light"
     },
     "output_type": "display_data"
    },
    {
     "data": {
      "text/plain": [
       "100.0    6522\n",
       "95.0     5700\n",
       "97.5     5572\n",
       "105.0    5562\n",
       "90.0     5138\n",
       "102.5    4739\n",
       "92.5     4406\n",
       "107.5    4082\n",
       "110.0    3481\n",
       "87.5     2254\n",
       "112.5    2207\n",
       "85.0     2131\n",
       "115.0    1283\n",
       "82.5     1097\n",
       "80.0     1052\n",
       "120.0     798\n",
       "117.5     763\n",
       "122.5     356\n",
       "77.5      299\n",
       "125.0     255\n",
       "75.0      122\n",
       "127.5      67\n",
       "72.5       16\n",
       "130.0       1\n",
       "Name: 평균 혈압, dtype: int64"
      ]
     },
     "execution_count": 207,
     "metadata": {},
     "output_type": "execute_result"
    }
   ],
   "source": [
    "bns10 = 4\n",
    "df3['평균 혈압'].hist(range=(90, 160), bins=7*bns10)\n",
    "plt.show()\n",
    "\n",
    "y, x = np.histogram(df3['평균 혈압'], range=(90, 160), bins=7*bns10)\n",
    "\n",
    "((df3['평균 혈압']//(10/bns10))*(10/bns10)).value_counts()"
   ]
  },
  {
   "cell_type": "markdown",
   "id": "1443b371",
   "metadata": {},
   "source": [
    "## AST"
   ]
  },
  {
   "cell_type": "code",
   "execution_count": 208,
   "id": "7b129dec",
   "metadata": {},
   "outputs": [],
   "source": [
    "df4 = df3.copy()"
   ]
  },
  {
   "cell_type": "code",
   "execution_count": 209,
   "id": "bfcaeb34",
   "metadata": {
    "scrolled": true
   },
   "outputs": [
    {
     "data": {
      "text/plain": [
       "Index(['bmi_int', '(혈청지오티)ALT', '감마 지티피', '수축기 혈압', '이완기 혈압', '(혈청지오티)AST',\n",
       "       'WHtR', '평균 혈압'],\n",
       "      dtype='object')"
      ]
     },
     "execution_count": 209,
     "metadata": {},
     "output_type": "execute_result"
    }
   ],
   "source": [
    "df4.columns"
   ]
  },
  {
   "cell_type": "code",
   "execution_count": 210,
   "id": "dc837272",
   "metadata": {},
   "outputs": [
    {
     "data": {
      "text/plain": [
       "21.0    4014\n",
       "22.0    3987\n",
       "20.0    3887\n",
       "23.0    3839\n",
       "24.0    3643\n",
       "19.0    3578\n",
       "25.0    3354\n",
       "18.0    3204\n",
       "26.0    2927\n",
       "27.0    2616\n",
       "17.0    2571\n",
       "28.0    2299\n",
       "29.0    2064\n",
       "16.0    1904\n",
       "30.0    1730\n",
       "31.0    1499\n",
       "15.0    1321\n",
       "32.0    1249\n",
       "33.0    1126\n",
       "34.0     918\n",
       "14.0     806\n",
       "35.0     802\n",
       "36.0     629\n",
       "37.0     562\n",
       "13.0     466\n",
       "38.0     459\n",
       "39.0     432\n",
       "40.0     348\n",
       "41.0     265\n",
       "42.0     252\n",
       "12.0     226\n",
       "43.0     202\n",
       "44.0     173\n",
       "45.0     144\n",
       "46.0     128\n",
       "47.0     108\n",
       "11.0      91\n",
       "10.0      44\n",
       "9.0       16\n",
       "8.0       10\n",
       "7.0        3\n",
       "6.0        3\n",
       "5.0        2\n",
       "4.0        1\n",
       "27.3       1\n",
       "Name: (혈청지오티)AST, dtype: int64"
      ]
     },
     "execution_count": 210,
     "metadata": {},
     "output_type": "execute_result"
    }
   ],
   "source": [
    "df4['(혈청지오티)AST'].value_counts()"
   ]
  },
  {
   "cell_type": "code",
   "execution_count": 211,
   "id": "3b76275c",
   "metadata": {},
   "outputs": [
    {
     "data": {
      "text/plain": [
       "<AxesSubplot:>"
      ]
     },
     "execution_count": 211,
     "metadata": {},
     "output_type": "execute_result"
    },
    {
     "data": {
      "image/png": "[encoded data removed]",
      "text/plain": [
       "<Figure size 432x288 with 1 Axes>"
      ]
     },
     "metadata": {
      "needs_background": "light"
     },
     "output_type": "display_data"
    }
   ],
   "source": [
    "df4['(혈청지오티)AST'].hist(range=(0, 50), bins=50)"
   ]
  },
  {
   "cell_type": "markdown",
   "id": "0dd91e7a",
   "metadata": {},
   "source": [
    "## ALT"
   ]
  },
  {
   "cell_type": "code",
   "execution_count": 212,
   "id": "f7f96493",
   "metadata": {},
   "outputs": [
    {
     "data": {
      "text/plain": [
       "array([27., 32., 10., 30., 14., 33., 15., 36., 26., 19., 46., 49., 41.,\n",
       "       24., 17., 22., 29., 25., 18., 28., 23., 21., 50., 11., 39., 12.,\n",
       "       40., 16., 57., 31., 43., 20., 38., 48., 37., 58., 34., 55., 35.,\n",
       "       42., 51.,  8., 64., 62., 52., 13., 44.,  6.,  9., 53., 45.,  3.,\n",
       "       59.,  7., 61., 54., 47., 56., 60., 63.,  5.,  1.,  4.,  2.])"
      ]
     },
     "execution_count": 212,
     "metadata": {},
     "output_type": "execute_result"
    }
   ],
   "source": [
    "df4['(혈청지오티)ALT'].unique()"
   ]
  },
  {
   "cell_type": "code",
   "execution_count": 213,
   "id": "503d44cd",
   "metadata": {},
   "outputs": [
    {
     "data": {
      "text/plain": [
       "<AxesSubplot:>"
      ]
     },
     "execution_count": 213,
     "metadata": {},
     "output_type": "execute_result"
    },
    {
     "data": {
      "image/png": "[encoded data removed]",
      "text/plain": [
       "<Figure size 432x288 with 1 Axes>"
      ]
     },
     "metadata": {
      "needs_background": "light"
     },
     "output_type": "display_data"
    }
   ],
   "source": [
    "df4['(혈청지오티)ALT'].hist(range=(0, 70), bins=70)"
   ]
  },
  {
   "cell_type": "markdown",
   "id": "3e672a6b",
   "metadata": {},
   "source": [
    "## 감마 지티피"
   ]
  },
  {
   "cell_type": "code",
   "execution_count": 214,
   "id": "3483476c",
   "metadata": {
    "scrolled": true
   },
   "outputs": [
    {
     "data": {
      "text/plain": [
       "Index(['bmi_int', '(혈청지오티)ALT', '감마 지티피', '수축기 혈압', '이완기 혈압', '(혈청지오티)AST',\n",
       "       'WHtR', '평균 혈압'],\n",
       "      dtype='object')"
      ]
     },
     "execution_count": 214,
     "metadata": {},
     "output_type": "execute_result"
    }
   ],
   "source": [
    "df4.columns"
   ]
  },
  {
   "cell_type": "code",
   "execution_count": 215,
   "id": "dffae1d1",
   "metadata": {},
   "outputs": [
    {
     "data": {
      "text/plain": [
       "array([21., 26., 15., 25., 54., 47., 59., 19., 18., 27., 22., 32., 10.,\n",
       "       38., 74., 42., 20., 23., 14., 65., 28., 33., 62., 37., 35., 24.,\n",
       "       30., 31., 11., 58., 88., 86., 36., 56., 17., 51., 55., 48., 29.,\n",
       "       46., 53., 49., 52., 79., 50., 40., 76., 57., 80., 34., 63., 12.,\n",
       "       16., 39., 77., 91., 83., 87., 13., 71., 64., 66.,  9., 43., 90.,\n",
       "       68., 61., 45., 73., 69., 75., 93., 41., 78., 60., 44., 67., 72.,\n",
       "       84., 81.,  6., 94., 70., 89.,  3.,  8.,  5., 92., 82., 85.,  4.,\n",
       "        7.,  1.,  2.])"
      ]
     },
     "execution_count": 215,
     "metadata": {},
     "output_type": "execute_result"
    }
   ],
   "source": [
    "df4['감마 지티피'].unique()"
   ]
  },
  {
   "cell_type": "code",
   "execution_count": null,
   "id": "5e45eed0",
   "metadata": {},
   "outputs": [],
   "source": []
  },
  {
   "cell_type": "markdown",
   "id": "d7f9ab07",
   "metadata": {},
   "source": [
    "- bmi (0.82), \n",
    "- ALT (0.35),\n",
    "- 감마지티피(0.27), 혈압 (0.21/0.21), AST(0.16)"
   ]
  },
  {
   "cell_type": "markdown",
   "id": "d498cef5",
   "metadata": {},
   "source": [
    "# 그룹화"
   ]
  },
  {
   "cell_type": "code",
   "execution_count": 217,
   "id": "acbbae18",
   "metadata": {},
   "outputs": [],
   "source": [
    "df5 = df4.copy()\n",
    "df5.drop(columns=['수축기 혈압', '이완기 혈압'], inplace=True)"
   ]
  },
  {
   "cell_type": "raw",
   "id": "31d855ef",
   "metadata": {},
   "source": [
    "df5.to_pickle('./WHtR_concat/03/reduction_05.pkl')"
   ]
  },
  {
   "cell_type": "markdown",
   "id": "80037e1c",
   "metadata": {},
   "source": [
    "## 불러오기"
   ]
  },
  {
   "cell_type": "code",
   "execution_count": 219,
   "id": "814cfdc5",
   "metadata": {},
   "outputs": [
    {
     "data": {
      "text/html": [
       "<div>\n",
       "<style scoped>\n",
       "    .dataframe tbody tr th:only-of-type {\n",
       "        vertical-align: middle;\n",
       "    }\n",
       "\n",
       "    .dataframe tbody tr th {\n",
       "        vertical-align: top;\n",
       "    }\n",
       "\n",
       "    .dataframe thead th {\n",
       "        text-align: right;\n",
       "    }\n",
       "</style>\n",
       "<table border=\"1\" class=\"dataframe\">\n",
       "  <thead>\n",
       "    <tr style=\"text-align: right;\">\n",
       "      <th></th>\n",
       "      <th>bmi_int</th>\n",
       "      <th>(혈청지오티)ALT</th>\n",
       "      <th>감마 지티피</th>\n",
       "      <th>(혈청지오티)AST</th>\n",
       "      <th>WHtR</th>\n",
       "      <th>평균 혈압</th>\n",
       "    </tr>\n",
       "  </thead>\n",
       "  <tbody>\n",
       "    <tr>\n",
       "      <th>0</th>\n",
       "      <td>22.0</td>\n",
       "      <td>27.0</td>\n",
       "      <td>21.0</td>\n",
       "      <td>21.0</td>\n",
       "      <td>0.437</td>\n",
       "      <td>103.0</td>\n",
       "    </tr>\n",
       "    <tr>\n",
       "      <th>1</th>\n",
       "      <td>25.0</td>\n",
       "      <td>32.0</td>\n",
       "      <td>26.0</td>\n",
       "      <td>25.0</td>\n",
       "      <td>0.508</td>\n",
       "      <td>93.0</td>\n",
       "    </tr>\n",
       "    <tr>\n",
       "      <th>2</th>\n",
       "      <td>20.0</td>\n",
       "      <td>10.0</td>\n",
       "      <td>15.0</td>\n",
       "      <td>18.0</td>\n",
       "      <td>0.470</td>\n",
       "      <td>100.0</td>\n",
       "    </tr>\n",
       "    <tr>\n",
       "      <th>3</th>\n",
       "      <td>28.0</td>\n",
       "      <td>30.0</td>\n",
       "      <td>25.0</td>\n",
       "      <td>27.0</td>\n",
       "      <td>0.509</td>\n",
       "      <td>109.5</td>\n",
       "    </tr>\n",
       "    <tr>\n",
       "      <th>4</th>\n",
       "      <td>23.0</td>\n",
       "      <td>14.0</td>\n",
       "      <td>25.0</td>\n",
       "      <td>19.0</td>\n",
       "      <td>0.474</td>\n",
       "      <td>90.0</td>\n",
       "    </tr>\n",
       "  </tbody>\n",
       "</table>\n",
       "</div>"
      ],
      "text/plain": [
       "   bmi_int  (혈청지오티)ALT  감마 지티피  (혈청지오티)AST   WHtR  평균 혈압\n",
       "0     22.0        27.0    21.0        21.0  0.437  103.0\n",
       "1     25.0        32.0    26.0        25.0  0.508   93.0\n",
       "2     20.0        10.0    15.0        18.0  0.470  100.0\n",
       "3     28.0        30.0    25.0        27.0  0.509  109.5\n",
       "4     23.0        14.0    25.0        19.0  0.474   90.0"
      ]
     },
     "execution_count": 219,
     "metadata": {},
     "output_type": "execute_result"
    }
   ],
   "source": [
    "df = pd.read_pickle('./WHtR_concat/03/reduction_05.pkl')\n",
    "df.head()"
   ]
  },
  {
   "cell_type": "code",
   "execution_count": 222,
   "id": "0d6c82a4",
   "metadata": {},
   "outputs": [
    {
     "data": {
      "text/html": [
       "<div>\n",
       "<style scoped>\n",
       "    .dataframe tbody tr th:only-of-type {\n",
       "        vertical-align: middle;\n",
       "    }\n",
       "\n",
       "    .dataframe tbody tr th {\n",
       "        vertical-align: top;\n",
       "    }\n",
       "\n",
       "    .dataframe thead th {\n",
       "        text-align: right;\n",
       "    }\n",
       "</style>\n",
       "<table border=\"1\" class=\"dataframe\">\n",
       "  <thead>\n",
       "    <tr style=\"text-align: right;\">\n",
       "      <th></th>\n",
       "      <th>bmi</th>\n",
       "      <th>ALT</th>\n",
       "      <th>r_GTP</th>\n",
       "      <th>AST</th>\n",
       "      <th>WHtR</th>\n",
       "      <th>avg_bp</th>\n",
       "    </tr>\n",
       "  </thead>\n",
       "  <tbody>\n",
       "    <tr>\n",
       "      <th>0</th>\n",
       "      <td>22.0</td>\n",
       "      <td>27.0</td>\n",
       "      <td>21.0</td>\n",
       "      <td>21.0</td>\n",
       "      <td>0.437</td>\n",
       "      <td>103.0</td>\n",
       "    </tr>\n",
       "    <tr>\n",
       "      <th>1</th>\n",
       "      <td>25.0</td>\n",
       "      <td>32.0</td>\n",
       "      <td>26.0</td>\n",
       "      <td>25.0</td>\n",
       "      <td>0.508</td>\n",
       "      <td>93.0</td>\n",
       "    </tr>\n",
       "    <tr>\n",
       "      <th>2</th>\n",
       "      <td>20.0</td>\n",
       "      <td>10.0</td>\n",
       "      <td>15.0</td>\n",
       "      <td>18.0</td>\n",
       "      <td>0.470</td>\n",
       "      <td>100.0</td>\n",
       "    </tr>\n",
       "    <tr>\n",
       "      <th>3</th>\n",
       "      <td>28.0</td>\n",
       "      <td>30.0</td>\n",
       "      <td>25.0</td>\n",
       "      <td>27.0</td>\n",
       "      <td>0.509</td>\n",
       "      <td>109.5</td>\n",
       "    </tr>\n",
       "    <tr>\n",
       "      <th>4</th>\n",
       "      <td>23.0</td>\n",
       "      <td>14.0</td>\n",
       "      <td>25.0</td>\n",
       "      <td>19.0</td>\n",
       "      <td>0.474</td>\n",
       "      <td>90.0</td>\n",
       "    </tr>\n",
       "  </tbody>\n",
       "</table>\n",
       "</div>"
      ],
      "text/plain": [
       "    bmi   ALT  r_GTP   AST   WHtR  avg_bp\n",
       "0  22.0  27.0   21.0  21.0  0.437   103.0\n",
       "1  25.0  32.0   26.0  25.0  0.508    93.0\n",
       "2  20.0  10.0   15.0  18.0  0.470   100.0\n",
       "3  28.0  30.0   25.0  27.0  0.509   109.5\n",
       "4  23.0  14.0   25.0  19.0  0.474    90.0"
      ]
     },
     "execution_count": 222,
     "metadata": {},
     "output_type": "execute_result"
    }
   ],
   "source": [
    "df.rename(columns=dict(zip(df.columns, ['bmi', 'ALT', 'r_GTP', 'AST', 'WHtR', 'avg_bp'])), inplace=True)\n",
    "df.head()"
   ]
  },
  {
   "cell_type": "markdown",
   "id": "f7911428",
   "metadata": {},
   "source": [
    "## 1차 그룹화 bmi"
   ]
  },
  {
   "cell_type": "markdown",
   "id": "650ecc25",
   "metadata": {},
   "source": [
    "### bmi로 나눈 그룹별 hist/PMF 확인"
   ]
  },
  {
   "cell_type": "code",
   "execution_count": 243,
   "id": "298e9f95",
   "metadata": {},
   "outputs": [
    {
     "data": {
      "text/plain": [
       "count    57903.000000\n",
       "mean        24.810562\n",
       "std          3.119933\n",
       "min         14.000000\n",
       "25%         23.000000\n",
       "50%         24.000000\n",
       "75%         26.000000\n",
       "max         40.000000\n",
       "Name: bmi, dtype: float64"
      ]
     },
     "execution_count": 243,
     "metadata": {},
     "output_type": "execute_result"
    }
   ],
   "source": [
    "df.bmi.describe()"
   ]
  },
  {
   "cell_type": "code",
   "execution_count": 244,
   "id": "6bc89603",
   "metadata": {},
   "outputs": [
    {
     "data": {
      "text/plain": [
       "57903"
      ]
     },
     "execution_count": 244,
     "metadata": {},
     "output_type": "execute_result"
    }
   ],
   "source": [
    "df.bmi.count()"
   ]
  },
  {
   "cell_type": "code",
   "execution_count": 242,
   "id": "6916232e",
   "metadata": {},
   "outputs": [
    {
     "data": {
      "text/plain": [
       "<AxesSubplot:>"
      ]
     },
     "execution_count": 242,
     "metadata": {},
     "output_type": "execute_result"
    },
    {
     "data": {
      "image/png": "[encoded data removed]",
      "text/plain": [
       "<Figure size 432x288 with 1 Axes>"
      ]
     },
     "metadata": {
      "needs_background": "light"
     },
     "output_type": "display_data"
    }
   ],
   "source": [
    "interval = 2\n",
    "df.bmi.hist(range=(10, 40), bins=int(30/interval))"
   ]
  },
  {
   "cell_type": "markdown",
   "id": "1a2a341c",
   "metadata": {},
   "source": [
    "- 최소 간격 : 2"
   ]
  },
  {
   "cell_type": "code",
   "execution_count": 249,
   "id": "1fa8ef01",
   "metadata": {},
   "outputs": [],
   "source": [
    "df1 = df.copy()\n",
    "df1['bmi_c'] = ((df.bmi//interval)*interval+interval/2.0)"
   ]
  },
  {
   "cell_type": "code",
   "execution_count": 250,
   "id": "5226752a",
   "metadata": {},
   "outputs": [
    {
     "data": {
      "text/html": [
       "<div>\n",
       "<style scoped>\n",
       "    .dataframe tbody tr th:only-of-type {\n",
       "        vertical-align: middle;\n",
       "    }\n",
       "\n",
       "    .dataframe tbody tr th {\n",
       "        vertical-align: top;\n",
       "    }\n",
       "\n",
       "    .dataframe thead th {\n",
       "        text-align: right;\n",
       "    }\n",
       "</style>\n",
       "<table border=\"1\" class=\"dataframe\">\n",
       "  <thead>\n",
       "    <tr style=\"text-align: right;\">\n",
       "      <th></th>\n",
       "      <th>bmi</th>\n",
       "      <th>ALT</th>\n",
       "      <th>r_GTP</th>\n",
       "      <th>AST</th>\n",
       "      <th>WHtR</th>\n",
       "      <th>avg_bp</th>\n",
       "      <th>bmi_c</th>\n",
       "    </tr>\n",
       "  </thead>\n",
       "  <tbody>\n",
       "    <tr>\n",
       "      <th>0</th>\n",
       "      <td>22.0</td>\n",
       "      <td>27.0</td>\n",
       "      <td>21.0</td>\n",
       "      <td>21.0</td>\n",
       "      <td>0.437</td>\n",
       "      <td>103.0</td>\n",
       "      <td>23.0</td>\n",
       "    </tr>\n",
       "    <tr>\n",
       "      <th>1</th>\n",
       "      <td>25.0</td>\n",
       "      <td>32.0</td>\n",
       "      <td>26.0</td>\n",
       "      <td>25.0</td>\n",
       "      <td>0.508</td>\n",
       "      <td>93.0</td>\n",
       "      <td>25.0</td>\n",
       "    </tr>\n",
       "    <tr>\n",
       "      <th>2</th>\n",
       "      <td>20.0</td>\n",
       "      <td>10.0</td>\n",
       "      <td>15.0</td>\n",
       "      <td>18.0</td>\n",
       "      <td>0.470</td>\n",
       "      <td>100.0</td>\n",
       "      <td>21.0</td>\n",
       "    </tr>\n",
       "    <tr>\n",
       "      <th>3</th>\n",
       "      <td>28.0</td>\n",
       "      <td>30.0</td>\n",
       "      <td>25.0</td>\n",
       "      <td>27.0</td>\n",
       "      <td>0.509</td>\n",
       "      <td>109.5</td>\n",
       "      <td>29.0</td>\n",
       "    </tr>\n",
       "    <tr>\n",
       "      <th>4</th>\n",
       "      <td>23.0</td>\n",
       "      <td>14.0</td>\n",
       "      <td>25.0</td>\n",
       "      <td>19.0</td>\n",
       "      <td>0.474</td>\n",
       "      <td>90.0</td>\n",
       "      <td>23.0</td>\n",
       "    </tr>\n",
       "  </tbody>\n",
       "</table>\n",
       "</div>"
      ],
      "text/plain": [
       "    bmi   ALT  r_GTP   AST   WHtR  avg_bp  bmi_c\n",
       "0  22.0  27.0   21.0  21.0  0.437   103.0   23.0\n",
       "1  25.0  32.0   26.0  25.0  0.508    93.0   25.0\n",
       "2  20.0  10.0   15.0  18.0  0.470   100.0   21.0\n",
       "3  28.0  30.0   25.0  27.0  0.509   109.5   29.0\n",
       "4  23.0  14.0   25.0  19.0  0.474    90.0   23.0"
      ]
     },
     "execution_count": 250,
     "metadata": {},
     "output_type": "execute_result"
    }
   ],
   "source": [
    "df1.head()"
   ]
  },
  {
   "cell_type": "code",
   "execution_count": 251,
   "id": "0ed11455",
   "metadata": {},
   "outputs": [
    {
     "data": {
      "text/plain": [
       "25.0    13127\n",
       "23.0    12311\n",
       "27.0    11087\n",
       "29.0    11002\n",
       "21.0     5751\n",
       "31.0     1955\n",
       "19.0     1453\n",
       "33.0      717\n",
       "17.0      299\n",
       "35.0      177\n",
       "37.0       17\n",
       "15.0        5\n",
       "41.0        1\n",
       "39.0        1\n",
       "Name: bmi_c, dtype: int64"
      ]
     },
     "execution_count": 251,
     "metadata": {},
     "output_type": "execute_result"
    }
   ],
   "source": [
    "df1.bmi_c.value_counts()"
   ]
  },
  {
   "cell_type": "code",
   "execution_count": 255,
   "id": "8223643d",
   "metadata": {},
   "outputs": [
    {
     "data": {
      "text/html": [
       "<div>\n",
       "<style scoped>\n",
       "    .dataframe tbody tr th:only-of-type {\n",
       "        vertical-align: middle;\n",
       "    }\n",
       "\n",
       "    .dataframe tbody tr th {\n",
       "        vertical-align: top;\n",
       "    }\n",
       "\n",
       "    .dataframe thead th {\n",
       "        text-align: right;\n",
       "    }\n",
       "</style>\n",
       "<table border=\"1\" class=\"dataframe\">\n",
       "  <thead>\n",
       "    <tr style=\"text-align: right;\">\n",
       "      <th></th>\n",
       "      <th>bmi</th>\n",
       "      <th>ALT</th>\n",
       "      <th>r_GTP</th>\n",
       "      <th>AST</th>\n",
       "      <th>WHtR</th>\n",
       "      <th>avg_bp</th>\n",
       "      <th>bmi_c</th>\n",
       "    </tr>\n",
       "  </thead>\n",
       "  <tbody>\n",
       "    <tr>\n",
       "      <th>0</th>\n",
       "      <td>22.0</td>\n",
       "      <td>27.0</td>\n",
       "      <td>21.0</td>\n",
       "      <td>21.0</td>\n",
       "      <td>0.437</td>\n",
       "      <td>103.0</td>\n",
       "      <td>23.0</td>\n",
       "    </tr>\n",
       "    <tr>\n",
       "      <th>4</th>\n",
       "      <td>23.0</td>\n",
       "      <td>14.0</td>\n",
       "      <td>25.0</td>\n",
       "      <td>19.0</td>\n",
       "      <td>0.474</td>\n",
       "      <td>90.0</td>\n",
       "      <td>23.0</td>\n",
       "    </tr>\n",
       "    <tr>\n",
       "      <th>5</th>\n",
       "      <td>22.0</td>\n",
       "      <td>33.0</td>\n",
       "      <td>54.0</td>\n",
       "      <td>26.0</td>\n",
       "      <td>0.471</td>\n",
       "      <td>92.5</td>\n",
       "      <td>23.0</td>\n",
       "    </tr>\n",
       "    <tr>\n",
       "      <th>8</th>\n",
       "      <td>22.0</td>\n",
       "      <td>27.0</td>\n",
       "      <td>19.0</td>\n",
       "      <td>21.0</td>\n",
       "      <td>0.495</td>\n",
       "      <td>92.0</td>\n",
       "      <td>23.0</td>\n",
       "    </tr>\n",
       "    <tr>\n",
       "      <th>25</th>\n",
       "      <td>22.0</td>\n",
       "      <td>18.0</td>\n",
       "      <td>14.0</td>\n",
       "      <td>24.0</td>\n",
       "      <td>0.503</td>\n",
       "      <td>92.5</td>\n",
       "      <td>23.0</td>\n",
       "    </tr>\n",
       "  </tbody>\n",
       "</table>\n",
       "</div>"
      ],
      "text/plain": [
       "     bmi   ALT  r_GTP   AST   WHtR  avg_bp  bmi_c\n",
       "0   22.0  27.0   21.0  21.0  0.437   103.0   23.0\n",
       "4   23.0  14.0   25.0  19.0  0.474    90.0   23.0\n",
       "5   22.0  33.0   54.0  26.0  0.471    92.5   23.0\n",
       "8   22.0  27.0   19.0  21.0  0.495    92.0   23.0\n",
       "25  22.0  18.0   14.0  24.0  0.503    92.5   23.0"
      ]
     },
     "execution_count": 255,
     "metadata": {},
     "output_type": "execute_result"
    }
   ],
   "source": [
    "b1, b2 = 23.0, 29.0\n",
    "\n",
    "df1[df1.bmi_c == b1].head()"
   ]
  },
  {
   "cell_type": "code",
   "execution_count": 266,
   "id": "a61a4a6a",
   "metadata": {
    "scrolled": true
   },
   "outputs": [
    {
     "data": {
      "text/plain": [
       "<matplotlib.legend.Legend at 0x1eb46a308b0>"
      ]
     },
     "execution_count": 266,
     "metadata": {},
     "output_type": "execute_result"
    },
    {
     "data": {
      "image/png": "[encoded data removed]",
      "text/plain": [
       "<Figure size 432x288 with 1 Axes>"
      ]
     },
     "metadata": {
      "needs_background": "light"
     },
     "output_type": "display_data"
    }
   ],
   "source": [
    "df1[df1.bmi_c == b1].WHtR.hist(range=(0.3, 0.6), bins=30, alpha=0.3, label=f'bmi : {b1}')\n",
    "df1[df1.bmi_c == b2].WHtR.hist(range=(0.3, 0.6), bins=30, alpha=0.3, label=f'bmi : {b2}')\n",
    "plt.legend()"
   ]
  },
  {
   "cell_type": "code",
   "execution_count": null,
   "id": "99373a03",
   "metadata": {},
   "outputs": [],
   "source": []
  },
  {
   "cell_type": "code",
   "execution_count": null,
   "id": "ff8f18b2",
   "metadata": {},
   "outputs": [],
   "source": [
    "fig = plt.figure(figsize=(10, 6))\n",
    "\n",
    "y1, x1 = np.histogram(df1[df1.bmi_c == b1].WHtR, range=(0.3, 0.6), bins=30)\n"
   ]
  },
  {
   "cell_type": "code",
   "execution_count": null,
   "id": "451beab7",
   "metadata": {},
   "outputs": [],
   "source": []
  },
  {
   "cell_type": "code",
   "execution_count": null,
   "id": "2ceeead4",
   "metadata": {},
   "outputs": [],
   "source": []
  },
  {
   "cell_type": "code",
   "execution_count": null,
   "id": "6941a0ab",
   "metadata": {},
   "outputs": [],
   "source": []
  },
  {
   "cell_type": "code",
   "execution_count": null,
   "id": "c5756f62",
   "metadata": {},
   "outputs": [],
   "source": []
  },
  {
   "cell_type": "code",
   "execution_count": null,
   "id": "688f7394",
   "metadata": {},
   "outputs": [],
   "source": []
  },
  {
   "cell_type": "code",
   "execution_count": null,
   "id": "c2c7bdef",
   "metadata": {},
   "outputs": [],
   "source": []
  },
  {
   "cell_type": "code",
   "execution_count": null,
   "id": "3dc0f7a0",
   "metadata": {},
   "outputs": [],
   "source": []
  },
  {
   "cell_type": "code",
   "execution_count": null,
   "id": "6a167ac6",
   "metadata": {},
   "outputs": [],
   "source": []
  },
  {
   "cell_type": "code",
   "execution_count": null,
   "id": "cdb029b5",
   "metadata": {},
   "outputs": [],
   "source": []
  },
  {
   "cell_type": "code",
   "execution_count": null,
   "id": "54187230",
   "metadata": {},
   "outputs": [],
   "source": []
  },
  {
   "cell_type": "markdown",
   "id": "c27b12e9",
   "metadata": {},
   "source": [
    "## 2차 그룹화 ALT"
   ]
  },
  {
   "cell_type": "markdown",
   "id": "46a259be",
   "metadata": {},
   "source": [
    "## 3차 그룹화 감마 지티피"
   ]
  },
  {
   "cell_type": "markdown",
   "id": "145e93ba",
   "metadata": {},
   "source": [
    "## n차 그룹화 필요시"
   ]
  },
  {
   "cell_type": "code",
   "execution_count": null,
   "id": "b6304c54",
   "metadata": {},
   "outputs": [],
   "source": []
  }
 ],
 "metadata": {
  "kernelspec": {
   "display_name": "Python 3 (ipykernel)",
   "language": "python",
   "name": "python3"
  },
  "language_info": {
   "codemirror_mode": {
    "name": "ipython",
    "version": 3
   },
   "file_extension": ".py",
   "mimetype": "text/x-python",
   "name": "python",
   "nbconvert_exporter": "python",
   "pygments_lexer": "ipython3",
   "version": "3.9.13"
  },
  "toc": {
   "base_numbering": 1,
   "nav_menu": {},
   "number_sections": true,
   "sideBar": true,
   "skip_h1_title": false,
   "title_cell": "Table of Contents",
   "title_sidebar": "Contents",
   "toc_cell": false,
   "toc_position": {
    "height": "calc(100% - 180px)",
    "left": "10px",
    "top": "150px",
    "width": "320.909px"
   },
   "toc_section_display": true,
   "toc_window_display": true
  }
 },
 "nbformat": 4,
 "nbformat_minor": 5
}
