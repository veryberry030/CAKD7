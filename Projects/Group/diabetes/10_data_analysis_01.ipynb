{
 "cells": [
  {
   "cell_type": "markdown",
   "id": "f34e43f1",
   "metadata": {},
   "source": [
    "## import"
   ]
  },
  {
   "cell_type": "code",
   "execution_count": 1,
   "id": "381d0ea9",
   "metadata": {},
   "outputs": [],
   "source": [
    "import pandas as pd\n",
    "import numpy as np\n",
    "import matplotlib.pyplot as plt"
   ]
  },
  {
   "cell_type": "code",
   "execution_count": 320,
   "id": "3e9d7a3f",
   "metadata": {},
   "outputs": [],
   "source": [
    "from matplotlib import rc\n",
    "rc('font', family='Malgun Gothic') # 한글 폰트\n",
    "plt.rcParams['axes.unicode_minus'] = False # 마이너스 부호출력 설정"
   ]
  },
  {
   "cell_type": "markdown",
   "id": "d00d04b3",
   "metadata": {},
   "source": [
    "# 데이터 불러오기"
   ]
  },
  {
   "cell_type": "code",
   "execution_count": 4,
   "id": "e860ce4c",
   "metadata": {},
   "outputs": [
    {
     "data": {
      "text/html": [
       "<div>\n",
       "<style scoped>\n",
       "    .dataframe tbody tr th:only-of-type {\n",
       "        vertical-align: middle;\n",
       "    }\n",
       "\n",
       "    .dataframe tbody tr th {\n",
       "        vertical-align: top;\n",
       "    }\n",
       "\n",
       "    .dataframe thead th {\n",
       "        text-align: right;\n",
       "    }\n",
       "</style>\n",
       "<table border=\"1\" class=\"dataframe\">\n",
       "  <thead>\n",
       "    <tr style=\"text-align: right;\">\n",
       "      <th></th>\n",
       "      <th>신장(5Cm단위)</th>\n",
       "      <th>체중(5Kg 단위)</th>\n",
       "      <th>허리둘레</th>\n",
       "      <th>시력(좌)</th>\n",
       "      <th>시력(우)</th>\n",
       "      <th>수축기 혈압</th>\n",
       "      <th>이완기 혈압</th>\n",
       "      <th>식전혈당(공복혈당)</th>\n",
       "      <th>혈청크레아티닌</th>\n",
       "      <th>(혈청지오티)AST</th>\n",
       "      <th>(혈청지오티)ALT</th>\n",
       "      <th>감마 지티피</th>\n",
       "      <th>흡연상태</th>\n",
       "      <th>음주여부</th>\n",
       "    </tr>\n",
       "  </thead>\n",
       "  <tbody>\n",
       "    <tr>\n",
       "      <th>0</th>\n",
       "      <td>165</td>\n",
       "      <td>60</td>\n",
       "      <td>72.1</td>\n",
       "      <td>1.2</td>\n",
       "      <td>1.5</td>\n",
       "      <td>127.0</td>\n",
       "      <td>79.0</td>\n",
       "      <td>90.0</td>\n",
       "      <td>1.1</td>\n",
       "      <td>21.0</td>\n",
       "      <td>27.0</td>\n",
       "      <td>21.0</td>\n",
       "      <td>1.0</td>\n",
       "      <td>0.0</td>\n",
       "    </tr>\n",
       "    <tr>\n",
       "      <th>1</th>\n",
       "      <td>185</td>\n",
       "      <td>85</td>\n",
       "      <td>94.0</td>\n",
       "      <td>1.2</td>\n",
       "      <td>1.2</td>\n",
       "      <td>114.0</td>\n",
       "      <td>72.0</td>\n",
       "      <td>86.0</td>\n",
       "      <td>1.1</td>\n",
       "      <td>25.0</td>\n",
       "      <td>32.0</td>\n",
       "      <td>26.0</td>\n",
       "      <td>3.0</td>\n",
       "      <td>1.0</td>\n",
       "    </tr>\n",
       "  </tbody>\n",
       "</table>\n",
       "</div>"
      ],
      "text/plain": [
       "   신장(5Cm단위)  체중(5Kg 단위)  허리둘레  시력(좌)  시력(우)  수축기 혈압  이완기 혈압  식전혈당(공복혈당)  \\\n",
       "0        165          60  72.1    1.2    1.5   127.0    79.0        90.0   \n",
       "1        185          85  94.0    1.2    1.2   114.0    72.0        86.0   \n",
       "\n",
       "   혈청크레아티닌  (혈청지오티)AST  (혈청지오티)ALT  감마 지티피  흡연상태  음주여부  \n",
       "0      1.1        21.0        27.0    21.0   1.0   0.0  \n",
       "1      1.1        25.0        32.0    26.0   3.0   1.0  "
      ]
     },
     "execution_count": 4,
     "metadata": {},
     "output_type": "execute_result"
    }
   ],
   "source": [
    "df = pd.read_pickle('./WHtR_concat/01/reduction_03.pkl')\n",
    "df.head(2)"
   ]
  },
  {
   "cell_type": "code",
   "execution_count": 3,
   "id": "db0308e2",
   "metadata": {},
   "outputs": [
    {
     "name": "stdout",
     "output_type": "stream",
     "text": [
      "<class 'pandas.core.frame.DataFrame'>\n",
      "RangeIndex: 57903 entries, 0 to 57902\n",
      "Data columns (total 14 columns):\n",
      " #   Column      Non-Null Count  Dtype  \n",
      "---  ------      --------------  -----  \n",
      " 0   신장(5Cm단위)   57903 non-null  int64  \n",
      " 1   체중(5Kg 단위)  57903 non-null  int64  \n",
      " 2   허리둘레        57903 non-null  float64\n",
      " 3   시력(좌)       57903 non-null  float64\n",
      " 4   시력(우)       57903 non-null  float64\n",
      " 5   수축기 혈압      57903 non-null  float64\n",
      " 6   이완기 혈압      57903 non-null  float64\n",
      " 7   식전혈당(공복혈당)  57903 non-null  float64\n",
      " 8   혈청크레아티닌     57903 non-null  float64\n",
      " 9   (혈청지오티)AST  57903 non-null  float64\n",
      " 10  (혈청지오티)ALT  57903 non-null  float64\n",
      " 11  감마 지티피      57903 non-null  float64\n",
      " 12  흡연상태        57903 non-null  float64\n",
      " 13  음주여부        57903 non-null  float64\n",
      "dtypes: float64(12), int64(2)\n",
      "memory usage: 6.2 MB\n"
     ]
    }
   ],
   "source": [
    "df.info()"
   ]
  },
  {
   "cell_type": "code",
   "execution_count": 15,
   "id": "ecbab95b",
   "metadata": {},
   "outputs": [],
   "source": [
    "df1 = df.rename(columns=dict(zip(df.columns, 'HEIGHT WEIGHT WAIST EYE_L EYE_R SBP DBP GLUCOSE CREATININE AST ALT r_GTP SMOKING DRINK'.split(' '))))"
   ]
  },
  {
   "cell_type": "code",
   "execution_count": 16,
   "id": "cca965be",
   "metadata": {},
   "outputs": [
    {
     "data": {
      "text/html": [
       "<div>\n",
       "<style scoped>\n",
       "    .dataframe tbody tr th:only-of-type {\n",
       "        vertical-align: middle;\n",
       "    }\n",
       "\n",
       "    .dataframe tbody tr th {\n",
       "        vertical-align: top;\n",
       "    }\n",
       "\n",
       "    .dataframe thead th {\n",
       "        text-align: right;\n",
       "    }\n",
       "</style>\n",
       "<table border=\"1\" class=\"dataframe\">\n",
       "  <thead>\n",
       "    <tr style=\"text-align: right;\">\n",
       "      <th></th>\n",
       "      <th>HEIGHT</th>\n",
       "      <th>WEIGHT</th>\n",
       "      <th>WAIST</th>\n",
       "      <th>EYE_L</th>\n",
       "      <th>EYE_R</th>\n",
       "      <th>SBP</th>\n",
       "      <th>DBP</th>\n",
       "      <th>GLUCOSE</th>\n",
       "      <th>CREATININE</th>\n",
       "      <th>AST</th>\n",
       "      <th>ALT</th>\n",
       "      <th>r_GTP</th>\n",
       "      <th>SMOKING</th>\n",
       "      <th>DRINK</th>\n",
       "    </tr>\n",
       "  </thead>\n",
       "  <tbody>\n",
       "    <tr>\n",
       "      <th>0</th>\n",
       "      <td>165</td>\n",
       "      <td>60</td>\n",
       "      <td>72.1</td>\n",
       "      <td>1.2</td>\n",
       "      <td>1.5</td>\n",
       "      <td>127.0</td>\n",
       "      <td>79.0</td>\n",
       "      <td>90.0</td>\n",
       "      <td>1.1</td>\n",
       "      <td>21.0</td>\n",
       "      <td>27.0</td>\n",
       "      <td>21.0</td>\n",
       "      <td>1.0</td>\n",
       "      <td>0.0</td>\n",
       "    </tr>\n",
       "    <tr>\n",
       "      <th>1</th>\n",
       "      <td>185</td>\n",
       "      <td>85</td>\n",
       "      <td>94.0</td>\n",
       "      <td>1.2</td>\n",
       "      <td>1.2</td>\n",
       "      <td>114.0</td>\n",
       "      <td>72.0</td>\n",
       "      <td>86.0</td>\n",
       "      <td>1.1</td>\n",
       "      <td>25.0</td>\n",
       "      <td>32.0</td>\n",
       "      <td>26.0</td>\n",
       "      <td>3.0</td>\n",
       "      <td>1.0</td>\n",
       "    </tr>\n",
       "  </tbody>\n",
       "</table>\n",
       "</div>"
      ],
      "text/plain": [
       "   HEIGHT  WEIGHT  WAIST  EYE_L  EYE_R    SBP   DBP  GLUCOSE  CREATININE  \\\n",
       "0     165      60   72.1    1.2    1.5  127.0  79.0     90.0         1.1   \n",
       "1     185      85   94.0    1.2    1.2  114.0  72.0     86.0         1.1   \n",
       "\n",
       "    AST   ALT  r_GTP  SMOKING  DRINK  \n",
       "0  21.0  27.0   21.0      1.0    0.0  \n",
       "1  25.0  32.0   26.0      3.0    1.0  "
      ]
     },
     "execution_count": 16,
     "metadata": {},
     "output_type": "execute_result"
    }
   ],
   "source": [
    "df1.head(2)"
   ]
  },
  {
   "cell_type": "code",
   "execution_count": 17,
   "id": "2fbd8328",
   "metadata": {},
   "outputs": [],
   "source": [
    "df2 = df1.drop(columns='EYE_L EYE_R CREATININE AST ALT r_GTP'.split(' '))"
   ]
  },
  {
   "cell_type": "code",
   "execution_count": 18,
   "id": "b7f91cc7",
   "metadata": {},
   "outputs": [
    {
     "data": {
      "text/html": [
       "<div>\n",
       "<style scoped>\n",
       "    .dataframe tbody tr th:only-of-type {\n",
       "        vertical-align: middle;\n",
       "    }\n",
       "\n",
       "    .dataframe tbody tr th {\n",
       "        vertical-align: top;\n",
       "    }\n",
       "\n",
       "    .dataframe thead th {\n",
       "        text-align: right;\n",
       "    }\n",
       "</style>\n",
       "<table border=\"1\" class=\"dataframe\">\n",
       "  <thead>\n",
       "    <tr style=\"text-align: right;\">\n",
       "      <th></th>\n",
       "      <th>HEIGHT</th>\n",
       "      <th>WEIGHT</th>\n",
       "      <th>WAIST</th>\n",
       "      <th>SBP</th>\n",
       "      <th>DBP</th>\n",
       "      <th>GLUCOSE</th>\n",
       "      <th>SMOKING</th>\n",
       "      <th>DRINK</th>\n",
       "    </tr>\n",
       "  </thead>\n",
       "  <tbody>\n",
       "    <tr>\n",
       "      <th>0</th>\n",
       "      <td>165</td>\n",
       "      <td>60</td>\n",
       "      <td>72.1</td>\n",
       "      <td>127.0</td>\n",
       "      <td>79.0</td>\n",
       "      <td>90.0</td>\n",
       "      <td>1.0</td>\n",
       "      <td>0.0</td>\n",
       "    </tr>\n",
       "    <tr>\n",
       "      <th>1</th>\n",
       "      <td>185</td>\n",
       "      <td>85</td>\n",
       "      <td>94.0</td>\n",
       "      <td>114.0</td>\n",
       "      <td>72.0</td>\n",
       "      <td>86.0</td>\n",
       "      <td>3.0</td>\n",
       "      <td>1.0</td>\n",
       "    </tr>\n",
       "  </tbody>\n",
       "</table>\n",
       "</div>"
      ],
      "text/plain": [
       "   HEIGHT  WEIGHT  WAIST    SBP   DBP  GLUCOSE  SMOKING  DRINK\n",
       "0     165      60   72.1  127.0  79.0     90.0      1.0    0.0\n",
       "1     185      85   94.0  114.0  72.0     86.0      3.0    1.0"
      ]
     },
     "execution_count": 18,
     "metadata": {},
     "output_type": "execute_result"
    }
   ],
   "source": [
    "df2.head(2)"
   ]
  },
  {
   "cell_type": "markdown",
   "id": "157e67c8",
   "metadata": {},
   "source": [
    "# GLUCOSE 분포"
   ]
  },
  {
   "cell_type": "code",
   "execution_count": 34,
   "id": "07dcca0d",
   "metadata": {},
   "outputs": [
    {
     "data": {
      "image/png": "[encoded data removed]",
      "text/plain": [
       "<Figure size 432x288 with 1 Axes>"
      ]
     },
     "metadata": {
      "needs_background": "light"
     },
     "output_type": "display_data"
    }
   ],
   "source": [
    "df2.GLUCOSE.hist(range=(60, 130), bins=70, alpha=0.3, density=True)\n",
    "plt.vlines(100, 0, 0.045, color='orange', ls='--')\n",
    "plt.vlines(126, 0, 0.045, color='red', ls='--')\n",
    "\n",
    "plt.show()"
   ]
  },
  {
   "cell_type": "markdown",
   "id": "e94e257a",
   "metadata": {},
   "source": [
    "#### -> 위 그래프 영역 색칠로, 병무청 데이터로 보여주기, 나이별로 정리"
   ]
  },
  {
   "cell_type": "markdown",
   "id": "25369632",
   "metadata": {},
   "source": [
    "# GLU_CAT 컬럼 만들기\n",
    "- 0/1/2\n",
    "- GLUCOSE \\~99/ 100 \\~125/ 126\\~"
   ]
  },
  {
   "cell_type": "code",
   "execution_count": 36,
   "id": "0d9a8e4c",
   "metadata": {},
   "outputs": [],
   "source": [
    "df3 = df2.copy()"
   ]
  },
  {
   "cell_type": "code",
   "execution_count": 66,
   "id": "65b40926",
   "metadata": {},
   "outputs": [
    {
     "data": {
      "text/plain": [
       "57903"
      ]
     },
     "execution_count": 66,
     "metadata": {},
     "output_type": "execute_result"
    }
   ],
   "source": [
    "total = df3.GLUCOSE.count()\n",
    "total"
   ]
  },
  {
   "cell_type": "code",
   "execution_count": 68,
   "id": "ecbda32b",
   "metadata": {},
   "outputs": [
    {
     "data": {
      "text/plain": [
       "(36159, 62.4)"
      ]
     },
     "execution_count": 68,
     "metadata": {},
     "output_type": "execute_result"
    }
   ],
   "source": [
    "(df3.GLUCOSE < 100).sum(), ((df3.GLUCOSE < 100).sum()/total*100).round(1)"
   ]
  },
  {
   "cell_type": "code",
   "execution_count": 69,
   "id": "8ac0503c",
   "metadata": {},
   "outputs": [
    {
     "data": {
      "text/plain": [
       "(21220, 36.6)"
      ]
     },
     "execution_count": 69,
     "metadata": {},
     "output_type": "execute_result"
    }
   ],
   "source": [
    "((100 <= df3.GLUCOSE) & (df3.GLUCOSE < 125)).sum(), (((100 <= df3.GLUCOSE) & (df3.GLUCOSE < 125)).sum()/total*100).round(1)"
   ]
  },
  {
   "cell_type": "code",
   "execution_count": 70,
   "id": "b513eaa5",
   "metadata": {},
   "outputs": [
    {
     "data": {
      "text/plain": [
       "(350, 0.6)"
      ]
     },
     "execution_count": 70,
     "metadata": {},
     "output_type": "execute_result"
    }
   ],
   "source": [
    "(126 <= df3.GLUCOSE ).sum(), ((126 <= df3.GLUCOSE ).sum()/total*100).round(1)"
   ]
  },
  {
   "cell_type": "code",
   "execution_count": null,
   "id": "2b8b0c9a",
   "metadata": {},
   "outputs": [],
   "source": []
  },
  {
   "cell_type": "code",
   "execution_count": 51,
   "id": "58c12ade",
   "metadata": {},
   "outputs": [],
   "source": [
    "df3['GLU_CAT'] = np.nan"
   ]
  },
  {
   "cell_type": "code",
   "execution_count": 49,
   "id": "00c65466",
   "metadata": {},
   "outputs": [],
   "source": [
    "idx = df3[df3.GLUCOSE < 100].index"
   ]
  },
  {
   "cell_type": "code",
   "execution_count": 56,
   "id": "bfde4d7f",
   "metadata": {},
   "outputs": [],
   "source": [
    "df3.loc[idx, 'GLU_CAT'] = 0"
   ]
  },
  {
   "cell_type": "code",
   "execution_count": 57,
   "id": "fd2f213c",
   "metadata": {},
   "outputs": [],
   "source": [
    "idx = df3[(100 <= df3.GLUCOSE) & (df3.GLUCOSE < 125)].index"
   ]
  },
  {
   "cell_type": "code",
   "execution_count": 58,
   "id": "6d07c51f",
   "metadata": {},
   "outputs": [],
   "source": [
    "df3.loc[idx, 'GLU_CAT'] = 1"
   ]
  },
  {
   "cell_type": "code",
   "execution_count": 60,
   "id": "521acca4",
   "metadata": {},
   "outputs": [],
   "source": [
    "idx = df3[126 <= df3.GLUCOSE].index"
   ]
  },
  {
   "cell_type": "code",
   "execution_count": 61,
   "id": "d8b8720d",
   "metadata": {},
   "outputs": [],
   "source": [
    "df3.loc[idx, 'GLU_CAT'] = 2"
   ]
  },
  {
   "cell_type": "code",
   "execution_count": null,
   "id": "01902b34",
   "metadata": {},
   "outputs": [],
   "source": []
  },
  {
   "cell_type": "code",
   "execution_count": 62,
   "id": "08d87a41",
   "metadata": {},
   "outputs": [
    {
     "data": {
      "text/plain": [
       "0.0    36159\n",
       "1.0    21220\n",
       "2.0      350\n",
       "Name: GLU_CAT, dtype: int64"
      ]
     },
     "execution_count": 62,
     "metadata": {},
     "output_type": "execute_result"
    }
   ],
   "source": [
    "df3.GLU_CAT.value_counts()"
   ]
  },
  {
   "cell_type": "code",
   "execution_count": null,
   "id": "17184686",
   "metadata": {},
   "outputs": [],
   "source": []
  },
  {
   "cell_type": "markdown",
   "id": "bd8dfc15",
   "metadata": {},
   "source": [
    "# BMI 컬럼추가"
   ]
  },
  {
   "cell_type": "code",
   "execution_count": 73,
   "id": "b4940ae8",
   "metadata": {},
   "outputs": [],
   "source": [
    "df4 = df3.copy()"
   ]
  },
  {
   "cell_type": "code",
   "execution_count": 78,
   "id": "f3e9e886",
   "metadata": {},
   "outputs": [
    {
     "data": {
      "text/html": [
       "<div>\n",
       "<style scoped>\n",
       "    .dataframe tbody tr th:only-of-type {\n",
       "        vertical-align: middle;\n",
       "    }\n",
       "\n",
       "    .dataframe tbody tr th {\n",
       "        vertical-align: top;\n",
       "    }\n",
       "\n",
       "    .dataframe thead th {\n",
       "        text-align: right;\n",
       "    }\n",
       "</style>\n",
       "<table border=\"1\" class=\"dataframe\">\n",
       "  <thead>\n",
       "    <tr style=\"text-align: right;\">\n",
       "      <th></th>\n",
       "      <th>HEIGHT</th>\n",
       "      <th>WEIGHT</th>\n",
       "      <th>WAIST</th>\n",
       "      <th>SBP</th>\n",
       "      <th>DBP</th>\n",
       "      <th>GLUCOSE</th>\n",
       "      <th>SMOKING</th>\n",
       "      <th>DRINK</th>\n",
       "      <th>GLU_CAT</th>\n",
       "      <th>BMI</th>\n",
       "    </tr>\n",
       "  </thead>\n",
       "  <tbody>\n",
       "    <tr>\n",
       "      <th>0</th>\n",
       "      <td>165</td>\n",
       "      <td>60</td>\n",
       "      <td>72.1</td>\n",
       "      <td>127.0</td>\n",
       "      <td>79.0</td>\n",
       "      <td>90.0</td>\n",
       "      <td>1.0</td>\n",
       "      <td>0.0</td>\n",
       "      <td>0.0</td>\n",
       "      <td>36.4</td>\n",
       "    </tr>\n",
       "    <tr>\n",
       "      <th>1</th>\n",
       "      <td>185</td>\n",
       "      <td>85</td>\n",
       "      <td>94.0</td>\n",
       "      <td>114.0</td>\n",
       "      <td>72.0</td>\n",
       "      <td>86.0</td>\n",
       "      <td>3.0</td>\n",
       "      <td>1.0</td>\n",
       "      <td>0.0</td>\n",
       "      <td>45.9</td>\n",
       "    </tr>\n",
       "    <tr>\n",
       "      <th>2</th>\n",
       "      <td>165</td>\n",
       "      <td>55</td>\n",
       "      <td>77.5</td>\n",
       "      <td>130.0</td>\n",
       "      <td>70.0</td>\n",
       "      <td>87.0</td>\n",
       "      <td>1.0</td>\n",
       "      <td>0.0</td>\n",
       "      <td>0.0</td>\n",
       "      <td>33.3</td>\n",
       "    </tr>\n",
       "  </tbody>\n",
       "</table>\n",
       "</div>"
      ],
      "text/plain": [
       "   HEIGHT  WEIGHT  WAIST    SBP   DBP  GLUCOSE  SMOKING  DRINK  GLU_CAT   BMI\n",
       "0     165      60   72.1  127.0  79.0     90.0      1.0    0.0      0.0  36.4\n",
       "1     185      85   94.0  114.0  72.0     86.0      3.0    1.0      0.0  45.9\n",
       "2     165      55   77.5  130.0  70.0     87.0      1.0    0.0      0.0  33.3"
      ]
     },
     "execution_count": 78,
     "metadata": {},
     "output_type": "execute_result"
    }
   ],
   "source": [
    "df4['BMI'] = (df4.WEIGHT/(df4.HEIGHT/100)).round(1)\n",
    "df4.head(3)"
   ]
  },
  {
   "cell_type": "code",
   "execution_count": null,
   "id": "e8388e83",
   "metadata": {},
   "outputs": [],
   "source": []
  },
  {
   "cell_type": "markdown",
   "id": "7b20da98",
   "metadata": {},
   "source": [
    "# WHtR 컬럼 추가"
   ]
  },
  {
   "cell_type": "code",
   "execution_count": 181,
   "id": "3c2fedff",
   "metadata": {},
   "outputs": [],
   "source": [
    "df5 = df4.copy()"
   ]
  },
  {
   "cell_type": "code",
   "execution_count": 182,
   "id": "72decc71",
   "metadata": {
    "scrolled": true
   },
   "outputs": [
    {
     "data": {
      "text/html": [
       "<div>\n",
       "<style scoped>\n",
       "    .dataframe tbody tr th:only-of-type {\n",
       "        vertical-align: middle;\n",
       "    }\n",
       "\n",
       "    .dataframe tbody tr th {\n",
       "        vertical-align: top;\n",
       "    }\n",
       "\n",
       "    .dataframe thead th {\n",
       "        text-align: right;\n",
       "    }\n",
       "</style>\n",
       "<table border=\"1\" class=\"dataframe\">\n",
       "  <thead>\n",
       "    <tr style=\"text-align: right;\">\n",
       "      <th></th>\n",
       "      <th>HEIGHT</th>\n",
       "      <th>WEIGHT</th>\n",
       "      <th>WAIST</th>\n",
       "      <th>SBP</th>\n",
       "      <th>DBP</th>\n",
       "      <th>GLUCOSE</th>\n",
       "      <th>SMOKING</th>\n",
       "      <th>DRINK</th>\n",
       "      <th>GLU_CAT</th>\n",
       "      <th>BMI</th>\n",
       "    </tr>\n",
       "  </thead>\n",
       "  <tbody>\n",
       "    <tr>\n",
       "      <th>0</th>\n",
       "      <td>165</td>\n",
       "      <td>60</td>\n",
       "      <td>72.1</td>\n",
       "      <td>127.0</td>\n",
       "      <td>79.0</td>\n",
       "      <td>90.0</td>\n",
       "      <td>1.0</td>\n",
       "      <td>0.0</td>\n",
       "      <td>0.0</td>\n",
       "      <td>36.4</td>\n",
       "    </tr>\n",
       "    <tr>\n",
       "      <th>1</th>\n",
       "      <td>185</td>\n",
       "      <td>85</td>\n",
       "      <td>94.0</td>\n",
       "      <td>114.0</td>\n",
       "      <td>72.0</td>\n",
       "      <td>86.0</td>\n",
       "      <td>3.0</td>\n",
       "      <td>1.0</td>\n",
       "      <td>0.0</td>\n",
       "      <td>45.9</td>\n",
       "    </tr>\n",
       "    <tr>\n",
       "      <th>2</th>\n",
       "      <td>165</td>\n",
       "      <td>55</td>\n",
       "      <td>77.5</td>\n",
       "      <td>130.0</td>\n",
       "      <td>70.0</td>\n",
       "      <td>87.0</td>\n",
       "      <td>1.0</td>\n",
       "      <td>0.0</td>\n",
       "      <td>0.0</td>\n",
       "      <td>33.3</td>\n",
       "    </tr>\n",
       "  </tbody>\n",
       "</table>\n",
       "</div>"
      ],
      "text/plain": [
       "   HEIGHT  WEIGHT  WAIST    SBP   DBP  GLUCOSE  SMOKING  DRINK  GLU_CAT   BMI\n",
       "0     165      60   72.1  127.0  79.0     90.0      1.0    0.0      0.0  36.4\n",
       "1     185      85   94.0  114.0  72.0     86.0      3.0    1.0      0.0  45.9\n",
       "2     165      55   77.5  130.0  70.0     87.0      1.0    0.0      0.0  33.3"
      ]
     },
     "execution_count": 182,
     "metadata": {},
     "output_type": "execute_result"
    }
   ],
   "source": [
    "df5.head(3)"
   ]
  },
  {
   "cell_type": "code",
   "execution_count": 183,
   "id": "bba4aa6a",
   "metadata": {},
   "outputs": [],
   "source": [
    "df5['WHtR'] = (df5.WAIST/df5.HEIGHT).round(3)"
   ]
  },
  {
   "cell_type": "code",
   "execution_count": 184,
   "id": "2b9327e1",
   "metadata": {},
   "outputs": [
    {
     "data": {
      "text/html": [
       "<div>\n",
       "<style scoped>\n",
       "    .dataframe tbody tr th:only-of-type {\n",
       "        vertical-align: middle;\n",
       "    }\n",
       "\n",
       "    .dataframe tbody tr th {\n",
       "        vertical-align: top;\n",
       "    }\n",
       "\n",
       "    .dataframe thead th {\n",
       "        text-align: right;\n",
       "    }\n",
       "</style>\n",
       "<table border=\"1\" class=\"dataframe\">\n",
       "  <thead>\n",
       "    <tr style=\"text-align: right;\">\n",
       "      <th></th>\n",
       "      <th>HEIGHT</th>\n",
       "      <th>WEIGHT</th>\n",
       "      <th>WAIST</th>\n",
       "      <th>SBP</th>\n",
       "      <th>DBP</th>\n",
       "      <th>GLUCOSE</th>\n",
       "      <th>SMOKING</th>\n",
       "      <th>DRINK</th>\n",
       "      <th>GLU_CAT</th>\n",
       "      <th>BMI</th>\n",
       "      <th>WHtR</th>\n",
       "    </tr>\n",
       "  </thead>\n",
       "  <tbody>\n",
       "    <tr>\n",
       "      <th>0</th>\n",
       "      <td>165</td>\n",
       "      <td>60</td>\n",
       "      <td>72.1</td>\n",
       "      <td>127.0</td>\n",
       "      <td>79.0</td>\n",
       "      <td>90.0</td>\n",
       "      <td>1.0</td>\n",
       "      <td>0.0</td>\n",
       "      <td>0.0</td>\n",
       "      <td>36.4</td>\n",
       "      <td>0.437</td>\n",
       "    </tr>\n",
       "    <tr>\n",
       "      <th>1</th>\n",
       "      <td>185</td>\n",
       "      <td>85</td>\n",
       "      <td>94.0</td>\n",
       "      <td>114.0</td>\n",
       "      <td>72.0</td>\n",
       "      <td>86.0</td>\n",
       "      <td>3.0</td>\n",
       "      <td>1.0</td>\n",
       "      <td>0.0</td>\n",
       "      <td>45.9</td>\n",
       "      <td>0.508</td>\n",
       "    </tr>\n",
       "    <tr>\n",
       "      <th>2</th>\n",
       "      <td>165</td>\n",
       "      <td>55</td>\n",
       "      <td>77.5</td>\n",
       "      <td>130.0</td>\n",
       "      <td>70.0</td>\n",
       "      <td>87.0</td>\n",
       "      <td>1.0</td>\n",
       "      <td>0.0</td>\n",
       "      <td>0.0</td>\n",
       "      <td>33.3</td>\n",
       "      <td>0.470</td>\n",
       "    </tr>\n",
       "  </tbody>\n",
       "</table>\n",
       "</div>"
      ],
      "text/plain": [
       "   HEIGHT  WEIGHT  WAIST    SBP   DBP  GLUCOSE  SMOKING  DRINK  GLU_CAT   BMI  \\\n",
       "0     165      60   72.1  127.0  79.0     90.0      1.0    0.0      0.0  36.4   \n",
       "1     185      85   94.0  114.0  72.0     86.0      3.0    1.0      0.0  45.9   \n",
       "2     165      55   77.5  130.0  70.0     87.0      1.0    0.0      0.0  33.3   \n",
       "\n",
       "    WHtR  \n",
       "0  0.437  \n",
       "1  0.508  \n",
       "2  0.470  "
      ]
     },
     "execution_count": 184,
     "metadata": {},
     "output_type": "execute_result"
    }
   ],
   "source": [
    "df5.head(3)"
   ]
  },
  {
   "cell_type": "code",
   "execution_count": null,
   "id": "61c894ad",
   "metadata": {},
   "outputs": [],
   "source": []
  },
  {
   "cell_type": "code",
   "execution_count": null,
   "id": "fcfe1180",
   "metadata": {},
   "outputs": [],
   "source": []
  },
  {
   "cell_type": "markdown",
   "id": "5d0abb75",
   "metadata": {},
   "source": [
    "# 당뇨 단계별 분석"
   ]
  },
  {
   "cell_type": "code",
   "execution_count": 185,
   "id": "46540b00",
   "metadata": {},
   "outputs": [],
   "source": [
    "g1 = df5.groupby(by='GLU_CAT')"
   ]
  },
  {
   "cell_type": "code",
   "execution_count": 186,
   "id": "cce61103",
   "metadata": {},
   "outputs": [
    {
     "data": {
      "text/html": [
       "<div>\n",
       "<style scoped>\n",
       "    .dataframe tbody tr th:only-of-type {\n",
       "        vertical-align: middle;\n",
       "    }\n",
       "\n",
       "    .dataframe tbody tr th {\n",
       "        vertical-align: top;\n",
       "    }\n",
       "\n",
       "    .dataframe thead th {\n",
       "        text-align: right;\n",
       "    }\n",
       "</style>\n",
       "<table border=\"1\" class=\"dataframe\">\n",
       "  <thead>\n",
       "    <tr style=\"text-align: right;\">\n",
       "      <th></th>\n",
       "      <th>HEIGHT</th>\n",
       "      <th>WEIGHT</th>\n",
       "      <th>WAIST</th>\n",
       "      <th>SBP</th>\n",
       "      <th>DBP</th>\n",
       "      <th>GLUCOSE</th>\n",
       "      <th>SMOKING</th>\n",
       "      <th>DRINK</th>\n",
       "      <th>BMI</th>\n",
       "      <th>WHtR</th>\n",
       "    </tr>\n",
       "    <tr>\n",
       "      <th>GLU_CAT</th>\n",
       "      <th></th>\n",
       "      <th></th>\n",
       "      <th></th>\n",
       "      <th></th>\n",
       "      <th></th>\n",
       "      <th></th>\n",
       "      <th></th>\n",
       "      <th></th>\n",
       "      <th></th>\n",
       "      <th></th>\n",
       "    </tr>\n",
       "  </thead>\n",
       "  <tbody>\n",
       "    <tr>\n",
       "      <th>0.0</th>\n",
       "      <td>171.199425</td>\n",
       "      <td>71.981111</td>\n",
       "      <td>84.449169</td>\n",
       "      <td>121.626262</td>\n",
       "      <td>76.991040</td>\n",
       "      <td>90.825327</td>\n",
       "      <td>2.079869</td>\n",
       "      <td>0.836500</td>\n",
       "      <td>42.005631</td>\n",
       "      <td>0.493560</td>\n",
       "    </tr>\n",
       "    <tr>\n",
       "      <th>1.0</th>\n",
       "      <td>171.333883</td>\n",
       "      <td>74.579406</td>\n",
       "      <td>86.269279</td>\n",
       "      <td>124.238077</td>\n",
       "      <td>78.914703</td>\n",
       "      <td>106.909048</td>\n",
       "      <td>2.137182</td>\n",
       "      <td>0.866211</td>\n",
       "      <td>43.488247</td>\n",
       "      <td>0.503803</td>\n",
       "    </tr>\n",
       "    <tr>\n",
       "      <th>2.0</th>\n",
       "      <td>171.200000</td>\n",
       "      <td>76.142857</td>\n",
       "      <td>87.447429</td>\n",
       "      <td>125.640000</td>\n",
       "      <td>79.940000</td>\n",
       "      <td>127.005714</td>\n",
       "      <td>2.254286</td>\n",
       "      <td>0.871429</td>\n",
       "      <td>44.440000</td>\n",
       "      <td>0.511140</td>\n",
       "    </tr>\n",
       "  </tbody>\n",
       "</table>\n",
       "</div>"
      ],
      "text/plain": [
       "             HEIGHT     WEIGHT      WAIST         SBP        DBP     GLUCOSE  \\\n",
       "GLU_CAT                                                                        \n",
       "0.0      171.199425  71.981111  84.449169  121.626262  76.991040   90.825327   \n",
       "1.0      171.333883  74.579406  86.269279  124.238077  78.914703  106.909048   \n",
       "2.0      171.200000  76.142857  87.447429  125.640000  79.940000  127.005714   \n",
       "\n",
       "          SMOKING     DRINK        BMI      WHtR  \n",
       "GLU_CAT                                           \n",
       "0.0      2.079869  0.836500  42.005631  0.493560  \n",
       "1.0      2.137182  0.866211  43.488247  0.503803  \n",
       "2.0      2.254286  0.871429  44.440000  0.511140  "
      ]
     },
     "execution_count": 186,
     "metadata": {},
     "output_type": "execute_result"
    }
   ],
   "source": [
    "g1.mean()"
   ]
  },
  {
   "cell_type": "markdown",
   "id": "fe16b6a0",
   "metadata": {},
   "source": [
    "## 단계별 WHtR 분포"
   ]
  },
  {
   "cell_type": "code",
   "execution_count": 187,
   "id": "cac327d5",
   "metadata": {},
   "outputs": [],
   "source": [
    "rng, bns = (0.35, 0.7), 35\n",
    "li_color = ['b', 'orange', 'r']"
   ]
  },
  {
   "cell_type": "code",
   "execution_count": 188,
   "id": "230b1363",
   "metadata": {},
   "outputs": [
    {
     "data": {
      "image/png": "[encoded data removed]",
      "text/plain": [
       "<Figure size 720x432 with 1 Axes>"
      ]
     },
     "metadata": {
      "needs_background": "light"
     },
     "output_type": "display_data"
    }
   ],
   "source": [
    "fig = plt.figure(figsize=(10, 6))\n",
    "ax = fig.add_subplot(111)\n",
    "\n",
    "for i in range(0, 3):\n",
    "    y, x = np.histogram(g1.get_group(i)['WHtR'])\n",
    "    ax.plot(x[:-1], y/y.sum(), label=f'GLU_CAT : {i}', color=li_color[i], alpha=0.3)\n",
    "    ax.fill_between(x[:-1], 0, y/y.sum(), color=li_color[i], alpha=0.3)\n",
    "    ax.legend()\n",
    "\n",
    "plt.show()"
   ]
  },
  {
   "cell_type": "markdown",
   "id": "243856d9",
   "metadata": {},
   "source": [
    "- 보기 안좋은 모양새"
   ]
  },
  {
   "cell_type": "code",
   "execution_count": null,
   "id": "df1fe9fa",
   "metadata": {},
   "outputs": [],
   "source": []
  },
  {
   "cell_type": "markdown",
   "id": "e63cfc38",
   "metadata": {},
   "source": [
    "# 컬럼별 분석"
   ]
  },
  {
   "cell_type": "code",
   "execution_count": 189,
   "id": "c7f13669",
   "metadata": {},
   "outputs": [
    {
     "data": {
      "text/html": [
       "<div>\n",
       "<style scoped>\n",
       "    .dataframe tbody tr th:only-of-type {\n",
       "        vertical-align: middle;\n",
       "    }\n",
       "\n",
       "    .dataframe tbody tr th {\n",
       "        vertical-align: top;\n",
       "    }\n",
       "\n",
       "    .dataframe thead th {\n",
       "        text-align: right;\n",
       "    }\n",
       "</style>\n",
       "<table border=\"1\" class=\"dataframe\">\n",
       "  <thead>\n",
       "    <tr style=\"text-align: right;\">\n",
       "      <th></th>\n",
       "      <th>HEIGHT</th>\n",
       "      <th>WEIGHT</th>\n",
       "      <th>WAIST</th>\n",
       "      <th>SBP</th>\n",
       "      <th>DBP</th>\n",
       "      <th>GLUCOSE</th>\n",
       "      <th>SMOKING</th>\n",
       "      <th>DRINK</th>\n",
       "      <th>GLU_CAT</th>\n",
       "      <th>BMI</th>\n",
       "      <th>WHtR</th>\n",
       "    </tr>\n",
       "  </thead>\n",
       "  <tbody>\n",
       "    <tr>\n",
       "      <th>0</th>\n",
       "      <td>165</td>\n",
       "      <td>60</td>\n",
       "      <td>72.1</td>\n",
       "      <td>127.0</td>\n",
       "      <td>79.0</td>\n",
       "      <td>90.0</td>\n",
       "      <td>1.0</td>\n",
       "      <td>0.0</td>\n",
       "      <td>0.0</td>\n",
       "      <td>36.4</td>\n",
       "      <td>0.437</td>\n",
       "    </tr>\n",
       "  </tbody>\n",
       "</table>\n",
       "</div>"
      ],
      "text/plain": [
       "   HEIGHT  WEIGHT  WAIST    SBP   DBP  GLUCOSE  SMOKING  DRINK  GLU_CAT   BMI  \\\n",
       "0     165      60   72.1  127.0  79.0     90.0      1.0    0.0      0.0  36.4   \n",
       "\n",
       "    WHtR  \n",
       "0  0.437  "
      ]
     },
     "execution_count": 189,
     "metadata": {},
     "output_type": "execute_result"
    }
   ],
   "source": [
    "df5.head(1)"
   ]
  },
  {
   "cell_type": "markdown",
   "id": "be3d6909",
   "metadata": {},
   "source": [
    "## WHtR"
   ]
  },
  {
   "cell_type": "code",
   "execution_count": 190,
   "id": "23262171",
   "metadata": {},
   "outputs": [
    {
     "data": {
      "text/plain": [
       "<AxesSubplot:>"
      ]
     },
     "execution_count": 190,
     "metadata": {},
     "output_type": "execute_result"
    },
    {
     "data": {
      "image/png": "[encoded data removed]",
      "text/plain": [
       "<Figure size 432x288 with 1 Axes>"
      ]
     },
     "metadata": {
      "needs_background": "light"
     },
     "output_type": "display_data"
    }
   ],
   "source": [
    "df5.WHtR.hist(range=(0.35, 0.7), bins=35)"
   ]
  },
  {
   "cell_type": "code",
   "execution_count": 191,
   "id": "46da8fdb",
   "metadata": {},
   "outputs": [],
   "source": [
    "li_whtr = []"
   ]
  },
  {
   "cell_type": "code",
   "execution_count": 192,
   "id": "d990c476",
   "metadata": {},
   "outputs": [],
   "source": [
    "for i in range(0, 101, 10):\n",
    "    li_whtr.append(np.percentile(df5.WHtR, i))"
   ]
  },
  {
   "cell_type": "code",
   "execution_count": 193,
   "id": "a117111e",
   "metadata": {},
   "outputs": [
    {
     "data": {
      "text/plain": [
       "(11,\n",
       " [0.357, 0.442, 0.461, 0.474, 0.485, 0.496, 0.506, 0.519, 0.533, 0.555, 0.671])"
      ]
     },
     "execution_count": 193,
     "metadata": {},
     "output_type": "execute_result"
    }
   ],
   "source": [
    "len(li_whtr), li_whtr"
   ]
  },
  {
   "cell_type": "markdown",
   "id": "85979edd",
   "metadata": {},
   "source": [
    "### WHtR_CAT 컬럼 추가"
   ]
  },
  {
   "cell_type": "code",
   "execution_count": 194,
   "id": "076e4ed2",
   "metadata": {},
   "outputs": [],
   "source": [
    "df6 = df5.copy()"
   ]
  },
  {
   "cell_type": "code",
   "execution_count": 195,
   "id": "139cbf4f",
   "metadata": {},
   "outputs": [
    {
     "name": "stdout",
     "output_type": "stream",
     "text": [
      "0 : 0.357\n",
      "1 : 0.442\n",
      "2 : 0.461\n",
      "3 : 0.474\n",
      "4 : 0.485\n",
      "5 : 0.496\n",
      "6 : 0.506\n",
      "7 : 0.519\n",
      "8 : 0.533\n",
      "9 : 0.555\n",
      "10 : 0.671\n"
     ]
    }
   ],
   "source": [
    "for i, whtr in enumerate(li_whtr):\n",
    "    print(i, ':', whtr)"
   ]
  },
  {
   "cell_type": "code",
   "execution_count": 201,
   "id": "cdba0c50",
   "metadata": {},
   "outputs": [],
   "source": [
    "def cat_whtr(x):\n",
    "    for i, whtr in enumerate(li_whtr[1:-1]):\n",
    "        if x < whtr:\n",
    "            return i\n",
    "    return i+1"
   ]
  },
  {
   "cell_type": "code",
   "execution_count": 202,
   "id": "6f295b22",
   "metadata": {},
   "outputs": [
    {
     "data": {
      "text/plain": [
       "6    6803\n",
       "4    6233\n",
       "8    6219\n",
       "9    5808\n",
       "2    5806\n",
       "1    5787\n",
       "0    5707\n",
       "7    5538\n",
       "3    5341\n",
       "5    4661\n",
       "Name: WHtR, dtype: int64"
      ]
     },
     "execution_count": 202,
     "metadata": {},
     "output_type": "execute_result"
    }
   ],
   "source": [
    "df6.WHtR.apply(lambda x: cat_whtr(x)).value_counts()"
   ]
  },
  {
   "cell_type": "code",
   "execution_count": 206,
   "id": "8e7d2ef5",
   "metadata": {},
   "outputs": [
    {
     "data": {
      "text/plain": [
       "0"
      ]
     },
     "execution_count": 206,
     "metadata": {},
     "output_type": "execute_result"
    }
   ],
   "source": [
    "df6.WHtR.apply(lambda x: cat_whtr(x)).isna().sum()"
   ]
  },
  {
   "cell_type": "code",
   "execution_count": 207,
   "id": "53a1c2dd",
   "metadata": {},
   "outputs": [],
   "source": [
    "df6['WHtR_CAT'] = df6.WHtR.apply(lambda x: cat_whtr(x))"
   ]
  },
  {
   "cell_type": "code",
   "execution_count": 211,
   "id": "fce46784",
   "metadata": {},
   "outputs": [
    {
     "data": {
      "text/html": [
       "<div>\n",
       "<style scoped>\n",
       "    .dataframe tbody tr th:only-of-type {\n",
       "        vertical-align: middle;\n",
       "    }\n",
       "\n",
       "    .dataframe tbody tr th {\n",
       "        vertical-align: top;\n",
       "    }\n",
       "\n",
       "    .dataframe thead th {\n",
       "        text-align: right;\n",
       "    }\n",
       "</style>\n",
       "<table border=\"1\" class=\"dataframe\">\n",
       "  <thead>\n",
       "    <tr style=\"text-align: right;\">\n",
       "      <th></th>\n",
       "      <th>HEIGHT</th>\n",
       "      <th>WEIGHT</th>\n",
       "      <th>WAIST</th>\n",
       "      <th>SBP</th>\n",
       "      <th>DBP</th>\n",
       "      <th>GLUCOSE</th>\n",
       "      <th>SMOKING</th>\n",
       "      <th>DRINK</th>\n",
       "      <th>GLU_CAT</th>\n",
       "      <th>BMI</th>\n",
       "      <th>WHtR</th>\n",
       "      <th>WHtR_CAT</th>\n",
       "    </tr>\n",
       "  </thead>\n",
       "  <tbody>\n",
       "    <tr>\n",
       "      <th>0</th>\n",
       "      <td>165</td>\n",
       "      <td>60</td>\n",
       "      <td>72.1</td>\n",
       "      <td>127.0</td>\n",
       "      <td>79.0</td>\n",
       "      <td>90.0</td>\n",
       "      <td>1.0</td>\n",
       "      <td>0.0</td>\n",
       "      <td>0.0</td>\n",
       "      <td>36.4</td>\n",
       "      <td>0.437</td>\n",
       "      <td>0</td>\n",
       "    </tr>\n",
       "    <tr>\n",
       "      <th>1</th>\n",
       "      <td>185</td>\n",
       "      <td>85</td>\n",
       "      <td>94.0</td>\n",
       "      <td>114.0</td>\n",
       "      <td>72.0</td>\n",
       "      <td>86.0</td>\n",
       "      <td>3.0</td>\n",
       "      <td>1.0</td>\n",
       "      <td>0.0</td>\n",
       "      <td>45.9</td>\n",
       "      <td>0.508</td>\n",
       "      <td>6</td>\n",
       "    </tr>\n",
       "    <tr>\n",
       "      <th>2</th>\n",
       "      <td>165</td>\n",
       "      <td>55</td>\n",
       "      <td>77.5</td>\n",
       "      <td>130.0</td>\n",
       "      <td>70.0</td>\n",
       "      <td>87.0</td>\n",
       "      <td>1.0</td>\n",
       "      <td>0.0</td>\n",
       "      <td>0.0</td>\n",
       "      <td>33.3</td>\n",
       "      <td>0.470</td>\n",
       "      <td>2</td>\n",
       "    </tr>\n",
       "    <tr>\n",
       "      <th>3</th>\n",
       "      <td>165</td>\n",
       "      <td>75</td>\n",
       "      <td>84.0</td>\n",
       "      <td>139.0</td>\n",
       "      <td>80.0</td>\n",
       "      <td>92.0</td>\n",
       "      <td>2.0</td>\n",
       "      <td>1.0</td>\n",
       "      <td>0.0</td>\n",
       "      <td>45.5</td>\n",
       "      <td>0.509</td>\n",
       "      <td>6</td>\n",
       "    </tr>\n",
       "    <tr>\n",
       "      <th>4</th>\n",
       "      <td>175</td>\n",
       "      <td>70</td>\n",
       "      <td>83.0</td>\n",
       "      <td>110.0</td>\n",
       "      <td>70.0</td>\n",
       "      <td>120.0</td>\n",
       "      <td>3.0</td>\n",
       "      <td>1.0</td>\n",
       "      <td>1.0</td>\n",
       "      <td>40.0</td>\n",
       "      <td>0.474</td>\n",
       "      <td>3</td>\n",
       "    </tr>\n",
       "  </tbody>\n",
       "</table>\n",
       "</div>"
      ],
      "text/plain": [
       "   HEIGHT  WEIGHT  WAIST    SBP   DBP  GLUCOSE  SMOKING  DRINK  GLU_CAT   BMI  \\\n",
       "0     165      60   72.1  127.0  79.0     90.0      1.0    0.0      0.0  36.4   \n",
       "1     185      85   94.0  114.0  72.0     86.0      3.0    1.0      0.0  45.9   \n",
       "2     165      55   77.5  130.0  70.0     87.0      1.0    0.0      0.0  33.3   \n",
       "3     165      75   84.0  139.0  80.0     92.0      2.0    1.0      0.0  45.5   \n",
       "4     175      70   83.0  110.0  70.0    120.0      3.0    1.0      1.0  40.0   \n",
       "\n",
       "    WHtR  WHtR_CAT  \n",
       "0  0.437         0  \n",
       "1  0.508         6  \n",
       "2  0.470         2  \n",
       "3  0.509         6  \n",
       "4  0.474         3  "
      ]
     },
     "execution_count": 211,
     "metadata": {},
     "output_type": "execute_result"
    }
   ],
   "source": [
    "df6.head(5)"
   ]
  },
  {
   "cell_type": "markdown",
   "id": "dd333ebd",
   "metadata": {},
   "source": [
    "### WHtR_CAT 그룹별 값 확인"
   ]
  },
  {
   "cell_type": "code",
   "execution_count": 213,
   "id": "8a622b54",
   "metadata": {},
   "outputs": [],
   "source": [
    "g2 = df6.groupby(by='WHtR_CAT')"
   ]
  },
  {
   "cell_type": "code",
   "execution_count": 217,
   "id": "e5058a75",
   "metadata": {},
   "outputs": [],
   "source": [
    "glu_p_whtr = g2.mean()[['GLUCOSE']]"
   ]
  },
  {
   "cell_type": "code",
   "execution_count": 218,
   "id": "3be981b3",
   "metadata": {},
   "outputs": [
    {
     "data": {
      "text/plain": [
       "[<matplotlib.lines.Line2D at 0x1f8834dd730>]"
      ]
     },
     "execution_count": 218,
     "metadata": {},
     "output_type": "execute_result"
    },
    {
     "data": {
      "image/png": "[encoded data removed]",
      "text/plain": [
       "<Figure size 432x288 with 1 Axes>"
      ]
     },
     "metadata": {
      "needs_background": "light"
     },
     "output_type": "display_data"
    }
   ],
   "source": [
    "plt.plot(glu_p_whtr.index, glu_p_whtr.values)"
   ]
  },
  {
   "cell_type": "code",
   "execution_count": 223,
   "id": "809cd919",
   "metadata": {},
   "outputs": [
    {
     "data": {
      "text/html": [
       "<div>\n",
       "<style scoped>\n",
       "    .dataframe tbody tr th:only-of-type {\n",
       "        vertical-align: middle;\n",
       "    }\n",
       "\n",
       "    .dataframe tbody tr th {\n",
       "        vertical-align: top;\n",
       "    }\n",
       "\n",
       "    .dataframe thead th {\n",
       "        text-align: right;\n",
       "    }\n",
       "</style>\n",
       "<table border=\"1\" class=\"dataframe\">\n",
       "  <thead>\n",
       "    <tr style=\"text-align: right;\">\n",
       "      <th></th>\n",
       "      <th>count</th>\n",
       "      <th>mean</th>\n",
       "      <th>std</th>\n",
       "      <th>min</th>\n",
       "      <th>25%</th>\n",
       "      <th>50%</th>\n",
       "      <th>75%</th>\n",
       "      <th>max</th>\n",
       "    </tr>\n",
       "    <tr>\n",
       "      <th>WHtR_CAT</th>\n",
       "      <th></th>\n",
       "      <th></th>\n",
       "      <th></th>\n",
       "      <th></th>\n",
       "      <th></th>\n",
       "      <th></th>\n",
       "      <th></th>\n",
       "      <th></th>\n",
       "    </tr>\n",
       "  </thead>\n",
       "  <tbody>\n",
       "    <tr>\n",
       "      <th>0</th>\n",
       "      <td>5707.0</td>\n",
       "      <td>94.377256</td>\n",
       "      <td>9.741603</td>\n",
       "      <td>69.0</td>\n",
       "      <td>88.0</td>\n",
       "      <td>94.0</td>\n",
       "      <td>100.0</td>\n",
       "      <td>128.0</td>\n",
       "    </tr>\n",
       "    <tr>\n",
       "      <th>1</th>\n",
       "      <td>5787.0</td>\n",
       "      <td>95.470710</td>\n",
       "      <td>9.816954</td>\n",
       "      <td>69.0</td>\n",
       "      <td>89.0</td>\n",
       "      <td>95.0</td>\n",
       "      <td>101.0</td>\n",
       "      <td>128.0</td>\n",
       "    </tr>\n",
       "    <tr>\n",
       "      <th>2</th>\n",
       "      <td>5806.0</td>\n",
       "      <td>95.917499</td>\n",
       "      <td>9.916373</td>\n",
       "      <td>69.0</td>\n",
       "      <td>89.0</td>\n",
       "      <td>95.0</td>\n",
       "      <td>102.0</td>\n",
       "      <td>128.0</td>\n",
       "    </tr>\n",
       "    <tr>\n",
       "      <th>3</th>\n",
       "      <td>5341.0</td>\n",
       "      <td>96.494102</td>\n",
       "      <td>9.852062</td>\n",
       "      <td>69.0</td>\n",
       "      <td>90.0</td>\n",
       "      <td>96.0</td>\n",
       "      <td>102.0</td>\n",
       "      <td>128.0</td>\n",
       "    </tr>\n",
       "    <tr>\n",
       "      <th>4</th>\n",
       "      <td>6233.0</td>\n",
       "      <td>96.858174</td>\n",
       "      <td>9.936033</td>\n",
       "      <td>69.0</td>\n",
       "      <td>90.0</td>\n",
       "      <td>96.0</td>\n",
       "      <td>103.0</td>\n",
       "      <td>128.0</td>\n",
       "    </tr>\n",
       "    <tr>\n",
       "      <th>5</th>\n",
       "      <td>4661.0</td>\n",
       "      <td>97.377601</td>\n",
       "      <td>10.059239</td>\n",
       "      <td>69.0</td>\n",
       "      <td>91.0</td>\n",
       "      <td>97.0</td>\n",
       "      <td>104.0</td>\n",
       "      <td>128.0</td>\n",
       "    </tr>\n",
       "    <tr>\n",
       "      <th>6</th>\n",
       "      <td>6803.0</td>\n",
       "      <td>97.743496</td>\n",
       "      <td>10.291313</td>\n",
       "      <td>69.0</td>\n",
       "      <td>91.0</td>\n",
       "      <td>97.0</td>\n",
       "      <td>104.0</td>\n",
       "      <td>128.0</td>\n",
       "    </tr>\n",
       "    <tr>\n",
       "      <th>7</th>\n",
       "      <td>5538.0</td>\n",
       "      <td>98.166486</td>\n",
       "      <td>10.352349</td>\n",
       "      <td>69.0</td>\n",
       "      <td>91.0</td>\n",
       "      <td>98.0</td>\n",
       "      <td>105.0</td>\n",
       "      <td>128.0</td>\n",
       "    </tr>\n",
       "    <tr>\n",
       "      <th>8</th>\n",
       "      <td>6219.0</td>\n",
       "      <td>98.481910</td>\n",
       "      <td>10.301507</td>\n",
       "      <td>69.0</td>\n",
       "      <td>92.0</td>\n",
       "      <td>98.0</td>\n",
       "      <td>105.0</td>\n",
       "      <td>128.0</td>\n",
       "    </tr>\n",
       "    <tr>\n",
       "      <th>9</th>\n",
       "      <td>5808.0</td>\n",
       "      <td>99.336260</td>\n",
       "      <td>10.769277</td>\n",
       "      <td>69.0</td>\n",
       "      <td>92.0</td>\n",
       "      <td>99.0</td>\n",
       "      <td>106.0</td>\n",
       "      <td>128.0</td>\n",
       "    </tr>\n",
       "  </tbody>\n",
       "</table>\n",
       "</div>"
      ],
      "text/plain": [
       "           count       mean        std   min   25%   50%    75%    max\n",
       "WHtR_CAT                                                              \n",
       "0         5707.0  94.377256   9.741603  69.0  88.0  94.0  100.0  128.0\n",
       "1         5787.0  95.470710   9.816954  69.0  89.0  95.0  101.0  128.0\n",
       "2         5806.0  95.917499   9.916373  69.0  89.0  95.0  102.0  128.0\n",
       "3         5341.0  96.494102   9.852062  69.0  90.0  96.0  102.0  128.0\n",
       "4         6233.0  96.858174   9.936033  69.0  90.0  96.0  103.0  128.0\n",
       "5         4661.0  97.377601  10.059239  69.0  91.0  97.0  104.0  128.0\n",
       "6         6803.0  97.743496  10.291313  69.0  91.0  97.0  104.0  128.0\n",
       "7         5538.0  98.166486  10.352349  69.0  91.0  98.0  105.0  128.0\n",
       "8         6219.0  98.481910  10.301507  69.0  92.0  98.0  105.0  128.0\n",
       "9         5808.0  99.336260  10.769277  69.0  92.0  99.0  106.0  128.0"
      ]
     },
     "execution_count": 223,
     "metadata": {},
     "output_type": "execute_result"
    }
   ],
   "source": [
    "g2.describe().GLUCOSE"
   ]
  },
  {
   "cell_type": "markdown",
   "id": "32b61ee4",
   "metadata": {},
   "source": [
    "### WHtR_CAT2 컬럼 추가"
   ]
  },
  {
   "cell_type": "code",
   "execution_count": 225,
   "id": "db0f5f45",
   "metadata": {},
   "outputs": [],
   "source": [
    "df7 = df6.copy()"
   ]
  },
  {
   "cell_type": "code",
   "execution_count": 224,
   "id": "e1716cc9",
   "metadata": {},
   "outputs": [],
   "source": [
    "li_wcat = [0.43, 0.531, 0.58] # 저체중/ 정상/ 과체중/ 비만"
   ]
  },
  {
   "cell_type": "code",
   "execution_count": 226,
   "id": "8a9bfd6f",
   "metadata": {},
   "outputs": [],
   "source": [
    "def cat_whtr2(x):\n",
    "    for i, whtr in enumerate(li_wcat):\n",
    "        if x < whtr:\n",
    "            return i\n",
    "    return i+1"
   ]
  },
  {
   "cell_type": "code",
   "execution_count": 229,
   "id": "ce93e5c7",
   "metadata": {},
   "outputs": [
    {
     "data": {
      "text/plain": [
       "1    41830\n",
       "2    10450\n",
       "0     3378\n",
       "3     2245\n",
       "Name: WHtR, dtype: int64"
      ]
     },
     "execution_count": 229,
     "metadata": {},
     "output_type": "execute_result"
    }
   ],
   "source": [
    "df7.WHtR.apply(lambda x : cat_whtr2(x)).value_counts()"
   ]
  },
  {
   "cell_type": "code",
   "execution_count": 231,
   "id": "3b35f182",
   "metadata": {},
   "outputs": [],
   "source": [
    "df7['WHtR_CAT2'] = df7.WHtR.apply(lambda x : cat_whtr2(x))"
   ]
  },
  {
   "cell_type": "code",
   "execution_count": 232,
   "id": "8a8f78b5",
   "metadata": {},
   "outputs": [
    {
     "data": {
      "text/html": [
       "<div>\n",
       "<style scoped>\n",
       "    .dataframe tbody tr th:only-of-type {\n",
       "        vertical-align: middle;\n",
       "    }\n",
       "\n",
       "    .dataframe tbody tr th {\n",
       "        vertical-align: top;\n",
       "    }\n",
       "\n",
       "    .dataframe thead th {\n",
       "        text-align: right;\n",
       "    }\n",
       "</style>\n",
       "<table border=\"1\" class=\"dataframe\">\n",
       "  <thead>\n",
       "    <tr style=\"text-align: right;\">\n",
       "      <th></th>\n",
       "      <th>HEIGHT</th>\n",
       "      <th>WEIGHT</th>\n",
       "      <th>WAIST</th>\n",
       "      <th>SBP</th>\n",
       "      <th>DBP</th>\n",
       "      <th>GLUCOSE</th>\n",
       "      <th>SMOKING</th>\n",
       "      <th>DRINK</th>\n",
       "      <th>GLU_CAT</th>\n",
       "      <th>BMI</th>\n",
       "      <th>WHtR</th>\n",
       "      <th>WHtR_CAT</th>\n",
       "      <th>WHtR_CAT2</th>\n",
       "    </tr>\n",
       "  </thead>\n",
       "  <tbody>\n",
       "    <tr>\n",
       "      <th>0</th>\n",
       "      <td>165</td>\n",
       "      <td>60</td>\n",
       "      <td>72.1</td>\n",
       "      <td>127.0</td>\n",
       "      <td>79.0</td>\n",
       "      <td>90.0</td>\n",
       "      <td>1.0</td>\n",
       "      <td>0.0</td>\n",
       "      <td>0.0</td>\n",
       "      <td>36.4</td>\n",
       "      <td>0.437</td>\n",
       "      <td>0</td>\n",
       "      <td>1</td>\n",
       "    </tr>\n",
       "    <tr>\n",
       "      <th>1</th>\n",
       "      <td>185</td>\n",
       "      <td>85</td>\n",
       "      <td>94.0</td>\n",
       "      <td>114.0</td>\n",
       "      <td>72.0</td>\n",
       "      <td>86.0</td>\n",
       "      <td>3.0</td>\n",
       "      <td>1.0</td>\n",
       "      <td>0.0</td>\n",
       "      <td>45.9</td>\n",
       "      <td>0.508</td>\n",
       "      <td>6</td>\n",
       "      <td>1</td>\n",
       "    </tr>\n",
       "  </tbody>\n",
       "</table>\n",
       "</div>"
      ],
      "text/plain": [
       "   HEIGHT  WEIGHT  WAIST    SBP   DBP  GLUCOSE  SMOKING  DRINK  GLU_CAT   BMI  \\\n",
       "0     165      60   72.1  127.0  79.0     90.0      1.0    0.0      0.0  36.4   \n",
       "1     185      85   94.0  114.0  72.0     86.0      3.0    1.0      0.0  45.9   \n",
       "\n",
       "    WHtR  WHtR_CAT  WHtR_CAT2  \n",
       "0  0.437         0          1  \n",
       "1  0.508         6          1  "
      ]
     },
     "execution_count": 232,
     "metadata": {},
     "output_type": "execute_result"
    }
   ],
   "source": [
    "df7.head(2)"
   ]
  },
  {
   "cell_type": "code",
   "execution_count": null,
   "id": "b9139cb3",
   "metadata": {},
   "outputs": [],
   "source": []
  },
  {
   "cell_type": "markdown",
   "id": "45e4940b",
   "metadata": {},
   "source": [
    "### WHtR_CAT2 그룹별 값 확인"
   ]
  },
  {
   "cell_type": "code",
   "execution_count": 233,
   "id": "c1a90785",
   "metadata": {},
   "outputs": [],
   "source": [
    "g3 = df7.groupby(by='WHtR_CAT2')"
   ]
  },
  {
   "cell_type": "code",
   "execution_count": 234,
   "id": "3abd875d",
   "metadata": {},
   "outputs": [
    {
     "data": {
      "text/html": [
       "<div>\n",
       "<style scoped>\n",
       "    .dataframe tbody tr th:only-of-type {\n",
       "        vertical-align: middle;\n",
       "    }\n",
       "\n",
       "    .dataframe tbody tr th {\n",
       "        vertical-align: top;\n",
       "    }\n",
       "\n",
       "    .dataframe thead th {\n",
       "        text-align: right;\n",
       "    }\n",
       "</style>\n",
       "<table border=\"1\" class=\"dataframe\">\n",
       "  <thead>\n",
       "    <tr style=\"text-align: right;\">\n",
       "      <th></th>\n",
       "      <th>count</th>\n",
       "      <th>mean</th>\n",
       "      <th>std</th>\n",
       "      <th>min</th>\n",
       "      <th>25%</th>\n",
       "      <th>50%</th>\n",
       "      <th>75%</th>\n",
       "      <th>max</th>\n",
       "    </tr>\n",
       "    <tr>\n",
       "      <th>WHtR_CAT2</th>\n",
       "      <th></th>\n",
       "      <th></th>\n",
       "      <th></th>\n",
       "      <th></th>\n",
       "      <th></th>\n",
       "      <th></th>\n",
       "      <th></th>\n",
       "      <th></th>\n",
       "    </tr>\n",
       "  </thead>\n",
       "  <tbody>\n",
       "    <tr>\n",
       "      <th>0</th>\n",
       "      <td>3378.0</td>\n",
       "      <td>94.191533</td>\n",
       "      <td>9.728154</td>\n",
       "      <td>69.0</td>\n",
       "      <td>88.0</td>\n",
       "      <td>94.0</td>\n",
       "      <td>100.0</td>\n",
       "      <td>128.0</td>\n",
       "    </tr>\n",
       "    <tr>\n",
       "      <th>1</th>\n",
       "      <td>41830.0</td>\n",
       "      <td>96.717452</td>\n",
       "      <td>10.064462</td>\n",
       "      <td>69.0</td>\n",
       "      <td>90.0</td>\n",
       "      <td>96.0</td>\n",
       "      <td>103.0</td>\n",
       "      <td>128.0</td>\n",
       "    </tr>\n",
       "    <tr>\n",
       "      <th>2</th>\n",
       "      <td>10450.0</td>\n",
       "      <td>98.688038</td>\n",
       "      <td>10.480982</td>\n",
       "      <td>69.0</td>\n",
       "      <td>92.0</td>\n",
       "      <td>98.0</td>\n",
       "      <td>105.0</td>\n",
       "      <td>128.0</td>\n",
       "    </tr>\n",
       "    <tr>\n",
       "      <th>3</th>\n",
       "      <td>2245.0</td>\n",
       "      <td>99.690423</td>\n",
       "      <td>10.767554</td>\n",
       "      <td>69.0</td>\n",
       "      <td>92.0</td>\n",
       "      <td>99.0</td>\n",
       "      <td>107.0</td>\n",
       "      <td>128.0</td>\n",
       "    </tr>\n",
       "  </tbody>\n",
       "</table>\n",
       "</div>"
      ],
      "text/plain": [
       "             count       mean        std   min   25%   50%    75%    max\n",
       "WHtR_CAT2                                                               \n",
       "0           3378.0  94.191533   9.728154  69.0  88.0  94.0  100.0  128.0\n",
       "1          41830.0  96.717452  10.064462  69.0  90.0  96.0  103.0  128.0\n",
       "2          10450.0  98.688038  10.480982  69.0  92.0  98.0  105.0  128.0\n",
       "3           2245.0  99.690423  10.767554  69.0  92.0  99.0  107.0  128.0"
      ]
     },
     "execution_count": 234,
     "metadata": {},
     "output_type": "execute_result"
    }
   ],
   "source": [
    "g3.describe().GLUCOSE"
   ]
  },
  {
   "cell_type": "code",
   "execution_count": 336,
   "id": "eff010cd",
   "metadata": {},
   "outputs": [
    {
     "data": {
      "image/png": "[encoded data removed]",
      "text/plain": [
       "<Figure size 432x288 with 1 Axes>"
      ]
     },
     "metadata": {
      "needs_background": "light"
     },
     "output_type": "display_data"
    }
   ],
   "source": [
    "db_stage = 1\n",
    "li_db_r = []\n",
    "\n",
    "for whtr_stage in range(0, 4):\n",
    "    vc = g3.get_group(whtr_stage).GLU_CAT.value_counts()\n",
    "    p = round(vc[db_stage]/vc.sum()*100)\n",
    "    li_db_r.append(p)\n",
    "    \n",
    "# plt.bar(g3.indices.keys(), li_db_r)\n",
    "plt.bar('저체중 정상 과체중 비만'.split(' '), li_db_r)\n",
    "for i in range(4):\n",
    "    plt.text(i-0.1, li_db_r[i]+0.2, f'{li_db_r[i]}')\n",
    "plt.ylim(20, 50)\n",
    "# plt.xticks([0, 1, 2, 3])\n",
    "plt.xlabel('허리둘레 신장 비율')\n",
    "plt.ylabel('당뇨 전단계 비율')\n",
    "\n",
    "plt.show()"
   ]
  },
  {
   "cell_type": "code",
   "execution_count": 346,
   "id": "35b0d288",
   "metadata": {},
   "outputs": [
    {
     "data": {
      "image/png": "[encoded data removed]",
      "text/plain": [
       "<Figure size 432x288 with 1 Axes>"
      ]
     },
     "metadata": {
      "needs_background": "light"
     },
     "output_type": "display_data"
    }
   ],
   "source": [
    "db_stage = 2\n",
    "li_db_r = []\n",
    "\n",
    "for whtr_stage in range(0, 4):\n",
    "    vc = g3.get_group(whtr_stage).GLU_CAT.value_counts()\n",
    "    p = round(vc[db_stage]/vc.sum(), 3)*100\n",
    "    li_db_r.append(p)\n",
    "\n",
    "plt.bar('저체중 정상 과체중 비만'.split(' '), li_db_r)\n",
    "for i in range(4):\n",
    "    plt.text(i-0.1, li_db_r[i]+0.01, f'{li_db_r[i]}')\n",
    "plt.ylim(0.2, 1.1)\n",
    "# plt.xticks([0, 1, 2, 3])\n",
    "plt.xlabel('허리둘레 신장 비율')\n",
    "plt.ylabel('당뇨 비율')\n",
    "\n",
    "plt.show()"
   ]
  },
  {
   "cell_type": "code",
   "execution_count": null,
   "id": "a4ad169c",
   "metadata": {},
   "outputs": [],
   "source": []
  },
  {
   "cell_type": "code",
   "execution_count": null,
   "id": "6e4bcfb3",
   "metadata": {},
   "outputs": [],
   "source": []
  },
  {
   "cell_type": "code",
   "execution_count": null,
   "id": "baf3cb52",
   "metadata": {},
   "outputs": [],
   "source": []
  },
  {
   "cell_type": "code",
   "execution_count": 351,
   "id": "64764307",
   "metadata": {},
   "outputs": [
    {
     "data": {
      "image/png": "[encoded data removed]",
      "text/plain": [
       "<Figure size 720x432 with 2 Axes>"
      ]
     },
     "metadata": {
      "needs_background": "light"
     },
     "output_type": "display_data"
    }
   ],
   "source": [
    "# ====== 전단계 ====== #\n",
    "\n",
    "db_stage = 1\n",
    "li_db_r = []\n",
    "for whtr_stage in range(0, 4):\n",
    "    vc = g3.get_group(whtr_stage).GLU_CAT.value_counts()\n",
    "    p = round(vc[db_stage]/vc.sum()*100)\n",
    "    li_db_r.append(p)\n",
    "\n",
    "fig = plt.figure(figsize=(10, 6))\n",
    "ax = fig.add_subplot(111)    \n",
    "    \n",
    "ax.plot('저체중 정상 과체중 비만'.split(' '), li_db_r, color='blue')\n",
    "for i in range(4):\n",
    "    ax.text(i-0.1, li_db_r[i]+0.3, f'{li_db_r[i]}')\n",
    "ax.set_ylim(20, 50)\n",
    "\n",
    "ax.set_xlabel('허리둘레 신장 비율')\n",
    "ax.set_ylabel('당뇨 전단계 비율')\n",
    "\n",
    "\n",
    "# ====== 당뇨 ====== #\n",
    "\n",
    "ax2 = ax.twinx()\n",
    "\n",
    "db_stage = 2\n",
    "li_db_r = []\n",
    "\n",
    "for whtr_stage in range(0, 4):\n",
    "    vc = g3.get_group(whtr_stage).GLU_CAT.value_counts()\n",
    "    p = round(vc[db_stage]/vc.sum(), 3)*100\n",
    "    li_db_r.append(p)\n",
    "\n",
    "ax2.plot('저체중 정상 과체중 비만'.split(' '), li_db_r, color='red')\n",
    "for i in range(4):\n",
    "    ax2.text(i-0.1, li_db_r[i]+0.01, f'{li_db_r[i]}')\n",
    "ax2.set_ylim(0.2, 1.1)\n",
    "\n",
    "ax2.set_ylabel('당뇨 비율')\n",
    "\n",
    "plt.show()"
   ]
  },
  {
   "cell_type": "code",
   "execution_count": null,
   "id": "a0bf51f1",
   "metadata": {},
   "outputs": [],
   "source": []
  },
  {
   "cell_type": "code",
   "execution_count": null,
   "id": "22e4b3f4",
   "metadata": {},
   "outputs": [],
   "source": []
  },
  {
   "cell_type": "code",
   "execution_count": null,
   "id": "2538345b",
   "metadata": {},
   "outputs": [],
   "source": []
  },
  {
   "cell_type": "code",
   "execution_count": null,
   "id": "b216ef2a",
   "metadata": {},
   "outputs": [],
   "source": []
  },
  {
   "cell_type": "code",
   "execution_count": null,
   "id": "6152a6e9",
   "metadata": {},
   "outputs": [],
   "source": []
  },
  {
   "cell_type": "markdown",
   "id": "83b933f6",
   "metadata": {},
   "source": [
    "## SMOKING"
   ]
  },
  {
   "cell_type": "markdown",
   "id": "d2539e0d",
   "metadata": {},
   "source": [
    "## DRINK"
   ]
  },
  {
   "cell_type": "markdown",
   "id": "7949cfd4",
   "metadata": {},
   "source": [
    "## 그외"
   ]
  },
  {
   "cell_type": "code",
   "execution_count": null,
   "id": "57e3f86a",
   "metadata": {},
   "outputs": [],
   "source": []
  },
  {
   "cell_type": "code",
   "execution_count": null,
   "id": "67685744",
   "metadata": {},
   "outputs": [],
   "source": []
  }
 ],
 "metadata": {
  "kernelspec": {
   "display_name": "Python 3 (ipykernel)",
   "language": "python",
   "name": "python3"
  },
  "language_info": {
   "codemirror_mode": {
    "name": "ipython",
    "version": 3
   },
   "file_extension": ".py",
   "mimetype": "text/x-python",
   "name": "python",
   "nbconvert_exporter": "python",
   "pygments_lexer": "ipython3",
   "version": "3.8.13"
  },
  "toc": {
   "base_numbering": 1,
   "nav_menu": {},
   "number_sections": true,
   "sideBar": true,
   "skip_h1_title": false,
   "title_cell": "Table of Contents",
   "title_sidebar": "Contents",
   "toc_cell": false,
   "toc_position": {
    "height": "calc(100% - 180px)",
    "left": "10px",
    "top": "150px",
    "width": "178.821px"
   },
   "toc_section_display": true,
   "toc_window_display": true
  }
 },
 "nbformat": 4,
 "nbformat_minor": 5
}
