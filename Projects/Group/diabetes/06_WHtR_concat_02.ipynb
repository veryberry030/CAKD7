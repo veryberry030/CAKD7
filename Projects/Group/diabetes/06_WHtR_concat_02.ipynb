{
 "cells": [
  {
   "cell_type": "markdown",
   "id": "90f1b1e5",
   "metadata": {},
   "source": [
    "## import"
   ]
  },
  {
   "cell_type": "code",
   "execution_count": 1,
   "id": "dcb583ad",
   "metadata": {},
   "outputs": [],
   "source": [
    "import numpy as np\n",
    "import pandas as pd\n",
    "import matplotlib.pyplot as plt\n",
    "import seaborn as sns"
   ]
  },
  {
   "cell_type": "code",
   "execution_count": 2,
   "id": "069f56b2",
   "metadata": {},
   "outputs": [],
   "source": [
    "from matplotlib import rc\n",
    "rc('font', family='Malgun Gothic') # 한글 폰트\n",
    "plt.rcParams['axes.unicode_minus'] = False # 마이너스 부호출력 설정"
   ]
  },
  {
   "cell_type": "markdown",
   "id": "125543b7",
   "metadata": {},
   "source": [
    "# 불러오기"
   ]
  },
  {
   "cell_type": "code",
   "execution_count": 3,
   "id": "e2a2bb9a",
   "metadata": {},
   "outputs": [],
   "source": [
    "df = pd.read_pickle('./WHtR_concat/01/reduction_03.pkl')"
   ]
  },
  {
   "cell_type": "code",
   "execution_count": 4,
   "id": "4ecf2883",
   "metadata": {},
   "outputs": [
    {
     "data": {
      "text/html": [
       "<div>\n",
       "<style scoped>\n",
       "    .dataframe tbody tr th:only-of-type {\n",
       "        vertical-align: middle;\n",
       "    }\n",
       "\n",
       "    .dataframe tbody tr th {\n",
       "        vertical-align: top;\n",
       "    }\n",
       "\n",
       "    .dataframe thead th {\n",
       "        text-align: right;\n",
       "    }\n",
       "</style>\n",
       "<table border=\"1\" class=\"dataframe\">\n",
       "  <thead>\n",
       "    <tr style=\"text-align: right;\">\n",
       "      <th></th>\n",
       "      <th>신장(5Cm단위)</th>\n",
       "      <th>체중(5Kg 단위)</th>\n",
       "      <th>허리둘레</th>\n",
       "      <th>시력(좌)</th>\n",
       "      <th>시력(우)</th>\n",
       "      <th>수축기 혈압</th>\n",
       "      <th>이완기 혈압</th>\n",
       "      <th>식전혈당(공복혈당)</th>\n",
       "      <th>혈청크레아티닌</th>\n",
       "      <th>(혈청지오티)AST</th>\n",
       "      <th>(혈청지오티)ALT</th>\n",
       "      <th>감마 지티피</th>\n",
       "      <th>흡연상태</th>\n",
       "      <th>음주여부</th>\n",
       "    </tr>\n",
       "  </thead>\n",
       "  <tbody>\n",
       "    <tr>\n",
       "      <th>0</th>\n",
       "      <td>165</td>\n",
       "      <td>60</td>\n",
       "      <td>72.1</td>\n",
       "      <td>1.2</td>\n",
       "      <td>1.5</td>\n",
       "      <td>127.0</td>\n",
       "      <td>79.0</td>\n",
       "      <td>90.0</td>\n",
       "      <td>1.1</td>\n",
       "      <td>21.0</td>\n",
       "      <td>27.0</td>\n",
       "      <td>21.0</td>\n",
       "      <td>1.0</td>\n",
       "      <td>0.0</td>\n",
       "    </tr>\n",
       "    <tr>\n",
       "      <th>1</th>\n",
       "      <td>185</td>\n",
       "      <td>85</td>\n",
       "      <td>94.0</td>\n",
       "      <td>1.2</td>\n",
       "      <td>1.2</td>\n",
       "      <td>114.0</td>\n",
       "      <td>72.0</td>\n",
       "      <td>86.0</td>\n",
       "      <td>1.1</td>\n",
       "      <td>25.0</td>\n",
       "      <td>32.0</td>\n",
       "      <td>26.0</td>\n",
       "      <td>3.0</td>\n",
       "      <td>1.0</td>\n",
       "    </tr>\n",
       "    <tr>\n",
       "      <th>2</th>\n",
       "      <td>165</td>\n",
       "      <td>55</td>\n",
       "      <td>77.5</td>\n",
       "      <td>1.5</td>\n",
       "      <td>1.5</td>\n",
       "      <td>130.0</td>\n",
       "      <td>70.0</td>\n",
       "      <td>87.0</td>\n",
       "      <td>0.9</td>\n",
       "      <td>18.0</td>\n",
       "      <td>10.0</td>\n",
       "      <td>15.0</td>\n",
       "      <td>1.0</td>\n",
       "      <td>0.0</td>\n",
       "    </tr>\n",
       "    <tr>\n",
       "      <th>3</th>\n",
       "      <td>165</td>\n",
       "      <td>75</td>\n",
       "      <td>84.0</td>\n",
       "      <td>1.0</td>\n",
       "      <td>1.0</td>\n",
       "      <td>139.0</td>\n",
       "      <td>80.0</td>\n",
       "      <td>92.0</td>\n",
       "      <td>0.9</td>\n",
       "      <td>27.0</td>\n",
       "      <td>30.0</td>\n",
       "      <td>25.0</td>\n",
       "      <td>2.0</td>\n",
       "      <td>1.0</td>\n",
       "    </tr>\n",
       "    <tr>\n",
       "      <th>4</th>\n",
       "      <td>175</td>\n",
       "      <td>70</td>\n",
       "      <td>83.0</td>\n",
       "      <td>0.9</td>\n",
       "      <td>1.2</td>\n",
       "      <td>110.0</td>\n",
       "      <td>70.0</td>\n",
       "      <td>120.0</td>\n",
       "      <td>0.8</td>\n",
       "      <td>19.0</td>\n",
       "      <td>14.0</td>\n",
       "      <td>25.0</td>\n",
       "      <td>3.0</td>\n",
       "      <td>1.0</td>\n",
       "    </tr>\n",
       "  </tbody>\n",
       "</table>\n",
       "</div>"
      ],
      "text/plain": [
       "   신장(5Cm단위)  체중(5Kg 단위)  허리둘레  시력(좌)  시력(우)  수축기 혈압  이완기 혈압  식전혈당(공복혈당)  \\\n",
       "0        165          60  72.1    1.2    1.5   127.0    79.0        90.0   \n",
       "1        185          85  94.0    1.2    1.2   114.0    72.0        86.0   \n",
       "2        165          55  77.5    1.5    1.5   130.0    70.0        87.0   \n",
       "3        165          75  84.0    1.0    1.0   139.0    80.0        92.0   \n",
       "4        175          70  83.0    0.9    1.2   110.0    70.0       120.0   \n",
       "\n",
       "   혈청크레아티닌  (혈청지오티)AST  (혈청지오티)ALT  감마 지티피  흡연상태  음주여부  \n",
       "0      1.1        21.0        27.0    21.0   1.0   0.0  \n",
       "1      1.1        25.0        32.0    26.0   3.0   1.0  \n",
       "2      0.9        18.0        10.0    15.0   1.0   0.0  \n",
       "3      0.9        27.0        30.0    25.0   2.0   1.0  \n",
       "4      0.8        19.0        14.0    25.0   3.0   1.0  "
      ]
     },
     "execution_count": 4,
     "metadata": {},
     "output_type": "execute_result"
    }
   ],
   "source": [
    "df.head()"
   ]
  },
  {
   "cell_type": "code",
   "execution_count": 5,
   "id": "e3fe76c9",
   "metadata": {},
   "outputs": [
    {
     "name": "stdout",
     "output_type": "stream",
     "text": [
      "<class 'pandas.core.frame.DataFrame'>\n",
      "RangeIndex: 57903 entries, 0 to 57902\n",
      "Data columns (total 14 columns):\n",
      " #   Column      Non-Null Count  Dtype  \n",
      "---  ------      --------------  -----  \n",
      " 0   신장(5Cm단위)   57903 non-null  int64  \n",
      " 1   체중(5Kg 단위)  57903 non-null  int64  \n",
      " 2   허리둘레        57903 non-null  float64\n",
      " 3   시력(좌)       57903 non-null  float64\n",
      " 4   시력(우)       57903 non-null  float64\n",
      " 5   수축기 혈압      57903 non-null  float64\n",
      " 6   이완기 혈압      57903 non-null  float64\n",
      " 7   식전혈당(공복혈당)  57903 non-null  float64\n",
      " 8   혈청크레아티닌     57903 non-null  float64\n",
      " 9   (혈청지오티)AST  57903 non-null  float64\n",
      " 10  (혈청지오티)ALT  57903 non-null  float64\n",
      " 11  감마 지티피      57903 non-null  float64\n",
      " 12  흡연상태        57903 non-null  float64\n",
      " 13  음주여부        57903 non-null  float64\n",
      "dtypes: float64(12), int64(2)\n",
      "memory usage: 6.2 MB\n"
     ]
    }
   ],
   "source": [
    "df.info()"
   ]
  },
  {
   "cell_type": "code",
   "execution_count": 6,
   "id": "a3406061",
   "metadata": {},
   "outputs": [],
   "source": [
    "df1 = df.copy()"
   ]
  },
  {
   "cell_type": "code",
   "execution_count": 7,
   "id": "ba2d5054",
   "metadata": {},
   "outputs": [
    {
     "data": {
      "text/html": [
       "<div>\n",
       "<style scoped>\n",
       "    .dataframe tbody tr th:only-of-type {\n",
       "        vertical-align: middle;\n",
       "    }\n",
       "\n",
       "    .dataframe tbody tr th {\n",
       "        vertical-align: top;\n",
       "    }\n",
       "\n",
       "    .dataframe thead th {\n",
       "        text-align: right;\n",
       "    }\n",
       "</style>\n",
       "<table border=\"1\" class=\"dataframe\">\n",
       "  <thead>\n",
       "    <tr style=\"text-align: right;\">\n",
       "      <th></th>\n",
       "      <th>신장(5Cm단위)</th>\n",
       "      <th>체중(5Kg 단위)</th>\n",
       "      <th>허리둘레</th>\n",
       "      <th>시력(좌)</th>\n",
       "      <th>시력(우)</th>\n",
       "      <th>수축기 혈압</th>\n",
       "      <th>이완기 혈압</th>\n",
       "      <th>식전혈당(공복혈당)</th>\n",
       "      <th>혈청크레아티닌</th>\n",
       "      <th>(혈청지오티)AST</th>\n",
       "      <th>(혈청지오티)ALT</th>\n",
       "      <th>감마 지티피</th>\n",
       "      <th>흡연상태</th>\n",
       "      <th>음주여부</th>\n",
       "    </tr>\n",
       "  </thead>\n",
       "  <tbody>\n",
       "    <tr>\n",
       "      <th>0</th>\n",
       "      <td>165.0</td>\n",
       "      <td>60.0</td>\n",
       "      <td>72.1</td>\n",
       "      <td>1.2</td>\n",
       "      <td>1.5</td>\n",
       "      <td>127.0</td>\n",
       "      <td>79.0</td>\n",
       "      <td>90.0</td>\n",
       "      <td>1.1</td>\n",
       "      <td>21.0</td>\n",
       "      <td>27.0</td>\n",
       "      <td>21.0</td>\n",
       "      <td>1.0</td>\n",
       "      <td>0.0</td>\n",
       "    </tr>\n",
       "    <tr>\n",
       "      <th>1</th>\n",
       "      <td>185.0</td>\n",
       "      <td>85.0</td>\n",
       "      <td>94.0</td>\n",
       "      <td>1.2</td>\n",
       "      <td>1.2</td>\n",
       "      <td>114.0</td>\n",
       "      <td>72.0</td>\n",
       "      <td>86.0</td>\n",
       "      <td>1.1</td>\n",
       "      <td>25.0</td>\n",
       "      <td>32.0</td>\n",
       "      <td>26.0</td>\n",
       "      <td>3.0</td>\n",
       "      <td>1.0</td>\n",
       "    </tr>\n",
       "    <tr>\n",
       "      <th>2</th>\n",
       "      <td>165.0</td>\n",
       "      <td>55.0</td>\n",
       "      <td>77.5</td>\n",
       "      <td>1.5</td>\n",
       "      <td>1.5</td>\n",
       "      <td>130.0</td>\n",
       "      <td>70.0</td>\n",
       "      <td>87.0</td>\n",
       "      <td>0.9</td>\n",
       "      <td>18.0</td>\n",
       "      <td>10.0</td>\n",
       "      <td>15.0</td>\n",
       "      <td>1.0</td>\n",
       "      <td>0.0</td>\n",
       "    </tr>\n",
       "  </tbody>\n",
       "</table>\n",
       "</div>"
      ],
      "text/plain": [
       "   신장(5Cm단위)  체중(5Kg 단위)  허리둘레  시력(좌)  시력(우)  수축기 혈압  이완기 혈압  식전혈당(공복혈당)  \\\n",
       "0      165.0        60.0  72.1    1.2    1.5   127.0    79.0        90.0   \n",
       "1      185.0        85.0  94.0    1.2    1.2   114.0    72.0        86.0   \n",
       "2      165.0        55.0  77.5    1.5    1.5   130.0    70.0        87.0   \n",
       "\n",
       "   혈청크레아티닌  (혈청지오티)AST  (혈청지오티)ALT  감마 지티피  흡연상태  음주여부  \n",
       "0      1.1        21.0        27.0    21.0   1.0   0.0  \n",
       "1      1.1        25.0        32.0    26.0   3.0   1.0  \n",
       "2      0.9        18.0        10.0    15.0   1.0   0.0  "
      ]
     },
     "execution_count": 7,
     "metadata": {},
     "output_type": "execute_result"
    }
   ],
   "source": [
    "df1 = df1.astype(float)\n",
    "df1.head(3)"
   ]
  },
  {
   "cell_type": "markdown",
   "id": "9b98267f",
   "metadata": {},
   "source": [
    "# 각 값의 분포"
   ]
  },
  {
   "cell_type": "code",
   "execution_count": 8,
   "id": "da84f32f",
   "metadata": {},
   "outputs": [
    {
     "data": {
      "text/plain": [
       "(14,\n",
       " Index(['신장(5Cm단위)', '체중(5Kg 단위)', '허리둘레', '시력(좌)', '시력(우)', '수축기 혈압', '이완기 혈압',\n",
       "        '식전혈당(공복혈당)', '혈청크레아티닌', '(혈청지오티)AST', '(혈청지오티)ALT', '감마 지티피', '흡연상태',\n",
       "        '음주여부'],\n",
       "       dtype='object'))"
      ]
     },
     "execution_count": 8,
     "metadata": {},
     "output_type": "execute_result"
    }
   ],
   "source": [
    "len(df1.columns), df1.columns"
   ]
  },
  {
   "cell_type": "markdown",
   "id": "e2b67fd7",
   "metadata": {},
   "source": [
    "## 병무청 값 정보\n",
    "- 신장 : 170 175 180\n",
    "- 체중 : 60 _ 78\n",
    "- 시력(좌) : 0.1 _ 1.0\n",
    "- 시력(우) : saa.\n",
    "- 수축기 혈압 : 100 _ _ _ 233\n",
    "- 이완기 혈압 : 69 _ 81 \n",
    "- 공복혈당 : 93 _ 104\n",
    "- 크레아티닌 : 82 _ 98\n",
    "- AST : 15 _ 23\n",
    "- ALT : 12 _ 27\n",
    "- 감마 지티피 : 15 _ 29"
   ]
  },
  {
   "cell_type": "code",
   "execution_count": 9,
   "id": "cd05ed5c",
   "metadata": {},
   "outputs": [
    {
     "data": {
      "text/plain": [
       "[Index(['신장(5Cm단위)', '체중(5Kg 단위)', '허리둘레'], dtype='object'),\n",
       " Index(['시력(좌)', '시력(우)', '수축기 혈압'], dtype='object'),\n",
       " Index(['이완기 혈압', '식전혈당(공복혈당)', '혈청크레아티닌'], dtype='object'),\n",
       " Index(['(혈청지오티)AST', '(혈청지오티)ALT', '감마 지티피'], dtype='object'),\n",
       " Index(['흡연상태', '음주여부'], dtype='object')]"
      ]
     },
     "execution_count": 9,
     "metadata": {},
     "output_type": "execute_result"
    }
   ],
   "source": [
    "li = [df1.columns[i : i+3] for i in range(0, 15, 3)]\n",
    "li"
   ]
  },
  {
   "cell_type": "markdown",
   "id": "41920963",
   "metadata": {},
   "source": [
    "## 신장, 체중"
   ]
  },
  {
   "cell_type": "code",
   "execution_count": 10,
   "id": "bb9cedc9",
   "metadata": {
    "scrolled": true
   },
   "outputs": [
    {
     "data": {
      "image/png": "[encoded data removed]",
      "text/plain": [
       "<Figure size 1296x288 with 3 Axes>"
      ]
     },
     "metadata": {
      "needs_background": "light"
     },
     "output_type": "display_data"
    }
   ],
   "source": [
    "fig = plt.figure(figsize=(6*3, 4))\n",
    "\n",
    "for i, col in enumerate(li[0]):\n",
    "    ax = fig.add_subplot(1, 3, i+1)\n",
    "    ax.hist(df1[col])\n",
    "    ax.set_title(col)"
   ]
  },
  {
   "cell_type": "markdown",
   "id": "3cc5aae0",
   "metadata": {},
   "source": [
    "- 신장 : 170 175 180\n",
    "- 체중 : 60 _ 78"
   ]
  },
  {
   "cell_type": "markdown",
   "id": "a56491e8",
   "metadata": {},
   "source": [
    "- 병무청 기준 체중이 조금 더 나감"
   ]
  },
  {
   "cell_type": "markdown",
   "id": "13cbfe00",
   "metadata": {},
   "source": [
    "## 좌우시력, 수축기 혈압"
   ]
  },
  {
   "cell_type": "code",
   "execution_count": 11,
   "id": "1436bd4d",
   "metadata": {
    "scrolled": true
   },
   "outputs": [
    {
     "data": {
      "image/png": "[encoded data removed]",
      "text/plain": [
       "<Figure size 1296x288 with 3 Axes>"
      ]
     },
     "metadata": {
      "needs_background": "light"
     },
     "output_type": "display_data"
    }
   ],
   "source": [
    "fig = plt.figure(figsize=(6*3, 4))\n",
    "\n",
    "for i, col in enumerate(li[1]):\n",
    "    ax = fig.add_subplot(1, 3, i+1)\n",
    "    ax.hist(df1[col])\n",
    "    ax.set_title(col)"
   ]
  },
  {
   "cell_type": "markdown",
   "id": "cf3b5c66",
   "metadata": {},
   "source": [
    "- 시력(좌) : 0.1 _ 1.0\n",
    "- 시력(우) : saa.\n",
    "- 수축기 혈압 : 100 _ _ _ 233"
   ]
  },
  {
   "cell_type": "markdown",
   "id": "bf6e1e82",
   "metadata": {},
   "source": [
    "- 병무청 기준 시력이 훨씬 좋다. 분포차이 큼, 0.0이 없음\n",
    "- 수축기 혈압은 min max만 알아서 잘 모르겠음"
   ]
  },
  {
   "cell_type": "code",
   "execution_count": 12,
   "id": "aeab0ab2",
   "metadata": {},
   "outputs": [
    {
     "data": {
      "text/plain": [
       "array([1.2, 1.5, 1. , 0.9, 0.7, 0.5, 0.8, 0.6, 1.3, 1.1, 1.6])"
      ]
     },
     "execution_count": 12,
     "metadata": {},
     "output_type": "execute_result"
    }
   ],
   "source": [
    "df1['시력(좌)'].unique()"
   ]
  },
  {
   "cell_type": "markdown",
   "id": "a0c11523",
   "metadata": {},
   "source": [
    "## 이완기혈압, 공복혈당, 혈청크레아티닌"
   ]
  },
  {
   "cell_type": "code",
   "execution_count": 13,
   "id": "2876f9ae",
   "metadata": {
    "scrolled": true
   },
   "outputs": [
    {
     "data": {
      "image/png": "[encoded data removed]",
      "text/plain": [
       "<Figure size 1296x288 with 3 Axes>"
      ]
     },
     "metadata": {
      "needs_background": "light"
     },
     "output_type": "display_data"
    }
   ],
   "source": [
    "fig = plt.figure(figsize=(6*3, 4))\n",
    "\n",
    "for i, col in enumerate(li[2]):\n",
    "    ax = fig.add_subplot(1, 3, i+1)\n",
    "    ax.hist(df1[col])\n",
    "    ax.set_title(col)"
   ]
  },
  {
   "cell_type": "markdown",
   "id": "4ac3661a",
   "metadata": {},
   "source": [
    "- 이완기 혈압 : 69 _ 81 \n",
    "- 공복혈당 : 93 _ 104\n",
    "- 크레아티닌 : 82 _ 98"
   ]
  },
  {
   "cell_type": "markdown",
   "id": "bc507726",
   "metadata": {},
   "source": [
    "- 이완기 혈압 약간 높음.\n",
    "- 공복혈당 분포 꽤 비슷\n",
    "- 크레아티닌 단위가 다른듯."
   ]
  },
  {
   "cell_type": "code",
   "execution_count": 14,
   "id": "cf6bc8d7",
   "metadata": {},
   "outputs": [
    {
     "data": {
      "text/plain": [
       "count    57903.000000\n",
       "mean         0.937333\n",
       "std          0.139578\n",
       "min          0.600000\n",
       "25%          0.800000\n",
       "50%          0.900000\n",
       "75%          1.000000\n",
       "max          1.200000\n",
       "Name: 혈청크레아티닌, dtype: float64"
      ]
     },
     "execution_count": 14,
     "metadata": {},
     "output_type": "execute_result"
    }
   ],
   "source": [
    "df['혈청크레아티닌'].describe()"
   ]
  },
  {
   "cell_type": "markdown",
   "id": "c2ea2ca8",
   "metadata": {},
   "source": [
    "## AST, ALT, 감마지티피"
   ]
  },
  {
   "cell_type": "code",
   "execution_count": 15,
   "id": "2f0e2a67",
   "metadata": {
    "scrolled": true
   },
   "outputs": [
    {
     "data": {
      "image/png": "[encoded data removed]",
      "text/plain": [
       "<Figure size 1296x288 with 3 Axes>"
      ]
     },
     "metadata": {
      "needs_background": "light"
     },
     "output_type": "display_data"
    }
   ],
   "source": [
    "fig = plt.figure(figsize=(6*3, 4))\n",
    "\n",
    "for i, col in enumerate(li[3]):\n",
    "    ax = fig.add_subplot(1, 3, i+1)\n",
    "    ax.hist(df1[col])\n",
    "    ax.set_title(col)"
   ]
  },
  {
   "cell_type": "markdown",
   "id": "a762792b",
   "metadata": {},
   "source": [
    "- AST : 15 _ 23\n",
    "- ALT : 12 _ 27\n",
    "- 감마 지티피 : 15 _ 29"
   ]
  },
  {
   "cell_type": "markdown",
   "id": "15ef2224",
   "metadata": {},
   "source": [
    "- AST : 높음\n",
    "- ALT : 높음\n",
    "- 감마 지티피 : 높음"
   ]
  },
  {
   "cell_type": "markdown",
   "id": "2f84c22b",
   "metadata": {},
   "source": [
    "# 분포 상이 컬럼 제외"
   ]
  },
  {
   "cell_type": "markdown",
   "id": "10f4b0b9",
   "metadata": {},
   "source": [
    "- 시력, 크레아티닌"
   ]
  },
  {
   "cell_type": "code",
   "execution_count": 16,
   "id": "cf59f6a0",
   "metadata": {},
   "outputs": [],
   "source": [
    "df2 = df1.copy()"
   ]
  },
  {
   "cell_type": "code",
   "execution_count": 17,
   "id": "4673d821",
   "metadata": {},
   "outputs": [
    {
     "data": {
      "text/plain": [
       "Index(['신장(5Cm단위)', '체중(5Kg 단위)', '허리둘레', '시력(좌)', '시력(우)', '수축기 혈압', '이완기 혈압',\n",
       "       '식전혈당(공복혈당)', '혈청크레아티닌', '(혈청지오티)AST', '(혈청지오티)ALT', '감마 지티피', '흡연상태',\n",
       "       '음주여부'],\n",
       "      dtype='object')"
      ]
     },
     "execution_count": 17,
     "metadata": {},
     "output_type": "execute_result"
    }
   ],
   "source": [
    "df2.columns"
   ]
  },
  {
   "cell_type": "code",
   "execution_count": 18,
   "id": "f15c875c",
   "metadata": {},
   "outputs": [],
   "source": [
    "df2.drop(columns=['혈청크레아티닌',  '시력(좌)', '시력(우)'], inplace=True)"
   ]
  },
  {
   "cell_type": "markdown",
   "id": "bd1405a1",
   "metadata": {},
   "source": [
    "# bmi, WHtR 추가\n",
    "- Waist to Height Ratio"
   ]
  },
  {
   "cell_type": "markdown",
   "id": "5cdc9cdc",
   "metadata": {},
   "source": [
    "## bmi 추가"
   ]
  },
  {
   "cell_type": "code",
   "execution_count": 27,
   "id": "761eb548",
   "metadata": {},
   "outputs": [],
   "source": [
    "df3 = df2.copy()"
   ]
  },
  {
   "cell_type": "code",
   "execution_count": 28,
   "id": "2a1edf7d",
   "metadata": {},
   "outputs": [
    {
     "data": {
      "text/plain": [
       "Index(['신장(5Cm단위)', '체중(5Kg 단위)', '허리둘레', '수축기 혈압', '이완기 혈압', '식전혈당(공복혈당)',\n",
       "       '(혈청지오티)AST', '(혈청지오티)ALT', '감마 지티피', '흡연상태', '음주여부'],\n",
       "      dtype='object')"
      ]
     },
     "execution_count": 28,
     "metadata": {},
     "output_type": "execute_result"
    }
   ],
   "source": [
    "df3.columns"
   ]
  },
  {
   "cell_type": "code",
   "execution_count": 37,
   "id": "26d31f2b",
   "metadata": {},
   "outputs": [],
   "source": [
    "df3['bmi'] = (df3['체중(5Kg 단위)'] / (df3['신장(5Cm단위)']/100.0)**2).round(1)"
   ]
  },
  {
   "cell_type": "code",
   "execution_count": 38,
   "id": "2653bede",
   "metadata": {},
   "outputs": [
    {
     "data": {
      "text/html": [
       "<div>\n",
       "<style scoped>\n",
       "    .dataframe tbody tr th:only-of-type {\n",
       "        vertical-align: middle;\n",
       "    }\n",
       "\n",
       "    .dataframe tbody tr th {\n",
       "        vertical-align: top;\n",
       "    }\n",
       "\n",
       "    .dataframe thead th {\n",
       "        text-align: right;\n",
       "    }\n",
       "</style>\n",
       "<table border=\"1\" class=\"dataframe\">\n",
       "  <thead>\n",
       "    <tr style=\"text-align: right;\">\n",
       "      <th></th>\n",
       "      <th>신장(5Cm단위)</th>\n",
       "      <th>체중(5Kg 단위)</th>\n",
       "      <th>허리둘레</th>\n",
       "      <th>수축기 혈압</th>\n",
       "      <th>이완기 혈압</th>\n",
       "      <th>식전혈당(공복혈당)</th>\n",
       "      <th>(혈청지오티)AST</th>\n",
       "      <th>(혈청지오티)ALT</th>\n",
       "      <th>감마 지티피</th>\n",
       "      <th>흡연상태</th>\n",
       "      <th>음주여부</th>\n",
       "      <th>bmi</th>\n",
       "    </tr>\n",
       "  </thead>\n",
       "  <tbody>\n",
       "    <tr>\n",
       "      <th>0</th>\n",
       "      <td>165.0</td>\n",
       "      <td>60.0</td>\n",
       "      <td>72.1</td>\n",
       "      <td>127.0</td>\n",
       "      <td>79.0</td>\n",
       "      <td>90.0</td>\n",
       "      <td>21.0</td>\n",
       "      <td>27.0</td>\n",
       "      <td>21.0</td>\n",
       "      <td>1.0</td>\n",
       "      <td>0.0</td>\n",
       "      <td>22.0</td>\n",
       "    </tr>\n",
       "    <tr>\n",
       "      <th>1</th>\n",
       "      <td>185.0</td>\n",
       "      <td>85.0</td>\n",
       "      <td>94.0</td>\n",
       "      <td>114.0</td>\n",
       "      <td>72.0</td>\n",
       "      <td>86.0</td>\n",
       "      <td>25.0</td>\n",
       "      <td>32.0</td>\n",
       "      <td>26.0</td>\n",
       "      <td>3.0</td>\n",
       "      <td>1.0</td>\n",
       "      <td>24.8</td>\n",
       "    </tr>\n",
       "    <tr>\n",
       "      <th>2</th>\n",
       "      <td>165.0</td>\n",
       "      <td>55.0</td>\n",
       "      <td>77.5</td>\n",
       "      <td>130.0</td>\n",
       "      <td>70.0</td>\n",
       "      <td>87.0</td>\n",
       "      <td>18.0</td>\n",
       "      <td>10.0</td>\n",
       "      <td>15.0</td>\n",
       "      <td>1.0</td>\n",
       "      <td>0.0</td>\n",
       "      <td>20.2</td>\n",
       "    </tr>\n",
       "    <tr>\n",
       "      <th>3</th>\n",
       "      <td>165.0</td>\n",
       "      <td>75.0</td>\n",
       "      <td>84.0</td>\n",
       "      <td>139.0</td>\n",
       "      <td>80.0</td>\n",
       "      <td>92.0</td>\n",
       "      <td>27.0</td>\n",
       "      <td>30.0</td>\n",
       "      <td>25.0</td>\n",
       "      <td>2.0</td>\n",
       "      <td>1.0</td>\n",
       "      <td>27.5</td>\n",
       "    </tr>\n",
       "    <tr>\n",
       "      <th>4</th>\n",
       "      <td>175.0</td>\n",
       "      <td>70.0</td>\n",
       "      <td>83.0</td>\n",
       "      <td>110.0</td>\n",
       "      <td>70.0</td>\n",
       "      <td>120.0</td>\n",
       "      <td>19.0</td>\n",
       "      <td>14.0</td>\n",
       "      <td>25.0</td>\n",
       "      <td>3.0</td>\n",
       "      <td>1.0</td>\n",
       "      <td>22.9</td>\n",
       "    </tr>\n",
       "  </tbody>\n",
       "</table>\n",
       "</div>"
      ],
      "text/plain": [
       "   신장(5Cm단위)  체중(5Kg 단위)  허리둘레  수축기 혈압  이완기 혈압  식전혈당(공복혈당)  (혈청지오티)AST  \\\n",
       "0      165.0        60.0  72.1   127.0    79.0        90.0        21.0   \n",
       "1      185.0        85.0  94.0   114.0    72.0        86.0        25.0   \n",
       "2      165.0        55.0  77.5   130.0    70.0        87.0        18.0   \n",
       "3      165.0        75.0  84.0   139.0    80.0        92.0        27.0   \n",
       "4      175.0        70.0  83.0   110.0    70.0       120.0        19.0   \n",
       "\n",
       "   (혈청지오티)ALT  감마 지티피  흡연상태  음주여부   bmi  \n",
       "0        27.0    21.0   1.0   0.0  22.0  \n",
       "1        32.0    26.0   3.0   1.0  24.8  \n",
       "2        10.0    15.0   1.0   0.0  20.2  \n",
       "3        30.0    25.0   2.0   1.0  27.5  \n",
       "4        14.0    25.0   3.0   1.0  22.9  "
      ]
     },
     "execution_count": 38,
     "metadata": {},
     "output_type": "execute_result"
    }
   ],
   "source": [
    "df3.head()"
   ]
  },
  {
   "cell_type": "code",
   "execution_count": 43,
   "id": "08d82fa9",
   "metadata": {},
   "outputs": [
    {
     "data": {
      "text/plain": [
       "<AxesSubplot:>"
      ]
     },
     "execution_count": 43,
     "metadata": {},
     "output_type": "execute_result"
    },
    {
     "data": {
      "image/png": "[encoded data removed]",
      "text/plain": [
       "<Figure size 432x288 with 1 Axes>"
      ]
     },
     "metadata": {
      "needs_background": "light"
     },
     "output_type": "display_data"
    }
   ],
   "source": [
    "df3['bmi'].hist(range=(0, 40), bins=32)"
   ]
  },
  {
   "cell_type": "markdown",
   "id": "ef99e906",
   "metadata": {},
   "source": [
    "## [보류] 이상치 제거 "
   ]
  },
  {
   "cell_type": "code",
   "execution_count": 46,
   "id": "4191e9ea",
   "metadata": {},
   "outputs": [
    {
     "data": {
      "text/plain": [
       "<AxesSubplot:>"
      ]
     },
     "execution_count": 46,
     "metadata": {},
     "output_type": "execute_result"
    },
    {
     "data": {
      "image/png": "[encoded data removed]",
      "text/plain": [
       "<Figure size 432x288 with 1 Axes>"
      ]
     },
     "metadata": {
      "needs_background": "light"
     },
     "output_type": "display_data"
    }
   ],
   "source": [
    "df3.loc[:, ['bmi']].boxplot()"
   ]
  },
  {
   "cell_type": "markdown",
   "id": "63ae30ba",
   "metadata": {},
   "source": [
    "## WHtR 추가"
   ]
  },
  {
   "cell_type": "code",
   "execution_count": 47,
   "id": "34952deb",
   "metadata": {},
   "outputs": [],
   "source": [
    "df4 = df3.copy()"
   ]
  },
  {
   "cell_type": "code",
   "execution_count": 48,
   "id": "0b875951",
   "metadata": {},
   "outputs": [
    {
     "data": {
      "text/html": [
       "<div>\n",
       "<style scoped>\n",
       "    .dataframe tbody tr th:only-of-type {\n",
       "        vertical-align: middle;\n",
       "    }\n",
       "\n",
       "    .dataframe tbody tr th {\n",
       "        vertical-align: top;\n",
       "    }\n",
       "\n",
       "    .dataframe thead th {\n",
       "        text-align: right;\n",
       "    }\n",
       "</style>\n",
       "<table border=\"1\" class=\"dataframe\">\n",
       "  <thead>\n",
       "    <tr style=\"text-align: right;\">\n",
       "      <th></th>\n",
       "      <th>신장(5Cm단위)</th>\n",
       "      <th>체중(5Kg 단위)</th>\n",
       "      <th>허리둘레</th>\n",
       "      <th>수축기 혈압</th>\n",
       "      <th>이완기 혈압</th>\n",
       "      <th>식전혈당(공복혈당)</th>\n",
       "      <th>(혈청지오티)AST</th>\n",
       "      <th>(혈청지오티)ALT</th>\n",
       "      <th>감마 지티피</th>\n",
       "      <th>흡연상태</th>\n",
       "      <th>음주여부</th>\n",
       "      <th>bmi</th>\n",
       "    </tr>\n",
       "  </thead>\n",
       "  <tbody>\n",
       "    <tr>\n",
       "      <th>0</th>\n",
       "      <td>165.0</td>\n",
       "      <td>60.0</td>\n",
       "      <td>72.1</td>\n",
       "      <td>127.0</td>\n",
       "      <td>79.0</td>\n",
       "      <td>90.0</td>\n",
       "      <td>21.0</td>\n",
       "      <td>27.0</td>\n",
       "      <td>21.0</td>\n",
       "      <td>1.0</td>\n",
       "      <td>0.0</td>\n",
       "      <td>22.0</td>\n",
       "    </tr>\n",
       "    <tr>\n",
       "      <th>1</th>\n",
       "      <td>185.0</td>\n",
       "      <td>85.0</td>\n",
       "      <td>94.0</td>\n",
       "      <td>114.0</td>\n",
       "      <td>72.0</td>\n",
       "      <td>86.0</td>\n",
       "      <td>25.0</td>\n",
       "      <td>32.0</td>\n",
       "      <td>26.0</td>\n",
       "      <td>3.0</td>\n",
       "      <td>1.0</td>\n",
       "      <td>24.8</td>\n",
       "    </tr>\n",
       "    <tr>\n",
       "      <th>2</th>\n",
       "      <td>165.0</td>\n",
       "      <td>55.0</td>\n",
       "      <td>77.5</td>\n",
       "      <td>130.0</td>\n",
       "      <td>70.0</td>\n",
       "      <td>87.0</td>\n",
       "      <td>18.0</td>\n",
       "      <td>10.0</td>\n",
       "      <td>15.0</td>\n",
       "      <td>1.0</td>\n",
       "      <td>0.0</td>\n",
       "      <td>20.2</td>\n",
       "    </tr>\n",
       "    <tr>\n",
       "      <th>3</th>\n",
       "      <td>165.0</td>\n",
       "      <td>75.0</td>\n",
       "      <td>84.0</td>\n",
       "      <td>139.0</td>\n",
       "      <td>80.0</td>\n",
       "      <td>92.0</td>\n",
       "      <td>27.0</td>\n",
       "      <td>30.0</td>\n",
       "      <td>25.0</td>\n",
       "      <td>2.0</td>\n",
       "      <td>1.0</td>\n",
       "      <td>27.5</td>\n",
       "    </tr>\n",
       "    <tr>\n",
       "      <th>4</th>\n",
       "      <td>175.0</td>\n",
       "      <td>70.0</td>\n",
       "      <td>83.0</td>\n",
       "      <td>110.0</td>\n",
       "      <td>70.0</td>\n",
       "      <td>120.0</td>\n",
       "      <td>19.0</td>\n",
       "      <td>14.0</td>\n",
       "      <td>25.0</td>\n",
       "      <td>3.0</td>\n",
       "      <td>1.0</td>\n",
       "      <td>22.9</td>\n",
       "    </tr>\n",
       "  </tbody>\n",
       "</table>\n",
       "</div>"
      ],
      "text/plain": [
       "   신장(5Cm단위)  체중(5Kg 단위)  허리둘레  수축기 혈압  이완기 혈압  식전혈당(공복혈당)  (혈청지오티)AST  \\\n",
       "0      165.0        60.0  72.1   127.0    79.0        90.0        21.0   \n",
       "1      185.0        85.0  94.0   114.0    72.0        86.0        25.0   \n",
       "2      165.0        55.0  77.5   130.0    70.0        87.0        18.0   \n",
       "3      165.0        75.0  84.0   139.0    80.0        92.0        27.0   \n",
       "4      175.0        70.0  83.0   110.0    70.0       120.0        19.0   \n",
       "\n",
       "   (혈청지오티)ALT  감마 지티피  흡연상태  음주여부   bmi  \n",
       "0        27.0    21.0   1.0   0.0  22.0  \n",
       "1        32.0    26.0   3.0   1.0  24.8  \n",
       "2        10.0    15.0   1.0   0.0  20.2  \n",
       "3        30.0    25.0   2.0   1.0  27.5  \n",
       "4        14.0    25.0   3.0   1.0  22.9  "
      ]
     },
     "execution_count": 48,
     "metadata": {},
     "output_type": "execute_result"
    }
   ],
   "source": [
    "df4.head()"
   ]
  },
  {
   "cell_type": "code",
   "execution_count": 52,
   "id": "884c7168",
   "metadata": {},
   "outputs": [],
   "source": [
    "df4['WHtR'] = (df4['허리둘레'] / df4['신장(5Cm단위)']).round(3)"
   ]
  },
  {
   "cell_type": "code",
   "execution_count": 53,
   "id": "eb6fa8e9",
   "metadata": {},
   "outputs": [
    {
     "data": {
      "text/html": [
       "<div>\n",
       "<style scoped>\n",
       "    .dataframe tbody tr th:only-of-type {\n",
       "        vertical-align: middle;\n",
       "    }\n",
       "\n",
       "    .dataframe tbody tr th {\n",
       "        vertical-align: top;\n",
       "    }\n",
       "\n",
       "    .dataframe thead th {\n",
       "        text-align: right;\n",
       "    }\n",
       "</style>\n",
       "<table border=\"1\" class=\"dataframe\">\n",
       "  <thead>\n",
       "    <tr style=\"text-align: right;\">\n",
       "      <th></th>\n",
       "      <th>신장(5Cm단위)</th>\n",
       "      <th>체중(5Kg 단위)</th>\n",
       "      <th>허리둘레</th>\n",
       "      <th>수축기 혈압</th>\n",
       "      <th>이완기 혈압</th>\n",
       "      <th>식전혈당(공복혈당)</th>\n",
       "      <th>(혈청지오티)AST</th>\n",
       "      <th>(혈청지오티)ALT</th>\n",
       "      <th>감마 지티피</th>\n",
       "      <th>흡연상태</th>\n",
       "      <th>음주여부</th>\n",
       "      <th>bmi</th>\n",
       "      <th>WHtR</th>\n",
       "    </tr>\n",
       "  </thead>\n",
       "  <tbody>\n",
       "    <tr>\n",
       "      <th>0</th>\n",
       "      <td>165.0</td>\n",
       "      <td>60.0</td>\n",
       "      <td>72.1</td>\n",
       "      <td>127.0</td>\n",
       "      <td>79.0</td>\n",
       "      <td>90.0</td>\n",
       "      <td>21.0</td>\n",
       "      <td>27.0</td>\n",
       "      <td>21.0</td>\n",
       "      <td>1.0</td>\n",
       "      <td>0.0</td>\n",
       "      <td>22.0</td>\n",
       "      <td>0.437</td>\n",
       "    </tr>\n",
       "    <tr>\n",
       "      <th>1</th>\n",
       "      <td>185.0</td>\n",
       "      <td>85.0</td>\n",
       "      <td>94.0</td>\n",
       "      <td>114.0</td>\n",
       "      <td>72.0</td>\n",
       "      <td>86.0</td>\n",
       "      <td>25.0</td>\n",
       "      <td>32.0</td>\n",
       "      <td>26.0</td>\n",
       "      <td>3.0</td>\n",
       "      <td>1.0</td>\n",
       "      <td>24.8</td>\n",
       "      <td>0.508</td>\n",
       "    </tr>\n",
       "  </tbody>\n",
       "</table>\n",
       "</div>"
      ],
      "text/plain": [
       "   신장(5Cm단위)  체중(5Kg 단위)  허리둘레  수축기 혈압  이완기 혈압  식전혈당(공복혈당)  (혈청지오티)AST  \\\n",
       "0      165.0        60.0  72.1   127.0    79.0        90.0        21.0   \n",
       "1      185.0        85.0  94.0   114.0    72.0        86.0        25.0   \n",
       "\n",
       "   (혈청지오티)ALT  감마 지티피  흡연상태  음주여부   bmi   WHtR  \n",
       "0        27.0    21.0   1.0   0.0  22.0  0.437  \n",
       "1        32.0    26.0   3.0   1.0  24.8  0.508  "
      ]
     },
     "execution_count": 53,
     "metadata": {},
     "output_type": "execute_result"
    }
   ],
   "source": [
    "df4.head(2)"
   ]
  },
  {
   "cell_type": "code",
   "execution_count": 57,
   "id": "cea47390",
   "metadata": {
    "scrolled": true
   },
   "outputs": [
    {
     "data": {
      "text/plain": [
       "<AxesSubplot:>"
      ]
     },
     "execution_count": 57,
     "metadata": {},
     "output_type": "execute_result"
    },
    {
     "data": {
      "image/png": "[encoded data removed]",
      "text/plain": [
       "<Figure size 432x288 with 1 Axes>"
      ]
     },
     "metadata": {
      "needs_background": "light"
     },
     "output_type": "display_data"
    }
   ],
   "source": [
    "df4['WHtR'].hist(range=(0.3, 0.7), bins=32)"
   ]
  },
  {
   "cell_type": "markdown",
   "id": "199d235c",
   "metadata": {},
   "source": [
    "## [보류] 이상치 제거"
   ]
  },
  {
   "cell_type": "code",
   "execution_count": 58,
   "id": "3dfb6c1a",
   "metadata": {
    "scrolled": true
   },
   "outputs": [
    {
     "data": {
      "text/plain": [
       "<AxesSubplot:>"
      ]
     },
     "execution_count": 58,
     "metadata": {},
     "output_type": "execute_result"
    },
    {
     "data": {
      "image/png": "[encoded data removed]",
      "text/plain": [
       "<Figure size 432x288 with 1 Axes>"
      ]
     },
     "metadata": {
      "needs_background": "light"
     },
     "output_type": "display_data"
    }
   ],
   "source": [
    "df4.loc[:, ['WHtR']].boxplot()"
   ]
  },
  {
   "cell_type": "code",
   "execution_count": null,
   "id": "ef00f898",
   "metadata": {},
   "outputs": [],
   "source": []
  },
  {
   "cell_type": "code",
   "execution_count": 171,
   "id": "aebdf61d",
   "metadata": {},
   "outputs": [
    {
     "data": {
      "text/html": [
       "<div>\n",
       "<style scoped>\n",
       "    .dataframe tbody tr th:only-of-type {\n",
       "        vertical-align: middle;\n",
       "    }\n",
       "\n",
       "    .dataframe tbody tr th {\n",
       "        vertical-align: top;\n",
       "    }\n",
       "\n",
       "    .dataframe thead th {\n",
       "        text-align: right;\n",
       "    }\n",
       "</style>\n",
       "<table border=\"1\" class=\"dataframe\">\n",
       "  <thead>\n",
       "    <tr style=\"text-align: right;\">\n",
       "      <th></th>\n",
       "      <th>신장(5Cm단위)</th>\n",
       "      <th>체중(5Kg 단위)</th>\n",
       "      <th>허리둘레</th>\n",
       "      <th>수축기 혈압</th>\n",
       "      <th>이완기 혈압</th>\n",
       "      <th>식전혈당(공복혈당)</th>\n",
       "      <th>(혈청지오티)AST</th>\n",
       "      <th>(혈청지오티)ALT</th>\n",
       "      <th>감마 지티피</th>\n",
       "      <th>흡연상태</th>\n",
       "      <th>음주여부</th>\n",
       "      <th>bmi</th>\n",
       "      <th>WHtR</th>\n",
       "    </tr>\n",
       "  </thead>\n",
       "  <tbody>\n",
       "    <tr>\n",
       "      <th>0</th>\n",
       "      <td>165.0</td>\n",
       "      <td>60.0</td>\n",
       "      <td>72.1</td>\n",
       "      <td>127.0</td>\n",
       "      <td>79.0</td>\n",
       "      <td>90.0</td>\n",
       "      <td>21.0</td>\n",
       "      <td>27.0</td>\n",
       "      <td>21.0</td>\n",
       "      <td>1.0</td>\n",
       "      <td>0.0</td>\n",
       "      <td>22.0</td>\n",
       "      <td>0.437</td>\n",
       "    </tr>\n",
       "    <tr>\n",
       "      <th>1</th>\n",
       "      <td>185.0</td>\n",
       "      <td>85.0</td>\n",
       "      <td>94.0</td>\n",
       "      <td>114.0</td>\n",
       "      <td>72.0</td>\n",
       "      <td>86.0</td>\n",
       "      <td>25.0</td>\n",
       "      <td>32.0</td>\n",
       "      <td>26.0</td>\n",
       "      <td>3.0</td>\n",
       "      <td>1.0</td>\n",
       "      <td>24.8</td>\n",
       "      <td>0.508</td>\n",
       "    </tr>\n",
       "    <tr>\n",
       "      <th>2</th>\n",
       "      <td>165.0</td>\n",
       "      <td>55.0</td>\n",
       "      <td>77.5</td>\n",
       "      <td>130.0</td>\n",
       "      <td>70.0</td>\n",
       "      <td>87.0</td>\n",
       "      <td>18.0</td>\n",
       "      <td>10.0</td>\n",
       "      <td>15.0</td>\n",
       "      <td>1.0</td>\n",
       "      <td>0.0</td>\n",
       "      <td>20.2</td>\n",
       "      <td>0.470</td>\n",
       "    </tr>\n",
       "  </tbody>\n",
       "</table>\n",
       "</div>"
      ],
      "text/plain": [
       "   신장(5Cm단위)  체중(5Kg 단위)  허리둘레  수축기 혈압  이완기 혈압  식전혈당(공복혈당)  (혈청지오티)AST  \\\n",
       "0      165.0        60.0  72.1   127.0    79.0        90.0        21.0   \n",
       "1      185.0        85.0  94.0   114.0    72.0        86.0        25.0   \n",
       "2      165.0        55.0  77.5   130.0    70.0        87.0        18.0   \n",
       "\n",
       "   (혈청지오티)ALT  감마 지티피  흡연상태  음주여부   bmi   WHtR  \n",
       "0        27.0    21.0   1.0   0.0  22.0  0.437  \n",
       "1        32.0    26.0   3.0   1.0  24.8  0.508  \n",
       "2        10.0    15.0   1.0   0.0  20.2  0.470  "
      ]
     },
     "execution_count": 171,
     "metadata": {},
     "output_type": "execute_result"
    }
   ],
   "source": [
    "df4.head(3)"
   ]
  },
  {
   "cell_type": "markdown",
   "id": "dcb43c7a",
   "metadata": {},
   "source": [
    "# 중간저장"
   ]
  },
  {
   "cell_type": "raw",
   "id": "6d53412c",
   "metadata": {},
   "source": [
    "df4.to_pickle('./WHtR_concat/02/reduction_04.pkl')"
   ]
  },
  {
   "cell_type": "code",
   "execution_count": null,
   "id": "5c65c037",
   "metadata": {},
   "outputs": [],
   "source": []
  },
  {
   "cell_type": "code",
   "execution_count": null,
   "id": "a1a0c5e1",
   "metadata": {},
   "outputs": [],
   "source": []
  },
  {
   "cell_type": "code",
   "execution_count": null,
   "id": "4d0691d8",
   "metadata": {},
   "outputs": [],
   "source": []
  },
  {
   "cell_type": "code",
   "execution_count": null,
   "id": "708229c9",
   "metadata": {},
   "outputs": [],
   "source": []
  },
  {
   "cell_type": "code",
   "execution_count": null,
   "id": "139fe4ce",
   "metadata": {},
   "outputs": [],
   "source": []
  },
  {
   "cell_type": "markdown",
   "id": "cb3bfd4c",
   "metadata": {},
   "source": [
    "# 상관계수 확인"
   ]
  },
  {
   "cell_type": "code",
   "execution_count": 145,
   "id": "12ab5b52",
   "metadata": {},
   "outputs": [
    {
     "data": {
      "text/html": [
       "<div>\n",
       "<style scoped>\n",
       "    .dataframe tbody tr th:only-of-type {\n",
       "        vertical-align: middle;\n",
       "    }\n",
       "\n",
       "    .dataframe tbody tr th {\n",
       "        vertical-align: top;\n",
       "    }\n",
       "\n",
       "    .dataframe thead th {\n",
       "        text-align: right;\n",
       "    }\n",
       "</style>\n",
       "<table border=\"1\" class=\"dataframe\">\n",
       "  <thead>\n",
       "    <tr style=\"text-align: right;\">\n",
       "      <th></th>\n",
       "      <th>신장(5Cm단위)</th>\n",
       "      <th>체중(5Kg 단위)</th>\n",
       "      <th>허리둘레</th>\n",
       "      <th>수축기 혈압</th>\n",
       "      <th>이완기 혈압</th>\n",
       "      <th>식전혈당(공복혈당)</th>\n",
       "      <th>(혈청지오티)AST</th>\n",
       "      <th>(혈청지오티)ALT</th>\n",
       "      <th>감마 지티피</th>\n",
       "      <th>흡연상태</th>\n",
       "      <th>음주여부</th>\n",
       "      <th>bmi</th>\n",
       "      <th>WHtR</th>\n",
       "    </tr>\n",
       "  </thead>\n",
       "  <tbody>\n",
       "    <tr>\n",
       "      <th>신장(5Cm단위)</th>\n",
       "      <td>1.00</td>\n",
       "      <td>0.45</td>\n",
       "      <td>0.20</td>\n",
       "      <td>0.03</td>\n",
       "      <td>0.00</td>\n",
       "      <td>0.02</td>\n",
       "      <td>-0.04</td>\n",
       "      <td>-0.02</td>\n",
       "      <td>-0.03</td>\n",
       "      <td>0.02</td>\n",
       "      <td>0.05</td>\n",
       "      <td>-0.04</td>\n",
       "      <td>-0.19</td>\n",
       "    </tr>\n",
       "    <tr>\n",
       "      <th>체중(5Kg 단위)</th>\n",
       "      <td>0.45</td>\n",
       "      <td>1.00</td>\n",
       "      <td>0.81</td>\n",
       "      <td>0.25</td>\n",
       "      <td>0.21</td>\n",
       "      <td>0.15</td>\n",
       "      <td>0.13</td>\n",
       "      <td>0.30</td>\n",
       "      <td>0.20</td>\n",
       "      <td>0.01</td>\n",
       "      <td>0.04</td>\n",
       "      <td>0.87</td>\n",
       "      <td>0.64</td>\n",
       "    </tr>\n",
       "    <tr>\n",
       "      <th>허리둘레</th>\n",
       "      <td>0.20</td>\n",
       "      <td>0.81</td>\n",
       "      <td>1.00</td>\n",
       "      <td>0.22</td>\n",
       "      <td>0.21</td>\n",
       "      <td>0.15</td>\n",
       "      <td>0.15</td>\n",
       "      <td>0.35</td>\n",
       "      <td>0.26</td>\n",
       "      <td>0.02</td>\n",
       "      <td>0.04</td>\n",
       "      <td>0.80</td>\n",
       "      <td>0.92</td>\n",
       "    </tr>\n",
       "    <tr>\n",
       "      <th>수축기 혈압</th>\n",
       "      <td>0.03</td>\n",
       "      <td>0.25</td>\n",
       "      <td>0.22</td>\n",
       "      <td>1.00</td>\n",
       "      <td>0.73</td>\n",
       "      <td>0.13</td>\n",
       "      <td>0.10</td>\n",
       "      <td>0.13</td>\n",
       "      <td>0.17</td>\n",
       "      <td>0.01</td>\n",
       "      <td>0.04</td>\n",
       "      <td>0.26</td>\n",
       "      <td>0.21</td>\n",
       "    </tr>\n",
       "    <tr>\n",
       "      <th>이완기 혈압</th>\n",
       "      <td>0.00</td>\n",
       "      <td>0.21</td>\n",
       "      <td>0.21</td>\n",
       "      <td>0.73</td>\n",
       "      <td>1.00</td>\n",
       "      <td>0.12</td>\n",
       "      <td>0.11</td>\n",
       "      <td>0.14</td>\n",
       "      <td>0.19</td>\n",
       "      <td>0.02</td>\n",
       "      <td>0.05</td>\n",
       "      <td>0.23</td>\n",
       "      <td>0.21</td>\n",
       "    </tr>\n",
       "    <tr>\n",
       "      <th>식전혈당(공복혈당)</th>\n",
       "      <td>0.02</td>\n",
       "      <td>0.15</td>\n",
       "      <td>0.15</td>\n",
       "      <td>0.13</td>\n",
       "      <td>0.12</td>\n",
       "      <td>1.00</td>\n",
       "      <td>0.02</td>\n",
       "      <td>0.12</td>\n",
       "      <td>0.17</td>\n",
       "      <td>0.03</td>\n",
       "      <td>0.05</td>\n",
       "      <td>0.16</td>\n",
       "      <td>0.14</td>\n",
       "    </tr>\n",
       "    <tr>\n",
       "      <th>(혈청지오티)AST</th>\n",
       "      <td>-0.04</td>\n",
       "      <td>0.13</td>\n",
       "      <td>0.15</td>\n",
       "      <td>0.10</td>\n",
       "      <td>0.11</td>\n",
       "      <td>0.02</td>\n",
       "      <td>1.00</td>\n",
       "      <td>0.67</td>\n",
       "      <td>0.33</td>\n",
       "      <td>-0.01</td>\n",
       "      <td>0.03</td>\n",
       "      <td>0.17</td>\n",
       "      <td>0.16</td>\n",
       "    </tr>\n",
       "    <tr>\n",
       "      <th>(혈청지오티)ALT</th>\n",
       "      <td>-0.02</td>\n",
       "      <td>0.30</td>\n",
       "      <td>0.35</td>\n",
       "      <td>0.13</td>\n",
       "      <td>0.14</td>\n",
       "      <td>0.12</td>\n",
       "      <td>0.67</td>\n",
       "      <td>1.00</td>\n",
       "      <td>0.42</td>\n",
       "      <td>0.00</td>\n",
       "      <td>-0.02</td>\n",
       "      <td>0.35</td>\n",
       "      <td>0.35</td>\n",
       "    </tr>\n",
       "    <tr>\n",
       "      <th>감마 지티피</th>\n",
       "      <td>-0.03</td>\n",
       "      <td>0.20</td>\n",
       "      <td>0.26</td>\n",
       "      <td>0.17</td>\n",
       "      <td>0.19</td>\n",
       "      <td>0.17</td>\n",
       "      <td>0.33</td>\n",
       "      <td>0.42</td>\n",
       "      <td>1.00</td>\n",
       "      <td>0.17</td>\n",
       "      <td>0.14</td>\n",
       "      <td>0.24</td>\n",
       "      <td>0.27</td>\n",
       "    </tr>\n",
       "    <tr>\n",
       "      <th>흡연상태</th>\n",
       "      <td>0.02</td>\n",
       "      <td>0.01</td>\n",
       "      <td>0.02</td>\n",
       "      <td>0.01</td>\n",
       "      <td>0.02</td>\n",
       "      <td>0.03</td>\n",
       "      <td>-0.01</td>\n",
       "      <td>0.00</td>\n",
       "      <td>0.17</td>\n",
       "      <td>1.00</td>\n",
       "      <td>0.13</td>\n",
       "      <td>0.01</td>\n",
       "      <td>0.01</td>\n",
       "    </tr>\n",
       "    <tr>\n",
       "      <th>음주여부</th>\n",
       "      <td>0.05</td>\n",
       "      <td>0.04</td>\n",
       "      <td>0.04</td>\n",
       "      <td>0.04</td>\n",
       "      <td>0.05</td>\n",
       "      <td>0.05</td>\n",
       "      <td>0.03</td>\n",
       "      <td>-0.02</td>\n",
       "      <td>0.14</td>\n",
       "      <td>0.13</td>\n",
       "      <td>1.00</td>\n",
       "      <td>0.02</td>\n",
       "      <td>0.02</td>\n",
       "    </tr>\n",
       "    <tr>\n",
       "      <th>bmi</th>\n",
       "      <td>-0.04</td>\n",
       "      <td>0.87</td>\n",
       "      <td>0.80</td>\n",
       "      <td>0.26</td>\n",
       "      <td>0.23</td>\n",
       "      <td>0.16</td>\n",
       "      <td>0.17</td>\n",
       "      <td>0.35</td>\n",
       "      <td>0.24</td>\n",
       "      <td>0.01</td>\n",
       "      <td>0.02</td>\n",
       "      <td>1.00</td>\n",
       "      <td>0.82</td>\n",
       "    </tr>\n",
       "    <tr>\n",
       "      <th>WHtR</th>\n",
       "      <td>-0.19</td>\n",
       "      <td>0.64</td>\n",
       "      <td>0.92</td>\n",
       "      <td>0.21</td>\n",
       "      <td>0.21</td>\n",
       "      <td>0.14</td>\n",
       "      <td>0.16</td>\n",
       "      <td>0.35</td>\n",
       "      <td>0.27</td>\n",
       "      <td>0.01</td>\n",
       "      <td>0.02</td>\n",
       "      <td>0.82</td>\n",
       "      <td>1.00</td>\n",
       "    </tr>\n",
       "  </tbody>\n",
       "</table>\n",
       "</div>"
      ],
      "text/plain": [
       "            신장(5Cm단위)  체중(5Kg 단위)  허리둘레  수축기 혈압  이완기 혈압  식전혈당(공복혈당)  \\\n",
       "신장(5Cm단위)        1.00        0.45  0.20    0.03    0.00        0.02   \n",
       "체중(5Kg 단위)       0.45        1.00  0.81    0.25    0.21        0.15   \n",
       "허리둘레             0.20        0.81  1.00    0.22    0.21        0.15   \n",
       "수축기 혈압           0.03        0.25  0.22    1.00    0.73        0.13   \n",
       "이완기 혈압           0.00        0.21  0.21    0.73    1.00        0.12   \n",
       "식전혈당(공복혈당)       0.02        0.15  0.15    0.13    0.12        1.00   \n",
       "(혈청지오티)AST      -0.04        0.13  0.15    0.10    0.11        0.02   \n",
       "(혈청지오티)ALT      -0.02        0.30  0.35    0.13    0.14        0.12   \n",
       "감마 지티피          -0.03        0.20  0.26    0.17    0.19        0.17   \n",
       "흡연상태             0.02        0.01  0.02    0.01    0.02        0.03   \n",
       "음주여부             0.05        0.04  0.04    0.04    0.05        0.05   \n",
       "bmi             -0.04        0.87  0.80    0.26    0.23        0.16   \n",
       "WHtR            -0.19        0.64  0.92    0.21    0.21        0.14   \n",
       "\n",
       "            (혈청지오티)AST  (혈청지오티)ALT  감마 지티피  흡연상태  음주여부   bmi  WHtR  \n",
       "신장(5Cm단위)        -0.04       -0.02   -0.03  0.02  0.05 -0.04 -0.19  \n",
       "체중(5Kg 단위)        0.13        0.30    0.20  0.01  0.04  0.87  0.64  \n",
       "허리둘레              0.15        0.35    0.26  0.02  0.04  0.80  0.92  \n",
       "수축기 혈압            0.10        0.13    0.17  0.01  0.04  0.26  0.21  \n",
       "이완기 혈압            0.11        0.14    0.19  0.02  0.05  0.23  0.21  \n",
       "식전혈당(공복혈당)        0.02        0.12    0.17  0.03  0.05  0.16  0.14  \n",
       "(혈청지오티)AST        1.00        0.67    0.33 -0.01  0.03  0.17  0.16  \n",
       "(혈청지오티)ALT        0.67        1.00    0.42  0.00 -0.02  0.35  0.35  \n",
       "감마 지티피            0.33        0.42    1.00  0.17  0.14  0.24  0.27  \n",
       "흡연상태             -0.01        0.00    0.17  1.00  0.13  0.01  0.01  \n",
       "음주여부              0.03       -0.02    0.14  0.13  1.00  0.02  0.02  \n",
       "bmi               0.17        0.35    0.24  0.01  0.02  1.00  0.82  \n",
       "WHtR              0.16        0.35    0.27  0.01  0.02  0.82  1.00  "
      ]
     },
     "execution_count": 145,
     "metadata": {},
     "output_type": "execute_result"
    }
   ],
   "source": [
    "crr = df4.astype(float).corr()\n",
    "crr = crr.round(2)\n",
    "crr"
   ]
  },
  {
   "cell_type": "code",
   "execution_count": 146,
   "id": "5eaf369d",
   "metadata": {},
   "outputs": [],
   "source": [
    "crr1 = crr.applymap(lambda x: np.abs(x).round(2))"
   ]
  },
  {
   "cell_type": "code",
   "execution_count": 147,
   "id": "b48186c7",
   "metadata": {},
   "outputs": [
    {
     "data": {
      "image/png": "[encoded data removed]",
      "text/plain": [
       "<Figure size 720x576 with 2 Axes>"
      ]
     },
     "metadata": {
      "needs_background": "light"
     },
     "output_type": "display_data"
    }
   ],
   "source": [
    "colormap = plt.cm.PuBu\n",
    "plt.figure(figsize=(10, 8))\n",
    "sns.heatmap(crr1, linewidths = 0.1, vmax = 1.0,\n",
    "           square = True, cmap = colormap, linecolor = \"white\", annot = True, annot_kws = {\"size\" : 10})\n",
    "plt.show()"
   ]
  },
  {
   "cell_type": "markdown",
   "id": "e1266e50",
   "metadata": {},
   "source": [
    "## WHtR 과 상관관계 있는 컬럼"
   ]
  },
  {
   "cell_type": "code",
   "execution_count": 162,
   "id": "ad77af90",
   "metadata": {},
   "outputs": [],
   "source": [
    "li_weak, li_strong, li_very_strong = [], [], []"
   ]
  },
  {
   "cell_type": "code",
   "execution_count": 163,
   "id": "6f3a13ef",
   "metadata": {},
   "outputs": [],
   "source": [
    "i = 'WHtR'\n",
    "for j in crr.columns:\n",
    "    if i is not j:\n",
    "        crr_one = crr1.loc[i, j]\n",
    "        crr_org = crr.loc[i, j]\n",
    "        if crr_one < 0.1:\n",
    "            pass\n",
    "        elif crr_one < 0.3:\n",
    "            li_weak.append((crr_org, j))\n",
    "        elif crr_one < 0.7:\n",
    "            li_strong.append((crr_org, j))\n",
    "        else:\n",
    "            li_very_strong.append((crr_org, j))     "
   ]
  },
  {
   "cell_type": "code",
   "execution_count": 167,
   "id": "cee4a19a",
   "metadata": {},
   "outputs": [
    {
     "data": {
      "text/plain": [
       "[(0.82, 'bmi'), (0.92, '허리둘레')]"
      ]
     },
     "execution_count": 167,
     "metadata": {},
     "output_type": "execute_result"
    }
   ],
   "source": [
    "li_very_strong\n",
    "sorted(li_very_strong)"
   ]
  },
  {
   "cell_type": "code",
   "execution_count": 168,
   "id": "93a81aff",
   "metadata": {},
   "outputs": [
    {
     "data": {
      "text/plain": [
       "[(0.35, '(혈청지오티)ALT'), (0.64, '체중(5Kg 단위)')]"
      ]
     },
     "execution_count": 168,
     "metadata": {},
     "output_type": "execute_result"
    }
   ],
   "source": [
    "sorted(li_strong)"
   ]
  },
  {
   "cell_type": "code",
   "execution_count": 169,
   "id": "b3d179a2",
   "metadata": {},
   "outputs": [
    {
     "data": {
      "text/plain": [
       "[(-0.19, '신장(5Cm단위)'),\n",
       " (0.14, '식전혈당(공복혈당)'),\n",
       " (0.16, '(혈청지오티)AST'),\n",
       " (0.21, '수축기 혈압'),\n",
       " (0.21, '이완기 혈압'),\n",
       " (0.27, '감마 지티피')]"
      ]
     },
     "execution_count": 169,
     "metadata": {},
     "output_type": "execute_result"
    }
   ],
   "source": [
    "sorted(li_weak)"
   ]
  },
  {
   "cell_type": "markdown",
   "id": "530c896f",
   "metadata": {},
   "source": [
    "- bmi (0.82), \n",
    "- ALT (0.35),\n",
    "- 감마지티피(0.27), 혈압 (0.21/0.21), AST(0.16)"
   ]
  },
  {
   "cell_type": "code",
   "execution_count": null,
   "id": "199a7e7d",
   "metadata": {},
   "outputs": [],
   "source": []
  }
 ],
 "metadata": {
  "kernelspec": {
   "display_name": "Python 3 (ipykernel)",
   "language": "python",
   "name": "python3"
  },
  "language_info": {
   "codemirror_mode": {
    "name": "ipython",
    "version": 3
   },
   "file_extension": ".py",
   "mimetype": "text/x-python",
   "name": "python",
   "nbconvert_exporter": "python",
   "pygments_lexer": "ipython3",
   "version": "3.8.13"
  },
  "toc": {
   "base_numbering": 1,
   "nav_menu": {},
   "number_sections": true,
   "sideBar": true,
   "skip_h1_title": false,
   "title_cell": "Table of Contents",
   "title_sidebar": "Contents",
   "toc_cell": false,
   "toc_position": {},
   "toc_section_display": true,
   "toc_window_display": true
  }
 },
 "nbformat": 4,
 "nbformat_minor": 5
}
