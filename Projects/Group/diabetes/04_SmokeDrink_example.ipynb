{
 "cells": [
  {
   "cell_type": "code",
   "execution_count": 1,
   "id": "4e12f413",
   "metadata": {},
   "outputs": [],
   "source": [
    "import numpy as np\n",
    "import pandas as pd\n",
    "import matplotlib.pyplot as plt"
   ]
  },
  {
   "cell_type": "code",
   "execution_count": 2,
   "id": "eccdabf8",
   "metadata": {},
   "outputs": [],
   "source": [
    "data = pd.read_csv('./data/국민건강보험공단_건강검진정보_20211229.CSV', encoding='euc-kr')"
   ]
  },
  {
   "cell_type": "code",
   "execution_count": 3,
   "id": "1becebc7",
   "metadata": {},
   "outputs": [
    {
     "data": {
      "text/html": [
       "<div>\n",
       "<style scoped>\n",
       "    .dataframe tbody tr th:only-of-type {\n",
       "        vertical-align: middle;\n",
       "    }\n",
       "\n",
       "    .dataframe tbody tr th {\n",
       "        vertical-align: top;\n",
       "    }\n",
       "\n",
       "    .dataframe thead th {\n",
       "        text-align: right;\n",
       "    }\n",
       "</style>\n",
       "<table border=\"1\" class=\"dataframe\">\n",
       "  <thead>\n",
       "    <tr style=\"text-align: right;\">\n",
       "      <th></th>\n",
       "      <th>기준년도</th>\n",
       "      <th>가입자 일련번호</th>\n",
       "      <th>시도코드</th>\n",
       "      <th>성별코드</th>\n",
       "      <th>연령대 코드(5세단위)</th>\n",
       "      <th>신장(5Cm단위)</th>\n",
       "      <th>체중(5Kg 단위)</th>\n",
       "      <th>허리둘레</th>\n",
       "      <th>시력(좌)</th>\n",
       "      <th>시력(우)</th>\n",
       "      <th>...</th>\n",
       "      <th>혈청크레아티닌</th>\n",
       "      <th>(혈청지오티)AST</th>\n",
       "      <th>(혈청지오티)ALT</th>\n",
       "      <th>감마 지티피</th>\n",
       "      <th>흡연상태</th>\n",
       "      <th>음주여부</th>\n",
       "      <th>구강검진 수검여부</th>\n",
       "      <th>치아우식증유무</th>\n",
       "      <th>치석</th>\n",
       "      <th>데이터 공개일자</th>\n",
       "    </tr>\n",
       "  </thead>\n",
       "  <tbody>\n",
       "    <tr>\n",
       "      <th>0</th>\n",
       "      <td>2020</td>\n",
       "      <td>1</td>\n",
       "      <td>36</td>\n",
       "      <td>1</td>\n",
       "      <td>9</td>\n",
       "      <td>165</td>\n",
       "      <td>60</td>\n",
       "      <td>72.1</td>\n",
       "      <td>1.2</td>\n",
       "      <td>1.5</td>\n",
       "      <td>...</td>\n",
       "      <td>1.1</td>\n",
       "      <td>21.0</td>\n",
       "      <td>27.0</td>\n",
       "      <td>21.0</td>\n",
       "      <td>1.0</td>\n",
       "      <td>0.0</td>\n",
       "      <td>0</td>\n",
       "      <td>NaN</td>\n",
       "      <td>NaN</td>\n",
       "      <td>2021-12-29</td>\n",
       "    </tr>\n",
       "    <tr>\n",
       "      <th>1</th>\n",
       "      <td>2020</td>\n",
       "      <td>2</td>\n",
       "      <td>27</td>\n",
       "      <td>2</td>\n",
       "      <td>13</td>\n",
       "      <td>150</td>\n",
       "      <td>65</td>\n",
       "      <td>81.0</td>\n",
       "      <td>0.8</td>\n",
       "      <td>0.8</td>\n",
       "      <td>...</td>\n",
       "      <td>0.5</td>\n",
       "      <td>18.0</td>\n",
       "      <td>15.0</td>\n",
       "      <td>15.0</td>\n",
       "      <td>1.0</td>\n",
       "      <td>0.0</td>\n",
       "      <td>0</td>\n",
       "      <td>NaN</td>\n",
       "      <td>NaN</td>\n",
       "      <td>2021-12-29</td>\n",
       "    </tr>\n",
       "    <tr>\n",
       "      <th>2</th>\n",
       "      <td>2020</td>\n",
       "      <td>3</td>\n",
       "      <td>11</td>\n",
       "      <td>2</td>\n",
       "      <td>12</td>\n",
       "      <td>155</td>\n",
       "      <td>55</td>\n",
       "      <td>70.0</td>\n",
       "      <td>0.6</td>\n",
       "      <td>0.7</td>\n",
       "      <td>...</td>\n",
       "      <td>0.7</td>\n",
       "      <td>27.0</td>\n",
       "      <td>25.0</td>\n",
       "      <td>7.0</td>\n",
       "      <td>1.0</td>\n",
       "      <td>0.0</td>\n",
       "      <td>0</td>\n",
       "      <td>NaN</td>\n",
       "      <td>NaN</td>\n",
       "      <td>2021-12-29</td>\n",
       "    </tr>\n",
       "    <tr>\n",
       "      <th>3</th>\n",
       "      <td>2020</td>\n",
       "      <td>4</td>\n",
       "      <td>31</td>\n",
       "      <td>1</td>\n",
       "      <td>13</td>\n",
       "      <td>160</td>\n",
       "      <td>70</td>\n",
       "      <td>90.8</td>\n",
       "      <td>1.0</td>\n",
       "      <td>1.0</td>\n",
       "      <td>...</td>\n",
       "      <td>1.2</td>\n",
       "      <td>65.0</td>\n",
       "      <td>97.0</td>\n",
       "      <td>72.0</td>\n",
       "      <td>1.0</td>\n",
       "      <td>0.0</td>\n",
       "      <td>1</td>\n",
       "      <td>0.0</td>\n",
       "      <td>0.0</td>\n",
       "      <td>2021-12-29</td>\n",
       "    </tr>\n",
       "    <tr>\n",
       "      <th>4</th>\n",
       "      <td>2020</td>\n",
       "      <td>5</td>\n",
       "      <td>41</td>\n",
       "      <td>2</td>\n",
       "      <td>12</td>\n",
       "      <td>155</td>\n",
       "      <td>50</td>\n",
       "      <td>75.2</td>\n",
       "      <td>1.5</td>\n",
       "      <td>1.2</td>\n",
       "      <td>...</td>\n",
       "      <td>0.7</td>\n",
       "      <td>18.0</td>\n",
       "      <td>17.0</td>\n",
       "      <td>14.0</td>\n",
       "      <td>1.0</td>\n",
       "      <td>0.0</td>\n",
       "      <td>0</td>\n",
       "      <td>NaN</td>\n",
       "      <td>NaN</td>\n",
       "      <td>2021-12-29</td>\n",
       "    </tr>\n",
       "  </tbody>\n",
       "</table>\n",
       "<p>5 rows × 31 columns</p>\n",
       "</div>"
      ],
      "text/plain": [
       "   기준년도  가입자 일련번호  시도코드  성별코드  연령대 코드(5세단위)  신장(5Cm단위)  체중(5Kg 단위)  허리둘레  \\\n",
       "0  2020         1    36     1             9        165          60  72.1   \n",
       "1  2020         2    27     2            13        150          65  81.0   \n",
       "2  2020         3    11     2            12        155          55  70.0   \n",
       "3  2020         4    31     1            13        160          70  90.8   \n",
       "4  2020         5    41     2            12        155          50  75.2   \n",
       "\n",
       "   시력(좌)  시력(우)  ...  혈청크레아티닌  (혈청지오티)AST  (혈청지오티)ALT  감마 지티피  흡연상태  음주여부  \\\n",
       "0    1.2    1.5  ...      1.1        21.0        27.0    21.0   1.0   0.0   \n",
       "1    0.8    0.8  ...      0.5        18.0        15.0    15.0   1.0   0.0   \n",
       "2    0.6    0.7  ...      0.7        27.0        25.0     7.0   1.0   0.0   \n",
       "3    1.0    1.0  ...      1.2        65.0        97.0    72.0   1.0   0.0   \n",
       "4    1.5    1.2  ...      0.7        18.0        17.0    14.0   1.0   0.0   \n",
       "\n",
       "   구강검진 수검여부  치아우식증유무   치석    데이터 공개일자  \n",
       "0          0      NaN  NaN  2021-12-29  \n",
       "1          0      NaN  NaN  2021-12-29  \n",
       "2          0      NaN  NaN  2021-12-29  \n",
       "3          1      0.0  0.0  2021-12-29  \n",
       "4          0      NaN  NaN  2021-12-29  \n",
       "\n",
       "[5 rows x 31 columns]"
      ]
     },
     "execution_count": 3,
     "metadata": {},
     "output_type": "execute_result"
    }
   ],
   "source": [
    "data.head()"
   ]
  },
  {
   "cell_type": "code",
   "execution_count": 4,
   "id": "252c3920",
   "metadata": {},
   "outputs": [
    {
     "name": "stdout",
     "output_type": "stream",
     "text": [
      "<class 'pandas.core.frame.DataFrame'>\n",
      "RangeIndex: 1000000 entries, 0 to 999999\n",
      "Data columns (total 31 columns):\n",
      " #   Column        Non-Null Count    Dtype  \n",
      "---  ------        --------------    -----  \n",
      " 0   기준년도          1000000 non-null  int64  \n",
      " 1   가입자 일련번호      1000000 non-null  int64  \n",
      " 2   시도코드          1000000 non-null  int64  \n",
      " 3   성별코드          1000000 non-null  int64  \n",
      " 4   연령대 코드(5세단위)  1000000 non-null  int64  \n",
      " 5   신장(5Cm단위)     1000000 non-null  int64  \n",
      " 6   체중(5Kg 단위)    1000000 non-null  int64  \n",
      " 7   허리둘레          999892 non-null   float64\n",
      " 8   시력(좌)         999743 non-null   float64\n",
      " 9   시력(우)         999748 non-null   float64\n",
      " 10  청력(좌)         999778 non-null   float64\n",
      " 11  청력(우)         999770 non-null   float64\n",
      " 12  수축기 혈압        992468 non-null   float64\n",
      " 13  이완기 혈압        992466 non-null   float64\n",
      " 14  식전혈당(공복혈당)    992398 non-null   float64\n",
      " 15  총 콜레스테롤       402306 non-null   float64\n",
      " 16  트리글리세라이드      402322 non-null   float64\n",
      " 17  HDL 콜레스테롤     402315 non-null   float64\n",
      " 18  LDL 콜레스테롤     394471 non-null   float64\n",
      " 19  혈색소           992389 non-null   float64\n",
      " 20  요단백           987859 non-null   float64\n",
      " 21  혈청크레아티닌       992398 non-null   float64\n",
      " 22  (혈청지오티)AST    992399 non-null   float64\n",
      " 23  (혈청지오티)ALT    992398 non-null   float64\n",
      " 24  감마 지티피        992397 non-null   float64\n",
      " 25  흡연상태          999657 non-null   float64\n",
      " 26  음주여부          999804 non-null   float64\n",
      " 27  구강검진 수검여부     1000000 non-null  int64  \n",
      " 28  치아우식증유무       331383 non-null   float64\n",
      " 29  치석            331382 non-null   float64\n",
      " 30  데이터 공개일자      1000000 non-null  object \n",
      "dtypes: float64(22), int64(8), object(1)\n",
      "memory usage: 236.5+ MB\n"
     ]
    }
   ],
   "source": [
    "data.info()"
   ]
  },
  {
   "cell_type": "code",
   "execution_count": 5,
   "id": "04e48662",
   "metadata": {},
   "outputs": [
    {
     "data": {
      "text/plain": [
       "Index(['기준년도', '가입자 일련번호', '시도코드', '성별코드', '연령대 코드(5세단위)', '신장(5Cm단위)',\n",
       "       '체중(5Kg 단위)', '허리둘레', '시력(좌)', '시력(우)', '청력(좌)', '청력(우)', '수축기 혈압',\n",
       "       '이완기 혈압', '식전혈당(공복혈당)', '총 콜레스테롤', '트리글리세라이드', 'HDL 콜레스테롤', 'LDL 콜레스테롤',\n",
       "       '혈색소', '요단백', '혈청크레아티닌', '(혈청지오티)AST', '(혈청지오티)ALT', '감마 지티피', '흡연상태',\n",
       "       '음주여부', '구강검진 수검여부', '치아우식증유무', '치석', '데이터 공개일자'],\n",
       "      dtype='object')"
      ]
     },
     "execution_count": 5,
     "metadata": {},
     "output_type": "execute_result"
    }
   ],
   "source": [
    "data.columns"
   ]
  },
  {
   "cell_type": "code",
   "execution_count": 13,
   "id": "6c71acbf",
   "metadata": {},
   "outputs": [],
   "source": [
    "# 그룹핑에 사용할 컬럼들 임의로 뽑아봄\n",
    "col_groups = ['성별코드', '연령대 코드(5세단위)', '허리둘레', '수축기 혈압', '이완기 혈압', '총 콜레스테롤']"
   ]
  },
  {
   "cell_type": "code",
   "execution_count": 12,
   "id": "e1eea1c2",
   "metadata": {},
   "outputs": [
    {
     "data": {
      "text/plain": [
       "성별코드  연령대 코드(5세단위)  허리둘레   수축기 혈압  이완기 혈압  총 콜레스테롤\n",
       "1     9             56.0   108.0   72.0    236.0      1\n",
       "                    57.0   119.0   77.0    198.0      1\n",
       "                           122.0   76.0    206.0      1\n",
       "                           135.0   82.0    134.0      1\n",
       "                    58.0   109.0   66.0    186.0      1\n",
       "                                                     ..\n",
       "2     18            110.0  158.0   87.0    198.0      1\n",
       "                           160.0   80.0    229.0      1\n",
       "                    110.4  123.0   83.0    230.0      1\n",
       "                    113.8  153.0   66.0    231.0      1\n",
       "                    120.0  123.0   71.0    138.0      1\n",
       "Name: 흡연상태, Length: 398927, dtype: int64"
      ]
     },
     "execution_count": 12,
     "metadata": {},
     "output_type": "execute_result"
    }
   ],
   "source": [
    "data.groupby(by=col_groups).count()['흡연상태']"
   ]
  },
  {
   "cell_type": "markdown",
   "id": "e613e301",
   "metadata": {},
   "source": [
    "- count하면 1개 씩밖에 안나옴 -> 각 컬럼을 카테고리화 해야함"
   ]
  },
  {
   "cell_type": "markdown",
   "id": "031026a4",
   "metadata": {},
   "source": [
    "# 특정 값으로 나눈 몫으로 그룹화 시도"
   ]
  },
  {
   "cell_type": "code",
   "execution_count": 15,
   "id": "137265f2",
   "metadata": {},
   "outputs": [
    {
     "data": {
      "text/plain": [
       "['허리둘레', '수축기 혈압', '이완기 혈압', '총 콜레스테롤']"
      ]
     },
     "execution_count": 15,
     "metadata": {},
     "output_type": "execute_result"
    }
   ],
   "source": [
    "cat_cols = ['허리둘레', '수축기 혈압', '이완기 혈압', '총 콜레스테롤']\n",
    "cat_cols"
   ]
  },
  {
   "cell_type": "markdown",
   "id": "9654b59d",
   "metadata": {},
   "source": [
    "## 5, 20"
   ]
  },
  {
   "cell_type": "code",
   "execution_count": 32,
   "id": "4093216c",
   "metadata": {
    "scrolled": false
   },
   "outputs": [],
   "source": [
    "data1 = data.copy()\n",
    "for c in cat_cols:\n",
    "    if c == '총 콜레스테롤':\n",
    "        interval = 20\n",
    "    else:\n",
    "        interval = 5\n",
    "    data1[c] = data1[c]//interval"
   ]
  },
  {
   "cell_type": "code",
   "execution_count": 35,
   "id": "fd5597bd",
   "metadata": {},
   "outputs": [
    {
     "data": {
      "text/plain": [
       "허리둘레   수축기 혈압  이완기 혈압  총 콜레스테롤\n",
       "1.0    26.0    16.0    16.0       1.0\n",
       "7.0    21.0    13.0    10.0       1.0\n",
       "       22.0    16.0    6.0        1.0\n",
       "9.0    21.0    14.0    6.0        1.0\n",
       "10.0   16.0    12.0    8.0        1.0\n",
       "                                 ... \n",
       "28.0   23.0    14.0    10.0       1.0\n",
       "       28.0    16.0    10.0       1.0\n",
       "29.0   30.0    18.0    10.0       3.0\n",
       "136.0  19.0    12.0    8.0        1.0\n",
       "199.0  23.0    14.0    13.0       1.0\n",
       "Name: 흡연상태, Length: 17937, dtype: float64"
      ]
     },
     "execution_count": 35,
     "metadata": {},
     "output_type": "execute_result"
    }
   ],
   "source": [
    "data1.groupby(by=cat_cols).mean()['흡연상태']"
   ]
  },
  {
   "cell_type": "code",
   "execution_count": 36,
   "id": "03d85f6a",
   "metadata": {},
   "outputs": [
    {
     "data": {
      "text/plain": [
       "허리둘레   수축기 혈압  이완기 혈압  총 콜레스테롤\n",
       "1.0    26.0    16.0    16.0       1\n",
       "7.0    21.0    13.0    10.0       1\n",
       "       22.0    16.0    6.0        1\n",
       "9.0    21.0    14.0    6.0        1\n",
       "10.0   16.0    12.0    8.0        1\n",
       "                                 ..\n",
       "28.0   23.0    14.0    10.0       1\n",
       "       28.0    16.0    10.0       1\n",
       "29.0   30.0    18.0    10.0       1\n",
       "136.0  19.0    12.0    8.0        1\n",
       "199.0  23.0    14.0    13.0       1\n",
       "Name: 흡연상태, Length: 17937, dtype: int64"
      ]
     },
     "execution_count": 36,
     "metadata": {},
     "output_type": "execute_result"
    }
   ],
   "source": [
    "data1.groupby(by=cat_cols).count()['흡연상태']"
   ]
  },
  {
   "cell_type": "markdown",
   "id": "b73eeb5b",
   "metadata": {},
   "source": [
    "- 그룹이 너무 specific해서 각 그룹에 해당하는 경우가 1개씩 나옴 당황스럽"
   ]
  },
  {
   "cell_type": "code",
   "execution_count": null,
   "id": "3226ca9c",
   "metadata": {},
   "outputs": [],
   "source": []
  },
  {
   "cell_type": "markdown",
   "id": "01bd660d",
   "metadata": {},
   "source": [
    "## 간격 설정 iqr/n로 도전"
   ]
  },
  {
   "cell_type": "code",
   "execution_count": 38,
   "id": "9b1c81b5",
   "metadata": {
    "scrolled": true
   },
   "outputs": [
    {
     "data": {
      "text/plain": [
       "count    402306.000000\n",
       "mean        198.457729\n",
       "std          43.210579\n",
       "min          54.000000\n",
       "25%         170.000000\n",
       "50%         197.000000\n",
       "75%         225.000000\n",
       "max        2416.000000\n",
       "Name: 총 콜레스테롤, dtype: float64"
      ]
     },
     "execution_count": 38,
     "metadata": {},
     "output_type": "execute_result"
    }
   ],
   "source": [
    "data.describe()['총 콜레스테롤']"
   ]
  },
  {
   "cell_type": "code",
   "execution_count": 45,
   "id": "622eaba5",
   "metadata": {},
   "outputs": [
    {
     "data": {
      "text/plain": [
       "(170.0, 225.0)"
      ]
     },
     "execution_count": 45,
     "metadata": {},
     "output_type": "execute_result"
    }
   ],
   "source": [
    "q1 = data.describe().loc['25%', '총 콜레스테롤']\n",
    "q3 = data.describe().loc['75%', '총 콜레스테롤']\n",
    "q1, q3"
   ]
  },
  {
   "cell_type": "code",
   "execution_count": 54,
   "id": "4fa37877",
   "metadata": {
    "scrolled": true
   },
   "outputs": [
    {
     "name": "stdout",
     "output_type": "stream",
     "text": [
      "허리둘레 6.0\n",
      "수축기 혈압 9.0\n",
      "이완기 혈압 6.0\n",
      "총 콜레스테롤 27.0\n"
     ]
    }
   ],
   "source": [
    "data2 = data.copy()\n",
    "for c in cat_cols:\n",
    "    q1 = data.describe().loc['25%', c]\n",
    "    q3 = data.describe().loc['75%', c]\n",
    "    interval = (q3-q1)//2\n",
    "    print(c, interval)\n",
    "    data2[c] = data2[c]//interval"
   ]
  },
  {
   "cell_type": "code",
   "execution_count": 55,
   "id": "05bc7ef0",
   "metadata": {},
   "outputs": [
    {
     "data": {
      "text/plain": [
       "허리둘레   수축기 혈압  이완기 혈압  총 콜레스테롤\n",
       "1.0    14.0    14.0    12.0       1\n",
       "6.0    11.0    11.0    7.0        1\n",
       "       12.0    13.0    4.0        1\n",
       "8.0    8.0     10.0    6.0        1\n",
       "       9.0     8.0     7.0        1\n",
       "                                 ..\n",
       "23.0   12.0    12.0    7.0        1\n",
       "       15.0    13.0    7.0        1\n",
       "24.0   16.0    15.0    7.0        1\n",
       "113.0  11.0    10.0    6.0        1\n",
       "166.0  13.0    12.0    10.0       1\n",
       "Name: 흡연상태, Length: 7843, dtype: int64"
      ]
     },
     "execution_count": 55,
     "metadata": {},
     "output_type": "execute_result"
    }
   ],
   "source": [
    "data2.groupby(by=cat_cols).count()['흡연상태']"
   ]
  },
  {
   "cell_type": "code",
   "execution_count": null,
   "id": "2b05e779",
   "metadata": {},
   "outputs": [],
   "source": []
  },
  {
   "cell_type": "markdown",
   "id": "30cd5831",
   "metadata": {},
   "source": [
    "## 간격 (max-min)/n 로 도전"
   ]
  },
  {
   "cell_type": "code",
   "execution_count": 38,
   "id": "3103cb61",
   "metadata": {
    "scrolled": true
   },
   "outputs": [
    {
     "data": {
      "text/plain": [
       "count    402306.000000\n",
       "mean        198.457729\n",
       "std          43.210579\n",
       "min          54.000000\n",
       "25%         170.000000\n",
       "50%         197.000000\n",
       "75%         225.000000\n",
       "max        2416.000000\n",
       "Name: 총 콜레스테롤, dtype: float64"
      ]
     },
     "execution_count": 38,
     "metadata": {},
     "output_type": "execute_result"
    }
   ],
   "source": [
    "data.describe()['총 콜레스테롤']"
   ]
  },
  {
   "cell_type": "code",
   "execution_count": 58,
   "id": "ea725bb6",
   "metadata": {},
   "outputs": [
    {
     "data": {
      "text/plain": [
       "(54.0, 2416.0)"
      ]
     },
     "execution_count": 58,
     "metadata": {},
     "output_type": "execute_result"
    }
   ],
   "source": [
    "min_ = data.describe().loc['min', '총 콜레스테롤']\n",
    "max_ = data.describe().loc['max', '총 콜레스테롤']\n",
    "min_, max_"
   ]
  },
  {
   "cell_type": "code",
   "execution_count": 59,
   "id": "9a060c58",
   "metadata": {
    "scrolled": true
   },
   "outputs": [
    {
     "name": "stdout",
     "output_type": "stream",
     "text": [
      "허리둘레 99.0\n",
      "수축기 혈압 19.0\n",
      "이완기 혈압 16.0\n",
      "총 콜레스테롤 236.0\n"
     ]
    }
   ],
   "source": [
    "data3 = data.copy()\n",
    "for c in cat_cols:\n",
    "    min_ = data.describe().loc['min', c]\n",
    "    max_ = data.describe().loc['max', c]\n",
    "    interval = (max_- min_)//10\n",
    "    print(c, interval)\n",
    "    data3[c] = data3[c]//interval"
   ]
  },
  {
   "cell_type": "code",
   "execution_count": 60,
   "id": "7eb3afa5",
   "metadata": {},
   "outputs": [
    {
     "data": {
      "text/plain": [
       "허리둘레  수축기 혈압  이완기 혈압  총 콜레스테롤\n",
       "0.0   3.0     2.0     0.0        5\n",
       "                      1.0        1\n",
       "              3.0     0.0        5\n",
       "                      1.0        3\n",
       "      4.0     1.0     0.0        1\n",
       "                                ..\n",
       "1.0   11.0    9.0     0.0        1\n",
       "                      1.0        1\n",
       "      13.0    9.0     1.0        1\n",
       "6.0   5.0     4.0     0.0        1\n",
       "10.0  6.0     4.0     1.0        1\n",
       "Name: 흡연상태, Length: 200, dtype: int64"
      ]
     },
     "execution_count": 60,
     "metadata": {},
     "output_type": "execute_result"
    }
   ],
   "source": [
    "data3.groupby(by=cat_cols).count()['흡연상태']"
   ]
  },
  {
   "cell_type": "code",
   "execution_count": null,
   "id": "79a6833d",
   "metadata": {},
   "outputs": [],
   "source": []
  },
  {
   "cell_type": "markdown",
   "id": "8f33667c",
   "metadata": {},
   "source": [
    "# 각각의 컬럼과 흡연상태의 연관성"
   ]
  },
  {
   "cell_type": "code",
   "execution_count": 61,
   "id": "bdf67d98",
   "metadata": {},
   "outputs": [
    {
     "data": {
      "text/plain": [
       "Index(['기준년도', '가입자 일련번호', '시도코드', '성별코드', '연령대 코드(5세단위)', '신장(5Cm단위)',\n",
       "       '체중(5Kg 단위)', '허리둘레', '시력(좌)', '시력(우)', '청력(좌)', '청력(우)', '수축기 혈압',\n",
       "       '이완기 혈압', '식전혈당(공복혈당)', '총 콜레스테롤', '트리글리세라이드', 'HDL 콜레스테롤', 'LDL 콜레스테롤',\n",
       "       '혈색소', '요단백', '혈청크레아티닌', '(혈청지오티)AST', '(혈청지오티)ALT', '감마 지티피', '흡연상태',\n",
       "       '음주여부', '구강검진 수검여부', '치아우식증유무', '치석', '데이터 공개일자'],\n",
       "      dtype='object')"
      ]
     },
     "execution_count": 61,
     "metadata": {},
     "output_type": "execute_result"
    }
   ],
   "source": [
    "data.columns"
   ]
  },
  {
   "cell_type": "code",
   "execution_count": 88,
   "id": "537320c4",
   "metadata": {},
   "outputs": [
    {
     "data": {
      "text/html": [
       "<div>\n",
       "<style scoped>\n",
       "    .dataframe tbody tr th:only-of-type {\n",
       "        vertical-align: middle;\n",
       "    }\n",
       "\n",
       "    .dataframe tbody tr th {\n",
       "        vertical-align: top;\n",
       "    }\n",
       "\n",
       "    .dataframe thead th {\n",
       "        text-align: right;\n",
       "    }\n",
       "</style>\n",
       "<table border=\"1\" class=\"dataframe\">\n",
       "  <thead>\n",
       "    <tr style=\"text-align: right;\">\n",
       "      <th></th>\n",
       "      <th>성별코드</th>\n",
       "      <th>연령대 코드(5세단위)</th>\n",
       "      <th>신장(5Cm단위)</th>\n",
       "      <th>체중(5Kg 단위)</th>\n",
       "      <th>허리둘레</th>\n",
       "      <th>수축기 혈압</th>\n",
       "      <th>이완기 혈압</th>\n",
       "      <th>총 콜레스테롤</th>\n",
       "      <th>트리글리세라이드</th>\n",
       "      <th>HDL 콜레스테롤</th>\n",
       "      <th>LDL 콜레스테롤</th>\n",
       "      <th>혈색소</th>\n",
       "      <th>요단백</th>\n",
       "      <th>혈청크레아티닌</th>\n",
       "      <th>(혈청지오티)AST</th>\n",
       "      <th>(혈청지오티)ALT</th>\n",
       "      <th>감마 지티피</th>\n",
       "      <th>흡연상태</th>\n",
       "    </tr>\n",
       "  </thead>\n",
       "  <tbody>\n",
       "    <tr>\n",
       "      <th>0</th>\n",
       "      <td>1</td>\n",
       "      <td>9</td>\n",
       "      <td>165</td>\n",
       "      <td>60</td>\n",
       "      <td>72.1</td>\n",
       "      <td>127.0</td>\n",
       "      <td>79.0</td>\n",
       "      <td>188.0</td>\n",
       "      <td>58.0</td>\n",
       "      <td>58.0</td>\n",
       "      <td>118.0</td>\n",
       "      <td>15.0</td>\n",
       "      <td>1.0</td>\n",
       "      <td>1.1</td>\n",
       "      <td>21.0</td>\n",
       "      <td>27.0</td>\n",
       "      <td>21.0</td>\n",
       "      <td>1.0</td>\n",
       "    </tr>\n",
       "    <tr>\n",
       "      <th>1</th>\n",
       "      <td>2</td>\n",
       "      <td>13</td>\n",
       "      <td>150</td>\n",
       "      <td>65</td>\n",
       "      <td>81.0</td>\n",
       "      <td>110.0</td>\n",
       "      <td>73.0</td>\n",
       "      <td>NaN</td>\n",
       "      <td>NaN</td>\n",
       "      <td>NaN</td>\n",
       "      <td>NaN</td>\n",
       "      <td>12.7</td>\n",
       "      <td>1.0</td>\n",
       "      <td>0.5</td>\n",
       "      <td>18.0</td>\n",
       "      <td>15.0</td>\n",
       "      <td>15.0</td>\n",
       "      <td>1.0</td>\n",
       "    </tr>\n",
       "    <tr>\n",
       "      <th>2</th>\n",
       "      <td>2</td>\n",
       "      <td>12</td>\n",
       "      <td>155</td>\n",
       "      <td>55</td>\n",
       "      <td>70.0</td>\n",
       "      <td>123.0</td>\n",
       "      <td>80.0</td>\n",
       "      <td>NaN</td>\n",
       "      <td>NaN</td>\n",
       "      <td>NaN</td>\n",
       "      <td>NaN</td>\n",
       "      <td>12.8</td>\n",
       "      <td>1.0</td>\n",
       "      <td>0.7</td>\n",
       "      <td>27.0</td>\n",
       "      <td>25.0</td>\n",
       "      <td>7.0</td>\n",
       "      <td>1.0</td>\n",
       "    </tr>\n",
       "    <tr>\n",
       "      <th>3</th>\n",
       "      <td>1</td>\n",
       "      <td>13</td>\n",
       "      <td>160</td>\n",
       "      <td>70</td>\n",
       "      <td>90.8</td>\n",
       "      <td>134.0</td>\n",
       "      <td>84.0</td>\n",
       "      <td>NaN</td>\n",
       "      <td>NaN</td>\n",
       "      <td>NaN</td>\n",
       "      <td>NaN</td>\n",
       "      <td>16.4</td>\n",
       "      <td>1.0</td>\n",
       "      <td>1.2</td>\n",
       "      <td>65.0</td>\n",
       "      <td>97.0</td>\n",
       "      <td>72.0</td>\n",
       "      <td>1.0</td>\n",
       "    </tr>\n",
       "    <tr>\n",
       "      <th>4</th>\n",
       "      <td>2</td>\n",
       "      <td>12</td>\n",
       "      <td>155</td>\n",
       "      <td>50</td>\n",
       "      <td>75.2</td>\n",
       "      <td>144.0</td>\n",
       "      <td>89.0</td>\n",
       "      <td>220.0</td>\n",
       "      <td>171.0</td>\n",
       "      <td>53.0</td>\n",
       "      <td>133.0</td>\n",
       "      <td>12.4</td>\n",
       "      <td>1.0</td>\n",
       "      <td>0.7</td>\n",
       "      <td>18.0</td>\n",
       "      <td>17.0</td>\n",
       "      <td>14.0</td>\n",
       "      <td>1.0</td>\n",
       "    </tr>\n",
       "  </tbody>\n",
       "</table>\n",
       "</div>"
      ],
      "text/plain": [
       "   성별코드  연령대 코드(5세단위)  신장(5Cm단위)  체중(5Kg 단위)  허리둘레  수축기 혈압  이완기 혈압  총 콜레스테롤  \\\n",
       "0     1             9        165          60  72.1   127.0    79.0    188.0   \n",
       "1     2            13        150          65  81.0   110.0    73.0      NaN   \n",
       "2     2            12        155          55  70.0   123.0    80.0      NaN   \n",
       "3     1            13        160          70  90.8   134.0    84.0      NaN   \n",
       "4     2            12        155          50  75.2   144.0    89.0    220.0   \n",
       "\n",
       "   트리글리세라이드  HDL 콜레스테롤  LDL 콜레스테롤   혈색소  요단백  혈청크레아티닌  (혈청지오티)AST  (혈청지오티)ALT  \\\n",
       "0      58.0       58.0      118.0  15.0  1.0      1.1        21.0        27.0   \n",
       "1       NaN        NaN        NaN  12.7  1.0      0.5        18.0        15.0   \n",
       "2       NaN        NaN        NaN  12.8  1.0      0.7        27.0        25.0   \n",
       "3       NaN        NaN        NaN  16.4  1.0      1.2        65.0        97.0   \n",
       "4     171.0       53.0      133.0  12.4  1.0      0.7        18.0        17.0   \n",
       "\n",
       "   감마 지티피  흡연상태  \n",
       "0    21.0   1.0  \n",
       "1    15.0   1.0  \n",
       "2     7.0   1.0  \n",
       "3    72.0   1.0  \n",
       "4    14.0   1.0  "
      ]
     },
     "execution_count": 88,
     "metadata": {},
     "output_type": "execute_result"
    }
   ],
   "source": [
    "data4 = data.copy()\n",
    "data4.drop(columns=['기준년도', '가입자 일련번호', '시도코드', \n",
    "                    '시력(좌)', '시력(우)', '청력(좌)', '청력(우)',\n",
    "                  '식전혈당(공복혈당)', '음주여부', '구강검진 수검여부', \n",
    "                    '치아우식증유무', '치석', '데이터 공개일자'], inplace=True)\n",
    "data4.head()"
   ]
  },
  {
   "cell_type": "code",
   "execution_count": 89,
   "id": "b58bfd3c",
   "metadata": {},
   "outputs": [
    {
     "data": {
      "text/plain": [
       "성별코드            0.000000\n",
       "연령대 코드(5세단위)    0.000000\n",
       "신장(5Cm단위)       0.000000\n",
       "체중(5Kg 단위)      0.000000\n",
       "허리둘레            0.000108\n",
       "수축기 혈압          0.007532\n",
       "이완기 혈압          0.007534\n",
       "총 콜레스테롤         0.597694\n",
       "트리글리세라이드        0.597678\n",
       "HDL 콜레스테롤       0.597685\n",
       "LDL 콜레스테롤       0.605529\n",
       "혈색소             0.007611\n",
       "요단백             0.012141\n",
       "혈청크레아티닌         0.007602\n",
       "(혈청지오티)AST      0.007601\n",
       "(혈청지오티)ALT      0.007602\n",
       "감마 지티피          0.007603\n",
       "흡연상태            0.000343\n",
       "dtype: float64"
      ]
     },
     "execution_count": 89,
     "metadata": {},
     "output_type": "execute_result"
    }
   ],
   "source": [
    "data4.isna().sum()/1000000 # nan 비율"
   ]
  },
  {
   "cell_type": "code",
   "execution_count": 90,
   "id": "26830655",
   "metadata": {},
   "outputs": [],
   "source": [
    "data5 = data4.copy()"
   ]
  },
  {
   "cell_type": "code",
   "execution_count": 91,
   "id": "3d4c1acd",
   "metadata": {},
   "outputs": [
    {
     "data": {
      "text/html": [
       "<div>\n",
       "<style scoped>\n",
       "    .dataframe tbody tr th:only-of-type {\n",
       "        vertical-align: middle;\n",
       "    }\n",
       "\n",
       "    .dataframe tbody tr th {\n",
       "        vertical-align: top;\n",
       "    }\n",
       "\n",
       "    .dataframe thead th {\n",
       "        text-align: right;\n",
       "    }\n",
       "</style>\n",
       "<table border=\"1\" class=\"dataframe\">\n",
       "  <thead>\n",
       "    <tr style=\"text-align: right;\">\n",
       "      <th></th>\n",
       "      <th>성별코드</th>\n",
       "      <th>연령대 코드(5세단위)</th>\n",
       "      <th>신장(5Cm단위)</th>\n",
       "      <th>체중(5Kg 단위)</th>\n",
       "      <th>허리둘레</th>\n",
       "      <th>수축기 혈압</th>\n",
       "      <th>이완기 혈압</th>\n",
       "      <th>혈색소</th>\n",
       "      <th>요단백</th>\n",
       "      <th>혈청크레아티닌</th>\n",
       "      <th>(혈청지오티)AST</th>\n",
       "      <th>(혈청지오티)ALT</th>\n",
       "      <th>감마 지티피</th>\n",
       "      <th>흡연상태</th>\n",
       "    </tr>\n",
       "  </thead>\n",
       "  <tbody>\n",
       "    <tr>\n",
       "      <th>0</th>\n",
       "      <td>1</td>\n",
       "      <td>9</td>\n",
       "      <td>165</td>\n",
       "      <td>60</td>\n",
       "      <td>72.1</td>\n",
       "      <td>127.0</td>\n",
       "      <td>79.0</td>\n",
       "      <td>15.0</td>\n",
       "      <td>1.0</td>\n",
       "      <td>1.1</td>\n",
       "      <td>21.0</td>\n",
       "      <td>27.0</td>\n",
       "      <td>21.0</td>\n",
       "      <td>1.0</td>\n",
       "    </tr>\n",
       "    <tr>\n",
       "      <th>1</th>\n",
       "      <td>2</td>\n",
       "      <td>13</td>\n",
       "      <td>150</td>\n",
       "      <td>65</td>\n",
       "      <td>81.0</td>\n",
       "      <td>110.0</td>\n",
       "      <td>73.0</td>\n",
       "      <td>12.7</td>\n",
       "      <td>1.0</td>\n",
       "      <td>0.5</td>\n",
       "      <td>18.0</td>\n",
       "      <td>15.0</td>\n",
       "      <td>15.0</td>\n",
       "      <td>1.0</td>\n",
       "    </tr>\n",
       "    <tr>\n",
       "      <th>2</th>\n",
       "      <td>2</td>\n",
       "      <td>12</td>\n",
       "      <td>155</td>\n",
       "      <td>55</td>\n",
       "      <td>70.0</td>\n",
       "      <td>123.0</td>\n",
       "      <td>80.0</td>\n",
       "      <td>12.8</td>\n",
       "      <td>1.0</td>\n",
       "      <td>0.7</td>\n",
       "      <td>27.0</td>\n",
       "      <td>25.0</td>\n",
       "      <td>7.0</td>\n",
       "      <td>1.0</td>\n",
       "    </tr>\n",
       "    <tr>\n",
       "      <th>3</th>\n",
       "      <td>1</td>\n",
       "      <td>13</td>\n",
       "      <td>160</td>\n",
       "      <td>70</td>\n",
       "      <td>90.8</td>\n",
       "      <td>134.0</td>\n",
       "      <td>84.0</td>\n",
       "      <td>16.4</td>\n",
       "      <td>1.0</td>\n",
       "      <td>1.2</td>\n",
       "      <td>65.0</td>\n",
       "      <td>97.0</td>\n",
       "      <td>72.0</td>\n",
       "      <td>1.0</td>\n",
       "    </tr>\n",
       "    <tr>\n",
       "      <th>4</th>\n",
       "      <td>2</td>\n",
       "      <td>12</td>\n",
       "      <td>155</td>\n",
       "      <td>50</td>\n",
       "      <td>75.2</td>\n",
       "      <td>144.0</td>\n",
       "      <td>89.0</td>\n",
       "      <td>12.4</td>\n",
       "      <td>1.0</td>\n",
       "      <td>0.7</td>\n",
       "      <td>18.0</td>\n",
       "      <td>17.0</td>\n",
       "      <td>14.0</td>\n",
       "      <td>1.0</td>\n",
       "    </tr>\n",
       "  </tbody>\n",
       "</table>\n",
       "</div>"
      ],
      "text/plain": [
       "   성별코드  연령대 코드(5세단위)  신장(5Cm단위)  체중(5Kg 단위)  허리둘레  수축기 혈압  이완기 혈압   혈색소  요단백  \\\n",
       "0     1             9        165          60  72.1   127.0    79.0  15.0  1.0   \n",
       "1     2            13        150          65  81.0   110.0    73.0  12.7  1.0   \n",
       "2     2            12        155          55  70.0   123.0    80.0  12.8  1.0   \n",
       "3     1            13        160          70  90.8   134.0    84.0  16.4  1.0   \n",
       "4     2            12        155          50  75.2   144.0    89.0  12.4  1.0   \n",
       "\n",
       "   혈청크레아티닌  (혈청지오티)AST  (혈청지오티)ALT  감마 지티피  흡연상태  \n",
       "0      1.1        21.0        27.0    21.0   1.0  \n",
       "1      0.5        18.0        15.0    15.0   1.0  \n",
       "2      0.7        27.0        25.0     7.0   1.0  \n",
       "3      1.2        65.0        97.0    72.0   1.0  \n",
       "4      0.7        18.0        17.0    14.0   1.0  "
      ]
     },
     "execution_count": 91,
     "metadata": {},
     "output_type": "execute_result"
    }
   ],
   "source": [
    "data5.drop(columns=['총 콜레스테롤', '트리글리세라이드', 'HDL 콜레스테롤', 'LDL 콜레스테롤'],\n",
    "          inplace=True)\n",
    "data5.head()"
   ]
  },
  {
   "cell_type": "code",
   "execution_count": 92,
   "id": "e9b608b5",
   "metadata": {},
   "outputs": [],
   "source": [
    "data5.dropna(inplace=True)"
   ]
  },
  {
   "cell_type": "code",
   "execution_count": 93,
   "id": "387e87d4",
   "metadata": {
    "scrolled": true
   },
   "outputs": [
    {
     "name": "stdout",
     "output_type": "stream",
     "text": [
      "<class 'pandas.core.frame.DataFrame'>\n",
      "Int64Index: 987366 entries, 0 to 999999\n",
      "Data columns (total 14 columns):\n",
      " #   Column        Non-Null Count   Dtype  \n",
      "---  ------        --------------   -----  \n",
      " 0   성별코드          987366 non-null  int64  \n",
      " 1   연령대 코드(5세단위)  987366 non-null  int64  \n",
      " 2   신장(5Cm단위)     987366 non-null  int64  \n",
      " 3   체중(5Kg 단위)    987366 non-null  int64  \n",
      " 4   허리둘레          987366 non-null  float64\n",
      " 5   수축기 혈압        987366 non-null  float64\n",
      " 6   이완기 혈압        987366 non-null  float64\n",
      " 7   혈색소           987366 non-null  float64\n",
      " 8   요단백           987366 non-null  float64\n",
      " 9   혈청크레아티닌       987366 non-null  float64\n",
      " 10  (혈청지오티)AST    987366 non-null  float64\n",
      " 11  (혈청지오티)ALT    987366 non-null  float64\n",
      " 12  감마 지티피        987366 non-null  float64\n",
      " 13  흡연상태          987366 non-null  float64\n",
      "dtypes: float64(10), int64(4)\n",
      "memory usage: 113.0 MB\n"
     ]
    }
   ],
   "source": [
    "data5.info()"
   ]
  },
  {
   "cell_type": "markdown",
   "id": "f410754d",
   "metadata": {},
   "source": [
    "## 흡연상태별 그룹화"
   ]
  },
  {
   "cell_type": "markdown",
   "id": "fbccf9b0",
   "metadata": {},
   "source": [
    "- 1 : 안함, 2: 끊음, 3: 함"
   ]
  },
  {
   "cell_type": "code",
   "execution_count": 97,
   "id": "92a8e7dd",
   "metadata": {},
   "outputs": [],
   "source": [
    "g_smoke = data5.groupby(by=['성별코드', '흡연상태'])"
   ]
  },
  {
   "cell_type": "code",
   "execution_count": 98,
   "id": "fa861b11",
   "metadata": {},
   "outputs": [
    {
     "data": {
      "text/html": [
       "<div>\n",
       "<style scoped>\n",
       "    .dataframe tbody tr th:only-of-type {\n",
       "        vertical-align: middle;\n",
       "    }\n",
       "\n",
       "    .dataframe tbody tr th {\n",
       "        vertical-align: top;\n",
       "    }\n",
       "\n",
       "    .dataframe thead th {\n",
       "        text-align: right;\n",
       "    }\n",
       "</style>\n",
       "<table border=\"1\" class=\"dataframe\">\n",
       "  <thead>\n",
       "    <tr style=\"text-align: right;\">\n",
       "      <th></th>\n",
       "      <th></th>\n",
       "      <th>연령대 코드(5세단위)</th>\n",
       "      <th>신장(5Cm단위)</th>\n",
       "      <th>체중(5Kg 단위)</th>\n",
       "      <th>허리둘레</th>\n",
       "      <th>수축기 혈압</th>\n",
       "      <th>이완기 혈압</th>\n",
       "      <th>혈색소</th>\n",
       "      <th>요단백</th>\n",
       "      <th>혈청크레아티닌</th>\n",
       "      <th>(혈청지오티)AST</th>\n",
       "      <th>(혈청지오티)ALT</th>\n",
       "      <th>감마 지티피</th>\n",
       "    </tr>\n",
       "    <tr>\n",
       "      <th>성별코드</th>\n",
       "      <th>흡연상태</th>\n",
       "      <th></th>\n",
       "      <th></th>\n",
       "      <th></th>\n",
       "      <th></th>\n",
       "      <th></th>\n",
       "      <th></th>\n",
       "      <th></th>\n",
       "      <th></th>\n",
       "      <th></th>\n",
       "      <th></th>\n",
       "      <th></th>\n",
       "      <th></th>\n",
       "    </tr>\n",
       "  </thead>\n",
       "  <tbody>\n",
       "    <tr>\n",
       "      <th rowspan=\"3\" valign=\"top\">1</th>\n",
       "      <th>1.0</th>\n",
       "      <td>12.142713</td>\n",
       "      <td>166.648385</td>\n",
       "      <td>68.827115</td>\n",
       "      <td>85.815576</td>\n",
       "      <td>127.014700</td>\n",
       "      <td>78.326936</td>\n",
       "      <td>14.999134</td>\n",
       "      <td>1.136630</td>\n",
       "      <td>0.978398</td>\n",
       "      <td>28.817985</td>\n",
       "      <td>30.104320</td>\n",
       "      <td>41.795061</td>\n",
       "    </tr>\n",
       "    <tr>\n",
       "      <th>2.0</th>\n",
       "      <td>12.003864</td>\n",
       "      <td>167.548122</td>\n",
       "      <td>70.350532</td>\n",
       "      <td>86.764314</td>\n",
       "      <td>127.004100</td>\n",
       "      <td>78.619416</td>\n",
       "      <td>15.062422</td>\n",
       "      <td>1.143898</td>\n",
       "      <td>0.974497</td>\n",
       "      <td>29.536330</td>\n",
       "      <td>31.187075</td>\n",
       "      <td>46.650577</td>\n",
       "    </tr>\n",
       "    <tr>\n",
       "      <th>3.0</th>\n",
       "      <td>11.119915</td>\n",
       "      <td>168.233613</td>\n",
       "      <td>70.044466</td>\n",
       "      <td>85.861864</td>\n",
       "      <td>125.491378</td>\n",
       "      <td>78.675041</td>\n",
       "      <td>15.387708</td>\n",
       "      <td>1.149342</td>\n",
       "      <td>0.942382</td>\n",
       "      <td>29.606086</td>\n",
       "      <td>31.680330</td>\n",
       "      <td>60.525564</td>\n",
       "    </tr>\n",
       "    <tr>\n",
       "      <th rowspan=\"3\" valign=\"top\">2</th>\n",
       "      <th>1.0</th>\n",
       "      <td>12.081551</td>\n",
       "      <td>154.148559</td>\n",
       "      <td>56.085838</td>\n",
       "      <td>78.331774</td>\n",
       "      <td>123.247506</td>\n",
       "      <td>75.037455</td>\n",
       "      <td>13.217500</td>\n",
       "      <td>1.098804</td>\n",
       "      <td>0.728897</td>\n",
       "      <td>25.962190</td>\n",
       "      <td>22.283522</td>\n",
       "      <td>24.688735</td>\n",
       "    </tr>\n",
       "    <tr>\n",
       "      <th>2.0</th>\n",
       "      <td>10.873857</td>\n",
       "      <td>156.677577</td>\n",
       "      <td>57.888612</td>\n",
       "      <td>78.251995</td>\n",
       "      <td>119.568579</td>\n",
       "      <td>74.257481</td>\n",
       "      <td>13.288788</td>\n",
       "      <td>1.122818</td>\n",
       "      <td>0.722064</td>\n",
       "      <td>25.914692</td>\n",
       "      <td>22.734414</td>\n",
       "      <td>30.332814</td>\n",
       "    </tr>\n",
       "    <tr>\n",
       "      <th>3.0</th>\n",
       "      <td>11.070596</td>\n",
       "      <td>155.821870</td>\n",
       "      <td>56.874869</td>\n",
       "      <td>78.422917</td>\n",
       "      <td>120.130927</td>\n",
       "      <td>74.773689</td>\n",
       "      <td>13.554703</td>\n",
       "      <td>1.125969</td>\n",
       "      <td>0.714715</td>\n",
       "      <td>26.972977</td>\n",
       "      <td>23.512255</td>\n",
       "      <td>40.130577</td>\n",
       "    </tr>\n",
       "  </tbody>\n",
       "</table>\n",
       "</div>"
      ],
      "text/plain": [
       "           연령대 코드(5세단위)   신장(5Cm단위)  체중(5Kg 단위)       허리둘레      수축기 혈압  \\\n",
       "성별코드 흡연상태                                                                \n",
       "1    1.0      12.142713  166.648385   68.827115  85.815576  127.014700   \n",
       "     2.0      12.003864  167.548122   70.350532  86.764314  127.004100   \n",
       "     3.0      11.119915  168.233613   70.044466  85.861864  125.491378   \n",
       "2    1.0      12.081551  154.148559   56.085838  78.331774  123.247506   \n",
       "     2.0      10.873857  156.677577   57.888612  78.251995  119.568579   \n",
       "     3.0      11.070596  155.821870   56.874869  78.422917  120.130927   \n",
       "\n",
       "              이완기 혈압        혈색소       요단백   혈청크레아티닌  (혈청지오티)AST  (혈청지오티)ALT  \\\n",
       "성별코드 흡연상태                                                                     \n",
       "1    1.0   78.326936  14.999134  1.136630  0.978398   28.817985   30.104320   \n",
       "     2.0   78.619416  15.062422  1.143898  0.974497   29.536330   31.187075   \n",
       "     3.0   78.675041  15.387708  1.149342  0.942382   29.606086   31.680330   \n",
       "2    1.0   75.037455  13.217500  1.098804  0.728897   25.962190   22.283522   \n",
       "     2.0   74.257481  13.288788  1.122818  0.722064   25.914692   22.734414   \n",
       "     3.0   74.773689  13.554703  1.125969  0.714715   26.972977   23.512255   \n",
       "\n",
       "              감마 지티피  \n",
       "성별코드 흡연상태             \n",
       "1    1.0   41.795061  \n",
       "     2.0   46.650577  \n",
       "     3.0   60.525564  \n",
       "2    1.0   24.688735  \n",
       "     2.0   30.332814  \n",
       "     3.0   40.130577  "
      ]
     },
     "execution_count": 98,
     "metadata": {},
     "output_type": "execute_result"
    }
   ],
   "source": [
    "g_smoke.mean()"
   ]
  },
  {
   "cell_type": "markdown",
   "id": "a5a44f38",
   "metadata": {},
   "source": [
    "- 일단 유의미해보이는게 감마 지티피 뿐"
   ]
  },
  {
   "cell_type": "code",
   "execution_count": 100,
   "id": "fd6384cc",
   "metadata": {},
   "outputs": [
    {
     "data": {
      "text/plain": [
       "count    987366.000000\n",
       "mean         37.791137\n",
       "std          51.813693\n",
       "min           1.000000\n",
       "25%          16.000000\n",
       "50%          24.000000\n",
       "75%          40.000000\n",
       "max        2630.000000\n",
       "Name: 감마 지티피, dtype: float64"
      ]
     },
     "execution_count": 100,
     "metadata": {},
     "output_type": "execute_result"
    }
   ],
   "source": [
    "data5['감마 지티피'].describe()"
   ]
  },
  {
   "cell_type": "markdown",
   "id": "121fb6f4",
   "metadata": {},
   "source": [
    "## 성별 & 흡연상태별 감마지티피 분포 확인"
   ]
  },
  {
   "cell_type": "code",
   "execution_count": 106,
   "id": "f33ce514",
   "metadata": {},
   "outputs": [],
   "source": [
    "gmm_1n1 = g_smoke.get_group((1, 1.0))['감마 지티피']"
   ]
  },
  {
   "cell_type": "code",
   "execution_count": 110,
   "id": "224e56db",
   "metadata": {},
   "outputs": [
    {
     "data": {
      "image/png": "[encoded data removed]",
      "text/plain": [
       "<Figure size 432x288 with 1 Axes>"
      ]
     },
     "metadata": {
      "needs_background": "light"
     },
     "output_type": "display_data"
    }
   ],
   "source": [
    "plt.hist(gmm_1n1, bins=100)\n",
    "plt.show()"
   ]
  },
  {
   "cell_type": "code",
   "execution_count": 112,
   "id": "a744991d",
   "metadata": {},
   "outputs": [
    {
     "data": {
      "image/png": "[encoded data removed]",
      "text/plain": [
       "<Figure size 432x288 with 1 Axes>"
      ]
     },
     "metadata": {
      "needs_background": "light"
     },
     "output_type": "display_data"
    }
   ],
   "source": [
    "plt.boxplot(gmm_1n1)\n",
    "plt.show()"
   ]
  },
  {
   "cell_type": "markdown",
   "id": "371811d6",
   "metadata": {},
   "source": [
    "### 이상치 제거"
   ]
  },
  {
   "cell_type": "code",
   "execution_count": 116,
   "id": "9120aca7",
   "metadata": {},
   "outputs": [
    {
     "data": {
      "text/plain": [
       "count    987366.000000\n",
       "mean         37.791137\n",
       "std          51.813693\n",
       "min           1.000000\n",
       "25%          16.000000\n",
       "50%          24.000000\n",
       "75%          40.000000\n",
       "max        2630.000000\n",
       "Name: 감마 지티피, dtype: float64"
      ]
     },
     "execution_count": 116,
     "metadata": {},
     "output_type": "execute_result"
    }
   ],
   "source": [
    "data6 = data5.copy()\n",
    "desc = data6['감마 지티피'].describe()\n",
    "desc"
   ]
  },
  {
   "cell_type": "code",
   "execution_count": 119,
   "id": "ae436ae4",
   "metadata": {},
   "outputs": [
    {
     "data": {
      "text/plain": [
       "(16.0, 40.0, 24.0, -20.0, 76.0)"
      ]
     },
     "execution_count": 119,
     "metadata": {},
     "output_type": "execute_result"
    }
   ],
   "source": [
    "q1, q3 = desc['25%'], desc['75%']\n",
    "iqr = q3 - q1\n",
    "\n",
    "lw = q1 - iqr*1.5\n",
    "uw = q3 + iqr*1.5\n",
    "q1, q3, iqr, lw, uw"
   ]
  },
  {
   "cell_type": "code",
   "execution_count": 123,
   "id": "3d2db86f",
   "metadata": {},
   "outputs": [],
   "source": [
    "ol_r_GTP = data6[data6['감마 지티피'] > uw].index"
   ]
  },
  {
   "cell_type": "code",
   "execution_count": 124,
   "id": "35ebb453",
   "metadata": {},
   "outputs": [],
   "source": [
    "data6.drop(index=ol_r_GTP, inplace=True)"
   ]
  },
  {
   "cell_type": "code",
   "execution_count": 130,
   "id": "a827db91",
   "metadata": {},
   "outputs": [
    {
     "data": {
      "image/png": "[encoded data removed]",
      "text/plain": [
       "<Figure size 432x288 with 1 Axes>"
      ]
     },
     "metadata": {
      "needs_background": "light"
     },
     "output_type": "display_data"
    }
   ],
   "source": [
    "plt.hist(data6['감마 지티피'], bins=20)\n",
    "plt.show()"
   ]
  },
  {
   "cell_type": "code",
   "execution_count": 131,
   "id": "f0051594",
   "metadata": {},
   "outputs": [
    {
     "data": {
      "image/png": "[encoded data removed]",
      "text/plain": [
       "<Figure size 432x288 with 1 Axes>"
      ]
     },
     "metadata": {
      "needs_background": "light"
     },
     "output_type": "display_data"
    }
   ],
   "source": [
    "plt.boxplot(data6['감마 지티피'])\n",
    "plt.show()"
   ]
  },
  {
   "cell_type": "markdown",
   "id": "6d0027a2",
   "metadata": {},
   "source": [
    "### 성별 & 흡연 상태별 그룹화"
   ]
  },
  {
   "cell_type": "code",
   "execution_count": 132,
   "id": "2eba7334",
   "metadata": {},
   "outputs": [
    {
     "data": {
      "text/plain": [
       "Index(['성별코드', '연령대 코드(5세단위)', '신장(5Cm단위)', '체중(5Kg 단위)', '허리둘레', '수축기 혈압',\n",
       "       '이완기 혈압', '혈색소', '요단백', '혈청크레아티닌', '(혈청지오티)AST', '(혈청지오티)ALT', '감마 지티피',\n",
       "       '흡연상태'],\n",
       "      dtype='object')"
      ]
     },
     "execution_count": 132,
     "metadata": {},
     "output_type": "execute_result"
    }
   ],
   "source": [
    "data6.columns"
   ]
  },
  {
   "cell_type": "code",
   "execution_count": 135,
   "id": "a1884b4b",
   "metadata": {},
   "outputs": [],
   "source": [
    "g_smoke = data6.groupby(by=['성별코드', '흡연상태'])"
   ]
  },
  {
   "cell_type": "code",
   "execution_count": 141,
   "id": "d6c6c001",
   "metadata": {},
   "outputs": [
    {
     "data": {
      "text/plain": [
       "0         21.0\n",
       "3         72.0\n",
       "16        24.0\n",
       "19        35.0\n",
       "20        47.0\n",
       "          ... \n",
       "999948    23.0\n",
       "999956    13.0\n",
       "999968    25.0\n",
       "999978    31.0\n",
       "999997    17.0\n",
       "Name: 감마 지티피, Length: 143892, dtype: float64"
      ]
     },
     "execution_count": 141,
     "metadata": {},
     "output_type": "execute_result"
    }
   ],
   "source": [
    "g_smoke.get_group((1, 1.0))['감마 지티피']"
   ]
  },
  {
   "cell_type": "code",
   "execution_count": 149,
   "id": "6d2dfcaa",
   "metadata": {},
   "outputs": [
    {
     "name": "stdout",
     "output_type": "stream",
     "text": [
      "1 1.0\n",
      "1 3.0\n",
      "1 2.0\n",
      "2 1.0\n",
      "2 3.0\n",
      "2 2.0\n"
     ]
    }
   ],
   "source": [
    "r_GTPs = {}\n",
    "for sex in data6['성별코드'].unique():\n",
    "    for smoke in data6['흡연상태'].unique():\n",
    "        print(sex, smoke)\n",
    "        sr = g_smoke.get_group((sex, smoke))['감마 지티피']\n",
    "        sr.reset_index(drop=True, inplace=True)\n",
    "        r_GTPs[(sex, smoke)] = sr"
   ]
  },
  {
   "cell_type": "code",
   "execution_count": 152,
   "id": "bdf53094",
   "metadata": {},
   "outputs": [
    {
     "data": {
      "text/html": [
       "<div>\n",
       "<style scoped>\n",
       "    .dataframe tbody tr th:only-of-type {\n",
       "        vertical-align: middle;\n",
       "    }\n",
       "\n",
       "    .dataframe tbody tr th {\n",
       "        vertical-align: top;\n",
       "    }\n",
       "\n",
       "    .dataframe thead tr th {\n",
       "        text-align: left;\n",
       "    }\n",
       "</style>\n",
       "<table border=\"1\" class=\"dataframe\">\n",
       "  <thead>\n",
       "    <tr>\n",
       "      <th></th>\n",
       "      <th colspan=\"3\" halign=\"left\">1</th>\n",
       "      <th colspan=\"3\" halign=\"left\">2</th>\n",
       "    </tr>\n",
       "    <tr>\n",
       "      <th></th>\n",
       "      <th>1.0</th>\n",
       "      <th>3.0</th>\n",
       "      <th>2.0</th>\n",
       "      <th>1.0</th>\n",
       "      <th>3.0</th>\n",
       "      <th>2.0</th>\n",
       "    </tr>\n",
       "  </thead>\n",
       "  <tbody>\n",
       "    <tr>\n",
       "      <th>0</th>\n",
       "      <td>21.0</td>\n",
       "      <td>26.0</td>\n",
       "      <td>20.0</td>\n",
       "      <td>15.0</td>\n",
       "      <td>24.0</td>\n",
       "      <td>29.0</td>\n",
       "    </tr>\n",
       "    <tr>\n",
       "      <th>1</th>\n",
       "      <td>72.0</td>\n",
       "      <td>35.0</td>\n",
       "      <td>29.0</td>\n",
       "      <td>7.0</td>\n",
       "      <td>13.0</td>\n",
       "      <td>44.0</td>\n",
       "    </tr>\n",
       "    <tr>\n",
       "      <th>2</th>\n",
       "      <td>24.0</td>\n",
       "      <td>19.0</td>\n",
       "      <td>25.0</td>\n",
       "      <td>14.0</td>\n",
       "      <td>15.0</td>\n",
       "      <td>18.0</td>\n",
       "    </tr>\n",
       "    <tr>\n",
       "      <th>3</th>\n",
       "      <td>35.0</td>\n",
       "      <td>41.0</td>\n",
       "      <td>14.0</td>\n",
       "      <td>39.0</td>\n",
       "      <td>16.0</td>\n",
       "      <td>20.0</td>\n",
       "    </tr>\n",
       "    <tr>\n",
       "      <th>4</th>\n",
       "      <td>47.0</td>\n",
       "      <td>48.0</td>\n",
       "      <td>18.0</td>\n",
       "      <td>10.0</td>\n",
       "      <td>36.0</td>\n",
       "      <td>17.0</td>\n",
       "    </tr>\n",
       "    <tr>\n",
       "      <th>...</th>\n",
       "      <td>...</td>\n",
       "      <td>...</td>\n",
       "      <td>...</td>\n",
       "      <td>...</td>\n",
       "      <td>...</td>\n",
       "      <td>...</td>\n",
       "    </tr>\n",
       "    <tr>\n",
       "      <th>444160</th>\n",
       "      <td>NaN</td>\n",
       "      <td>NaN</td>\n",
       "      <td>NaN</td>\n",
       "      <td>16.0</td>\n",
       "      <td>NaN</td>\n",
       "      <td>NaN</td>\n",
       "    </tr>\n",
       "    <tr>\n",
       "      <th>444161</th>\n",
       "      <td>NaN</td>\n",
       "      <td>NaN</td>\n",
       "      <td>NaN</td>\n",
       "      <td>16.0</td>\n",
       "      <td>NaN</td>\n",
       "      <td>NaN</td>\n",
       "    </tr>\n",
       "    <tr>\n",
       "      <th>444162</th>\n",
       "      <td>NaN</td>\n",
       "      <td>NaN</td>\n",
       "      <td>NaN</td>\n",
       "      <td>18.0</td>\n",
       "      <td>NaN</td>\n",
       "      <td>NaN</td>\n",
       "    </tr>\n",
       "    <tr>\n",
       "      <th>444163</th>\n",
       "      <td>NaN</td>\n",
       "      <td>NaN</td>\n",
       "      <td>NaN</td>\n",
       "      <td>19.0</td>\n",
       "      <td>NaN</td>\n",
       "      <td>NaN</td>\n",
       "    </tr>\n",
       "    <tr>\n",
       "      <th>444164</th>\n",
       "      <td>NaN</td>\n",
       "      <td>NaN</td>\n",
       "      <td>NaN</td>\n",
       "      <td>13.0</td>\n",
       "      <td>NaN</td>\n",
       "      <td>NaN</td>\n",
       "    </tr>\n",
       "  </tbody>\n",
       "</table>\n",
       "<p>444165 rows × 6 columns</p>\n",
       "</div>"
      ],
      "text/plain": [
       "           1                 2            \n",
       "         1.0   3.0   2.0   1.0   3.0   2.0\n",
       "0       21.0  26.0  20.0  15.0  24.0  29.0\n",
       "1       72.0  35.0  29.0   7.0  13.0  44.0\n",
       "2       24.0  19.0  25.0  14.0  15.0  18.0\n",
       "3       35.0  41.0  14.0  39.0  16.0  20.0\n",
       "4       47.0  48.0  18.0  10.0  36.0  17.0\n",
       "...      ...   ...   ...   ...   ...   ...\n",
       "444160   NaN   NaN   NaN  16.0   NaN   NaN\n",
       "444161   NaN   NaN   NaN  16.0   NaN   NaN\n",
       "444162   NaN   NaN   NaN  18.0   NaN   NaN\n",
       "444163   NaN   NaN   NaN  19.0   NaN   NaN\n",
       "444164   NaN   NaN   NaN  13.0   NaN   NaN\n",
       "\n",
       "[444165 rows x 6 columns]"
      ]
     },
     "execution_count": 152,
     "metadata": {},
     "output_type": "execute_result"
    }
   ],
   "source": [
    "df_r_GTP = pd.DataFrame(r_GTPs)\n",
    "df_r_GTP"
   ]
  },
  {
   "cell_type": "code",
   "execution_count": 153,
   "id": "f010737d",
   "metadata": {},
   "outputs": [
    {
     "data": {
      "text/plain": [
       "<Figure size 1080x720 with 0 Axes>"
      ]
     },
     "metadata": {},
     "output_type": "display_data"
    }
   ],
   "source": [
    "fig = plt.figure(figsize=(15, 10))\n"
   ]
  },
  {
   "cell_type": "code",
   "execution_count": null,
   "id": "9d643c8a",
   "metadata": {},
   "outputs": [],
   "source": []
  },
  {
   "cell_type": "code",
   "execution_count": null,
   "id": "79bc1012",
   "metadata": {},
   "outputs": [],
   "source": []
  },
  {
   "cell_type": "code",
   "execution_count": null,
   "id": "d28bf8dc",
   "metadata": {},
   "outputs": [],
   "source": []
  },
  {
   "cell_type": "code",
   "execution_count": null,
   "id": "d0dfcc98",
   "metadata": {},
   "outputs": [],
   "source": []
  },
  {
   "cell_type": "code",
   "execution_count": null,
   "id": "1afd0063",
   "metadata": {},
   "outputs": [],
   "source": []
  },
  {
   "cell_type": "code",
   "execution_count": null,
   "id": "442b501b",
   "metadata": {},
   "outputs": [],
   "source": []
  },
  {
   "cell_type": "code",
   "execution_count": null,
   "id": "bc96611a",
   "metadata": {},
   "outputs": [],
   "source": []
  },
  {
   "cell_type": "code",
   "execution_count": null,
   "id": "0e929b19",
   "metadata": {},
   "outputs": [],
   "source": []
  },
  {
   "cell_type": "code",
   "execution_count": null,
   "id": "97541d0f",
   "metadata": {},
   "outputs": [],
   "source": []
  },
  {
   "cell_type": "markdown",
   "id": "7b0c87ed",
   "metadata": {},
   "source": [
    "# 기타"
   ]
  },
  {
   "cell_type": "markdown",
   "id": "28872b6d",
   "metadata": {},
   "source": [
    "## 상관계수 히트맵"
   ]
  },
  {
   "cell_type": "raw",
   "id": "1a373ebc",
   "metadata": {},
   "source": [
    "colormap = plt.cm.PuBu\n",
    "plt.figure(figsize=(10, 8))\n",
    "plt.title(\"Person Correlation of Features\", y = 1.05, size = 15)\n",
    "sns.heatmap(data5.astype(float).corr(), linewidths = 0.1, vmax = 1.0,\n",
    "           square = True, cmap = colormap, linecolor = \"white\", annot = True, annot_kws = {\"size\" : 16})\n",
    "출처: https://hong-yp-ml-records.tistory.com/33 [HONG YP's Data Science BLOG:티스토리]"
   ]
  },
  {
   "cell_type": "code",
   "execution_count": 81,
   "id": "3c1014e3",
   "metadata": {},
   "outputs": [],
   "source": [
    "import seaborn as sns"
   ]
  },
  {
   "cell_type": "code",
   "execution_count": 83,
   "id": "764b2da9",
   "metadata": {},
   "outputs": [],
   "source": [
    "from matplotlib import rc\n",
    "rc('font', family='Malgun Gothic') # 한글 폰트\n",
    "plt.rcParams['axes.unicode_minus'] = False # 마이너스 부호출력 설정"
   ]
  },
  {
   "cell_type": "code",
   "execution_count": 87,
   "id": "e8cc61ec",
   "metadata": {},
   "outputs": [
    {
     "data": {
      "text/plain": [
       "<AxesSubplot:>"
      ]
     },
     "execution_count": 87,
     "metadata": {},
     "output_type": "execute_result"
    },
    {
     "data": {
      "image/png": "[encoded data removed]",
      "text/plain": [
       "<Figure size 720x576 with 2 Axes>"
      ]
     },
     "metadata": {
      "needs_background": "light"
     },
     "output_type": "display_data"
    }
   ],
   "source": [
    "colormap = plt.cm.PuBu\n",
    "plt.figure(figsize=(10, 8))\n",
    "sns.heatmap(data5.astype(float).corr(), linewidths = 0.1, vmax = 1.0,\n",
    "           square = True, cmap = colormap, linecolor = \"white\", annot = True, annot_kws = {\"size\" : 10})"
   ]
  },
  {
   "cell_type": "code",
   "execution_count": null,
   "id": "e3450e26",
   "metadata": {},
   "outputs": [],
   "source": []
  },
  {
   "cell_type": "code",
   "execution_count": null,
   "id": "32851675",
   "metadata": {},
   "outputs": [],
   "source": []
  }
 ],
 "metadata": {
  "kernelspec": {
   "display_name": "Python 3 (ipykernel)",
   "language": "python",
   "name": "python3"
  },
  "language_info": {
   "codemirror_mode": {
    "name": "ipython",
    "version": 3
   },
   "file_extension": ".py",
   "mimetype": "text/x-python",
   "name": "python",
   "nbconvert_exporter": "python",
   "pygments_lexer": "ipython3",
   "version": "3.8.13"
  },
  "toc": {
   "base_numbering": 1,
   "nav_menu": {},
   "number_sections": true,
   "sideBar": true,
   "skip_h1_title": false,
   "title_cell": "Table of Contents",
   "title_sidebar": "Contents",
   "toc_cell": false,
   "toc_position": {
    "height": "calc(100% - 180px)",
    "left": "10px",
    "top": "150px",
    "width": "165px"
   },
   "toc_section_display": true,
   "toc_window_display": true
  }
 },
 "nbformat": 4,
 "nbformat_minor": 5
}
