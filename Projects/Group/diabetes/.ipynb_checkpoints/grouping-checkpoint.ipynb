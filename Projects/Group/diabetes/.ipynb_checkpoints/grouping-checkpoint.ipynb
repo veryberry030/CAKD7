{
 "cells": [
  {
   "cell_type": "code",
   "execution_count": 1,
   "id": "da2a937b",
   "metadata": {},
   "outputs": [],
   "source": [
    "import pandas as pd\n",
    "import numpy as np\n",
    "import matplotlib.pyplot as plt"
   ]
  },
  {
   "cell_type": "code",
   "execution_count": 2,
   "id": "b65dcda0",
   "metadata": {},
   "outputs": [],
   "source": [
    "from matplotlib import rc\n",
    "rc('font', family='Malgun Gothic') # 한글 폰트\n",
    "plt.rcParams['axes.unicode_minus'] = False # 마이너스 부호출력 설정\n",
    "plt.rc('font', size=16)"
   ]
  },
  {
   "cell_type": "code",
   "execution_count": 3,
   "id": "19938d9d",
   "metadata": {},
   "outputs": [],
   "source": [
    "df = pd.read_csv('./data/rawdata.CSV', encoding='euc-kr')"
   ]
  },
  {
   "cell_type": "code",
   "execution_count": 4,
   "id": "e2eae6e6",
   "metadata": {},
   "outputs": [
    {
     "data": {
      "text/html": [
       "<div>\n",
       "<style scoped>\n",
       "    .dataframe tbody tr th:only-of-type {\n",
       "        vertical-align: middle;\n",
       "    }\n",
       "\n",
       "    .dataframe tbody tr th {\n",
       "        vertical-align: top;\n",
       "    }\n",
       "\n",
       "    .dataframe thead th {\n",
       "        text-align: right;\n",
       "    }\n",
       "</style>\n",
       "<table border=\"1\" class=\"dataframe\">\n",
       "  <thead>\n",
       "    <tr style=\"text-align: right;\">\n",
       "      <th></th>\n",
       "      <th>기준년도</th>\n",
       "      <th>가입자 일련번호</th>\n",
       "      <th>시도코드</th>\n",
       "      <th>성별코드</th>\n",
       "      <th>연령대 코드(5세단위)</th>\n",
       "      <th>신장(5Cm단위)</th>\n",
       "      <th>체중(5Kg 단위)</th>\n",
       "      <th>허리둘레</th>\n",
       "      <th>시력(좌)</th>\n",
       "      <th>시력(우)</th>\n",
       "      <th>...</th>\n",
       "      <th>혈청크레아티닌</th>\n",
       "      <th>(혈청지오티)AST</th>\n",
       "      <th>(혈청지오티)ALT</th>\n",
       "      <th>감마 지티피</th>\n",
       "      <th>흡연상태</th>\n",
       "      <th>음주여부</th>\n",
       "      <th>구강검진 수검여부</th>\n",
       "      <th>치아우식증유무</th>\n",
       "      <th>치석</th>\n",
       "      <th>데이터 공개일자</th>\n",
       "    </tr>\n",
       "  </thead>\n",
       "  <tbody>\n",
       "    <tr>\n",
       "      <th>0</th>\n",
       "      <td>2020</td>\n",
       "      <td>1</td>\n",
       "      <td>36</td>\n",
       "      <td>1</td>\n",
       "      <td>9</td>\n",
       "      <td>165</td>\n",
       "      <td>60</td>\n",
       "      <td>72.1</td>\n",
       "      <td>1.2</td>\n",
       "      <td>1.5</td>\n",
       "      <td>...</td>\n",
       "      <td>1.1</td>\n",
       "      <td>21.0</td>\n",
       "      <td>27.0</td>\n",
       "      <td>21.0</td>\n",
       "      <td>1.0</td>\n",
       "      <td>0.0</td>\n",
       "      <td>0</td>\n",
       "      <td>NaN</td>\n",
       "      <td>NaN</td>\n",
       "      <td>2021-12-29</td>\n",
       "    </tr>\n",
       "    <tr>\n",
       "      <th>1</th>\n",
       "      <td>2020</td>\n",
       "      <td>2</td>\n",
       "      <td>27</td>\n",
       "      <td>2</td>\n",
       "      <td>13</td>\n",
       "      <td>150</td>\n",
       "      <td>65</td>\n",
       "      <td>81.0</td>\n",
       "      <td>0.8</td>\n",
       "      <td>0.8</td>\n",
       "      <td>...</td>\n",
       "      <td>0.5</td>\n",
       "      <td>18.0</td>\n",
       "      <td>15.0</td>\n",
       "      <td>15.0</td>\n",
       "      <td>1.0</td>\n",
       "      <td>0.0</td>\n",
       "      <td>0</td>\n",
       "      <td>NaN</td>\n",
       "      <td>NaN</td>\n",
       "      <td>2021-12-29</td>\n",
       "    </tr>\n",
       "  </tbody>\n",
       "</table>\n",
       "<p>2 rows × 31 columns</p>\n",
       "</div>"
      ],
      "text/plain": [
       "   기준년도  가입자 일련번호  시도코드  성별코드  연령대 코드(5세단위)  신장(5Cm단위)  체중(5Kg 단위)  허리둘레  \\\n",
       "0  2020         1    36     1             9        165          60  72.1   \n",
       "1  2020         2    27     2            13        150          65  81.0   \n",
       "\n",
       "   시력(좌)  시력(우)  ...  혈청크레아티닌  (혈청지오티)AST  (혈청지오티)ALT  감마 지티피  흡연상태  음주여부  \\\n",
       "0    1.2    1.5  ...      1.1        21.0        27.0    21.0   1.0   0.0   \n",
       "1    0.8    0.8  ...      0.5        18.0        15.0    15.0   1.0   0.0   \n",
       "\n",
       "   구강검진 수검여부  치아우식증유무  치석    데이터 공개일자  \n",
       "0          0      NaN NaN  2021-12-29  \n",
       "1          0      NaN NaN  2021-12-29  \n",
       "\n",
       "[2 rows x 31 columns]"
      ]
     },
     "execution_count": 4,
     "metadata": {},
     "output_type": "execute_result"
    }
   ],
   "source": [
    "df.head(2)"
   ]
  },
  {
   "cell_type": "code",
   "execution_count": 5,
   "id": "5fa37d34",
   "metadata": {},
   "outputs": [
    {
     "data": {
      "text/plain": [
       "Index(['기준년도', '가입자 일련번호', '시도코드', '성별코드', '연령대 코드(5세단위)', '신장(5Cm단위)',\n",
       "       '체중(5Kg 단위)', '허리둘레', '시력(좌)', '시력(우)', '청력(좌)', '청력(우)', '수축기 혈압',\n",
       "       '이완기 혈압', '식전혈당(공복혈당)', '총 콜레스테롤', '트리글리세라이드', 'HDL 콜레스테롤', 'LDL 콜레스테롤',\n",
       "       '혈색소', '요단백', '혈청크레아티닌', '(혈청지오티)AST', '(혈청지오티)ALT', '감마 지티피', '흡연상태',\n",
       "       '음주여부', '구강검진 수검여부', '치아우식증유무', '치석', '데이터 공개일자'],\n",
       "      dtype='object')"
      ]
     },
     "execution_count": 5,
     "metadata": {},
     "output_type": "execute_result"
    }
   ],
   "source": [
    "df.columns"
   ]
  },
  {
   "cell_type": "code",
   "execution_count": 7,
   "id": "b671c908",
   "metadata": {},
   "outputs": [
    {
     "data": {
      "text/plain": [
       "array([36, 27, 11, 31, 41, 44, 48, 30, 42, 43, 46, 28, 26, 47, 45, 29, 49],\n",
       "      dtype=int64)"
      ]
     },
     "execution_count": 7,
     "metadata": {},
     "output_type": "execute_result"
    }
   ],
   "source": [
    "df['시도코드'].unique()"
   ]
  },
  {
   "cell_type": "code",
   "execution_count": 31,
   "id": "a15f7e67",
   "metadata": {},
   "outputs": [],
   "source": [
    "df.drop(index=df[df['성별코드'] == 2].index, inplace=True)"
   ]
  },
  {
   "cell_type": "code",
   "execution_count": 33,
   "id": "a8671ea5",
   "metadata": {},
   "outputs": [],
   "source": [
    "df.drop(index=df[df['연령대 코드(5세단위)'] > 9].index, inplace=True)"
   ]
  },
  {
   "cell_type": "code",
   "execution_count": 35,
   "id": "1d383882",
   "metadata": {},
   "outputs": [],
   "source": [
    "df1 = df[['허리둘레', '신장(5Cm단위)', '체중(5Kg 단위)', '흡연상태', '음주여부', '식전혈당(공복혈당)']].copy()"
   ]
  },
  {
   "cell_type": "code",
   "execution_count": 36,
   "id": "b9f24fe6",
   "metadata": {},
   "outputs": [],
   "source": [
    "df1['bmi'] = (df1['체중(5Kg 단위)']/(df1['신장(5Cm단위)']/100)**2).round(1)"
   ]
  },
  {
   "cell_type": "code",
   "execution_count": 37,
   "id": "812f4af3",
   "metadata": {},
   "outputs": [],
   "source": [
    "df1.drop(columns=['신장(5Cm단위)', '체중(5Kg 단위)'], inplace=True)"
   ]
  },
  {
   "cell_type": "code",
   "execution_count": 38,
   "id": "49ec0e3f",
   "metadata": {},
   "outputs": [],
   "source": [
    "df1['bmiCAT'] = df1.bmi//23"
   ]
  },
  {
   "cell_type": "code",
   "execution_count": 39,
   "id": "d3401a5d",
   "metadata": {},
   "outputs": [],
   "source": [
    "df1[df1.bmiCAT > 1] = 1.0"
   ]
  },
  {
   "cell_type": "code",
   "execution_count": 41,
   "id": "e3de9ca4",
   "metadata": {},
   "outputs": [],
   "source": [
    "df1['waist'] = (df1['허리둘레']//90).round(0)"
   ]
  },
  {
   "cell_type": "code",
   "execution_count": 44,
   "id": "fced1036",
   "metadata": {},
   "outputs": [
    {
     "data": {
      "text/plain": [
       "array([ 0.,  1., nan])"
      ]
     },
     "execution_count": 44,
     "metadata": {},
     "output_type": "execute_result"
    }
   ],
   "source": [
    "df1.waist.unique()"
   ]
  },
  {
   "cell_type": "code",
   "execution_count": 47,
   "id": "e49e4612",
   "metadata": {},
   "outputs": [],
   "source": [
    "df1.drop(columns=['허리둘레', 'bmi'], inplace=True)"
   ]
  },
  {
   "cell_type": "code",
   "execution_count": 49,
   "id": "b5da6781",
   "metadata": {},
   "outputs": [],
   "source": [
    "def cat_glu(x):\n",
    "    if x < 100:\n",
    "        return 0\n",
    "    elif x < 126:\n",
    "        return 1\n",
    "    else:\n",
    "        return 2"
   ]
  },
  {
   "cell_type": "code",
   "execution_count": 51,
   "id": "b0cd083b",
   "metadata": {},
   "outputs": [],
   "source": [
    "df1['gluCAT'] = df1['식전혈당(공복혈당)'].apply(cat_glu)"
   ]
  },
  {
   "cell_type": "code",
   "execution_count": 90,
   "id": "ae066a0a",
   "metadata": {},
   "outputs": [],
   "source": [
    "df1['흡연상태'].replace([1.0, 2.0, 3.0], ['흡연경험무', '금연', '흡연중'], inplace=True)"
   ]
  },
  {
   "cell_type": "code",
   "execution_count": 92,
   "id": "5cb66a42",
   "metadata": {},
   "outputs": [],
   "source": [
    "df1['음주여부'].replace([0.0, 1.0], ['음주안함', '음주함'], inplace=True)"
   ]
  },
  {
   "cell_type": "code",
   "execution_count": 95,
   "id": "9238e815",
   "metadata": {},
   "outputs": [],
   "source": [
    "df1['bmiCAT'].replace([0, 1], ['정상체중', '비만체중'], inplace=True)"
   ]
  },
  {
   "cell_type": "code",
   "execution_count": 97,
   "id": "1e99ae73",
   "metadata": {},
   "outputs": [],
   "source": [
    "df1['waist'].replace([0, 1], ['정상허리둘레', '복부비만'], inplace=True)"
   ]
  },
  {
   "cell_type": "code",
   "execution_count": 99,
   "id": "1f6eae0b",
   "metadata": {},
   "outputs": [],
   "source": [
    "df1['gluCAT'].replace([0, 1, 2], ['정상혈당', '당뇨전단계', '당뇨'], inplace=True)"
   ]
  },
  {
   "cell_type": "code",
   "execution_count": null,
   "id": "074375ff",
   "metadata": {},
   "outputs": [],
   "source": []
  },
  {
   "cell_type": "code",
   "execution_count": null,
   "id": "005d8392",
   "metadata": {},
   "outputs": [],
   "source": []
  },
  {
   "cell_type": "code",
   "execution_count": null,
   "id": "00080230",
   "metadata": {},
   "outputs": [],
   "source": []
  },
  {
   "cell_type": "code",
   "execution_count": 101,
   "id": "a172b3ef",
   "metadata": {},
   "outputs": [],
   "source": [
    "g1 = df1.groupby(by=['bmiCAT', 'waist','흡연상태', '음주여부'])"
   ]
  },
  {
   "cell_type": "code",
   "execution_count": 102,
   "id": "4d8395ac",
   "metadata": {},
   "outputs": [],
   "source": [
    "df2 = g1.describe()"
   ]
  },
  {
   "cell_type": "code",
   "execution_count": 103,
   "id": "76cc12a5",
   "metadata": {},
   "outputs": [],
   "source": [
    "df2 = df2['식전혈당(공복혈당)'][['count', 'mean']]"
   ]
  },
  {
   "cell_type": "code",
   "execution_count": 105,
   "id": "0b5a10bc",
   "metadata": {},
   "outputs": [],
   "source": [
    "df3 = df2.sort_values(by='mean')"
   ]
  },
  {
   "cell_type": "code",
   "execution_count": 111,
   "id": "3a828e19",
   "metadata": {},
   "outputs": [],
   "source": [
    "df3.to_pickle('./건강검진_그룹화.pkl')"
   ]
  },
  {
   "cell_type": "code",
   "execution_count": 112,
   "id": "abfa2935",
   "metadata": {},
   "outputs": [
    {
     "data": {
      "text/html": [
       "<div>\n",
       "<style scoped>\n",
       "    .dataframe tbody tr th:only-of-type {\n",
       "        vertical-align: middle;\n",
       "    }\n",
       "\n",
       "    .dataframe tbody tr th {\n",
       "        vertical-align: top;\n",
       "    }\n",
       "\n",
       "    .dataframe thead th {\n",
       "        text-align: right;\n",
       "    }\n",
       "</style>\n",
       "<table border=\"1\" class=\"dataframe\">\n",
       "  <thead>\n",
       "    <tr style=\"text-align: right;\">\n",
       "      <th></th>\n",
       "      <th></th>\n",
       "      <th></th>\n",
       "      <th></th>\n",
       "      <th>count</th>\n",
       "      <th>mean</th>\n",
       "    </tr>\n",
       "    <tr>\n",
       "      <th>bmiCAT</th>\n",
       "      <th>waist</th>\n",
       "      <th>흡연상태</th>\n",
       "      <th>음주여부</th>\n",
       "      <th></th>\n",
       "      <th></th>\n",
       "    </tr>\n",
       "  </thead>\n",
       "  <tbody>\n",
       "    <tr>\n",
       "      <th rowspan=\"7\" valign=\"top\">정상체중</th>\n",
       "      <th>정상허리둘레</th>\n",
       "      <th>흡연경험무</th>\n",
       "      <th>음주안함</th>\n",
       "      <td>1831.0</td>\n",
       "      <td>95.513381</td>\n",
       "    </tr>\n",
       "    <tr>\n",
       "      <th>복부비만</th>\n",
       "      <th>흡연경험무</th>\n",
       "      <th>음주함</th>\n",
       "      <td>52.0</td>\n",
       "      <td>95.615385</td>\n",
       "    </tr>\n",
       "    <tr>\n",
       "      <th>정상허리둘레</th>\n",
       "      <th>흡연경험무</th>\n",
       "      <th>음주함</th>\n",
       "      <td>5071.0</td>\n",
       "      <td>96.187537</td>\n",
       "    </tr>\n",
       "    <tr>\n",
       "      <th>복부비만</th>\n",
       "      <th>금연</th>\n",
       "      <th>음주안함</th>\n",
       "      <td>13.0</td>\n",
       "      <td>96.230769</td>\n",
       "    </tr>\n",
       "    <tr>\n",
       "      <th rowspan=\"3\" valign=\"top\">정상허리둘레</th>\n",
       "      <th rowspan=\"2\" valign=\"top\">금연</th>\n",
       "      <th>음주함</th>\n",
       "      <td>4922.0</td>\n",
       "      <td>96.639374</td>\n",
       "    </tr>\n",
       "    <tr>\n",
       "      <th>음주안함</th>\n",
       "      <td>699.0</td>\n",
       "      <td>97.288984</td>\n",
       "    </tr>\n",
       "    <tr>\n",
       "      <th>흡연중</th>\n",
       "      <th>음주안함</th>\n",
       "      <td>1156.0</td>\n",
       "      <td>97.506055</td>\n",
       "    </tr>\n",
       "    <tr>\n",
       "      <th rowspan=\"2\" valign=\"top\">비만체중</th>\n",
       "      <th rowspan=\"2\" valign=\"top\">정상허리둘레</th>\n",
       "      <th>흡연경험무</th>\n",
       "      <th>음주안함</th>\n",
       "      <td>2348.0</td>\n",
       "      <td>98.944208</td>\n",
       "    </tr>\n",
       "    <tr>\n",
       "      <th>금연</th>\n",
       "      <th>음주안함</th>\n",
       "      <td>1083.0</td>\n",
       "      <td>99.167128</td>\n",
       "    </tr>\n",
       "    <tr>\n",
       "      <th rowspan=\"2\" valign=\"top\">정상체중</th>\n",
       "      <th>복부비만</th>\n",
       "      <th>흡연경험무</th>\n",
       "      <th>음주안함</th>\n",
       "      <td>19.0</td>\n",
       "      <td>99.421053</td>\n",
       "    </tr>\n",
       "    <tr>\n",
       "      <th>정상허리둘레</th>\n",
       "      <th>흡연중</th>\n",
       "      <th>음주함</th>\n",
       "      <td>9096.0</td>\n",
       "      <td>99.544965</td>\n",
       "    </tr>\n",
       "    <tr>\n",
       "      <th rowspan=\"4\" valign=\"top\">비만체중</th>\n",
       "      <th rowspan=\"4\" valign=\"top\">정상허리둘레</th>\n",
       "      <th>흡연경험무</th>\n",
       "      <th>음주함</th>\n",
       "      <td>8268.0</td>\n",
       "      <td>99.822811</td>\n",
       "    </tr>\n",
       "    <tr>\n",
       "      <th>금연</th>\n",
       "      <th>음주함</th>\n",
       "      <td>9165.0</td>\n",
       "      <td>100.829242</td>\n",
       "    </tr>\n",
       "    <tr>\n",
       "      <th rowspan=\"2\" valign=\"top\">흡연중</th>\n",
       "      <th>음주안함</th>\n",
       "      <td>1618.0</td>\n",
       "      <td>101.339926</td>\n",
       "    </tr>\n",
       "    <tr>\n",
       "      <th>음주함</th>\n",
       "      <td>13139.0</td>\n",
       "      <td>102.971002</td>\n",
       "    </tr>\n",
       "    <tr>\n",
       "      <th rowspan=\"2\" valign=\"top\">정상체중</th>\n",
       "      <th rowspan=\"2\" valign=\"top\">복부비만</th>\n",
       "      <th>흡연중</th>\n",
       "      <th>음주함</th>\n",
       "      <td>112.0</td>\n",
       "      <td>103.267857</td>\n",
       "    </tr>\n",
       "    <tr>\n",
       "      <th>금연</th>\n",
       "      <th>음주함</th>\n",
       "      <td>61.0</td>\n",
       "      <td>105.540984</td>\n",
       "    </tr>\n",
       "    <tr>\n",
       "      <th rowspan=\"6\" valign=\"top\">비만체중</th>\n",
       "      <th rowspan=\"6\" valign=\"top\">복부비만</th>\n",
       "      <th>흡연경험무</th>\n",
       "      <th>음주안함</th>\n",
       "      <td>1866.0</td>\n",
       "      <td>105.633441</td>\n",
       "    </tr>\n",
       "    <tr>\n",
       "      <th rowspan=\"2\" valign=\"top\">금연</th>\n",
       "      <th>음주함</th>\n",
       "      <td>7608.0</td>\n",
       "      <td>105.678496</td>\n",
       "    </tr>\n",
       "    <tr>\n",
       "      <th>음주안함</th>\n",
       "      <td>883.0</td>\n",
       "      <td>105.762174</td>\n",
       "    </tr>\n",
       "    <tr>\n",
       "      <th>흡연경험무</th>\n",
       "      <th>음주함</th>\n",
       "      <td>6077.0</td>\n",
       "      <td>105.765016</td>\n",
       "    </tr>\n",
       "    <tr>\n",
       "      <th rowspan=\"2\" valign=\"top\">흡연중</th>\n",
       "      <th>음주함</th>\n",
       "      <td>11893.0</td>\n",
       "      <td>109.248213</td>\n",
       "    </tr>\n",
       "    <tr>\n",
       "      <th>음주안함</th>\n",
       "      <td>1397.0</td>\n",
       "      <td>110.148890</td>\n",
       "    </tr>\n",
       "    <tr>\n",
       "      <th>정상체중</th>\n",
       "      <th>복부비만</th>\n",
       "      <th>흡연중</th>\n",
       "      <th>음주안함</th>\n",
       "      <td>11.0</td>\n",
       "      <td>110.545455</td>\n",
       "    </tr>\n",
       "  </tbody>\n",
       "</table>\n",
       "</div>"
      ],
      "text/plain": [
       "                            count        mean\n",
       "bmiCAT waist  흡연상태  음주여부                     \n",
       "정상체중   정상허리둘레 흡연경험무 음주안함   1831.0   95.513381\n",
       "       복부비만   흡연경험무 음주함      52.0   95.615385\n",
       "       정상허리둘레 흡연경험무 음주함    5071.0   96.187537\n",
       "       복부비만   금연    음주안함     13.0   96.230769\n",
       "       정상허리둘레 금연    음주함    4922.0   96.639374\n",
       "                    음주안함    699.0   97.288984\n",
       "              흡연중   음주안함   1156.0   97.506055\n",
       "비만체중   정상허리둘레 흡연경험무 음주안함   2348.0   98.944208\n",
       "              금연    음주안함   1083.0   99.167128\n",
       "정상체중   복부비만   흡연경험무 음주안함     19.0   99.421053\n",
       "       정상허리둘레 흡연중   음주함    9096.0   99.544965\n",
       "비만체중   정상허리둘레 흡연경험무 음주함    8268.0   99.822811\n",
       "              금연    음주함    9165.0  100.829242\n",
       "              흡연중   음주안함   1618.0  101.339926\n",
       "                    음주함   13139.0  102.971002\n",
       "정상체중   복부비만   흡연중   음주함     112.0  103.267857\n",
       "              금연    음주함      61.0  105.540984\n",
       "비만체중   복부비만   흡연경험무 음주안함   1866.0  105.633441\n",
       "              금연    음주함    7608.0  105.678496\n",
       "                    음주안함    883.0  105.762174\n",
       "              흡연경험무 음주함    6077.0  105.765016\n",
       "              흡연중   음주함   11893.0  109.248213\n",
       "                    음주안함   1397.0  110.148890\n",
       "정상체중   복부비만   흡연중   음주안함     11.0  110.545455"
      ]
     },
     "execution_count": 112,
     "metadata": {},
     "output_type": "execute_result"
    }
   ],
   "source": [
    "pd.read_pickle('./건강검진_그룹화.pkl')"
   ]
  },
  {
   "cell_type": "code",
   "execution_count": null,
   "id": "946c097c",
   "metadata": {},
   "outputs": [],
   "source": []
  }
 ],
 "metadata": {
  "kernelspec": {
   "display_name": "Python 3 (ipykernel)",
   "language": "python",
   "name": "python3"
  },
  "language_info": {
   "codemirror_mode": {
    "name": "ipython",
    "version": 3
   },
   "file_extension": ".py",
   "mimetype": "text/x-python",
   "name": "python",
   "nbconvert_exporter": "python",
   "pygments_lexer": "ipython3",
   "version": "3.8.13"
  },
  "toc": {
   "base_numbering": 1,
   "nav_menu": {},
   "number_sections": true,
   "sideBar": true,
   "skip_h1_title": false,
   "title_cell": "Table of Contents",
   "title_sidebar": "Contents",
   "toc_cell": false,
   "toc_position": {},
   "toc_section_display": true,
   "toc_window_display": false
  }
 },
 "nbformat": 4,
 "nbformat_minor": 5
}
