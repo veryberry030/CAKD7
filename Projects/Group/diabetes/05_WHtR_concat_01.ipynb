{
 "cells": [
  {
   "cell_type": "markdown",
   "id": "13de61d7",
   "metadata": {},
   "source": [
    "## 파일 설명\n",
    "- 최초 작성\n",
    "- 신나는 1차 전처리"
   ]
  },
  {
   "cell_type": "markdown",
   "id": "e1cc486d",
   "metadata": {},
   "source": [
    "## import"
   ]
  },
  {
   "cell_type": "code",
   "execution_count": 1,
   "id": "dbf8e1dc",
   "metadata": {},
   "outputs": [],
   "source": [
    "import numpy as np\n",
    "import pandas as pd\n",
    "import matplotlib.pyplot as plt\n",
    "import seaborn as sns"
   ]
  },
  {
   "cell_type": "code",
   "execution_count": 77,
   "id": "70a1ebb2",
   "metadata": {},
   "outputs": [],
   "source": [
    "from matplotlib import rc\n",
    "rc('font', family='Malgun Gothic') # 한글 폰트\n",
    "plt.rcParams['axes.unicode_minus'] = False # 마이너스 부호출력 설정"
   ]
  },
  {
   "cell_type": "markdown",
   "id": "47a37902",
   "metadata": {},
   "source": [
    "# 불러오기"
   ]
  },
  {
   "cell_type": "code",
   "execution_count": 54,
   "id": "e1776e19",
   "metadata": {},
   "outputs": [],
   "source": [
    "df = pd.read_csv('./data/rawdata.CSV', encoding='euc-kr')"
   ]
  },
  {
   "cell_type": "code",
   "execution_count": 55,
   "id": "bba948f6",
   "metadata": {},
   "outputs": [
    {
     "data": {
      "text/html": [
       "<div>\n",
       "<style scoped>\n",
       "    .dataframe tbody tr th:only-of-type {\n",
       "        vertical-align: middle;\n",
       "    }\n",
       "\n",
       "    .dataframe tbody tr th {\n",
       "        vertical-align: top;\n",
       "    }\n",
       "\n",
       "    .dataframe thead th {\n",
       "        text-align: right;\n",
       "    }\n",
       "</style>\n",
       "<table border=\"1\" class=\"dataframe\">\n",
       "  <thead>\n",
       "    <tr style=\"text-align: right;\">\n",
       "      <th></th>\n",
       "      <th>기준년도</th>\n",
       "      <th>가입자 일련번호</th>\n",
       "      <th>시도코드</th>\n",
       "      <th>성별코드</th>\n",
       "      <th>연령대 코드(5세단위)</th>\n",
       "      <th>신장(5Cm단위)</th>\n",
       "      <th>체중(5Kg 단위)</th>\n",
       "      <th>허리둘레</th>\n",
       "      <th>시력(좌)</th>\n",
       "      <th>시력(우)</th>\n",
       "      <th>...</th>\n",
       "      <th>혈청크레아티닌</th>\n",
       "      <th>(혈청지오티)AST</th>\n",
       "      <th>(혈청지오티)ALT</th>\n",
       "      <th>감마 지티피</th>\n",
       "      <th>흡연상태</th>\n",
       "      <th>음주여부</th>\n",
       "      <th>구강검진 수검여부</th>\n",
       "      <th>치아우식증유무</th>\n",
       "      <th>치석</th>\n",
       "      <th>데이터 공개일자</th>\n",
       "    </tr>\n",
       "  </thead>\n",
       "  <tbody>\n",
       "    <tr>\n",
       "      <th>0</th>\n",
       "      <td>2020</td>\n",
       "      <td>1</td>\n",
       "      <td>36</td>\n",
       "      <td>1</td>\n",
       "      <td>9</td>\n",
       "      <td>165</td>\n",
       "      <td>60</td>\n",
       "      <td>72.1</td>\n",
       "      <td>1.2</td>\n",
       "      <td>1.5</td>\n",
       "      <td>...</td>\n",
       "      <td>1.1</td>\n",
       "      <td>21.0</td>\n",
       "      <td>27.0</td>\n",
       "      <td>21.0</td>\n",
       "      <td>1.0</td>\n",
       "      <td>0.0</td>\n",
       "      <td>0</td>\n",
       "      <td>NaN</td>\n",
       "      <td>NaN</td>\n",
       "      <td>2021-12-29</td>\n",
       "    </tr>\n",
       "    <tr>\n",
       "      <th>1</th>\n",
       "      <td>2020</td>\n",
       "      <td>2</td>\n",
       "      <td>27</td>\n",
       "      <td>2</td>\n",
       "      <td>13</td>\n",
       "      <td>150</td>\n",
       "      <td>65</td>\n",
       "      <td>81.0</td>\n",
       "      <td>0.8</td>\n",
       "      <td>0.8</td>\n",
       "      <td>...</td>\n",
       "      <td>0.5</td>\n",
       "      <td>18.0</td>\n",
       "      <td>15.0</td>\n",
       "      <td>15.0</td>\n",
       "      <td>1.0</td>\n",
       "      <td>0.0</td>\n",
       "      <td>0</td>\n",
       "      <td>NaN</td>\n",
       "      <td>NaN</td>\n",
       "      <td>2021-12-29</td>\n",
       "    </tr>\n",
       "  </tbody>\n",
       "</table>\n",
       "<p>2 rows × 31 columns</p>\n",
       "</div>"
      ],
      "text/plain": [
       "   기준년도  가입자 일련번호  시도코드  성별코드  연령대 코드(5세단위)  신장(5Cm단위)  체중(5Kg 단위)  허리둘레  \\\n",
       "0  2020         1    36     1             9        165          60  72.1   \n",
       "1  2020         2    27     2            13        150          65  81.0   \n",
       "\n",
       "   시력(좌)  시력(우)  ...  혈청크레아티닌  (혈청지오티)AST  (혈청지오티)ALT  감마 지티피  흡연상태  음주여부  \\\n",
       "0    1.2    1.5  ...      1.1        21.0        27.0    21.0   1.0   0.0   \n",
       "1    0.8    0.8  ...      0.5        18.0        15.0    15.0   1.0   0.0   \n",
       "\n",
       "   구강검진 수검여부  치아우식증유무  치석    데이터 공개일자  \n",
       "0          0      NaN NaN  2021-12-29  \n",
       "1          0      NaN NaN  2021-12-29  \n",
       "\n",
       "[2 rows x 31 columns]"
      ]
     },
     "execution_count": 55,
     "metadata": {},
     "output_type": "execute_result"
    }
   ],
   "source": [
    "df.head(2)"
   ]
  },
  {
   "cell_type": "code",
   "execution_count": 56,
   "id": "e58f14c7",
   "metadata": {},
   "outputs": [
    {
     "name": "stdout",
     "output_type": "stream",
     "text": [
      "<class 'pandas.core.frame.DataFrame'>\n",
      "RangeIndex: 1000000 entries, 0 to 999999\n",
      "Data columns (total 31 columns):\n",
      " #   Column        Non-Null Count    Dtype  \n",
      "---  ------        --------------    -----  \n",
      " 0   기준년도          1000000 non-null  int64  \n",
      " 1   가입자 일련번호      1000000 non-null  int64  \n",
      " 2   시도코드          1000000 non-null  int64  \n",
      " 3   성별코드          1000000 non-null  int64  \n",
      " 4   연령대 코드(5세단위)  1000000 non-null  int64  \n",
      " 5   신장(5Cm단위)     1000000 non-null  int64  \n",
      " 6   체중(5Kg 단위)    1000000 non-null  int64  \n",
      " 7   허리둘레          999892 non-null   float64\n",
      " 8   시력(좌)         999743 non-null   float64\n",
      " 9   시력(우)         999748 non-null   float64\n",
      " 10  청력(좌)         999778 non-null   float64\n",
      " 11  청력(우)         999770 non-null   float64\n",
      " 12  수축기 혈압        992468 non-null   float64\n",
      " 13  이완기 혈압        992466 non-null   float64\n",
      " 14  식전혈당(공복혈당)    992398 non-null   float64\n",
      " 15  총 콜레스테롤       402306 non-null   float64\n",
      " 16  트리글리세라이드      402322 non-null   float64\n",
      " 17  HDL 콜레스테롤     402315 non-null   float64\n",
      " 18  LDL 콜레스테롤     394471 non-null   float64\n",
      " 19  혈색소           992389 non-null   float64\n",
      " 20  요단백           987859 non-null   float64\n",
      " 21  혈청크레아티닌       992398 non-null   float64\n",
      " 22  (혈청지오티)AST    992399 non-null   float64\n",
      " 23  (혈청지오티)ALT    992398 non-null   float64\n",
      " 24  감마 지티피        992397 non-null   float64\n",
      " 25  흡연상태          999657 non-null   float64\n",
      " 26  음주여부          999804 non-null   float64\n",
      " 27  구강검진 수검여부     1000000 non-null  int64  \n",
      " 28  치아우식증유무       331383 non-null   float64\n",
      " 29  치석            331382 non-null   float64\n",
      " 30  데이터 공개일자      1000000 non-null  object \n",
      "dtypes: float64(22), int64(8), object(1)\n",
      "memory usage: 236.5+ MB\n"
     ]
    }
   ],
   "source": [
    "df.info()"
   ]
  },
  {
   "cell_type": "markdown",
   "id": "a42ab8ae",
   "metadata": {},
   "source": [
    "# 전처리 \n",
    "## 사용 안할 rows, columns 드롭"
   ]
  },
  {
   "cell_type": "markdown",
   "id": "dcbad9b3",
   "metadata": {},
   "source": [
    "- 공통컬럼s : ['신장(5Cm단위)', '체중(5Kg 단위)', '시력(좌)', '시력(우)', '수축기 혈압', '이완기 혈압', '총 콜레스테롤', '혈청크레아티닌', '(혈청지오티)AST', '(혈청지오티)ALT', '감마 지티피']\n",
    "- 사용컬럼s : ['허리둘레', '식전혈당(공복혈당)', '흡연상태', '음주여부']\n",
    "- 사용안할 행s : 여자"
   ]
  },
  {
   "cell_type": "code",
   "execution_count": 57,
   "id": "66e7b0cc",
   "metadata": {},
   "outputs": [
    {
     "name": "stdout",
     "output_type": "stream",
     "text": [
      "0 : 기준년도\n",
      "1 : 가입자 일련번호\n",
      "2 : 시도코드\n",
      "3 : 성별코드\n",
      "4 : 연령대 코드(5세단위)\n",
      "5 : 신장(5Cm단위)\n",
      "6 : 체중(5Kg 단위)\n",
      "7 : 허리둘레\n",
      "8 : 시력(좌)\n",
      "9 : 시력(우)\n",
      "10 : 청력(좌)\n",
      "11 : 청력(우)\n",
      "12 : 수축기 혈압\n",
      "13 : 이완기 혈압\n",
      "14 : 식전혈당(공복혈당)\n",
      "15 : 총 콜레스테롤\n",
      "16 : 트리글리세라이드\n",
      "17 : HDL 콜레스테롤\n",
      "18 : LDL 콜레스테롤\n",
      "19 : 혈색소\n",
      "20 : 요단백\n",
      "21 : 혈청크레아티닌\n",
      "22 : (혈청지오티)AST\n",
      "23 : (혈청지오티)ALT\n",
      "24 : 감마 지티피\n",
      "25 : 흡연상태\n",
      "26 : 음주여부\n",
      "27 : 구강검진 수검여부\n",
      "28 : 치아우식증유무\n",
      "29 : 치석\n",
      "30 : 데이터 공개일자\n"
     ]
    }
   ],
   "source": [
    "for i, col in enumerate(df.columns):\n",
    "    print(i, ':', col)"
   ]
  },
  {
   "cell_type": "code",
   "execution_count": 58,
   "id": "2de4f5de",
   "metadata": {},
   "outputs": [
    {
     "data": {
      "text/html": [
       "<div>\n",
       "<style scoped>\n",
       "    .dataframe tbody tr th:only-of-type {\n",
       "        vertical-align: middle;\n",
       "    }\n",
       "\n",
       "    .dataframe tbody tr th {\n",
       "        vertical-align: top;\n",
       "    }\n",
       "\n",
       "    .dataframe thead th {\n",
       "        text-align: right;\n",
       "    }\n",
       "</style>\n",
       "<table border=\"1\" class=\"dataframe\">\n",
       "  <thead>\n",
       "    <tr style=\"text-align: right;\">\n",
       "      <th></th>\n",
       "      <th>성별코드</th>\n",
       "      <th>연령대 코드(5세단위)</th>\n",
       "      <th>신장(5Cm단위)</th>\n",
       "      <th>체중(5Kg 단위)</th>\n",
       "      <th>허리둘레</th>\n",
       "      <th>시력(좌)</th>\n",
       "      <th>시력(우)</th>\n",
       "      <th>수축기 혈압</th>\n",
       "      <th>이완기 혈압</th>\n",
       "      <th>식전혈당(공복혈당)</th>\n",
       "      <th>총 콜레스테롤</th>\n",
       "      <th>혈청크레아티닌</th>\n",
       "      <th>(혈청지오티)AST</th>\n",
       "      <th>(혈청지오티)ALT</th>\n",
       "      <th>감마 지티피</th>\n",
       "      <th>흡연상태</th>\n",
       "      <th>음주여부</th>\n",
       "    </tr>\n",
       "  </thead>\n",
       "  <tbody>\n",
       "    <tr>\n",
       "      <th>0</th>\n",
       "      <td>1</td>\n",
       "      <td>9</td>\n",
       "      <td>165</td>\n",
       "      <td>60</td>\n",
       "      <td>72.1</td>\n",
       "      <td>1.2</td>\n",
       "      <td>1.5</td>\n",
       "      <td>127.0</td>\n",
       "      <td>79.0</td>\n",
       "      <td>90.0</td>\n",
       "      <td>188.0</td>\n",
       "      <td>1.1</td>\n",
       "      <td>21.0</td>\n",
       "      <td>27.0</td>\n",
       "      <td>21.0</td>\n",
       "      <td>1.0</td>\n",
       "      <td>0.0</td>\n",
       "    </tr>\n",
       "    <tr>\n",
       "      <th>1</th>\n",
       "      <td>2</td>\n",
       "      <td>13</td>\n",
       "      <td>150</td>\n",
       "      <td>65</td>\n",
       "      <td>81.0</td>\n",
       "      <td>0.8</td>\n",
       "      <td>0.8</td>\n",
       "      <td>110.0</td>\n",
       "      <td>73.0</td>\n",
       "      <td>87.0</td>\n",
       "      <td>NaN</td>\n",
       "      <td>0.5</td>\n",
       "      <td>18.0</td>\n",
       "      <td>15.0</td>\n",
       "      <td>15.0</td>\n",
       "      <td>1.0</td>\n",
       "      <td>0.0</td>\n",
       "    </tr>\n",
       "  </tbody>\n",
       "</table>\n",
       "</div>"
      ],
      "text/plain": [
       "   성별코드  연령대 코드(5세단위)  신장(5Cm단위)  체중(5Kg 단위)  허리둘레  시력(좌)  시력(우)  수축기 혈압  \\\n",
       "0     1             9        165          60  72.1    1.2    1.5   127.0   \n",
       "1     2            13        150          65  81.0    0.8    0.8   110.0   \n",
       "\n",
       "   이완기 혈압  식전혈당(공복혈당)  총 콜레스테롤  혈청크레아티닌  (혈청지오티)AST  (혈청지오티)ALT  감마 지티피  흡연상태  \\\n",
       "0    79.0        90.0    188.0      1.1        21.0        27.0    21.0   1.0   \n",
       "1    73.0        87.0      NaN      0.5        18.0        15.0    15.0   1.0   \n",
       "\n",
       "   음주여부  \n",
       "0   0.0  \n",
       "1   0.0  "
      ]
     },
     "execution_count": 58,
     "metadata": {},
     "output_type": "execute_result"
    }
   ],
   "source": [
    "df1 = df.iloc[:, [3, 4, 5, 6, 7, 8, 9, 12, 13, 14, 15, 21, 22, 23, 24, 25, 26]].copy()\n",
    "df1.head(2)"
   ]
  },
  {
   "cell_type": "code",
   "execution_count": 59,
   "id": "61289d32",
   "metadata": {},
   "outputs": [
    {
     "data": {
      "text/plain": [
       "array([1], dtype=int64)"
      ]
     },
     "execution_count": 59,
     "metadata": {},
     "output_type": "execute_result"
    }
   ],
   "source": [
    "df2 = df1[df1['성별코드'] == 1].copy()\n",
    "df2['성별코드'].unique()"
   ]
  },
  {
   "cell_type": "code",
   "execution_count": 60,
   "id": "cb3ba99c",
   "metadata": {},
   "outputs": [],
   "source": [
    "df2.reset_index(drop=True, inplace=True)"
   ]
  },
  {
   "cell_type": "code",
   "execution_count": 61,
   "id": "bd0aca26",
   "metadata": {},
   "outputs": [],
   "source": [
    "df2.drop(columns=['성별코드'], inplace=True)"
   ]
  },
  {
   "cell_type": "code",
   "execution_count": 63,
   "id": "129f0954",
   "metadata": {},
   "outputs": [
    {
     "data": {
      "text/html": [
       "<div>\n",
       "<style scoped>\n",
       "    .dataframe tbody tr th:only-of-type {\n",
       "        vertical-align: middle;\n",
       "    }\n",
       "\n",
       "    .dataframe tbody tr th {\n",
       "        vertical-align: top;\n",
       "    }\n",
       "\n",
       "    .dataframe thead th {\n",
       "        text-align: right;\n",
       "    }\n",
       "</style>\n",
       "<table border=\"1\" class=\"dataframe\">\n",
       "  <thead>\n",
       "    <tr style=\"text-align: right;\">\n",
       "      <th></th>\n",
       "      <th>연령대 코드(5세단위)</th>\n",
       "      <th>신장(5Cm단위)</th>\n",
       "      <th>체중(5Kg 단위)</th>\n",
       "      <th>허리둘레</th>\n",
       "      <th>시력(좌)</th>\n",
       "      <th>시력(우)</th>\n",
       "      <th>수축기 혈압</th>\n",
       "      <th>이완기 혈압</th>\n",
       "      <th>식전혈당(공복혈당)</th>\n",
       "      <th>총 콜레스테롤</th>\n",
       "      <th>혈청크레아티닌</th>\n",
       "      <th>(혈청지오티)AST</th>\n",
       "      <th>(혈청지오티)ALT</th>\n",
       "      <th>감마 지티피</th>\n",
       "      <th>흡연상태</th>\n",
       "      <th>음주여부</th>\n",
       "    </tr>\n",
       "  </thead>\n",
       "  <tbody>\n",
       "    <tr>\n",
       "      <th>0</th>\n",
       "      <td>9</td>\n",
       "      <td>165</td>\n",
       "      <td>60</td>\n",
       "      <td>72.1</td>\n",
       "      <td>1.2</td>\n",
       "      <td>1.5</td>\n",
       "      <td>127.0</td>\n",
       "      <td>79.0</td>\n",
       "      <td>90.0</td>\n",
       "      <td>188.0</td>\n",
       "      <td>1.1</td>\n",
       "      <td>21.0</td>\n",
       "      <td>27.0</td>\n",
       "      <td>21.0</td>\n",
       "      <td>1.0</td>\n",
       "      <td>0.0</td>\n",
       "    </tr>\n",
       "    <tr>\n",
       "      <th>1</th>\n",
       "      <td>13</td>\n",
       "      <td>160</td>\n",
       "      <td>70</td>\n",
       "      <td>90.8</td>\n",
       "      <td>1.0</td>\n",
       "      <td>1.0</td>\n",
       "      <td>134.0</td>\n",
       "      <td>84.0</td>\n",
       "      <td>146.0</td>\n",
       "      <td>NaN</td>\n",
       "      <td>1.2</td>\n",
       "      <td>65.0</td>\n",
       "      <td>97.0</td>\n",
       "      <td>72.0</td>\n",
       "      <td>1.0</td>\n",
       "      <td>0.0</td>\n",
       "    </tr>\n",
       "  </tbody>\n",
       "</table>\n",
       "</div>"
      ],
      "text/plain": [
       "   연령대 코드(5세단위)  신장(5Cm단위)  체중(5Kg 단위)  허리둘레  시력(좌)  시력(우)  수축기 혈압  이완기 혈압  \\\n",
       "0             9        165          60  72.1    1.2    1.5   127.0    79.0   \n",
       "1            13        160          70  90.8    1.0    1.0   134.0    84.0   \n",
       "\n",
       "   식전혈당(공복혈당)  총 콜레스테롤  혈청크레아티닌  (혈청지오티)AST  (혈청지오티)ALT  감마 지티피  흡연상태  음주여부  \n",
       "0        90.0    188.0      1.1        21.0        27.0    21.0   1.0   0.0  \n",
       "1       146.0      NaN      1.2        65.0        97.0    72.0   1.0   0.0  "
      ]
     },
     "execution_count": 63,
     "metadata": {},
     "output_type": "execute_result"
    }
   ],
   "source": [
    "df2.head(2)"
   ]
  },
  {
   "cell_type": "markdown",
   "id": "34e9568e",
   "metadata": {},
   "source": [
    "## 공복혈당 결측치"
   ]
  },
  {
   "cell_type": "code",
   "execution_count": 64,
   "id": "b021ea74",
   "metadata": {},
   "outputs": [
    {
     "name": "stdout",
     "output_type": "stream",
     "text": [
      "<class 'pandas.core.frame.DataFrame'>\n",
      "RangeIndex: 510689 entries, 0 to 510688\n",
      "Data columns (total 16 columns):\n",
      " #   Column        Non-Null Count   Dtype  \n",
      "---  ------        --------------   -----  \n",
      " 0   연령대 코드(5세단위)  510689 non-null  int64  \n",
      " 1   신장(5Cm단위)     510689 non-null  int64  \n",
      " 2   체중(5Kg 단위)    510689 non-null  int64  \n",
      " 3   허리둘레          510648 non-null  float64\n",
      " 4   시력(좌)         510561 non-null  float64\n",
      " 5   시력(우)         510563 non-null  float64\n",
      " 6   수축기 혈압        507976 non-null  float64\n",
      " 7   이완기 혈압        507975 non-null  float64\n",
      " 8   식전혈당(공복혈당)    507950 non-null  float64\n",
      " 9   총 콜레스테롤       197112 non-null  float64\n",
      " 10  혈청크레아티닌       507950 non-null  float64\n",
      " 11  (혈청지오티)AST    507950 non-null  float64\n",
      " 12  (혈청지오티)ALT    507949 non-null  float64\n",
      " 13  감마 지티피        507950 non-null  float64\n",
      " 14  흡연상태          510526 non-null  float64\n",
      " 15  음주여부          510611 non-null  float64\n",
      "dtypes: float64(13), int64(3)\n",
      "memory usage: 62.3 MB\n"
     ]
    }
   ],
   "source": [
    "df2.info()"
   ]
  },
  {
   "cell_type": "code",
   "execution_count": 65,
   "id": "1ea1c601",
   "metadata": {},
   "outputs": [],
   "source": [
    "df3 = df2.copy()"
   ]
  },
  {
   "cell_type": "code",
   "execution_count": 69,
   "id": "5932a68b",
   "metadata": {},
   "outputs": [
    {
     "data": {
      "text/plain": [
       "연령대 코드(5세단위)         0\n",
       "신장(5Cm단위)            0\n",
       "체중(5Kg 단위)           0\n",
       "허리둘레                41\n",
       "시력(좌)              128\n",
       "시력(우)              126\n",
       "수축기 혈압            2713\n",
       "이완기 혈압            2714\n",
       "식전혈당(공복혈당)        2739\n",
       "총 콜레스테롤         313577\n",
       "혈청크레아티닌           2739\n",
       "(혈청지오티)AST        2739\n",
       "(혈청지오티)ALT        2740\n",
       "감마 지티피            2739\n",
       "흡연상태               163\n",
       "음주여부                78\n",
       "dtype: int64"
      ]
     },
     "execution_count": 69,
     "metadata": {},
     "output_type": "execute_result"
    }
   ],
   "source": [
    "df3.isna().sum()"
   ]
  },
  {
   "cell_type": "code",
   "execution_count": 73,
   "id": "579e2034",
   "metadata": {},
   "outputs": [
    {
     "name": "stdout",
     "output_type": "stream",
     "text": [
      "<class 'pandas.core.frame.DataFrame'>\n",
      "Int64Index: 507950 entries, 0 to 510688\n",
      "Data columns (total 16 columns):\n",
      " #   Column        Non-Null Count   Dtype  \n",
      "---  ------        --------------   -----  \n",
      " 0   연령대 코드(5세단위)  507950 non-null  int64  \n",
      " 1   신장(5Cm단위)     507950 non-null  int64  \n",
      " 2   체중(5Kg 단위)    507950 non-null  int64  \n",
      " 3   허리둘레          507909 non-null  float64\n",
      " 4   시력(좌)         507828 non-null  float64\n",
      " 5   시력(우)         507830 non-null  float64\n",
      " 6   수축기 혈압        507938 non-null  float64\n",
      " 7   이완기 혈압        507937 non-null  float64\n",
      " 8   식전혈당(공복혈당)    507950 non-null  float64\n",
      " 9   총 콜레스테롤       197112 non-null  float64\n",
      " 10  혈청크레아티닌       507950 non-null  float64\n",
      " 11  (혈청지오티)AST    507950 non-null  float64\n",
      " 12  (혈청지오티)ALT    507949 non-null  float64\n",
      " 13  감마 지티피        507950 non-null  float64\n",
      " 14  흡연상태          507787 non-null  float64\n",
      " 15  음주여부          507872 non-null  float64\n",
      "dtypes: float64(13), int64(3)\n",
      "memory usage: 65.9 MB\n"
     ]
    }
   ],
   "source": [
    "df3.dropna(subset=['식전혈당(공복혈당)']).isna().sum()\n",
    "df3.dropna(subset=['식전혈당(공복혈당)'], inplace=True)\n",
    "df3.info()"
   ]
  },
  {
   "cell_type": "code",
   "execution_count": 74,
   "id": "e68cf465",
   "metadata": {
    "scrolled": true
   },
   "outputs": [
    {
     "name": "stdout",
     "output_type": "stream",
     "text": [
      "<class 'pandas.core.frame.DataFrame'>\n",
      "RangeIndex: 507950 entries, 0 to 507949\n",
      "Data columns (total 16 columns):\n",
      " #   Column        Non-Null Count   Dtype  \n",
      "---  ------        --------------   -----  \n",
      " 0   연령대 코드(5세단위)  507950 non-null  int64  \n",
      " 1   신장(5Cm단위)     507950 non-null  int64  \n",
      " 2   체중(5Kg 단위)    507950 non-null  int64  \n",
      " 3   허리둘레          507909 non-null  float64\n",
      " 4   시력(좌)         507828 non-null  float64\n",
      " 5   시력(우)         507830 non-null  float64\n",
      " 6   수축기 혈압        507938 non-null  float64\n",
      " 7   이완기 혈압        507937 non-null  float64\n",
      " 8   식전혈당(공복혈당)    507950 non-null  float64\n",
      " 9   총 콜레스테롤       197112 non-null  float64\n",
      " 10  혈청크레아티닌       507950 non-null  float64\n",
      " 11  (혈청지오티)AST    507950 non-null  float64\n",
      " 12  (혈청지오티)ALT    507949 non-null  float64\n",
      " 13  감마 지티피        507950 non-null  float64\n",
      " 14  흡연상태          507787 non-null  float64\n",
      " 15  음주여부          507872 non-null  float64\n",
      "dtypes: float64(13), int64(3)\n",
      "memory usage: 62.0 MB\n"
     ]
    }
   ],
   "source": [
    "df3.reset_index(drop=True, inplace=True)\n",
    "df3.info()"
   ]
  },
  {
   "cell_type": "markdown",
   "id": "aa877dae",
   "metadata": {},
   "source": [
    "## 연령대 하나만 남김"
   ]
  },
  {
   "cell_type": "code",
   "execution_count": 75,
   "id": "ea3443ff",
   "metadata": {},
   "outputs": [
    {
     "data": {
      "text/html": [
       "<div>\n",
       "<style scoped>\n",
       "    .dataframe tbody tr th:only-of-type {\n",
       "        vertical-align: middle;\n",
       "    }\n",
       "\n",
       "    .dataframe tbody tr th {\n",
       "        vertical-align: top;\n",
       "    }\n",
       "\n",
       "    .dataframe thead th {\n",
       "        text-align: right;\n",
       "    }\n",
       "</style>\n",
       "<table border=\"1\" class=\"dataframe\">\n",
       "  <thead>\n",
       "    <tr style=\"text-align: right;\">\n",
       "      <th></th>\n",
       "      <th>연령대 코드(5세단위)</th>\n",
       "      <th>신장(5Cm단위)</th>\n",
       "      <th>체중(5Kg 단위)</th>\n",
       "      <th>허리둘레</th>\n",
       "      <th>시력(좌)</th>\n",
       "      <th>시력(우)</th>\n",
       "      <th>수축기 혈압</th>\n",
       "      <th>이완기 혈압</th>\n",
       "      <th>식전혈당(공복혈당)</th>\n",
       "      <th>총 콜레스테롤</th>\n",
       "      <th>혈청크레아티닌</th>\n",
       "      <th>(혈청지오티)AST</th>\n",
       "      <th>(혈청지오티)ALT</th>\n",
       "      <th>감마 지티피</th>\n",
       "      <th>흡연상태</th>\n",
       "      <th>음주여부</th>\n",
       "    </tr>\n",
       "  </thead>\n",
       "  <tbody>\n",
       "    <tr>\n",
       "      <th>0</th>\n",
       "      <td>9</td>\n",
       "      <td>165</td>\n",
       "      <td>60</td>\n",
       "      <td>72.1</td>\n",
       "      <td>1.2</td>\n",
       "      <td>1.5</td>\n",
       "      <td>127.0</td>\n",
       "      <td>79.0</td>\n",
       "      <td>90.0</td>\n",
       "      <td>188.0</td>\n",
       "      <td>1.1</td>\n",
       "      <td>21.0</td>\n",
       "      <td>27.0</td>\n",
       "      <td>21.0</td>\n",
       "      <td>1.0</td>\n",
       "      <td>0.0</td>\n",
       "    </tr>\n",
       "    <tr>\n",
       "      <th>1</th>\n",
       "      <td>13</td>\n",
       "      <td>160</td>\n",
       "      <td>70</td>\n",
       "      <td>90.8</td>\n",
       "      <td>1.0</td>\n",
       "      <td>1.0</td>\n",
       "      <td>134.0</td>\n",
       "      <td>84.0</td>\n",
       "      <td>146.0</td>\n",
       "      <td>NaN</td>\n",
       "      <td>1.2</td>\n",
       "      <td>65.0</td>\n",
       "      <td>97.0</td>\n",
       "      <td>72.0</td>\n",
       "      <td>1.0</td>\n",
       "      <td>0.0</td>\n",
       "    </tr>\n",
       "    <tr>\n",
       "      <th>2</th>\n",
       "      <td>9</td>\n",
       "      <td>185</td>\n",
       "      <td>85</td>\n",
       "      <td>94.0</td>\n",
       "      <td>1.2</td>\n",
       "      <td>1.2</td>\n",
       "      <td>114.0</td>\n",
       "      <td>72.0</td>\n",
       "      <td>86.0</td>\n",
       "      <td>234.0</td>\n",
       "      <td>1.1</td>\n",
       "      <td>25.0</td>\n",
       "      <td>32.0</td>\n",
       "      <td>26.0</td>\n",
       "      <td>3.0</td>\n",
       "      <td>1.0</td>\n",
       "    </tr>\n",
       "    <tr>\n",
       "      <th>3</th>\n",
       "      <td>9</td>\n",
       "      <td>165</td>\n",
       "      <td>80</td>\n",
       "      <td>93.0</td>\n",
       "      <td>0.8</td>\n",
       "      <td>0.7</td>\n",
       "      <td>112.0</td>\n",
       "      <td>73.0</td>\n",
       "      <td>250.0</td>\n",
       "      <td>119.0</td>\n",
       "      <td>0.7</td>\n",
       "      <td>18.0</td>\n",
       "      <td>20.0</td>\n",
       "      <td>35.0</td>\n",
       "      <td>3.0</td>\n",
       "      <td>1.0</td>\n",
       "    </tr>\n",
       "    <tr>\n",
       "      <th>4</th>\n",
       "      <td>13</td>\n",
       "      <td>160</td>\n",
       "      <td>65</td>\n",
       "      <td>92.0</td>\n",
       "      <td>0.5</td>\n",
       "      <td>0.5</td>\n",
       "      <td>131.0</td>\n",
       "      <td>79.0</td>\n",
       "      <td>93.0</td>\n",
       "      <td>NaN</td>\n",
       "      <td>1.2</td>\n",
       "      <td>18.0</td>\n",
       "      <td>17.0</td>\n",
       "      <td>19.0</td>\n",
       "      <td>3.0</td>\n",
       "      <td>0.0</td>\n",
       "    </tr>\n",
       "  </tbody>\n",
       "</table>\n",
       "</div>"
      ],
      "text/plain": [
       "   연령대 코드(5세단위)  신장(5Cm단위)  체중(5Kg 단위)  허리둘레  시력(좌)  시력(우)  수축기 혈압  이완기 혈압  \\\n",
       "0             9        165          60  72.1    1.2    1.5   127.0    79.0   \n",
       "1            13        160          70  90.8    1.0    1.0   134.0    84.0   \n",
       "2             9        185          85  94.0    1.2    1.2   114.0    72.0   \n",
       "3             9        165          80  93.0    0.8    0.7   112.0    73.0   \n",
       "4            13        160          65  92.0    0.5    0.5   131.0    79.0   \n",
       "\n",
       "   식전혈당(공복혈당)  총 콜레스테롤  혈청크레아티닌  (혈청지오티)AST  (혈청지오티)ALT  감마 지티피  흡연상태  음주여부  \n",
       "0        90.0    188.0      1.1        21.0        27.0    21.0   1.0   0.0  \n",
       "1       146.0      NaN      1.2        65.0        97.0    72.0   1.0   0.0  \n",
       "2        86.0    234.0      1.1        25.0        32.0    26.0   3.0   1.0  \n",
       "3       250.0    119.0      0.7        18.0        20.0    35.0   3.0   1.0  \n",
       "4        93.0      NaN      1.2        18.0        17.0    19.0   3.0   0.0  "
      ]
     },
     "execution_count": 75,
     "metadata": {},
     "output_type": "execute_result"
    }
   ],
   "source": [
    "df3.head()"
   ]
  },
  {
   "cell_type": "code",
   "execution_count": 84,
   "id": "42cebd1f",
   "metadata": {},
   "outputs": [
    {
     "data": {
      "text/plain": [
       "count    507950.000000\n",
       "mean         11.760142\n",
       "std           2.137697\n",
       "min           9.000000\n",
       "25%          10.000000\n",
       "50%          11.000000\n",
       "75%          13.000000\n",
       "max          18.000000\n",
       "Name: 연령대 코드(5세단위), dtype: float64"
      ]
     },
     "execution_count": 84,
     "metadata": {},
     "output_type": "execute_result"
    }
   ],
   "source": [
    "desc = df3['연령대 코드(5세단위)'].describe()\n",
    "desc"
   ]
  },
  {
   "cell_type": "code",
   "execution_count": 94,
   "id": "4aeed3ee",
   "metadata": {},
   "outputs": [
    {
     "data": {
      "text/plain": [
       "array([ 9, 13, 14, 10, 11, 15, 17, 12, 16, 18], dtype=int64)"
      ]
     },
     "execution_count": 94,
     "metadata": {},
     "output_type": "execute_result"
    }
   ],
   "source": [
    "df3['연령대 코드(5세단위)'].unique()"
   ]
  },
  {
   "cell_type": "code",
   "execution_count": 97,
   "id": "82a69233",
   "metadata": {},
   "outputs": [
    {
     "data": {
      "text/plain": [
       "Int64Index([     0,      2,      3,     13,     18,     29,     40,     45,\n",
       "                48,     56,\n",
       "            ...\n",
       "            507905, 507908, 507910, 507912, 507920, 507926, 507927, 507928,\n",
       "            507931, 507948],\n",
       "           dtype='int64', length=88433)"
      ]
     },
     "execution_count": 97,
     "metadata": {},
     "output_type": "execute_result"
    }
   ],
   "source": [
    "df3[df3['연령대 코드(5세단위)'] == 9].index"
   ]
  },
  {
   "cell_type": "code",
   "execution_count": 98,
   "id": "5cf590d8",
   "metadata": {},
   "outputs": [],
   "source": [
    "df4 = df3.copy()"
   ]
  },
  {
   "cell_type": "code",
   "execution_count": 99,
   "id": "e554ddec",
   "metadata": {},
   "outputs": [],
   "source": [
    "df4 = df4[df4['연령대 코드(5세단위)'] == 9]"
   ]
  },
  {
   "cell_type": "code",
   "execution_count": 101,
   "id": "9505d787",
   "metadata": {},
   "outputs": [],
   "source": [
    "df4.reset_index(drop=True, inplace=True)"
   ]
  },
  {
   "cell_type": "code",
   "execution_count": 102,
   "id": "21bd58ff",
   "metadata": {},
   "outputs": [
    {
     "name": "stdout",
     "output_type": "stream",
     "text": [
      "<class 'pandas.core.frame.DataFrame'>\n",
      "RangeIndex: 88433 entries, 0 to 88432\n",
      "Data columns (total 16 columns):\n",
      " #   Column        Non-Null Count  Dtype  \n",
      "---  ------        --------------  -----  \n",
      " 0   연령대 코드(5세단위)  88433 non-null  int64  \n",
      " 1   신장(5Cm단위)     88433 non-null  int64  \n",
      " 2   체중(5Kg 단위)    88433 non-null  int64  \n",
      " 3   허리둘레          88424 non-null  float64\n",
      " 4   시력(좌)         88404 non-null  float64\n",
      " 5   시력(우)         88405 non-null  float64\n",
      " 6   수축기 혈압        88430 non-null  float64\n",
      " 7   이완기 혈압        88430 non-null  float64\n",
      " 8   식전혈당(공복혈당)    88433 non-null  float64\n",
      " 9   총 콜레스테롤       45738 non-null  float64\n",
      " 10  혈청크레아티닌       88433 non-null  float64\n",
      " 11  (혈청지오티)AST    88433 non-null  float64\n",
      " 12  (혈청지오티)ALT    88433 non-null  float64\n",
      " 13  감마 지티피        88433 non-null  float64\n",
      " 14  흡연상태          88400 non-null  float64\n",
      " 15  음주여부          88428 non-null  float64\n",
      "dtypes: float64(13), int64(3)\n",
      "memory usage: 10.8 MB\n"
     ]
    }
   ],
   "source": [
    "df4.info()"
   ]
  },
  {
   "cell_type": "markdown",
   "id": "4b3bb97a",
   "metadata": {},
   "source": [
    "##  결측치 : 총 콜레스테롤 drop"
   ]
  },
  {
   "cell_type": "code",
   "execution_count": 103,
   "id": "04b575b1",
   "metadata": {},
   "outputs": [],
   "source": [
    "df5 = df4.copy()"
   ]
  },
  {
   "cell_type": "code",
   "execution_count": 104,
   "id": "6420b635",
   "metadata": {},
   "outputs": [
    {
     "name": "stdout",
     "output_type": "stream",
     "text": [
      "<class 'pandas.core.frame.DataFrame'>\n",
      "RangeIndex: 88433 entries, 0 to 88432\n",
      "Data columns (total 15 columns):\n",
      " #   Column        Non-Null Count  Dtype  \n",
      "---  ------        --------------  -----  \n",
      " 0   연령대 코드(5세단위)  88433 non-null  int64  \n",
      " 1   신장(5Cm단위)     88433 non-null  int64  \n",
      " 2   체중(5Kg 단위)    88433 non-null  int64  \n",
      " 3   허리둘레          88424 non-null  float64\n",
      " 4   시력(좌)         88404 non-null  float64\n",
      " 5   시력(우)         88405 non-null  float64\n",
      " 6   수축기 혈압        88430 non-null  float64\n",
      " 7   이완기 혈압        88430 non-null  float64\n",
      " 8   식전혈당(공복혈당)    88433 non-null  float64\n",
      " 9   혈청크레아티닌       88433 non-null  float64\n",
      " 10  (혈청지오티)AST    88433 non-null  float64\n",
      " 11  (혈청지오티)ALT    88433 non-null  float64\n",
      " 12  감마 지티피        88433 non-null  float64\n",
      " 13  흡연상태          88400 non-null  float64\n",
      " 14  음주여부          88428 non-null  float64\n",
      "dtypes: float64(12), int64(3)\n",
      "memory usage: 10.1 MB\n"
     ]
    }
   ],
   "source": [
    "df5.drop(columns=['총 콜레스테롤'], inplace=True)\n",
    "df5.info()"
   ]
  },
  {
   "cell_type": "code",
   "execution_count": 105,
   "id": "50f8e991",
   "metadata": {},
   "outputs": [
    {
     "data": {
      "text/plain": [
       "연령대 코드(5세단위)     0\n",
       "신장(5Cm단위)        0\n",
       "체중(5Kg 단위)       0\n",
       "허리둘레             9\n",
       "시력(좌)           29\n",
       "시력(우)           28\n",
       "수축기 혈압           3\n",
       "이완기 혈압           3\n",
       "식전혈당(공복혈당)       0\n",
       "혈청크레아티닌          0\n",
       "(혈청지오티)AST       0\n",
       "(혈청지오티)ALT       0\n",
       "감마 지티피           0\n",
       "흡연상태            33\n",
       "음주여부             5\n",
       "dtype: int64"
      ]
     },
     "execution_count": 105,
     "metadata": {},
     "output_type": "execute_result"
    }
   ],
   "source": [
    "df5.isna().sum()"
   ]
  },
  {
   "cell_type": "markdown",
   "id": "dfce0a9a",
   "metadata": {},
   "source": [
    "## 결측치 : 흡연상태, 음주여부, 허리둘레 결측 행 drop"
   ]
  },
  {
   "cell_type": "code",
   "execution_count": 106,
   "id": "044ea4a6",
   "metadata": {},
   "outputs": [],
   "source": [
    "df6 = df5.copy()"
   ]
  },
  {
   "cell_type": "code",
   "execution_count": 109,
   "id": "e4035123",
   "metadata": {},
   "outputs": [],
   "source": [
    "df6.dropna(subset=['흡연상태', '음주여부', '허리둘레']).isna().sum()\n",
    "df6.dropna(subset=['흡연상태', '음주여부', '허리둘레'], inplace=True)"
   ]
  },
  {
   "cell_type": "code",
   "execution_count": 111,
   "id": "6369063b",
   "metadata": {},
   "outputs": [
    {
     "data": {
      "text/plain": [
       "연령대 코드(5세단위)     0\n",
       "신장(5Cm단위)        0\n",
       "체중(5Kg 단위)       0\n",
       "허리둘레             0\n",
       "시력(좌)           25\n",
       "시력(우)           24\n",
       "수축기 혈압           3\n",
       "이완기 혈압           3\n",
       "식전혈당(공복혈당)       0\n",
       "혈청크레아티닌          0\n",
       "(혈청지오티)AST       0\n",
       "(혈청지오티)ALT       0\n",
       "감마 지티피           0\n",
       "흡연상태             0\n",
       "음주여부             0\n",
       "dtype: int64"
      ]
     },
     "execution_count": 111,
     "metadata": {},
     "output_type": "execute_result"
    }
   ],
   "source": [
    "df6.isna().sum()"
   ]
  },
  {
   "cell_type": "code",
   "execution_count": 113,
   "id": "77eb961d",
   "metadata": {},
   "outputs": [],
   "source": [
    "df6.reset_index(drop=True, inplace=True)"
   ]
  },
  {
   "cell_type": "code",
   "execution_count": 114,
   "id": "379ace93",
   "metadata": {},
   "outputs": [
    {
     "name": "stdout",
     "output_type": "stream",
     "text": [
      "<class 'pandas.core.frame.DataFrame'>\n",
      "RangeIndex: 88388 entries, 0 to 88387\n",
      "Data columns (total 15 columns):\n",
      " #   Column        Non-Null Count  Dtype  \n",
      "---  ------        --------------  -----  \n",
      " 0   연령대 코드(5세단위)  88388 non-null  int64  \n",
      " 1   신장(5Cm단위)     88388 non-null  int64  \n",
      " 2   체중(5Kg 단위)    88388 non-null  int64  \n",
      " 3   허리둘레          88388 non-null  float64\n",
      " 4   시력(좌)         88363 non-null  float64\n",
      " 5   시력(우)         88364 non-null  float64\n",
      " 6   수축기 혈압        88385 non-null  float64\n",
      " 7   이완기 혈압        88385 non-null  float64\n",
      " 8   식전혈당(공복혈당)    88388 non-null  float64\n",
      " 9   혈청크레아티닌       88388 non-null  float64\n",
      " 10  (혈청지오티)AST    88388 non-null  float64\n",
      " 11  (혈청지오티)ALT    88388 non-null  float64\n",
      " 12  감마 지티피        88388 non-null  float64\n",
      " 13  흡연상태          88388 non-null  float64\n",
      " 14  음주여부          88388 non-null  float64\n",
      "dtypes: float64(12), int64(3)\n",
      "memory usage: 10.1 MB\n"
     ]
    }
   ],
   "source": [
    "df6.info()"
   ]
  },
  {
   "cell_type": "code",
   "execution_count": 116,
   "id": "3b4a62fd",
   "metadata": {},
   "outputs": [],
   "source": [
    "df6.drop(columns=['연령대 코드(5세단위)'], inplace=True)"
   ]
  },
  {
   "cell_type": "code",
   "execution_count": 117,
   "id": "5defa475",
   "metadata": {},
   "outputs": [
    {
     "name": "stdout",
     "output_type": "stream",
     "text": [
      "<class 'pandas.core.frame.DataFrame'>\n",
      "RangeIndex: 88388 entries, 0 to 88387\n",
      "Data columns (total 14 columns):\n",
      " #   Column      Non-Null Count  Dtype  \n",
      "---  ------      --------------  -----  \n",
      " 0   신장(5Cm단위)   88388 non-null  int64  \n",
      " 1   체중(5Kg 단위)  88388 non-null  int64  \n",
      " 2   허리둘레        88388 non-null  float64\n",
      " 3   시력(좌)       88363 non-null  float64\n",
      " 4   시력(우)       88364 non-null  float64\n",
      " 5   수축기 혈압      88385 non-null  float64\n",
      " 6   이완기 혈압      88385 non-null  float64\n",
      " 7   식전혈당(공복혈당)  88388 non-null  float64\n",
      " 8   혈청크레아티닌     88388 non-null  float64\n",
      " 9   (혈청지오티)AST  88388 non-null  float64\n",
      " 10  (혈청지오티)ALT  88388 non-null  float64\n",
      " 11  감마 지티피      88388 non-null  float64\n",
      " 12  흡연상태        88388 non-null  float64\n",
      " 13  음주여부        88388 non-null  float64\n",
      "dtypes: float64(12), int64(2)\n",
      "memory usage: 9.4 MB\n"
     ]
    }
   ],
   "source": [
    "df6.info()"
   ]
  },
  {
   "cell_type": "markdown",
   "id": "612e2c6f",
   "metadata": {},
   "source": [
    "## 이상치"
   ]
  },
  {
   "cell_type": "code",
   "execution_count": 122,
   "id": "c0177310",
   "metadata": {},
   "outputs": [
    {
     "data": {
      "text/plain": [
       "(0.0, 300.0)"
      ]
     },
     "execution_count": 122,
     "metadata": {},
     "output_type": "execute_result"
    },
    {
     "data": {
      "image/png": "[encoded data removed]",
      "text/plain": [
       "<Figure size 1440x720 with 1 Axes>"
      ]
     },
     "metadata": {
      "needs_background": "light"
     },
     "output_type": "display_data"
    }
   ],
   "source": [
    "plt.figure(figsize=(20, 10))\n",
    "df6.boxplot()\n",
    "plt.ylim(0, 300)"
   ]
  },
  {
   "cell_type": "markdown",
   "id": "8a062b10",
   "metadata": {},
   "source": [
    "## 이상치 : 신장"
   ]
  },
  {
   "cell_type": "code",
   "execution_count": 123,
   "id": "8fc918fc",
   "metadata": {},
   "outputs": [],
   "source": [
    "df7 = df6.copy()"
   ]
  },
  {
   "cell_type": "code",
   "execution_count": 128,
   "id": "cf03638c",
   "metadata": {},
   "outputs": [
    {
     "data": {
      "text/plain": [
       "<AxesSubplot:>"
      ]
     },
     "execution_count": 128,
     "metadata": {},
     "output_type": "execute_result"
    },
    {
     "data": {
      "image/png": "[encoded data removed]",
      "text/plain": [
       "<Figure size 432x288 with 1 Axes>"
      ]
     },
     "metadata": {
      "needs_background": "light"
     },
     "output_type": "display_data"
    }
   ],
   "source": [
    "df7['신장(5Cm단위)'].hist(range=(140, 200), bins=12)"
   ]
  },
  {
   "cell_type": "code",
   "execution_count": 130,
   "id": "56f06171",
   "metadata": {},
   "outputs": [
    {
     "data": {
      "text/plain": [
       "count    88388.000000\n",
       "mean       171.250283\n",
       "std          5.992735\n",
       "min        130.000000\n",
       "25%        165.000000\n",
       "50%        170.000000\n",
       "75%        175.000000\n",
       "max        195.000000\n",
       "Name: 신장(5Cm단위), dtype: float64"
      ]
     },
     "execution_count": 130,
     "metadata": {},
     "output_type": "execute_result"
    }
   ],
   "source": [
    "desc = df7['신장(5Cm단위)'].describe()\n",
    "desc"
   ]
  },
  {
   "cell_type": "code",
   "execution_count": 131,
   "id": "4cbd0a98",
   "metadata": {},
   "outputs": [
    {
     "name": "stdout",
     "output_type": "stream",
     "text": [
      "165.0 175.0 10.0\n",
      "150.0 190.0\n"
     ]
    }
   ],
   "source": [
    "q1 = desc['25%']\n",
    "q3 = desc['75%']\n",
    "iqr = q3 - q1\n",
    "\n",
    "lw = q1 - iqr*1.5\n",
    "uw = q3 + iqr*1.5\n",
    "\n",
    "print(q1, q3, iqr)\n",
    "print(lw, uw)"
   ]
  },
  {
   "cell_type": "code",
   "execution_count": 136,
   "id": "5b185808",
   "metadata": {},
   "outputs": [
    {
     "data": {
      "text/plain": [
       "Int64Index([ 4089,  5073,  5242, 10100, 15944, 18469, 19451, 20333, 20858,\n",
       "            21934, 22590, 25271, 25670, 26056, 27071, 31006, 31781, 33273,\n",
       "            37747, 38199, 43498, 43634, 47656, 49514, 50992, 51800, 54703,\n",
       "            56567, 59464, 59653, 60638, 61331, 63316, 64568, 64895, 66816,\n",
       "            67375, 67598, 70839, 73203, 73830, 76208, 77418, 78827, 82374,\n",
       "            83498, 87176],\n",
       "           dtype='int64')"
      ]
     },
     "execution_count": 136,
     "metadata": {},
     "output_type": "execute_result"
    }
   ],
   "source": [
    "idx_drop = df7[(df7['신장(5Cm단위)'] > uw) | (df7['신장(5Cm단위)'] < lw)].index\n",
    "idx_drop"
   ]
  },
  {
   "cell_type": "code",
   "execution_count": 137,
   "id": "aeedece2",
   "metadata": {
    "collapsed": true
   },
   "outputs": [
    {
     "data": {
      "text/html": [
       "<div>\n",
       "<style scoped>\n",
       "    .dataframe tbody tr th:only-of-type {\n",
       "        vertical-align: middle;\n",
       "    }\n",
       "\n",
       "    .dataframe tbody tr th {\n",
       "        vertical-align: top;\n",
       "    }\n",
       "\n",
       "    .dataframe thead th {\n",
       "        text-align: right;\n",
       "    }\n",
       "</style>\n",
       "<table border=\"1\" class=\"dataframe\">\n",
       "  <thead>\n",
       "    <tr style=\"text-align: right;\">\n",
       "      <th></th>\n",
       "      <th>신장(5Cm단위)</th>\n",
       "      <th>체중(5Kg 단위)</th>\n",
       "      <th>허리둘레</th>\n",
       "      <th>시력(좌)</th>\n",
       "      <th>시력(우)</th>\n",
       "      <th>수축기 혈압</th>\n",
       "      <th>이완기 혈압</th>\n",
       "      <th>식전혈당(공복혈당)</th>\n",
       "      <th>혈청크레아티닌</th>\n",
       "      <th>(혈청지오티)AST</th>\n",
       "      <th>(혈청지오티)ALT</th>\n",
       "      <th>감마 지티피</th>\n",
       "      <th>흡연상태</th>\n",
       "      <th>음주여부</th>\n",
       "    </tr>\n",
       "  </thead>\n",
       "  <tbody>\n",
       "    <tr>\n",
       "      <th>0</th>\n",
       "      <td>165</td>\n",
       "      <td>60</td>\n",
       "      <td>72.1</td>\n",
       "      <td>1.2</td>\n",
       "      <td>1.5</td>\n",
       "      <td>127.0</td>\n",
       "      <td>79.0</td>\n",
       "      <td>90.0</td>\n",
       "      <td>1.1</td>\n",
       "      <td>21.0</td>\n",
       "      <td>27.0</td>\n",
       "      <td>21.0</td>\n",
       "      <td>1.0</td>\n",
       "      <td>0.0</td>\n",
       "    </tr>\n",
       "    <tr>\n",
       "      <th>1</th>\n",
       "      <td>185</td>\n",
       "      <td>85</td>\n",
       "      <td>94.0</td>\n",
       "      <td>1.2</td>\n",
       "      <td>1.2</td>\n",
       "      <td>114.0</td>\n",
       "      <td>72.0</td>\n",
       "      <td>86.0</td>\n",
       "      <td>1.1</td>\n",
       "      <td>25.0</td>\n",
       "      <td>32.0</td>\n",
       "      <td>26.0</td>\n",
       "      <td>3.0</td>\n",
       "      <td>1.0</td>\n",
       "    </tr>\n",
       "    <tr>\n",
       "      <th>2</th>\n",
       "      <td>165</td>\n",
       "      <td>80</td>\n",
       "      <td>93.0</td>\n",
       "      <td>0.8</td>\n",
       "      <td>0.7</td>\n",
       "      <td>112.0</td>\n",
       "      <td>73.0</td>\n",
       "      <td>250.0</td>\n",
       "      <td>0.7</td>\n",
       "      <td>18.0</td>\n",
       "      <td>20.0</td>\n",
       "      <td>35.0</td>\n",
       "      <td>3.0</td>\n",
       "      <td>1.0</td>\n",
       "    </tr>\n",
       "    <tr>\n",
       "      <th>3</th>\n",
       "      <td>165</td>\n",
       "      <td>55</td>\n",
       "      <td>77.5</td>\n",
       "      <td>1.5</td>\n",
       "      <td>1.5</td>\n",
       "      <td>130.0</td>\n",
       "      <td>70.0</td>\n",
       "      <td>87.0</td>\n",
       "      <td>0.9</td>\n",
       "      <td>18.0</td>\n",
       "      <td>10.0</td>\n",
       "      <td>15.0</td>\n",
       "      <td>1.0</td>\n",
       "      <td>0.0</td>\n",
       "    </tr>\n",
       "    <tr>\n",
       "      <th>4</th>\n",
       "      <td>165</td>\n",
       "      <td>75</td>\n",
       "      <td>84.0</td>\n",
       "      <td>1.0</td>\n",
       "      <td>1.0</td>\n",
       "      <td>139.0</td>\n",
       "      <td>80.0</td>\n",
       "      <td>92.0</td>\n",
       "      <td>0.9</td>\n",
       "      <td>27.0</td>\n",
       "      <td>30.0</td>\n",
       "      <td>25.0</td>\n",
       "      <td>2.0</td>\n",
       "      <td>1.0</td>\n",
       "    </tr>\n",
       "    <tr>\n",
       "      <th>...</th>\n",
       "      <td>...</td>\n",
       "      <td>...</td>\n",
       "      <td>...</td>\n",
       "      <td>...</td>\n",
       "      <td>...</td>\n",
       "      <td>...</td>\n",
       "      <td>...</td>\n",
       "      <td>...</td>\n",
       "      <td>...</td>\n",
       "      <td>...</td>\n",
       "      <td>...</td>\n",
       "      <td>...</td>\n",
       "      <td>...</td>\n",
       "      <td>...</td>\n",
       "    </tr>\n",
       "    <tr>\n",
       "      <th>88383</th>\n",
       "      <td>170</td>\n",
       "      <td>75</td>\n",
       "      <td>89.0</td>\n",
       "      <td>1.5</td>\n",
       "      <td>1.2</td>\n",
       "      <td>124.0</td>\n",
       "      <td>86.0</td>\n",
       "      <td>107.0</td>\n",
       "      <td>1.0</td>\n",
       "      <td>20.0</td>\n",
       "      <td>35.0</td>\n",
       "      <td>34.0</td>\n",
       "      <td>3.0</td>\n",
       "      <td>0.0</td>\n",
       "    </tr>\n",
       "    <tr>\n",
       "      <th>88384</th>\n",
       "      <td>170</td>\n",
       "      <td>90</td>\n",
       "      <td>94.0</td>\n",
       "      <td>1.0</td>\n",
       "      <td>1.0</td>\n",
       "      <td>110.0</td>\n",
       "      <td>78.0</td>\n",
       "      <td>142.0</td>\n",
       "      <td>1.0</td>\n",
       "      <td>28.0</td>\n",
       "      <td>30.0</td>\n",
       "      <td>37.0</td>\n",
       "      <td>2.0</td>\n",
       "      <td>1.0</td>\n",
       "    </tr>\n",
       "    <tr>\n",
       "      <th>88385</th>\n",
       "      <td>165</td>\n",
       "      <td>70</td>\n",
       "      <td>82.0</td>\n",
       "      <td>1.0</td>\n",
       "      <td>1.2</td>\n",
       "      <td>138.0</td>\n",
       "      <td>86.0</td>\n",
       "      <td>104.0</td>\n",
       "      <td>0.9</td>\n",
       "      <td>35.0</td>\n",
       "      <td>46.0</td>\n",
       "      <td>52.0</td>\n",
       "      <td>2.0</td>\n",
       "      <td>1.0</td>\n",
       "    </tr>\n",
       "    <tr>\n",
       "      <th>88386</th>\n",
       "      <td>165</td>\n",
       "      <td>85</td>\n",
       "      <td>101.0</td>\n",
       "      <td>0.9</td>\n",
       "      <td>1.2</td>\n",
       "      <td>158.0</td>\n",
       "      <td>120.0</td>\n",
       "      <td>127.0</td>\n",
       "      <td>0.8</td>\n",
       "      <td>72.0</td>\n",
       "      <td>85.0</td>\n",
       "      <td>82.0</td>\n",
       "      <td>3.0</td>\n",
       "      <td>1.0</td>\n",
       "    </tr>\n",
       "    <tr>\n",
       "      <th>88387</th>\n",
       "      <td>175</td>\n",
       "      <td>70</td>\n",
       "      <td>85.0</td>\n",
       "      <td>1.2</td>\n",
       "      <td>1.2</td>\n",
       "      <td>110.0</td>\n",
       "      <td>64.0</td>\n",
       "      <td>83.0</td>\n",
       "      <td>0.9</td>\n",
       "      <td>26.0</td>\n",
       "      <td>20.0</td>\n",
       "      <td>17.0</td>\n",
       "      <td>1.0</td>\n",
       "      <td>1.0</td>\n",
       "    </tr>\n",
       "  </tbody>\n",
       "</table>\n",
       "<p>88341 rows × 14 columns</p>\n",
       "</div>"
      ],
      "text/plain": [
       "       신장(5Cm단위)  체중(5Kg 단위)   허리둘레  시력(좌)  시력(우)  수축기 혈압  이완기 혈압  식전혈당(공복혈당)  \\\n",
       "0            165          60   72.1    1.2    1.5   127.0    79.0        90.0   \n",
       "1            185          85   94.0    1.2    1.2   114.0    72.0        86.0   \n",
       "2            165          80   93.0    0.8    0.7   112.0    73.0       250.0   \n",
       "3            165          55   77.5    1.5    1.5   130.0    70.0        87.0   \n",
       "4            165          75   84.0    1.0    1.0   139.0    80.0        92.0   \n",
       "...          ...         ...    ...    ...    ...     ...     ...         ...   \n",
       "88383        170          75   89.0    1.5    1.2   124.0    86.0       107.0   \n",
       "88384        170          90   94.0    1.0    1.0   110.0    78.0       142.0   \n",
       "88385        165          70   82.0    1.0    1.2   138.0    86.0       104.0   \n",
       "88386        165          85  101.0    0.9    1.2   158.0   120.0       127.0   \n",
       "88387        175          70   85.0    1.2    1.2   110.0    64.0        83.0   \n",
       "\n",
       "       혈청크레아티닌  (혈청지오티)AST  (혈청지오티)ALT  감마 지티피  흡연상태  음주여부  \n",
       "0          1.1        21.0        27.0    21.0   1.0   0.0  \n",
       "1          1.1        25.0        32.0    26.0   3.0   1.0  \n",
       "2          0.7        18.0        20.0    35.0   3.0   1.0  \n",
       "3          0.9        18.0        10.0    15.0   1.0   0.0  \n",
       "4          0.9        27.0        30.0    25.0   2.0   1.0  \n",
       "...        ...         ...         ...     ...   ...   ...  \n",
       "88383      1.0        20.0        35.0    34.0   3.0   0.0  \n",
       "88384      1.0        28.0        30.0    37.0   2.0   1.0  \n",
       "88385      0.9        35.0        46.0    52.0   2.0   1.0  \n",
       "88386      0.8        72.0        85.0    82.0   3.0   1.0  \n",
       "88387      0.9        26.0        20.0    17.0   1.0   1.0  \n",
       "\n",
       "[88341 rows x 14 columns]"
      ]
     },
     "execution_count": 137,
     "metadata": {},
     "output_type": "execute_result"
    }
   ],
   "source": [
    "df7.drop(index=idx_drop, inplace=True)\n",
    "df7"
   ]
  },
  {
   "cell_type": "code",
   "execution_count": 139,
   "id": "3d70d46f",
   "metadata": {},
   "outputs": [],
   "source": [
    "df7.reset_index(drop=True, inplace=True)"
   ]
  },
  {
   "cell_type": "code",
   "execution_count": 140,
   "id": "c5ef6499",
   "metadata": {},
   "outputs": [
    {
     "data": {
      "text/html": [
       "<div>\n",
       "<style scoped>\n",
       "    .dataframe tbody tr th:only-of-type {\n",
       "        vertical-align: middle;\n",
       "    }\n",
       "\n",
       "    .dataframe tbody tr th {\n",
       "        vertical-align: top;\n",
       "    }\n",
       "\n",
       "    .dataframe thead th {\n",
       "        text-align: right;\n",
       "    }\n",
       "</style>\n",
       "<table border=\"1\" class=\"dataframe\">\n",
       "  <thead>\n",
       "    <tr style=\"text-align: right;\">\n",
       "      <th></th>\n",
       "      <th>신장(5Cm단위)</th>\n",
       "      <th>체중(5Kg 단위)</th>\n",
       "      <th>허리둘레</th>\n",
       "      <th>시력(좌)</th>\n",
       "      <th>시력(우)</th>\n",
       "      <th>수축기 혈압</th>\n",
       "      <th>이완기 혈압</th>\n",
       "      <th>식전혈당(공복혈당)</th>\n",
       "      <th>혈청크레아티닌</th>\n",
       "      <th>(혈청지오티)AST</th>\n",
       "      <th>(혈청지오티)ALT</th>\n",
       "      <th>감마 지티피</th>\n",
       "      <th>흡연상태</th>\n",
       "      <th>음주여부</th>\n",
       "    </tr>\n",
       "  </thead>\n",
       "  <tbody>\n",
       "    <tr>\n",
       "      <th>0</th>\n",
       "      <td>165</td>\n",
       "      <td>60</td>\n",
       "      <td>72.1</td>\n",
       "      <td>1.2</td>\n",
       "      <td>1.5</td>\n",
       "      <td>127.0</td>\n",
       "      <td>79.0</td>\n",
       "      <td>90.0</td>\n",
       "      <td>1.1</td>\n",
       "      <td>21.0</td>\n",
       "      <td>27.0</td>\n",
       "      <td>21.0</td>\n",
       "      <td>1.0</td>\n",
       "      <td>0.0</td>\n",
       "    </tr>\n",
       "    <tr>\n",
       "      <th>1</th>\n",
       "      <td>185</td>\n",
       "      <td>85</td>\n",
       "      <td>94.0</td>\n",
       "      <td>1.2</td>\n",
       "      <td>1.2</td>\n",
       "      <td>114.0</td>\n",
       "      <td>72.0</td>\n",
       "      <td>86.0</td>\n",
       "      <td>1.1</td>\n",
       "      <td>25.0</td>\n",
       "      <td>32.0</td>\n",
       "      <td>26.0</td>\n",
       "      <td>3.0</td>\n",
       "      <td>1.0</td>\n",
       "    </tr>\n",
       "    <tr>\n",
       "      <th>2</th>\n",
       "      <td>165</td>\n",
       "      <td>80</td>\n",
       "      <td>93.0</td>\n",
       "      <td>0.8</td>\n",
       "      <td>0.7</td>\n",
       "      <td>112.0</td>\n",
       "      <td>73.0</td>\n",
       "      <td>250.0</td>\n",
       "      <td>0.7</td>\n",
       "      <td>18.0</td>\n",
       "      <td>20.0</td>\n",
       "      <td>35.0</td>\n",
       "      <td>3.0</td>\n",
       "      <td>1.0</td>\n",
       "    </tr>\n",
       "    <tr>\n",
       "      <th>3</th>\n",
       "      <td>165</td>\n",
       "      <td>55</td>\n",
       "      <td>77.5</td>\n",
       "      <td>1.5</td>\n",
       "      <td>1.5</td>\n",
       "      <td>130.0</td>\n",
       "      <td>70.0</td>\n",
       "      <td>87.0</td>\n",
       "      <td>0.9</td>\n",
       "      <td>18.0</td>\n",
       "      <td>10.0</td>\n",
       "      <td>15.0</td>\n",
       "      <td>1.0</td>\n",
       "      <td>0.0</td>\n",
       "    </tr>\n",
       "    <tr>\n",
       "      <th>4</th>\n",
       "      <td>165</td>\n",
       "      <td>75</td>\n",
       "      <td>84.0</td>\n",
       "      <td>1.0</td>\n",
       "      <td>1.0</td>\n",
       "      <td>139.0</td>\n",
       "      <td>80.0</td>\n",
       "      <td>92.0</td>\n",
       "      <td>0.9</td>\n",
       "      <td>27.0</td>\n",
       "      <td>30.0</td>\n",
       "      <td>25.0</td>\n",
       "      <td>2.0</td>\n",
       "      <td>1.0</td>\n",
       "    </tr>\n",
       "  </tbody>\n",
       "</table>\n",
       "</div>"
      ],
      "text/plain": [
       "   신장(5Cm단위)  체중(5Kg 단위)  허리둘레  시력(좌)  시력(우)  수축기 혈압  이완기 혈압  식전혈당(공복혈당)  \\\n",
       "0        165          60  72.1    1.2    1.5   127.0    79.0        90.0   \n",
       "1        185          85  94.0    1.2    1.2   114.0    72.0        86.0   \n",
       "2        165          80  93.0    0.8    0.7   112.0    73.0       250.0   \n",
       "3        165          55  77.5    1.5    1.5   130.0    70.0        87.0   \n",
       "4        165          75  84.0    1.0    1.0   139.0    80.0        92.0   \n",
       "\n",
       "   혈청크레아티닌  (혈청지오티)AST  (혈청지오티)ALT  감마 지티피  흡연상태  음주여부  \n",
       "0      1.1        21.0        27.0    21.0   1.0   0.0  \n",
       "1      1.1        25.0        32.0    26.0   3.0   1.0  \n",
       "2      0.7        18.0        20.0    35.0   3.0   1.0  \n",
       "3      0.9        18.0        10.0    15.0   1.0   0.0  \n",
       "4      0.9        27.0        30.0    25.0   2.0   1.0  "
      ]
     },
     "execution_count": 140,
     "metadata": {},
     "output_type": "execute_result"
    }
   ],
   "source": [
    "df7.head()"
   ]
  },
  {
   "cell_type": "markdown",
   "id": "cd9e2ef4",
   "metadata": {},
   "source": [
    "## 이상치 : 체중"
   ]
  },
  {
   "cell_type": "code",
   "execution_count": 141,
   "id": "8936497f",
   "metadata": {},
   "outputs": [],
   "source": [
    "df8 = df7.copy()"
   ]
  },
  {
   "cell_type": "code",
   "execution_count": 144,
   "id": "29778f0a",
   "metadata": {},
   "outputs": [
    {
     "data": {
      "text/plain": [
       "<AxesSubplot:>"
      ]
     },
     "execution_count": 144,
     "metadata": {},
     "output_type": "execute_result"
    },
    {
     "data": {
      "image/png": "[encoded data removed]",
      "text/plain": [
       "<Figure size 432x288 with 1 Axes>"
      ]
     },
     "metadata": {
      "needs_background": "light"
     },
     "output_type": "display_data"
    }
   ],
   "source": [
    "df8['체중(5Kg 단위)'].hist(range=(20, 140), bins=24)"
   ]
  },
  {
   "cell_type": "code",
   "execution_count": 151,
   "id": "9a9542ab",
   "metadata": {},
   "outputs": [
    {
     "data": {
      "text/plain": [
       "<AxesSubplot:>"
      ]
     },
     "execution_count": 151,
     "metadata": {},
     "output_type": "execute_result"
    },
    {
     "data": {
      "image/png": "[encoded data removed]",
      "text/plain": [
       "<Figure size 432x288 with 1 Axes>"
      ]
     },
     "metadata": {
      "needs_background": "light"
     },
     "output_type": "display_data"
    }
   ],
   "source": [
    "df8.loc[:, ['체중(5Kg 단위)']].boxplot()"
   ]
  },
  {
   "cell_type": "code",
   "execution_count": 148,
   "id": "86f8049d",
   "metadata": {},
   "outputs": [
    {
     "data": {
      "text/plain": [
       "count    88341.000000\n",
       "mean        75.007245\n",
       "std         12.043237\n",
       "min         30.000000\n",
       "25%         65.000000\n",
       "50%         75.000000\n",
       "75%         80.000000\n",
       "max        135.000000\n",
       "Name: 체중(5Kg 단위), dtype: float64"
      ]
     },
     "execution_count": 148,
     "metadata": {},
     "output_type": "execute_result"
    }
   ],
   "source": [
    "desc = df8['체중(5Kg 단위)'].describe()\n",
    "desc"
   ]
  },
  {
   "cell_type": "code",
   "execution_count": 152,
   "id": "88c363c9",
   "metadata": {},
   "outputs": [
    {
     "name": "stdout",
     "output_type": "stream",
     "text": [
      "65.0 80.0 15.0\n",
      "42.5 102.5\n"
     ]
    }
   ],
   "source": [
    "q1, q3 = desc['25%'], desc['75%']\n",
    "iqr = q3 - q1\n",
    "lw, uw = q1 - iqr*1.5, q3 + iqr*1.5\n",
    "\n",
    "print(q1, q3, iqr)\n",
    "print(lw, uw)"
   ]
  },
  {
   "cell_type": "code",
   "execution_count": 156,
   "id": "2f9e9972",
   "metadata": {},
   "outputs": [
    {
     "data": {
      "text/plain": [
       "Int64Index([   62,   112,   142,   234,   235,   283,   348,   368,   393,\n",
       "              475,\n",
       "            ...\n",
       "            88021, 88035, 88058, 88103, 88135, 88158, 88163, 88225, 88245,\n",
       "            88287],\n",
       "           dtype='int64', length=2127)"
      ]
     },
     "execution_count": 156,
     "metadata": {},
     "output_type": "execute_result"
    }
   ],
   "source": [
    "idx_drop = df8[(df8['체중(5Kg 단위)'] > uw) | (df8['체중(5Kg 단위)'] < lw)].index\n",
    "idx_drop"
   ]
  },
  {
   "cell_type": "code",
   "execution_count": 157,
   "id": "881391e9",
   "metadata": {},
   "outputs": [],
   "source": [
    "df8.drop(index=idx_drop, inplace=True)\n",
    "df8.reset_index(drop=True, inplace=True)"
   ]
  },
  {
   "cell_type": "code",
   "execution_count": 158,
   "id": "b5da94ca",
   "metadata": {},
   "outputs": [
    {
     "name": "stdout",
     "output_type": "stream",
     "text": [
      "<class 'pandas.core.frame.DataFrame'>\n",
      "RangeIndex: 86214 entries, 0 to 86213\n",
      "Data columns (total 14 columns):\n",
      " #   Column      Non-Null Count  Dtype  \n",
      "---  ------      --------------  -----  \n",
      " 0   신장(5Cm단위)   86214 non-null  int64  \n",
      " 1   체중(5Kg 단위)  86214 non-null  int64  \n",
      " 2   허리둘레        86214 non-null  float64\n",
      " 3   시력(좌)       86191 non-null  float64\n",
      " 4   시력(우)       86192 non-null  float64\n",
      " 5   수축기 혈압      86211 non-null  float64\n",
      " 6   이완기 혈압      86211 non-null  float64\n",
      " 7   식전혈당(공복혈당)  86214 non-null  float64\n",
      " 8   혈청크레아티닌     86214 non-null  float64\n",
      " 9   (혈청지오티)AST  86214 non-null  float64\n",
      " 10  (혈청지오티)ALT  86214 non-null  float64\n",
      " 11  감마 지티피      86214 non-null  float64\n",
      " 12  흡연상태        86214 non-null  float64\n",
      " 13  음주여부        86214 non-null  float64\n",
      "dtypes: float64(12), int64(2)\n",
      "memory usage: 9.2 MB\n"
     ]
    }
   ],
   "source": [
    "df8.info()"
   ]
  },
  {
   "cell_type": "markdown",
   "id": "becf40ff",
   "metadata": {},
   "source": [
    "## 이상치 : 허리둘레"
   ]
  },
  {
   "cell_type": "code",
   "execution_count": 159,
   "id": "ae58fa3e",
   "metadata": {},
   "outputs": [],
   "source": [
    "df9 = df8.copy()"
   ]
  },
  {
   "cell_type": "code",
   "execution_count": 163,
   "id": "8f35c04f",
   "metadata": {},
   "outputs": [
    {
     "data": {
      "text/plain": [
       "<AxesSubplot:>"
      ]
     },
     "execution_count": 163,
     "metadata": {},
     "output_type": "execute_result"
    },
    {
     "data": {
      "image/png": "[encoded data removed]",
      "text/plain": [
       "<Figure size 432x288 with 1 Axes>"
      ]
     },
     "metadata": {
      "needs_background": "light"
     },
     "output_type": "display_data"
    }
   ],
   "source": [
    "df9.loc[:, ['허리둘레']].boxplot()"
   ]
  },
  {
   "cell_type": "code",
   "execution_count": 166,
   "id": "31967600",
   "metadata": {},
   "outputs": [
    {
     "data": {
      "text/plain": [
       "<AxesSubplot:>"
      ]
     },
     "execution_count": 166,
     "metadata": {},
     "output_type": "execute_result"
    },
    {
     "data": {
      "image/png": "[encoded data removed]",
      "text/plain": [
       "<Figure size 432x288 with 1 Axes>"
      ]
     },
     "metadata": {
      "needs_background": "light"
     },
     "output_type": "display_data"
    }
   ],
   "source": [
    "df9['허리둘레'].hist(range=(0, 140), bins=28)"
   ]
  },
  {
   "cell_type": "code",
   "execution_count": 167,
   "id": "353393d5",
   "metadata": {},
   "outputs": [
    {
     "data": {
      "text/plain": [
       "count    86214.000000\n",
       "mean        86.240431\n",
       "std          8.165540\n",
       "min          8.200000\n",
       "25%         81.000000\n",
       "50%         86.000000\n",
       "75%         91.400000\n",
       "max        128.800000\n",
       "Name: 허리둘레, dtype: float64"
      ]
     },
     "execution_count": 167,
     "metadata": {},
     "output_type": "execute_result"
    }
   ],
   "source": [
    "desc = df9['허리둘레'].describe()\n",
    "desc"
   ]
  },
  {
   "cell_type": "code",
   "execution_count": 168,
   "id": "3f6b2383",
   "metadata": {},
   "outputs": [
    {
     "name": "stdout",
     "output_type": "stream",
     "text": [
      "81.0 91.4 10.400000000000006\n",
      "65.39999999999999 107.00000000000001\n"
     ]
    }
   ],
   "source": [
    "q1, q3 = desc['25%'], desc['75%']\n",
    "iqr = q3 - q1\n",
    "lw = q1 - iqr*1.5\n",
    "uw = q3 + iqr*1.5\n",
    "print(q1, q3, iqr)\n",
    "print(lw, uw)"
   ]
  },
  {
   "cell_type": "code",
   "execution_count": 172,
   "id": "c3b2bac6",
   "metadata": {},
   "outputs": [],
   "source": [
    "idx_drop = df9[(df9['허리둘레'] > uw) | (df9['허리둘레'] < lw)].index"
   ]
  },
  {
   "cell_type": "code",
   "execution_count": 173,
   "id": "4a2b40db",
   "metadata": {},
   "outputs": [],
   "source": [
    "df9.drop(index=idx_drop, inplace=True)\n",
    "df9.reset_index(drop=True, inplace=True)"
   ]
  },
  {
   "cell_type": "code",
   "execution_count": 174,
   "id": "1a46f891",
   "metadata": {},
   "outputs": [
    {
     "name": "stdout",
     "output_type": "stream",
     "text": [
      "<class 'pandas.core.frame.DataFrame'>\n",
      "RangeIndex: 85281 entries, 0 to 85280\n",
      "Data columns (total 14 columns):\n",
      " #   Column      Non-Null Count  Dtype  \n",
      "---  ------      --------------  -----  \n",
      " 0   신장(5Cm단위)   85281 non-null  int64  \n",
      " 1   체중(5Kg 단위)  85281 non-null  int64  \n",
      " 2   허리둘레        85281 non-null  float64\n",
      " 3   시력(좌)       85258 non-null  float64\n",
      " 4   시력(우)       85259 non-null  float64\n",
      " 5   수축기 혈압      85278 non-null  float64\n",
      " 6   이완기 혈압      85278 non-null  float64\n",
      " 7   식전혈당(공복혈당)  85281 non-null  float64\n",
      " 8   혈청크레아티닌     85281 non-null  float64\n",
      " 9   (혈청지오티)AST  85281 non-null  float64\n",
      " 10  (혈청지오티)ALT  85281 non-null  float64\n",
      " 11  감마 지티피      85281 non-null  float64\n",
      " 12  흡연상태        85281 non-null  float64\n",
      " 13  음주여부        85281 non-null  float64\n",
      "dtypes: float64(12), int64(2)\n",
      "memory usage: 9.1 MB\n"
     ]
    }
   ],
   "source": [
    "df9.info()"
   ]
  },
  {
   "cell_type": "code",
   "execution_count": null,
   "id": "b3a9fb19",
   "metadata": {},
   "outputs": [],
   "source": []
  },
  {
   "cell_type": "code",
   "execution_count": null,
   "id": "321b8816",
   "metadata": {},
   "outputs": [],
   "source": []
  },
  {
   "cell_type": "markdown",
   "id": "8431751b",
   "metadata": {},
   "source": [
    "## 이상치 : 수축기 혈압"
   ]
  },
  {
   "cell_type": "markdown",
   "id": "66643872",
   "metadata": {},
   "source": [
    "### 함수 : drop_outlier"
   ]
  },
  {
   "cell_type": "code",
   "execution_count": 3,
   "id": "7118a659",
   "metadata": {},
   "outputs": [],
   "source": [
    "def drop_outlier(df, col_name):\n",
    "    desc = df[col_name].describe()\n",
    "    q1, q3 = desc['25%'], desc['75%']\n",
    "    iqr = q3 - q1\n",
    "    lw = q1 - iqr*1.5\n",
    "    uw = q3 + iqr*1.5\n",
    "    print(q1, q3, iqr)\n",
    "    print(lw, uw)\n",
    "    idx_drop = df[(df[col_name] > uw) | (df[col_name] < lw)].index\n",
    "    df.drop(index=idx_drop, inplace=True)\n",
    "    df.reset_index(drop=True, inplace=True)\n",
    "    return df"
   ]
  },
  {
   "cell_type": "code",
   "execution_count": 177,
   "id": "3ed40138",
   "metadata": {},
   "outputs": [],
   "source": [
    "df10 = df9.copy()"
   ]
  },
  {
   "cell_type": "code",
   "execution_count": 178,
   "id": "96ef0d06",
   "metadata": {},
   "outputs": [
    {
     "data": {
      "text/plain": [
       "Index(['신장(5Cm단위)', '체중(5Kg 단위)', '허리둘레', '시력(좌)', '시력(우)', '수축기 혈압', '이완기 혈압',\n",
       "       '식전혈당(공복혈당)', '혈청크레아티닌', '(혈청지오티)AST', '(혈청지오티)ALT', '감마 지티피', '흡연상태',\n",
       "       '음주여부'],\n",
       "      dtype='object')"
      ]
     },
     "execution_count": 178,
     "metadata": {},
     "output_type": "execute_result"
    }
   ],
   "source": [
    "df10.columns"
   ]
  },
  {
   "cell_type": "code",
   "execution_count": 181,
   "id": "bc8300eb",
   "metadata": {},
   "outputs": [
    {
     "data": {
      "text/plain": [
       "<AxesSubplot:>"
      ]
     },
     "execution_count": 181,
     "metadata": {},
     "output_type": "execute_result"
    },
    {
     "data": {
      "image/png": "[encoded data removed]",
      "text/plain": [
       "<Figure size 432x288 with 1 Axes>"
      ]
     },
     "metadata": {
      "needs_background": "light"
     },
     "output_type": "display_data"
    }
   ],
   "source": [
    "df10['수축기 혈압'].hist(range=(70, 280), bins=42)"
   ]
  },
  {
   "cell_type": "code",
   "execution_count": 184,
   "id": "82029a3f",
   "metadata": {},
   "outputs": [
    {
     "data": {
      "text/plain": [
       "<AxesSubplot:>"
      ]
     },
     "execution_count": 184,
     "metadata": {},
     "output_type": "execute_result"
    },
    {
     "data": {
      "image/png": "[encoded data removed]",
      "text/plain": [
       "<Figure size 432x288 with 1 Axes>"
      ]
     },
     "metadata": {
      "needs_background": "light"
     },
     "output_type": "display_data"
    }
   ],
   "source": [
    "df10.loc[:, ['수축기 혈압']].boxplot()"
   ]
  },
  {
   "cell_type": "code",
   "execution_count": 185,
   "id": "865b358e",
   "metadata": {},
   "outputs": [
    {
     "name": "stdout",
     "output_type": "stream",
     "text": [
      "<class 'pandas.core.frame.DataFrame'>\n",
      "RangeIndex: 85281 entries, 0 to 85280\n",
      "Data columns (total 14 columns):\n",
      " #   Column      Non-Null Count  Dtype  \n",
      "---  ------      --------------  -----  \n",
      " 0   신장(5Cm단위)   85281 non-null  int64  \n",
      " 1   체중(5Kg 단위)  85281 non-null  int64  \n",
      " 2   허리둘레        85281 non-null  float64\n",
      " 3   시력(좌)       85258 non-null  float64\n",
      " 4   시력(우)       85259 non-null  float64\n",
      " 5   수축기 혈압      85278 non-null  float64\n",
      " 6   이완기 혈압      85278 non-null  float64\n",
      " 7   식전혈당(공복혈당)  85281 non-null  float64\n",
      " 8   혈청크레아티닌     85281 non-null  float64\n",
      " 9   (혈청지오티)AST  85281 non-null  float64\n",
      " 10  (혈청지오티)ALT  85281 non-null  float64\n",
      " 11  감마 지티피      85281 non-null  float64\n",
      " 12  흡연상태        85281 non-null  float64\n",
      " 13  음주여부        85281 non-null  float64\n",
      "dtypes: float64(12), int64(2)\n",
      "memory usage: 9.1 MB\n"
     ]
    }
   ],
   "source": [
    "df10.info()"
   ]
  },
  {
   "cell_type": "code",
   "execution_count": 187,
   "id": "37d0433d",
   "metadata": {},
   "outputs": [
    {
     "name": "stdout",
     "output_type": "stream",
     "text": [
      "116.0 132.0 16.0\n",
      "92.0 156.0\n",
      "<class 'pandas.core.frame.DataFrame'>\n",
      "RangeIndex: 83849 entries, 0 to 83848\n",
      "Data columns (total 14 columns):\n",
      " #   Column      Non-Null Count  Dtype  \n",
      "---  ------      --------------  -----  \n",
      " 0   신장(5Cm단위)   83849 non-null  int64  \n",
      " 1   체중(5Kg 단위)  83849 non-null  int64  \n",
      " 2   허리둘레        83849 non-null  float64\n",
      " 3   시력(좌)       83826 non-null  float64\n",
      " 4   시력(우)       83827 non-null  float64\n",
      " 5   수축기 혈압      83846 non-null  float64\n",
      " 6   이완기 혈압      83846 non-null  float64\n",
      " 7   식전혈당(공복혈당)  83849 non-null  float64\n",
      " 8   혈청크레아티닌     83849 non-null  float64\n",
      " 9   (혈청지오티)AST  83849 non-null  float64\n",
      " 10  (혈청지오티)ALT  83849 non-null  float64\n",
      " 11  감마 지티피      83849 non-null  float64\n",
      " 12  흡연상태        83849 non-null  float64\n",
      " 13  음주여부        83849 non-null  float64\n",
      "dtypes: float64(12), int64(2)\n",
      "memory usage: 9.0 MB\n"
     ]
    }
   ],
   "source": [
    "df10 = drop_outlier(df10, '수축기 혈압')\n",
    "df10.info()"
   ]
  },
  {
   "cell_type": "markdown",
   "id": "35860066",
   "metadata": {},
   "source": [
    "## 이상치 : 이완기 혈압 ~ 감마 지티피"
   ]
  },
  {
   "cell_type": "code",
   "execution_count": 192,
   "id": "bae71ce0",
   "metadata": {},
   "outputs": [],
   "source": [
    "df11 = df10.copy()"
   ]
  },
  {
   "cell_type": "code",
   "execution_count": 193,
   "id": "9d443330",
   "metadata": {},
   "outputs": [
    {
     "name": "stdout",
     "output_type": "stream",
     "text": [
      "이완기 혈압\n",
      "72.0 85.0 13.0\n",
      "52.5 104.5\n",
      "식전혈당(공복혈당)\n",
      "91.0 106.0 15.0\n",
      "68.5 128.5\n",
      "혈청크레아티닌\n",
      "0.8 1.0 0.19999999999999996\n",
      "0.5000000000000001 1.2999999999999998\n",
      "(혈청지오티)AST\n",
      "20.0 31.0 11.0\n",
      "3.5 47.5\n",
      "(혈청지오티)ALT\n",
      "19.0 37.0 18.0\n",
      "-8.0 64.0\n",
      "감마 지티피\n",
      "22.0 51.0 29.0\n",
      "-21.5 94.5\n"
     ]
    }
   ],
   "source": [
    "for col in df10.columns[6:12]:\n",
    "    print(col)\n",
    "    df11 = drop_outlier(df11, col)"
   ]
  },
  {
   "cell_type": "code",
   "execution_count": 194,
   "id": "bd9e21d4",
   "metadata": {},
   "outputs": [
    {
     "name": "stdout",
     "output_type": "stream",
     "text": [
      "<class 'pandas.core.frame.DataFrame'>\n",
      "RangeIndex: 62399 entries, 0 to 62398\n",
      "Data columns (total 14 columns):\n",
      " #   Column      Non-Null Count  Dtype  \n",
      "---  ------      --------------  -----  \n",
      " 0   신장(5Cm단위)   62399 non-null  int64  \n",
      " 1   체중(5Kg 단위)  62399 non-null  int64  \n",
      " 2   허리둘레        62399 non-null  float64\n",
      " 3   시력(좌)       62380 non-null  float64\n",
      " 4   시력(우)       62382 non-null  float64\n",
      " 5   수축기 혈압      62396 non-null  float64\n",
      " 6   이완기 혈압      62396 non-null  float64\n",
      " 7   식전혈당(공복혈당)  62399 non-null  float64\n",
      " 8   혈청크레아티닌     62399 non-null  float64\n",
      " 9   (혈청지오티)AST  62399 non-null  float64\n",
      " 10  (혈청지오티)ALT  62399 non-null  float64\n",
      " 11  감마 지티피      62399 non-null  float64\n",
      " 12  흡연상태        62399 non-null  float64\n",
      " 13  음주여부        62399 non-null  float64\n",
      "dtypes: float64(12), int64(2)\n",
      "memory usage: 6.7 MB\n"
     ]
    }
   ],
   "source": [
    "df11.info()"
   ]
  },
  {
   "cell_type": "raw",
   "id": "56a2edcf",
   "metadata": {},
   "source": [
    "df11.to_pickle('./WHtR_concat/01/reduction_01.pkl')"
   ]
  },
  {
   "cell_type": "markdown",
   "id": "21a54e5f",
   "metadata": {},
   "source": [
    "## 결측치 drop"
   ]
  },
  {
   "cell_type": "code",
   "execution_count": 2,
   "id": "5f2ccf31",
   "metadata": {},
   "outputs": [],
   "source": [
    "df12 = pd.read_pickle('./WHtR_concat/01/reduction_01.pkl')"
   ]
  },
  {
   "cell_type": "code",
   "execution_count": 3,
   "id": "ff7755d4",
   "metadata": {},
   "outputs": [
    {
     "data": {
      "text/plain": [
       "신장(5Cm단위)      0\n",
       "체중(5Kg 단위)     0\n",
       "허리둘레           0\n",
       "시력(좌)         19\n",
       "시력(우)         17\n",
       "수축기 혈압         3\n",
       "이완기 혈압         3\n",
       "식전혈당(공복혈당)     0\n",
       "혈청크레아티닌        0\n",
       "(혈청지오티)AST     0\n",
       "(혈청지오티)ALT     0\n",
       "감마 지티피         0\n",
       "흡연상태           0\n",
       "음주여부           0\n",
       "dtype: int64"
      ]
     },
     "execution_count": 3,
     "metadata": {},
     "output_type": "execute_result"
    }
   ],
   "source": [
    "df12.isna().sum()"
   ]
  },
  {
   "cell_type": "code",
   "execution_count": 4,
   "id": "703c3217",
   "metadata": {},
   "outputs": [],
   "source": [
    "df12.dropna(inplace=True)"
   ]
  },
  {
   "cell_type": "code",
   "execution_count": 5,
   "id": "c0d01241",
   "metadata": {},
   "outputs": [
    {
     "data": {
      "text/plain": [
       "신장(5Cm단위)     0\n",
       "체중(5Kg 단위)    0\n",
       "허리둘레          0\n",
       "시력(좌)         0\n",
       "시력(우)         0\n",
       "수축기 혈압        0\n",
       "이완기 혈압        0\n",
       "식전혈당(공복혈당)    0\n",
       "혈청크레아티닌       0\n",
       "(혈청지오티)AST    0\n",
       "(혈청지오티)ALT    0\n",
       "감마 지티피        0\n",
       "흡연상태          0\n",
       "음주여부          0\n",
       "dtype: int64"
      ]
     },
     "execution_count": 5,
     "metadata": {},
     "output_type": "execute_result"
    }
   ],
   "source": [
    "df12.isna().sum()"
   ]
  },
  {
   "cell_type": "code",
   "execution_count": 7,
   "id": "ae155ff6",
   "metadata": {},
   "outputs": [],
   "source": [
    "df12.reset_index(inplace=True, drop=True)"
   ]
  },
  {
   "cell_type": "raw",
   "id": "25760200",
   "metadata": {},
   "source": [
    "df12.to_pickle('./WHtR_concat/01/reduction_02.pkl')"
   ]
  },
  {
   "cell_type": "code",
   "execution_count": null,
   "id": "dc07b3ee",
   "metadata": {},
   "outputs": [],
   "source": []
  },
  {
   "cell_type": "markdown",
   "id": "20a4a747",
   "metadata": {},
   "source": [
    "# 이상치 : 시력(좌), 시력(우)"
   ]
  },
  {
   "cell_type": "code",
   "execution_count": 2,
   "id": "c0a8e7a8",
   "metadata": {},
   "outputs": [],
   "source": [
    "df13 = pd.read_pickle('./WHtR_concat/01/reduction_02.pkl')"
   ]
  },
  {
   "cell_type": "code",
   "execution_count": 4,
   "id": "a8bf9a8a",
   "metadata": {},
   "outputs": [
    {
     "data": {
      "text/plain": [
       "Index(['신장(5Cm단위)', '체중(5Kg 단위)', '허리둘레', '시력(좌)', '시력(우)', '수축기 혈압', '이완기 혈압',\n",
       "       '식전혈당(공복혈당)', '혈청크레아티닌', '(혈청지오티)AST', '(혈청지오티)ALT', '감마 지티피', '흡연상태',\n",
       "       '음주여부'],\n",
       "      dtype='object')"
      ]
     },
     "execution_count": 4,
     "metadata": {},
     "output_type": "execute_result"
    }
   ],
   "source": [
    "df13.columns"
   ]
  },
  {
   "cell_type": "code",
   "execution_count": 5,
   "id": "01e00500",
   "metadata": {},
   "outputs": [
    {
     "name": "stdout",
     "output_type": "stream",
     "text": [
      "<class 'pandas.core.frame.DataFrame'>\n",
      "RangeIndex: 62377 entries, 0 to 62376\n",
      "Data columns (total 14 columns):\n",
      " #   Column      Non-Null Count  Dtype  \n",
      "---  ------      --------------  -----  \n",
      " 0   신장(5Cm단위)   62377 non-null  int64  \n",
      " 1   체중(5Kg 단위)  62377 non-null  int64  \n",
      " 2   허리둘레        62377 non-null  float64\n",
      " 3   시력(좌)       62377 non-null  float64\n",
      " 4   시력(우)       62377 non-null  float64\n",
      " 5   수축기 혈압      62377 non-null  float64\n",
      " 6   이완기 혈압      62377 non-null  float64\n",
      " 7   식전혈당(공복혈당)  62377 non-null  float64\n",
      " 8   혈청크레아티닌     62377 non-null  float64\n",
      " 9   (혈청지오티)AST  62377 non-null  float64\n",
      " 10  (혈청지오티)ALT  62377 non-null  float64\n",
      " 11  감마 지티피      62377 non-null  float64\n",
      " 12  흡연상태        62377 non-null  float64\n",
      " 13  음주여부        62377 non-null  float64\n",
      "dtypes: float64(12), int64(2)\n",
      "memory usage: 6.7 MB\n"
     ]
    }
   ],
   "source": [
    "df13.info()"
   ]
  },
  {
   "cell_type": "code",
   "execution_count": 6,
   "id": "87083c32",
   "metadata": {},
   "outputs": [
    {
     "name": "stdout",
     "output_type": "stream",
     "text": [
      "0.9 1.2 0.29999999999999993\n",
      "0.4500000000000001 1.65\n",
      "0.9 1.2 0.29999999999999993\n",
      "0.4500000000000001 1.65\n"
     ]
    }
   ],
   "source": [
    "df13 = drop_outlier(df13, '시력(좌)')\n",
    "df13 = drop_outlier(df13, '시력(우)')"
   ]
  },
  {
   "cell_type": "code",
   "execution_count": 7,
   "id": "5d262186",
   "metadata": {},
   "outputs": [
    {
     "name": "stdout",
     "output_type": "stream",
     "text": [
      "<class 'pandas.core.frame.DataFrame'>\n",
      "RangeIndex: 57903 entries, 0 to 57902\n",
      "Data columns (total 14 columns):\n",
      " #   Column      Non-Null Count  Dtype  \n",
      "---  ------      --------------  -----  \n",
      " 0   신장(5Cm단위)   57903 non-null  int64  \n",
      " 1   체중(5Kg 단위)  57903 non-null  int64  \n",
      " 2   허리둘레        57903 non-null  float64\n",
      " 3   시력(좌)       57903 non-null  float64\n",
      " 4   시력(우)       57903 non-null  float64\n",
      " 5   수축기 혈압      57903 non-null  float64\n",
      " 6   이완기 혈압      57903 non-null  float64\n",
      " 7   식전혈당(공복혈당)  57903 non-null  float64\n",
      " 8   혈청크레아티닌     57903 non-null  float64\n",
      " 9   (혈청지오티)AST  57903 non-null  float64\n",
      " 10  (혈청지오티)ALT  57903 non-null  float64\n",
      " 11  감마 지티피      57903 non-null  float64\n",
      " 12  흡연상태        57903 non-null  float64\n",
      " 13  음주여부        57903 non-null  float64\n",
      "dtypes: float64(12), int64(2)\n",
      "memory usage: 6.2 MB\n"
     ]
    }
   ],
   "source": [
    "df13.info()"
   ]
  },
  {
   "cell_type": "raw",
   "id": "9abd862b",
   "metadata": {},
   "source": [
    "df13.to_pickle('./WHtR_concat/01/reduction_03.pkl')"
   ]
  },
  {
   "cell_type": "code",
   "execution_count": null,
   "id": "392f92f5",
   "metadata": {},
   "outputs": [],
   "source": []
  },
  {
   "cell_type": "code",
   "execution_count": null,
   "id": "0d8e72a6",
   "metadata": {},
   "outputs": [],
   "source": []
  },
  {
   "cell_type": "markdown",
   "id": "4bd07b09",
   "metadata": {},
   "source": [
    "# 그룹화에 사용 가능 컬럼 선정"
   ]
  },
  {
   "cell_type": "code",
   "execution_count": null,
   "id": "5b957aba",
   "metadata": {},
   "outputs": [],
   "source": []
  },
  {
   "cell_type": "code",
   "execution_count": null,
   "id": "5fa2b4fc",
   "metadata": {},
   "outputs": [],
   "source": []
  },
  {
   "cell_type": "code",
   "execution_count": null,
   "id": "08f37469",
   "metadata": {},
   "outputs": [],
   "source": []
  },
  {
   "cell_type": "code",
   "execution_count": null,
   "id": "8dce6291",
   "metadata": {},
   "outputs": [],
   "source": []
  },
  {
   "cell_type": "code",
   "execution_count": null,
   "id": "62ed39ab",
   "metadata": {},
   "outputs": [],
   "source": []
  },
  {
   "cell_type": "code",
   "execution_count": null,
   "id": "f31de0ba",
   "metadata": {},
   "outputs": [],
   "source": []
  },
  {
   "cell_type": "code",
   "execution_count": null,
   "id": "85034bd7",
   "metadata": {},
   "outputs": [],
   "source": []
  },
  {
   "cell_type": "code",
   "execution_count": null,
   "id": "ddc29964",
   "metadata": {},
   "outputs": [],
   "source": []
  },
  {
   "cell_type": "code",
   "execution_count": null,
   "id": "38f21aec",
   "metadata": {},
   "outputs": [],
   "source": []
  },
  {
   "cell_type": "code",
   "execution_count": null,
   "id": "8a5e1bed",
   "metadata": {},
   "outputs": [],
   "source": []
  },
  {
   "cell_type": "code",
   "execution_count": null,
   "id": "062dc27d",
   "metadata": {},
   "outputs": [],
   "source": []
  },
  {
   "cell_type": "code",
   "execution_count": null,
   "id": "02b81b66",
   "metadata": {},
   "outputs": [],
   "source": []
  },
  {
   "cell_type": "code",
   "execution_count": null,
   "id": "b094a4a9",
   "metadata": {},
   "outputs": [],
   "source": []
  }
 ],
 "metadata": {
  "kernelspec": {
   "display_name": "Python 3 (ipykernel)",
   "language": "python",
   "name": "python3"
  },
  "language_info": {
   "codemirror_mode": {
    "name": "ipython",
    "version": 3
   },
   "file_extension": ".py",
   "mimetype": "text/x-python",
   "name": "python",
   "nbconvert_exporter": "python",
   "pygments_lexer": "ipython3",
   "version": "3.8.13"
  },
  "toc": {
   "base_numbering": 1,
   "nav_menu": {},
   "number_sections": true,
   "sideBar": true,
   "skip_h1_title": false,
   "title_cell": "Table of Contents",
   "title_sidebar": "Contents",
   "toc_cell": false,
   "toc_position": {
    "height": "calc(100% - 180px)",
    "left": "10px",
    "top": "150px",
    "width": "293.622px"
   },
   "toc_section_display": true,
   "toc_window_display": true
  }
 },
 "nbformat": 4,
 "nbformat_minor": 5
}
